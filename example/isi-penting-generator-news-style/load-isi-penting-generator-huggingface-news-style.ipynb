{
 "cells": [
  {
   "cell_type": "markdown",
   "metadata": {},
   "source": [
    "# Isi Penting Generator HuggingFace news style"
   ]
  },
  {
   "cell_type": "markdown",
   "metadata": {},
   "source": [
    "Generate a long text with news style given isi penting (important facts)."
   ]
  },
  {
   "cell_type": "markdown",
   "metadata": {},
   "source": [
    "<div class=\"alert alert-info\">\n",
    "\n",
    "This tutorial is available as an IPython notebook at [Malaya/example/isi-penting-generator-huggingface-news-style](https://github.com/huseinzol05/Malaya/tree/master/example/isi-penting-generator-huggingface-news-style).\n",
    "    \n",
    "</div>"
   ]
  },
  {
   "cell_type": "markdown",
   "metadata": {},
   "source": [
    "<div class=\"alert alert-warning\">\n",
    "\n",
    "Results generated using stochastic methods.\n",
    "    \n",
    "</div>"
   ]
  },
  {
   "cell_type": "code",
   "execution_count": 1,
   "metadata": {},
   "outputs": [
    {
     "name": "stderr",
     "output_type": "stream",
     "text": [
      "/home/husein/dev/malaya/malaya/tokenizer.py:208: FutureWarning: Possible nested set at position 3386\n",
      "  self.tok = re.compile(r'({})'.format('|'.join(pipeline)))\n",
      "/home/husein/dev/malaya/malaya/tokenizer.py:208: FutureWarning: Possible nested set at position 3904\n",
      "  self.tok = re.compile(r'({})'.format('|'.join(pipeline)))\n"
     ]
    },
    {
     "name": "stdout",
     "output_type": "stream",
     "text": [
      "CPU times: user 3.21 s, sys: 3.44 s, total: 6.64 s\n",
      "Wall time: 2.3 s\n"
     ]
    }
   ],
   "source": [
    "%%time\n",
    "import malaya\n",
    "from pprint import pprint"
   ]
  },
  {
   "cell_type": "markdown",
   "metadata": {},
   "source": [
    "### List available HuggingFace"
   ]
  },
  {
   "cell_type": "code",
   "execution_count": 2,
   "metadata": {},
   "outputs": [
    {
     "data": {
      "text/html": [
       "<div>\n",
       "<style scoped>\n",
       "    .dataframe tbody tr th:only-of-type {\n",
       "        vertical-align: middle;\n",
       "    }\n",
       "\n",
       "    .dataframe tbody tr th {\n",
       "        vertical-align: top;\n",
       "    }\n",
       "\n",
       "    .dataframe thead th {\n",
       "        text-align: right;\n",
       "    }\n",
       "</style>\n",
       "<table border=\"1\" class=\"dataframe\">\n",
       "  <thead>\n",
       "    <tr style=\"text-align: right;\">\n",
       "      <th></th>\n",
       "      <th>Size (MB)</th>\n",
       "      <th>ROUGE-1</th>\n",
       "      <th>ROUGE-2</th>\n",
       "      <th>ROUGE-L</th>\n",
       "      <th>Suggested length</th>\n",
       "    </tr>\n",
       "  </thead>\n",
       "  <tbody>\n",
       "    <tr>\n",
       "      <th>mesolitica/finetune-isi-penting-generator-t5-small-standard-bahasa-cased</th>\n",
       "      <td>242.0</td>\n",
       "      <td>0.246203</td>\n",
       "      <td>0.058961</td>\n",
       "      <td>0.15159</td>\n",
       "      <td>1024.0</td>\n",
       "    </tr>\n",
       "    <tr>\n",
       "      <th>mesolitica/finetune-isi-penting-generator-t5-base-standard-bahasa-cased</th>\n",
       "      <td>892.0</td>\n",
       "      <td>0.246203</td>\n",
       "      <td>0.058961</td>\n",
       "      <td>0.15159</td>\n",
       "      <td>1024.0</td>\n",
       "    </tr>\n",
       "  </tbody>\n",
       "</table>\n",
       "</div>"
      ],
      "text/plain": [
       "                                                    Size (MB)   ROUGE-1  \\\n",
       "mesolitica/finetune-isi-penting-generator-t5-sm...      242.0  0.246203   \n",
       "mesolitica/finetune-isi-penting-generator-t5-ba...      892.0  0.246203   \n",
       "\n",
       "                                                     ROUGE-2  ROUGE-L  \\\n",
       "mesolitica/finetune-isi-penting-generator-t5-sm...  0.058961  0.15159   \n",
       "mesolitica/finetune-isi-penting-generator-t5-ba...  0.058961  0.15159   \n",
       "\n",
       "                                                    Suggested length  \n",
       "mesolitica/finetune-isi-penting-generator-t5-sm...            1024.0  \n",
       "mesolitica/finetune-isi-penting-generator-t5-ba...            1024.0  "
      ]
     },
     "execution_count": 2,
     "metadata": {},
     "output_type": "execute_result"
    }
   ],
   "source": [
    "malaya.generator.isi_penting.available_huggingface()"
   ]
  },
  {
   "cell_type": "markdown",
   "metadata": {},
   "source": [
    "### Load HuggingFace\n",
    "\n",
    "Transformer Generator in Malaya is quite unique, most of the text generative model we found on the internet like GPT2 or Markov, simply just continue prefix input from user, but not for Transformer Generator. We want to generate an article or karangan like high school when the users give 'isi penting'.\n",
    "\n",
    "```python\n",
    "def huggingface(model: str = 'mesolitica/finetune-isi-penting-generator-t5-base-standard-bahasa-cased', **kwargs):\n",
    "    \"\"\"\n",
    "    Load HuggingFace model to generate text based on isi penting.\n",
    "\n",
    "    Parameters\n",
    "    ----------\n",
    "    model: str, optional (default='mesolitica/finetune-isi-penting-generator-t5-base-standard-bahasa-cased')\n",
    "        Check available models at `malaya.generator.isi_penting.available_huggingface()`.\n",
    "\n",
    "    Returns\n",
    "    -------\n",
    "    result: malaya.torch_model.huggingface.IsiPentingGenerator\n",
    "    \"\"\"\n",
    "```"
   ]
  },
  {
   "cell_type": "code",
   "execution_count": 3,
   "metadata": {},
   "outputs": [],
   "source": [
    "model = malaya.generator.isi_penting.huggingface()"
   ]
  },
  {
   "cell_type": "markdown",
   "metadata": {},
   "source": [
    "#### generate\n",
    "\n",
    "```python\n",
    "def generate(\n",
    "    self,\n",
    "    strings: List[str],\n",
    "    mode: str = 'surat-khabar',\n",
    "    **kwargs,\n",
    "):\n",
    "    \"\"\"\n",
    "    generate a long text given a isi penting.\n",
    "\n",
    "    Parameters\n",
    "    ----------\n",
    "    strings : List[str]\n",
    "    mode: str, optional (default='surat-khabar')\n",
    "        Mode supported. Allowed values:\n",
    "\n",
    "        * ``'surat-khabar'`` - news style writing.\n",
    "        * ``'tajuk-surat-khabar'`` - headline news style writing.\n",
    "        * ``'artikel'`` - article style writing.\n",
    "        * ``'penerangan-produk'`` - product description style writing.\n",
    "        * ``'karangan'`` - karangan sekolah style writing.\n",
    "\n",
    "    **kwargs: vector arguments pass to huggingface `generate` method.\n",
    "        Read more at https://huggingface.co/docs/transformers/main_classes/text_generation\n",
    "\n",
    "    Returns\n",
    "    -------\n",
    "    result: List[str]\n",
    "    \"\"\"\n",
    "```"
   ]
  },
  {
   "cell_type": "markdown",
   "metadata": {},
   "source": [
    "### Good thing about HuggingFace\n",
    "\n",
    "In `generate` method, you can do greedy, beam, sampling, nucleus decoder and so much more, read it at https://huggingface.co/blog/how-to-generate\n",
    "\n",
    "And recently, huggingface released https://huggingface.co/blog/introducing-csearch"
   ]
  },
  {
   "cell_type": "code",
   "execution_count": 4,
   "metadata": {},
   "outputs": [],
   "source": [
    "isi_penting = ['Dr M perlu dikekalkan sebagai perdana menteri',\n",
    "              'Muhyiddin perlulah menolong Dr M',\n",
    "              'rakyat perlu menolong Muhyiddin']"
   ]
  },
  {
   "cell_type": "code",
   "execution_count": 5,
   "metadata": {},
   "outputs": [
    {
     "name": "stderr",
     "output_type": "stream",
     "text": [
      "You're using a T5TokenizerFast tokenizer. Please note that with a fast tokenizer, using the `__call__` method is faster than using a method to encode the text followed by a call to the `pad` method to get a padded encoding.\n"
     ]
    },
    {
     "name": "stdout",
     "output_type": "stream",
     "text": [
      "['Tan Sri Muhyiddin Yassin harus menggalas tanggungjawab sebagai perdana '\n",
      " 'menteri yang mempunyai majoriti lebih besar daripada Datuk Seri Ismail Sabri '\n",
      " 'Yaakob bagi memastikan peralihan kuasa dalam kerajaan diadakan. Menteri '\n",
      " 'Komunikasi dan Multimedia, Tan Sri Annuar Musa yang mengakui mengakui '\n",
      " 'perkara itu berkata, Muhyiddin perlulah membantu Dr M. Muhyiddin untuk '\n",
      " 'memastikan semua Ahli Parlimen akan menyokong dan memberi kepercayaan '\n",
      " 'kepadanya untuk menguruskan hal negara dengan baik. Beliau turut menegaskan, '\n",
      " 'jika perdana menteri berjaya mengemudi negara, beliau akan menjalankan tugas '\n",
      " 'seperti biasa. \"Janganlah kita bercakap tentang pelantikan perdana menteri '\n",
      " 'tetapi untuk mengekalkan kuasa seperti mana perdana menteri lain, apa yang '\n",
      " 'boleh dibuat oleh Muhyiddin adalah memimpin negara itu kerana beliau tidak '\n",
      " 'boleh memilih dalam Pilihan Raya Umum ke-15 (PRU15) atau Pilihan Raya Negeri '\n",
      " '(PRN) Johor. \"Bagi Dr M, dia mempunyai majoriti yang lebih besar daripada '\n",
      " 'dia. \"Oleh kerana ada ramai anggota Parlimen dari PH, saya boleh menasihati '\n",
      " 'beliau untuk (meletakkan jawatan) kepada saya. \"Jangan (perlu) meletakkan '\n",
      " 'jawatan dengan segera. Beliau mesti memainkan peranan sebagai perdana '\n",
      " 'menteri tetapi sekiranya beliau tidak dapat memastikan parti-parti PH boleh '\n",
      " 'menyokong beliau, kita boleh memberikan kepercayaan kepadanya,\" katanya '\n",
      " 'dalam satu hantaran di akaun Twitter rasminya pada Sabtu. Muhyiddin berkata '\n",
      " 'demikian sebagai respons terhadap kenyataannya pada Sabtu yang berkata '\n",
      " 'Muhyiddin perlu']\n"
     ]
    }
   ],
   "source": [
    "pprint(model.generate(isi_penting, mode = 'surat-khabar',\n",
    "    do_sample=True, \n",
    "    max_length=256, \n",
    "    top_k=50, \n",
    "    top_p=0.95,))"
   ]
  },
  {
   "cell_type": "code",
   "execution_count": 6,
   "metadata": {},
   "outputs": [
    {
     "name": "stdout",
     "output_type": "stream",
     "text": [
      "['KUALA LUMPUR:Perdana Menteri, Tan Sri Muhyiddin Yassin perlu dikekalkan '\n",
      " 'sebagai perdana menteri, kata Ahli Parlimen Muar, Syed Saddiq Syed Abdul '\n",
      " 'Rahman. Menurut Ahli Parlimen Muar itu lagi, Muhyiddin perlulah menolong Dr '\n",
      " 'M. \"Rakyat perlu menolong beliau. Beliau haruslah bertanggungjawab kepada Dr '\n",
      " 'M. \"Janganlah kita (kerajaan) tidak boleh membantu beliau. \"Beliau mesti '\n",
      " 'bertanggungjawab,\" katanya dalam satu video yang dimuat naik di laman '\n",
      " 'Twitternya. Syed Saddiq yang juga bekas Ahli Parlimen Muar berkata, beliau '\n",
      " 'sendiri akan memastikan Dr Mahathir kekal sebagai perdana menteri. \"Saya '\n",
      " 'akan pastikan beliau kekal sebagai perdana menteri,\" katanya lagi.']\n"
     ]
    }
   ],
   "source": [
    "pprint(model.generate(isi_penting, mode = 'surat-khabar',\n",
    "    do_sample=True, \n",
    "    max_length=256, \n",
    "    penalty_alpha=0.8, top_k=4,))"
   ]
  },
  {
   "cell_type": "code",
   "execution_count": 7,
   "metadata": {},
   "outputs": [],
   "source": [
    "isi_penting = ['Neelofa tetap dengan keputusan untuk berkahwin akhir tahun ini',\n",
    "              'Long Tiger sanggup membantu Neelofa',\n",
    "              'Tiba-tiba Long Tiger bergaduh dengan Husein Zolkepli']"
   ]
  },
  {
   "cell_type": "markdown",
   "metadata": {},
   "source": [
    "We also can give any isi penting even does not make any sense."
   ]
  },
  {
   "cell_type": "code",
   "execution_count": 8,
   "metadata": {},
   "outputs": [
    {
     "name": "stdout",
     "output_type": "stream",
     "text": [
      "['\"SAYA minta maaf apabila sudah tak boleh berkahwin,\" kata pelakon dan '\n",
      " 'pengacara Neelofa, 26. Neelofa tetap dengan keputusannya untuk mengahwini '\n",
      " 'lelaki pilihannya, Muhammad Husein Zolkepli, 21 bulan. Katanya, apa yang '\n",
      " 'berlaku adalah kerana masalah peribadi yang dihadapi dengan dirinya sejak '\n",
      " 'kebelakangan ini. \"Bukan sebab saya berkahwin, tetapi saya dah lama tidak '\n",
      " 'berkahwin. Jadi, saya tetap dengan keputusan untuk berkahwin akhir tahun '\n",
      " 'ini. \"Saya bersyukur kerana pada awalnya saya sanggup membantu Neelofa. '\n",
      " 'Tiba-tiba Long Tiger (nama fandom Neelofa) bergaduh dengan Husein. \"Sebaik '\n",
      " 'menerima surat kahwin, dia dah suruh saya pikul tanggungjawab. Saya minta '\n",
      " 'maaf kerana sudah tidak boleh buat. \"Saya minta maaf kerana sudah tak boleh '\n",
      " 'berkahwin. Sebaik menerima surat kahwin saya terus pikul tanggungjawab. '\n",
      " '\"Sebaik menerima surat kahwin, dia akan cakap tak mengapa. Saya tak ada '\n",
      " 'masalah pun,\" katanya kepada Harian Metro. Sementara itu, Neelofa '\n",
      " 'menjelaskan dia pernah berjumpa suami pertamanya sebelum ini dan mempunyai '\n",
      " 'masalah peribadi. \"Maklumat saya dan isteri memang saya bertemu sejak '\n",
      " 'berusia sembilan tahun dan dia sangat']\n"
     ]
    }
   ],
   "source": [
    "pprint(model.generate(isi_penting, do_sample=True,\n",
    "    max_length=256,\n",
    "    top_k=50, \n",
    "    top_p=0.9, ))"
   ]
  },
  {
   "cell_type": "code",
   "execution_count": 9,
   "metadata": {},
   "outputs": [
    {
     "name": "stdout",
     "output_type": "stream",
     "text": [
      "['PELAKON dan pengacara Neelofa tetap dengan keputusan untuk berkahwin akhir '\n",
      " 'tahun ini selepas berkahwin pada tahun lalu. Namun, Neelofa atau nama '\n",
      " 'sebenarnya, Nur Neelofa Mohd Noor, 25, memilih untuk tidak bernikah kerana '\n",
      " 'terlalu sibuk dengan urusan keluarga. \"Saya tidak boleh berkahwin kerana '\n",
      " 'sibuk dengan hal keluarga. \"Saya juga tidak mahu berkahwin kerana terlalu '\n",
      " 'sibuk menguruskan keluarga dan tidak mempunyai wang untuk melangsungkan '\n",
      " 'perkahwinan. \"Saya tidak mahu berkahwin lagi kerana bimbang akan berlaku '\n",
      " 'perkara yang tidak diingini. \"Saya juga tidak mempunyai sebarang masalah '\n",
      " 'dengan keluarga dan tidak pernah berjumpa keluarga. \"Apapun, saya tetap '\n",
      " 'dengan keputusan untuk berkahwin,\" katanya kepada BH Online. Tiba-tiba Long '\n",
      " 'Tiger bergaduh dengan Husein Zolkepli. \"Saya tidak pernah berjumpa pun, '\n",
      " 'malah ada juga berjumpa dengan isteri saya. \"Namun, saya tetap bergaduh '\n",
      " 'dengan lelaki yang saya kenali sejak dulu lagi. \"Saya juga tidak mahu lagi '\n",
      " 'bergaduh dengan suami kerana takut akan perkara yang tidak diingini,\" '\n",
      " 'ujarnya. Neelofa dan Husein mendirikan rumah tangga pada tahun 2016 dan '\n",
      " 'dikurniakan dua orang cahaya mata, Jebat Jayden, 2 tahun, dan Aaisyah Dhia '\n",
      " 'Rana, 2 tahun.']\n"
     ]
    }
   ],
   "source": [
    "pprint(model.generate(isi_penting, mode = 'surat-khabar',\n",
    "    do_sample=True, \n",
    "    max_length=256, \n",
    "    penalty_alpha=0.8, top_k=4,))"
   ]
  }
 ],
 "metadata": {
  "kernelspec": {
   "display_name": "Python 3 (ipykernel)",
   "language": "python",
   "name": "python3"
  },
  "language_info": {
   "codemirror_mode": {
    "name": "ipython",
    "version": 3
   },
   "file_extension": ".py",
   "mimetype": "text/x-python",
   "name": "python",
   "nbconvert_exporter": "python",
   "pygments_lexer": "ipython3",
   "version": "3.8.10"
  },
  "varInspector": {
   "cols": {
    "lenName": 16,
    "lenType": 16,
    "lenVar": 40
   },
   "kernels_config": {
    "python": {
     "delete_cmd_postfix": "",
     "delete_cmd_prefix": "del ",
     "library": "var_list.py",
     "varRefreshCmd": "print(var_dic_list())"
    },
    "r": {
     "delete_cmd_postfix": ") ",
     "delete_cmd_prefix": "rm(",
     "library": "var_list.r",
     "varRefreshCmd": "cat(var_dic_list()) "
    }
   },
   "types_to_exclude": [
    "module",
    "function",
    "builtin_function_or_method",
    "instance",
    "_Feature"
   ],
   "window_display": false
  }
 },
 "nbformat": 4,
 "nbformat_minor": 2
}
