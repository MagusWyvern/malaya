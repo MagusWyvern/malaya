{
 "cells": [
  {
   "cell_type": "markdown",
   "metadata": {},
   "source": [
    "# HuggingFace"
   ]
  },
  {
   "cell_type": "markdown",
   "metadata": {},
   "source": [
    "<div class=\"alert alert-info\">\n",
    "\n",
    "This tutorial is available as an IPython notebook at [Malaya/example/translation-huggingface](https://github.com/huseinzol05/Malaya/tree/master/example/translation-huggingface).\n",
    "    \n",
    "</div>"
   ]
  },
  {
   "cell_type": "markdown",
   "metadata": {},
   "source": [
    "<div class=\"alert alert-info\">\n",
    "\n",
    "This module trained on both standard and local (included social media) language structures, so it is save to use for both.\n",
    "    \n",
    "</div>"
   ]
  },
  {
   "cell_type": "code",
   "execution_count": 1,
   "metadata": {},
   "outputs": [],
   "source": [
    "import os\n",
    "\n",
    "os.environ['CUDA_VISIBLE_DEVICES'] = ''"
   ]
  },
  {
   "cell_type": "code",
   "execution_count": 2,
   "metadata": {
    "scrolled": true
   },
   "outputs": [
    {
     "name": "stderr",
     "output_type": "stream",
     "text": [
      "Cannot import beam_search_ops from Tensorflow 1, ['malaya.jawi_rumi.deep_model', 'malaya.phoneme.deep_model', 'malaya.rumi_jawi.deep_model', 'malaya.stem.deep_model'] for stemmer will not available to use, make sure Tensorflow 1 version >= 1.15\n"
     ]
    },
    {
     "name": "stdout",
     "output_type": "stream",
     "text": [
      "CPU times: user 4.94 s, sys: 3.31 s, total: 8.25 s\n",
      "Wall time: 4.35 s\n"
     ]
    }
   ],
   "source": [
    "%%time\n",
    "\n",
    "import malaya\n",
    "import logging\n",
    "\n",
    "logging.basicConfig(level=logging.INFO)"
   ]
  },
  {
   "cell_type": "markdown",
   "metadata": {},
   "source": [
    "### List available HuggingFace models"
   ]
  },
  {
   "cell_type": "code",
   "execution_count": 3,
   "metadata": {
    "scrolled": true
   },
   "outputs": [
    {
     "name": "stderr",
     "output_type": "stream",
     "text": [
      "INFO:malaya.translation:tested on FLORES200 pair `dev` set, https://github.com/huseinzol05/malay-dataset/tree/master/translation/flores200-eval\n",
      "INFO:malaya.translation:tested on noisy test set, https://github.com/huseinzol05/malay-dataset/tree/master/translation/noisy-eval\n",
      "INFO:malaya.translation:check out NLLB 200 metrics from `malaya.translation.nllb_metrics`.\n",
      "INFO:malaya.translation:check out Google Translate metrics from `malaya.translation.google_translate_metrics`.\n"
     ]
    },
    {
     "data": {
      "text/html": [
       "<div>\n",
       "<style scoped>\n",
       "    .dataframe tbody tr th:only-of-type {\n",
       "        vertical-align: middle;\n",
       "    }\n",
       "\n",
       "    .dataframe tbody tr th {\n",
       "        vertical-align: top;\n",
       "    }\n",
       "\n",
       "    .dataframe thead th {\n",
       "        text-align: right;\n",
       "    }\n",
       "</style>\n",
       "<table border=\"1\" class=\"dataframe\">\n",
       "  <thead>\n",
       "    <tr style=\"text-align: right;\">\n",
       "      <th></th>\n",
       "      <th>Size (MB)</th>\n",
       "      <th>Suggested length</th>\n",
       "      <th>en-ms chrF2++</th>\n",
       "      <th>ms-en chrF2++</th>\n",
       "      <th>pasar ms-ms chrF2++</th>\n",
       "      <th>pasar ms-en chrF2++</th>\n",
       "      <th>from lang</th>\n",
       "      <th>to lang</th>\n",
       "      <th>old model</th>\n",
       "      <th>ind-ms chrF2++</th>\n",
       "      <th>jav-ms chrF2++</th>\n",
       "      <th>manglish-ms chrF2++</th>\n",
       "      <th>manglish-en chrF2++</th>\n",
       "    </tr>\n",
       "  </thead>\n",
       "  <tbody>\n",
       "    <tr>\n",
       "      <th>mesolitica/finetune-noisy-translation-t5-tiny-bahasa-cased-v3</th>\n",
       "      <td>139</td>\n",
       "      <td>1024</td>\n",
       "      <td>43.937298</td>\n",
       "      <td>43.937298</td>\n",
       "      <td>43.937298</td>\n",
       "      <td>43.937298</td>\n",
       "      <td>[en, ms, pasar ms]</td>\n",
       "      <td>[ms, en]</td>\n",
       "      <td>True</td>\n",
       "      <td>NaN</td>\n",
       "      <td>NaN</td>\n",
       "      <td>NaN</td>\n",
       "      <td>NaN</td>\n",
       "    </tr>\n",
       "    <tr>\n",
       "      <th>mesolitica/finetune-noisy-translation-t5-small-bahasa-cased-v3</th>\n",
       "      <td>242</td>\n",
       "      <td>1024</td>\n",
       "      <td>43.937298</td>\n",
       "      <td>43.937298</td>\n",
       "      <td>43.937298</td>\n",
       "      <td>43.937298</td>\n",
       "      <td>[en, ms, pasar ms]</td>\n",
       "      <td>[ms, en]</td>\n",
       "      <td>True</td>\n",
       "      <td>NaN</td>\n",
       "      <td>NaN</td>\n",
       "      <td>NaN</td>\n",
       "      <td>NaN</td>\n",
       "    </tr>\n",
       "    <tr>\n",
       "      <th>mesolitica/finetune-noisy-translation-t5-base-bahasa-cased-v3</th>\n",
       "      <td>892</td>\n",
       "      <td>1024</td>\n",
       "      <td>43.937298</td>\n",
       "      <td>43.937298</td>\n",
       "      <td>43.937298</td>\n",
       "      <td>43.937298</td>\n",
       "      <td>[en, ms, pasar ms]</td>\n",
       "      <td>[ms, en]</td>\n",
       "      <td>True</td>\n",
       "      <td>NaN</td>\n",
       "      <td>NaN</td>\n",
       "      <td>NaN</td>\n",
       "      <td>NaN</td>\n",
       "    </tr>\n",
       "    <tr>\n",
       "      <th>mesolitica/translation-t5-tiny-standard-bahasa-cased</th>\n",
       "      <td>139</td>\n",
       "      <td>1536</td>\n",
       "      <td>43.937298</td>\n",
       "      <td>43.937298</td>\n",
       "      <td>43.937298</td>\n",
       "      <td>43.937298</td>\n",
       "      <td>[en, ms, ind, jav, bjn, manglish, pasar ms]</td>\n",
       "      <td>[en, ms]</td>\n",
       "      <td>False</td>\n",
       "      <td>43.937298</td>\n",
       "      <td>43.937298</td>\n",
       "      <td>43.937298</td>\n",
       "      <td>43.937298</td>\n",
       "    </tr>\n",
       "    <tr>\n",
       "      <th>mesolitica/translation-t5-small-standard-bahasa-cased</th>\n",
       "      <td>242</td>\n",
       "      <td>1536</td>\n",
       "      <td>43.937298</td>\n",
       "      <td>43.937298</td>\n",
       "      <td>43.937298</td>\n",
       "      <td>43.937298</td>\n",
       "      <td>[en, ms, ind, jav, bjn, manglish, pasar ms]</td>\n",
       "      <td>[en, ms]</td>\n",
       "      <td>False</td>\n",
       "      <td>43.937298</td>\n",
       "      <td>43.937298</td>\n",
       "      <td>43.937298</td>\n",
       "      <td>43.937298</td>\n",
       "    </tr>\n",
       "    <tr>\n",
       "      <th>mesolitica/translation-t5-base-standard-bahasa-cased</th>\n",
       "      <td>892</td>\n",
       "      <td>1536</td>\n",
       "      <td>43.937298</td>\n",
       "      <td>43.937298</td>\n",
       "      <td>43.937298</td>\n",
       "      <td>43.937298</td>\n",
       "      <td>[en, ms, ind, jav, bjn, manglish, pasar ms]</td>\n",
       "      <td>[en, ms]</td>\n",
       "      <td>False</td>\n",
       "      <td>43.937298</td>\n",
       "      <td>43.937298</td>\n",
       "      <td>43.937298</td>\n",
       "      <td>43.937298</td>\n",
       "    </tr>\n",
       "  </tbody>\n",
       "</table>\n",
       "</div>"
      ],
      "text/plain": [
       "                                                   Size (MB) Suggested length  \\\n",
       "mesolitica/finetune-noisy-translation-t5-tiny-b...       139             1024   \n",
       "mesolitica/finetune-noisy-translation-t5-small-...       242             1024   \n",
       "mesolitica/finetune-noisy-translation-t5-base-b...       892             1024   \n",
       "mesolitica/translation-t5-tiny-standard-bahasa-...       139             1536   \n",
       "mesolitica/translation-t5-small-standard-bahasa...       242             1536   \n",
       "mesolitica/translation-t5-base-standard-bahasa-...       892             1536   \n",
       "\n",
       "                                                   en-ms chrF2++  \\\n",
       "mesolitica/finetune-noisy-translation-t5-tiny-b...     43.937298   \n",
       "mesolitica/finetune-noisy-translation-t5-small-...     43.937298   \n",
       "mesolitica/finetune-noisy-translation-t5-base-b...     43.937298   \n",
       "mesolitica/translation-t5-tiny-standard-bahasa-...     43.937298   \n",
       "mesolitica/translation-t5-small-standard-bahasa...     43.937298   \n",
       "mesolitica/translation-t5-base-standard-bahasa-...     43.937298   \n",
       "\n",
       "                                                   ms-en chrF2++  \\\n",
       "mesolitica/finetune-noisy-translation-t5-tiny-b...     43.937298   \n",
       "mesolitica/finetune-noisy-translation-t5-small-...     43.937298   \n",
       "mesolitica/finetune-noisy-translation-t5-base-b...     43.937298   \n",
       "mesolitica/translation-t5-tiny-standard-bahasa-...     43.937298   \n",
       "mesolitica/translation-t5-small-standard-bahasa...     43.937298   \n",
       "mesolitica/translation-t5-base-standard-bahasa-...     43.937298   \n",
       "\n",
       "                                                   pasar ms-ms chrF2++  \\\n",
       "mesolitica/finetune-noisy-translation-t5-tiny-b...           43.937298   \n",
       "mesolitica/finetune-noisy-translation-t5-small-...           43.937298   \n",
       "mesolitica/finetune-noisy-translation-t5-base-b...           43.937298   \n",
       "mesolitica/translation-t5-tiny-standard-bahasa-...           43.937298   \n",
       "mesolitica/translation-t5-small-standard-bahasa...           43.937298   \n",
       "mesolitica/translation-t5-base-standard-bahasa-...           43.937298   \n",
       "\n",
       "                                                   pasar ms-en chrF2++  \\\n",
       "mesolitica/finetune-noisy-translation-t5-tiny-b...           43.937298   \n",
       "mesolitica/finetune-noisy-translation-t5-small-...           43.937298   \n",
       "mesolitica/finetune-noisy-translation-t5-base-b...           43.937298   \n",
       "mesolitica/translation-t5-tiny-standard-bahasa-...           43.937298   \n",
       "mesolitica/translation-t5-small-standard-bahasa...           43.937298   \n",
       "mesolitica/translation-t5-base-standard-bahasa-...           43.937298   \n",
       "\n",
       "                                                                                      from lang  \\\n",
       "mesolitica/finetune-noisy-translation-t5-tiny-b...                           [en, ms, pasar ms]   \n",
       "mesolitica/finetune-noisy-translation-t5-small-...                           [en, ms, pasar ms]   \n",
       "mesolitica/finetune-noisy-translation-t5-base-b...                           [en, ms, pasar ms]   \n",
       "mesolitica/translation-t5-tiny-standard-bahasa-...  [en, ms, ind, jav, bjn, manglish, pasar ms]   \n",
       "mesolitica/translation-t5-small-standard-bahasa...  [en, ms, ind, jav, bjn, manglish, pasar ms]   \n",
       "mesolitica/translation-t5-base-standard-bahasa-...  [en, ms, ind, jav, bjn, manglish, pasar ms]   \n",
       "\n",
       "                                                     to lang old model  \\\n",
       "mesolitica/finetune-noisy-translation-t5-tiny-b...  [ms, en]      True   \n",
       "mesolitica/finetune-noisy-translation-t5-small-...  [ms, en]      True   \n",
       "mesolitica/finetune-noisy-translation-t5-base-b...  [ms, en]      True   \n",
       "mesolitica/translation-t5-tiny-standard-bahasa-...  [en, ms]     False   \n",
       "mesolitica/translation-t5-small-standard-bahasa...  [en, ms]     False   \n",
       "mesolitica/translation-t5-base-standard-bahasa-...  [en, ms]     False   \n",
       "\n",
       "                                                   ind-ms chrF2++  \\\n",
       "mesolitica/finetune-noisy-translation-t5-tiny-b...            NaN   \n",
       "mesolitica/finetune-noisy-translation-t5-small-...            NaN   \n",
       "mesolitica/finetune-noisy-translation-t5-base-b...            NaN   \n",
       "mesolitica/translation-t5-tiny-standard-bahasa-...      43.937298   \n",
       "mesolitica/translation-t5-small-standard-bahasa...      43.937298   \n",
       "mesolitica/translation-t5-base-standard-bahasa-...      43.937298   \n",
       "\n",
       "                                                   jav-ms chrF2++  \\\n",
       "mesolitica/finetune-noisy-translation-t5-tiny-b...            NaN   \n",
       "mesolitica/finetune-noisy-translation-t5-small-...            NaN   \n",
       "mesolitica/finetune-noisy-translation-t5-base-b...            NaN   \n",
       "mesolitica/translation-t5-tiny-standard-bahasa-...      43.937298   \n",
       "mesolitica/translation-t5-small-standard-bahasa...      43.937298   \n",
       "mesolitica/translation-t5-base-standard-bahasa-...      43.937298   \n",
       "\n",
       "                                                   manglish-ms chrF2++  \\\n",
       "mesolitica/finetune-noisy-translation-t5-tiny-b...                 NaN   \n",
       "mesolitica/finetune-noisy-translation-t5-small-...                 NaN   \n",
       "mesolitica/finetune-noisy-translation-t5-base-b...                 NaN   \n",
       "mesolitica/translation-t5-tiny-standard-bahasa-...           43.937298   \n",
       "mesolitica/translation-t5-small-standard-bahasa...           43.937298   \n",
       "mesolitica/translation-t5-base-standard-bahasa-...           43.937298   \n",
       "\n",
       "                                                   manglish-en chrF2++  \n",
       "mesolitica/finetune-noisy-translation-t5-tiny-b...                 NaN  \n",
       "mesolitica/finetune-noisy-translation-t5-small-...                 NaN  \n",
       "mesolitica/finetune-noisy-translation-t5-base-b...                 NaN  \n",
       "mesolitica/translation-t5-tiny-standard-bahasa-...           43.937298  \n",
       "mesolitica/translation-t5-small-standard-bahasa...           43.937298  \n",
       "mesolitica/translation-t5-base-standard-bahasa-...           43.937298  "
      ]
     },
     "execution_count": 3,
     "metadata": {},
     "output_type": "execute_result"
    }
   ],
   "source": [
    "malaya.translation.available_huggingface()"
   ]
  },
  {
   "cell_type": "markdown",
   "metadata": {},
   "source": [
    "### Improvements of new model\n",
    "\n",
    "1. able to translate `[en, ms, ind, jav, bjn, manglish, pasar ms]` while old model only able to translate `[en, ms, pasar ms]`.\n",
    "2. No longer required `from_lang` part of the prefix.\n",
    "3. able to retain text structure as it is."
   ]
  },
  {
   "cell_type": "markdown",
   "metadata": {},
   "source": [
    "### Load Transformer models\n",
    "\n",
    "```python\n",
    "def huggingface(\n",
    "    model: str = 'mesolitica/translation-t5-small-standard-bahasa-cased',\n",
    "    force_check: bool = True,\n",
    "    from_lang: List[str] = None,\n",
    "    to_lang: List[str] = None,\n",
    "    old_model: bool = False,\n",
    "    **kwargs,\n",
    "):\n",
    "    \"\"\"\n",
    "    Load HuggingFace model to translate.\n",
    "\n",
    "    Parameters\n",
    "    ----------\n",
    "    model: str, optional (default='mesolitica/translation-t5-small-standard-bahasa-cased')\n",
    "        Check available models at `malaya.translation.available_huggingface()`.\n",
    "    force_check: bool, optional (default=True)\n",
    "        Force check model one of malaya model.\n",
    "        Set to False if you have your own huggingface model.\n",
    "\n",
    "    Returns\n",
    "    -------\n",
    "    result: malaya.torch_model.huggingface.Translation\n",
    "    \"\"\"\n",
    "```"
   ]
  },
  {
   "cell_type": "code",
   "execution_count": 4,
   "metadata": {
    "scrolled": true
   },
   "outputs": [],
   "source": [
    "model = malaya.translation.huggingface()"
   ]
  },
  {
   "cell_type": "code",
   "execution_count": 5,
   "metadata": {},
   "outputs": [],
   "source": [
    "old_model = malaya.translation.huggingface(model = 'mesolitica/finetune-noisy-translation-t5-small-bahasa-cased-v3')"
   ]
  },
  {
   "cell_type": "markdown",
   "metadata": {},
   "source": [
    "### Translate\n",
    "\n",
    "```python\n",
    "def generate(self, strings: List[str], from_lang: str = None, to_lang: str = 'ms', **kwargs):\n",
    "    \"\"\"\n",
    "    Generate texts from the input.\n",
    "\n",
    "    Parameters\n",
    "    ----------\n",
    "    strings : List[str]\n",
    "    from_lang: str, optional (default=None)\n",
    "        old model required `from_lang` parameter to make it works properly,\n",
    "        while new model not required.\n",
    "    to_lang: str, optional (default='ms')\n",
    "        target language to translate.\n",
    "    **kwargs: vector arguments pass to huggingface `generate` method.\n",
    "        Read more at https://huggingface.co/docs/transformers/main_classes/text_generation\n",
    "\n",
    "    Returns\n",
    "    -------\n",
    "    result: List[str]\n",
    "    \"\"\"\n",
    "```"
   ]
  },
  {
   "cell_type": "code",
   "execution_count": 6,
   "metadata": {},
   "outputs": [],
   "source": [
    "from pprint import pprint"
   ]
  },
  {
   "cell_type": "code",
   "execution_count": 7,
   "metadata": {},
   "outputs": [
    {
     "name": "stdout",
     "output_type": "stream",
     "text": [
      "('TANGKAK - Tan Sri Muhyiddin Yassin berkata, beliau tidak mahu menyentuh '\n",
      " 'mengenai isu politik buat masa ini, sebaliknya mahu menumpukan kepada soal '\n",
      " 'kebajikan rakyat serta usaha merancakkan semula ekonomi negara yang terjejas '\n",
      " 'berikutan pandemik Covid-19. Perdana Menteri menjelaskan perkara itu ketika '\n",
      " 'berucap pada Majlis Bertemu Pemimpin bersama pemimpin masyarakat Dewan '\n",
      " 'Undangan Negeri (DUN) Gambir di Dewan Serbaguna Bukit Gambir hari ini.')\n"
     ]
    }
   ],
   "source": [
    "# https://www.sinarharian.com.my/article/89678/BERITA/Politik/Saya-tidak-mahu-sentuh-isu-politik-Muhyiddin\n",
    "\n",
    "string_news1 = 'TANGKAK - Tan Sri Muhyiddin Yassin berkata, beliau tidak mahu menyentuh mengenai isu politik buat masa ini, sebaliknya mahu menumpukan kepada soal kebajikan rakyat serta usaha merancakkan semula ekonomi negara yang terjejas berikutan pandemik Covid-19. Perdana Menteri menjelaskan perkara itu ketika berucap pada Majlis Bertemu Pemimpin bersama pemimpin masyarakat Dewan Undangan Negeri (DUN) Gambir di Dewan Serbaguna Bukit Gambir hari ini.'\n",
    "pprint(string_news1)"
   ]
  },
  {
   "cell_type": "code",
   "execution_count": 8,
   "metadata": {},
   "outputs": [
    {
     "name": "stdout",
     "output_type": "stream",
     "text": [
      "('ALOR SETAR - Kemelut politik Pakatan Harapan (PH) belum berkesudahan apabila '\n",
      " 'masih gagal memuktamadkan calon Perdana Menteri yang dipersetujui bersama. '\n",
      " 'Ahli Parlimen Sik, Ahmad Tarmizi Sulaiman berkata, sehubungan itu pihaknya '\n",
      " 'mencadangkan mantan Pengerusi Parti Pribumi Bersatu Malaysia (Bersatu), Tun '\n",
      " 'Dr Mahathir Mohamad dan Presiden Parti Keadilan Rakyat (PKR), Datuk Seri '\n",
      " 'Anwar Ibrahim mengundurkan diri daripada politik sebagai jalan penyelesaian.')\n"
     ]
    }
   ],
   "source": [
    "# https://www.sinarharian.com.my/article/90021/BERITA/Politik/Tun-Mahathir-Anwar-disaran-bersara-untuk-selesai-kemelut-politik\n",
    "\n",
    "string_news2 = 'ALOR SETAR - Kemelut politik Pakatan Harapan (PH) belum berkesudahan apabila masih gagal memuktamadkan calon Perdana Menteri yang dipersetujui bersama. Ahli Parlimen Sik, Ahmad Tarmizi Sulaiman berkata, sehubungan itu pihaknya mencadangkan mantan Pengerusi Parti Pribumi Bersatu Malaysia (Bersatu), Tun Dr Mahathir Mohamad dan Presiden Parti Keadilan Rakyat (PKR), Datuk Seri Anwar Ibrahim mengundurkan diri daripada politik sebagai jalan penyelesaian.'\n",
    "pprint(string_news2)"
   ]
  },
  {
   "cell_type": "code",
   "execution_count": 9,
   "metadata": {},
   "outputs": [
    {
     "name": "stdout",
     "output_type": "stream",
     "text": [
      "('Menteri Kanan (Kluster Keselamatan) Datuk Seri Ismail Sabri Yaakob berkata, '\n",
      " 'kelonggaran itu diberi berikutan kerajaan menyedari masalah yang dihadapi '\n",
      " 'mereka untuk memperbaharui dokumen itu. Katanya, selain itu, bagi rakyat '\n",
      " 'asing yang pas lawatan sosial tamat semasa Perintah Kawalan Pergerakan (PKP) '\n",
      " 'pula boleh ke pejabat Jabatan Imigresen yang terdekat untuk mendapatkan '\n",
      " 'lanjutan tempoh.')\n"
     ]
    }
   ],
   "source": [
    "string_news3 = 'Menteri Kanan (Kluster Keselamatan) Datuk Seri Ismail Sabri Yaakob berkata, kelonggaran itu diberi berikutan kerajaan menyedari masalah yang dihadapi mereka untuk memperbaharui dokumen itu. Katanya, selain itu, bagi rakyat asing yang pas lawatan sosial tamat semasa Perintah Kawalan Pergerakan (PKP) pula boleh ke pejabat Jabatan Imigresen yang terdekat untuk mendapatkan lanjutan tempoh.'\n",
    "pprint(string_news3)"
   ]
  },
  {
   "cell_type": "code",
   "execution_count": 10,
   "metadata": {
    "scrolled": false
   },
   "outputs": [
    {
     "name": "stdout",
     "output_type": "stream",
     "text": [
      "('Selain itu, pameran kerjaya membantu para pelajar menentukan kerjaya yang '\n",
      " 'akan diceburi oleh mereka. Seperti yang kita ketahui, pasaran kerjaya di '\n",
      " 'Malaysia sangat luas dan masih banyak sektor pekerjaan di negara ini yang '\n",
      " 'masih kosong kerana sukar untuk mencari tenaga kerja yang benar-benar '\n",
      " 'berkelayakan. Sebagai contohnya, sektor perubatan di Malaysia menghadapi '\n",
      " 'masalah kekurangan tenaga kerja yang kritikal, khususnya tenaga pakar '\n",
      " 'disebabkan peletakan jawatan oleh doktor dan pakar perubatan untuk memasuki '\n",
      " 'sektor swasta serta berkembangnya perkhidmatan kesihatan dan perubatan. '\n",
      " 'Setelah menyedari  hakikat ini, para pelajar akan lebih berminat untuk '\n",
      " 'menceburi bidang perubatan kerana pameran kerjaya yang dilaksanakan amat '\n",
      " 'membantu memberikan pengetahuan am tentang kerjaya ini')\n"
     ]
    }
   ],
   "source": [
    "# https://qcikgubm.blogspot.com/2018/02/contoh-soalan-dan-jawapan-karangan.html\n",
    "\n",
    "string_karangan = 'Selain itu, pameran kerjaya membantu para pelajar menentukan kerjaya yang akan diceburi oleh mereka. Seperti yang kita ketahui, pasaran kerjaya di Malaysia sangat luas dan masih banyak sektor pekerjaan di negara ini yang masih kosong kerana sukar untuk mencari tenaga kerja yang benar-benar berkelayakan. Sebagai contohnya, sektor perubatan di Malaysia menghadapi masalah kekurangan tenaga kerja yang kritikal, khususnya tenaga pakar disebabkan peletakan jawatan oleh doktor dan pakar perubatan untuk memasuki sektor swasta serta berkembangnya perkhidmatan kesihatan dan perubatan. Setelah menyedari  hakikat ini, para pelajar akan lebih berminat untuk menceburi bidang perubatan kerana pameran kerjaya yang dilaksanakan amat membantu memberikan pengetahuan am tentang kerjaya ini'\n",
    "pprint(string_karangan)"
   ]
  },
  {
   "cell_type": "code",
   "execution_count": 14,
   "metadata": {
    "scrolled": true
   },
   "outputs": [
    {
     "name": "stdout",
     "output_type": "stream",
     "text": [
      "['TANGKAK - Tan Sri Muhyiddin Yassin said, he does not want to touch on '\n",
      " 'political issues at the moment, but instead wants to focus on the welfare of '\n",
      " \"the people as well as efforts to revive the country's economy affected by \"\n",
      " 'the Covid-19 pandemic. The Prime Minister explained the matter when speaking '\n",
      " 'at the Meeting of Leaders with community leaders of the Gambir State '\n",
      " 'Legislative Assembly (DUN) at the Bukit Gambir Multipurpose Hall today.',\n",
      " 'ALOR SETAR - The Pakatan Harapan (PH) political turmoil is not over when it '\n",
      " 'still fails to finalize the Prime Minister candidate agreed to together. Sik '\n",
      " 'Member of Parliament, Ahmad Tarmizi Sulaiman said, in that regard, his party '\n",
      " 'suggested that former Chairman of Parti Pribumi Bersatu Malaysia (Bersatu), '\n",
      " 'Tun Dr Mahathir Mohamad and the President of Parti Keadilan Rakyat (PKR), '\n",
      " 'Datuk Seri Anwar Ibrahim resign from politics as a solution.',\n",
      " 'Senior Minister (Security Cluster) Datuk Seri Ismail Sabri Yaakob said the '\n",
      " \"relaxation was given following the government's awareness of the problems \"\n",
      " 'they faced to renew the document. He said, in addition, for foreigners whose '\n",
      " 'social visit passes ended during the Movement Control Order (MCO), they '\n",
      " 'could go to the nearest Immigration Department office to obtain an extension '\n",
      " 'of the period.',\n",
      " 'In addition, career exhibitions help students determine the career they will '\n",
      " 'pursue. As we know, the career market in Malaysia is very vast and there are '\n",
      " 'still many job sectors in this country that are still empty because it is '\n",
      " 'difficult to find a truly qualified workforce. For example, the medical '\n",
      " 'sector in Malaysia is facing a critical shortage of workforce, especially '\n",
      " 'specialist energy due to the resignation of doctors and physicians to enter '\n",
      " 'the private sector as well as the development of health and medical '\n",
      " 'services. Upon realizing this fact, students will be more interested in '\n",
      " 'entering the field of medicine because the career exhibition that is '\n",
      " 'implemented greatly helps to provide general knowledge about this career']\n",
      "CPU times: user 5min 57s, sys: 3.6 s, total: 6min 1s\n",
      "Wall time: 31.2 s\n"
     ]
    }
   ],
   "source": [
    "%%time\n",
    "\n",
    "pprint(model.generate([string_news1, string_news2, string_news3, string_karangan], \n",
    "                      to_lang = 'en', max_length = 1000))"
   ]
  },
  {
   "cell_type": "code",
   "execution_count": 15,
   "metadata": {
    "scrolled": true
   },
   "outputs": [
    {
     "name": "stdout",
     "output_type": "stream",
     "text": [
      "['TANGKAK - Tan Sri Muhyiddin Yassin said he did not want to touch on '\n",
      " 'political issues for now, but instead wanted to focus on the welfare of the '\n",
      " \"people as well as efforts to revive the country's economy which was affected \"\n",
      " 'by the Covid-19 pandemic. The Prime Minister explained the matter when '\n",
      " \"speaking at the Leaders' Meeting with community leaders of the Gambir State \"\n",
      " 'Legislative Assembly (DUN) at the Bukit Gambir Multipurpose Hall today.',\n",
      " 'ALOR SETAR - The Pakatan Harapan (PH) political crisis has not ended when it '\n",
      " 'still fails to finalize the Prime Minister candidate who was mutually agreed '\n",
      " 'upon. Sik Member of Parliament, Ahmad Tarmizi Sulaiman said, in this regard, '\n",
      " 'he suggested that the former Chairman of Parti Pribumi Bersatu Malaysia '\n",
      " '(Bersatu), Tun Dr Mahathir Mohamad and the President of Parti Keadilan '\n",
      " 'Rakyat (PKR), Datuk Seri Anwar Ibrahim resign from politics as a solution.',\n",
      " 'Senior Minister (Security Cluster) Datuk Seri Ismail Sabri Yaakob said the '\n",
      " \"relaxation was given following the government's awareness of the problems \"\n",
      " 'they faced to renew the document. He said, apart from that, for foreigners '\n",
      " 'who have expired social visit during the Movement Control Order (MCO), they '\n",
      " 'can go to the nearest Immigration Department office to obtain an extension '\n",
      " 'of the period.',\n",
      " 'In addition, career exhibitions help students determine the career they will '\n",
      " 'venture into. As we know, the career market in Malaysia is very broad and '\n",
      " 'there are still many job sectors in this country that are still empty '\n",
      " 'because it is difficult to find a truly qualified workforce. For example, '\n",
      " 'the medical sector in Malaysia is facing a critical labor shortage problem, '\n",
      " 'especially expert energy due to the resignation of doctors and medical '\n",
      " 'experts to enter the private sector as well as the development of health and '\n",
      " 'medical services. After realizing this fact, the students will be more '\n",
      " 'interested in entering the medical field because the career exhibition '\n",
      " 'implemented is very helpful in providing general knowledge about this career']\n",
      "CPU times: user 19.4 s, sys: 0 ns, total: 19.4 s\n",
      "Wall time: 1.64 s\n"
     ]
    }
   ],
   "source": [
    "%%time\n",
    "\n",
    "pprint(old_model.generate([string_news1, string_news2, string_news3, string_karangan],\n",
    "                                 from_lang = 'ms', to_lang = 'en', max_length = 1000))"
   ]
  },
  {
   "cell_type": "markdown",
   "metadata": {},
   "source": [
    "### Able to translate code"
   ]
  },
  {
   "cell_type": "code",
   "execution_count": 17,
   "metadata": {},
   "outputs": [
    {
     "name": "stdout",
     "output_type": "stream",
     "text": [
      "`Untuk menggunakan numpy, pertama, anda perlu memasangnya melalui pip. Anda boleh melakukannya dengan menjalankan perintah `pip install numpy` di terminal anda.\n",
      "Setelah numpy dipasang, anda boleh mengimport modul numpy dengan menambahkan baris `import numpy as np` pada permulaan program anda.\n",
      "Berikut adalah contoh beberapa operasi asas numpy:\n",
      "``` python\n",
      "import numpy as np\n",
      "# membuat array numpy dari senarai\n",
      "my_list = [1, 2, 3, 4, 5]\n",
      "my_array = np.array(my_list)\n",
      "# membuat array numpy dengan julat nilai tertentu\n",
      "my_range = np.arange(0, 10, 2) # nilai awal, nilai akhir, dan loncatan\n",
      "# membuat array numpy dengan nilai rawak\n",
      "my_random_array = np.random.rand(3, 3) # 3 baris dan 3 lajur\n",
      "# mengakses elemen array numpy\n",
      "print(my_array[0]) # mengakses elemen pertama\n",
      "# melakukan operasi matematik pada array numpy\n",
      "my_array = my_array + 1 # menambah setiap elemen dengan 1\n",
      "my_array = my_array * 2 # mendarab setiap elemen dengan 2\n",
      "# mengubah bentuk array numpy\n",
      "my_array = np.reshape(my_array, (2, 5)) # menjadi array 2D dengan 2 baris dan 5 lajur\n",
      "```\n",
      "Itulah beberapa operasi asas numpy. Anda boleh mencari dokumentasi rasmi numpy di https://numpy.org/doc/stable/.\n"
     ]
    }
   ],
   "source": [
    "s = \"\"\"\n",
    "`Untuk menggunakan numpy, pertama, Anda perlu menginstalnya melalui pip. Anda dapat melakukannya dengan menjalankan perintah `pip install numpy` di terminal Anda.\n",
    "Setelah numpy terinstal, Anda dapat mengimpor modul numpy dengan menambahkan baris `import numpy as np` di awal program Anda.\n",
    "Berikut adalah contoh beberapa operasi dasar numpy:\n",
    "``` python\n",
    "import numpy as np\n",
    "# membuat array numpy dari list\n",
    "my_list = [1, 2, 3, 4, 5]\n",
    "my_array = np.array(my_list)\n",
    "# membuat array numpy dengan rentang nilai tertentu\n",
    "my_range = np.arange(0, 10, 2) # nilai awal, nilai akhir, dan loncatan\n",
    "# membuat array numpy dengan nilai acak\n",
    "my_random_array = np.random.rand(3, 3) # 3 baris dan 3 kolom\n",
    "# mengakses elemen array numpy\n",
    "print(my_array[0]) # mengakses elemen pertama\n",
    "# melakukan operasi matematika pada array numpy\n",
    "my_array = my_array + 1 # menambah setiap elemen dengan 1\n",
    "my_array = my_array * 2 # mengalikan setiap elemen dengan 2\n",
    "# mengubah bentuk array numpy\n",
    "my_array = np.reshape(my_array, (2, 5)) # menjadi array 2D dengan 2 baris dan 5 kolom\n",
    "```\n",
    "Itulah beberapa operasi dasar numpy. Anda dapat menemukan dokumentasi resmi numpy di https://numpy.org/doc/stable/.\n",
    "\"\"\"\n",
    "\n",
    "print(model.generate([s], to_lang = 'ms', max_length = 1000)[0])"
   ]
  },
  {
   "cell_type": "markdown",
   "metadata": {},
   "source": [
    "### Able to maintain input structure"
   ]
  },
  {
   "cell_type": "code",
   "execution_count": 20,
   "metadata": {},
   "outputs": [
    {
     "name": "stdout",
     "output_type": "stream",
     "text": [
      "26 DR.27.10.2021\n",
      "\n",
      " \n",
      "PROPOSAL ADJOURNMENT MEETING\n",
      "\n",
      "UNDER P.M. 18(1)\n",
      " \n",
      "\n",
      "PETRONAS GAS ASET RESULTS IN AZERBAIJAN\n",
      "\n",
      " \n",
      "\n",
      "11.33 a.m.\n",
      "\n",
      "Dato Seri Anwar bin Ibrahim [Port Dickson]: Mr. Speaker, I\n",
      "beg to submit a motion under Meeting Rules 18(1) and 18(2) Rules-\n",
      "rules of the Dewan Rakyat Council as follows:\n",
      "\n",
      "\"That the House sitting today negotiates\n",
      "reports that Petronas has sold gas assets in Azerbaijan with\n",
      "prices of almost RM10 billion following the government's insistence to raise\n",
      "Petronas' dividend payment of RM25 billion to the government for\n",
      "2021.\"\n",
      "\n",
      " \n",
      "This matter is a certain matter because of the sale of gas assets in Azerbaijan\n",
      "\n",
      "worth RM10 billion and also the payment of dividends to the government of RM25 billion\n",
      "for 2021 it is dangerous and affects Petronas' future. Related\n",
      "with a little explanation. Because actions like this have caused J.P. Morgan\n",
      "to remove Petronas from the ESG Emerging Market Bond Index and ESG Asia Credit\n",
      "Index. \n",
      "\n",
      "Therefore, the matter needs to be expedited because Petronas has a deficit\n",
      "following excessive dividend payments since 2018 until now which forced\n",
      "Petronas to sell assets or borrow more foreign funds to cover\n",
      "cash flow. \n",
      "\n",
      "This is reinforced by Tengku Muhammad Taufik's statement, Petronas CEO, \"If there is a policy shift but it comes too suddenly or too slowly, not only Petronas but the\n",
      "whole Malaysian economy could be put at risk, in regards to our energy mix.\"\n",
      "\n",
      "This is a matter of public interest, even the whole economy\n",
      "country, because Petronas is an important institution of the national economy and should be\n",
      "strengthened its strength and not weakened the company's rating. The ability to invest to generate future profits that can afford to pay dividends\n",
      "is reasonable to the government for the benefit of the people. With an additional RM7\n",
      "billion this year, Petronas' revenue will amount to RM44.8 billion or 18 percent of the\n",
      "government's income for 2021 from RM37.8 billion previously.\n",
      "\n",
      "So, please Mr. Speaker's approval to be debated. [Applause]\n",
      "\n",
      "Mr. Speaker: Thank you, Your Honor. Actually, Your Honor needs to complete the honorable text and only read the text\n",
      "according to the rules. However, it's okay. \n",
      "\n",
      "Honorable members, I have received a news of the motion under\n",
      "Meeting Rule 18(1) by Yang Berhormat Port Dickson, Leader of the Opposition on\n",
      "Monday, 25 October 2021. The text of the motion is as read earlier with\n",
      "a little additional by the Honorable Member Port Dickson just now. \n",
      "\n",
      "To enable this matter to be considered by the Council of Meetings, I \n"
     ]
    }
   ],
   "source": [
    "s = \"\"\"\n",
    "\\n26 DR.27.10.2021 \\n\\n \\nUSUL MENANGGUHKAN MESYUARAT  \\n\\nDI BAWAH P.M. 18(1) \\n \\n\\nPENJUALAN ASET GAS PETRONAS DI AZERBAIJAN \\n\\n \\n\\n11.33 pg. \\n\\nDato’ Seri Anwar bin Ibrahim [Port Dickson]: Tuan Yang di-Pertua, saya \\nmohon mengemukakan usul di bawah Peraturan Mesyuarat 18(1) dan 18(2) Peraturan-\\nperaturan Majlis Mesyuarat Dewan Rakyat seperti berikut: \\n\\n“Bahawa Dewan yang bersidang pada hari ini merundingkan \\nlaporan bahawa Petronas telah menjual aset gas di Azerbaijan dengan \\nharga hampir RM10 bilion berikutan desakan kerajaan menaikkan \\nbayaran dividen Petronas sebanyak RM25 bilion kepada kerajaan bagi \\ntahun 2021.” \\n\\n \\nPerkara ini adalah perkara tertentu kerana penjualan aset gas di Azerbaijan \\n\\nbernilai RM10 bilion dan juga pembayaran dividen kepada kerajaan sebanyak RM25 bilion \\nbagi tahun 2021 adalah berbahaya dan menjejaskan masa depan Petronas. Terkait \\ndengan― sedikit penjelasan.  Kerana tindakan seperti ini telah menyebabkan J.P. Morgan \\nmengeluarkan Petronas dari ESG Emerging Market Bond Index dan ESG Asia Credit \\nIndex.  \\n\\nOleh itu, perkara itu perlu disegerakan kerana Petronas mengalami defisit \\nberikutan pembayaran dividen berlebihan sejak tahun 2018 sehingga kini yang memaksa \\nPetronas menjual aset atau meminjam lebih banyak dana luar negara bagi menampung \\naliran tunai.   \\n\\nIni diperkukuh dengan kenyataan Tengku Muhammad Taufik, CEO Petronas, “If \\nthere is a policy shift but it comes too suddenly or too slowly, not only Petronas but the \\nentire Malaysian economy could be put at risk, with regards to our energy mix.” \\n\\nIni perkara berkenaan dengan kepentingan orang ramai, malah seluruh ekonomi \\nnegara, kerana Petronas adalah institusi penting ekonomi negara dan sewajarnya \\ndiperkukuh kekuatannya dan tidak dilemahkan penarafan syarikat. Kemampuan untuk \\nmelabur bagi menjana keuntungan masa depan yang mampu untuk membayar dividen \\nyang munasabah kepada kerajaan demi kepentingan rakyat. Dengan tambahan RM7 \\nbilion tahun ini, hasil Petronas akan berjumlah RM44.8 bilion atau 18 peratus daripada \\npendapatan kerajaan bagi tahun 2021 daripada RM37.8 bilion sebelumnya. \\n\\nJadi, mohon persetujuan Tuan Yang di-Pertua untuk dibahaskan. [Tepuk] \\n\\nTuan Yang di-Pertua: Terima kasih Yang Berhormat. Sebenarnya Yang \\nBerhormat perlu melengkapkan teks Yang Berhormat dan cuma dibaca teks tersebut \\nmengikut peraturan. Akan tetapi, tak apa.  \\n\\nAhli-ahli Yang Berhormat, saya telah menerima satu pemberitahu usul di bawah \\nPeraturan Mesyuarat 18(1) oleh Yang Berhormat Port Dickson, Ketua Pembangkang pada \\nhari Isnin, 25 Oktober 2021. Teks usul itu adalah seperti yang dibacakan tadi dengan \\nsedikit tambahan oleh Ahli Yang Berhormat Port Dickson sebentar tadi.  \\n\\nBagi membolehkan perkara ini ditimbangkan oleh Majlis Mesyuarat, saya \\nhendaklah berpuas hati bahawa perkara yang dibangkitkan oleh Yang Berhormat itu \\nmematuhi tiga syarat seperti mana biasalah iaitu: \\n\\n(i) perkara tertentu; \\n\\n(ii) bagi kepentingan orang ramai; dan \\n\\n(iii) berkehendak disegerakan. \\n\\n\\n\n",
    "\"\"\"\n",
    "print(model.generate([s], to_lang = 'en', max_length = 1000)[0])"
   ]
  },
  {
   "cell_type": "markdown",
   "metadata": {},
   "source": [
    "Compared to old model,"
   ]
  },
  {
   "cell_type": "code",
   "execution_count": 22,
   "metadata": {},
   "outputs": [
    {
     "name": "stdout",
     "output_type": "stream",
     "text": [
      "26 DR.27.10.2021 MOTION TO ADJOURN THE MEETING UNDER P.M. 18(1) JUALAN OF PETRONAS GAS ASET IN AZERBAIJAN 11.33 a.m. Dato Seri Anwar bin Ibrahim [Port Dickson]: Mr. Speaker, I beg to submit a motion under Meeting Rule 18(1) and 18(2) of the Rules of the Dewan Rakyat Meeting Council as follows: \"That the House sitting today negotiates a report that Petronas has sold gas assets in Azerbaijan at a price of almost RM10 billion following the government's insistence on raising Petronas' dividend payment of RM25 billion to the government for 2021.\" This is a certain matter because the sale of gas assets in Azerbaijan worth RM10 billion and also the payment of dividends to the government amounting to RM25 billion for 2021 is dangerous and affects the future of Petronas. Related to a little explanation. Because actions like this have caused J.P. Morgan to remove Petronas from the ESG Emerging Market Bond Index and ESG Asia Credit Index. Therefore, the matter needs to be expedited because Petronas has suffered a deficit following excessive dividend payments since 2018 until now which forced Petronas to sell assets or borrow more foreign funds to cover cash flow. This is strengthened by the statement of Tengku Muhammad Taufik, CEO of Petronas, \"If there is a policy shift but it comes too suddenly or too slowly, not only Petronas but the entire Malaysian economy could be put at risk, with regards to our energy mix.\" This is a matter regarding the interests of the public, even the entire national economy, because Petronas is an important institution of the national economy and should be strengthened its strength and not disparaged the company's rating. The ability to invest to generate future profits that are able to pay reasonable dividends to the government for the benefit of the people. With an additional RM7 billion this year, Petronas revenue will amount to RM44.8 billion or 18 percent of the government's income for 2021 from RM37.8 billion previously. So, please agree Mr. Speaker for debate. [Applause] Mr. Speaker: Thank you, Your Honor. Actually, Your Honor needs to complete the text of Your Honor and only read the text according to the rules. However, it's okay. Honorable Members, I have received a notice of motion under Meeting Rule 18(1) by the Honorable Port Dickson, Leader of the Opposition on Monday, 25 October 2021. The text of the motion is as read earlier with a little addition by the Honorable Member Port Dickson just now. In order to allow this matter to be considered by the Meeting, I must be satisfied that the matter raised by the Honorable complies with three conditions as usual, namely: (i) certain matters; (ii) for the public's interests; and (iii) want to be expedited. (\n"
     ]
    }
   ],
   "source": [
    "s = \"\"\"\n",
    "\\n26 DR.27.10.2021 \\n\\n \\nUSUL MENANGGUHKAN MESYUARAT  \\n\\nDI BAWAH P.M. 18(1) \\n \\n\\nPENJUALAN ASET GAS PETRONAS DI AZERBAIJAN \\n\\n \\n\\n11.33 pg. \\n\\nDato’ Seri Anwar bin Ibrahim [Port Dickson]: Tuan Yang di-Pertua, saya \\nmohon mengemukakan usul di bawah Peraturan Mesyuarat 18(1) dan 18(2) Peraturan-\\nperaturan Majlis Mesyuarat Dewan Rakyat seperti berikut: \\n\\n“Bahawa Dewan yang bersidang pada hari ini merundingkan \\nlaporan bahawa Petronas telah menjual aset gas di Azerbaijan dengan \\nharga hampir RM10 bilion berikutan desakan kerajaan menaikkan \\nbayaran dividen Petronas sebanyak RM25 bilion kepada kerajaan bagi \\ntahun 2021.” \\n\\n \\nPerkara ini adalah perkara tertentu kerana penjualan aset gas di Azerbaijan \\n\\nbernilai RM10 bilion dan juga pembayaran dividen kepada kerajaan sebanyak RM25 bilion \\nbagi tahun 2021 adalah berbahaya dan menjejaskan masa depan Petronas. Terkait \\ndengan― sedikit penjelasan.  Kerana tindakan seperti ini telah menyebabkan J.P. Morgan \\nmengeluarkan Petronas dari ESG Emerging Market Bond Index dan ESG Asia Credit \\nIndex.  \\n\\nOleh itu, perkara itu perlu disegerakan kerana Petronas mengalami defisit \\nberikutan pembayaran dividen berlebihan sejak tahun 2018 sehingga kini yang memaksa \\nPetronas menjual aset atau meminjam lebih banyak dana luar negara bagi menampung \\naliran tunai.   \\n\\nIni diperkukuh dengan kenyataan Tengku Muhammad Taufik, CEO Petronas, “If \\nthere is a policy shift but it comes too suddenly or too slowly, not only Petronas but the \\nentire Malaysian economy could be put at risk, with regards to our energy mix.” \\n\\nIni perkara berkenaan dengan kepentingan orang ramai, malah seluruh ekonomi \\nnegara, kerana Petronas adalah institusi penting ekonomi negara dan sewajarnya \\ndiperkukuh kekuatannya dan tidak dilemahkan penarafan syarikat. Kemampuan untuk \\nmelabur bagi menjana keuntungan masa depan yang mampu untuk membayar dividen \\nyang munasabah kepada kerajaan demi kepentingan rakyat. Dengan tambahan RM7 \\nbilion tahun ini, hasil Petronas akan berjumlah RM44.8 bilion atau 18 peratus daripada \\npendapatan kerajaan bagi tahun 2021 daripada RM37.8 bilion sebelumnya. \\n\\nJadi, mohon persetujuan Tuan Yang di-Pertua untuk dibahaskan. [Tepuk] \\n\\nTuan Yang di-Pertua: Terima kasih Yang Berhormat. Sebenarnya Yang \\nBerhormat perlu melengkapkan teks Yang Berhormat dan cuma dibaca teks tersebut \\nmengikut peraturan. Akan tetapi, tak apa.  \\n\\nAhli-ahli Yang Berhormat, saya telah menerima satu pemberitahu usul di bawah \\nPeraturan Mesyuarat 18(1) oleh Yang Berhormat Port Dickson, Ketua Pembangkang pada \\nhari Isnin, 25 Oktober 2021. Teks usul itu adalah seperti yang dibacakan tadi dengan \\nsedikit tambahan oleh Ahli Yang Berhormat Port Dickson sebentar tadi.  \\n\\nBagi membolehkan perkara ini ditimbangkan oleh Majlis Mesyuarat, saya \\nhendaklah berpuas hati bahawa perkara yang dibangkitkan oleh Yang Berhormat itu \\nmematuhi tiga syarat seperti mana biasalah iaitu: \\n\\n(i) perkara tertentu; \\n\\n(ii) bagi kepentingan orang ramai; dan \\n\\n(iii) berkehendak disegerakan. \\n\\n\\n\n",
    "\"\"\"\n",
    "print(old_model.generate([s], from_lang = 'ms', to_lang = 'en', max_length = 1000)[0])"
   ]
  },
  {
   "cell_type": "markdown",
   "metadata": {},
   "source": [
    "### Able to translate indonesian, banjarese and javanese"
   ]
  },
  {
   "cell_type": "code",
   "execution_count": 23,
   "metadata": {},
   "outputs": [],
   "source": [
    "s1 = 'Kita ora duwe wektu kanggo gelut utawa sengit.'\n",
    "s2 = 'Tiga dekade kemudian area sekolah diperluas.'\n",
    "s3 = 'Maklum haja lah muntung guri wadi kawa haja dipisiti, amun muntung manusia siapang nang hingkat manduga.'"
   ]
  },
  {
   "cell_type": "code",
   "execution_count": 25,
   "metadata": {},
   "outputs": [
    {
     "name": "stdout",
     "output_type": "stream",
     "text": [
      "[\"We don't have time to fight or get intense.\",\n",
      " 'Three decades later the school area was expanded.',\n",
      " 'It is understood that the smug is a good person to be shunned, but the smug '\n",
      " 'of humans is ready to be shunned.']\n"
     ]
    }
   ],
   "source": [
    "pprint(model.generate([s1, s2, s3], to_lang = 'en', max_length = 1000))"
   ]
  },
  {
   "cell_type": "code",
   "execution_count": 26,
   "metadata": {
    "scrolled": true
   },
   "outputs": [
    {
     "name": "stdout",
     "output_type": "stream",
     "text": [
      "['Kita tidak ada masa untuk bergaduh atau garang.',\n",
      " 'Tiga dekad kemudian kawasan sekolah diperluaskan.',\n",
      " '\"Maklumlah hanya menyapa orang yang tidak tahu apa yang mereka lakukan, '\n",
      " 'tetapi manusia yang tidak tahu apa yang mereka lakukan.\"']\n"
     ]
    }
   ],
   "source": [
    "pprint(model.generate([s1, s2, s3], to_lang = 'ms', max_length = 1000))"
   ]
  }
 ],
 "metadata": {
  "kernelspec": {
   "display_name": "Python 3 (ipykernel)",
   "language": "python",
   "name": "python3"
  },
  "language_info": {
   "codemirror_mode": {
    "name": "ipython",
    "version": 3
   },
   "file_extension": ".py",
   "mimetype": "text/x-python",
   "name": "python",
   "nbconvert_exporter": "python",
   "pygments_lexer": "ipython3",
   "version": "3.8.10"
  },
  "varInspector": {
   "cols": {
    "lenName": 16,
    "lenType": 16,
    "lenVar": 40
   },
   "kernels_config": {
    "python": {
     "delete_cmd_postfix": "",
     "delete_cmd_prefix": "del ",
     "library": "var_list.py",
     "varRefreshCmd": "print(var_dic_list())"
    },
    "r": {
     "delete_cmd_postfix": ") ",
     "delete_cmd_prefix": "rm(",
     "library": "var_list.r",
     "varRefreshCmd": "cat(var_dic_list()) "
    }
   },
   "types_to_exclude": [
    "module",
    "function",
    "builtin_function_or_method",
    "instance",
    "_Feature"
   ],
   "window_display": false
  }
 },
 "nbformat": 4,
 "nbformat_minor": 4
}
