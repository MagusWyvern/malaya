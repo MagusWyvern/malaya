{
 "cells": [
  {
   "cell_type": "markdown",
   "metadata": {},
   "source": [
    "# Isi Penting Generator HuggingFace karangan style"
   ]
  },
  {
   "cell_type": "markdown",
   "metadata": {},
   "source": [
    "Generate a long text with karangan style given isi penting (important facts)."
   ]
  },
  {
   "cell_type": "markdown",
   "metadata": {},
   "source": [
    "<div class=\"alert alert-info\">\n",
    "\n",
    "This tutorial is available as an IPython notebook at [Malaya/example/isi-penting-generator-huggingface-karangan-style](https://github.com/huseinzol05/Malaya/tree/master/example/isi-penting-generator-huggingface-karangan-style).\n",
    "    \n",
    "</div>"
   ]
  },
  {
   "cell_type": "markdown",
   "metadata": {},
   "source": [
    "<div class=\"alert alert-warning\">\n",
    "\n",
    "Results generated using stochastic methods.\n",
    "    \n",
    "</div>"
   ]
  },
  {
   "cell_type": "code",
   "execution_count": 1,
   "metadata": {},
   "outputs": [
    {
     "name": "stderr",
     "output_type": "stream",
     "text": [
      "/home/husein/dev/malaya/malaya/tokenizer.py:208: FutureWarning: Possible nested set at position 3386\n",
      "  self.tok = re.compile(r'({})'.format('|'.join(pipeline)))\n",
      "/home/husein/dev/malaya/malaya/tokenizer.py:208: FutureWarning: Possible nested set at position 3904\n",
      "  self.tok = re.compile(r'({})'.format('|'.join(pipeline)))\n"
     ]
    },
    {
     "name": "stdout",
     "output_type": "stream",
     "text": [
      "CPU times: user 3.2 s, sys: 3.35 s, total: 6.55 s\n",
      "Wall time: 2.3 s\n"
     ]
    }
   ],
   "source": [
    "%%time\n",
    "import malaya\n",
    "from pprint import pprint"
   ]
  },
  {
   "cell_type": "markdown",
   "metadata": {},
   "source": [
    "### List available HuggingFace"
   ]
  },
  {
   "cell_type": "code",
   "execution_count": 2,
   "metadata": {},
   "outputs": [
    {
     "data": {
      "text/html": [
       "<div>\n",
       "<style scoped>\n",
       "    .dataframe tbody tr th:only-of-type {\n",
       "        vertical-align: middle;\n",
       "    }\n",
       "\n",
       "    .dataframe tbody tr th {\n",
       "        vertical-align: top;\n",
       "    }\n",
       "\n",
       "    .dataframe thead th {\n",
       "        text-align: right;\n",
       "    }\n",
       "</style>\n",
       "<table border=\"1\" class=\"dataframe\">\n",
       "  <thead>\n",
       "    <tr style=\"text-align: right;\">\n",
       "      <th></th>\n",
       "      <th>Size (MB)</th>\n",
       "      <th>ROUGE-1</th>\n",
       "      <th>ROUGE-2</th>\n",
       "      <th>ROUGE-L</th>\n",
       "      <th>Suggested length</th>\n",
       "    </tr>\n",
       "  </thead>\n",
       "  <tbody>\n",
       "    <tr>\n",
       "      <th>mesolitica/finetune-isi-penting-generator-t5-small-standard-bahasa-cased</th>\n",
       "      <td>242.0</td>\n",
       "      <td>0.246203</td>\n",
       "      <td>0.058961</td>\n",
       "      <td>0.15159</td>\n",
       "      <td>1024.0</td>\n",
       "    </tr>\n",
       "    <tr>\n",
       "      <th>mesolitica/finetune-isi-penting-generator-t5-base-standard-bahasa-cased</th>\n",
       "      <td>892.0</td>\n",
       "      <td>0.246203</td>\n",
       "      <td>0.058961</td>\n",
       "      <td>0.15159</td>\n",
       "      <td>1024.0</td>\n",
       "    </tr>\n",
       "  </tbody>\n",
       "</table>\n",
       "</div>"
      ],
      "text/plain": [
       "                                                    Size (MB)   ROUGE-1  \\\n",
       "mesolitica/finetune-isi-penting-generator-t5-sm...      242.0  0.246203   \n",
       "mesolitica/finetune-isi-penting-generator-t5-ba...      892.0  0.246203   \n",
       "\n",
       "                                                     ROUGE-2  ROUGE-L  \\\n",
       "mesolitica/finetune-isi-penting-generator-t5-sm...  0.058961  0.15159   \n",
       "mesolitica/finetune-isi-penting-generator-t5-ba...  0.058961  0.15159   \n",
       "\n",
       "                                                    Suggested length  \n",
       "mesolitica/finetune-isi-penting-generator-t5-sm...            1024.0  \n",
       "mesolitica/finetune-isi-penting-generator-t5-ba...            1024.0  "
      ]
     },
     "execution_count": 2,
     "metadata": {},
     "output_type": "execute_result"
    }
   ],
   "source": [
    "malaya.generator.isi_penting.available_huggingface()"
   ]
  },
  {
   "cell_type": "markdown",
   "metadata": {},
   "source": [
    "### Load HuggingFace\n",
    "\n",
    "Transformer Generator in Malaya is quite unique, most of the text generative model we found on the internet like GPT2 or Markov, simply just continue prefix input from user, but not for Transformer Generator. We want to generate an article or karangan like high school when the users give 'isi penting'.\n",
    "\n",
    "```python\n",
    "def huggingface(model: str = 'mesolitica/finetune-isi-penting-generator-t5-base-standard-bahasa-cased', **kwargs):\n",
    "    \"\"\"\n",
    "    Load HuggingFace model to generate text based on isi penting.\n",
    "\n",
    "    Parameters\n",
    "    ----------\n",
    "    model: str, optional (default='mesolitica/finetune-isi-penting-generator-t5-base-standard-bahasa-cased')\n",
    "        Check available models at `malaya.generator.isi_penting.available_huggingface()`.\n",
    "\n",
    "    Returns\n",
    "    -------\n",
    "    result: malaya.torch_model.huggingface.IsiPentingGenerator\n",
    "    \"\"\"\n",
    "```"
   ]
  },
  {
   "cell_type": "code",
   "execution_count": 3,
   "metadata": {},
   "outputs": [],
   "source": [
    "model = malaya.generator.isi_penting.huggingface()"
   ]
  },
  {
   "cell_type": "markdown",
   "metadata": {},
   "source": [
    "#### generate\n",
    "\n",
    "```python\n",
    "def generate(\n",
    "    self,\n",
    "    strings: List[str],\n",
    "    mode: str = 'surat-khabar',\n",
    "    **kwargs,\n",
    "):\n",
    "    \"\"\"\n",
    "    generate a long text given a isi penting.\n",
    "\n",
    "    Parameters\n",
    "    ----------\n",
    "    strings : List[str]\n",
    "    mode: str, optional (default='surat-khabar')\n",
    "        Mode supported. Allowed values:\n",
    "\n",
    "        * ``'surat-khabar'`` - news style writing.\n",
    "        * ``'tajuk-surat-khabar'`` - headline news style writing.\n",
    "        * ``'artikel'`` - article style writing.\n",
    "        * ``'penerangan-produk'`` - product description style writing.\n",
    "        * ``'karangan'`` - karangan sekolah style writing.\n",
    "\n",
    "    **kwargs: vector arguments pass to huggingface `generate` method.\n",
    "        Read more at https://huggingface.co/docs/transformers/main_classes/text_generation\n",
    "\n",
    "    Returns\n",
    "    -------\n",
    "    result: List[str]\n",
    "    \"\"\"\n",
    "```"
   ]
  },
  {
   "cell_type": "markdown",
   "metadata": {},
   "source": [
    "### Good thing about HuggingFace\n",
    "\n",
    "In `generate` method, you can do greedy, beam, sampling, nucleus decoder and so much more, read it at https://huggingface.co/blog/how-to-generate\n",
    "\n",
    "And recently, huggingface released https://huggingface.co/blog/introducing-csearch"
   ]
  },
  {
   "cell_type": "code",
   "execution_count": 7,
   "metadata": {},
   "outputs": [],
   "source": [
    "isi_penting = ['ayam yang sihat dan sejahtera', 'nasi ayam yang sedap dan lazat', 'kedai bernama Husein Nasi Ayam']"
   ]
  },
  {
   "cell_type": "code",
   "execution_count": 5,
   "metadata": {},
   "outputs": [
    {
     "name": "stderr",
     "output_type": "stream",
     "text": [
      "You're using a T5TokenizerFast tokenizer. Please note that with a fast tokenizer, using the `__call__` method is faster than using a method to encode the text followed by a call to the `pad` method to get a padded encoding.\n"
     ]
    },
    {
     "name": "stdout",
     "output_type": "stream",
     "text": [
      "['Nasi Ayam telah menjadi hidangan tradisi masyarakat Bugis selama lebih dari '\n",
      " 'tiga puluh tahun. Bertapak di kawasan bukit, gunung, dan sungai serta di '\n",
      " 'kawasan paya bakau, kita seringkali dikejutkan oleh berita kedatangan ayam '\n",
      " 'yang digelar sebagai Nasi Ayam. Hari ini, berita ini sering dipaparkan di '\n",
      " 'dada akhbar dan media massa. Bagaimanakah pula dengan nasi ayam yang sedap '\n",
      " 'dan lazat? Tentulah tidak. Mungkin ada sesetengah masyarakat yang tak suka '\n",
      " 'memakan nasi ayam, tetapi tidak salahnya kita mengamalkannya. Bagaimana '\n",
      " 'caranya untuk memastikan nasi ayam kita kekal sedap dan sedap? Nasi ayam '\n",
      " 'ialah ayam yang berasal dari spesies ayam belanda yang memerlukan protein, '\n",
      " 'karbohidrat dan protein yang rendah. Lemak, protein dan lemak menjadi bahan '\n",
      " 'utama bagi menjamah nasi ayam. Nasi ayam merupakan minuman yang mengandungi '\n",
      " 'komponen-komponen yang penting seperti vitamin, mineral dan zat besi. Ia '\n",
      " 'mempunyai sifat antioksidan dan baik untuk kesihatan kulit, hati dan rambut. '\n",
      " 'Mineral seperti besi, zink, tembaga dan titanium yang terdapat pada nasi '\n",
      " 'ayam tidak beracun dan selamat untuk dimakan jika dimakan mentah. Ini adalah '\n",
      " 'kerana kandungan gula dalam darah ayam lebih tinggi berbanding nasi ayam. '\n",
      " 'Selain itu, ia juga mengandungi bahan-bahan kimia']\n"
     ]
    }
   ],
   "source": [
    "pprint(model.generate(isi_penting, mode = 'karangan',\n",
    "    do_sample=True, \n",
    "    max_length=256, \n",
    "    top_k=50, \n",
    "    top_p=0.95,))"
   ]
  },
  {
   "cell_type": "code",
   "execution_count": 8,
   "metadata": {},
   "outputs": [
    {
     "name": "stdout",
     "output_type": "stream",
     "text": [
      "['Segalanya bermula dengan ayam yang sedap dan lazat. Mutakhir ini, pelbagai '\n",
      " 'jenis nasi ayam telah menjadi menu wajib rakyat Malaysia. Antara jenis nasi '\n",
      " 'ayam yang popular ialah ayam salai, nasi putih, nasi merah, nasi putih, nasi '\n",
      " 'putih dan banyak lagi. Nasi ayam ini merupakan makanan yang cukup sedap dan '\n",
      " 'menyelerakan kerana rasanya yang enak. Selain itu, nasi kerabu yang digoreng '\n",
      " 'juga merupakan makanan kegemaran rakyat Malaysia kerana harganya yang '\n",
      " 'berpatutan dan rasanya yang sedap. Selain itu, nasi ayam turut menyelerakan '\n",
      " 'di waktu pagi kerana santan dan kuah yang menjadi menu wajib rakyat '\n",
      " 'Malaysia. Selain itu, nasi ayam juga merupakan makanan tradisi kaum keluarga '\n",
      " 'yang menetap di kampung. Keluarga yang menetap di kampung biasanya akan '\n",
      " 'membawa ayam untuk dijamah bersama-sama dengan santan dan kuah. Hal ini '\n",
      " 'kerana, nasi kerabu merupakan makanan tradisi kaum keluarga yang mendiami '\n",
      " 'kampung. Mereka akan membawa ayam untuk dijamah bersama-sama dengan santan, '\n",
      " 'kuah kacang dan dal sebagai menu utama. Selain itu, nasi ayam juga merupakan '\n",
      " 'hidangan tradisi kaum keluarga yang menetap di kampung. Mereka akan membawa '\n",
      " 'nasi ayam']\n"
     ]
    }
   ],
   "source": [
    "pprint(model.generate(isi_penting, mode = 'karangan',\n",
    "    do_sample=True, \n",
    "    max_length=256, \n",
    "    penalty_alpha=0.8, top_k=4,))"
   ]
  },
  {
   "cell_type": "code",
   "execution_count": 10,
   "metadata": {},
   "outputs": [],
   "source": [
    "# http://mieadham86.blogspot.com/2016/09/isi-isi-penting-karangan-bahasa-melayu.html\n",
    "# CARA MENJADI MURID CEMERLANG\n",
    "\n",
    "isi_penting = ['Rajin berusaha – tidak mudah putus asa',\n",
    "               'Menghormati orang yang lebih tua – mendapat keberkatan',\n",
    "               'Melibatkan diri secara aktif dalam bidang kokurikulum',\n",
    "               'Memberi tumpuan ketika guru mengajar.',\n",
    "               'Berdisiplin – menepati jadual yang disediakan.',\n",
    "               'Bercita-cita tinggi – mempunyai keazaman yang tinggi untuk berjaya']"
   ]
  },
  {
   "cell_type": "code",
   "execution_count": 11,
   "metadata": {},
   "outputs": [
    {
     "name": "stdout",
     "output_type": "stream",
     "text": [
      "['Dalam meniti arus kemodenan negara, pembangunan negara semakin digeruni di '\n",
      " 'dalam segenap pelusuk dunia. Keadaan ini disebabkan pelbagai faktor dan '\n",
      " 'faktor yang menggalakkan pembangunan yang bukan sahaja di Malaysia malah di '\n",
      " 'negara lain juga. Persoalannya, apakah kepentingan untuk pembangunan negara '\n",
      " 'pada hari ini? Antara kepentingan pembangunan negara adalah dapat melahirkan '\n",
      " 'individu yang berfikiran positif, berketrampilan, dan berjaya. Sebagai '\n",
      " 'contoh, usahawan-usahawan tempatan telah mengambil keputusan untuk menceburi '\n",
      " 'bidang pertanian. Mereka telah mendapat idea dan mengusahakan ladang '\n",
      " 'tersebut dengan bantuan suami isteri mereka demi memajukan sektor pertanian '\n",
      " 'ini. Selain itu, pendidikan dan kurikulum yang kukuh turut menjadikan '\n",
      " 'seseorang itu berjaya dalam kerjaya mereka. Sebagai contoh, pendidikan bola '\n",
      " 'sepak dengan bimbingan dan etika yang baik turut menjadi wadah penting untuk '\n",
      " 'melahirkan pemain yang berkebolehan tinggi. Hal ini menyebabkan para pelajar '\n",
      " 'akan sentiasa berusaha untuk mengembangkan ilmu-ilmu yang dipelajari. '\n",
      " 'Sebagai contoh, bola sepak daripada sukan bola sepak Malaysia telah '\n",
      " 'menggapai nama negara di mata dunia apabila memenangi Piala Dunia pada tahun '\n",
      " '1998 dan Piala Asia 2002. Malah para pelajar turut dapat belajar di '\n",
      " 'peringkat Olimpik dengan kejayaan yang sama. Maka, pendidikan dan kurikulum '\n",
      " 'yang kukuh amat diperlukan sebagai persediaan untuk melahirkan para pelajar '\n",
      " 'yang cemerlang dalam pelajaran. Selain itu, perkembangan negara yang kian '\n",
      " 'menerjah dunia menyebabkan']\n"
     ]
    }
   ],
   "source": [
    "pprint(model.generate(isi_penting, do_sample=True, mode = 'karangan',\n",
    "    max_length=256,\n",
    "    top_k=50, \n",
    "    top_p=0.95, ))"
   ]
  },
  {
   "cell_type": "code",
   "execution_count": 12,
   "metadata": {},
   "outputs": [
    {
     "name": "stdout",
     "output_type": "stream",
     "text": [
      "['Pada zaman pascakemerdekaan ini, masyarakat kita telah ditimpa pelbagai '\n",
      " 'masalah sosial seperti pergaulan bebas, pembuangan bayi, dan pelbagai lagi. '\n",
      " 'Isu-isu seperti ini telah mencambahkan stigma negatif masyarakat terhadap '\n",
      " 'masyarakat Malaysia. Oleh itu, kita harus mengenal pasti cara-cara untuk '\n",
      " 'menanganinya. Langkah pertama dalam menangani masalah sosial adalah dengan '\n",
      " 'memberikan tumpuan kepada golongan yang lebih tua. Jika mereka mempunyai '\n",
      " 'masalah, mereka boleh berjumpa dengan ibu dan bapa mereka bagi berbincang '\n",
      " 'tentang masalah yang dihadapi dan kaedah penyelesaiannya. Langkah seterusnya '\n",
      " 'dalam menangani masalah sosial adalah dengan memberikan tumpuan kepada '\n",
      " 'golongan tua yang mempunyai sahsiah yang baik. Ibu dan bapa hendaklah '\n",
      " 'menunjukkan tauladan yang baik kepada anak-anak mereka. Dengan memberi fokus '\n",
      " 'kepada golongan muda seperti ibu, bapa dan ahli keluarga, mereka dapat '\n",
      " 'memberikan perhatian yang secukupnya kepada anak-anak mereka. Selain itu, '\n",
      " 'ibu dan bapa boleh membawa anak-anak untuk ke tempat yang lebih baik apabila '\n",
      " 'mereka pergi ke tempat yang mereka inginkan. Sebagai contoh, apabila '\n",
      " 'anak-anak sudah berusia, ibu dan bapa boleh membawa mereka ke tempat yang '\n",
      " 'lebih baik apabila mereka pergi ke tempat yang mereka inginkan. Ibu dan bapa '\n",
      " 'juga boleh membawa anak-anak untuk ke tempat-tempat yang mereka inginkan '\n",
      " 'untuk mencari rezeki. Dengan memberikan perhatian yang sewajarnya kepada '\n",
      " 'golongan muda seperti']\n"
     ]
    }
   ],
   "source": [
    "pprint(model.generate(isi_penting, mode = 'karangan',\n",
    "    do_sample=True, \n",
    "    max_length=256, \n",
    "    penalty_alpha=0.8, top_k=4,))"
   ]
  }
 ],
 "metadata": {
  "kernelspec": {
   "display_name": "Python 3 (ipykernel)",
   "language": "python",
   "name": "python3"
  },
  "language_info": {
   "codemirror_mode": {
    "name": "ipython",
    "version": 3
   },
   "file_extension": ".py",
   "mimetype": "text/x-python",
   "name": "python",
   "nbconvert_exporter": "python",
   "pygments_lexer": "ipython3",
   "version": "3.8.10"
  },
  "varInspector": {
   "cols": {
    "lenName": 16,
    "lenType": 16,
    "lenVar": 40
   },
   "kernels_config": {
    "python": {
     "delete_cmd_postfix": "",
     "delete_cmd_prefix": "del ",
     "library": "var_list.py",
     "varRefreshCmd": "print(var_dic_list())"
    },
    "r": {
     "delete_cmd_postfix": ") ",
     "delete_cmd_prefix": "rm(",
     "library": "var_list.r",
     "varRefreshCmd": "cat(var_dic_list()) "
    }
   },
   "types_to_exclude": [
    "module",
    "function",
    "builtin_function_or_method",
    "instance",
    "_Feature"
   ],
   "window_display": false
  }
 },
 "nbformat": 4,
 "nbformat_minor": 2
}
