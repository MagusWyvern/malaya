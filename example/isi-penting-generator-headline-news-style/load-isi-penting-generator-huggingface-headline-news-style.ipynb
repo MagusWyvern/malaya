{
 "cells": [
  {
   "cell_type": "markdown",
   "metadata": {},
   "source": [
    "# Isi Penting Generator HuggingFace headline news style"
   ]
  },
  {
   "cell_type": "markdown",
   "metadata": {},
   "source": [
    "Generate a long text with headline news style given isi penting (important facts)."
   ]
  },
  {
   "cell_type": "markdown",
   "metadata": {},
   "source": [
    "<div class=\"alert alert-info\">\n",
    "\n",
    "This tutorial is available as an IPython notebook at [Malaya/example/isi-penting-generator-huggingface-headline-news-style](https://github.com/huseinzol05/Malaya/tree/master/example/isi-penting-generator-huggingface-headline-news-style).\n",
    "    \n",
    "</div>"
   ]
  },
  {
   "cell_type": "markdown",
   "metadata": {},
   "source": [
    "<div class=\"alert alert-warning\">\n",
    "\n",
    "Results generated using stochastic methods.\n",
    "    \n",
    "</div>"
   ]
  },
  {
   "cell_type": "code",
   "execution_count": 1,
   "metadata": {},
   "outputs": [
    {
     "name": "stderr",
     "output_type": "stream",
     "text": [
      "/home/husein/dev/malaya/malaya/tokenizer.py:208: FutureWarning: Possible nested set at position 3386\n",
      "  self.tok = re.compile(r'({})'.format('|'.join(pipeline)))\n",
      "/home/husein/dev/malaya/malaya/tokenizer.py:208: FutureWarning: Possible nested set at position 3904\n",
      "  self.tok = re.compile(r'({})'.format('|'.join(pipeline)))\n"
     ]
    },
    {
     "name": "stdout",
     "output_type": "stream",
     "text": [
      "CPU times: user 3.11 s, sys: 3.5 s, total: 6.61 s\n",
      "Wall time: 2.3 s\n"
     ]
    }
   ],
   "source": [
    "%%time\n",
    "import malaya\n",
    "from pprint import pprint"
   ]
  },
  {
   "cell_type": "markdown",
   "metadata": {},
   "source": [
    "### List available HuggingFace"
   ]
  },
  {
   "cell_type": "code",
   "execution_count": 2,
   "metadata": {},
   "outputs": [
    {
     "data": {
      "text/html": [
       "<div>\n",
       "<style scoped>\n",
       "    .dataframe tbody tr th:only-of-type {\n",
       "        vertical-align: middle;\n",
       "    }\n",
       "\n",
       "    .dataframe tbody tr th {\n",
       "        vertical-align: top;\n",
       "    }\n",
       "\n",
       "    .dataframe thead th {\n",
       "        text-align: right;\n",
       "    }\n",
       "</style>\n",
       "<table border=\"1\" class=\"dataframe\">\n",
       "  <thead>\n",
       "    <tr style=\"text-align: right;\">\n",
       "      <th></th>\n",
       "      <th>Size (MB)</th>\n",
       "      <th>ROUGE-1</th>\n",
       "      <th>ROUGE-2</th>\n",
       "      <th>ROUGE-L</th>\n",
       "      <th>Suggested length</th>\n",
       "    </tr>\n",
       "  </thead>\n",
       "  <tbody>\n",
       "    <tr>\n",
       "      <th>mesolitica/finetune-isi-penting-generator-t5-small-standard-bahasa-cased</th>\n",
       "      <td>242.0</td>\n",
       "      <td>0.246203</td>\n",
       "      <td>0.058961</td>\n",
       "      <td>0.15159</td>\n",
       "      <td>1024.0</td>\n",
       "    </tr>\n",
       "    <tr>\n",
       "      <th>mesolitica/finetune-isi-penting-generator-t5-base-standard-bahasa-cased</th>\n",
       "      <td>892.0</td>\n",
       "      <td>0.246203</td>\n",
       "      <td>0.058961</td>\n",
       "      <td>0.15159</td>\n",
       "      <td>1024.0</td>\n",
       "    </tr>\n",
       "  </tbody>\n",
       "</table>\n",
       "</div>"
      ],
      "text/plain": [
       "                                                    Size (MB)   ROUGE-1  \\\n",
       "mesolitica/finetune-isi-penting-generator-t5-sm...      242.0  0.246203   \n",
       "mesolitica/finetune-isi-penting-generator-t5-ba...      892.0  0.246203   \n",
       "\n",
       "                                                     ROUGE-2  ROUGE-L  \\\n",
       "mesolitica/finetune-isi-penting-generator-t5-sm...  0.058961  0.15159   \n",
       "mesolitica/finetune-isi-penting-generator-t5-ba...  0.058961  0.15159   \n",
       "\n",
       "                                                    Suggested length  \n",
       "mesolitica/finetune-isi-penting-generator-t5-sm...            1024.0  \n",
       "mesolitica/finetune-isi-penting-generator-t5-ba...            1024.0  "
      ]
     },
     "execution_count": 2,
     "metadata": {},
     "output_type": "execute_result"
    }
   ],
   "source": [
    "malaya.generator.isi_penting.available_huggingface()"
   ]
  },
  {
   "cell_type": "markdown",
   "metadata": {},
   "source": [
    "### Load HuggingFace\n",
    "\n",
    "Transformer Generator in Malaya is quite unique, most of the text generative model we found on the internet like GPT2 or Markov, simply just continue prefix input from user, but not for Transformer Generator. We want to generate an article or karangan like high school when the users give 'isi penting'.\n",
    "\n",
    "```python\n",
    "def huggingface(model: str = 'mesolitica/finetune-isi-penting-generator-t5-base-standard-bahasa-cased', **kwargs):\n",
    "    \"\"\"\n",
    "    Load HuggingFace model to generate text based on isi penting.\n",
    "\n",
    "    Parameters\n",
    "    ----------\n",
    "    model: str, optional (default='mesolitica/finetune-isi-penting-generator-t5-base-standard-bahasa-cased')\n",
    "        Check available models at `malaya.generator.isi_penting.available_huggingface()`.\n",
    "\n",
    "    Returns\n",
    "    -------\n",
    "    result: malaya.torch_model.huggingface.IsiPentingGenerator\n",
    "    \"\"\"\n",
    "```"
   ]
  },
  {
   "cell_type": "code",
   "execution_count": 3,
   "metadata": {},
   "outputs": [],
   "source": [
    "model = malaya.generator.isi_penting.huggingface()"
   ]
  },
  {
   "cell_type": "markdown",
   "metadata": {},
   "source": [
    "#### generate\n",
    "\n",
    "```python\n",
    "def generate(\n",
    "    self,\n",
    "    strings: List[str],\n",
    "    mode: str = 'surat-khabar',\n",
    "    **kwargs,\n",
    "):\n",
    "    \"\"\"\n",
    "    generate a long text given a isi penting.\n",
    "\n",
    "    Parameters\n",
    "    ----------\n",
    "    strings : List[str]\n",
    "    mode: str, optional (default='surat-khabar')\n",
    "        Mode supported. Allowed values:\n",
    "\n",
    "        * ``'surat-khabar'`` - news style writing.\n",
    "        * ``'tajuk-surat-khabar'`` - headline news style writing.\n",
    "        * ``'artikel'`` - article style writing.\n",
    "        * ``'penerangan-produk'`` - product description style writing.\n",
    "        * ``'karangan'`` - karangan sekolah style writing.\n",
    "\n",
    "    **kwargs: vector arguments pass to huggingface `generate` method.\n",
    "        Read more at https://huggingface.co/docs/transformers/main_classes/text_generation\n",
    "\n",
    "    Returns\n",
    "    -------\n",
    "    result: List[str]\n",
    "    \"\"\"\n",
    "```"
   ]
  },
  {
   "cell_type": "markdown",
   "metadata": {},
   "source": [
    "### Good thing about HuggingFace\n",
    "\n",
    "In `generate` method, you can do greedy, beam, sampling, nucleus decoder and so much more, read it at https://huggingface.co/blog/how-to-generate\n",
    "\n",
    "And recently, huggingface released https://huggingface.co/blog/introducing-csearch"
   ]
  },
  {
   "cell_type": "code",
   "execution_count": 4,
   "metadata": {},
   "outputs": [],
   "source": [
    "isi_penting = ['Dr M perlu dikekalkan sebagai perdana menteri',\n",
    "              'Muhyiddin perlulah menolong Dr M',\n",
    "              'rakyat perlu menolong Muhyiddin']"
   ]
  },
  {
   "cell_type": "code",
   "execution_count": 5,
   "metadata": {},
   "outputs": [
    {
     "name": "stderr",
     "output_type": "stream",
     "text": [
      "You're using a T5TokenizerFast tokenizer. Please note that with a fast tokenizer, using the `__call__` method is faster than using a method to encode the text followed by a call to the `pad` method to get a padded encoding.\n"
     ]
    },
    {
     "name": "stdout",
     "output_type": "stream",
     "text": [
      "['Menurut Perdana Menteri Muhyiddin Yassin Yassin, perkara itu perlu dilakukan '\n",
      " 'kerana ia memberi manfaat kepada rakyat. \"Ini bukan isu siapa menang kerana '\n",
      " 'rakyat nak tahu siapa yang menang. Muhyiddin perlulah menolong Dr M. \"Rakyat '\n",
      " 'tidak perlu memberi undi kepada Muhyiddin kerana kerajaan sekarang bukan '\n",
      " 'parti Bersatu. Muhyiddin juga akui Dr M tidak akan diberi mandat oleh rakyat '\n",
      " 'pada PRU ke-15 nanti. Namun, Dr M harus dipertahankan sebagai perdana '\n",
      " 'menteri kerana beliau sedar kepentingan rakyat untuk semua dan bukan atas '\n",
      " 'nama orang lain.']\n"
     ]
    }
   ],
   "source": [
    "pprint(model.generate(isi_penting, mode = 'tajuk-surat-khabar',\n",
    "    do_sample=True, \n",
    "    max_length=256, \n",
    "    top_k=50, \n",
    "    top_p=0.95,))"
   ]
  },
  {
   "cell_type": "code",
   "execution_count": 7,
   "metadata": {},
   "outputs": [
    {
     "name": "stdout",
     "output_type": "stream",
     "text": [
      "['KUALA LUMPUR:Perdana Menteri, Tan Sri Muhyiddin Yassin perlu terus kekal '\n",
      " 'menjadi perdana menteri sehingga habis penggal, kata Ahli Parlimen Rembau, '\n",
      " 'Khairy Jamaluddin. Jelasnya, rakyat perlu menolong Muhyiddin untuk '\n",
      " 'meneruskan kehidupan seperti biasa dan tidak terbeban dengan masalah ekonomi '\n",
      " 'yang dihadapi negara ketika ini. \"Tan Sri Muhyiddin mesti kekal sebagai '\n",
      " 'perdana menteri sehingga habis penggal. \"Rakyat perlu menolong beliau untuk '\n",
      " 'meneruskan hidup seperti biasa. \"Beliau perlulah menolong Dr Mahathir,\" '\n",
      " 'katanya dalam satu kenyataan pada Isnin. Dalam masa sama, Khairy menegaskan, '\n",
      " 'rakyat perlu membantu Muhyiddin untuk meneruskan kehidupan seperti biasa. '\n",
      " '\"Rakyat perlu menolong Dr M untuk meneruskan hidup seperti biasa.']\n"
     ]
    }
   ],
   "source": [
    "pprint(model.generate(isi_penting, mode = 'tajuk-surat-khabar',\n",
    "    do_sample=True, \n",
    "    max_length=256, \n",
    "    penalty_alpha=0.8, top_k=4,))"
   ]
  },
  {
   "cell_type": "code",
   "execution_count": 8,
   "metadata": {},
   "outputs": [],
   "source": [
    "isi_penting = ['Neelofa tetap dengan keputusan untuk berkahwin akhir tahun ini',\n",
    "              'Long Tiger sanggup membantu Neelofa',\n",
    "              'Tiba-tiba Long Tiger bergaduh dengan Husein Zolkepli']"
   ]
  },
  {
   "cell_type": "markdown",
   "metadata": {},
   "source": [
    "We also can give any isi penting even does not make any sense."
   ]
  },
  {
   "cell_type": "code",
   "execution_count": 9,
   "metadata": {
    "scrolled": true
   },
   "outputs": [
    {
     "name": "stdout",
     "output_type": "stream",
     "text": [
      "['PENYANYI dan pelakon Neelofa tetap dengan keputusan untuk berkahwin akhir '\n",
      " 'tahun ini. Namun jelasnya, dia tidak boleh lari daripada membuat andaian '\n",
      " 'yang tidak benar berkenaan hal itu kerana ia keputusan yang perlu mengambil '\n",
      " 'kira semua aspek. Neelofa pada awalnya enggan mengambil sikap sedemikian dan '\n",
      " 'dia tetap dengan keputusan itu dan menganggap ia sebagai tidak benar sama '\n",
      " 'sekali. Tiba-tiba Long Tiger bergaduh dengan Husein Zolkepli ketika baru '\n",
      " 'selesai program realiti Big Stage. Bagaimanapun, pasangan ini berjaya '\n",
      " 'menewaskan pasangan yang juga juara Akademi Fantasia musim kelima (AF5) itu '\n",
      " 'sehingga bergelar suami isteri. \"Lagi pun, tak ada sebab yang betul untuk '\n",
      " 'ambil keputusan berkahwin. Jika ada pun, mungkin dengan cara sebegini,\" '\n",
      " 'katanya. Neelofa dan Husein mengikat tali pertunangan pada Mei tahun lalu.']\n"
     ]
    }
   ],
   "source": [
    "pprint(model.generate(isi_penting, do_sample=True, mode = 'tajuk-surat-khabar',\n",
    "    max_length=256,\n",
    "    top_k=50, \n",
    "    top_p=0.95, ))"
   ]
  },
  {
   "cell_type": "code",
   "execution_count": 10,
   "metadata": {},
   "outputs": [
    {
     "name": "stdout",
     "output_type": "stream",
     "text": [
      "['PELAKON dan pengacara, Neelofa tetap dengan keputusan untuk berkahwin akhir '\n",
      " 'tahun ini. Menerusi perkongsian di Instagram (IG), Neelofa berkongsi berita '\n",
      " 'tersebut dengan pengikutnya. \"Alhamdulillah. Terima kasih kepada semua, '\n",
      " 'sahabat-sahabat yang telah memberikan kata semangat dan kata-kata semangat '\n",
      " 'untuk Neelofa dan suami tercinta (Hussein Zolkepli). \"Semoga #Neelofa '\n",
      " 'sentiasa bersama-sama dan #BetterSyukur,\" tulisnya. Menerusi perkongsian '\n",
      " 'sama, Neelofa juga sanggup membantu Long Tiger yang merupakan seorang '\n",
      " 'pelakon. \"Syukur Alhamdulillah... Terima kasih kepada semua sahabat-sahabat '\n",
      " 'yang telah memberikan kata semangat dan kata-kata semangat untuk Neelofa & '\n",
      " 'Husein Zolkepli. \"Semoga #BetterSyukur,\" tulisnya. Tiba-tiba Long Tiger '\n",
      " 'bergaduh dengan Husein. \"Syukur,\" tulisnya. View this post on Instagram.']\n"
     ]
    }
   ],
   "source": [
    "pprint(model.generate(isi_penting, mode = 'tajuk-surat-khabar',\n",
    "    do_sample=True, \n",
    "    max_length=256, \n",
    "    penalty_alpha=0.8, top_k=4,))"
   ]
  },
  {
   "cell_type": "code",
   "execution_count": 14,
   "metadata": {},
   "outputs": [],
   "source": [
    "isi_penting = ['Anwar Ibrahim jadi perdana menteri', 'Muhyiddin cemburu jadi PM tepi',\n",
    "              'PAS menggunakan isu sentimen kaum dan agama']"
   ]
  },
  {
   "cell_type": "code",
   "execution_count": 11,
   "metadata": {},
   "outputs": [
    {
     "name": "stdout",
     "output_type": "stream",
     "text": [
      "['Parti Pribumi Bersatu Malaysia (Bersatu) percaya tiada perbincangan '\n",
      " 'sedemikian dilakukan ketika pertemuan antara Presiden PKR, Datuk Seri Anwar '\n",
      " 'Ibrahim dan Timbalan Presiden Amanah, Mohamad Sabu di Kuala Lumpur pada '\n",
      " 'Selasa. \"Dasar apa yang boleh dibuat ialah PAS menggunakan isu sentimen kaum '\n",
      " 'dan agama yang tidak dapat dielakkan,\" katanya selepas mempengerusikan '\n",
      " 'Mesyuarat Majlis Pimpinan Tertinggi (MPT) Bersatu di ibu pejabat Umno di '\n",
      " 'Kuala Lumpur, malam tadi. Dalam perkembangan lain, Takiyuddin yang juga '\n",
      " 'anggota parlimen Kota Bharu mengingatkan PH sendiri bahawa tiada sebarang '\n",
      " 'rundingan membabitkan Datuk Seri Dr Wan Azizah Wan Ismail dan Datuk Seri '\n",
      " 'Anwar Ibrahim. Muhyiddin cemburu jadi PM tepi \"Ini kerana, walhal ada '\n",
      " 'perjanjian persefahaman (MoU) antara PH dan Anwar ini bermakna PH bergaduh '\n",
      " 'sesama sendiri.']\n"
     ]
    }
   ],
   "source": [
    "pprint(model.generate(isi_penting, do_sample=True, mode = 'tajuk-surat-khabar',\n",
    "    max_length=256))"
   ]
  },
  {
   "cell_type": "code",
   "execution_count": 15,
   "metadata": {},
   "outputs": [
    {
     "name": "stdout",
     "output_type": "stream",
     "text": [
      "['Presiden PKR, Anwar Ibrahim menjadi Perdana Menteri selepas Pakatan Harapan '\n",
      " '(PH) mengambil alih kerajaan selepas pilihan raya umum ke-14 (PRU14) lalu. '\n",
      " '\"Kalau nak jadi Perdana Menteri (perdana menteri), (perdana menteri) '\n",
      " 'Muhyiddin (Yassin), jadi Muhyiddin cemburu jadi PM tepi,\" katanya kepada '\n",
      " 'media selepas menghadiri program \"Sembang Santai bersama rakyat di Kampung '\n",
      " 'Kubang Rotan, di sini, hari ini. Beliau mengulas kenyataan Presiden PAS, '\n",
      " 'Abdul Hadi Awang yang menyifatkan PAS menggunakan isu sentimen kaum dan '\n",
      " 'agama sebagai alasan untuk menyokong gabungan parti itu.']\n"
     ]
    }
   ],
   "source": [
    "pprint(model.generate(isi_penting, mode = 'tajuk-surat-khabar',\n",
    "    do_sample=True, \n",
    "    max_length=256, \n",
    "    penalty_alpha=0.8, top_k=4,))"
   ]
  },
  {
   "cell_type": "code",
   "execution_count": null,
   "metadata": {},
   "outputs": [],
   "source": []
  }
 ],
 "metadata": {
  "kernelspec": {
   "display_name": "Python 3 (ipykernel)",
   "language": "python",
   "name": "python3"
  },
  "language_info": {
   "codemirror_mode": {
    "name": "ipython",
    "version": 3
   },
   "file_extension": ".py",
   "mimetype": "text/x-python",
   "name": "python",
   "nbconvert_exporter": "python",
   "pygments_lexer": "ipython3",
   "version": "3.8.10"
  },
  "varInspector": {
   "cols": {
    "lenName": 16,
    "lenType": 16,
    "lenVar": 40
   },
   "kernels_config": {
    "python": {
     "delete_cmd_postfix": "",
     "delete_cmd_prefix": "del ",
     "library": "var_list.py",
     "varRefreshCmd": "print(var_dic_list())"
    },
    "r": {
     "delete_cmd_postfix": ") ",
     "delete_cmd_prefix": "rm(",
     "library": "var_list.r",
     "varRefreshCmd": "cat(var_dic_list()) "
    }
   },
   "types_to_exclude": [
    "module",
    "function",
    "builtin_function_or_method",
    "instance",
    "_Feature"
   ],
   "window_display": false
  }
 },
 "nbformat": 4,
 "nbformat_minor": 2
}
