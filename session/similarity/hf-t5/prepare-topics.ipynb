{
 "cells": [
  {
   "cell_type": "code",
   "execution_count": 4,
   "metadata": {},
   "outputs": [],
   "source": [
    "# !wget https://huggingface.co/datasets/mesolitica/crawl-astroawani/resolve/main/berita-dunia-v2.json.nested\n",
    "# !wget https://huggingface.co/datasets/mesolitica/crawl-astroawani/resolve/main/berita-hiburan-v2.json.nested\n",
    "# !wget https://huggingface.co/datasets/mesolitica/crawl-astroawani/resolve/main/berita-malaysia-v2.json.nested\n",
    "# !wget https://huggingface.co/datasets/mesolitica/crawl-astroawani/resolve/main/berita-politik-v2.json.nested\n",
    "# !wget https://huggingface.co/datasets/mesolitica/crawl-astroawani/resolve/main/berita-sukan-v2.json.nested\n",
    "# !wget https://huggingface.co/datasets/mesolitica/crawl-astroawani/resolve/main/berita-teknologi-v2.json.nested\n",
    "# !wget https://huggingface.co/datasets/mesolitica/crawl-astroawani/resolve/main/gaya-hidup-v2.json.nested"
   ]
  },
  {
   "cell_type": "code",
   "execution_count": 2,
   "metadata": {},
   "outputs": [
    {
     "name": "stderr",
     "output_type": "stream",
     "text": [
      "/home/husein/dev/malaya/malaya/tokenizer.py:214: FutureWarning: Possible nested set at position 3397\n",
      "  self.tok = re.compile(r'({})'.format('|'.join(pipeline)))\n",
      "/home/husein/dev/malaya/malaya/tokenizer.py:214: FutureWarning: Possible nested set at position 3927\n",
      "  self.tok = re.compile(r'({})'.format('|'.join(pipeline)))\n"
     ]
    }
   ],
   "source": [
    "import json\n",
    "import malaya\n",
    "from bs4 import BeautifulSoup\n",
    "from glob import glob\n",
    "from tqdm import tqdm\n",
    "import random"
   ]
  },
  {
   "cell_type": "code",
   "execution_count": 3,
   "metadata": {
    "scrolled": true
   },
   "outputs": [
    {
     "data": {
      "text/plain": [
       "['berita-dunia-v2.json.nested',\n",
       " 'berita-hiburan-v2.json.nested',\n",
       " 'berita-malaysia-v2.json.nested',\n",
       " 'berita-politik-v2.json.nested',\n",
       " 'berita-sukan-v2.json.nested',\n",
       " 'berita-teknologi-v2.json.nested',\n",
       " 'gaya-hidup-v2.json.nested']"
      ]
     },
     "execution_count": 3,
     "metadata": {},
     "output_type": "execute_result"
    }
   ],
   "source": [
    "files = sorted(glob('*.json.nested'))\n",
    "files"
   ]
  },
  {
   "cell_type": "code",
   "execution_count": 12,
   "metadata": {},
   "outputs": [],
   "source": [
    "from collections import defaultdict"
   ]
  },
  {
   "cell_type": "code",
   "execution_count": 59,
   "metadata": {
    "scrolled": false
   },
   "outputs": [
    {
     "name": "stdout",
     "output_type": "stream",
     "text": [
      "berita-dunia-v2.json.nested\n"
     ]
    },
    {
     "name": "stderr",
     "output_type": "stream",
     "text": [
      "100%|█████████████████████████████████████████████████████████████████████████████████████████████████████| 10000/10000 [00:04<00:00, 2275.67it/s]\n"
     ]
    },
    {
     "name": "stdout",
     "output_type": "stream",
     "text": [
      "berita-hiburan-v2.json.nested\n"
     ]
    },
    {
     "name": "stderr",
     "output_type": "stream",
     "text": [
      "100%|█████████████████████████████████████████████████████████████████████████████████████████████████████| 10000/10000 [00:06<00:00, 1542.89it/s]\n"
     ]
    },
    {
     "name": "stdout",
     "output_type": "stream",
     "text": [
      "berita-malaysia-v2.json.nested\n"
     ]
    },
    {
     "name": "stderr",
     "output_type": "stream",
     "text": [
      "100%|█████████████████████████████████████████████████████████████████████████████████████████████████████| 10000/10000 [00:04<00:00, 2173.04it/s]\n"
     ]
    },
    {
     "name": "stdout",
     "output_type": "stream",
     "text": [
      "berita-politik-v2.json.nested\n"
     ]
    },
    {
     "name": "stderr",
     "output_type": "stream",
     "text": [
      "100%|█████████████████████████████████████████████████████████████████████████████████████████████████████| 10000/10000 [00:05<00:00, 1835.81it/s]\n"
     ]
    },
    {
     "name": "stdout",
     "output_type": "stream",
     "text": [
      "berita-sukan-v2.json.nested\n"
     ]
    },
    {
     "name": "stderr",
     "output_type": "stream",
     "text": [
      "100%|█████████████████████████████████████████████████████████████████████████████████████████████████████| 10000/10000 [00:05<00:00, 1912.26it/s]\n"
     ]
    },
    {
     "name": "stdout",
     "output_type": "stream",
     "text": [
      "berita-teknologi-v2.json.nested\n"
     ]
    },
    {
     "name": "stderr",
     "output_type": "stream",
     "text": [
      "100%|█████████████████████████████████████████████████████████████████████████████████████████████████████████| 998/998 [00:00<00:00, 1921.57it/s]\n"
     ]
    },
    {
     "name": "stdout",
     "output_type": "stream",
     "text": [
      "gaya-hidup-v2.json.nested\n"
     ]
    },
    {
     "name": "stderr",
     "output_type": "stream",
     "text": [
      "100%|███████████████████████████████████████████████████████████████████████████████████████████████████████| 5366/5366 [00:03<00:00, 1438.38it/s]\n"
     ]
    }
   ],
   "source": [
    "texts = []\n",
    "topics = defaultdict(set)\n",
    "with open('paragraph-astroawani.jsonl', 'w') as fopen_l:\n",
    "    for f in files:\n",
    "        print(f)\n",
    "        with open(f) as fopen:\n",
    "            data = json.load(fopen)\n",
    "        for d in tqdm(data):\n",
    "            if 'articleBody' not in d['r']['response']:\n",
    "                continue\n",
    "            try:\n",
    "                soup = BeautifulSoup(d['r']['response']['articleBody'], \"lxml\")\n",
    "                text = BeautifulSoup(soup.get_text(separator=\"\\n\").strip(), \"lxml\").get_text(separator=\"\\n\").strip()\n",
    "                d['r']['response']['articleBody'] = text\n",
    "                d['filename'] = f\n",
    "                texts.append(d)\n",
    "                tags = [t for t in d['original']['tags'] if len(t) > 4]\n",
    "                topics[f].update(set(tags))\n",
    "            except Exception as e:\n",
    "                print(e)\n",
    "                pass"
   ]
  },
  {
   "cell_type": "code",
   "execution_count": 66,
   "metadata": {},
   "outputs": [],
   "source": [
    "topics_keys = set(topics.keys())"
   ]
  },
  {
   "cell_type": "code",
   "execution_count": 74,
   "metadata": {},
   "outputs": [
    {
     "data": {
      "text/plain": [
       "63224"
      ]
     },
     "execution_count": 74,
     "metadata": {},
     "output_type": "execute_result"
    }
   ],
   "source": [
    "import random\n",
    "\n",
    "X1, X2, Y = [], [], []\n",
    "\n",
    "for d in texts:\n",
    "    if random.random() > 0.4:\n",
    "        continue\n",
    "    \n",
    "    if random.random() > 0.5:\n",
    "        X1.append(d['original']['title'])\n",
    "        X2.append(f\"topik {random.choice(d['original']['tags'])}\")\n",
    "        Y.append(1)\n",
    "    \n",
    "    if random.random() > 0.5:\n",
    "        X1.append(d['original']['description'])\n",
    "        X2.append(f\"topik {random.choice(d['original']['tags'])}\")\n",
    "        Y.append(1)\n",
    "    \n",
    "    if random.random() > 0.5:\n",
    "        X1.append(d['r']['response']['articleBody'])\n",
    "        X2.append(f\"topik {random.choice(d['original']['tags'])}\")\n",
    "        Y.append(1)\n",
    "        \n",
    "        \n",
    "for d in texts:\n",
    "    if random.random() > 0.4:\n",
    "        continue\n",
    "    \n",
    "    if random.random() > 0.5:\n",
    "        X1.append(d['original']['title'])\n",
    "        t = random.choice(list(topics[random.choice(list(topics_keys - {d['filename']}))]))\n",
    "        X2.append(f\"topik {t}\")\n",
    "        Y.append(0)\n",
    "    \n",
    "    if random.random() > 0.5:\n",
    "        X1.append(d['original']['description'])\n",
    "        t = random.choice(list(topics[random.choice(list(topics_keys - {d['filename']}))]))\n",
    "        X2.append(f\"topik {t}\")\n",
    "        Y.append(0)\n",
    "    \n",
    "    if random.random() > 0.5:\n",
    "        X1.append(d['r']['response']['articleBody'])\n",
    "        t = random.choice(list(topics[random.choice(list(topics_keys - {d['filename']}))]))\n",
    "        X2.append(f\"topik {t}\")\n",
    "        Y.append(0)\n",
    "    \n",
    "len(X1)"
   ]
  },
  {
   "cell_type": "code",
   "execution_count": 77,
   "metadata": {},
   "outputs": [
    {
     "data": {
      "text/plain": [
       "('Sekumpulan belia Australia telah mencetuskan mania baru di Internet apabila menghasilkan sebuah gerak tari yang digelar “HarlemShake”, iaitu tarian gerakan pinggul yang sehingga kini telah membuatkan ribuan pengguna Internet meniru aksi itu.\\n\\n\\n\\r\\nLima remaja itu yang berasal dari Sunshine Coast, Australia mula dikenali apabila memuatnaik rakaman video klip “The Harlem\\xa0 Shake v1(TSCS original)” (video di bawah) yang berdurasi 31 saat ke laman YouTube pada 2 Februari. Sehingga kini ia telah ditonton lebih\\xa012 juta orang dan angkanya terus meningkat.\\n\\n\\n\\r\\nTarian gerakan pinggul itu bermula dengan kemunculan seorang lelaki bertopi keledar yang menari mengikut rentak lagu “HarlemShake” yang dihasilkan oleh artis meningkat naik dari Brooklyn, DJ Baauer.\\n\\n\\n\\n\\n\\n\\n\\r\\nLelaki itu menari tanpa dihiraukan oleh orang ramai yang berada dalam sebuah bilik. Beberapa saat kemudian, semua yang berada dalam bilik tersebut\\xa0menari bersama termasuk bergoyang dan bergelek mengikut rentak lagu tersebut.\\n\\n\\n\\r\\nGerak tarian itu sebenarnya dimulakan oleh seorang blogger video, Filthy Frank. Namun ia\\xa0jadi popular selepas versi anak muda dari Australia itu dimuatnaik di YouTube.\\xa0\\n\\n\\n\\n\\n\\r\\nMelalui\\xa0YouTube, ribuan klip “Harlem Shake” telah dimuatnaik setiap hari dengan setiap gerakan tarian itu dilakukan oleh\\xa0pelbagai orang\\xa0termasuk sekumpulan anggota tentera. Ia juga dilakukan\\xa0di pelbagai tempat seperti di pejabat, bilik lokar, gerabak kereta api dan perhentian bas.\\n\\n\\n\\r\\nKebanyakan video klip tersebut menyarung pelbagai jenis kostum yang agak pelik termasuklah topeng. \"Harlem Shake\" adalah sebuah video klip gerak tari pinggul berdurasi 30 atau 32 saat yang dimulakan oleh seorang individu yang samada memakai topeng atau topi keledar.\\n\\n\\n\\r\\nIndividu itu akan menari dengan gaya menggerakkan pinggulnya di khalayak ramai namun tiada siapa yang mengambil peduli akan tariannya itu. beberapa saat kemudian, video klip itu akan berubah dimana orang ramai yang pada mulanya tidak mempedulikan individu itu tadi akan berdansa bersama dengan pelbagai aksi yang dianggap pelik. Malah, corak pemakaian yang digunakan juga menggunakan kostum-kostum pelik seperti kostum adiwira, ahli sukan dan pelbagai lagi.',\n",
       " 'topik terikat')"
      ]
     },
     "execution_count": 77,
     "metadata": {},
     "output_type": "execute_result"
    }
   ],
   "source": [
    "X1[-1], X2[-1]"
   ]
  },
  {
   "cell_type": "code",
   "execution_count": 78,
   "metadata": {},
   "outputs": [],
   "source": [
    "with open('topics.json', 'w') as fopen:\n",
    "    json.dump({\n",
    "        'X1': X1,\n",
    "        'X2': X2,\n",
    "        'Y': Y,\n",
    "    }, fopen)"
   ]
  }
 ],
 "metadata": {
  "kernelspec": {
   "display_name": "Python 3 (ipykernel)",
   "language": "python",
   "name": "python3"
  },
  "language_info": {
   "codemirror_mode": {
    "name": "ipython",
    "version": 3
   },
   "file_extension": ".py",
   "mimetype": "text/x-python",
   "name": "python",
   "nbconvert_exporter": "python",
   "pygments_lexer": "ipython3",
   "version": "3.8.10"
  }
 },
 "nbformat": 4,
 "nbformat_minor": 4
}
