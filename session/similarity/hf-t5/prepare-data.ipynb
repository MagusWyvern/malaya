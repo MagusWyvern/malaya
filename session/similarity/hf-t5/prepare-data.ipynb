{
 "cells": [
  {
   "cell_type": "code",
   "execution_count": 2,
   "metadata": {},
   "outputs": [],
   "source": [
    "# !wget https://huggingface.co/datasets/mesolitica/translated-MNLI/resolve/main/translated-mnli-train.jsonl\n",
    "# !wget https://huggingface.co/datasets/mesolitica/translated-MNLI/resolve/main/translated-mnli-dev_matched.jsonl"
   ]
  },
  {
   "cell_type": "code",
   "execution_count": 2,
   "metadata": {},
   "outputs": [],
   "source": [
    "# !wget https://huggingface.co/datasets/mesolitica/translated-MNLI/resolve/main/anli.translated.jsonl"
   ]
  },
  {
   "cell_type": "code",
   "execution_count": 3,
   "metadata": {},
   "outputs": [
    {
     "data": {
      "text/plain": [
       "0.16337827077471856"
      ]
     },
     "execution_count": 3,
     "metadata": {},
     "output_type": "execute_result"
    }
   ],
   "source": [
    "from tqdm import tqdm\n",
    "from glob import glob\n",
    "import json\n",
    "import random\n",
    "\n",
    "random.random()"
   ]
  },
  {
   "cell_type": "code",
   "execution_count": 4,
   "metadata": {},
   "outputs": [],
   "source": [
    "labels = ['contradiction', 'entailment']"
   ]
  },
  {
   "cell_type": "code",
   "execution_count": 5,
   "metadata": {
    "scrolled": true
   },
   "outputs": [
    {
     "name": "stdout",
     "output_type": "stream",
     "text": [
      "{\"annotator_labels\": [\"neutral\"], \"genre\": \"government\", \"gold_label\": \"neutral\", \"pairID\": \"31193n\", \"promptID\": \"31193\", \"sentence1\": \"Conceptually cream skimming has two basic dimensions - product and geography.\", \"sentence1_binary_parse\": \"( ( Conceptually ( cream skimming ) ) ( ( has ( ( ( two ( basic dimensions ) ) - ) ( ( product and ) geography ) ) ) . ) )\", \"sentence1_parse\": \"(ROOT (S (NP (JJ Conceptually) (NN cream) (NN skimming)) (VP (VBZ has) (NP (NP (CD two) (JJ basic) (NNS dimensions)) (: -) (NP (NN product) (CC and) (NN geography)))) (. .)))\", \"sentence2\": \"Product and geography are what make cream skimming work. \", \"sentence2_binary_parse\": \"( ( ( Product and ) geography ) ( ( are ( what ( make ( cream ( skimming work ) ) ) ) ) . ) )\", \"sentence2_parse\": \"(ROOT (S (NP (NN Product) (CC and) (NN geography)) (VP (VBP are) (SBAR (WHNP (WP what)) (S (VP (VBP make) (NP (NP (NN cream)) (VP (VBG skimming) (NP (NN work)))))))) (. .)))\", \"translate\": [\"Skim krim konseptual mempunyai dua dimensi asas - produk dan geografi.\", \"Produk dan geografi adalah apa yang membuat krim skimming berfungsi.\"]}\r\n"
     ]
    }
   ],
   "source": [
    "!head -n 1 translated-mnli-train.jsonl"
   ]
  },
  {
   "cell_type": "code",
   "execution_count": 6,
   "metadata": {},
   "outputs": [
    {
     "name": "stdout",
     "output_type": "stream",
     "text": [
      "{\"uid\": \"2093cfb3-a15f-4282-81e3-0cb793ffd0d7\", \"premise\": \"TOKYO, Dec 18 (Reuters) - Japan\\u2019s Shionogi & Co said on Tuesday that it has applied to health regulators in the United States, Canada and Europe for approval of its HIV drug Dolutegravir. Shionogi developed Dolutegravir with a Viiv Healthcare, an AIDS drug joint venture between GlaxoSmithKline and Pfizer, in exchange for its rights to the drug.\", \"hypothesis\": \"The article was written on December 18th.\", \"label\": 0, \"reason\": \"TOKYO, Dec 18 (Reuters) is when the article was written as it states in the first words of the sentence\", \"premise_ms\": \"TOKYO, 18 Dis (Reuters) - Shionogi & Co Jepun berkata pada hari Selasa bahawa ia telah memohon kepada pengawal selia kesihatan di Amerika Syarikat, Kanada dan Eropah untuk kelulusan ubat HIVnya Dolutegravir. Shionogi membangunkan Dolutegravir dengan Viiv Healthcare, sebuah usaha sama ubat AIDS antara GlaxoSmithKline dan Pfizer, sebagai pertukaran untuk haknya terhadap ubat tersebut.\", \"hypothesis_ms\": \"Artikel itu ditulis pada 18 Disember.\"}\r\n"
     ]
    }
   ],
   "source": [
    "!head -n 1 anli.translated.jsonl"
   ]
  },
  {
   "cell_type": "code",
   "execution_count": 8,
   "metadata": {},
   "outputs": [
    {
     "data": {
      "text/plain": [
       "{'uid': '2093cfb3-a15f-4282-81e3-0cb793ffd0d7',\n",
       " 'premise': 'TOKYO, Dec 18 (Reuters) - Japan’s Shionogi & Co said on Tuesday that it has applied to health regulators in the United States, Canada and Europe for approval of its HIV drug Dolutegravir. Shionogi developed Dolutegravir with a Viiv Healthcare, an AIDS drug joint venture between GlaxoSmithKline and Pfizer, in exchange for its rights to the drug.',\n",
       " 'hypothesis': 'The article was written on December 18th.',\n",
       " 'label': 0,\n",
       " 'reason': 'TOKYO, Dec 18 (Reuters) is when the article was written as it states in the first words of the sentence',\n",
       " 'premise_ms': 'TOKYO, 18 Dis (Reuters) - Shionogi & Co Jepun berkata pada hari Selasa bahawa ia telah memohon kepada pengawal selia kesihatan di Amerika Syarikat, Kanada dan Eropah untuk kelulusan ubat HIVnya Dolutegravir. Shionogi membangunkan Dolutegravir dengan Viiv Healthcare, sebuah usaha sama ubat AIDS antara GlaxoSmithKline dan Pfizer, sebagai pertukaran untuk haknya terhadap ubat tersebut.',\n",
       " 'hypothesis_ms': 'Artikel itu ditulis pada 18 Disember.'}"
      ]
     },
     "execution_count": 8,
     "metadata": {},
     "output_type": "execute_result"
    }
   ],
   "source": [
    "data"
   ]
  },
  {
   "cell_type": "code",
   "execution_count": 9,
   "metadata": {},
   "outputs": [],
   "source": [
    "anli = {\n",
    "    0: 1,\n",
    "    2: 0,\n",
    "}"
   ]
  },
  {
   "cell_type": "code",
   "execution_count": 15,
   "metadata": {
    "scrolled": true
   },
   "outputs": [
    {
     "name": "stdout",
     "output_type": "stream",
     "text": [
      "{\"src\": \"ayat1: TOKYO, Dec 18 (Reuters) - Japan\\u2019s Shionogi & Co said on Tuesday that it has applied to health regulators in the United States, Canada and Europe for approval of its HIV drug Dolutegravir. Shionogi developed Dolutegravir with a Viiv Healthcare, an AIDS drug joint venture between GlaxoSmithKline and Pfizer, in exchange for its rights to the drug. ayat2: The article was written on December 18th.\", \"label\": 1}\r\n"
     ]
    }
   ],
   "source": [
    "!head -n 1 train.json"
   ]
  },
  {
   "cell_type": "code",
   "execution_count": 21,
   "metadata": {},
   "outputs": [
    {
     "name": "stderr",
     "output_type": "stream",
     "text": [
      "100459it [00:00, 137008.56it/s]\n",
      "392702it [00:03, 124487.94it/s]\n"
     ]
    }
   ],
   "source": [
    "with open('train.json', 'w') as fopen_jsonl:\n",
    "    with open('anli.translated.jsonl') as fopen:\n",
    "        for l in tqdm(fopen):\n",
    "            data = json.loads(l)\n",
    "            label = data['label']\n",
    "            label = anli.get(label)\n",
    "            if label is None:\n",
    "                continue\n",
    "                \n",
    "            sent1 = data['premise'].strip()\n",
    "            sent2 = data['hypothesis'].strip()\n",
    "            \n",
    "            sent1_ms = data['premise_ms'].strip()\n",
    "            sent2_ms = data['hypothesis_ms'].strip()\n",
    "            \n",
    "            left = f'ayat1: {sent1} ayat2: {sent2}'\n",
    "            d = {\"src\": left, \"label\": label}\n",
    "            fopen_jsonl.write(f'{json.dumps(d)}\\n')\n",
    "            \n",
    "            left = f'ayat1: {sent1_ms} ayat2: {sent2_ms}'\n",
    "            d = {\"src\": left, \"label\": label}\n",
    "            fopen_jsonl.write(f'{json.dumps(d)}\\n')\n",
    "            \n",
    "            if random.random() > 0.7:\n",
    "            \n",
    "                left = f'ayat1: {sent1} ayat2: {sent2_ms}'\n",
    "                d = {\"src\": left, \"label\": label}\n",
    "                fopen_jsonl.write(f'{json.dumps(d)}\\n')\n",
    "            \n",
    "            if random.random() > 0.7:\n",
    "            \n",
    "                left = f'ayat1: {sent1_ms} ayat2: {sent2}'\n",
    "                d = {\"src\": left, \"label\": label}\n",
    "                fopen_jsonl.write(f'{json.dumps(d)}\\n')\n",
    "            \n",
    "    with open('translated-mnli-train.jsonl') as fopen:\n",
    "        for l in tqdm(fopen):\n",
    "            data = json.loads(l)\n",
    "            label = data['gold_label']\n",
    "            if label not in labels:\n",
    "                continue\n",
    "            if label == '-':\n",
    "                continue\n",
    "            \n",
    "            label = labels.index(label)\n",
    "            sent1 = data['sentence1'].strip()\n",
    "            sent2 = data['sentence2'].strip()\n",
    "            \n",
    "            sent1_ms = data['translate'][0].strip()\n",
    "            sent2_ms = data['translate'][1].strip()\n",
    "            \n",
    "            left = f'ayat1: {sent1} ayat2: {sent2}'\n",
    "            d = {\"src\": left, \"label\": label}\n",
    "            fopen_jsonl.write(f'{json.dumps(d)}\\n')\n",
    "            \n",
    "            left = f'ayat1: {sent1_ms} ayat2: {sent2_ms}'\n",
    "            d = {\"src\": left, \"label\": label}\n",
    "            fopen_jsonl.write(f'{json.dumps(d)}\\n')\n",
    "            \n",
    "            if random.random() > 0.7:\n",
    "            \n",
    "                left = f'ayat1: {sent1} ayat2: {sent2_ms}'\n",
    "                d = {\"src\": left, \"label\": label}\n",
    "                fopen_jsonl.write(f'{json.dumps(d)}\\n')\n",
    "                \n",
    "            if random.random() > 0.7:\n",
    "            \n",
    "                left = f'ayat1: {sent1_ms} ayat2: {sent2}'\n",
    "                d = {\"src\": left, \"label\": label}\n",
    "                fopen_jsonl.write(f'{json.dumps(d)}\\n')\n",
    "    \n",
    "    with open('sentiment.json') as fopen:\n",
    "        data = json.load(fopen)\n",
    "        for i in range(len(data['X1'])):\n",
    "            l = data['X1'][i]\n",
    "            r = data['X2'][i]\n",
    "            left = f'ayat1: {l} ayat2: {r}'\n",
    "            d = {\"src\": left, \"label\": data['Y'][i]}\n",
    "            fopen_jsonl.write(f'{json.dumps(d)}\\n')\n",
    "            \n",
    "    with open('topics.json') as fopen:\n",
    "        data = json.load(fopen)\n",
    "        for i in range(len(data['X1'])):\n",
    "            l = data['X1'][i]\n",
    "            r = data['X2'][i]\n",
    "            left = f'ayat1: {l} ayat2: {r}'\n",
    "            d = {\"src\": left, \"label\": data['Y'][i]}\n",
    "            fopen_jsonl.write(f'{json.dumps(d)}\\n')"
   ]
  },
  {
   "cell_type": "code",
   "execution_count": 22,
   "metadata": {},
   "outputs": [
    {
     "name": "stdout",
     "output_type": "stream",
     "text": [
      "1051464 train.json\r\n"
     ]
    }
   ],
   "source": [
    "!wc -l train.json"
   ]
  },
  {
   "cell_type": "code",
   "execution_count": 23,
   "metadata": {},
   "outputs": [],
   "source": [
    "!shuf train.json > shuffled-train.json"
   ]
  },
  {
   "cell_type": "code",
   "execution_count": 24,
   "metadata": {},
   "outputs": [
    {
     "name": "stderr",
     "output_type": "stream",
     "text": [
      "10000it [00:00, 71898.45it/s]\n"
     ]
    }
   ],
   "source": [
    "with open('test.json', 'w') as fopen_jsonl:\n",
    "    with open('translated-mnli-dev_matched.jsonl') as fopen:\n",
    "        for l in tqdm(fopen):\n",
    "            data = json.loads(l)\n",
    "            label = data['gold_label']\n",
    "            if label not in labels:\n",
    "                continue\n",
    "            if label == '-':\n",
    "                continue\n",
    "            \n",
    "            label = labels.index(label)\n",
    "                \n",
    "            sent1 = data['sentence1'].strip()\n",
    "            sent2 = data['sentence2'].strip()\n",
    "            \n",
    "            sent1_ms = data['translate'][0].strip()\n",
    "            sent2_ms = data['translate'][1].strip()\n",
    "            \n",
    "            left = f'ayat1: {sent1} ayat2: {sent2}'\n",
    "            d = {\"src\": left, \"label\": label}\n",
    "            fopen_jsonl.write(f'{json.dumps(d)}\\n')\n",
    "            \n",
    "            left = f'ayat1: {sent1} ayat2: {sent2_ms}'\n",
    "            d = {\"src\": left, \"label\": label}\n",
    "            fopen_jsonl.write(f'{json.dumps(d)}\\n')\n",
    "            \n",
    "            left = f'ayat1: {sent1_ms} ayat2: {sent2_ms}'\n",
    "            d = {\"src\": left, \"label\": label}\n",
    "            fopen_jsonl.write(f'{json.dumps(d)}\\n')\n",
    "            \n",
    "            left = f'ayat1: {sent1_ms} ayat2: {sent2}'\n",
    "            d = {\"src\": left, \"label\": label}\n",
    "            fopen_jsonl.write(f'{json.dumps(d)}\\n')"
   ]
  },
  {
   "cell_type": "code",
   "execution_count": 25,
   "metadata": {},
   "outputs": [],
   "source": [
    "!shuf test.json > shuffled-test.json"
   ]
  },
  {
   "cell_type": "code",
   "execution_count": 26,
   "metadata": {},
   "outputs": [],
   "source": [
    "!head -n 1000 shuffled-test.json > test-1k.json"
   ]
  },
  {
   "cell_type": "code",
   "execution_count": 27,
   "metadata": {},
   "outputs": [
    {
     "name": "stdout",
     "output_type": "stream",
     "text": [
      "26768 shuffled-test.json\r\n"
     ]
    }
   ],
   "source": [
    "!wc -l shuffled-test.json"
   ]
  },
  {
   "cell_type": "code",
   "execution_count": 28,
   "metadata": {},
   "outputs": [
    {
     "name": "stdout",
     "output_type": "stream",
     "text": [
      "{\"src\": \"ayat1: and it just depends on how bad that person is ayat2: Ia bergantung kepada keadaan anjing.\", \"label\": 0}\r\n",
      "{\"src\": \"ayat1: Smart men make good thieves, as long as they're desperate. ayat2: It is best for a thief to be dumb.\", \"label\": 0}\r\n",
      "{\"src\": \"ayat1: i also use my PC to emulate a mainframe terminal for our IBM mainframe and also to emulate a deck terminal for our deck machine ayat2: PC saya tidak pernah digunakan untuk meniru apa-apa.\", \"label\": 0}\r\n",
      "{\"src\": \"ayat1: Dia mempunyai pencerobohan menyedihkan seorang isteri atau ibu - kepada Bunt tidak ada perbezaan. ayat2: Bunt didn't differentiate from a wife's or mother's agression.\", \"label\": 1}\r\n",
      "{\"src\": \"ayat1: Then it occurred to me that the criminal standard was a low one. ayat2: Saya sedar bahawa penjenayah mempunyai standard yang sangat tinggi.\", \"label\": 0}\r\n",
      "{\"src\": \"ayat1: um-hum betul lakukan di mana anda berada di negeri apa ayat2: Berapa batu yang anda jalankan?\", \"label\": 0}\r\n",
      "{\"src\": \"ayat1: Ia bernilai lawatan, jika hanya untuk melihat teater itu sendiri. ayat2: Tempat ini pasti bernilai melawat, terutamanya untuk teaternya.\", \"label\": 1}\r\n",
      "{\"src\": \"ayat1: A survey of surgeons working in an emergency department found that the most significant predictor of screening was the attending physicians' perception that their responsibilities included screening. ayat2: Sekiranya doktor percaya bahawa mereka bertanggungjawab untuk pemeriksaan, ia lebih cenderung berlaku.\", \"label\": 1}\r\n",
      "{\"src\": \"ayat1: to uh working a steady eight hour job as it were i had been working for a camp and had relatively real long hours sixteen years old and could handle getting up at five and not getting to bed until ten or eleven and ayat2: I had been working all day long for a camp.\", \"label\": 1}\r\n",
      "{\"src\": \"ayat1: Tampaknya korupsi endemik dikompaun oleh kekurangan kepemimpinan politik yang luar biasa dan tindakan tegas. ayat2: There is no corruption.\", \"label\": 0}\r\n"
     ]
    }
   ],
   "source": [
    "!head -n 10 shuffled-test.json"
   ]
  },
  {
   "cell_type": "code",
   "execution_count": 2,
   "metadata": {},
   "outputs": [],
   "source": [
    "from typing import List, Dict, Optional\n",
    "from pydantic import BaseModel, Field"
   ]
  },
  {
   "cell_type": "code",
   "execution_count": 3,
   "metadata": {},
   "outputs": [],
   "source": [
    "class FunctionCall(BaseModel):\n",
    "    name: Optional[str] = None\n",
    "    arguments: str"
   ]
  },
  {
   "cell_type": "code",
   "execution_count": 6,
   "metadata": {},
   "outputs": [],
   "source": [
    "form = FunctionCall(arguments = 'a')"
   ]
  },
  {
   "cell_type": "code",
   "execution_count": 9,
   "metadata": {},
   "outputs": [
    {
     "data": {
      "text/plain": [
       "False"
      ]
     },
     "execution_count": 9,
     "metadata": {},
     "output_type": "execute_result"
    }
   ],
   "source": [
    "getattr(form, 'a', False)"
   ]
  },
  {
   "cell_type": "code",
   "execution_count": null,
   "metadata": {},
   "outputs": [],
   "source": []
  }
 ],
 "metadata": {
  "kernelspec": {
   "display_name": "Python 3 (ipykernel)",
   "language": "python",
   "name": "python3"
  },
  "language_info": {
   "codemirror_mode": {
    "name": "ipython",
    "version": 3
   },
   "file_extension": ".py",
   "mimetype": "text/x-python",
   "name": "python",
   "nbconvert_exporter": "python",
   "pygments_lexer": "ipython3",
   "version": "3.8.10"
  }
 },
 "nbformat": 4,
 "nbformat_minor": 4
}
