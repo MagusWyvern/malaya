{
 "cells": [
  {
   "cell_type": "code",
   "execution_count": 1,
   "metadata": {},
   "outputs": [
    {
     "data": {
      "text/plain": [
       "0.8655797806638457"
      ]
     },
     "execution_count": 1,
     "metadata": {},
     "output_type": "execute_result"
    }
   ],
   "source": [
    "from tqdm import tqdm\n",
    "from glob import glob\n",
    "import json\n",
    "import random\n",
    "\n",
    "random.random()"
   ]
  },
  {
   "cell_type": "code",
   "execution_count": 2,
   "metadata": {
    "scrolled": true
   },
   "outputs": [
    {
     "data": {
      "text/plain": [
       "['rebel-train00.splitted.translated',\n",
       " 'rebel-train01.splitted.translated',\n",
       " 'rebel-train02.splitted.translated',\n",
       " 'rebel-train03.splitted.translated',\n",
       " 'rebel-train04.splitted.translated',\n",
       " 'rebel-train05.splitted.translated',\n",
       " 'rebel-train06.splitted.translated',\n",
       " 'rebel-train07.splitted.translated',\n",
       " 'rebel-train08.splitted.translated',\n",
       " 'rebel-train09.splitted.translated',\n",
       " 'rebel-train10.splitted.translated',\n",
       " 'rebel-train11.splitted.translated',\n",
       " 'rebel-train12.splitted.translated',\n",
       " 'rebel-train9.splitted.translated',\n",
       " 'rebel-val00.splitted.translated']"
      ]
     },
     "execution_count": 2,
     "metadata": {},
     "output_type": "execute_result"
    }
   ],
   "source": [
    "rebel = glob('rebel-train*.splitted.translated')\n",
    "rebel.extend(glob('rebel-val*.splitted.translated'))\n",
    "rebel = sorted(rebel)\n",
    "rebel"
   ]
  },
  {
   "cell_type": "code",
   "execution_count": 3,
   "metadata": {},
   "outputs": [
    {
     "data": {
      "text/plain": [
       "['rebel-test00.splitted.translated']"
      ]
     },
     "execution_count": 3,
     "metadata": {},
     "output_type": "execute_result"
    }
   ],
   "source": [
    "rebel_test = glob('rebel-test*.splitted.translated')\n",
    "rebel_test = sorted(rebel_test)\n",
    "rebel_test"
   ]
  },
  {
   "cell_type": "code",
   "execution_count": 4,
   "metadata": {},
   "outputs": [
    {
     "data": {
      "text/plain": [
       "['quadruples-train00.splitted.translated',\n",
       " 'quadruples-train01.splitted.translated',\n",
       " 'quadruples-train02.splitted.translated',\n",
       " 'quadruples-train03.splitted.translated',\n",
       " 'quadruples-train04.splitted.translated',\n",
       " 'quadruples-train05.splitted.translated',\n",
       " 'quadruples-train06.splitted.translated',\n",
       " 'quadruples-train07.splitted.translated',\n",
       " 'quadruples-train08.splitted.translated',\n",
       " 'quadruples-train09.splitted.translated',\n",
       " 'quadruples-train10.splitted.translated',\n",
       " 'quadruples-train11.splitted.translated',\n",
       " 'quadruples-train12.splitted.translated',\n",
       " 'quadruples-train13.splitted.translated',\n",
       " 'quadruples-train14.splitted.translated',\n",
       " 'quadruples-train15.splitted.translated',\n",
       " 'quadruples-train16.splitted.translated',\n",
       " 'quadruples-train17.splitted.translated',\n",
       " 'quadruples-train18.splitted.translated',\n",
       " 'quadruples-train19.splitted.translated',\n",
       " 'quadruples-train20.splitted.translated',\n",
       " 'quadruples-train21.splitted.translated',\n",
       " 'quadruples-train22.splitted.translated',\n",
       " 'quadruples-train23.splitted.translated',\n",
       " 'quadruples-train24.splitted.translated',\n",
       " 'quadruples-train25.splitted.translated',\n",
       " 'quadruples-train26.splitted.translated',\n",
       " 'quadruples-train27.splitted.translated',\n",
       " 'quadruples-train28.splitted.translated',\n",
       " 'quadruples-train29.splitted.translated',\n",
       " 'quadruples-train30.splitted.translated',\n",
       " 'quadruples-train31.splitted.translated',\n",
       " 'quadruples-validation00.splitted.translated',\n",
       " 'quadruples-validation01.splitted.translated',\n",
       " 'quadruples-validation02.splitted.translated',\n",
       " 'quadruples-validation03.splitted.translated']"
      ]
     },
     "execution_count": 4,
     "metadata": {},
     "output_type": "execute_result"
    }
   ],
   "source": [
    "kelm = glob('quadruples-train*.splitted.translated')\n",
    "kelm.extend(glob('quadruples-validation*.splitted.translated'))\n",
    "kelm = sorted(kelm)\n",
    "kelm"
   ]
  },
  {
   "cell_type": "code",
   "execution_count": 5,
   "metadata": {},
   "outputs": [
    {
     "data": {
      "text/plain": [
       "['quadruples-test00.splitted.translated',\n",
       " 'quadruples-test01.splitted.translated',\n",
       " 'quadruples-test02.splitted.translated']"
      ]
     },
     "execution_count": 5,
     "metadata": {},
     "output_type": "execute_result"
    }
   ],
   "source": [
    "kelm_test = glob('quadruples-test*.splitted.translated')\n",
    "kelm_test = sorted(kelm_test)\n",
    "kelm_test"
   ]
  },
  {
   "cell_type": "code",
   "execution_count": 6,
   "metadata": {},
   "outputs": [],
   "source": [
    "def rebel_format(triplets):\n",
    "    \"\"\"\n",
    "    Convert\n",
    "    [['Bruno Santana', 'participant of', '2004 Summer Olympics'],\n",
    "    ['Bruno Santana', 'participant of', '2008 Summer Olympics'],\n",
    "    ['Bruno Santana', 'country of citizenship', 'Brazil']]\n",
    "    to rebel format,\n",
    "    <triplet> Bruno Santana <subj> 2004 Summer Olympics <obj> participant of <subj> 2008 Summer Olympics <obj> participant of <subj> Brazil <obj> country of citizenship\n",
    "    \"\"\"\n",
    "    q = []\n",
    "    for no, triple in enumerate(triplets):\n",
    "        obj = ['<obj>'] + triple[1].split()\n",
    "        subj = ['<subj>'] + triple[2].split()\n",
    "        if no > 0 and triple[0] == triplets[no - 1][0]:\n",
    "            q.extend(subj + obj)\n",
    "        else:\n",
    "            triplet = ['<triplet>'] + triple[0].split()\n",
    "            q.extend(triplet + subj + obj)\n",
    "    return ' '.join(q)"
   ]
  },
  {
   "cell_type": "code",
   "execution_count": 7,
   "metadata": {},
   "outputs": [
    {
     "data": {
      "text/plain": [
       "('Mikhail Alekseyevich Belyaev (Rusia: Михаил Алексеевич Беляев; 23 Disember 1863 - 1918) ialah seorang jeneral Infantri Rusia, ahli negara, Ketua Staf Tentera Darat Imperial Rusia dari 1 Ogos 1914 hingga 10 Ogos 1916, dan merupakan Menteri Perang terakhir Empayar Rusia dari 3 Januari 1917 hingga 28 Februari 1917.',\n",
       " '<triplet> Mikhail Belyaev <subj> 01 January 1918 <obj> date of death <subj> Russian Empire <obj> allegiance <subj> minister of war <obj> position held <subj> Russian Empire <obj> country of citizenship <subj> 23 December 1863 <obj> date of birth')"
      ]
     },
     "execution_count": 7,
     "metadata": {},
     "output_type": "execute_result"
    }
   ],
   "source": [
    "with open(kelm[0]) as fopen:\n",
    "    for l in fopen:\n",
    "        data = json.loads(l)\n",
    "        break\n",
    "        \n",
    "data[0]['translate'], rebel_format(data[0]['triples'])"
   ]
  },
  {
   "cell_type": "code",
   "execution_count": 8,
   "metadata": {},
   "outputs": [
    {
     "data": {
      "text/plain": [
       "{'triples': [['Mikhail Belyaev', 'date of death', '01 January 1918'],\n",
       "  ['Mikhail Belyaev', 'allegiance', 'Russian Empire'],\n",
       "  ['Mikhail Belyaev', 'position held', 'minister of war'],\n",
       "  ['Mikhail Belyaev', 'country of citizenship', 'Russian Empire'],\n",
       "  ['Mikhail Belyaev', 'date of birth', '23 December 1863']],\n",
       " 'serialized_triples': 'Mikhail Belyaev date of death 01 January 1918, allegiance Russian Empire, position held minister of war, country of citizenship Russian Empire, date of birth 23 December 1863',\n",
       " 'sentence': 'Mikhail Alekseyevich Belyaev (Russian: ; December 23, 1863Â\\xa0- 1918) was a Russian general of the Infantry, statesman, Chief of Staff of the Imperial Russian Army from August 1, 1914 to August 10, 1916, and was the last Minister of War of the Russian Empire from January 3, 1917 to February 28, 1917.',\n",
       " 'translate': 'Mikhail Alekseyevich Belyaev (Rusia: Михаил Алексеевич Беляев; 23 Disember 1863 - 1918) ialah seorang jeneral Infantri Rusia, ahli negara, Ketua Staf Tentera Darat Imperial Rusia dari 1 Ogos 1914 hingga 10 Ogos 1916, dan merupakan Menteri Perang terakhir Empayar Rusia dari 3 Januari 1917 hingga 28 Februari 1917.'}"
      ]
     },
     "execution_count": 8,
     "metadata": {},
     "output_type": "execute_result"
    }
   ],
   "source": [
    "data[0]"
   ]
  },
  {
   "cell_type": "code",
   "execution_count": 9,
   "metadata": {},
   "outputs": [
    {
     "data": {
      "text/plain": [
       "'Mikhail Alekseyevich Belyaev (Rusia: Михаил Алексеевич Беляев; 23 Disember 1863 - 1918) ialah seorang jeneral Infantri Rusia, ahli negara, Ketua Staf Tentera Darat Imperial Rusia dari 1 Ogos 1914 hingga 10 Ogos 1916, dan merupakan Menteri Perang terakhir Empayar Rusia dari 3 Januari 1917 hingga 28 Februari 1917.'"
      ]
     },
     "execution_count": 9,
     "metadata": {},
     "output_type": "execute_result"
    }
   ],
   "source": [
    "data[0]['translate']"
   ]
  },
  {
   "cell_type": "code",
   "execution_count": 10,
   "metadata": {},
   "outputs": [
    {
     "data": {
      "text/plain": [
       "('The Philippine one hundred-peso note ( Filipino: \"Sandaang Piso\" ) ( ₱100 ) is a denomination of Philippine currency . ',\n",
       " '<triplet> Philippine one hundred-peso note <subj> 100 <obj> face value',\n",
       " 'Nota seratus peso Filipina (Bahasa Filipina: \"Sandaang Piso\") (100) adalah denominasi mata wang Filipina.')"
      ]
     },
     "execution_count": 10,
     "metadata": {},
     "output_type": "execute_result"
    }
   ],
   "source": [
    "with open(rebel[0]) as fopen:\n",
    "    for l in fopen:\n",
    "        data = json.loads(l)\n",
    "        break\n",
    "        \n",
    "data[0]['context'], data[0]['triplets'], data[0]['translate']"
   ]
  },
  {
   "cell_type": "code",
   "execution_count": 11,
   "metadata": {},
   "outputs": [
    {
     "data": {
      "text/plain": [
       "'Nota seratus peso Filipina (Bahasa Filipina: \"Sandaang Piso\") (100) adalah denominasi mata wang Filipina.'"
      ]
     },
     "execution_count": 11,
     "metadata": {},
     "output_type": "execute_result"
    }
   ],
   "source": [
    "data[0]['translate']"
   ]
  },
  {
   "cell_type": "code",
   "execution_count": 13,
   "metadata": {},
   "outputs": [
    {
     "name": "stdout",
     "output_type": "stream",
     "text": [
      "quadruples-train00.splitted.translated\n"
     ]
    },
    {
     "name": "stderr",
     "output_type": "stream",
     "text": [
      "66668it [00:02, 30533.28it/s]\n"
     ]
    },
    {
     "name": "stdout",
     "output_type": "stream",
     "text": [
      "quadruples-train01.splitted.translated\n"
     ]
    },
    {
     "name": "stderr",
     "output_type": "stream",
     "text": [
      "66667it [00:02, 29843.20it/s]\n"
     ]
    },
    {
     "name": "stdout",
     "output_type": "stream",
     "text": [
      "quadruples-train02.splitted.translated\n"
     ]
    },
    {
     "name": "stderr",
     "output_type": "stream",
     "text": [
      "66667it [00:02, 29999.92it/s]\n"
     ]
    },
    {
     "name": "stdout",
     "output_type": "stream",
     "text": [
      "quadruples-train03.splitted.translated\n"
     ]
    },
    {
     "name": "stderr",
     "output_type": "stream",
     "text": [
      "66668it [00:02, 30141.13it/s]\n"
     ]
    },
    {
     "name": "stdout",
     "output_type": "stream",
     "text": [
      "quadruples-train04.splitted.translated\n"
     ]
    },
    {
     "name": "stderr",
     "output_type": "stream",
     "text": [
      "66668it [00:02, 30113.64it/s]\n"
     ]
    },
    {
     "name": "stdout",
     "output_type": "stream",
     "text": [
      "quadruples-train05.splitted.translated\n"
     ]
    },
    {
     "name": "stderr",
     "output_type": "stream",
     "text": [
      "66667it [00:02, 29953.38it/s]\n"
     ]
    },
    {
     "name": "stdout",
     "output_type": "stream",
     "text": [
      "quadruples-train06.splitted.translated\n"
     ]
    },
    {
     "name": "stderr",
     "output_type": "stream",
     "text": [
      "66667it [00:02, 29899.86it/s]\n"
     ]
    },
    {
     "name": "stdout",
     "output_type": "stream",
     "text": [
      "quadruples-train07.splitted.translated\n"
     ]
    },
    {
     "name": "stderr",
     "output_type": "stream",
     "text": [
      "66668it [00:02, 29901.40it/s]\n"
     ]
    },
    {
     "name": "stdout",
     "output_type": "stream",
     "text": [
      "quadruples-train08.splitted.translated\n"
     ]
    },
    {
     "name": "stderr",
     "output_type": "stream",
     "text": [
      "66667it [00:02, 30144.30it/s]\n"
     ]
    },
    {
     "name": "stdout",
     "output_type": "stream",
     "text": [
      "quadruples-train09.splitted.translated\n"
     ]
    },
    {
     "name": "stderr",
     "output_type": "stream",
     "text": [
      "66667it [00:02, 30562.86it/s]\n"
     ]
    },
    {
     "name": "stdout",
     "output_type": "stream",
     "text": [
      "quadruples-train10.splitted.translated\n"
     ]
    },
    {
     "name": "stderr",
     "output_type": "stream",
     "text": [
      "66667it [00:02, 30493.20it/s]\n"
     ]
    },
    {
     "name": "stdout",
     "output_type": "stream",
     "text": [
      "quadruples-train11.splitted.translated\n"
     ]
    },
    {
     "name": "stderr",
     "output_type": "stream",
     "text": [
      "66667it [00:02, 30512.10it/s]\n"
     ]
    },
    {
     "name": "stdout",
     "output_type": "stream",
     "text": [
      "quadruples-train12.splitted.translated\n"
     ]
    },
    {
     "name": "stderr",
     "output_type": "stream",
     "text": [
      "66667it [00:02, 30487.71it/s]\n"
     ]
    },
    {
     "name": "stdout",
     "output_type": "stream",
     "text": [
      "quadruples-train13.splitted.translated\n"
     ]
    },
    {
     "name": "stderr",
     "output_type": "stream",
     "text": [
      "66667it [00:02, 30572.61it/s]\n"
     ]
    },
    {
     "name": "stdout",
     "output_type": "stream",
     "text": [
      "quadruples-train14.splitted.translated\n"
     ]
    },
    {
     "name": "stderr",
     "output_type": "stream",
     "text": [
      "66667it [00:02, 30280.09it/s]\n"
     ]
    },
    {
     "name": "stdout",
     "output_type": "stream",
     "text": [
      "quadruples-train15.splitted.translated\n"
     ]
    },
    {
     "name": "stderr",
     "output_type": "stream",
     "text": [
      "66667it [00:02, 29166.99it/s]\n"
     ]
    },
    {
     "name": "stdout",
     "output_type": "stream",
     "text": [
      "quadruples-train16.splitted.translated\n"
     ]
    },
    {
     "name": "stderr",
     "output_type": "stream",
     "text": [
      "66667it [00:02, 30879.50it/s]\n"
     ]
    },
    {
     "name": "stdout",
     "output_type": "stream",
     "text": [
      "quadruples-train17.splitted.translated\n"
     ]
    },
    {
     "name": "stderr",
     "output_type": "stream",
     "text": [
      "66667it [00:02, 30439.72it/s]\n"
     ]
    },
    {
     "name": "stdout",
     "output_type": "stream",
     "text": [
      "quadruples-train18.splitted.translated\n"
     ]
    },
    {
     "name": "stderr",
     "output_type": "stream",
     "text": [
      "66667it [00:02, 30538.58it/s]\n"
     ]
    },
    {
     "name": "stdout",
     "output_type": "stream",
     "text": [
      "quadruples-train19.splitted.translated\n"
     ]
    },
    {
     "name": "stderr",
     "output_type": "stream",
     "text": [
      "66667it [00:02, 30541.14it/s]\n"
     ]
    },
    {
     "name": "stdout",
     "output_type": "stream",
     "text": [
      "quadruples-train20.splitted.translated\n"
     ]
    },
    {
     "name": "stderr",
     "output_type": "stream",
     "text": [
      "66667it [00:02, 30822.07it/s]\n"
     ]
    },
    {
     "name": "stdout",
     "output_type": "stream",
     "text": [
      "quadruples-train21.splitted.translated\n"
     ]
    },
    {
     "name": "stderr",
     "output_type": "stream",
     "text": [
      "66667it [00:02, 30712.93it/s]\n"
     ]
    },
    {
     "name": "stdout",
     "output_type": "stream",
     "text": [
      "quadruples-train22.splitted.translated\n"
     ]
    },
    {
     "name": "stderr",
     "output_type": "stream",
     "text": [
      "66667it [00:02, 30805.08it/s]\n"
     ]
    },
    {
     "name": "stdout",
     "output_type": "stream",
     "text": [
      "quadruples-train23.splitted.translated\n"
     ]
    },
    {
     "name": "stderr",
     "output_type": "stream",
     "text": [
      "66667it [00:02, 30296.40it/s]\n"
     ]
    },
    {
     "name": "stdout",
     "output_type": "stream",
     "text": [
      "quadruples-train24.splitted.translated\n"
     ]
    },
    {
     "name": "stderr",
     "output_type": "stream",
     "text": [
      "66667it [00:02, 30480.11it/s]\n"
     ]
    },
    {
     "name": "stdout",
     "output_type": "stream",
     "text": [
      "quadruples-train25.splitted.translated\n"
     ]
    },
    {
     "name": "stderr",
     "output_type": "stream",
     "text": [
      "66667it [00:02, 30411.76it/s]\n"
     ]
    },
    {
     "name": "stdout",
     "output_type": "stream",
     "text": [
      "quadruples-train26.splitted.translated\n"
     ]
    },
    {
     "name": "stderr",
     "output_type": "stream",
     "text": [
      "66667it [00:02, 30256.16it/s]\n"
     ]
    },
    {
     "name": "stdout",
     "output_type": "stream",
     "text": [
      "quadruples-train27.splitted.translated\n"
     ]
    },
    {
     "name": "stderr",
     "output_type": "stream",
     "text": [
      "66667it [00:02, 30764.10it/s]\n"
     ]
    },
    {
     "name": "stdout",
     "output_type": "stream",
     "text": [
      "quadruples-train28.splitted.translated\n"
     ]
    },
    {
     "name": "stderr",
     "output_type": "stream",
     "text": [
      "66667it [00:02, 30171.21it/s]\n"
     ]
    },
    {
     "name": "stdout",
     "output_type": "stream",
     "text": [
      "quadruples-train29.splitted.translated\n"
     ]
    },
    {
     "name": "stderr",
     "output_type": "stream",
     "text": [
      "66667it [00:02, 24570.84it/s]\n"
     ]
    },
    {
     "name": "stdout",
     "output_type": "stream",
     "text": [
      "quadruples-train30.splitted.translated\n"
     ]
    },
    {
     "name": "stderr",
     "output_type": "stream",
     "text": [
      "66668it [00:02, 25494.86it/s]\n"
     ]
    },
    {
     "name": "stdout",
     "output_type": "stream",
     "text": [
      "quadruples-train31.splitted.translated\n"
     ]
    },
    {
     "name": "stderr",
     "output_type": "stream",
     "text": [
      "36687it [00:01, 25646.79it/s]\n"
     ]
    },
    {
     "name": "stdout",
     "output_type": "stream",
     "text": [
      "quadruples-validation00.splitted.translated\n"
     ]
    },
    {
     "name": "stderr",
     "output_type": "stream",
     "text": [
      "66669it [00:02, 30755.80it/s]\n"
     ]
    },
    {
     "name": "stdout",
     "output_type": "stream",
     "text": [
      "quadruples-validation01.splitted.translated\n"
     ]
    },
    {
     "name": "stderr",
     "output_type": "stream",
     "text": [
      "66667it [00:02, 30235.13it/s]\n"
     ]
    },
    {
     "name": "stdout",
     "output_type": "stream",
     "text": [
      "quadruples-validation02.splitted.translated\n"
     ]
    },
    {
     "name": "stderr",
     "output_type": "stream",
     "text": [
      "66668it [00:02, 30581.79it/s]\n"
     ]
    },
    {
     "name": "stdout",
     "output_type": "stream",
     "text": [
      "quadruples-validation03.splitted.translated\n"
     ]
    },
    {
     "name": "stderr",
     "output_type": "stream",
     "text": [
      "62918it [00:02, 27986.07it/s]\n"
     ]
    },
    {
     "name": "stdout",
     "output_type": "stream",
     "text": [
      "rebel-train00.splitted.translated\n"
     ]
    },
    {
     "name": "stderr",
     "output_type": "stream",
     "text": [
      "66669it [00:01, 34177.82it/s]\n"
     ]
    },
    {
     "name": "stdout",
     "output_type": "stream",
     "text": [
      "rebel-train01.splitted.translated\n"
     ]
    },
    {
     "name": "stderr",
     "output_type": "stream",
     "text": [
      "66668it [00:01, 33398.74it/s]\n"
     ]
    },
    {
     "name": "stdout",
     "output_type": "stream",
     "text": [
      "rebel-train02.splitted.translated\n"
     ]
    },
    {
     "name": "stderr",
     "output_type": "stream",
     "text": [
      "66668it [00:02, 33225.04it/s]\n"
     ]
    },
    {
     "name": "stdout",
     "output_type": "stream",
     "text": [
      "rebel-train03.splitted.translated\n"
     ]
    },
    {
     "name": "stderr",
     "output_type": "stream",
     "text": [
      "66668it [00:02, 33199.83it/s]\n"
     ]
    },
    {
     "name": "stdout",
     "output_type": "stream",
     "text": [
      "rebel-train04.splitted.translated\n"
     ]
    },
    {
     "name": "stderr",
     "output_type": "stream",
     "text": [
      "66668it [00:02, 33310.02it/s]\n"
     ]
    },
    {
     "name": "stdout",
     "output_type": "stream",
     "text": [
      "rebel-train05.splitted.translated\n"
     ]
    },
    {
     "name": "stderr",
     "output_type": "stream",
     "text": [
      "66668it [00:02, 32764.58it/s]\n"
     ]
    },
    {
     "name": "stdout",
     "output_type": "stream",
     "text": [
      "rebel-train06.splitted.translated\n"
     ]
    },
    {
     "name": "stderr",
     "output_type": "stream",
     "text": [
      "66668it [00:02, 32981.89it/s]\n"
     ]
    },
    {
     "name": "stdout",
     "output_type": "stream",
     "text": [
      "rebel-train07.splitted.translated\n"
     ]
    },
    {
     "name": "stderr",
     "output_type": "stream",
     "text": [
      "66668it [00:02, 32597.15it/s]\n"
     ]
    },
    {
     "name": "stdout",
     "output_type": "stream",
     "text": [
      "rebel-train08.splitted.translated\n"
     ]
    },
    {
     "name": "stderr",
     "output_type": "stream",
     "text": [
      "66667it [00:02, 29658.35it/s]\n"
     ]
    },
    {
     "name": "stdout",
     "output_type": "stream",
     "text": [
      "rebel-train09.splitted.translated\n"
     ]
    },
    {
     "name": "stderr",
     "output_type": "stream",
     "text": [
      "66667it [00:02, 32435.09it/s]\n"
     ]
    },
    {
     "name": "stdout",
     "output_type": "stream",
     "text": [
      "rebel-train10.splitted.translated\n"
     ]
    },
    {
     "name": "stderr",
     "output_type": "stream",
     "text": [
      "66667it [00:02, 32860.20it/s]\n"
     ]
    },
    {
     "name": "stdout",
     "output_type": "stream",
     "text": [
      "rebel-train11.splitted.translated\n"
     ]
    },
    {
     "name": "stderr",
     "output_type": "stream",
     "text": [
      "66667it [00:02, 32892.51it/s]\n"
     ]
    },
    {
     "name": "stdout",
     "output_type": "stream",
     "text": [
      "rebel-train12.splitted.translated\n"
     ]
    },
    {
     "name": "stderr",
     "output_type": "stream",
     "text": [
      "2757it [00:00, 34378.62it/s]\n"
     ]
    },
    {
     "name": "stdout",
     "output_type": "stream",
     "text": [
      "rebel-train9.splitted.translated\n"
     ]
    },
    {
     "name": "stderr",
     "output_type": "stream",
     "text": [
      "0it [00:00, ?it/s]\n"
     ]
    },
    {
     "name": "stdout",
     "output_type": "stream",
     "text": [
      "rebel-val00.splitted.translated\n"
     ]
    },
    {
     "name": "stderr",
     "output_type": "stream",
     "text": [
      "44424it [00:01, 33158.97it/s]\n"
     ]
    }
   ],
   "source": [
    "with open('train.json', 'w') as fopen_jsonl:\n",
    "    for f in kelm:\n",
    "        print(f)\n",
    "        with open(f) as fopen:\n",
    "            for l in tqdm(fopen):\n",
    "                data = json.loads(l)\n",
    "                for d in data:\n",
    "                    left_en = d['sentence']\n",
    "                    left = d['translate']\n",
    "                    right = rebel_format(d['triples'])\n",
    "                    \n",
    "                    if len(left) and len(right) and len(left.split()) < 256 and len(right.split()) < 256:\n",
    "                        d = {\"translation\": {\"src\": left, \"tgt\": right, 'prefix': 'teks ke grafik pengetahuan: '}}\n",
    "                        fopen_jsonl.write(f'{json.dumps(d)}\\n')\n",
    "                        d = {\"translation\": {\"src\": right, \"tgt\": left, 'prefix': 'grafik pengetahuan ke teks: '}}\n",
    "                        fopen_jsonl.write(f'{json.dumps(d)}\\n')\n",
    "                    \n",
    "                    if random.random() > 0.5 and len(left_en) and len(right) and len(left_en.split()) < 256 and len(right.split()) < 256:\n",
    "                        d = {\"translation\": {\"src\": left_en, \"tgt\": right, 'prefix': 'teks ke grafik pengetahuan: '}}\n",
    "                        fopen_jsonl.write(f'{json.dumps(d)}\\n')\n",
    "                        \n",
    "    for f in rebel:\n",
    "        print(f)\n",
    "        with open(f) as fopen:\n",
    "            for l in tqdm(fopen):\n",
    "                data = json.loads(l)\n",
    "                for d in data:\n",
    "                    left_en = d['context']\n",
    "                    left = d['translate']\n",
    "                    right = d['triplets']\n",
    "                    \n",
    "                    if len(left) and len(right) and len(left.split()) < 256 and len(right.split()) < 256:\n",
    "                        d = {\"translation\": {\"src\": left, \"tgt\": right, 'prefix': 'teks ke grafik pengetahuan: '}}\n",
    "                        fopen_jsonl.write(f'{json.dumps(d)}\\n')\n",
    "                        d = {\"translation\": {\"src\": right, \"tgt\": left, 'prefix': 'grafik pengetahuan ke teks: '}}\n",
    "                        fopen_jsonl.write(f'{json.dumps(d)}\\n')\n",
    "                    \n",
    "                    if random.random() > 0.5 and len(left_en) and len(right) and len(left_en.split()) < 256 and len(right.split()) < 256:\n",
    "                        d = {\"translation\": {\"src\": left_en, \"tgt\": right, 'prefix': 'teks ke grafik pengetahuan: '}}\n",
    "                        fopen_jsonl.write(f'{json.dumps(d)}\\n')"
   ]
  },
  {
   "cell_type": "code",
   "execution_count": 14,
   "metadata": {
    "scrolled": true
   },
   "outputs": [
    {
     "name": "stdout",
     "output_type": "stream",
     "text": [
      "quadruples-test00.splitted.translated\n"
     ]
    },
    {
     "name": "stderr",
     "output_type": "stream",
     "text": [
      "66673it [00:02, 29279.51it/s]\n"
     ]
    },
    {
     "name": "stdout",
     "output_type": "stream",
     "text": [
      "quadruples-test01.splitted.translated\n"
     ]
    },
    {
     "name": "stderr",
     "output_type": "stream",
     "text": [
      "66667it [00:02, 29278.44it/s]\n"
     ]
    },
    {
     "name": "stdout",
     "output_type": "stream",
     "text": [
      "quadruples-test02.splitted.translated\n"
     ]
    },
    {
     "name": "stderr",
     "output_type": "stream",
     "text": [
      "28225it [00:00, 28815.91it/s]\n"
     ]
    },
    {
     "name": "stdout",
     "output_type": "stream",
     "text": [
      "rebel-test00.splitted.translated\n"
     ]
    },
    {
     "name": "stderr",
     "output_type": "stream",
     "text": [
      "44552it [00:01, 32446.72it/s]\n"
     ]
    }
   ],
   "source": [
    "with open('test.json', 'w') as fopen_jsonl:\n",
    "    for f in kelm_test:\n",
    "        print(f)\n",
    "        with open(f) as fopen:\n",
    "            for l in tqdm(fopen):\n",
    "                data = json.loads(l)\n",
    "                for d in data:\n",
    "                    left_en = d['sentence']\n",
    "                    left = d['translate']\n",
    "                    right = rebel_format(d['triples'])\n",
    "                    \n",
    "                    if len(left) and len(right) and len(left.split()) < 256 and len(right.split()) < 256:\n",
    "                        d = {\"translation\": {\"src\": left, \"tgt\": right, 'prefix': 'teks ke grafik pengetahuan: '}}\n",
    "                        fopen_jsonl.write(f'{json.dumps(d)}\\n')\n",
    "                        d = {\"translation\": {\"src\": right, \"tgt\": left, 'prefix': 'grafik pengetahuan ke teks: '}}\n",
    "                        fopen_jsonl.write(f'{json.dumps(d)}\\n')\n",
    "                    \n",
    "                    if random.random() > 0.5 and len(left_en) and len(right) and len(left_en.split()) < 256 and len(right.split()) < 256:\n",
    "                        d = {\"translation\": {\"src\": left_en, \"tgt\": right, 'prefix': 'teks ke grafik pengetahuan: '}}\n",
    "                        fopen_jsonl.write(f'{json.dumps(d)}\\n')\n",
    "                        \n",
    "    for f in rebel_test:\n",
    "        print(f)\n",
    "        with open(f) as fopen:\n",
    "            for l in tqdm(fopen):\n",
    "                data = json.loads(l)\n",
    "                for d in data:\n",
    "                    left_en = d['context']\n",
    "                    left = d['translate']\n",
    "                    right = d['triplets']\n",
    "                    \n",
    "                    if len(left) and len(right) and len(left.split()) < 256 and len(right.split()) < 256:\n",
    "                        d = {\"translation\": {\"src\": left, \"tgt\": right, 'prefix': 'teks ke grafik pengetahuan: '}}\n",
    "                        fopen_jsonl.write(f'{json.dumps(d)}\\n')\n",
    "                        d = {\"translation\": {\"src\": right, \"tgt\": left, 'prefix': 'grafik pengetahuan ke teks: '}}\n",
    "                        fopen_jsonl.write(f'{json.dumps(d)}\\n')\n",
    "                    \n",
    "                    if random.random() > 0.5 and len(left_en) and len(right) and len(left_en.split()) < 256 and len(right.split()) < 256:\n",
    "                        d = {\"translation\": {\"src\": left_en, \"tgt\": right, 'prefix': 'teks ke grafik pengetahuan: '}}\n",
    "                        fopen_jsonl.write(f'{json.dumps(d)}\\n')"
   ]
  },
  {
   "cell_type": "code",
   "execution_count": 15,
   "metadata": {},
   "outputs": [],
   "source": [
    "!head -n 4000 test.json > test-4k.json"
   ]
  },
  {
   "cell_type": "code",
   "execution_count": null,
   "metadata": {},
   "outputs": [],
   "source": []
  }
 ],
 "metadata": {
  "kernelspec": {
   "display_name": "Python 3 (ipykernel)",
   "language": "python",
   "name": "python3"
  },
  "language_info": {
   "codemirror_mode": {
    "name": "ipython",
    "version": 3
   },
   "file_extension": ".py",
   "mimetype": "text/x-python",
   "name": "python",
   "nbconvert_exporter": "python",
   "pygments_lexer": "ipython3",
   "version": "3.8.10"
  }
 },
 "nbformat": 4,
 "nbformat_minor": 4
}
