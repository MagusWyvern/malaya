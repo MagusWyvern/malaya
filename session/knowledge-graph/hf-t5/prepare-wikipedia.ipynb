{
 "cells": [
  {
   "cell_type": "code",
   "execution_count": 14,
   "id": "739da681",
   "metadata": {},
   "outputs": [],
   "source": [
    "# !wget https://huggingface.co/datasets/mesolitica/chatgpt-kg-triplets/resolve/main/kg-paragraph-wikipedia.translated.jsonl"
   ]
  },
  {
   "cell_type": "code",
   "execution_count": 15,
   "id": "e5075466",
   "metadata": {},
   "outputs": [],
   "source": [
    "import json"
   ]
  },
  {
   "cell_type": "code",
   "execution_count": 16,
   "id": "68f75331",
   "metadata": {},
   "outputs": [],
   "source": [
    "def rebel_format(triplets):\n",
    "    \"\"\"\n",
    "    Convert\n",
    "    [['Bruno Santana', 'participant of', '2004 Summer Olympics'],\n",
    "    ['Bruno Santana', 'participant of', '2008 Summer Olympics'],\n",
    "    ['Bruno Santana', 'country of citizenship', 'Brazil']]\n",
    "    to rebel format,\n",
    "    <triplet> Bruno Santana <subj> 2004 Summer Olympics <obj> participant of <subj> 2008 Summer Olympics <obj> participant of <subj> Brazil <obj> country of citizenship\n",
    "    \"\"\"\n",
    "    q = []\n",
    "    for no, triple in enumerate(triplets):\n",
    "        obj = ['<obj>'] + triple[1].split()\n",
    "        subj = ['<subj>'] + triple[2].split()\n",
    "        if no > 0 and triple[0] == triplets[no - 1][0]:\n",
    "            q.extend(subj + obj)\n",
    "        else:\n",
    "            triplet = ['<triplet>'] + triple[0].split()\n",
    "            q.extend(triplet + subj + obj)\n",
    "    return ' '.join(q)"
   ]
  },
  {
   "cell_type": "code",
   "execution_count": 19,
   "id": "3cce8f22",
   "metadata": {},
   "outputs": [],
   "source": [
    "with open('kg-paragraph-wikipedia.translated.jsonl') as fopen:\n",
    "    for l in fopen:\n",
    "        data = json.loads(l)\n",
    "        if len(data['paragraph_kg_ms']):  \n",
    "            break"
   ]
  },
  {
   "cell_type": "code",
   "execution_count": 22,
   "id": "864893e7",
   "metadata": {},
   "outputs": [
    {
     "data": {
      "text/plain": [
       "['Menurut bancian India pada tahun 2001, Remuna memiliki bilangan penduduk seramai 28,958. Dari jumlah tersebut, kaum lelaki membentuk 52% dari jumlah keseluruhan populasi dan wanita seramai 48%. ',\n",
       " [{'head': 'Remuna', 'type': 'populasi', 'tail': '28958'},\n",
       "  {'head': 'Remuna', 'type': 'peratusan_populasi lelaki', 'tail': '52'},\n",
       "  {'head': 'Remuna', 'type': 'peratusan_populasi wanita', 'tail': '48'}]]"
      ]
     },
     "execution_count": 22,
     "metadata": {},
     "output_type": "execute_result"
    }
   ],
   "source": [
    "data['paragraph_kg_ms'][0]"
   ]
  },
  {
   "cell_type": "code",
   "execution_count": 34,
   "id": "05d5ccc0",
   "metadata": {},
   "outputs": [],
   "source": [
    "with open('processed-kg-wikipedia.jsonl', 'w') as fopen_l:\n",
    "    with open('kg-paragraph-wikipedia.translated.jsonl') as fopen:\n",
    "        for l in fopen:\n",
    "            data = json.loads(l)\n",
    "            for r in data['paragraph_kg_ms']:\n",
    "                text, g = r\n",
    "                if not g:\n",
    "                    continue\n",
    "                triples = []\n",
    "                for t in g:\n",
    "                    if any([t_ is None for t_ in t.values()]):\n",
    "                        continue\n",
    "                    triples.append([t['head'], t['type'], t['tail']])\n",
    "                kg = rebel_format(triples).replace('_', ' ')\n",
    "\n",
    "                d = {\n",
    "                    'text': text.strip(),\n",
    "                    'kg': kg\n",
    "                }\n",
    "                fopen_l.write(f'{json.dumps(d)}\\n')\n",
    "                fopen_l.flush()"
   ]
  },
  {
   "cell_type": "code",
   "execution_count": 36,
   "id": "a256a52c",
   "metadata": {},
   "outputs": [
    {
     "name": "stdout",
     "output_type": "stream",
     "text": [
      "74318 processed-kg-wikipedia.jsonl\r\n"
     ]
    }
   ],
   "source": [
    "!wc -l processed-kg-wikipedia.jsonl"
   ]
  },
  {
   "cell_type": "code",
   "execution_count": 35,
   "id": "e7127e2d",
   "metadata": {},
   "outputs": [
    {
     "name": "stdout",
     "output_type": "stream",
     "text": [
      "{\"text\": \"Menurut bancian India pada tahun 2001, Remuna memiliki bilangan penduduk seramai 28,958. Dari jumlah tersebut, kaum lelaki membentuk 52% dari jumlah keseluruhan populasi dan wanita seramai 48%.\", \"kg\": \"<triplet> Remuna <subj> 28958 <obj> populasi <subj> 52 <obj> peratusan populasi lelaki <subj> 48 <obj> peratusan populasi wanita\"}\r\n",
      "{\"text\": \"Menurut bancian India pada tahun 2001 Remuna memiliki kadar pendidikan (kebolehan membaca) 61%, melebihi kadar purata kebangsaan 59.5%; dengan 59% lelaki dan 41% wanita mampu membaca. 14% dari populasi berusia di bawah 6 tahun. (2001)\", \"kg\": \"<triplet> Remuna <subj> 61% <obj> pendidikan <subj> 59.5% <obj> kadar purata kebangsaan <subj> 59% <obj> lelaki mampu membaca <subj> 41% <obj> wanita mampu membaca <subj> 14% <obj> populasi berumur di bawah 6 tahun\"}\r\n",
      "{\"text\": \"Pencetak baris tanpa hentaman merupakan sejenis pencetak komputer yang menggunakan kaedah laser, elektrostatik atau kaedah pancutan dakwat adalah pencetak yang terlaju dan paling senyap. Pencetak laser Xerox 9700 misalnya, berkeupayaan mencetak lebih daripada 18,000 baris per minit.\", \"kg\": \"<triplet> Pencetak baris tanpa hentaman <subj> pencetak komputer <obj> jenis <subj> laser, elektrostatik, kaedah pancutan dakwat <obj> kaedah <subj> terlaju <obj> kelajuan <subj> paling senyap <obj> kesenyapan <triplet> Pencetak laser Xerox 9700 <subj> lebih daripada 18,000 baris setiap minit <obj> keupayaan untuk mencetak\"}\r\n",
      "{\"text\": \"Sebelum pembangunan pencetak jet dakwat dan pencetak laser, pencetak tanpa hentaman tidak banyak digunakan kerana beberapa sebab:\", \"kg\": \"<triplet> pencetak <subj> tidak banyak <obj> digunakan <subj> kerana beberapa sebab <obj> tidak digunakan banyak\"}\r\n"
     ]
    }
   ],
   "source": [
    "!head -n 4 processed-kg-wikipedia.jsonl"
   ]
  },
  {
   "cell_type": "code",
   "execution_count": null,
   "id": "44fdaf2d",
   "metadata": {},
   "outputs": [],
   "source": []
  }
 ],
 "metadata": {
  "kernelspec": {
   "display_name": "Python 3 (ipykernel)",
   "language": "python",
   "name": "python3"
  },
  "language_info": {
   "codemirror_mode": {
    "name": "ipython",
    "version": 3
   },
   "file_extension": ".py",
   "mimetype": "text/x-python",
   "name": "python",
   "nbconvert_exporter": "python",
   "pygments_lexer": "ipython3",
   "version": "3.8.10"
  }
 },
 "nbformat": 4,
 "nbformat_minor": 5
}
