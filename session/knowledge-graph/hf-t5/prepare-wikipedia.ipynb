{
 "cells": [
  {
   "cell_type": "code",
   "execution_count": 1,
   "id": "e5075466",
   "metadata": {},
   "outputs": [],
   "source": [
    "import json"
   ]
  },
  {
   "cell_type": "code",
   "execution_count": 2,
   "id": "68f75331",
   "metadata": {},
   "outputs": [],
   "source": [
    "def rebel_format(triplets):\n",
    "    \"\"\"\n",
    "    Convert\n",
    "    [['Bruno Santana', 'participant of', '2004 Summer Olympics'],\n",
    "    ['Bruno Santana', 'participant of', '2008 Summer Olympics'],\n",
    "    ['Bruno Santana', 'country of citizenship', 'Brazil']]\n",
    "    to rebel format,\n",
    "    <triplet> Bruno Santana <subj> 2004 Summer Olympics <obj> participant of <subj> 2008 Summer Olympics <obj> participant of <subj> Brazil <obj> country of citizenship\n",
    "    \"\"\"\n",
    "    q = []\n",
    "    for no, triple in enumerate(triplets):\n",
    "        obj = ['<obj>'] + triple[1].split()\n",
    "        subj = ['<subj>'] + triple[2].split()\n",
    "        if no > 0 and triple[0] == triplets[no - 1][0]:\n",
    "            q.extend(subj + obj)\n",
    "        else:\n",
    "            triplet = ['<triplet>'] + triple[0].split()\n",
    "            q.extend(triplet + subj + obj)\n",
    "    return ' '.join(q)"
   ]
  },
  {
   "cell_type": "code",
   "execution_count": 4,
   "id": "3cce8f22",
   "metadata": {},
   "outputs": [],
   "source": [
    "with open('kg-paragraph-wikipedia.jsonl') as fopen:\n",
    "    for l in fopen:\n",
    "        data = json.loads(l)\n",
    "        \n",
    "        break"
   ]
  },
  {
   "cell_type": "code",
   "execution_count": 5,
   "id": "864893e7",
   "metadata": {},
   "outputs": [
    {
     "data": {
      "text/plain": [
       "{'paragraph': ['Sir Francis Owen Garbatt Williams CBE (lahir 16 April 1942) ialah pengasas dan ketua pasukan bagi pasukan Formula Satu WilliamsF1.'],\n",
       " 'paragraph_kg': [['Sir Francis Owen Garbatt Williams CBE (lahir 16 April 1942) ialah pengasas dan ketua pasukan bagi pasukan Formula Satu WilliamsF1.',\n",
       "   None]]}"
      ]
     },
     "execution_count": 5,
     "metadata": {},
     "output_type": "execute_result"
    }
   ],
   "source": [
    "data"
   ]
  },
  {
   "cell_type": "code",
   "execution_count": 18,
   "id": "05d5ccc0",
   "metadata": {},
   "outputs": [],
   "source": [
    "with open('processed-kg-astroawani.jsonl', 'w') as fopen_l:\n",
    "    with open('kg-astroawani.jsonl') as fopen:\n",
    "        for l in fopen:\n",
    "            data = json.loads(l)\n",
    "            \n",
    "            if data['title_kg']:\n",
    "                triples = []\n",
    "                for t in data['title_kg']['triplets']:\n",
    "                    if any([t_ is None for t_ in t.values()]):\n",
    "                        continue\n",
    "                    triples.append([t['subject'], t['predicate'], t['object']])\n",
    "\n",
    "                if len(triples):\n",
    "                    kg = rebel_format(triples)\n",
    "                    d = {\n",
    "                        'text': data['title'].strip(),\n",
    "                        'kg': kg\n",
    "                    }\n",
    "                    fopen_l.write(f'{json.dumps(d)}\\n')\n",
    "                    fopen_l.flush()\n",
    "            \n",
    "            if data['description_kg']:\n",
    "                triples = []\n",
    "                for t in data['description_kg']['triplets']:\n",
    "                    if any([t_ is None for t_ in t.values()]):\n",
    "                        continue\n",
    "                    triples.append([t['subject'], t['predicate'], t['object']])\n",
    "\n",
    "                if len(triples):\n",
    "                    kg = rebel_format(triples)\n",
    "                    d = {\n",
    "                        'text': data['description'].strip(),\n",
    "                        'kg': kg\n",
    "                    }\n",
    "                    fopen_l.write(f'{json.dumps(d)}\\n')\n",
    "                    fopen_l.flush()\n",
    "            \n",
    "            for body in data['body_kg']:\n",
    "                if body[1]:\n",
    "                    triples = []\n",
    "                    for t in body[1]['triplets']:\n",
    "                        if any([t_ is None for t_ in t.values()]):\n",
    "                            continue\n",
    "                        triples.append([t['subject'], t['predicate'], t['object']])\n",
    "                    \n",
    "                    if len(triples):\n",
    "                        kg = rebel_format(triples)\n",
    "                        d = {\n",
    "                            'text': body[0].strip(),\n",
    "                            'kg': kg\n",
    "                        }\n",
    "                        fopen_l.write(f'{json.dumps(d)}\\n')\n",
    "                        fopen_l.flush()"
   ]
  },
  {
   "cell_type": "code",
   "execution_count": 19,
   "id": "7c521e3a",
   "metadata": {},
   "outputs": [
    {
     "name": "stdout",
     "output_type": "stream",
     "text": [
      "140086 processed-kg-astroawani.jsonl\r\n"
     ]
    }
   ],
   "source": [
    "!wc -l processed-kg-astroawani.jsonl"
   ]
  },
  {
   "cell_type": "code",
   "execution_count": 20,
   "id": "20cb7eb5",
   "metadata": {},
   "outputs": [
    {
     "name": "stdout",
     "output_type": "stream",
     "text": [
      "{\"text\": \"Padah jalin hubungan sulit dengan pekerja sendiri, CEO McDonald's dipecat serta merta\", \"kg\": \"<triplet> Padah <subj> hubungan sulit <obj> memiliki <triplet> hubungan sulit <subj> pekerja sendiri <obj> dengan <triplet> Padah <subj> CEO McDonald's <obj> dipecat\"}\r\n",
      "{\"text\": \"CEO tidak boleh menjalin hubungan dengan mana-mana kakitangan.\", \"kg\": \"<triplet> CEO <subj> kakitangan <obj> tidak boleh menjalin hubungan dengan\"}\r\n",
      "{\"text\": \"SYARIKAT rantaian makanan segera terkemuka dunia, McDonald's Corp mengesahkan telah memecat Ketua Pegawai Eksekutif (CEO), Steve Easterbrook selepas menjalinkan hubungan sulit dengan salah seorang kakitangannya.\", \"kg\": \"<triplet> McDonald's Corp <subj> world's leading fast food chain company <obj> is a <subj> firing CEO Steve Easterbrook <obj> confirmed <triplet> Steve Easterbrook <subj> an inappropriate relationship with an employee <obj> had\"}\r\n"
     ]
    }
   ],
   "source": [
    "!head -n 3 processed-kg-astroawani.jsonl"
   ]
  },
  {
   "cell_type": "code",
   "execution_count": 21,
   "id": "e7127e2d",
   "metadata": {},
   "outputs": [
    {
     "name": "stdout",
     "output_type": "stream",
     "text": [
      "{\"text\": \"Padah jalin hubungan sulit dengan pekerja sendiri, CEO McDonald's dipecat serta merta\", \"kg\": \"<triplet> Padah <subj> hubungan sulit <obj> memiliki <triplet> hubungan sulit <subj> pekerja sendiri <obj> dengan <triplet> Padah <subj> CEO McDonald's <obj> dipecat\"}\r\n",
      "{\"text\": \"CEO tidak boleh menjalin hubungan dengan mana-mana kakitangan.\", \"kg\": \"<triplet> CEO <subj> kakitangan <obj> tidak boleh menjalin hubungan dengan\"}\r\n",
      "{\"text\": \"SYARIKAT rantaian makanan segera terkemuka dunia, McDonald's Corp mengesahkan telah memecat Ketua Pegawai Eksekutif (CEO), Steve Easterbrook selepas menjalinkan hubungan sulit dengan salah seorang kakitangannya.\", \"kg\": \"<triplet> McDonald's Corp <subj> world's leading fast food chain company <obj> is a <subj> firing CEO Steve Easterbrook <obj> confirmed <triplet> Steve Easterbrook <subj> an inappropriate relationship with an employee <obj> had\"}\r\n",
      "{\"text\": \"Menurut McDonald's dalam satu kenyataan, tindakan tersebut diambil berikutan Easterbrook, 52, didakwa melanggar polisi syarikat, yang tidak membenarkan CEO mempunyai hubungan dengan mana-mana kakitangan syarikat.\", \"kg\": \"<triplet> McDonald's <subj> Tindakan diambil berikutan Easterbrook didakwa melanggar polisi syarikat yang tidak membenarkan CEO mempunyai hubungan dengan mana-mana kakitangan syarikat. <obj> statement\"}\r\n"
     ]
    }
   ],
   "source": [
    "!head -n 4 processed-kg-astroawani.jsonl"
   ]
  },
  {
   "cell_type": "code",
   "execution_count": null,
   "id": "44fdaf2d",
   "metadata": {},
   "outputs": [],
   "source": []
  }
 ],
 "metadata": {
  "kernelspec": {
   "display_name": "Python 3 (ipykernel)",
   "language": "python",
   "name": "python3"
  },
  "language_info": {
   "codemirror_mode": {
    "name": "ipython",
    "version": 3
   },
   "file_extension": ".py",
   "mimetype": "text/x-python",
   "name": "python",
   "nbconvert_exporter": "python",
   "pygments_lexer": "ipython3",
   "version": "3.8.10"
  }
 },
 "nbformat": 4,
 "nbformat_minor": 5
}
