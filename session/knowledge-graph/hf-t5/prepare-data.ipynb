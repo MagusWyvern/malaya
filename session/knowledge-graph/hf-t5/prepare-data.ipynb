{
 "cells": [
  {
   "cell_type": "code",
   "execution_count": 57,
   "metadata": {},
   "outputs": [
    {
     "data": {
      "text/plain": [
       "0.8343402902861339"
      ]
     },
     "execution_count": 57,
     "metadata": {},
     "output_type": "execute_result"
    }
   ],
   "source": [
    "from tqdm import tqdm\n",
    "from glob import glob\n",
    "import json\n",
    "import random\n",
    "\n",
    "random.random()"
   ]
  },
  {
   "cell_type": "code",
   "execution_count": 58,
   "metadata": {},
   "outputs": [
    {
     "name": "stdout",
     "output_type": "stream",
     "text": [
      "en_test.jsonl\tkg-astroawani.jsonl\t      prepare-data.ipynb\r\n",
      "en_train.jsonl\tkg-paragraph-wikipedia.jsonl  prepare-wikipedia.ipynb\r\n",
      "en_val.jsonl\tprepare-astroawani.ipynb      processed-kg-astroawani.jsonl\r\n"
     ]
    }
   ],
   "source": [
    "# !wget https://huggingface.co/datasets/Babelscape/rebel-dataset/resolve/main/rebel_dataset.zip\n",
    "# !unzip rebel_dataset.zip\n",
    "!ls"
   ]
  },
  {
   "cell_type": "code",
   "execution_count": 59,
   "metadata": {},
   "outputs": [],
   "source": [
    "# !wget https://huggingface.co/datasets/mesolitica/chatgpt-kg-triplets/resolve/main/kg-astroawani.jsonl\n",
    "# !wget https://huggingface.co/datasets/mesolitica/chatgpt-kg-triplets/resolve/main/kg-paragraph-wikipedia.jsonl"
   ]
  },
  {
   "cell_type": "code",
   "execution_count": 65,
   "metadata": {},
   "outputs": [],
   "source": [
    "import re\n",
    "\n",
    "def rebel_format(triplets):\n",
    "    \"\"\"\n",
    "    Convert\n",
    "    [['Bruno Santana', 'participant of', '2004 Summer Olympics'],\n",
    "    ['Bruno Santana', 'participant of', '2008 Summer Olympics'],\n",
    "    ['Bruno Santana', 'country of citizenship', 'Brazil']]\n",
    "    to rebel format,\n",
    "    <triplet> Bruno Santana <subj> 2004 Summer Olympics <obj> participant of <subj> 2008 Summer Olympics <obj> participant of <subj> Brazil <obj> country of citizenship\n",
    "    \"\"\"\n",
    "    q = []\n",
    "    for no, triple in enumerate(triplets):\n",
    "        obj = ['<obj>'] + triple[1].split()\n",
    "        subj = ['<subj>'] + triple[2].split()\n",
    "        if no > 0 and triple[0] == triplets[no - 1][0]:\n",
    "            q.extend(subj + obj)\n",
    "        else:\n",
    "            triplet = ['<triplet>'] + triple[0].split()\n",
    "            q.extend(triplet + subj + obj)\n",
    "    \n",
    "    return re.sub(r'[ ]+', ' ', ' '.join(q)).strip()"
   ]
  },
  {
   "cell_type": "code",
   "execution_count": 69,
   "metadata": {},
   "outputs": [
    {
     "name": "stdout",
     "output_type": "stream",
     "text": [
      "<triplet> Philippine one hundred-peso note <subj> 100 <obj> face value <triplet> Manuel A. Roxas <subj> Philippine president <obj> position held \n",
      "\n",
      "<triplet> Philippine five hundred-peso note <subj> 500 <obj> face value <triplet> Corazon Aquino <subj> President <obj> position held \n",
      "\n",
      " \n",
      "\n",
      "<triplet> Philippine one thousand-peso note <subj> 1000 <obj> face value \n",
      "\n",
      "<triplet> Tórshavn <subj> Faroese <obj> country \n",
      "\n",
      "<triplet> Philippine two hundred-peso note <subj> 200 <obj> face value <triplet> Philippine president <subj> 14th President of the Philippines <obj> has list <triplet> Diosdado Macapagal <subj> Philippine president <obj> position held <triplet> President Gloria Macapagal-Arroyo <subj> Philippine president <obj> position held \n",
      "\n",
      " \n",
      "\n",
      "<triplet> The Playtones <subj> Swedish <obj> country of origin <subj> rock n roll <obj> genre <subj> Kallinge <obj> location of formation <subj> 2008 <obj> inception <subj> rockabilly <obj> genre <subj> 2008 <obj> work period (start) <triplet> rock n roll <subj> 1950 <obj> start time <triplet> Melodifestivalen <subj> 2011 <obj> point in time \n",
      "\n",
      "<triplet> Revenge of the Titans <subj> tower defense <obj> genre <subj> real-time strategy <obj> genre <subj> Puppy Games <obj> developer <subj> Steam <obj> distributed by <triplet> tower defense <subj> real-time strategy <obj> subclass of \n",
      "\n",
      "<triplet> Trinity Peninsula <subj> Graham Land <obj> part of <subj> Antarctica <obj> continent <triplet> Graham Land <subj> Antarctica <obj> continent \n",
      "\n"
     ]
    }
   ],
   "source": [
    "index = 0\n",
    "with open('en_train.jsonl') as fopen:\n",
    "    for l in fopen:\n",
    "        data = json.loads(l)\n",
    "        triples = []\n",
    "        for t in data['triples']:\n",
    "            triples.append([t['subject']['surfaceform'], t['predicate']['surfaceform'], t['object']['surfaceform']])\n",
    "        print(rebel_format(triples).strip(), '\\n')\n",
    "        index += 1\n",
    "        if index >= 10:\n",
    "            break"
   ]
  },
  {
   "cell_type": "code",
   "execution_count": 20,
   "metadata": {
    "scrolled": true
   },
   "outputs": [
    {
     "data": {
      "text/plain": [
       "'The Philippine one hundred-peso note (Filipino: \"Sandaang Piso\") (₱100) is a denomination of Philippine currency. Philippine president Manuel A. Roxas is currently featured on the front side of the bill, while the Mayon Volcano and the whale shark (locally known as \"butanding\") are featured on the reverse side.'"
      ]
     },
     "execution_count": 20,
     "metadata": {},
     "output_type": "execute_result"
    }
   ],
   "source": [
    "data['text']"
   ]
  },
  {
   "cell_type": "code",
   "execution_count": 21,
   "metadata": {},
   "outputs": [
    {
     "data": {
      "text/plain": [
       "'<triplet> Philippine one hundred-peso note <subj> 100 <obj> face value <triplet> Manuel A. Roxas <subj> Philippine president <obj> position held'"
      ]
     },
     "execution_count": 21,
     "metadata": {},
     "output_type": "execute_result"
    }
   ],
   "source": [
    "triples = []\n",
    "for t in data['triples']:\n",
    "    triples.append([t['subject']['surfaceform'], t['predicate']['surfaceform'], t['object']['surfaceform']])\n",
    "rebel_format(triples)"
   ]
  },
  {
   "cell_type": "code",
   "execution_count": null,
   "metadata": {},
   "outputs": [],
   "source": [
    "with open('')"
   ]
  },
  {
   "cell_type": "code",
   "execution_count": 37,
   "metadata": {},
   "outputs": [
    {
     "data": {
      "text/plain": [
       "[\"SYARIKAT rantaian makanan segera terkemuka dunia, McDonald's Corp mengesahkan telah memecat Ketua Pegawai Eksekutif (CEO), Steve Easterbrook selepas menjalinkan hubungan sulit dengan salah seorang kakitangannya.\",\n",
       " \"Menurut McDonald's dalam satu kenyataan, tindakan tersebut diambil berikutan Easterbrook, 52, didakwa melanggar polisi syarikat, yang tidak membenarkan CEO mempunyai hubungan dengan mana-mana kakitangan syarikat.\",\n",
       " \"Susulan pemecatan tersebut, restoran terbesar dunia itu melantik bekas presiden McDonald's Amerika Syarikat (AS), Chris Kempczinski, sebagai CEO baharu berkuat kuasa serta-merta.\",\n",
       " 'Sementara itu, Easterbrook menerusi emel kepada kakitangannya mengakui hubungan tersebut merupakan \"satu kesilapan\" yang bertentangan dengan dasar syarikat.',\n",
       " '\"Mengambil nilai syarikat ini, saya bersetuju untuk mengundurkan diri,\" demikian katanya.',\n",
       " \"Easterbrook pernah bercerai dan memulakan kerjaya dengan McDonald's pada tahun 1993 sebagai pengurus di London sebelum dinaikkan pangkat.\",\n",
       " \"Beliau dilantik sebagai CEO McDonald's Corporation pada tahun 2015. -\"]"
      ]
     },
     "execution_count": 37,
     "metadata": {},
     "output_type": "execute_result"
    }
   ],
   "source": [
    "data['body']"
   ]
  },
  {
   "cell_type": "code",
   "execution_count": 52,
   "metadata": {},
   "outputs": [
    {
     "data": {
      "text/plain": [
       "dict_values([\"McDonald's\", 'statement', 'Tindakan diambil berikutan Easterbrook didakwa melanggar polisi syarikat yang tidak membenarkan CEO mempunyai hubungan dengan mana-mana kakitangan syarikat.'])"
      ]
     },
     "execution_count": 52,
     "metadata": {},
     "output_type": "execute_result"
    }
   ],
   "source": [
    "data['body_kg'][1][1]['triplets'][0].values()"
   ]
  },
  {
   "cell_type": "code",
   "execution_count": 50,
   "metadata": {},
   "outputs": [
    {
     "data": {
      "application/vnd.jupyter.widget-view+json": {
       "model_id": "f418b1e77d614e92a2d48d62fa499cf5",
       "version_major": 2,
       "version_minor": 0
      },
      "text/plain": [
       "Downloading fasttext.ftz:   0%|          | 0.00/31.1M [00:00<?, ?B/s]"
      ]
     },
     "metadata": {},
     "output_type": "display_data"
    },
    {
     "name": "stderr",
     "output_type": "stream",
     "text": [
      "Warning : `load_model` does not return WordVectorModel or SupervisedModel any more, but a `FastText` object which is very similar.\n"
     ]
    }
   ],
   "source": [
    "import malaya\n",
    "\n",
    "language_detection = malaya.language_detection.fasttext(model = 'mesolitica/fasttext-language-detection-v1')"
   ]
  },
  {
   "cell_type": "code",
   "execution_count": 56,
   "metadata": {},
   "outputs": [
    {
     "data": {
      "text/plain": [
       "['other', 'eng', 'malay']"
      ]
     },
     "execution_count": 56,
     "metadata": {},
     "output_type": "execute_result"
    }
   ],
   "source": [
    "language_detection.predict(list(data['body_kg'][4][1]['triplets'][0].values()))"
   ]
  },
  {
   "cell_type": "code",
   "execution_count": 24,
   "metadata": {},
   "outputs": [],
   "source": [
    "with open('kg-astroawani.jsonl') as fopen:\n",
    "    for l in fopen:\n",
    "        data = json.loads(l)\n",
    "        break"
   ]
  },
  {
   "cell_type": "code",
   "execution_count": 29,
   "metadata": {},
   "outputs": [
    {
     "data": {
      "text/plain": [
       "dict_values(['Padah', 'memiliki', 'hubungan sulit'])"
      ]
     },
     "execution_count": 29,
     "metadata": {},
     "output_type": "execute_result"
    }
   ],
   "source": [
    "data['title_kg']['triplets'][0].values()"
   ]
  },
  {
   "cell_type": "code",
   "execution_count": 33,
   "metadata": {},
   "outputs": [
    {
     "data": {
      "text/plain": [
       "\"<triplet> Padah <subj> hubungan sulit <obj> memiliki <triplet> hubungan sulit <subj> pekerja sendiri <obj> dengan <triplet> Padah <subj> CEO McDonald's <obj> dipecat\""
      ]
     },
     "execution_count": 33,
     "metadata": {},
     "output_type": "execute_result"
    }
   ],
   "source": [
    "triples = []\n",
    "for t in data['title_kg']['triplets']:\n",
    "    if any([t_ is None for t_ in t.values()]):\n",
    "        continue\n",
    "    triples.append([t['subject'], t['predicate'], t['object']])\n",
    "    \n",
    "rebel_format(triples)"
   ]
  },
  {
   "cell_type": "code",
   "execution_count": 26,
   "metadata": {},
   "outputs": [
    {
     "data": {
      "text/plain": [
       "\"Padah jalin hubungan sulit dengan pekerja sendiri, CEO McDonald's dipecat serta merta\""
      ]
     },
     "execution_count": 26,
     "metadata": {},
     "output_type": "execute_result"
    }
   ],
   "source": [
    "data['title']"
   ]
  },
  {
   "cell_type": "code",
   "execution_count": 13,
   "metadata": {},
   "outputs": [
    {
     "name": "stdout",
     "output_type": "stream",
     "text": [
      "quadruples-train00.splitted.translated\n"
     ]
    },
    {
     "name": "stderr",
     "output_type": "stream",
     "text": [
      "66668it [00:02, 30533.28it/s]\n"
     ]
    },
    {
     "name": "stdout",
     "output_type": "stream",
     "text": [
      "quadruples-train01.splitted.translated\n"
     ]
    },
    {
     "name": "stderr",
     "output_type": "stream",
     "text": [
      "66667it [00:02, 29843.20it/s]\n"
     ]
    },
    {
     "name": "stdout",
     "output_type": "stream",
     "text": [
      "quadruples-train02.splitted.translated\n"
     ]
    },
    {
     "name": "stderr",
     "output_type": "stream",
     "text": [
      "66667it [00:02, 29999.92it/s]\n"
     ]
    },
    {
     "name": "stdout",
     "output_type": "stream",
     "text": [
      "quadruples-train03.splitted.translated\n"
     ]
    },
    {
     "name": "stderr",
     "output_type": "stream",
     "text": [
      "66668it [00:02, 30141.13it/s]\n"
     ]
    },
    {
     "name": "stdout",
     "output_type": "stream",
     "text": [
      "quadruples-train04.splitted.translated\n"
     ]
    },
    {
     "name": "stderr",
     "output_type": "stream",
     "text": [
      "66668it [00:02, 30113.64it/s]\n"
     ]
    },
    {
     "name": "stdout",
     "output_type": "stream",
     "text": [
      "quadruples-train05.splitted.translated\n"
     ]
    },
    {
     "name": "stderr",
     "output_type": "stream",
     "text": [
      "66667it [00:02, 29953.38it/s]\n"
     ]
    },
    {
     "name": "stdout",
     "output_type": "stream",
     "text": [
      "quadruples-train06.splitted.translated\n"
     ]
    },
    {
     "name": "stderr",
     "output_type": "stream",
     "text": [
      "66667it [00:02, 29899.86it/s]\n"
     ]
    },
    {
     "name": "stdout",
     "output_type": "stream",
     "text": [
      "quadruples-train07.splitted.translated\n"
     ]
    },
    {
     "name": "stderr",
     "output_type": "stream",
     "text": [
      "66668it [00:02, 29901.40it/s]\n"
     ]
    },
    {
     "name": "stdout",
     "output_type": "stream",
     "text": [
      "quadruples-train08.splitted.translated\n"
     ]
    },
    {
     "name": "stderr",
     "output_type": "stream",
     "text": [
      "66667it [00:02, 30144.30it/s]\n"
     ]
    },
    {
     "name": "stdout",
     "output_type": "stream",
     "text": [
      "quadruples-train09.splitted.translated\n"
     ]
    },
    {
     "name": "stderr",
     "output_type": "stream",
     "text": [
      "66667it [00:02, 30562.86it/s]\n"
     ]
    },
    {
     "name": "stdout",
     "output_type": "stream",
     "text": [
      "quadruples-train10.splitted.translated\n"
     ]
    },
    {
     "name": "stderr",
     "output_type": "stream",
     "text": [
      "66667it [00:02, 30493.20it/s]\n"
     ]
    },
    {
     "name": "stdout",
     "output_type": "stream",
     "text": [
      "quadruples-train11.splitted.translated\n"
     ]
    },
    {
     "name": "stderr",
     "output_type": "stream",
     "text": [
      "66667it [00:02, 30512.10it/s]\n"
     ]
    },
    {
     "name": "stdout",
     "output_type": "stream",
     "text": [
      "quadruples-train12.splitted.translated\n"
     ]
    },
    {
     "name": "stderr",
     "output_type": "stream",
     "text": [
      "66667it [00:02, 30487.71it/s]\n"
     ]
    },
    {
     "name": "stdout",
     "output_type": "stream",
     "text": [
      "quadruples-train13.splitted.translated\n"
     ]
    },
    {
     "name": "stderr",
     "output_type": "stream",
     "text": [
      "66667it [00:02, 30572.61it/s]\n"
     ]
    },
    {
     "name": "stdout",
     "output_type": "stream",
     "text": [
      "quadruples-train14.splitted.translated\n"
     ]
    },
    {
     "name": "stderr",
     "output_type": "stream",
     "text": [
      "66667it [00:02, 30280.09it/s]\n"
     ]
    },
    {
     "name": "stdout",
     "output_type": "stream",
     "text": [
      "quadruples-train15.splitted.translated\n"
     ]
    },
    {
     "name": "stderr",
     "output_type": "stream",
     "text": [
      "66667it [00:02, 29166.99it/s]\n"
     ]
    },
    {
     "name": "stdout",
     "output_type": "stream",
     "text": [
      "quadruples-train16.splitted.translated\n"
     ]
    },
    {
     "name": "stderr",
     "output_type": "stream",
     "text": [
      "66667it [00:02, 30879.50it/s]\n"
     ]
    },
    {
     "name": "stdout",
     "output_type": "stream",
     "text": [
      "quadruples-train17.splitted.translated\n"
     ]
    },
    {
     "name": "stderr",
     "output_type": "stream",
     "text": [
      "66667it [00:02, 30439.72it/s]\n"
     ]
    },
    {
     "name": "stdout",
     "output_type": "stream",
     "text": [
      "quadruples-train18.splitted.translated\n"
     ]
    },
    {
     "name": "stderr",
     "output_type": "stream",
     "text": [
      "66667it [00:02, 30538.58it/s]\n"
     ]
    },
    {
     "name": "stdout",
     "output_type": "stream",
     "text": [
      "quadruples-train19.splitted.translated\n"
     ]
    },
    {
     "name": "stderr",
     "output_type": "stream",
     "text": [
      "66667it [00:02, 30541.14it/s]\n"
     ]
    },
    {
     "name": "stdout",
     "output_type": "stream",
     "text": [
      "quadruples-train20.splitted.translated\n"
     ]
    },
    {
     "name": "stderr",
     "output_type": "stream",
     "text": [
      "66667it [00:02, 30822.07it/s]\n"
     ]
    },
    {
     "name": "stdout",
     "output_type": "stream",
     "text": [
      "quadruples-train21.splitted.translated\n"
     ]
    },
    {
     "name": "stderr",
     "output_type": "stream",
     "text": [
      "66667it [00:02, 30712.93it/s]\n"
     ]
    },
    {
     "name": "stdout",
     "output_type": "stream",
     "text": [
      "quadruples-train22.splitted.translated\n"
     ]
    },
    {
     "name": "stderr",
     "output_type": "stream",
     "text": [
      "66667it [00:02, 30805.08it/s]\n"
     ]
    },
    {
     "name": "stdout",
     "output_type": "stream",
     "text": [
      "quadruples-train23.splitted.translated\n"
     ]
    },
    {
     "name": "stderr",
     "output_type": "stream",
     "text": [
      "66667it [00:02, 30296.40it/s]\n"
     ]
    },
    {
     "name": "stdout",
     "output_type": "stream",
     "text": [
      "quadruples-train24.splitted.translated\n"
     ]
    },
    {
     "name": "stderr",
     "output_type": "stream",
     "text": [
      "66667it [00:02, 30480.11it/s]\n"
     ]
    },
    {
     "name": "stdout",
     "output_type": "stream",
     "text": [
      "quadruples-train25.splitted.translated\n"
     ]
    },
    {
     "name": "stderr",
     "output_type": "stream",
     "text": [
      "66667it [00:02, 30411.76it/s]\n"
     ]
    },
    {
     "name": "stdout",
     "output_type": "stream",
     "text": [
      "quadruples-train26.splitted.translated\n"
     ]
    },
    {
     "name": "stderr",
     "output_type": "stream",
     "text": [
      "66667it [00:02, 30256.16it/s]\n"
     ]
    },
    {
     "name": "stdout",
     "output_type": "stream",
     "text": [
      "quadruples-train27.splitted.translated\n"
     ]
    },
    {
     "name": "stderr",
     "output_type": "stream",
     "text": [
      "66667it [00:02, 30764.10it/s]\n"
     ]
    },
    {
     "name": "stdout",
     "output_type": "stream",
     "text": [
      "quadruples-train28.splitted.translated\n"
     ]
    },
    {
     "name": "stderr",
     "output_type": "stream",
     "text": [
      "66667it [00:02, 30171.21it/s]\n"
     ]
    },
    {
     "name": "stdout",
     "output_type": "stream",
     "text": [
      "quadruples-train29.splitted.translated\n"
     ]
    },
    {
     "name": "stderr",
     "output_type": "stream",
     "text": [
      "66667it [00:02, 24570.84it/s]\n"
     ]
    },
    {
     "name": "stdout",
     "output_type": "stream",
     "text": [
      "quadruples-train30.splitted.translated\n"
     ]
    },
    {
     "name": "stderr",
     "output_type": "stream",
     "text": [
      "66668it [00:02, 25494.86it/s]\n"
     ]
    },
    {
     "name": "stdout",
     "output_type": "stream",
     "text": [
      "quadruples-train31.splitted.translated\n"
     ]
    },
    {
     "name": "stderr",
     "output_type": "stream",
     "text": [
      "36687it [00:01, 25646.79it/s]\n"
     ]
    },
    {
     "name": "stdout",
     "output_type": "stream",
     "text": [
      "quadruples-validation00.splitted.translated\n"
     ]
    },
    {
     "name": "stderr",
     "output_type": "stream",
     "text": [
      "66669it [00:02, 30755.80it/s]\n"
     ]
    },
    {
     "name": "stdout",
     "output_type": "stream",
     "text": [
      "quadruples-validation01.splitted.translated\n"
     ]
    },
    {
     "name": "stderr",
     "output_type": "stream",
     "text": [
      "66667it [00:02, 30235.13it/s]\n"
     ]
    },
    {
     "name": "stdout",
     "output_type": "stream",
     "text": [
      "quadruples-validation02.splitted.translated\n"
     ]
    },
    {
     "name": "stderr",
     "output_type": "stream",
     "text": [
      "66668it [00:02, 30581.79it/s]\n"
     ]
    },
    {
     "name": "stdout",
     "output_type": "stream",
     "text": [
      "quadruples-validation03.splitted.translated\n"
     ]
    },
    {
     "name": "stderr",
     "output_type": "stream",
     "text": [
      "62918it [00:02, 27986.07it/s]\n"
     ]
    },
    {
     "name": "stdout",
     "output_type": "stream",
     "text": [
      "rebel-train00.splitted.translated\n"
     ]
    },
    {
     "name": "stderr",
     "output_type": "stream",
     "text": [
      "66669it [00:01, 34177.82it/s]\n"
     ]
    },
    {
     "name": "stdout",
     "output_type": "stream",
     "text": [
      "rebel-train01.splitted.translated\n"
     ]
    },
    {
     "name": "stderr",
     "output_type": "stream",
     "text": [
      "66668it [00:01, 33398.74it/s]\n"
     ]
    },
    {
     "name": "stdout",
     "output_type": "stream",
     "text": [
      "rebel-train02.splitted.translated\n"
     ]
    },
    {
     "name": "stderr",
     "output_type": "stream",
     "text": [
      "66668it [00:02, 33225.04it/s]\n"
     ]
    },
    {
     "name": "stdout",
     "output_type": "stream",
     "text": [
      "rebel-train03.splitted.translated\n"
     ]
    },
    {
     "name": "stderr",
     "output_type": "stream",
     "text": [
      "66668it [00:02, 33199.83it/s]\n"
     ]
    },
    {
     "name": "stdout",
     "output_type": "stream",
     "text": [
      "rebel-train04.splitted.translated\n"
     ]
    },
    {
     "name": "stderr",
     "output_type": "stream",
     "text": [
      "66668it [00:02, 33310.02it/s]\n"
     ]
    },
    {
     "name": "stdout",
     "output_type": "stream",
     "text": [
      "rebel-train05.splitted.translated\n"
     ]
    },
    {
     "name": "stderr",
     "output_type": "stream",
     "text": [
      "66668it [00:02, 32764.58it/s]\n"
     ]
    },
    {
     "name": "stdout",
     "output_type": "stream",
     "text": [
      "rebel-train06.splitted.translated\n"
     ]
    },
    {
     "name": "stderr",
     "output_type": "stream",
     "text": [
      "66668it [00:02, 32981.89it/s]\n"
     ]
    },
    {
     "name": "stdout",
     "output_type": "stream",
     "text": [
      "rebel-train07.splitted.translated\n"
     ]
    },
    {
     "name": "stderr",
     "output_type": "stream",
     "text": [
      "66668it [00:02, 32597.15it/s]\n"
     ]
    },
    {
     "name": "stdout",
     "output_type": "stream",
     "text": [
      "rebel-train08.splitted.translated\n"
     ]
    },
    {
     "name": "stderr",
     "output_type": "stream",
     "text": [
      "66667it [00:02, 29658.35it/s]\n"
     ]
    },
    {
     "name": "stdout",
     "output_type": "stream",
     "text": [
      "rebel-train09.splitted.translated\n"
     ]
    },
    {
     "name": "stderr",
     "output_type": "stream",
     "text": [
      "66667it [00:02, 32435.09it/s]\n"
     ]
    },
    {
     "name": "stdout",
     "output_type": "stream",
     "text": [
      "rebel-train10.splitted.translated\n"
     ]
    },
    {
     "name": "stderr",
     "output_type": "stream",
     "text": [
      "66667it [00:02, 32860.20it/s]\n"
     ]
    },
    {
     "name": "stdout",
     "output_type": "stream",
     "text": [
      "rebel-train11.splitted.translated\n"
     ]
    },
    {
     "name": "stderr",
     "output_type": "stream",
     "text": [
      "66667it [00:02, 32892.51it/s]\n"
     ]
    },
    {
     "name": "stdout",
     "output_type": "stream",
     "text": [
      "rebel-train12.splitted.translated\n"
     ]
    },
    {
     "name": "stderr",
     "output_type": "stream",
     "text": [
      "2757it [00:00, 34378.62it/s]\n"
     ]
    },
    {
     "name": "stdout",
     "output_type": "stream",
     "text": [
      "rebel-train9.splitted.translated\n"
     ]
    },
    {
     "name": "stderr",
     "output_type": "stream",
     "text": [
      "0it [00:00, ?it/s]\n"
     ]
    },
    {
     "name": "stdout",
     "output_type": "stream",
     "text": [
      "rebel-val00.splitted.translated\n"
     ]
    },
    {
     "name": "stderr",
     "output_type": "stream",
     "text": [
      "44424it [00:01, 33158.97it/s]\n"
     ]
    }
   ],
   "source": [
    "with open('train.json', 'w') as fopen_jsonl:\n",
    "    for f in kelm:\n",
    "        print(f)\n",
    "        with open(f) as fopen:\n",
    "            for l in tqdm(fopen):\n",
    "                data = json.loads(l)\n",
    "                for d in data:\n",
    "                    left_en = d['sentence']\n",
    "                    left = d['translate']\n",
    "                    right = rebel_format(d['triples'])\n",
    "                    \n",
    "                    if len(left) and len(right) and len(left.split()) < 256 and len(right.split()) < 256:\n",
    "                        d = {\"translation\": {\"src\": left, \"tgt\": right, 'prefix': 'teks ke grafik pengetahuan: '}}\n",
    "                        fopen_jsonl.write(f'{json.dumps(d)}\\n')\n",
    "                        d = {\"translation\": {\"src\": right, \"tgt\": left, 'prefix': 'grafik pengetahuan ke teks: '}}\n",
    "                        fopen_jsonl.write(f'{json.dumps(d)}\\n')\n",
    "                    \n",
    "                    if random.random() > 0.5 and len(left_en) and len(right) and len(left_en.split()) < 256 and len(right.split()) < 256:\n",
    "                        d = {\"translation\": {\"src\": left_en, \"tgt\": right, 'prefix': 'teks ke grafik pengetahuan: '}}\n",
    "                        fopen_jsonl.write(f'{json.dumps(d)}\\n')\n",
    "                        \n",
    "    for f in rebel:\n",
    "        print(f)\n",
    "        with open(f) as fopen:\n",
    "            for l in tqdm(fopen):\n",
    "                data = json.loads(l)\n",
    "                for d in data:\n",
    "                    left_en = d['context']\n",
    "                    left = d['translate']\n",
    "                    right = d['triplets']\n",
    "                    \n",
    "                    if len(left) and len(right) and len(left.split()) < 256 and len(right.split()) < 256:\n",
    "                        d = {\"translation\": {\"src\": left, \"tgt\": right, 'prefix': 'teks ke grafik pengetahuan: '}}\n",
    "                        fopen_jsonl.write(f'{json.dumps(d)}\\n')\n",
    "                        d = {\"translation\": {\"src\": right, \"tgt\": left, 'prefix': 'grafik pengetahuan ke teks: '}}\n",
    "                        fopen_jsonl.write(f'{json.dumps(d)}\\n')\n",
    "                    \n",
    "                    if random.random() > 0.5 and len(left_en) and len(right) and len(left_en.split()) < 256 and len(right.split()) < 256:\n",
    "                        d = {\"translation\": {\"src\": left_en, \"tgt\": right, 'prefix': 'teks ke grafik pengetahuan: '}}\n",
    "                        fopen_jsonl.write(f'{json.dumps(d)}\\n')"
   ]
  },
  {
   "cell_type": "code",
   "execution_count": 14,
   "metadata": {
    "scrolled": true
   },
   "outputs": [
    {
     "name": "stdout",
     "output_type": "stream",
     "text": [
      "quadruples-test00.splitted.translated\n"
     ]
    },
    {
     "name": "stderr",
     "output_type": "stream",
     "text": [
      "66673it [00:02, 29279.51it/s]\n"
     ]
    },
    {
     "name": "stdout",
     "output_type": "stream",
     "text": [
      "quadruples-test01.splitted.translated\n"
     ]
    },
    {
     "name": "stderr",
     "output_type": "stream",
     "text": [
      "66667it [00:02, 29278.44it/s]\n"
     ]
    },
    {
     "name": "stdout",
     "output_type": "stream",
     "text": [
      "quadruples-test02.splitted.translated\n"
     ]
    },
    {
     "name": "stderr",
     "output_type": "stream",
     "text": [
      "28225it [00:00, 28815.91it/s]\n"
     ]
    },
    {
     "name": "stdout",
     "output_type": "stream",
     "text": [
      "rebel-test00.splitted.translated\n"
     ]
    },
    {
     "name": "stderr",
     "output_type": "stream",
     "text": [
      "44552it [00:01, 32446.72it/s]\n"
     ]
    }
   ],
   "source": [
    "with open('test.json', 'w') as fopen_jsonl:\n",
    "    for f in kelm_test:\n",
    "        print(f)\n",
    "        with open(f) as fopen:\n",
    "            for l in tqdm(fopen):\n",
    "                data = json.loads(l)\n",
    "                for d in data:\n",
    "                    left_en = d['sentence']\n",
    "                    left = d['translate']\n",
    "                    right = rebel_format(d['triples'])\n",
    "                    \n",
    "                    if len(left) and len(right) and len(left.split()) < 256 and len(right.split()) < 256:\n",
    "                        d = {\"translation\": {\"src\": left, \"tgt\": right, 'prefix': 'teks ke grafik pengetahuan: '}}\n",
    "                        fopen_jsonl.write(f'{json.dumps(d)}\\n')\n",
    "                        d = {\"translation\": {\"src\": right, \"tgt\": left, 'prefix': 'grafik pengetahuan ke teks: '}}\n",
    "                        fopen_jsonl.write(f'{json.dumps(d)}\\n')\n",
    "                    \n",
    "                    if random.random() > 0.5 and len(left_en) and len(right) and len(left_en.split()) < 256 and len(right.split()) < 256:\n",
    "                        d = {\"translation\": {\"src\": left_en, \"tgt\": right, 'prefix': 'teks ke grafik pengetahuan: '}}\n",
    "                        fopen_jsonl.write(f'{json.dumps(d)}\\n')\n",
    "                        \n",
    "    for f in rebel_test:\n",
    "        print(f)\n",
    "        with open(f) as fopen:\n",
    "            for l in tqdm(fopen):\n",
    "                data = json.loads(l)\n",
    "                for d in data:\n",
    "                    left_en = d['context']\n",
    "                    left = d['translate']\n",
    "                    right = d['triplets']\n",
    "                    \n",
    "                    if len(left) and len(right) and len(left.split()) < 256 and len(right.split()) < 256:\n",
    "                        d = {\"translation\": {\"src\": left, \"tgt\": right, 'prefix': 'teks ke grafik pengetahuan: '}}\n",
    "                        fopen_jsonl.write(f'{json.dumps(d)}\\n')\n",
    "                        d = {\"translation\": {\"src\": right, \"tgt\": left, 'prefix': 'grafik pengetahuan ke teks: '}}\n",
    "                        fopen_jsonl.write(f'{json.dumps(d)}\\n')\n",
    "                    \n",
    "                    if random.random() > 0.5 and len(left_en) and len(right) and len(left_en.split()) < 256 and len(right.split()) < 256:\n",
    "                        d = {\"translation\": {\"src\": left_en, \"tgt\": right, 'prefix': 'teks ke grafik pengetahuan: '}}\n",
    "                        fopen_jsonl.write(f'{json.dumps(d)}\\n')"
   ]
  },
  {
   "cell_type": "code",
   "execution_count": 15,
   "metadata": {},
   "outputs": [],
   "source": [
    "!head -n 4000 test.json > test-4k.json"
   ]
  },
  {
   "cell_type": "code",
   "execution_count": null,
   "metadata": {},
   "outputs": [],
   "source": []
  }
 ],
 "metadata": {
  "kernelspec": {
   "display_name": "Python 3 (ipykernel)",
   "language": "python",
   "name": "python3"
  },
  "language_info": {
   "codemirror_mode": {
    "name": "ipython",
    "version": 3
   },
   "file_extension": ".py",
   "mimetype": "text/x-python",
   "name": "python",
   "nbconvert_exporter": "python",
   "pygments_lexer": "ipython3",
   "version": "3.8.10"
  }
 },
 "nbformat": 4,
 "nbformat_minor": 4
}
