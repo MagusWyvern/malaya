{
 "cells": [
  {
   "cell_type": "code",
   "execution_count": 1,
   "metadata": {},
   "outputs": [],
   "source": [
    "from glob import glob\n",
    "import json\n",
    "from tqdm import tqdm"
   ]
  },
  {
   "cell_type": "code",
   "execution_count": 2,
   "metadata": {},
   "outputs": [
    {
     "data": {
      "text/plain": [
       "32"
      ]
     },
     "execution_count": 2,
     "metadata": {},
     "output_type": "execute_result"
    }
   ],
   "source": [
    "english_news = glob('/home/husein/google-translate-english-news/*.requested')\n",
    "len(english_news)"
   ]
  },
  {
   "cell_type": "code",
   "execution_count": 3,
   "metadata": {},
   "outputs": [
    {
     "data": {
      "text/plain": [
       "39"
      ]
     },
     "execution_count": 3,
     "metadata": {},
     "output_type": "execute_result"
    }
   ],
   "source": [
    "english_texts = glob('/home/husein/google-translate-english-texts/*.requested')\n",
    "len(english_texts)"
   ]
  },
  {
   "cell_type": "code",
   "execution_count": 4,
   "metadata": {},
   "outputs": [
    {
     "data": {
      "text/plain": [
       "22"
      ]
     },
     "execution_count": 4,
     "metadata": {},
     "output_type": "execute_result"
    }
   ],
   "source": [
    "malay_news = glob('/home/husein/google-translate-malay-news/*.requested')\n",
    "len(malay_news)"
   ]
  },
  {
   "cell_type": "code",
   "execution_count": 5,
   "metadata": {},
   "outputs": [
    {
     "data": {
      "text/plain": [
       "3"
      ]
     },
     "execution_count": 5,
     "metadata": {},
     "output_type": "execute_result"
    }
   ],
   "source": [
    "hansard = glob('/home/husein/google-translate-malaysia-hansard/*.requested')\n",
    "len(hansard)"
   ]
  },
  {
   "cell_type": "code",
   "execution_count": 6,
   "metadata": {},
   "outputs": [],
   "source": [
    "ens = [english_news, english_texts]\n",
    "mss = [malay_news, hansard]"
   ]
  },
  {
   "cell_type": "code",
   "execution_count": 7,
   "metadata": {},
   "outputs": [],
   "source": [
    "def reject(k):\n",
    "    if 'return JSON' in k:\n",
    "        return\n",
    "    if 'AI language model' in k:\n",
    "        return\n",
    "    if 'model bahasa AI' in k:\n",
    "        return\n",
    "    return True"
   ]
  },
  {
   "cell_type": "code",
   "execution_count": 12,
   "metadata": {},
   "outputs": [
    {
     "name": "stdout",
     "output_type": "stream",
     "text": [
      "439509 ../gpt4all-1.3/translated-gpt4all-filtered-noncode.jsonl\r\n"
     ]
    }
   ],
   "source": [
    "!wc -l ../gpt4all-1.3/translated-gpt4all-filtered-noncode.jsonl"
   ]
  },
  {
   "cell_type": "code",
   "execution_count": 8,
   "metadata": {},
   "outputs": [
    {
     "name": "stderr",
     "output_type": "stream",
     "text": [
      "439509it [00:21, 20418.86it/s]\n"
     ]
    }
   ],
   "source": [
    "with open('train.json', 'w') as fopen_jsonl:\n",
    "    with open('/home/husein/ssd3/gpt4all-1.3/translated-gpt4all-filtered-noncode.jsonl') as fopen:\n",
    "        for l in tqdm(fopen):\n",
    "            l = json.loads(l)\n",
    "            try:\n",
    "                en = l['src']['prompt']\n",
    "                ms = l['r'][0]['result']\n",
    "                \n",
    "                if not reject(en) or not reject(ms):\n",
    "                    continue\n",
    "\n",
    "                if len(en) and len(en.split()) < 1200 and len(ms) and len(ms.split()) < 1200:\n",
    "                    d = {\"translation\": {\"src\": ms, \"tgt\": en, 'prefix': 'terjemah ke Inggeris: '}}\n",
    "                    fopen_jsonl.write(f'{json.dumps(d)}\\n')\n",
    "\n",
    "                    d = {\"translation\": {\"src\": en, \"tgt\": ms, 'prefix': 'terjemah ke Melayu: '}}\n",
    "                    fopen_jsonl.write(f'{json.dumps(d)}\\n')\n",
    "\n",
    "            except:\n",
    "                pass\n",
    "            \n",
    "            try:\n",
    "                en = l['src']['response']\n",
    "                ms = l['r'][1]['result']\n",
    "                \n",
    "                if not reject(en) or not reject(ms):\n",
    "                    continue\n",
    "                \n",
    "                if len(en) and len(en.split()) < 1200 and len(ms) and len(ms.split()) < 1200:\n",
    "                    d = {\"translation\": {\"src\": ms, \"tgt\": en, 'prefix': 'terjemah ke Inggeris: '}}\n",
    "                    fopen_jsonl.write(f'{json.dumps(d)}\\n')\n",
    "\n",
    "                    d = {\"translation\": {\"src\": en, \"tgt\": ms, 'prefix': 'terjemah ke Melayu: '}}\n",
    "                    fopen_jsonl.write(f'{json.dumps(d)}\\n')\n",
    "            \n",
    "            except:\n",
    "                pass"
   ]
  },
  {
   "cell_type": "code",
   "execution_count": 9,
   "metadata": {},
   "outputs": [
    {
     "name": "stdout",
     "output_type": "stream",
     "text": [
      "1709108 train.json\r\n"
     ]
    }
   ],
   "source": [
    "!wc -l train.json"
   ]
  },
  {
   "cell_type": "code",
   "execution_count": 10,
   "metadata": {},
   "outputs": [
    {
     "name": "stdout",
     "output_type": "stream",
     "text": [
      "{\"translation\": {\"src\": \"To make a fresh flower arrangement, start by choosing a vase or container that will complement the type and color of flowers you want to use. Cut the stems of the flowers to the preferred height and remove any leaves that will be below the water line. Arrange the flowers in the vase, starting with the larger or focal blooms in the center and working your way outward with smaller blooms and greenery. Add water to the vase and, if desired, flower food to keep the blooms fresher for longer. And voila, a beautiful fresh flower arrangement!\", \"tgt\": \"Untuk membuat gubahan bunga segar, mulakan dengan memilih pasu atau bekas yang akan melengkapkan jenis dan warna bunga yang ingin anda gunakan. Potong batang bunga mengikut ketinggian yang dikehendaki dan keluarkan sebarang daun yang berada di bawah garis air. Susun bunga di dalam pasu, bermula dengan bunga yang lebih besar atau fokus di tengah dan keluar dengan bunga yang lebih kecil dan kehijauan. Tambah air ke dalam pasu dan, jika dikehendaki, makanan bunga untuk memastikan bunga segar lebih lama. Dan voila, gubahan bunga segar yang cantik!\", \"prefix\": \"terjemah ke Melayu: \"}}\r\n"
     ]
    }
   ],
   "source": [
    "!tail -n 1 train.json"
   ]
  },
  {
   "cell_type": "code",
   "execution_count": 13,
   "metadata": {},
   "outputs": [
    {
     "name": "stderr",
     "output_type": "stream",
     "text": [
      "1036411it [00:18, 55743.09it/s]\n"
     ]
    }
   ],
   "source": [
    "with open('train.json', 'a') as fopen_jsonl:\n",
    "    with open('process-manglish.jsonl') as fopen:\n",
    "        for l in tqdm(fopen):\n",
    "            l = json.loads(l)\n",
    "            left = l['left']\n",
    "            en = l['en']\n",
    "            ms = l['ms']\n",
    "            \n",
    "            if not reject(en) or not reject(ms):\n",
    "                continue\n",
    "\n",
    "            if len(left) and len(left.split()) < 1200 and len(en) and len(en.split()) < 1200:\n",
    "                d = {\"translation\": {\"src\": left, \"tgt\": en, 'prefix': 'terjemah ke Inggeris: '}}\n",
    "                fopen_jsonl.write(f'{json.dumps(d)}\\n')\n",
    "                \n",
    "                d = {\"translation\": {\"src\": en, \"tgt\": left, 'prefix': 'terjemah ke Manglish: '}}\n",
    "                fopen_jsonl.write(f'{json.dumps(d)}\\n')\n",
    "                \n",
    "            if len(left) and len(left.split()) < 1200 and len(ms) and len(ms.split()) < 1200:\n",
    "                d = {\"translation\": {\"src\": left, \"tgt\": ms, 'prefix': 'terjemah ke Melayu: '}}\n",
    "                fopen_jsonl.write(f'{json.dumps(d)}\\n')\n",
    "                \n",
    "                d = {\"translation\": {\"src\": ms, \"tgt\": left, 'prefix': 'terjemah ke Manglish: '}}\n",
    "                fopen_jsonl.write(f'{json.dumps(d)}\\n')\n",
    "                \n",
    "            if len(en) and len(en.split()) < 1200 and len(ms) and len(ms.split()) < 1200:\n",
    "                d = {\"translation\": {\"src\": en, \"tgt\": ms, 'prefix': 'terjemah ke Melayu: '}}\n",
    "                fopen_jsonl.write(f'{json.dumps(d)}\\n')\n",
    "                \n",
    "                d = {\"translation\": {\"src\": ms, \"tgt\": en, 'prefix': 'terjemah ke Inggeris: '}}\n",
    "                fopen_jsonl.write(f'{json.dumps(d)}\\n')"
   ]
  },
  {
   "cell_type": "code",
   "execution_count": 14,
   "metadata": {},
   "outputs": [
    {
     "name": "stdout",
     "output_type": "stream",
     "text": [
      "7927510 train.json\r\n"
     ]
    }
   ],
   "source": [
    "!wc -l train.json"
   ]
  },
  {
   "cell_type": "code",
   "execution_count": 15,
   "metadata": {},
   "outputs": [
    {
     "name": "stdout",
     "output_type": "stream",
     "text": [
      "{\"translation\": {\"src\": \"Baca ini dan balas berdasarkan arahan saya.\\n* Bandar Chongqing Lifan ialah Chongqing.\\n* Stadium rumah Chongqing Lifan ialah Pusat Sukan Olimpik Chongqing.\\n* Kehadiran Pusat Sukan Olimpik Chongqing ialah 11,433 orang.\\n* Kapasiti Pusat Sukan Olimpik Chongqing ialah 58,680.\", \"tgt\": \"Read this and respond based on my instructions.\\n* Chongqing Lifan 's city is Chongqing.\\n* Chongqing Lifan 's home_stadium is Chongqing Olympic Sports Center.\\n* Chongqing Olympic Sports Center 's attendance is 11,433.\\n* Chongqing Olympic Sports Center 's capacity is 58,680.\", \"prefix\": \"terjemah ke Inggeris: \"}}\r\n"
     ]
    }
   ],
   "source": [
    "!head -n 1 train.json"
   ]
  },
  {
   "cell_type": "code",
   "execution_count": 16,
   "metadata": {},
   "outputs": [
    {
     "name": "stderr",
     "output_type": "stream",
     "text": [
      "2496675it [00:12, 193343.46it/s]\n",
      "1683631it [00:08, 194946.69it/s]\n",
      "958405it [00:08, 113538.04it/s]\n"
     ]
    }
   ],
   "source": [
    "with open('train.json', 'a') as fopen_jsonl:\n",
    "    for f in ['processed-ms-id.jsonl', 'processed-ms-jw.jsonl']:\n",
    "        with open(f) as fopen:\n",
    "            for l in tqdm(fopen):\n",
    "                l = json.loads(l)\n",
    "                left = l['left']\n",
    "                right = l['right']\n",
    "                if len(left) and len(left.split()) < 1200 and len(right) and len(right.split()) < 1200:\n",
    "                    d = {\"translation\": {\"src\": right, \"tgt\": left, 'prefix': 'terjemah ke Melayu: '}}\n",
    "                    fopen_jsonl.write(f'{json.dumps(d)}\\n')\n",
    "                    \n",
    "with open('train.json', 'a') as fopen_jsonl:\n",
    "    with open('process-bjn-Latn.jsonl') as fopen:\n",
    "        for l in tqdm(fopen):\n",
    "            l = json.loads(l)\n",
    "            left = l['left']\n",
    "            chatgpt = l['chatgpt']\n",
    "            google = l['google']\n",
    "            \n",
    "            if not reject(chatgpt) or not reject(google):\n",
    "                continue\n",
    "            \n",
    "            if len(left) and len(left.split()) < 1200 and len(google) and len(google.split()) < 1200:\n",
    "                d = {\"translation\": {\"src\": left, \"tgt\": google, 'prefix': 'terjemah ke Melayu: '}}\n",
    "                fopen_jsonl.write(f'{json.dumps(d)}\\n')\n",
    "                \n",
    "            if len(chatgpt) and len(chatgpt.split()) < 1200 and len(google) and len(google.split()) < 1200:\n",
    "                d = {\"translation\": {\"src\": chatgpt, \"tgt\": google, 'prefix': 'terjemah ke Melayu: '}}\n",
    "                fopen_jsonl.write(f'{json.dumps(d)}\\n')"
   ]
  },
  {
   "cell_type": "code",
   "execution_count": 17,
   "metadata": {},
   "outputs": [
    {
     "name": "stdout",
     "output_type": "stream",
     "text": [
      "14024615 train.json\r\n"
     ]
    }
   ],
   "source": [
    "!wc -l train.json"
   ]
  },
  {
   "cell_type": "code",
   "execution_count": 21,
   "metadata": {},
   "outputs": [
    {
     "name": "stderr",
     "output_type": "stream",
     "text": [
      "691013it [00:12, 55792.73it/s]\n",
      "141851it [00:02, 60352.43it/s]\n",
      "333758it [00:09, 35813.84it/s]\n"
     ]
    }
   ],
   "source": [
    "with open('train.json', 'a') as fopen_jsonl:\n",
    "    for f in ['processed-twitter.jsonl', 'processed-facebook.jsonl', 'processed-iium-confession.jsonl']:\n",
    "        with open(f) as fopen:\n",
    "            for l in tqdm(fopen):\n",
    "                try:\n",
    "                    l = json.loads(l)\n",
    "                    left = l['left']\n",
    "                    en = l['en']\n",
    "                    ms = l['ms']\n",
    "                    \n",
    "                    if not reject(en) or not reject(ms):\n",
    "                        continue\n",
    "\n",
    "                    if len(left) and len(left.split()) < 1200 and len(en) and len(en.split()) < 1200:\n",
    "                        d = {\"translation\": {\"src\": left, \"tgt\": en, 'prefix': 'terjemah ke Inggeris: '}}\n",
    "                        fopen_jsonl.write(f'{json.dumps(d)}\\n')\n",
    "\n",
    "                        d = {\"translation\": {\"src\": en, \"tgt\": left, 'prefix': 'terjemah ke pasar Melayu: '}}\n",
    "                        fopen_jsonl.write(f'{json.dumps(d)}\\n')\n",
    "\n",
    "                    if len(left) and len(left.split()) < 1200 and len(ms) and len(ms.split()) < 1200:\n",
    "                        d = {\"translation\": {\"src\": left, \"tgt\": ms, 'prefix': 'terjemah ke Melayu: '}}\n",
    "                        fopen_jsonl.write(f'{json.dumps(d)}\\n')\n",
    "\n",
    "                        d = {\"translation\": {\"src\": ms, \"tgt\": left, 'prefix': 'terjemah ke pasar Melayu: '}}\n",
    "                        fopen_jsonl.write(f'{json.dumps(d)}\\n')\n",
    "\n",
    "                    if len(ms) and len(ms.split()) < 1200 and len(en) and len(en.split()) < 1200:\n",
    "                        d = {\"translation\": {\"src\": en, \"tgt\": ms, 'prefix': 'terjemah ke Melayu: '}}\n",
    "                        fopen_jsonl.write(f'{json.dumps(d)}\\n')\n",
    "\n",
    "                        d = {\"translation\": {\"src\": ms, \"tgt\": en, 'prefix': 'terjemah ke Inggeris: '}}\n",
    "                        fopen_jsonl.write(f'{json.dumps(d)}\\n')\n",
    "                        \n",
    "                except Exception as e:\n",
    "                    pass"
   ]
  },
  {
   "cell_type": "code",
   "execution_count": 22,
   "metadata": {},
   "outputs": [
    {
     "name": "stdout",
     "output_type": "stream",
     "text": [
      "21023917 train.json\r\n"
     ]
    }
   ],
   "source": [
    "!wc -l train.json"
   ]
  },
  {
   "cell_type": "code",
   "execution_count": 24,
   "metadata": {},
   "outputs": [
    {
     "name": "stderr",
     "output_type": "stream",
     "text": [
      "75777it [00:03, 20080.70it/s]\n"
     ]
    }
   ],
   "source": [
    "with open('train.json', 'a') as fopen_jsonl:\n",
    "    with open('gpt4all-code.jsonl') as fopen:\n",
    "        for l in tqdm(fopen):\n",
    "            try:\n",
    "                l = json.loads(l)\n",
    "                left = l['prompt'][0]\n",
    "                right = l['prompt'][1]\n",
    "                \n",
    "                if len(left) and len(right):\n",
    "                    d = {\"translation\": {\"src\": left, \"tgt\": right, 'prefix': 'terjemah ke Melayu: '}}\n",
    "                    fopen_jsonl.write(f'{json.dumps(d)}\\n')\n",
    "                    \n",
    "                    d = {\"translation\": {\"src\": right, \"tgt\": left, 'prefix': 'terjemah ke Inggeris: '}}\n",
    "                    fopen_jsonl.write(f'{json.dumps(d)}\\n')\n",
    "                \n",
    "                left = l['response'][0]\n",
    "                right = l['response'][1]\n",
    "                \n",
    "                if len(left) and len(right):\n",
    "                    d = {\"translation\": {\"src\": left, \"tgt\": right, 'prefix': 'terjemah ke Melayu: '}}\n",
    "                    fopen_jsonl.write(f'{json.dumps(d)}\\n')\n",
    "                    \n",
    "                    d = {\"translation\": {\"src\": right, \"tgt\": left, 'prefix': 'terjemah ke Inggeris: '}}\n",
    "                    fopen_jsonl.write(f'{json.dumps(d)}\\n')\n",
    "            except Exception as e:\n",
    "                print(e)"
   ]
  },
  {
   "cell_type": "code",
   "execution_count": 25,
   "metadata": {},
   "outputs": [
    {
     "name": "stdout",
     "output_type": "stream",
     "text": [
      "21327025 train.json\r\n"
     ]
    }
   ],
   "source": [
    "!wc -l train.json"
   ]
  },
  {
   "cell_type": "code",
   "execution_count": 26,
   "metadata": {},
   "outputs": [
    {
     "name": "stderr",
     "output_type": "stream",
     "text": [
      "18837it [00:00, 259522.02it/s]\n",
      "100000it [00:00, 300820.92it/s]\n",
      "100000it [00:00, 295785.96it/s]\n",
      "100000it [00:00, 288572.95it/s]\n",
      "100000it [00:00, 295410.14it/s]\n",
      "100000it [00:00, 291625.52it/s]\n",
      "100000it [00:00, 295405.35it/s]\n",
      "100000it [00:00, 310213.07it/s]\n",
      "100000it [00:00, 294734.24it/s]\n",
      "100000it [00:00, 298992.59it/s]\n",
      "100000it [00:00, 296547.60it/s]\n",
      "100000it [00:00, 295620.22it/s]\n",
      "100000it [00:00, 296085.80it/s]\n",
      "100000it [00:00, 302578.51it/s]\n",
      "100000it [00:00, 299257.76it/s]\n",
      "100000it [00:00, 305905.73it/s]\n",
      "100000it [00:00, 309684.89it/s]\n",
      "100000it [00:00, 295368.11it/s]\n",
      "100000it [00:00, 295981.33it/s]\n",
      "100000it [00:00, 297806.31it/s]\n",
      "100000it [00:00, 288838.05it/s]\n",
      "100000it [00:00, 296572.34it/s]\n",
      "100000it [00:00, 304666.49it/s]\n",
      "100000it [00:00, 295805.15it/s]\n",
      "100000it [00:00, 306670.66it/s]\n",
      "100000it [00:00, 309952.65it/s]\n",
      "100000it [00:00, 294899.19it/s]\n",
      "100000it [00:00, 287488.64it/s]\n",
      "100000it [00:00, 296087.68it/s]\n",
      "100000it [00:00, 290419.01it/s]\n",
      "99999it [00:00, 302723.55it/s]\n",
      "100000it [00:00, 303402.36it/s]\n",
      "99990it [00:00, 241320.90it/s]\n",
      "99997it [00:00, 242771.19it/s]\n",
      "99997it [00:00, 237186.35it/s]\n",
      "99996it [00:00, 236714.92it/s]\n",
      "99998it [00:00, 240267.51it/s]\n",
      "99993it [00:00, 237022.05it/s]\n",
      "7616it [00:00, 245048.75it/s]\n",
      "99995it [00:00, 238135.06it/s]\n",
      "99995it [00:00, 238521.04it/s]\n",
      "99997it [00:00, 236615.93it/s]\n",
      "99992it [00:00, 210284.27it/s]\n",
      "99994it [00:00, 231152.28it/s]\n",
      "99993it [00:00, 234693.63it/s]\n",
      "99988it [00:00, 229986.83it/s]\n",
      "99993it [00:00, 232809.54it/s]\n",
      "99999it [00:00, 229746.92it/s]\n",
      "99992it [00:00, 239646.44it/s]\n",
      "99994it [00:00, 236031.06it/s]\n",
      "99996it [00:00, 237076.86it/s]\n",
      "99999it [00:00, 239061.21it/s]\n",
      "99994it [00:00, 241804.18it/s]\n",
      "99996it [00:00, 246209.17it/s]\n",
      "99993it [00:00, 235447.00it/s]\n",
      "99995it [00:00, 241398.95it/s]\n",
      "99994it [00:00, 237837.75it/s]\n",
      "99990it [00:00, 236323.92it/s]\n",
      "99996it [00:00, 244423.79it/s]\n",
      "99993it [00:00, 238420.13it/s]\n",
      "99996it [00:00, 244411.68it/s]\n",
      "99991it [00:00, 236426.73it/s]\n",
      "99996it [00:00, 244392.17it/s]\n",
      "99995it [00:00, 240783.90it/s]\n",
      "99997it [00:00, 235780.71it/s]\n",
      "99992it [00:00, 244755.77it/s]\n",
      "99994it [00:00, 235574.60it/s]\n",
      "99998it [00:00, 243955.11it/s]\n",
      "99992it [00:00, 230246.67it/s]\n",
      "99999it [00:00, 234095.30it/s]\n",
      "99996it [00:00, 226558.21it/s]\n",
      "87609it [00:00, 205045.97it/s]\n",
      "100000it [00:00, 197525.13it/s]\n",
      "100000it [00:00, 197549.69it/s]\n",
      "100000it [00:00, 197942.01it/s]\n",
      "99897it [00:00, 198330.04it/s]\n",
      "99999it [00:00, 201199.83it/s]\n",
      "99992it [00:00, 197553.24it/s]\n",
      "99994it [00:00, 220802.82it/s]\n",
      "99997it [00:00, 188033.19it/s]\n",
      "99998it [00:00, 199948.71it/s]\n",
      "100000it [00:00, 187794.43it/s]\n",
      "99989it [00:00, 196199.22it/s]\n",
      "100000it [00:00, 200669.33it/s]\n",
      "99994it [00:00, 205396.78it/s]\n",
      "100000it [00:00, 194941.92it/s]\n",
      "100000it [00:00, 197585.71it/s]\n",
      "100000it [00:00, 197444.24it/s]\n",
      "100000it [00:00, 200024.61it/s]\n",
      "100000it [00:00, 202435.32it/s]\n",
      "100000it [00:00, 196447.43it/s]\n",
      "100000it [00:00, 200439.27it/s]\n",
      "99995it [00:00, 208507.46it/s]\n",
      "43098it [00:02, 14420.20it/s]\n",
      "36329it [00:02, 14417.54it/s]\n",
      "42876it [00:02, 14349.55it/s]\n"
     ]
    }
   ],
   "source": [
    "import random\n",
    "\n",
    "with open('train.json', 'a') as fopen_jsonl:\n",
    "    for fs in ens:\n",
    "        for f in fs:\n",
    "            with open(f) as fopen:\n",
    "                for l in tqdm(fopen):\n",
    "                    \n",
    "                    if random.random() > 0.4:\n",
    "                        continue\n",
    "                        \n",
    "                    data = json.loads(l)\n",
    "                    en = data['src']\n",
    "                    ms = data['r']['result']\n",
    "\n",
    "                    if len(en) and len(en.split()) < 1200 and len(ms) and len(ms.split()) < 1200:\n",
    "                        d = {\"translation\": {\"src\": en, \"tgt\": ms, 'prefix': 'terjemah ke Melayu: '}}\n",
    "                        fopen_jsonl.write(f'{json.dumps(d)}\\n')\n",
    "                        \n",
    "                        d = {\"translation\": {\"src\": ms, \"tgt\": en, 'prefix': 'terjemah ke Inggeris: '}}\n",
    "                        fopen_jsonl.write(f'{json.dumps(d)}\\n')\n",
    "                        \n",
    "    for fs in mss:\n",
    "        for f in fs:\n",
    "            with open(f) as fopen:\n",
    "                for l in tqdm(fopen):\n",
    "                    \n",
    "                    if 'malaysia-hansard' not in f and random.random() > 0.6:\n",
    "                        continue\n",
    "                    \n",
    "                    data = json.loads(l)\n",
    "                    if isinstance(data['src'], dict):\n",
    "                        s = data['src']['cleaned']\n",
    "                    else:\n",
    "                        s = data['src']\n",
    "                    ms = s\n",
    "                    en = data['r']['result']\n",
    "\n",
    "                    if len(en) and len(en.split()) < 1200 and len(ms) and len(ms.split()) < 1200:\n",
    "                        \n",
    "                        d = {\"translation\": {\"src\": en, \"tgt\": ms, 'prefix': 'terjemah ke Melayu: '}}\n",
    "                        fopen_jsonl.write(f'{json.dumps(d)}\\n')\n",
    "                        \n",
    "                        d = {\"translation\": {\"src\": ms, \"tgt\": en, 'prefix': 'terjemah ke Inggeris: '}}\n",
    "                        fopen_jsonl.write(f'{json.dumps(d)}\\n')"
   ]
  },
  {
   "cell_type": "code",
   "execution_count": 27,
   "metadata": {},
   "outputs": [
    {
     "name": "stdout",
     "output_type": "stream",
     "text": [
      "29743039 train.json\r\n"
     ]
    }
   ],
   "source": [
    "!wc -l train.json"
   ]
  },
  {
   "cell_type": "code",
   "execution_count": 28,
   "metadata": {},
   "outputs": [
    {
     "name": "stdout",
     "output_type": "stream",
     "text": [
      "{\"translation\": {\"src\": \"Baca ini dan balas berdasarkan arahan saya.\\n* Bandar Chongqing Lifan ialah Chongqing.\\n* Stadium rumah Chongqing Lifan ialah Pusat Sukan Olimpik Chongqing.\\n* Kehadiran Pusat Sukan Olimpik Chongqing ialah 11,433 orang.\\n* Kapasiti Pusat Sukan Olimpik Chongqing ialah 58,680.\", \"tgt\": \"Read this and respond based on my instructions.\\n* Chongqing Lifan 's city is Chongqing.\\n* Chongqing Lifan 's home_stadium is Chongqing Olympic Sports Center.\\n* Chongqing Olympic Sports Center 's attendance is 11,433.\\n* Chongqing Olympic Sports Center 's capacity is 58,680.\", \"prefix\": \"terjemah ke Inggeris: \"}}\r\n",
      "{\"translation\": {\"src\": \"Read this and respond based on my instructions.\\n* Chongqing Lifan 's city is Chongqing.\\n* Chongqing Lifan 's home_stadium is Chongqing Olympic Sports Center.\\n* Chongqing Olympic Sports Center 's attendance is 11,433.\\n* Chongqing Olympic Sports Center 's capacity is 58,680.\", \"tgt\": \"Baca ini dan balas berdasarkan arahan saya.\\n* Bandar Chongqing Lifan ialah Chongqing.\\n* Stadium rumah Chongqing Lifan ialah Pusat Sukan Olimpik Chongqing.\\n* Kehadiran Pusat Sukan Olimpik Chongqing ialah 11,433 orang.\\n* Kapasiti Pusat Sukan Olimpik Chongqing ialah 58,680.\", \"prefix\": \"terjemah ke Melayu: \"}}\r\n"
     ]
    }
   ],
   "source": [
    "!head -n 2 train.json"
   ]
  },
  {
   "cell_type": "code",
   "execution_count": 29,
   "metadata": {},
   "outputs": [
    {
     "name": "stdout",
     "output_type": "stream",
     "text": [
      "{\"translation\": {\"src\": \"Puan Hajah Zuraida Kamaruddin [Ampang]: A little more, Deputy Minister. I understand that there is this program and so on, but how is the monitoring done so that these courses have a certain kind of upgrading, with permission. I see these courses are flat. From before until last year until now the same. So, there is no increase in terms of modules and in terms of teaching staff. So, that's what we think our country wants to become a developed country, women want to be involved in the economy and so on. Our children should be given quality care. This means that we have to upgrade the teachers who teach to degree holders with some qualifications that are specific to child care. Datuk Heng Seai Kie: Yes. Dear Ampang, thank you for the suggestions. It is true that the quality of caregivers or educators in nurseries or with the permission of kindergartens is important because they are the ones who will take care of and educate our children. I will take note of this. Yang Berhormat Petaling Jaya Selatan has touched on the issue of the Selangor Spastic Association and Kuala Lumpur Region where there are parents who complain that the special allowance for disabled children is only given as much as RM100 and another RM50 for PSK management. For your information, in 2011, JKM has already provided a special allowance for disabled children amounting to RM394,200 for 219 children in the Selangor Spastic Association and Kuala Lumpur Region. JKM has an officer who will monitor the granting of special allowances to disabled children and ensure that RM150 per month is received by each child. However, any other fees charged by the association are based on the agreement of parents and the association's committee. Tuan Hee Loy Sian [Petaling Jaya Selatan]: Request an explanation Honorable Deputy Minister. What happened at the Children's Spastic Association of Selangor and Kuala Lumpur Region did exist. The association took the RM50 and only RM100 went into the account of the disabled children. Then I don't know if this is wrong or not. If it is said that RM150 is entitled to be received by disabled children, I hope the ministry can take immediate action because this has been happening for a long time. So, RM50 that the parents of the disabled did not agree with but they took it anyway. Thank you. Datuk Heng Seai Kie: Thank you for the additional question. Actually, as I mentioned, the RM150 allowance we pay goes to the disabled children. If they pay RM50 out of it to the operator which is the association concerned, that is based on a mutual agreement between the parents and the committee. If... Tuan Hee Loy Sian [Petaling Jaya Selatan]: I agree Honorable Deputy Minister. Datuk Heng Seai Kie: If this is something beyond the meaning of not getting the consent of the parents, then we call for the parents to write or complain to the central JKM. We will take action. Yang Berhormat Petaling Jaya Selatan has also already asked about the abandoned carer who receives RM300 whether the children who enter PDK are eligible to receive an allowance of RM150. For your information, at this time the ministry does not prevent a family from receiving more than one aid if eligible. In connection with that, children who enter PDK can receive a PDK allowance of RM150 per month even if their guardians receive RM300 per month for homeless disabled persons. Tuan Hee Loy Sian [Petaling Jaya Selatan]: Honorable Deputy Minister. Datuk Heng Seai Kie: So, if there is a case... Tuan Hee Loy Sian [Petaling Jaya Selatan]: That has already happened, there is also a case. Datuk Heng Seai Kie: If there is a case Your Honor can refer the case to me. Tuan Hee Loy Sian [Petaling Jaya Selatan]: Okay, thank you. Datuk Heng Seai Kie: Your Honor also asked about the EPC which is the Disabled Employees Allowance so that it should be increased from RM300 to a higher rate.\", \"tgt\": \"Puan Hajah Zuraida Kamaruddin [Ampang]: Sedikit lagi ya Timbalan Menteri. Saya faham memang ada program ini dan sebagainya tetapi bagaimana pemantauan itu agar kursus-kursus ini ada certain kind of upgrading ,dengan izin. Saya lihat kursus-kursus ini mendatar. Daripada dahulu sampai tahun lepas sampai sekarang yang sama. Jadi, tidak ada peningkatan dari segi modul dan dari segi tenaga pengajar. Jadi, itu yang kita rasa negara kita hendak jadi negara maju, orang perempuan pun hendak terlibat dalam ekonomi dan sebagainya. Anak-anak kita ini harus diberikan satu penjagaan yang bermutu. Maksudnya guru-guru yang mengajar itu kita kena upgrade degree holders with some qualifications yang spesifik untuk penjagaan anak-anak. Datuk Heng Seai Kie: Ya. Yang Berhormat Ampang terima kasih atas cadangan yang dikemukakan. Memang betul mutu ataupun kualiti pengasuh ataupun pendidik di taska ataupun dengan izin kindergartens adalah penting kerana merekalah yang akan menjaga dan mendidik anak-anak kita. Perkara ini saya akan ambil maklum. Yang Berhormat Petaling Jaya Selatan telah menyentuh tentang isu Persatuan Spastik Selangor dan Wilayah Kuala Lumpur di mana terdapat ibu bapa yang mengadu elaun khas kanak-kanak OKU hanya diberikan sebanyak RM100 dan RM50 lagi untuk pengurusan PSK. Untuk makluman Yang Berhormat, pada tahun 2011, JKM telah pun menyediakan elaun khas kanak-kanak OKU sebanyak RM394,200 untuk 219 orang kanak- kanak di Persatuan Spastik Selangor dan Wilayah Kuala Lumpur. JKM mempunyai pegawai yang akan memantau pemberian elaun khas kanak-kanak OKU dan memastikan supaya RM150 sebulan diterima oleh setiap kanak-kanak tersebut. Walau bagaimanapun, sebarang bayaran lain yang dikenakan oleh persatuan berkenaan adalah berdasarkan persetujuan ibu bapa dan jawatankuasa persatuan tersebut. Tuan Hee Loy Sian [Petaling Jaya Selatan]: Minta penjelasan Yang Berhormat Timbalan Menteri. Apa yang berlaku di Persatuan Spastik Kanak-kanak Selangor dan Wilayah Kuala Lumpur memang wujud persatuan itu ambil RM50 itu dan hanya masuk RM100 kepada akaun kanak-kanak OKU. Kalau begitu saya tidak tahu ini salah atau tidak. Kalau kata RM150 itu berhak diterima oleh kanak-kanak OKU, saya harap kementerian dapat ambil tindakan segera kerana hal ini sudah lama berlaku. So, RM50 yang tidak setuju oleh ibu bapa OKU tetapi mereka ambil juga. Terima kasih. Datuk Heng Seai Kie: Terima kasih Yang Berhormat atas soalan tambahan. Sebenarnya, sepertimana yang saya nyatakan elaun RM150 ini kita bayar tuju kepada kanak-kanak OKU tersebut. Sekiranya mereka membayar RM50 daripadanya kepada pengendali iaitu persatuan yang berkenaan, itu adalah berdasarkan kepada persetujuan bersama antara ibu bapa dan jawatankuasa. Sekiranya... Tuan Hee Loy Sian [Petaling Jaya Selatan]: Saya setuju Yang Berhormat Timbalan Menteri. Datuk Heng Seai Kie: Sekiranya ini adalah satu di luar maksudnya tidak mendapat persetujuan ibu bapa maka kita menyeru agar ibu bapa itu bolehlah tulis ataupun mengadu kepada JKM pusat. Kita akan ambil tindakan. Yang Berhormat Petaling Jaya Selatan juga tadi telah pun bertanya tentang penjaga terlantar yang terima RM300 sama ada anak-anak yang masuk PDK layak untuk terima elaun sebanyak RM150. Untuk makluman Yang Berhormat, pada masa ini kementerian tidak menghalang satu keluarga untuk menerima lebih daripada satu bantuan sekiranya layak. Sehubungan dengan itu anak-anak yang masuk PDK boleh menerima elaun PDK sebanyak RM150 sebulan walaupun penjaganya menerima bantuan OKU terlantar sebanyak RM300 sebulan. Tuan Hee Loy Sian [Petaling Jaya Selatan]: Yang Berhormat Timbalan Menteri. Datuk Heng Seai Kie: Jadi, kalau ada kes... Tuan Hee Loy Sian [Petaling Jaya Selatan]: Itu sudah berlaku, ada kes juga. Datuk Heng Seai Kie: Kalau ada kes Yang Berhormat bolehlah rujukkan kes itu kepada saya ya. Tuan Hee Loy Sian [Petaling Jaya Selatan]: Okey, terima kasih. Datuk Heng Seai Kie: Yang Berhormat juga tadi bertanya tentang EPC iaitu Elaun Pekerja Cacat supaya ia harus dinaikkan daripada RM300 kepada kadar yang lebih tinggi.\", \"prefix\": \"terjemah ke Melayu: \"}}\r\n",
      "{\"translation\": {\"src\": \"Puan Hajah Zuraida Kamaruddin [Ampang]: Sedikit lagi ya Timbalan Menteri. Saya faham memang ada program ini dan sebagainya tetapi bagaimana pemantauan itu agar kursus-kursus ini ada certain kind of upgrading ,dengan izin. Saya lihat kursus-kursus ini mendatar. Daripada dahulu sampai tahun lepas sampai sekarang yang sama. Jadi, tidak ada peningkatan dari segi modul dan dari segi tenaga pengajar. Jadi, itu yang kita rasa negara kita hendak jadi negara maju, orang perempuan pun hendak terlibat dalam ekonomi dan sebagainya. Anak-anak kita ini harus diberikan satu penjagaan yang bermutu. Maksudnya guru-guru yang mengajar itu kita kena upgrade degree holders with some qualifications yang spesifik untuk penjagaan anak-anak. Datuk Heng Seai Kie: Ya. Yang Berhormat Ampang terima kasih atas cadangan yang dikemukakan. Memang betul mutu ataupun kualiti pengasuh ataupun pendidik di taska ataupun dengan izin kindergartens adalah penting kerana merekalah yang akan menjaga dan mendidik anak-anak kita. Perkara ini saya akan ambil maklum. Yang Berhormat Petaling Jaya Selatan telah menyentuh tentang isu Persatuan Spastik Selangor dan Wilayah Kuala Lumpur di mana terdapat ibu bapa yang mengadu elaun khas kanak-kanak OKU hanya diberikan sebanyak RM100 dan RM50 lagi untuk pengurusan PSK. Untuk makluman Yang Berhormat, pada tahun 2011, JKM telah pun menyediakan elaun khas kanak-kanak OKU sebanyak RM394,200 untuk 219 orang kanak- kanak di Persatuan Spastik Selangor dan Wilayah Kuala Lumpur. JKM mempunyai pegawai yang akan memantau pemberian elaun khas kanak-kanak OKU dan memastikan supaya RM150 sebulan diterima oleh setiap kanak-kanak tersebut. Walau bagaimanapun, sebarang bayaran lain yang dikenakan oleh persatuan berkenaan adalah berdasarkan persetujuan ibu bapa dan jawatankuasa persatuan tersebut. Tuan Hee Loy Sian [Petaling Jaya Selatan]: Minta penjelasan Yang Berhormat Timbalan Menteri. Apa yang berlaku di Persatuan Spastik Kanak-kanak Selangor dan Wilayah Kuala Lumpur memang wujud persatuan itu ambil RM50 itu dan hanya masuk RM100 kepada akaun kanak-kanak OKU. Kalau begitu saya tidak tahu ini salah atau tidak. Kalau kata RM150 itu berhak diterima oleh kanak-kanak OKU, saya harap kementerian dapat ambil tindakan segera kerana hal ini sudah lama berlaku. So, RM50 yang tidak setuju oleh ibu bapa OKU tetapi mereka ambil juga. Terima kasih. Datuk Heng Seai Kie: Terima kasih Yang Berhormat atas soalan tambahan. Sebenarnya, sepertimana yang saya nyatakan elaun RM150 ini kita bayar tuju kepada kanak-kanak OKU tersebut. Sekiranya mereka membayar RM50 daripadanya kepada pengendali iaitu persatuan yang berkenaan, itu adalah berdasarkan kepada persetujuan bersama antara ibu bapa dan jawatankuasa. Sekiranya... Tuan Hee Loy Sian [Petaling Jaya Selatan]: Saya setuju Yang Berhormat Timbalan Menteri. Datuk Heng Seai Kie: Sekiranya ini adalah satu di luar maksudnya tidak mendapat persetujuan ibu bapa maka kita menyeru agar ibu bapa itu bolehlah tulis ataupun mengadu kepada JKM pusat. Kita akan ambil tindakan. Yang Berhormat Petaling Jaya Selatan juga tadi telah pun bertanya tentang penjaga terlantar yang terima RM300 sama ada anak-anak yang masuk PDK layak untuk terima elaun sebanyak RM150. Untuk makluman Yang Berhormat, pada masa ini kementerian tidak menghalang satu keluarga untuk menerima lebih daripada satu bantuan sekiranya layak. Sehubungan dengan itu anak-anak yang masuk PDK boleh menerima elaun PDK sebanyak RM150 sebulan walaupun penjaganya menerima bantuan OKU terlantar sebanyak RM300 sebulan. Tuan Hee Loy Sian [Petaling Jaya Selatan]: Yang Berhormat Timbalan Menteri. Datuk Heng Seai Kie: Jadi, kalau ada kes... Tuan Hee Loy Sian [Petaling Jaya Selatan]: Itu sudah berlaku, ada kes juga. Datuk Heng Seai Kie: Kalau ada kes Yang Berhormat bolehlah rujukkan kes itu kepada saya ya. Tuan Hee Loy Sian [Petaling Jaya Selatan]: Okey, terima kasih. Datuk Heng Seai Kie: Yang Berhormat juga tadi bertanya tentang EPC iaitu Elaun Pekerja Cacat supaya ia harus dinaikkan daripada RM300 kepada kadar yang lebih tinggi.\", \"tgt\": \"Puan Hajah Zuraida Kamaruddin [Ampang]: A little more, Deputy Minister. I understand that there is this program and so on, but how is the monitoring done so that these courses have a certain kind of upgrading, with permission. I see these courses are flat. From before until last year until now the same. So, there is no increase in terms of modules and in terms of teaching staff. So, that's what we think our country wants to become a developed country, women want to be involved in the economy and so on. Our children should be given quality care. This means that we have to upgrade the teachers who teach to degree holders with some qualifications that are specific to child care. Datuk Heng Seai Kie: Yes. Dear Ampang, thank you for the suggestions. It is true that the quality of caregivers or educators in nurseries or with the permission of kindergartens is important because they are the ones who will take care of and educate our children. I will take note of this. Yang Berhormat Petaling Jaya Selatan has touched on the issue of the Selangor Spastic Association and Kuala Lumpur Region where there are parents who complain that the special allowance for disabled children is only given as much as RM100 and another RM50 for PSK management. For your information, in 2011, JKM has already provided a special allowance for disabled children amounting to RM394,200 for 219 children in the Selangor Spastic Association and Kuala Lumpur Region. JKM has an officer who will monitor the granting of special allowances to disabled children and ensure that RM150 per month is received by each child. However, any other fees charged by the association are based on the agreement of parents and the association's committee. Tuan Hee Loy Sian [Petaling Jaya Selatan]: Request an explanation Honorable Deputy Minister. What happened at the Children's Spastic Association of Selangor and Kuala Lumpur Region did exist. The association took the RM50 and only RM100 went into the account of the disabled children. Then I don't know if this is wrong or not. If it is said that RM150 is entitled to be received by disabled children, I hope the ministry can take immediate action because this has been happening for a long time. So, RM50 that the parents of the disabled did not agree with but they took it anyway. Thank you. Datuk Heng Seai Kie: Thank you for the additional question. Actually, as I mentioned, the RM150 allowance we pay goes to the disabled children. If they pay RM50 out of it to the operator which is the association concerned, that is based on a mutual agreement between the parents and the committee. If... Tuan Hee Loy Sian [Petaling Jaya Selatan]: I agree Honorable Deputy Minister. Datuk Heng Seai Kie: If this is something beyond the meaning of not getting the consent of the parents, then we call for the parents to write or complain to the central JKM. We will take action. Yang Berhormat Petaling Jaya Selatan has also already asked about the abandoned carer who receives RM300 whether the children who enter PDK are eligible to receive an allowance of RM150. For your information, at this time the ministry does not prevent a family from receiving more than one aid if eligible. In connection with that, children who enter PDK can receive a PDK allowance of RM150 per month even if their guardians receive RM300 per month for homeless disabled persons. Tuan Hee Loy Sian [Petaling Jaya Selatan]: Honorable Deputy Minister. Datuk Heng Seai Kie: So, if there is a case... Tuan Hee Loy Sian [Petaling Jaya Selatan]: That has already happened, there is also a case. Datuk Heng Seai Kie: If there is a case Your Honor can refer the case to me. Tuan Hee Loy Sian [Petaling Jaya Selatan]: Okay, thank you. Datuk Heng Seai Kie: Your Honor also asked about the EPC which is the Disabled Employees Allowance so that it should be increased from RM300 to a higher rate.\", \"prefix\": \"terjemah ke Inggeris: \"}}\r\n"
     ]
    }
   ],
   "source": [
    "!tail -n 2 train.json"
   ]
  },
  {
   "cell_type": "code",
   "execution_count": 30,
   "metadata": {},
   "outputs": [],
   "source": [
    "!shuf train.json > shuffled-train.json"
   ]
  },
  {
   "cell_type": "code",
   "execution_count": 31,
   "metadata": {},
   "outputs": [
    {
     "name": "stdout",
     "output_type": "stream",
     "text": [
      "{\"translation\": {\"src\": \"This move ensures the optimization of resources in Singapore's overall aviation system as aircraft movements at Changi continue to increase.\", \"tgt\": \"Langkah ini memastikan pengoptimuman sumber dalam sistem penerbangan keseluruhan Singapura memandangkan pergerakan pesawat di Changi semakin bertambah.\", \"prefix\": \"terjemah ke Melayu: \"}}\r\n",
      "{\"translation\": {\"src\": \"@SyieraTahir kenapa weh?\", \"tgt\": \"Kenapa, SyieraTahir?\", \"prefix\": \"terjemah ke Melayu: \"}}\r\n",
      "{\"translation\": {\"src\": \"Ditanya mengenai titah Sultan Selangor Sultan Sharafuddin Idris Shah semalam supaya Majlis Agama Islam Selangor (MAIS) menarik balik tauliah mengajar Zamihan serta membatalkan keanggotaannya dalam Jawatankuasa Tauliah negeri itu, Jamil Khir secara ringkas berkata hal ehwal agama Islam adalah di bawah bidang kuasa negeri.\", \"tgt\": \"Asked about the order of the Sultan of Selangor Sultan Sharafuddin Idris Shah yesterday for the Selangor Islamic Religious Council (MAIS) to withdraw the teaching of teaching and canceling his membership in the state's committee, Jamil Khir briefly said Islamic religious affairs were under state jurisdiction.\", \"prefix\": \"terjemah ke Inggeris: \"}}\r\n",
      "{\"translation\": {\"src\": \"The night market occupied the car park and those who didn't have a place had to find somewhere else.\", \"tgt\": \"the pasar malam occpuied the car park and those heshe got no place mah\", \"prefix\": \"terjemah ke Manglish: \"}}\r\n",
      "{\"translation\": {\"src\": \"Mungkin ada perlawanan, tetapi saya tidak mahu melihat perkara yang tidak saya sukai kerana ia mungkin membuat saya terasa tidak selesa. Seterusnya, ada orang baru yang menarik perhatian di dalam dewan.\", \"tgt\": \"may haf match lah besides i dun wanna see things tt i dun like to see may get upset by them oh ive tis new eye candy in hall\", \"prefix\": \"terjemah ke Manglish: \"}}\r\n"
     ]
    }
   ],
   "source": [
    "!head -n 5 shuffled-train.json"
   ]
  },
  {
   "cell_type": "code",
   "execution_count": 32,
   "metadata": {},
   "outputs": [],
   "source": [
    "!head -n 5000 shuffled-train.json > test.json"
   ]
  }
 ],
 "metadata": {
  "kernelspec": {
   "display_name": "Python 3 (ipykernel)",
   "language": "python",
   "name": "python3"
  },
  "language_info": {
   "codemirror_mode": {
    "name": "ipython",
    "version": 3
   },
   "file_extension": ".py",
   "mimetype": "text/x-python",
   "name": "python",
   "nbconvert_exporter": "python",
   "pygments_lexer": "ipython3",
   "version": "3.8.10"
  }
 },
 "nbformat": 4,
 "nbformat_minor": 4
}
