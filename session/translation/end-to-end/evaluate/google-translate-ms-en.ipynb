{
 "cells": [
  {
   "cell_type": "code",
   "execution_count": 2,
   "id": "3560a64c",
   "metadata": {},
   "outputs": [],
   "source": [
    "# !wget https://github.com/mesolitica/malaysian-dataset/raw/master/translation/flores200-eval/bjn_Latn.dev\n",
    "# !wget https://github.com/mesolitica/malaysian-dataset/raw/master/translation/flores200-eval/eng_Latn.dev\n",
    "# !wget https://github.com/mesolitica/malaysian-dataset/raw/master/translation/flores200-eval/ind_Latn.dev\n",
    "# !wget https://github.com/mesolitica/malaysian-dataset/raw/master/translation/flores200-eval/jav_Latn.dev\n",
    "# !wget https://github.com/mesolitica/malaysian-dataset/raw/master/translation/flores200-eval/zsm_Latn.dev\n",
    "# !wget https://github.com/mesolitica/malaysian-dataset/raw/master/translation/flores200-eval/zho_Hans.dev\n",
    "# !wget https://github.com/mesolitica/malaysian-dataset/raw/master/translation/flores200-eval/tam_Taml.dev"
   ]
  },
  {
   "cell_type": "code",
   "execution_count": 3,
   "id": "2d713f77",
   "metadata": {},
   "outputs": [],
   "source": [
    "with open('eng_Latn.dev') as fopen:\n",
    "    en = fopen.read().split('\\n')\n",
    "    \n",
    "with open('zsm_Latn.dev') as fopen:\n",
    "    ms = fopen.read().split('\\n')\n",
    "    \n",
    "en_, ms_ = [], []\n",
    "for i in range(len(en)):\n",
    "    if len(en[i]) and len(ms[i]):\n",
    "        en_.append(en[i])\n",
    "        ms_.append(ms[i])"
   ]
  },
  {
   "cell_type": "code",
   "execution_count": 4,
   "id": "076a2a37",
   "metadata": {},
   "outputs": [
    {
     "data": {
      "text/plain": [
       "(997, 997)"
      ]
     },
     "execution_count": 4,
     "metadata": {},
     "output_type": "execute_result"
    }
   ],
   "source": [
    "len(en_), len(ms_)"
   ]
  },
  {
   "cell_type": "code",
   "execution_count": 1,
   "id": "14d402ec",
   "metadata": {},
   "outputs": [],
   "source": [
    "from tqdm import tqdm\n",
    "import requests\n",
    "import os\n",
    "import json"
   ]
  },
  {
   "cell_type": "code",
   "execution_count": 10,
   "id": "4795de0a",
   "metadata": {},
   "outputs": [],
   "source": [
    "!mkdir google-translate-ms-en"
   ]
  },
  {
   "cell_type": "code",
   "execution_count": 20,
   "id": "4ed56e3f",
   "metadata": {},
   "outputs": [
    {
     "name": "stderr",
     "output_type": "stream",
     "text": [
      "100%|███████████████████████████████████████████████████████████████████████████████████████████| 997/997 [42:36<00:00,  2.56s/it]\n"
     ]
    }
   ],
   "source": [
    "for i in tqdm(range(len(ms_))):\n",
    "    filename = os.path.join('google-translate-ms-en', f'{i}.json')\n",
    "    \n",
    "    if os.path.exists(filename):\n",
    "        continue\n",
    "    \n",
    "    headers = {\n",
    "        'accept': 'application/json',\n",
    "        'Content-Type': 'application/json',\n",
    "    }\n",
    "\n",
    "    json_data = {\n",
    "        'text': ms_[i],\n",
    "    }\n",
    "\n",
    "    response = requests.post('http://localhost:8004/translate', headers=headers, json=json_data)\n",
    "    r = response.json()\n",
    "    with open(filename, 'w') as fopen:\n",
    "        json.dump({'text': ms_[i], 'r': r}, fopen)"
   ]
  },
  {
   "cell_type": "code",
   "execution_count": 5,
   "id": "29a9166d",
   "metadata": {},
   "outputs": [],
   "source": [
    "from sacrebleu.metrics import BLEU, CHRF, TER\n",
    "\n",
    "chrf = CHRF(word_order = 2)"
   ]
  },
  {
   "cell_type": "code",
   "execution_count": 21,
   "id": "85b50691",
   "metadata": {},
   "outputs": [],
   "source": [
    "predicted, actual = [], []\n",
    "for i in range(len(ms_)):\n",
    "    try:\n",
    "        filename = os.path.join('google-translate-ms-en', f'{i}.json')\n",
    "        with open(filename) as fopen:\n",
    "            d = json.load(fopen)\n",
    "            \n",
    "        n = d['r']['result']\n",
    "        predicted.append(d['r']['result'])\n",
    "        actual.append(en_[i])\n",
    "    except:\n",
    "        pass"
   ]
  },
  {
   "cell_type": "code",
   "execution_count": 23,
   "id": "4b315bf3",
   "metadata": {},
   "outputs": [
    {
     "data": {
      "text/plain": [
       "chrF2++ = 60.19"
      ]
     },
     "execution_count": 23,
     "metadata": {},
     "output_type": "execute_result"
    }
   ],
   "source": [
    "score = chrf.corpus_score(predicted, [actual])\n",
    "score"
   ]
  },
  {
   "cell_type": "code",
   "execution_count": null,
   "id": "ff8b41df",
   "metadata": {},
   "outputs": [],
   "source": []
  }
 ],
 "metadata": {
  "kernelspec": {
   "display_name": "Python 3 (ipykernel)",
   "language": "python",
   "name": "python3"
  },
  "language_info": {
   "codemirror_mode": {
    "name": "ipython",
    "version": 3
   },
   "file_extension": ".py",
   "mimetype": "text/x-python",
   "name": "python",
   "nbconvert_exporter": "python",
   "pygments_lexer": "ipython3",
   "version": "3.8.10"
  }
 },
 "nbformat": 4,
 "nbformat_minor": 5
}
