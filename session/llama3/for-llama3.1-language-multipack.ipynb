{
 "cells": [
  {
   "cell_type": "code",
   "execution_count": 1,
   "id": "7d6410a1",
   "metadata": {
    "scrolled": true
   },
   "outputs": [
    {
     "name": "stderr",
     "output_type": "stream",
     "text": [
      "Special tokens have been added in the vocabulary, make sure the associated word embeddings are fine-tuned or trained.\n"
     ]
    }
   ],
   "source": [
    "from transformers import AutoTokenizer\n",
    "\n",
    "tokenizer = AutoTokenizer.from_pretrained('unsloth/Meta-Llama-3.1-8B-Instruct')"
   ]
  },
  {
   "cell_type": "code",
   "execution_count": 2,
   "id": "8192d241",
   "metadata": {},
   "outputs": [],
   "source": [
    "from streaming import MDSWriter\n",
    "from streaming.base.format.mds.encodings import Encoding, _encodings\n",
    "from streaming import LocalDataset\n",
    "import streaming\n",
    "import numpy as np\n",
    "from tqdm import tqdm\n",
    "from glob import glob\n",
    "import os\n",
    "import json\n",
    "\n",
    "class UInt32(Encoding):\n",
    "    def encode(self, obj) -> bytes:\n",
    "        return obj.tobytes()\n",
    "\n",
    "    def decode(self, data: bytes):\n",
    "        return np.frombuffer(data, np.uint32)\n",
    "\n",
    "_encodings['uint32'] = UInt32\n",
    "\n",
    "columns = {\n",
    "    'input_ids': 'uint32',\n",
    "    'position_ids': 'uint32',\n",
    "    'attention_mask': 'uint32',\n",
    "}\n",
    "hashes = 'sha1', 'xxh64'"
   ]
  },
  {
   "cell_type": "code",
   "execution_count": 3,
   "id": "c89a77fe",
   "metadata": {},
   "outputs": [
    {
     "name": "stdout",
     "output_type": "stream",
     "text": [
      "mkdir: cannot create directory ‘tokenized’: File exists\r\n"
     ]
    }
   ],
   "source": [
    "!mkdir tokenized"
   ]
  },
  {
   "cell_type": "code",
   "execution_count": 4,
   "id": "75fa5332",
   "metadata": {},
   "outputs": [
    {
     "name": "stderr",
     "output_type": "stream",
     "text": [
      "897800it [00:06, 135737.12it/s]\n"
     ]
    }
   ],
   "source": [
    "combine = []\n",
    "with open('combined-instructions-language.jsonl') as fopen:\n",
    "    for l in tqdm(fopen):\n",
    "        l = json.loads(l)\n",
    "        combine.append(l)"
   ]
  },
  {
   "cell_type": "code",
   "execution_count": 5,
   "id": "a4780c0c",
   "metadata": {},
   "outputs": [],
   "source": [
    "import gc\n",
    "\n",
    "def collator(batch, batch_position_ids):\n",
    "    input_ids = []\n",
    "    position_ids = []\n",
    "    masks = []\n",
    "    for i in range(len(batch)):\n",
    "        l = len(batch[i])\n",
    "        input_ids.extend(batch[i])\n",
    "        position_ids.extend(batch_position_ids[i])\n",
    "        masks.append(l)\n",
    "    \n",
    "    return {\n",
    "        'input_ids': np.array(input_ids).astype(np.uint32),\n",
    "        'position_ids': np.array(position_ids).astype(np.uint32),\n",
    "        'attention_mask': np.array(masks).astype(np.uint32),\n",
    "    }\n",
    "\n",
    "def slice_and_balance(lists, target_length):\n",
    "    flat_list = [item for sublist in lists for item in sublist]\n",
    "    main_flat = flat_list[:target_length]\n",
    "    balance_flat = flat_list[target_length:]\n",
    "\n",
    "    def to_sublists(flat):\n",
    "        result, temp = [], []\n",
    "        for item in flat:\n",
    "            temp.append(item)\n",
    "            if len(temp) == len(lists[len(result)]):\n",
    "                result.append(temp)\n",
    "                temp = []\n",
    "        if temp:\n",
    "            result.append(temp)\n",
    "        return result\n",
    "\n",
    "    main_part = to_sublists(main_flat)\n",
    "    balance_part = to_sublists(balance_flat)\n",
    "\n",
    "    return main_part, balance_part"
   ]
  },
  {
   "cell_type": "code",
   "execution_count": 6,
   "id": "d98b2a7b",
   "metadata": {},
   "outputs": [
    {
     "name": "stderr",
     "output_type": "stream",
     "text": [
      "  2%|█▍                                                                                     | 165/10000 [00:00<00:03, 2512.83it/s]\n"
     ]
    }
   ],
   "source": [
    "block_size = 16384\n",
    "count = 0\n",
    "temp = []\n",
    "position_ids = []\n",
    "found = False\n",
    "for row in tqdm(combine[:10000]):\n",
    "    prompt = tokenizer.apply_chat_template(row, tokenize=False)\n",
    "    outputs = tokenizer(prompt, add_special_tokens = False)\n",
    "    temp.append(outputs['input_ids'])\n",
    "    position_ids.append(range(len(outputs['input_ids'])))\n",
    "    count += len(outputs['input_ids'])\n",
    "    while count >= block_size:\n",
    "        block, temp = slice_and_balance(temp, block_size)\n",
    "        block_position, position_ids = slice_and_balance(position_ids, block_size)\n",
    "        count = count - block_size\n",
    "        found = True\n",
    "        break\n",
    "    if found:\n",
    "        break"
   ]
  },
  {
   "cell_type": "code",
   "execution_count": 7,
   "id": "73d84295",
   "metadata": {},
   "outputs": [
    {
     "name": "stdout",
     "output_type": "stream",
     "text": [
      "CPU times: user 1.1 ms, sys: 0 ns, total: 1.1 ms\n",
      "Wall time: 1.03 ms\n"
     ]
    }
   ],
   "source": [
    "%%time\n",
    "\n",
    "o = collator(block, block_position)"
   ]
  },
  {
   "cell_type": "code",
   "execution_count": 8,
   "id": "9d8c5dca",
   "metadata": {},
   "outputs": [],
   "source": [
    "import time\n",
    "\n",
    "def loop(files, block_size = 20480):\n",
    "    rows, index = files\n",
    "    out_root = f'tokenized/tokenized-{index}'\n",
    "    os.system(f'rm -rf {out_root}')\n",
    "    count = 0\n",
    "    temp = []\n",
    "    position_ids = []\n",
    "    with MDSWriter(out=out_root, columns=columns, compression=None, hashes=hashes) as out:\n",
    "        for row in tqdm(rows):\n",
    "            prompt = tokenizer.apply_chat_template(row, tokenize=False)\n",
    "            outputs = tokenizer(prompt, add_special_tokens = False)\n",
    "            temp.append(outputs['input_ids'])\n",
    "            position_ids.append(range(len(outputs['input_ids'])))\n",
    "            count += len(outputs['input_ids'])\n",
    "            while count >= block_size:\n",
    "                block, temp = slice_and_balance(temp, block_size)\n",
    "                block_position, position_ids = slice_and_balance(position_ids, block_size)\n",
    "                count = count - block_size\n",
    "                o = collator(block, block_position)\n",
    "                out.write(o)"
   ]
  },
  {
   "cell_type": "code",
   "execution_count": 9,
   "id": "015eba5f",
   "metadata": {},
   "outputs": [
    {
     "name": "stderr",
     "output_type": "stream",
     "text": [
      "huggingface/tokenizers: The current process just got forked, after parallelism has already been used. Disabling parallelism to avoid deadlocks...\n",
      "To disable this warning, you can either:\n",
      "\t- Avoid using `tokenizers` before the fork if possible\n",
      "\t- Explicitly set the environment variable TOKENIZERS_PARALLELISM=(true | false)\n",
      "huggingface/tokenizers: The current process just got forked, after parallelism has already been used. Disabling parallelism to avoid deadlocks...\n",
      "To disable this warning, you can either:\n",
      "\t- Avoid using `tokenizers` before the fork if possible\n",
      "\t- Explicitly set the environment variable TOKENIZERS_PARALLELISM=(true | false)\n",
      "huggingface/tokenizers: The current process just got forked, after parallelism has already been used. Disabling parallelism to avoid deadlocks...\n",
      "To disable this warning, you can either:\n",
      "\t- Avoid using `tokenizers` before the fork if possible\n",
      "\t- Explicitly set the environment variable TOKENIZERS_PARALLELISM=(true | false)\n",
      "huggingface/tokenizers: The current process just got forked, after parallelism has already been used. Disabling parallelism to avoid deadlocks...\n",
      "To disable this warning, you can either:\n",
      "\t- Avoid using `tokenizers` before the fork if possible\n",
      "\t- Explicitly set the environment variable TOKENIZERS_PARALLELISM=(true | false)\n",
      "huggingface/tokenizers: The current process just got forked, after parallelism has already been used. Disabling parallelism to avoid deadlocks...\n",
      "To disable this warning, you can either:\n",
      "\t- Avoid using `tokenizers` before the fork if possible\n",
      "\t- Explicitly set the environment variable TOKENIZERS_PARALLELISM=(true | false)\n",
      "huggingface/tokenizers: The current process just got forked, after parallelism has already been used. Disabling parallelism to avoid deadlocks...\n",
      "To disable this warning, you can either:\n",
      "\t- Avoid using `tokenizers` before the fork if possible\n",
      "\t- Explicitly set the environment variable TOKENIZERS_PARALLELISM=(true | false)\n",
      "huggingface/tokenizers: The current process just got forked, after parallelism has already been used. Disabling parallelism to avoid deadlocks...\n",
      "To disable this warning, you can either:\n",
      "\t- Avoid using `tokenizers` before the fork if possible\n",
      "\t- Explicitly set the environment variable TOKENIZERS_PARALLELISM=(true | false)\n",
      "huggingface/tokenizers: The current process just got forked, after parallelism has already been used. Disabling parallelism to avoid deadlocks...\n",
      "To disable this warning, you can either:\n",
      "\t- Avoid using `tokenizers` before the fork if possible\n",
      "\t- Explicitly set the environment variable TOKENIZERS_PARALLELISM=(true | false)\n",
      "huggingface/tokenizers: The current process just got forked, after parallelism has already been used. Disabling parallelism to avoid deadlocks...\n",
      "To disable this warning, you can either:\n",
      "\t- Avoid using `tokenizers` before the fork if possible\n",
      "\t- Explicitly set the environment variable TOKENIZERS_PARALLELISM=(true | false)\n",
      "huggingface/tokenizers: The current process just got forked, after parallelism has already been used. Disabling parallelism to avoid deadlocks...\n",
      "To disable this warning, you can either:\n",
      "\t- Avoid using `tokenizers` before the fork if possible\n",
      "\t- Explicitly set the environment variable TOKENIZERS_PARALLELISM=(true | false)\n",
      "  1%|█▏                                                                                     | 1259/89780 [00:06<14:41, 100.46it/s]TOKENIZERS_PARALLELISM=(true | false)\n",
      "100%|██████████████████████████████████████████████████████████████████████████████████████| 89780/89780 [01:52<00:00, 799.22it/s]\n",
      "100%|██████████████████████████████████████████████████████████████████████████████████████| 89780/89780 [01:57<00:00, 761.90it/s]\n",
      "100%|██████████████████████████████████████████████████████████████████████████████████████| 89780/89780 [02:31<00:00, 591.21it/s]\n",
      "100%|██████████████████████████████████████████████████████████████████████████████████████| 89780/89780 [02:28<00:00, 605.24it/s]\n",
      "100%|██████████████████████████████████████████████████████████████████████████████████████| 89780/89780 [08:07<00:00, 184.09it/s]\n",
      "100%|██████████████████████████████████████████████████████████████████████████████████████| 89780/89780 [07:53<00:00, 189.72it/s]\n",
      "100%|██████████████████████████████████████████████████████████████████████████████████████| 89780/89780 [08:43<00:00, 171.47it/s]\n",
      "100%|██████████████████████████████████████████████████████████████████████████████████████| 89780/89780 [09:49<00:00, 152.30it/s]\n",
      "100%|██████████████████████████████████████████████████████████████████████████████████████| 89780/89780 [09:40<00:00, 154.54it/s]\n",
      "100%|██████████████████████████████████████████████████████████████████████████████████████| 89780/89780 [11:27<00:00, 130.50it/s]\n"
     ]
    }
   ],
   "source": [
    "import mp\n",
    "\n",
    "mp.multiprocessing(combine, loop, cores = 10, returned = False)"
   ]
  },
  {
   "cell_type": "code",
   "execution_count": 10,
   "id": "a4ad9c23",
   "metadata": {},
   "outputs": [
    {
     "data": {
      "text/plain": [
       "['tokenized/tokenized-0',\n",
       " 'tokenized/tokenized-1',\n",
       " 'tokenized/tokenized-2',\n",
       " 'tokenized/tokenized-3',\n",
       " 'tokenized/tokenized-4',\n",
       " 'tokenized/tokenized-5',\n",
       " 'tokenized/tokenized-6',\n",
       " 'tokenized/tokenized-7',\n",
       " 'tokenized/tokenized-8',\n",
       " 'tokenized/tokenized-9',\n",
       " 'tokenized/tokenized-10']"
      ]
     },
     "execution_count": 10,
     "metadata": {},
     "output_type": "execute_result"
    }
   ],
   "source": [
    "folders = sorted(glob('tokenized/tokenized-*'), key = lambda x: int(x.split('-')[-1]))\n",
    "folders"
   ]
  },
  {
   "cell_type": "code",
   "execution_count": 11,
   "id": "353c9334",
   "metadata": {},
   "outputs": [
    {
     "name": "stderr",
     "output_type": "stream",
     "text": [
      "huggingface/tokenizers: The current process just got forked, after parallelism has already been used. Disabling parallelism to avoid deadlocks...\n",
      "To disable this warning, you can either:\n",
      "\t- Avoid using `tokenizers` before the fork if possible\n",
      "\t- Explicitly set the environment variable TOKENIZERS_PARALLELISM=(true | false)\n"
     ]
    }
   ],
   "source": [
    "!rm -rf packing"
   ]
  },
  {
   "cell_type": "code",
   "execution_count": 12,
   "id": "f1190255",
   "metadata": {},
   "outputs": [
    {
     "name": "stderr",
     "output_type": "stream",
     "text": [
      "100%|█████████████████████████████████████████████████████████████████████████████████████████| 957/957 [00:00<00:00, 2542.51it/s]\n",
      "100%|███████████████████████████████████████████████████████████████████████████████████████| 1469/1469 [00:00<00:00, 2617.30it/s]\n",
      "100%|███████████████████████████████████████████████████████████████████████████████████████| 3308/3308 [00:01<00:00, 2104.15it/s]\n",
      "100%|███████████████████████████████████████████████████████████████████████████████████████| 5728/5728 [00:02<00:00, 2123.77it/s]\n",
      "100%|█████████████████████████████████████████████████████████████████████████████████████████| 742/742 [00:00<00:00, 3180.91it/s]\n",
      "100%|███████████████████████████████████████████████████████████████████████████████████████| 1054/1054 [00:00<00:00, 1788.32it/s]\n",
      "100%|███████████████████████████████████████████████████████████████████████████████████████| 3397/3397 [00:01<00:00, 2342.60it/s]\n",
      "100%|███████████████████████████████████████████████████████████████████████████████████████| 4098/4098 [00:02<00:00, 1993.21it/s]\n",
      "100%|███████████████████████████████████████████████████████████████████████████████████████| 4177/4177 [00:01<00:00, 2251.57it/s]\n",
      "100%|███████████████████████████████████████████████████████████████████████████████████████| 3484/3484 [00:01<00:00, 2139.40it/s]\n"
     ]
    },
    {
     "name": "stdout",
     "output_type": "stream",
     "text": [
      "index -1 is out of bounds for axis 0 with size 0\n"
     ]
    }
   ],
   "source": [
    "with MDSWriter(out='packing', columns=columns, compression=None, hashes=hashes) as out:\n",
    "    for f in folders:\n",
    "        try:\n",
    "            dataset = LocalDataset(local=f)\n",
    "            for i in tqdm(range(len(dataset))):\n",
    "                out.write(dataset[i])\n",
    "        except Exception as e:\n",
    "            print(e)\n",
    "            pass"
   ]
  },
  {
   "cell_type": "code",
   "execution_count": 13,
   "id": "7757fb23",
   "metadata": {},
   "outputs": [
    {
     "data": {
      "text/plain": [
       "array([104823,    150,     97, ...,  39287,   8826,   2004], dtype=uint32)"
      ]
     },
     "execution_count": 13,
     "metadata": {},
     "output_type": "execute_result"
    }
   ],
   "source": [
    "dataset[-1]['input_ids']"
   ]
  },
  {
   "cell_type": "code",
   "execution_count": 24,
   "id": "76cc2e7f",
   "metadata": {},
   "outputs": [],
   "source": [
    "dataset = LocalDataset('packing')"
   ]
  },
  {
   "cell_type": "code",
   "execution_count": 15,
   "id": "a5654a4c",
   "metadata": {
    "scrolled": true
   },
   "outputs": [
    {
     "data": {
      "text/plain": [
       "0.58191872"
      ]
     },
     "execution_count": 15,
     "metadata": {},
     "output_type": "execute_result"
    }
   ],
   "source": [
    "(len(dataset) * 20480) / 1e9"
   ]
  },
  {
   "cell_type": "code",
   "execution_count": 16,
   "id": "18e36fca",
   "metadata": {},
   "outputs": [
    {
     "data": {
      "text/plain": [
       "0.58191872"
      ]
     },
     "execution_count": 16,
     "metadata": {},
     "output_type": "execute_result"
    }
   ],
   "source": [
    "(len(dataset) * 20480) / 1e9"
   ]
  },
  {
   "cell_type": "code",
   "execution_count": 17,
   "id": "f4fafc68",
   "metadata": {},
   "outputs": [
    {
     "data": {
      "text/plain": [
       "RepoUrl('https://huggingface.co/datasets/mesolitica/malaysian-llama3.1-24k-language-multipack', endpoint='https://huggingface.co', repo_type='dataset', repo_id='mesolitica/malaysian-llama3.1-24k-language-multipack')"
      ]
     },
     "execution_count": 17,
     "metadata": {},
     "output_type": "execute_result"
    }
   ],
   "source": [
    "from huggingface_hub import create_repo, delete_repo\n",
    "\n",
    "try:\n",
    "    delete_repo(repo_id=\"mesolitica/malaysian-llama3.1-24k-language-multipack\", repo_type=\"dataset\")\n",
    "except:\n",
    "    pass\n",
    "create_repo(\"mesolitica/malaysian-llama3.1-24k-language-multipack\", repo_type=\"dataset\", private = True)"
   ]
  },
  {
   "cell_type": "code",
   "execution_count": 18,
   "id": "17d27ae4",
   "metadata": {
    "scrolled": false
   },
   "outputs": [
    {
     "data": {
      "application/vnd.jupyter.widget-view+json": {
       "model_id": "c4b2ed3682514672ae8d07d6ae7112d3",
       "version_major": 2,
       "version_minor": 0
      },
      "text/plain": [
       "shard.00002.mds:   0%|          | 0.00/67.1M [00:00<?, ?B/s]"
      ]
     },
     "metadata": {},
     "output_type": "display_data"
    },
    {
     "data": {
      "application/vnd.jupyter.widget-view+json": {
       "model_id": "28a7ea18a6f94fc9add1be9e6701efa9",
       "version_major": 2,
       "version_minor": 0
      },
      "text/plain": [
       "shard.00004.mds:   0%|          | 0.00/67.1M [00:00<?, ?B/s]"
      ]
     },
     "metadata": {},
     "output_type": "display_data"
    },
    {
     "data": {
      "application/vnd.jupyter.widget-view+json": {
       "model_id": "a68957cf3ad04af1afbec3f9f65561be",
       "version_major": 2,
       "version_minor": 0
      },
      "text/plain": [
       "shard.00000.mds:   0%|          | 0.00/67.0M [00:00<?, ?B/s]"
      ]
     },
     "metadata": {},
     "output_type": "display_data"
    },
    {
     "data": {
      "application/vnd.jupyter.widget-view+json": {
       "model_id": "0d284a568993451389dc170925bd297d",
       "version_major": 2,
       "version_minor": 0
      },
      "text/plain": [
       "shard.00001.mds:   0%|          | 0.00/67.1M [00:00<?, ?B/s]"
      ]
     },
     "metadata": {},
     "output_type": "display_data"
    },
    {
     "data": {
      "application/vnd.jupyter.widget-view+json": {
       "model_id": "bec77d65454e4dfd8eeff10ee545696d",
       "version_major": 2,
       "version_minor": 0
      },
      "text/plain": [
       "shard.00003.mds:   0%|          | 0.00/67.1M [00:00<?, ?B/s]"
      ]
     },
     "metadata": {},
     "output_type": "display_data"
    },
    {
     "data": {
      "application/vnd.jupyter.widget-view+json": {
       "model_id": "91c96268622a41378de53247cd5762bb",
       "version_major": 2,
       "version_minor": 0
      },
      "text/plain": [
       "Upload 70 LFS files:   0%|          | 0/70 [00:00<?, ?it/s]"
      ]
     },
     "metadata": {},
     "output_type": "display_data"
    },
    {
     "data": {
      "application/vnd.jupyter.widget-view+json": {
       "model_id": "501cdf1845ab4d99b048a64682ff3544",
       "version_major": 2,
       "version_minor": 0
      },
      "text/plain": [
       "shard.00005.mds:   0%|          | 0.00/67.0M [00:00<?, ?B/s]"
      ]
     },
     "metadata": {},
     "output_type": "display_data"
    },
    {
     "data": {
      "application/vnd.jupyter.widget-view+json": {
       "model_id": "92110a3c045643c2aca27d872d0ad034",
       "version_major": 2,
       "version_minor": 0
      },
      "text/plain": [
       "shard.00006.mds:   0%|          | 0.00/67.1M [00:00<?, ?B/s]"
      ]
     },
     "metadata": {},
     "output_type": "display_data"
    },
    {
     "data": {
      "application/vnd.jupyter.widget-view+json": {
       "model_id": "6c7e48f77cb84965a4bceecb5bc4a7f1",
       "version_major": 2,
       "version_minor": 0
      },
      "text/plain": [
       "shard.00007.mds:   0%|          | 0.00/67.1M [00:00<?, ?B/s]"
      ]
     },
     "metadata": {},
     "output_type": "display_data"
    },
    {
     "data": {
      "application/vnd.jupyter.widget-view+json": {
       "model_id": "9ee7e0d8031e4ef18cefef40cd8f0e06",
       "version_major": 2,
       "version_minor": 0
      },
      "text/plain": [
       "shard.00008.mds:   0%|          | 0.00/67.1M [00:00<?, ?B/s]"
      ]
     },
     "metadata": {},
     "output_type": "display_data"
    },
    {
     "data": {
      "application/vnd.jupyter.widget-view+json": {
       "model_id": "3c29c23f64864c9d88f25e368ff70ae0",
       "version_major": 2,
       "version_minor": 0
      },
      "text/plain": [
       "shard.00009.mds:   0%|          | 0.00/67.0M [00:00<?, ?B/s]"
      ]
     },
     "metadata": {},
     "output_type": "display_data"
    },
    {
     "data": {
      "application/vnd.jupyter.widget-view+json": {
       "model_id": "b8c2573836464c4399656ce07b37505d",
       "version_major": 2,
       "version_minor": 0
      },
      "text/plain": [
       "shard.00010.mds:   0%|          | 0.00/67.0M [00:00<?, ?B/s]"
      ]
     },
     "metadata": {},
     "output_type": "display_data"
    },
    {
     "data": {
      "application/vnd.jupyter.widget-view+json": {
       "model_id": "e0420687110044ad8d2d21d710c8fce2",
       "version_major": 2,
       "version_minor": 0
      },
      "text/plain": [
       "shard.00011.mds:   0%|          | 0.00/67.1M [00:00<?, ?B/s]"
      ]
     },
     "metadata": {},
     "output_type": "display_data"
    },
    {
     "data": {
      "application/vnd.jupyter.widget-view+json": {
       "model_id": "6e4b292515de4b1888f40bebdc647f8c",
       "version_major": 2,
       "version_minor": 0
      },
      "text/plain": [
       "shard.00012.mds:   0%|          | 0.00/67.1M [00:00<?, ?B/s]"
      ]
     },
     "metadata": {},
     "output_type": "display_data"
    },
    {
     "data": {
      "application/vnd.jupyter.widget-view+json": {
       "model_id": "c4619dff53454904a309b3546cb14af7",
       "version_major": 2,
       "version_minor": 0
      },
      "text/plain": [
       "shard.00013.mds:   0%|          | 0.00/67.1M [00:00<?, ?B/s]"
      ]
     },
     "metadata": {},
     "output_type": "display_data"
    },
    {
     "data": {
      "application/vnd.jupyter.widget-view+json": {
       "model_id": "0c39420779eb446a8d78834456d1f653",
       "version_major": 2,
       "version_minor": 0
      },
      "text/plain": [
       "shard.00014.mds:   0%|          | 0.00/67.1M [00:00<?, ?B/s]"
      ]
     },
     "metadata": {},
     "output_type": "display_data"
    },
    {
     "data": {
      "application/vnd.jupyter.widget-view+json": {
       "model_id": "8a352d8c7403410cbceca8728e7dec70",
       "version_major": 2,
       "version_minor": 0
      },
      "text/plain": [
       "shard.00015.mds:   0%|          | 0.00/67.1M [00:00<?, ?B/s]"
      ]
     },
     "metadata": {},
     "output_type": "display_data"
    },
    {
     "data": {
      "application/vnd.jupyter.widget-view+json": {
       "model_id": "feb123aed4ee46f49c47986bcc082acc",
       "version_major": 2,
       "version_minor": 0
      },
      "text/plain": [
       "shard.00016.mds:   0%|          | 0.00/67.1M [00:00<?, ?B/s]"
      ]
     },
     "metadata": {},
     "output_type": "display_data"
    },
    {
     "data": {
      "application/vnd.jupyter.widget-view+json": {
       "model_id": "a94c6e544be54a96a97f17f420458ad8",
       "version_major": 2,
       "version_minor": 0
      },
      "text/plain": [
       "shard.00017.mds:   0%|          | 0.00/67.0M [00:00<?, ?B/s]"
      ]
     },
     "metadata": {},
     "output_type": "display_data"
    },
    {
     "data": {
      "application/vnd.jupyter.widget-view+json": {
       "model_id": "9ddb90801f784d94904c7fc82ab83e9f",
       "version_major": 2,
       "version_minor": 0
      },
      "text/plain": [
       "shard.00018.mds:   0%|          | 0.00/67.1M [00:00<?, ?B/s]"
      ]
     },
     "metadata": {},
     "output_type": "display_data"
    },
    {
     "data": {
      "application/vnd.jupyter.widget-view+json": {
       "model_id": "e1a6d6390c0048fea15ae0ccb9cac39b",
       "version_major": 2,
       "version_minor": 0
      },
      "text/plain": [
       "shard.00019.mds:   0%|          | 0.00/67.1M [00:00<?, ?B/s]"
      ]
     },
     "metadata": {},
     "output_type": "display_data"
    },
    {
     "data": {
      "application/vnd.jupyter.widget-view+json": {
       "model_id": "2358168752d74dbaa31dea370c457f49",
       "version_major": 2,
       "version_minor": 0
      },
      "text/plain": [
       "shard.00020.mds:   0%|          | 0.00/67.1M [00:00<?, ?B/s]"
      ]
     },
     "metadata": {},
     "output_type": "display_data"
    },
    {
     "data": {
      "application/vnd.jupyter.widget-view+json": {
       "model_id": "3a4f6ee349c247129b49647f16be8602",
       "version_major": 2,
       "version_minor": 0
      },
      "text/plain": [
       "shard.00021.mds:   0%|          | 0.00/67.1M [00:00<?, ?B/s]"
      ]
     },
     "metadata": {},
     "output_type": "display_data"
    },
    {
     "data": {
      "application/vnd.jupyter.widget-view+json": {
       "model_id": "a6c0a09f21b34e87838935949ae06e78",
       "version_major": 2,
       "version_minor": 0
      },
      "text/plain": [
       "shard.00022.mds:   0%|          | 0.00/67.1M [00:00<?, ?B/s]"
      ]
     },
     "metadata": {},
     "output_type": "display_data"
    },
    {
     "data": {
      "application/vnd.jupyter.widget-view+json": {
       "model_id": "50c360e0eb6f405982cea57268b794cf",
       "version_major": 2,
       "version_minor": 0
      },
      "text/plain": [
       "shard.00023.mds:   0%|          | 0.00/67.1M [00:00<?, ?B/s]"
      ]
     },
     "metadata": {},
     "output_type": "display_data"
    },
    {
     "data": {
      "application/vnd.jupyter.widget-view+json": {
       "model_id": "85e46ca09c9b4882bfa1f16b9b2e0bde",
       "version_major": 2,
       "version_minor": 0
      },
      "text/plain": [
       "shard.00024.mds:   0%|          | 0.00/67.1M [00:00<?, ?B/s]"
      ]
     },
     "metadata": {},
     "output_type": "display_data"
    },
    {
     "data": {
      "application/vnd.jupyter.widget-view+json": {
       "model_id": "f70efa1de8fb4a08a7a44e18ef675051",
       "version_major": 2,
       "version_minor": 0
      },
      "text/plain": [
       "shard.00025.mds:   0%|          | 0.00/67.0M [00:00<?, ?B/s]"
      ]
     },
     "metadata": {},
     "output_type": "display_data"
    },
    {
     "data": {
      "application/vnd.jupyter.widget-view+json": {
       "model_id": "471ebf18e90f492a8decbf3c63a186d0",
       "version_major": 2,
       "version_minor": 0
      },
      "text/plain": [
       "shard.00026.mds:   0%|          | 0.00/67.1M [00:00<?, ?B/s]"
      ]
     },
     "metadata": {},
     "output_type": "display_data"
    },
    {
     "data": {
      "application/vnd.jupyter.widget-view+json": {
       "model_id": "1bec495f9ccf41a49a71fb3699fe416f",
       "version_major": 2,
       "version_minor": 0
      },
      "text/plain": [
       "shard.00027.mds:   0%|          | 0.00/67.1M [00:00<?, ?B/s]"
      ]
     },
     "metadata": {},
     "output_type": "display_data"
    },
    {
     "data": {
      "application/vnd.jupyter.widget-view+json": {
       "model_id": "c8a84856b7754611ba80cf3584a8c274",
       "version_major": 2,
       "version_minor": 0
      },
      "text/plain": [
       "shard.00028.mds:   0%|          | 0.00/67.0M [00:00<?, ?B/s]"
      ]
     },
     "metadata": {},
     "output_type": "display_data"
    },
    {
     "data": {
      "application/vnd.jupyter.widget-view+json": {
       "model_id": "f148b60be59345938d9c953c41a7e3ac",
       "version_major": 2,
       "version_minor": 0
      },
      "text/plain": [
       "shard.00029.mds:   0%|          | 0.00/67.0M [00:00<?, ?B/s]"
      ]
     },
     "metadata": {},
     "output_type": "display_data"
    },
    {
     "data": {
      "application/vnd.jupyter.widget-view+json": {
       "model_id": "1c606f3cdc1b4fc5bdba5450a0184cb5",
       "version_major": 2,
       "version_minor": 0
      },
      "text/plain": [
       "shard.00030.mds:   0%|          | 0.00/67.1M [00:00<?, ?B/s]"
      ]
     },
     "metadata": {},
     "output_type": "display_data"
    },
    {
     "data": {
      "application/vnd.jupyter.widget-view+json": {
       "model_id": "7d53f3502ccc4282b774eebdbbc47144",
       "version_major": 2,
       "version_minor": 0
      },
      "text/plain": [
       "shard.00031.mds:   0%|          | 0.00/67.1M [00:00<?, ?B/s]"
      ]
     },
     "metadata": {},
     "output_type": "display_data"
    },
    {
     "data": {
      "application/vnd.jupyter.widget-view+json": {
       "model_id": "29eacc97278e4513914220aa9010a795",
       "version_major": 2,
       "version_minor": 0
      },
      "text/plain": [
       "shard.00032.mds:   0%|          | 0.00/67.1M [00:00<?, ?B/s]"
      ]
     },
     "metadata": {},
     "output_type": "display_data"
    },
    {
     "data": {
      "application/vnd.jupyter.widget-view+json": {
       "model_id": "068608be8672463fb04bfcf2f385f2d6",
       "version_major": 2,
       "version_minor": 0
      },
      "text/plain": [
       "shard.00033.mds:   0%|          | 0.00/67.1M [00:00<?, ?B/s]"
      ]
     },
     "metadata": {},
     "output_type": "display_data"
    },
    {
     "data": {
      "application/vnd.jupyter.widget-view+json": {
       "model_id": "0f22a396169742ce99fd1f7e58aaac15",
       "version_major": 2,
       "version_minor": 0
      },
      "text/plain": [
       "shard.00034.mds:   0%|          | 0.00/67.1M [00:00<?, ?B/s]"
      ]
     },
     "metadata": {},
     "output_type": "display_data"
    },
    {
     "data": {
      "application/vnd.jupyter.widget-view+json": {
       "model_id": "8dd85a9a3b68470e9c3a4945b799093b",
       "version_major": 2,
       "version_minor": 0
      },
      "text/plain": [
       "shard.00035.mds:   0%|          | 0.00/67.1M [00:00<?, ?B/s]"
      ]
     },
     "metadata": {},
     "output_type": "display_data"
    },
    {
     "data": {
      "application/vnd.jupyter.widget-view+json": {
       "model_id": "828eb9125108490fb6e7c56e384d9a3f",
       "version_major": 2,
       "version_minor": 0
      },
      "text/plain": [
       "shard.00036.mds:   0%|          | 0.00/67.1M [00:00<?, ?B/s]"
      ]
     },
     "metadata": {},
     "output_type": "display_data"
    },
    {
     "data": {
      "application/vnd.jupyter.widget-view+json": {
       "model_id": "47e26a307a144b769bbaf0bfe117c2a0",
       "version_major": 2,
       "version_minor": 0
      },
      "text/plain": [
       "shard.00037.mds:   0%|          | 0.00/67.1M [00:00<?, ?B/s]"
      ]
     },
     "metadata": {},
     "output_type": "display_data"
    },
    {
     "data": {
      "application/vnd.jupyter.widget-view+json": {
       "model_id": "1620ac75fcc5489b94dbf2867b8cdbc0",
       "version_major": 2,
       "version_minor": 0
      },
      "text/plain": [
       "shard.00038.mds:   0%|          | 0.00/67.1M [00:00<?, ?B/s]"
      ]
     },
     "metadata": {},
     "output_type": "display_data"
    },
    {
     "data": {
      "application/vnd.jupyter.widget-view+json": {
       "model_id": "519308a6e3f747bb8eecb30810669170",
       "version_major": 2,
       "version_minor": 0
      },
      "text/plain": [
       "shard.00039.mds:   0%|          | 0.00/67.1M [00:00<?, ?B/s]"
      ]
     },
     "metadata": {},
     "output_type": "display_data"
    },
    {
     "data": {
      "application/vnd.jupyter.widget-view+json": {
       "model_id": "e17d790aeb224471825aa59cc818e316",
       "version_major": 2,
       "version_minor": 0
      },
      "text/plain": [
       "shard.00040.mds:   0%|          | 0.00/67.1M [00:00<?, ?B/s]"
      ]
     },
     "metadata": {},
     "output_type": "display_data"
    },
    {
     "data": {
      "application/vnd.jupyter.widget-view+json": {
       "model_id": "adce3643ba1d41358bdea92f30ea7498",
       "version_major": 2,
       "version_minor": 0
      },
      "text/plain": [
       "shard.00041.mds:   0%|          | 0.00/67.1M [00:00<?, ?B/s]"
      ]
     },
     "metadata": {},
     "output_type": "display_data"
    },
    {
     "data": {
      "application/vnd.jupyter.widget-view+json": {
       "model_id": "e16178e1cfc14348ae064d37f6eaa67a",
       "version_major": 2,
       "version_minor": 0
      },
      "text/plain": [
       "shard.00042.mds:   0%|          | 0.00/67.1M [00:00<?, ?B/s]"
      ]
     },
     "metadata": {},
     "output_type": "display_data"
    },
    {
     "data": {
      "application/vnd.jupyter.widget-view+json": {
       "model_id": "c481a7b859c94e128c3db2c129690694",
       "version_major": 2,
       "version_minor": 0
      },
      "text/plain": [
       "shard.00043.mds:   0%|          | 0.00/67.1M [00:00<?, ?B/s]"
      ]
     },
     "metadata": {},
     "output_type": "display_data"
    },
    {
     "data": {
      "application/vnd.jupyter.widget-view+json": {
       "model_id": "bbccf694269d4e52b2c14264e93c29cb",
       "version_major": 2,
       "version_minor": 0
      },
      "text/plain": [
       "shard.00044.mds:   0%|          | 0.00/67.1M [00:00<?, ?B/s]"
      ]
     },
     "metadata": {},
     "output_type": "display_data"
    },
    {
     "data": {
      "application/vnd.jupyter.widget-view+json": {
       "model_id": "863d4b442f01435d842bdae859fdf686",
       "version_major": 2,
       "version_minor": 0
      },
      "text/plain": [
       "shard.00045.mds:   0%|          | 0.00/67.1M [00:00<?, ?B/s]"
      ]
     },
     "metadata": {},
     "output_type": "display_data"
    },
    {
     "data": {
      "application/vnd.jupyter.widget-view+json": {
       "model_id": "0f193f0de1b045f49817e88648f2b5cb",
       "version_major": 2,
       "version_minor": 0
      },
      "text/plain": [
       "shard.00046.mds:   0%|          | 0.00/67.1M [00:00<?, ?B/s]"
      ]
     },
     "metadata": {},
     "output_type": "display_data"
    },
    {
     "data": {
      "application/vnd.jupyter.widget-view+json": {
       "model_id": "e9e1a3546f5b40f18f4a90876803378b",
       "version_major": 2,
       "version_minor": 0
      },
      "text/plain": [
       "shard.00047.mds:   0%|          | 0.00/67.1M [00:00<?, ?B/s]"
      ]
     },
     "metadata": {},
     "output_type": "display_data"
    },
    {
     "data": {
      "application/vnd.jupyter.widget-view+json": {
       "model_id": "160b7ffb1e78444ea47ab6c4732847c9",
       "version_major": 2,
       "version_minor": 0
      },
      "text/plain": [
       "shard.00048.mds:   0%|          | 0.00/67.1M [00:00<?, ?B/s]"
      ]
     },
     "metadata": {},
     "output_type": "display_data"
    },
    {
     "data": {
      "application/vnd.jupyter.widget-view+json": {
       "model_id": "cf2d267109714644a8acac52c4c1985f",
       "version_major": 2,
       "version_minor": 0
      },
      "text/plain": [
       "shard.00049.mds:   0%|          | 0.00/67.1M [00:00<?, ?B/s]"
      ]
     },
     "metadata": {},
     "output_type": "display_data"
    },
    {
     "data": {
      "application/vnd.jupyter.widget-view+json": {
       "model_id": "7d379b7bc8054cc9bc6e65a04cfe391c",
       "version_major": 2,
       "version_minor": 0
      },
      "text/plain": [
       "shard.00050.mds:   0%|          | 0.00/67.1M [00:00<?, ?B/s]"
      ]
     },
     "metadata": {},
     "output_type": "display_data"
    },
    {
     "data": {
      "application/vnd.jupyter.widget-view+json": {
       "model_id": "6eb481b1c8b34e9b90576f7e19a753a0",
       "version_major": 2,
       "version_minor": 0
      },
      "text/plain": [
       "shard.00051.mds:   0%|          | 0.00/67.1M [00:00<?, ?B/s]"
      ]
     },
     "metadata": {},
     "output_type": "display_data"
    },
    {
     "data": {
      "application/vnd.jupyter.widget-view+json": {
       "model_id": "1952a0f095924792a5582e002a4915e5",
       "version_major": 2,
       "version_minor": 0
      },
      "text/plain": [
       "shard.00052.mds:   0%|          | 0.00/67.1M [00:00<?, ?B/s]"
      ]
     },
     "metadata": {},
     "output_type": "display_data"
    },
    {
     "data": {
      "application/vnd.jupyter.widget-view+json": {
       "model_id": "5bf17549966b40c5b6b484189f486482",
       "version_major": 2,
       "version_minor": 0
      },
      "text/plain": [
       "shard.00053.mds:   0%|          | 0.00/67.1M [00:00<?, ?B/s]"
      ]
     },
     "metadata": {},
     "output_type": "display_data"
    },
    {
     "data": {
      "application/vnd.jupyter.widget-view+json": {
       "model_id": "1eb81487e9ef4344bc00079d9c9bc2d2",
       "version_major": 2,
       "version_minor": 0
      },
      "text/plain": [
       "shard.00054.mds:   0%|          | 0.00/67.1M [00:00<?, ?B/s]"
      ]
     },
     "metadata": {},
     "output_type": "display_data"
    },
    {
     "data": {
      "application/vnd.jupyter.widget-view+json": {
       "model_id": "aa482bd26cf24ad9aa6dab288379feae",
       "version_major": 2,
       "version_minor": 0
      },
      "text/plain": [
       "shard.00055.mds:   0%|          | 0.00/67.1M [00:00<?, ?B/s]"
      ]
     },
     "metadata": {},
     "output_type": "display_data"
    },
    {
     "data": {
      "application/vnd.jupyter.widget-view+json": {
       "model_id": "aec4cf28b75e488ca26d43cf0ed4f350",
       "version_major": 2,
       "version_minor": 0
      },
      "text/plain": [
       "shard.00056.mds:   0%|          | 0.00/67.1M [00:00<?, ?B/s]"
      ]
     },
     "metadata": {},
     "output_type": "display_data"
    },
    {
     "data": {
      "application/vnd.jupyter.widget-view+json": {
       "model_id": "9ed92618ea7143619fa3643d08426ed8",
       "version_major": 2,
       "version_minor": 0
      },
      "text/plain": [
       "shard.00057.mds:   0%|          | 0.00/67.1M [00:00<?, ?B/s]"
      ]
     },
     "metadata": {},
     "output_type": "display_data"
    },
    {
     "data": {
      "application/vnd.jupyter.widget-view+json": {
       "model_id": "6483561ce1c142d2a5a101c2204ec97e",
       "version_major": 2,
       "version_minor": 0
      },
      "text/plain": [
       "shard.00058.mds:   0%|          | 0.00/67.1M [00:00<?, ?B/s]"
      ]
     },
     "metadata": {},
     "output_type": "display_data"
    },
    {
     "data": {
      "application/vnd.jupyter.widget-view+json": {
       "model_id": "f44adf4319a14957ba75aab5889b7320",
       "version_major": 2,
       "version_minor": 0
      },
      "text/plain": [
       "shard.00059.mds:   0%|          | 0.00/67.1M [00:00<?, ?B/s]"
      ]
     },
     "metadata": {},
     "output_type": "display_data"
    },
    {
     "data": {
      "application/vnd.jupyter.widget-view+json": {
       "model_id": "621b16bf498d4fafb0b8564e5ecbff80",
       "version_major": 2,
       "version_minor": 0
      },
      "text/plain": [
       "shard.00060.mds:   0%|          | 0.00/67.1M [00:00<?, ?B/s]"
      ]
     },
     "metadata": {},
     "output_type": "display_data"
    },
    {
     "data": {
      "application/vnd.jupyter.widget-view+json": {
       "model_id": "c6ab30d8e8de4940ab8d402133efd1f7",
       "version_major": 2,
       "version_minor": 0
      },
      "text/plain": [
       "shard.00061.mds:   0%|          | 0.00/67.0M [00:00<?, ?B/s]"
      ]
     },
     "metadata": {},
     "output_type": "display_data"
    },
    {
     "data": {
      "application/vnd.jupyter.widget-view+json": {
       "model_id": "7ba74990553048f4ba7cb3af991964fe",
       "version_major": 2,
       "version_minor": 0
      },
      "text/plain": [
       "shard.00062.mds:   0%|          | 0.00/67.1M [00:00<?, ?B/s]"
      ]
     },
     "metadata": {},
     "output_type": "display_data"
    },
    {
     "data": {
      "application/vnd.jupyter.widget-view+json": {
       "model_id": "162410f5af8f4ef89ab7421e8d2afb3c",
       "version_major": 2,
       "version_minor": 0
      },
      "text/plain": [
       "shard.00063.mds:   0%|          | 0.00/67.1M [00:00<?, ?B/s]"
      ]
     },
     "metadata": {},
     "output_type": "display_data"
    },
    {
     "data": {
      "application/vnd.jupyter.widget-view+json": {
       "model_id": "6cda42f00f954b08bb96517b250495a1",
       "version_major": 2,
       "version_minor": 0
      },
      "text/plain": [
       "shard.00064.mds:   0%|          | 0.00/67.1M [00:00<?, ?B/s]"
      ]
     },
     "metadata": {},
     "output_type": "display_data"
    },
    {
     "data": {
      "application/vnd.jupyter.widget-view+json": {
       "model_id": "4f4f69edfdfc4fbfb2cffe3b921d6b3c",
       "version_major": 2,
       "version_minor": 0
      },
      "text/plain": [
       "shard.00065.mds:   0%|          | 0.00/67.1M [00:00<?, ?B/s]"
      ]
     },
     "metadata": {},
     "output_type": "display_data"
    },
    {
     "data": {
      "application/vnd.jupyter.widget-view+json": {
       "model_id": "0447c1ae3c804520b8d3c25d00783fd6",
       "version_major": 2,
       "version_minor": 0
      },
      "text/plain": [
       "shard.00066.mds:   0%|          | 0.00/67.1M [00:00<?, ?B/s]"
      ]
     },
     "metadata": {},
     "output_type": "display_data"
    },
    {
     "data": {
      "application/vnd.jupyter.widget-view+json": {
       "model_id": "b3e166493aad498ead21ee6858067761",
       "version_major": 2,
       "version_minor": 0
      },
      "text/plain": [
       "shard.00067.mds:   0%|          | 0.00/67.0M [00:00<?, ?B/s]"
      ]
     },
     "metadata": {},
     "output_type": "display_data"
    },
    {
     "data": {
      "application/vnd.jupyter.widget-view+json": {
       "model_id": "a13c694b9fe04086ba778d81dc2d6e1d",
       "version_major": 2,
       "version_minor": 0
      },
      "text/plain": [
       "shard.00068.mds:   0%|          | 0.00/67.0M [00:00<?, ?B/s]"
      ]
     },
     "metadata": {},
     "output_type": "display_data"
    },
    {
     "data": {
      "application/vnd.jupyter.widget-view+json": {
       "model_id": "13bb34e95f684c79bc9a71a7269b0135",
       "version_major": 2,
       "version_minor": 0
      },
      "text/plain": [
       "shard.00069.mds:   0%|          | 0.00/33.0M [00:00<?, ?B/s]"
      ]
     },
     "metadata": {},
     "output_type": "display_data"
    },
    {
     "data": {
      "text/plain": [
       "CommitInfo(commit_url='https://huggingface.co/datasets/mesolitica/malaysian-llama3.1-24k-language-multipack/commit/c4c258c3ff992aa1fde39fa1a2dd0a61b6cab788', commit_message='Upload folder using huggingface_hub', commit_description='', oid='c4c258c3ff992aa1fde39fa1a2dd0a61b6cab788', pr_url=None, pr_revision=None, pr_num=None)"
      ]
     },
     "execution_count": 18,
     "metadata": {},
     "output_type": "execute_result"
    }
   ],
   "source": [
    "from huggingface_hub import HfApi\n",
    "api = HfApi()\n",
    "\n",
    "api.upload_folder(\n",
    "    folder_path=\"packing\",\n",
    "    repo_id=\"mesolitica/malaysian-llama3.1-24k-language-multipack\",\n",
    "    repo_type=\"dataset\",\n",
    ")"
   ]
  },
  {
   "cell_type": "code",
   "execution_count": null,
   "id": "fb5471d0",
   "metadata": {},
   "outputs": [],
   "source": []
  }
 ],
 "metadata": {
  "kernelspec": {
   "display_name": "python3.10",
   "language": "python",
   "name": "python3.10"
  },
  "language_info": {
   "codemirror_mode": {
    "name": "ipython",
    "version": 3
   },
   "file_extension": ".py",
   "mimetype": "text/x-python",
   "name": "python",
   "nbconvert_exporter": "python",
   "pygments_lexer": "ipython3",
   "version": "3.10.14"
  }
 },
 "nbformat": 4,
 "nbformat_minor": 5
}
