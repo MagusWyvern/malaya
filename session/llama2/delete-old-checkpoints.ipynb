{
 "cells": [
  {
   "cell_type": "code",
   "execution_count": 1,
   "metadata": {},
   "outputs": [],
   "source": [
    "from glob import glob\n",
    "import os"
   ]
  },
  {
   "cell_type": "code",
   "execution_count": 2,
   "metadata": {},
   "outputs": [
    {
     "name": "stdout",
     "output_type": "stream",
     "text": [
      "rm -rf results-1536-v2/checkpoint-78000\n",
      "rm -rf results-1536-v2/checkpoint-78500\n",
      "rm -rf results-1536-v2/checkpoint-79000\n",
      "rm -rf results-1536-v2/checkpoint-79500\n",
      "rm -rf results-1536-v2/checkpoint-80000\n",
      "rm -rf results-1536-v2/checkpoint-80500\n",
      "rm -rf results-1536-v2/checkpoint-81000\n",
      "rm -rf results-1536-v2/checkpoint-81500\n",
      "rm -rf results-1536-v2/checkpoint-82000\n",
      "rm -rf results-1536-v2/checkpoint-82500\n",
      "rm -rf results-1536-v2/checkpoint-83000\n",
      "rm -rf results-1536-v2/checkpoint-83500\n",
      "rm -rf results-1536-v2/checkpoint-84000\n",
      "rm -rf results-1536-v2/checkpoint-84500\n",
      "rm -rf results-1536-v2/checkpoint-85000\n",
      "rm -rf results-1536-v2/checkpoint-85500\n",
      "rm -rf results-1536-v2/checkpoint-86000\n",
      "rm -rf results-1536-v2/checkpoint-86500\n",
      "rm -rf results-1536-v2/checkpoint-87000\n",
      "rm -rf results-1536-v2/checkpoint-87500\n",
      "rm -rf results-1536-v2/checkpoint-88000\n",
      "rm -rf results-1536-v2/checkpoint-88500\n",
      "rm -rf results-1536-v2/checkpoint-89000\n",
      "rm -rf results-1536-v2/checkpoint-89500\n",
      "rm -rf results-1536-v2/checkpoint-90000\n",
      "rm -rf results-1536-v2/checkpoint-90500\n",
      "rm -rf results-1536-v2/checkpoint-91000\n",
      "rm -rf results-1536-v2/checkpoint-91500\n",
      "rm -rf results-1536-v2/checkpoint-92000\n",
      "rm -rf results-1536-v2/checkpoint-92500\n",
      "rm -rf results-1536-v2/checkpoint-93000\n",
      "rm -rf results-1536-v2/checkpoint-93500\n",
      "rm -rf results-1536-v2/checkpoint-94000\n",
      "rm -rf results-1536-v2/checkpoint-94500\n",
      "rm -rf results-1536-v2/checkpoint-95000\n",
      "rm -rf results-1536-v2/checkpoint-95500\n",
      "rm -rf results-1536-v2/checkpoint-96000\n",
      "rm -rf results-1536-v2/checkpoint-96500\n"
     ]
    }
   ],
   "source": [
    "folders = glob('results-1536-v2/checkpoint-*')\n",
    "folders = sorted(folders, key = lambda x: int(x.split('checkpoint-')[1]))\n",
    "for f in folders[:-5]:\n",
    "    command = f'rm -rf {f}'\n",
    "    print(command)\n",
    "    os.system(command)"
   ]
  },
  {
   "cell_type": "code",
   "execution_count": 3,
   "metadata": {},
   "outputs": [
    {
     "name": "stdout",
     "output_type": "stream",
     "text": [
      "rm -rf results-1024-packing/checkpoint-8000\n",
      "rm -rf results-1024-packing/checkpoint-8500\n",
      "rm -rf results-1024-packing/checkpoint-9000\n",
      "rm -rf results-1024-packing/checkpoint-9500\n",
      "rm -rf results-1024-packing/checkpoint-10000\n",
      "rm -rf results-1024-packing/checkpoint-10500\n",
      "rm -rf results-1024-packing/checkpoint-11000\n",
      "rm -rf results-1024-packing/checkpoint-11500\n",
      "rm -rf results-1024-packing/checkpoint-12000\n",
      "rm -rf results-1024-packing/checkpoint-12500\n",
      "rm -rf results-1024-packing/checkpoint-13000\n",
      "rm -rf results-1024-packing/checkpoint-13500\n",
      "rm -rf results-1024-packing/checkpoint-14000\n",
      "rm -rf results-1024-packing/checkpoint-14500\n",
      "rm -rf results-1024-packing/checkpoint-15000\n"
     ]
    }
   ],
   "source": [
    "folders = glob('results-1024-packing/checkpoint-*')\n",
    "folders = sorted(folders, key = lambda x: int(x.split('checkpoint-')[1]))\n",
    "for f in folders[:-5]:\n",
    "    command = f'rm -rf {f}'\n",
    "    print(command)\n",
    "    os.system(command)"
   ]
  },
  {
   "cell_type": "code",
   "execution_count": null,
   "metadata": {},
   "outputs": [],
   "source": []
  }
 ],
 "metadata": {
  "kernelspec": {
   "display_name": "Python 3 (ipykernel)",
   "language": "python",
   "name": "python3"
  },
  "language_info": {
   "codemirror_mode": {
    "name": "ipython",
    "version": 3
   },
   "file_extension": ".py",
   "mimetype": "text/x-python",
   "name": "python",
   "nbconvert_exporter": "python",
   "pygments_lexer": "ipython3",
   "version": "3.8.10"
  }
 },
 "nbformat": 4,
 "nbformat_minor": 4
}
