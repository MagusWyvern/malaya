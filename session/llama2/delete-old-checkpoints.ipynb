{
 "cells": [
  {
   "cell_type": "code",
   "execution_count": 1,
   "metadata": {},
   "outputs": [],
   "source": [
    "from glob import glob\n",
    "import os"
   ]
  },
  {
   "cell_type": "code",
   "execution_count": 2,
   "metadata": {},
   "outputs": [],
   "source": [
    "folders = glob('results-1024/checkpoint-*')\n",
    "folders = sorted(folders, key = lambda x: int(x.split('checkpoint-')[1]))"
   ]
  },
  {
   "cell_type": "code",
   "execution_count": 4,
   "metadata": {},
   "outputs": [
    {
     "name": "stdout",
     "output_type": "stream",
     "text": [
      "rm -rf results-1024/checkpoint-500\n",
      "rm -rf results-1024/checkpoint-1000\n",
      "rm -rf results-1024/checkpoint-1500\n",
      "rm -rf results-1024/checkpoint-2000\n",
      "rm -rf results-1024/checkpoint-2500\n",
      "rm -rf results-1024/checkpoint-3000\n",
      "rm -rf results-1024/checkpoint-3500\n",
      "rm -rf results-1024/checkpoint-4000\n",
      "rm -rf results-1024/checkpoint-4500\n",
      "rm -rf results-1024/checkpoint-5000\n",
      "rm -rf results-1024/checkpoint-5500\n",
      "rm -rf results-1024/checkpoint-6000\n",
      "rm -rf results-1024/checkpoint-6500\n",
      "rm -rf results-1024/checkpoint-7000\n",
      "rm -rf results-1024/checkpoint-7500\n",
      "rm -rf results-1024/checkpoint-8000\n",
      "rm -rf results-1024/checkpoint-8500\n",
      "rm -rf results-1024/checkpoint-9000\n",
      "rm -rf results-1024/checkpoint-9500\n",
      "rm -rf results-1024/checkpoint-10000\n",
      "rm -rf results-1024/checkpoint-10500\n",
      "rm -rf results-1024/checkpoint-11000\n",
      "rm -rf results-1024/checkpoint-11500\n",
      "rm -rf results-1024/checkpoint-12000\n",
      "rm -rf results-1024/checkpoint-12500\n",
      "rm -rf results-1024/checkpoint-13000\n",
      "rm -rf results-1024/checkpoint-13500\n",
      "rm -rf results-1024/checkpoint-14000\n",
      "rm -rf results-1024/checkpoint-14500\n",
      "rm -rf results-1024/checkpoint-15000\n",
      "rm -rf results-1024/checkpoint-15500\n",
      "rm -rf results-1024/checkpoint-16000\n"
     ]
    }
   ],
   "source": [
    "for f in folders[:-5]:\n",
    "    command = f'rm -rf {f}'\n",
    "    print(command)\n",
    "    os.system(command)"
   ]
  },
  {
   "cell_type": "code",
   "execution_count": 5,
   "metadata": {},
   "outputs": [],
   "source": [
    "folders = glob('results-1536/checkpoint-*')\n",
    "folders = sorted(folders, key = lambda x: int(x.split('checkpoint-')[1]))"
   ]
  },
  {
   "cell_type": "code",
   "execution_count": 6,
   "metadata": {},
   "outputs": [
    {
     "name": "stdout",
     "output_type": "stream",
     "text": [
      "rm -rf results-1536/checkpoint-3000\n",
      "rm -rf results-1536/checkpoint-3500\n",
      "rm -rf results-1536/checkpoint-30000\n",
      "rm -rf results-1536/checkpoint-30500\n",
      "rm -rf results-1536/checkpoint-31000\n",
      "rm -rf results-1536/checkpoint-31500\n",
      "rm -rf results-1536/checkpoint-32000\n",
      "rm -rf results-1536/checkpoint-32500\n",
      "rm -rf results-1536/checkpoint-33000\n",
      "rm -rf results-1536/checkpoint-33500\n",
      "rm -rf results-1536/checkpoint-34000\n",
      "rm -rf results-1536/checkpoint-34500\n",
      "rm -rf results-1536/checkpoint-35000\n",
      "rm -rf results-1536/checkpoint-35500\n",
      "rm -rf results-1536/checkpoint-36000\n",
      "rm -rf results-1536/checkpoint-36500\n",
      "rm -rf results-1536/checkpoint-37000\n",
      "rm -rf results-1536/checkpoint-37500\n",
      "rm -rf results-1536/checkpoint-38000\n",
      "rm -rf results-1536/checkpoint-38500\n",
      "rm -rf results-1536/checkpoint-39000\n",
      "rm -rf results-1536/checkpoint-39500\n",
      "rm -rf results-1536/checkpoint-40000\n",
      "rm -rf results-1536/checkpoint-40500\n",
      "rm -rf results-1536/checkpoint-41000\n",
      "rm -rf results-1536/checkpoint-41500\n",
      "rm -rf results-1536/checkpoint-42000\n",
      "rm -rf results-1536/checkpoint-42500\n",
      "rm -rf results-1536/checkpoint-43000\n",
      "rm -rf results-1536/checkpoint-43500\n",
      "rm -rf results-1536/checkpoint-44000\n",
      "rm -rf results-1536/checkpoint-44500\n",
      "rm -rf results-1536/checkpoint-45000\n",
      "rm -rf results-1536/checkpoint-45500\n",
      "rm -rf results-1536/checkpoint-46000\n"
     ]
    }
   ],
   "source": [
    "for f in folders[:-5]:\n",
    "    command = f'rm -rf {f}'\n",
    "    print(command)\n",
    "    os.system(command)"
   ]
  },
  {
   "cell_type": "code",
   "execution_count": null,
   "metadata": {},
   "outputs": [],
   "source": []
  }
 ],
 "metadata": {
  "kernelspec": {
   "display_name": "Python 3 (ipykernel)",
   "language": "python",
   "name": "python3"
  },
  "language_info": {
   "codemirror_mode": {
    "name": "ipython",
    "version": 3
   },
   "file_extension": ".py",
   "mimetype": "text/x-python",
   "name": "python",
   "nbconvert_exporter": "python",
   "pygments_lexer": "ipython3",
   "version": "3.8.10"
  }
 },
 "nbformat": 4,
 "nbformat_minor": 4
}
