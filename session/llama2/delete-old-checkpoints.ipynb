{
 "cells": [
  {
   "cell_type": "code",
   "execution_count": 1,
   "metadata": {},
   "outputs": [],
   "source": [
    "from glob import glob\n",
    "import os"
   ]
  },
  {
   "cell_type": "code",
   "execution_count": 4,
   "metadata": {},
   "outputs": [],
   "source": [
    "folders = glob('results-1536-v2/checkpoint-*')\n",
    "folders = sorted(folders, key = lambda x: int(x.split('checkpoint-')[1]))\n",
    "for f in folders[:-5]:\n",
    "    command = f'rm -rf {f}'\n",
    "    print(command)\n",
    "    os.system(command)"
   ]
  },
  {
   "cell_type": "code",
   "execution_count": 5,
   "metadata": {},
   "outputs": [
    {
     "name": "stdout",
     "output_type": "stream",
     "text": [
      "rm -rf results-1024-packing/checkpoint-2500\n",
      "rm -rf results-1024-packing/checkpoint-3000\n",
      "rm -rf results-1024-packing/checkpoint-3500\n",
      "rm -rf results-1024-packing/checkpoint-4000\n",
      "rm -rf results-1024-packing/checkpoint-4500\n",
      "rm -rf results-1024-packing/checkpoint-5000\n",
      "rm -rf results-1024-packing/checkpoint-5500\n",
      "rm -rf results-1024-packing/checkpoint-6000\n",
      "rm -rf results-1024-packing/checkpoint-6500\n",
      "rm -rf results-1024-packing/checkpoint-7000\n",
      "rm -rf results-1024-packing/checkpoint-7500\n"
     ]
    }
   ],
   "source": [
    "folders = glob('results-1024-packing/checkpoint-*')\n",
    "folders = sorted(folders, key = lambda x: int(x.split('checkpoint-')[1]))\n",
    "for f in folders[:-5]:\n",
    "    command = f'rm -rf {f}'\n",
    "    print(command)\n",
    "    os.system(command)"
   ]
  },
  {
   "cell_type": "code",
   "execution_count": null,
   "metadata": {},
   "outputs": [],
   "source": []
  }
 ],
 "metadata": {
  "kernelspec": {
   "display_name": "Python 3 (ipykernel)",
   "language": "python",
   "name": "python3"
  },
  "language_info": {
   "codemirror_mode": {
    "name": "ipython",
    "version": 3
   },
   "file_extension": ".py",
   "mimetype": "text/x-python",
   "name": "python",
   "nbconvert_exporter": "python",
   "pygments_lexer": "ipython3",
   "version": "3.8.10"
  }
 },
 "nbformat": 4,
 "nbformat_minor": 4
}
