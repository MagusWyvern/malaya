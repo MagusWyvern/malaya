{
 "cells": [
  {
   "cell_type": "code",
   "execution_count": 1,
   "metadata": {},
   "outputs": [],
   "source": [
    "from glob import glob\n",
    "import os"
   ]
  },
  {
   "cell_type": "code",
   "execution_count": 5,
   "metadata": {},
   "outputs": [],
   "source": [
    "folders = glob('results-1024-packing/checkpoint-*')\n",
    "folders = sorted(folders, key = lambda x: int(x.split('checkpoint-')[1]))"
   ]
  },
  {
   "cell_type": "code",
   "execution_count": 6,
   "metadata": {},
   "outputs": [
    {
     "name": "stdout",
     "output_type": "stream",
     "text": [
      "rm -rf results-1024-packing/checkpoint-500\n",
      "rm -rf results-1024-packing/checkpoint-1000\n",
      "rm -rf results-1024-packing/checkpoint-1500\n",
      "rm -rf results-1024-packing/checkpoint-2000\n"
     ]
    }
   ],
   "source": [
    "for f in folders[:-5]:\n",
    "    command = f'rm -rf {f}'\n",
    "    print(command)\n",
    "    os.system(command)"
   ]
  }
 ],
 "metadata": {
  "kernelspec": {
   "display_name": "Python 3 (ipykernel)",
   "language": "python",
   "name": "python3"
  },
  "language_info": {
   "codemirror_mode": {
    "name": "ipython",
    "version": 3
   },
   "file_extension": ".py",
   "mimetype": "text/x-python",
   "name": "python",
   "nbconvert_exporter": "python",
   "pygments_lexer": "ipython3",
   "version": "3.8.10"
  }
 },
 "nbformat": 4,
 "nbformat_minor": 4
}
