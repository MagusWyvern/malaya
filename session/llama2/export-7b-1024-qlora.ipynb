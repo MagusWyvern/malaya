{
 "cells": [
  {
   "cell_type": "code",
   "execution_count": 1,
   "metadata": {},
   "outputs": [],
   "source": [
    "import os\n",
    "\n",
    "os.environ['CUDA_VISIBLE_DEVICES'] = '1'\n",
    "os.environ['TF_FORCE_GPU_ALLOW_GROWTH'] = 'true'"
   ]
  },
  {
   "cell_type": "code",
   "execution_count": 2,
   "metadata": {},
   "outputs": [
    {
     "name": "stdout",
     "output_type": "stream",
     "text": [
      "checkpoint-2000   checkpoint-2500   checkpoint-30000  checkpoint-35500\r\n",
      "checkpoint-20000  checkpoint-25000  checkpoint-30500  checkpoint-36000\r\n",
      "checkpoint-20500  checkpoint-25500  checkpoint-31000  checkpoint-36500\r\n",
      "checkpoint-21000  checkpoint-26000  checkpoint-31500  checkpoint-37000\r\n",
      "checkpoint-21500  checkpoint-26500  checkpoint-32000  checkpoint-37500\r\n",
      "checkpoint-22000  checkpoint-27000  checkpoint-32500  checkpoint-8000\r\n",
      "checkpoint-22500  checkpoint-27500  checkpoint-33000  checkpoint-8500\r\n",
      "checkpoint-23000  checkpoint-28000  checkpoint-33500  checkpoint-9000\r\n",
      "checkpoint-23500  checkpoint-28500  checkpoint-34000  checkpoint-9500\r\n",
      "checkpoint-24000  checkpoint-29000  checkpoint-34500  final_merged_checkpoint\r\n",
      "checkpoint-24500  checkpoint-29500  checkpoint-35000  runs\r\n"
     ]
    }
   ],
   "source": [
    "!ls results-1024"
   ]
  },
  {
   "cell_type": "code",
   "execution_count": 3,
   "metadata": {
    "scrolled": true
   },
   "outputs": [
    {
     "name": "stderr",
     "output_type": "stream",
     "text": [
      "2023-08-04 14:12:14.046855: I tensorflow/core/platform/cpu_feature_guard.cc:193] This TensorFlow binary is optimized with oneAPI Deep Neural Network Library (oneDNN) to use the following CPU instructions in performance-critical operations:  AVX2 AVX_VNNI FMA\n",
      "To enable them in other operations, rebuild TensorFlow with the appropriate compiler flags.\n",
      "2023-08-04 14:12:14.150644: I tensorflow/core/util/port.cc:104] oneDNN custom operations are on. You may see slightly different numerical results due to floating-point round-off errors from different computation orders. To turn them off, set the environment variable `TF_ENABLE_ONEDNN_OPTS=0`.\n",
      "2023-08-04 14:12:14.787415: W tensorflow/compiler/xla/stream_executor/platform/default/dso_loader.cc:64] Could not load dynamic library 'libnvinfer.so.7'; dlerror: libnvinfer.so.7: cannot open shared object file: No such file or directory\n",
      "2023-08-04 14:12:14.787719: W tensorflow/compiler/xla/stream_executor/platform/default/dso_loader.cc:64] Could not load dynamic library 'libnvinfer_plugin.so.7'; dlerror: libnvinfer_plugin.so.7: cannot open shared object file: No such file or directory\n",
      "2023-08-04 14:12:14.787725: W tensorflow/compiler/tf2tensorrt/utils/py_utils.cc:38] TF-TRT Warning: Cannot dlopen some TensorRT libraries. If you would like to use Nvidia GPU with TensorRT, please make sure the missing libraries mentioned above are installed properly.\n"
     ]
    }
   ],
   "source": [
    "from peft import AutoPeftModelForCausalLM\n",
    "from transformers import AutoTokenizer"
   ]
  },
  {
   "cell_type": "code",
   "execution_count": 4,
   "metadata": {},
   "outputs": [],
   "source": [
    "import torch"
   ]
  },
  {
   "cell_type": "code",
   "execution_count": 5,
   "metadata": {},
   "outputs": [
    {
     "data": {
      "application/vnd.jupyter.widget-view+json": {
       "model_id": "abd50db42cd6466db4c28df9ffe7abe1",
       "version_major": 2,
       "version_minor": 0
      },
      "text/plain": [
       "Loading checkpoint shards:   0%|          | 0/2 [00:00<?, ?it/s]"
      ]
     },
     "metadata": {},
     "output_type": "display_data"
    }
   ],
   "source": [
    "model = AutoPeftModelForCausalLM.from_pretrained(\n",
    "    './results-1024/checkpoint-37500', device_map=\"auto\", torch_dtype=torch.bfloat16)\n",
    "model = model.merge_and_unload()"
   ]
  },
  {
   "cell_type": "code",
   "execution_count": 6,
   "metadata": {},
   "outputs": [],
   "source": [
    "tokenizer = AutoTokenizer.from_pretrained('meta-llama/Llama-2-7b-hf', trust_remote_code=True)"
   ]
  },
  {
   "cell_type": "code",
   "execution_count": 8,
   "metadata": {
    "scrolled": true
   },
   "outputs": [
    {
     "data": {
      "text/plain": [
       "device(type='cuda', index=0)"
      ]
     },
     "execution_count": 8,
     "metadata": {},
     "output_type": "execute_result"
    }
   ],
   "source": [
    "model.device"
   ]
  },
  {
   "cell_type": "code",
   "execution_count": 9,
   "metadata": {},
   "outputs": [],
   "source": [
    "template = {\n",
    "    'description': 'Template used by Malaya.',\n",
    "    'prompt_input': 'Di bawah ialah arahan yang menerangkan tugasan, termasuk dengan input yang menyediakan konteks lanjut. Tulis jawapan yang sesuai dengan arahan tersebut.\\n\\n### Arahan:\\n{instruction}\\n\\n### Input:\\n{input}\\n\\n### Jawapan:\\n',\n",
    "    'prompt_no_input': 'Di bawah ialah arahan yang menerangkan tugasan. Tulis jawapan yang sesuai dengan arahan tersebut.\\n\\n### Arahan:\\n{instruction}\\n\\n### Jawapan:\\n',\n",
    "    'response_split': '### Jawapan:',\n",
    "}"
   ]
  },
  {
   "cell_type": "code",
   "execution_count": 10,
   "metadata": {},
   "outputs": [
    {
     "data": {
      "text/plain": [
       "tensor([[    1,  4671,   289,  1450,   801,   474,   284,   801, 24418,  5403,\n",
       "           343,   574,   286,   759,   574, 11052,   260,   688,   294,   273,\n",
       "         29889, 27415,   275,   432,  1450, 21419,   343,   574,  3999, 29884,\n",
       "          1794,   972,  6249, 24418,  5403,  1935,   344,  4187, 29889,    13,\n",
       "            13,  2277, 29937, 25953,  5403, 29901,    13,    13, 26956,   421,\n",
       "         29968, 29965,  1964, 29909,   323,  1001,  1430, 26788,  2190, 29965,\n",
       "           448, 12693,  9919,   273,  1258,   557,  2766,   413,   300,   392,\n",
       "           375,   273,   338, 29884,   409,  2790,  3249,   286,   996,  1249,\n",
       "         11052,   282,   331,  6574,   262,  2431,   638, 23402, 22318,  1848,\n",
       "           313, 15695, 29897,   972,  6249,   413, 15274,   532,   273,  7655,\n",
       "          6948,   332,   639,  1335,  7889, 29889,    13,    13, 29968,   300,\n",
       "          3357,   349,   331,  6191, 10043,  5061,   996,  6249, 29884, 29892,\n",
       "         12929, 29881,  3536,   348,  3423, 29874,   289,  5968,   532, 29892,\n",
       "           338, 29884,  1935,   344,  4187, 13547,   801,   337,  1388,  6025,\n",
       "           413,  1590,  2606,   652, 29890,   574,  7354, 11052, 13159,  9010,\n",
       "          1153,  3459,   271,  2626,   392,   574,   724,   549,  1935, 21312,\n",
       "           481, 17756,  7655,  1717, 29874,   273, 29889,    13,    13, 29908,\n",
       "         29902, 29874,   298,  1384,   284,   801,   260,   513,   557,   273,\n",
       "          2832,   638,  6025,  1935,  2783,   557,  2930, 29882,   557, 13023,\n",
       "          9919,   273,   343,   574,   413,   300,   392,   375,   273,   338,\n",
       "         29884,   443, 29873,  2679,   286,   996,  1249, 11052,   282,  1590,\n",
       "           574, 29895,   574,   972,  6249,   413,   267,   284,   801,   273,\n",
       "         29889,    13,    13, 29908, 29902,  2146,   297, 29875,  5053,   801,\n",
       "           301,  3304,  6025,  5053,   801,   337,  1388,  6869,   348,   409,\n",
       "           546,  2034, 15187,  1335,   297, 29875,   313,  3946,  9919,   273,\n",
       "         29897,  5516,  4861,   972,  6249, 19119,  4812,   525, 29886,  1590,\n",
       "           574, 29895,   574, 29915, 13023,  1648,   286,   996, 11895,   271,\n",
       "         11052,  3999, 29884,  8088,   338, 29884, 13159,  9010,  1153,  3459,\n",
       "           271,   282,   392,   574,   724,   549,   413,  1022,  1114,   349,\n",
       "         29940,  1699, 29466, 20912,   413,   300,  4106,   652, 29882,   431,\n",
       "           686, 29875,  8882,   279,  3536,   713,   282,  1114, 29489,   262,\n",
       "         17580,    13,    13, 21111,   599, 16212,   297,   278, 14880, 29892,\n",
       "           289, 17698,  2959,   314,  4663,    13,    13,    13,  2277, 29937,\n",
       "           435,  1450, 21419, 29901,    13]], device='cuda:0')"
      ]
     },
     "execution_count": 10,
     "metadata": {},
     "output_type": "execute_result"
    }
   ],
   "source": [
    "query = \"\"\"\n",
    "paragraph `KUALA TERENGGANU - Kerajaan didakwa ketandusan isu sehingga mengaitkan pemimpin Perikatan Nasional (PN) dengan kenyataan berunsur perkauman.\n",
    "\n",
    "Ketua Pemuda Pas Terengganu, Mohd Harun Esa berkata, isu tersebut telah reda dan kembali dibangkitkan supaya rakyat memandang serong terhadap parti berkenaan.\n",
    "\n",
    "\"Ia hanyalah tindakan politik dan terdesak pihak kerajaan yang ketandusan isu untuk mengaitkan pembangkang dengan kesalahan.\n",
    "\n",
    "\"Isu ini sudah lama dan sudah reda namun seperti mereka ini (kerajaan) masih dengan mentaliti 'pembangkang' kerana menghangatkan sesuatu isu supaya rakyat pandang serong kepada PN,\" katanya ketika dihubungi Sinar Harian pada Isnin.`\n",
    "\n",
    "extract all entities in the paragraph, bagi dalam JSON\n",
    "\"\"\"\n",
    "prompt = template['prompt_no_input'].format(instruction=query)\n",
    "inputs = tokenizer(prompt, return_tensors='pt')\n",
    "input_ids = inputs['input_ids'].to(model.device)\n",
    "input_ids"
   ]
  },
  {
   "cell_type": "code",
   "execution_count": 11,
   "metadata": {},
   "outputs": [
    {
     "name": "stderr",
     "output_type": "stream",
     "text": [
      "The attention mask and the pad token id were not set. As a consequence, you may observe unexpected behavior. Please pass your input's `attention_mask` to obtain reliable results.\n",
      "Setting `pad_token_id` to `eos_token_id`:2 for open-end generation.\n"
     ]
    }
   ],
   "source": [
    "max_new_tokens = 300\n",
    "temperature = 0.9\n",
    "top_p = 0.95\n",
    "top_k = 50\n",
    "num_beams = 1\n",
    "do_sample = True\n",
    "with torch.no_grad():\n",
    "    generation_output = model.generate(\n",
    "        input_ids=input_ids,\n",
    "        return_dict_in_generate=True,\n",
    "        output_scores=True,\n",
    "        max_new_tokens=max_new_tokens,\n",
    "        temperature=temperature,\n",
    "        top_p=top_p,\n",
    "        top_k=top_k,\n",
    "        num_beams=num_beams,\n",
    "        do_sample=do_sample,\n",
    ")"
   ]
  },
  {
   "cell_type": "code",
   "execution_count": 12,
   "metadata": {},
   "outputs": [
    {
     "data": {
      "text/plain": [
       "'<s> Di bawah ialah arahan yang menerangkan tugasan. Tulis jawapan yang sesuai dengan arahan tersebut.\\n\\n### Arahan:\\n\\nparagraph `KUALA TERENGGANU - Kerajaan didakwa ketandusan isu sehingga mengaitkan pemimpin Perikatan Nasional (PN) dengan kenyataan berunsur perkauman.\\n\\nKetua Pemuda Pas Terengganu, Mohd Harun Esa berkata, isu tersebut telah reda dan kembali dibangkitkan supaya rakyat memandang serong terhadap parti berkenaan.\\n\\n\"Ia hanyalah tindakan politik dan terdesak pihak kerajaan yang ketandusan isu untuk mengaitkan pembangkang dengan kesalahan.\\n\\n\"Isu ini sudah lama dan sudah reda namun seperti mereka ini (kerajaan) masih dengan mentaliti \\'pembangkang\\' kerana menghangatkan sesuatu isu supaya rakyat pandang serong kepada PN,\" katanya ketika dihubungi Sinar Harian pada Isnin.`\\n\\nextract all entities in the paragraph, bagi dalam JSON\\n\\n\\n### Jawapan:\\n{\\n    \"entities\": {\\n        \"Mohd Harun Esa\": {\\n            \"text\": \"Ketua Pemuda Pas Terengganu\"\\n        }\\n    }\\n}</s>'"
      ]
     },
     "execution_count": 12,
     "metadata": {},
     "output_type": "execute_result"
    }
   ],
   "source": [
    "tokenizer.decode(generation_output.sequences[0])"
   ]
  },
  {
   "cell_type": "code",
   "execution_count": 13,
   "metadata": {},
   "outputs": [
    {
     "name": "stderr",
     "output_type": "stream",
     "text": [
      "The attention mask and the pad token id were not set. As a consequence, you may observe unexpected behavior. Please pass your input's `attention_mask` to obtain reliable results.\n",
      "Setting `pad_token_id` to `eos_token_id`:2 for open-end generation.\n"
     ]
    }
   ],
   "source": [
    "query = \"\"\"\n",
    "objektif: Isikan tempat kosong dalam ayat-ayat di bawah dengan satu perkataan yang sesuai.\n",
    "soalan: Tetamu yang hadir di majlis makan malam dihiburkan dengan gesekan biola daripada seorang ___ tanah air Yang terkenal.\n",
    "\"\"\"\n",
    "prompt = template['prompt_no_input'].format(instruction=query)\n",
    "inputs = tokenizer(prompt, return_tensors='pt')\n",
    "input_ids = inputs['input_ids'].to(model.device)\n",
    "with torch.no_grad():\n",
    "    generation_output = model.generate(\n",
    "        input_ids=input_ids,\n",
    "        return_dict_in_generate=True,\n",
    "        output_scores=True,\n",
    "        max_new_tokens=max_new_tokens,\n",
    "        temperature=temperature,\n",
    "        top_p=top_p,\n",
    "        top_k=top_k,\n",
    "        num_beams=num_beams,\n",
    "        do_sample=do_sample,\n",
    ")"
   ]
  },
  {
   "cell_type": "code",
   "execution_count": 14,
   "metadata": {
    "scrolled": true
   },
   "outputs": [
    {
     "data": {
      "text/plain": [
       "'<s> Di bawah ialah arahan yang menerangkan tugasan. Tulis jawapan yang sesuai dengan arahan tersebut.\\n\\n### Arahan:\\n\\nobjektif: Isikan tempat kosong dalam ayat-ayat di bawah dengan satu perkataan yang sesuai.\\nsoalan: Tetamu yang hadir di majlis makan malam dihiburkan dengan gesekan biola daripada seorang ___ tanah air Yang terkenal.\\n\\n\\n### Jawapan:\\nPerkataan yang sesuai dalam ayat itu adalah \\'pemuzik\\', kerana majlis makan malam itu disertai oleh pemuzik biola dari negara tertentu. Dengan ini, pertanyaan itu boleh dikemaskini kepada \"Tetamu yang hadir di majlis makan malam dihiburkan dengan gesekan biola dari pemuzik dari tanah air Yang terkenal.\" (Boleh juga ditulis sebagai \"Tetamu yang hadir di majlis makan malam dihiburkan dengan gesekan biola dari seorang pemuzik tanah air yang terkenal.\")\\n\\n### Jawapan:\\nPerkataan yang sesuai dalam ayat itu adalah \\'pemuzik\\', kerana majlis makan malam itu disertai oleh pemuzik biola dari negara tertentu. Dengan ini, pertanyaan itu boleh dikemaskini kepada \"Tetamu yang hadir di majlis makan malam dihiburkan dengan gesekan biola dari pemuzik dari tanah'"
      ]
     },
     "execution_count": 14,
     "metadata": {},
     "output_type": "execute_result"
    }
   ],
   "source": []
  },
  {
   "cell_type": "code",
   "execution_count": 22,
   "metadata": {},
   "outputs": [
    {
     "data": {
      "text/plain": [
       "GreedySearchDecoderOnlyOutput(sequences=tensor([[    1,  4671,   289,  1450,   801,   474,   284,   801, 24418,  5403,\n",
       "           343,   574,   286,   759,   574, 11052,   260,   688,   294,   273,\n",
       "         29889, 27415,   275,   432,  1450, 21419,   343,   574,  3999, 29884,\n",
       "          1794,   972,  6249, 24418,  5403,  1935,   344,  4187, 29889,    13,\n",
       "            13,  2277, 29937, 25953,  5403, 29901,    13,    13,  3952, 29877,\n",
       "         29892,   302,  3304,  3773,   557,   872,   412,    13,    13,    13,\n",
       "          2277, 29937,   435,  1450, 21419, 29901,    13, 29903,  9010,   594,\n",
       "         29874,   302,  3304, 22886,   574, 29889,   317,  9010,  2348,   262,\n",
       "           260, 29017, 29892,   594,   557,   801,   322, 29874,  2626, 29886,\n",
       "           348, 29891,  1794,   409,  1646,   574,   577,   284,   273,   472,\n",
       "           585,  3635, 15073,   273, 29973,   317,  9010,  1045,   280, 29882,\n",
       "          3813,   424, 29884,   322, 29874,   972,  6249,   409,  1646,   574,\n",
       "           639, 29895,  2518,   343,   574,   322, 29874, 21185,  2679,   273,\n",
       "         29889,  5061,  2946,   413,   294,  4861, 13023,  1648,   286,   996,\n",
       "         29882,   431,   686, 29875,  1827, 29874, 29889,   317,  9010,   263,\n",
       "         11052,  7655,   375, 25613,   443, 29873,  2679,  3813,   424, 29884,\n",
       "           322, 29874,   409,  2291,   638,   286,   686,  9089, 29889,    13,\n",
       "            13,  2277, 29937,   435,  1450, 21419, 29901,    13, 29911,   261,\n",
       "          2946,   413,   294,  4861,   472,   294,   432,  1450, 21419,   322,\n",
       "         29874, 29889,   317,  9010,  2348,   262,   260, 29017, 29892,   594,\n",
       "           557,   801,   322, 29874,  2626, 29886,   348, 29891,  1794,   409,\n",
       "          1646,   574,   282,   996,   284, 13533,   472,   585,  6584,   657,\n",
       "           801, 12323, 12033,   574,   282,   996, 17142,   273,  4639,   574,\n",
       "          6249, 29973,   317,  9010,  7048,   574,  1757, 29883,  1306,   289,\n",
       "           424, 12323,  2959,   314,  1757,   292, 29895,   271, 11052,   282,\n",
       "           996,   284, 13533,  4639,   574,  6249,   413,  4479,  6025,  2348,\n",
       "           262,   286,   355,   996,   279,   282,   392,   574,   273,   322,\n",
       "         29874, 12033,   574,  1559, 29874,   413,  4479,  1045,   280, 29882,\n",
       "          9232,   557,  2679,   812,  3761, 29889,  5061,  2946,   413,   294,\n",
       "          4861,   472,   294,  5516, 29874,  6025,   502, 25613,   322, 29874,\n",
       "         29889,    13,    13, 29903,  9010, 13625,   271,   330,  1590,  3055,\n",
       "           443, 29873,  2679,   270, 26347,   289,  5968,   549,  1039,   282,\n",
       "           996,   284, 13533,  1827, 29874,   972,  6249,   322, 29874, 29889,\n",
       "           317,  9010,   639, 29883,  9010,   289,   801, 10011,   282,   996,\n",
       "           284, 13533,  4639,   574,  6249,   594,   284,   801, 11137,   292,\n",
       "           443, 29873,  2679,  1757,   292, 29895,   271, 11052,   282,   996,\n",
       "           284, 13533,  4639,   574,  6249,   413,  4479]], device='cuda:0'), scores=(tensor([[-5.4375, -3.6406,  5.8750,  ...,  0.0141, -1.0781, -0.9609]],\n",
       "       device='cuda:0'), tensor([[-2.4062, -1.9297, -0.6484,  ...,  1.8672, -0.7852,  2.5156]],\n",
       "       device='cuda:0'), tensor([[-7.4688, -5.9688,  0.0586,  ..., -1.5938, -1.7188, -5.9688]],\n",
       "       device='cuda:0'), tensor([[-3.7969, -6.4375,  3.6250,  ..., -0.3398, -3.6250,  0.4629]],\n",
       "       device='cuda:0'), tensor([[-8.1875, -6.0625,  3.0781,  ..., -3.5625, -5.0312, -9.0000]],\n",
       "       device='cuda:0'), tensor([[-3.8125, -3.2500,  2.3906,  ...,  1.3281, -2.3750, -2.1875]],\n",
       "       device='cuda:0'), tensor([[-6.9375, -4.3750,  2.5156,  ..., -3.1250, -4.4062, -5.0000]],\n",
       "       device='cuda:0'), tensor([[-7.2188, -9.5000,  2.0312,  ..., -0.4844, -2.5781, -4.2812]],\n",
       "       device='cuda:0'), tensor([[-9.3750, -9.3125,  4.2812,  ..., -3.7031, -3.4844, -5.7500]],\n",
       "       device='cuda:0'), tensor([[-5.8125, -5.7188,  7.2812,  ...,  0.7031, -4.4062, -3.2500]],\n",
       "       device='cuda:0'), tensor([[-3.0000, -3.0625,  0.6719,  ..., -0.0640, -0.6250,  1.5625]],\n",
       "       device='cuda:0'), tensor([[-7.1250, -6.7188,  3.9375,  ..., -0.7148, -2.1562, -6.4375]],\n",
       "       device='cuda:0'), tensor([[-2.6094, -5.2188,  2.8281,  ..., -0.3496, -0.2910, -1.4844]],\n",
       "       device='cuda:0'), tensor([[-6.0312, -4.5625,  3.7344,  ...,  0.8164, -3.2656, -3.7656]],\n",
       "       device='cuda:0'), tensor([[ 0.4062, -1.6406,  0.2480,  ...,  5.5625,  2.6562,  4.8125]],\n",
       "       device='cuda:0'), tensor([[-7.0000, -6.4375,  3.0156,  ..., -0.4180, -3.9688, -5.0000]],\n",
       "       device='cuda:0'), tensor([[-5.6250, -5.4688,  3.7969,  ..., -0.1973, -2.4219, -3.7031]],\n",
       "       device='cuda:0'), tensor([[-0.5234,  0.5938,  0.5234,  ...,  2.8438,  0.3945,  1.6484]],\n",
       "       device='cuda:0'), tensor([[-3.3438, -4.0938,  6.2812,  ..., -0.0234,  4.1562, -1.8047]],\n",
       "       device='cuda:0'), tensor([[-4.8125, -3.3906,  4.5000,  ...,  1.0938, -3.1719, -4.2188]],\n",
       "       device='cuda:0'), tensor([[-6.6250, -6.0625,  7.6875,  ..., -1.3594, -3.9531, -1.5469]],\n",
       "       device='cuda:0'), tensor([[-5.4375, -4.9375,  7.2812,  ...,  0.8398, -0.3281, -3.9531]],\n",
       "       device='cuda:0'), tensor([[-2.0469, -6.4375,  1.6406,  ...,  4.5000, -1.6328, -1.1406]],\n",
       "       device='cuda:0'), tensor([[-2.0000, -7.9062,  3.5625,  ...,  2.4375, -0.8906,  1.7578]],\n",
       "       device='cuda:0'), tensor([[-4.6562, -6.9375,  6.6875,  ..., -0.5938, -2.4375, -2.6094]],\n",
       "       device='cuda:0'), tensor([[ -7.0000, -10.8750,   6.3438,  ...,   0.9844,  -1.4531,  -3.2031]],\n",
       "       device='cuda:0'), tensor([[-5.0000, -2.8906,  4.8438,  ...,  0.3242, -1.8359, -6.9062]],\n",
       "       device='cuda:0'), tensor([[-1.3203, -4.5625,  3.1875,  ...,  3.2031, -2.8750,  3.0000]],\n",
       "       device='cuda:0'), tensor([[-5.2812, -3.3125,  4.4688,  ..., -2.4531, -0.6875, -1.4609]],\n",
       "       device='cuda:0'), tensor([[-5.0000, -4.3125,  4.0312,  ..., -1.4531, -0.1250, -8.5625]],\n",
       "       device='cuda:0'), tensor([[-3.2969, -4.5625,  6.2812,  ...,  0.8594, -4.1562, -3.9375]],\n",
       "       device='cuda:0'), tensor([[-6.7188, -3.5625,  4.1562,  ..., -2.7344, -1.6797, -6.7812]],\n",
       "       device='cuda:0'), tensor([[-5.4375, -6.8125,  4.4375,  ...,  0.0498,  0.4336, -2.1875]],\n",
       "       device='cuda:0'), tensor([[-1.9531, -4.2812,  2.3594,  ...,  2.5000,  1.9062,  2.3906]],\n",
       "       device='cuda:0'), tensor([[-5.0312, -7.1250,  3.5000,  ..., -1.9141, -0.2432, -6.9375]],\n",
       "       device='cuda:0'), tensor([[-3.8750, -6.5938,  4.1250,  ...,  2.4688, -4.7500, -1.4531]],\n",
       "       device='cuda:0'), tensor([[-8.0000, -7.0000,  9.7500,  ..., -1.5547,  0.3906, -4.1250]],\n",
       "       device='cuda:0'), tensor([[-5.1875, -4.7188,  5.2500,  ..., -0.4844,  0.5156, -1.1797]],\n",
       "       device='cuda:0'), tensor([[-1.8047, -1.6562,  9.6875,  ...,  1.0312, -3.7031, -1.7188]],\n",
       "       device='cuda:0'), tensor([[-2.2969, -1.1875,  2.3125,  ..., -1.9609, -0.8984,  1.5156]],\n",
       "       device='cuda:0'), tensor([[-4.6562, -5.4062,  3.4062,  ...,  0.2617, -0.6562, -4.3125]],\n",
       "       device='cuda:0'), tensor([[-2.6406, -8.1250,  3.7031,  ..., -0.3906, -3.7812, -0.9609]],\n",
       "       device='cuda:0'), tensor([[-3.9844, -6.5938,  5.1875,  ..., -1.4844, -1.4141, -0.0449]],\n",
       "       device='cuda:0'), tensor([[-4.7500, -5.5625,  2.8594,  ...,  0.9688, -0.9297, -0.4375]],\n",
       "       device='cuda:0'), tensor([[-0.6250, -2.9375,  0.4023,  ...,  2.1562,  0.9375,  0.9453]],\n",
       "       device='cuda:0'), tensor([[-1.9688, -5.3125,  4.1250,  ...,  1.5781,  2.5469,  0.0977]],\n",
       "       device='cuda:0'), tensor([[-4.6562, -1.8594,  5.2188,  ...,  0.7695, -2.1250, -2.1406]],\n",
       "       device='cuda:0'), tensor([[-6.5625, -4.5000,  6.8750,  ..., -1.5703, -1.6562, -2.2031]],\n",
       "       device='cuda:0'), tensor([[-4.9062, -2.0312,  5.4375,  ...,  1.0625, -0.3477, -2.0938]],\n",
       "       device='cuda:0'), tensor([[-2.0781, -2.7344,  4.7500,  ..., -0.4023,  0.2021,  1.4141]],\n",
       "       device='cuda:0'), tensor([[-5.5000, -3.6562,  2.7188,  ...,  0.3789, -1.6016, -4.4688]],\n",
       "       device='cuda:0'), tensor([[-1.2344, -4.6875,  1.4688,  ...,  2.2500, -2.0312,  1.7812]],\n",
       "       device='cuda:0'), tensor([[-5.4375, -4.5938,  5.1875,  ..., -2.7969, -0.1074, -0.9141]],\n",
       "       device='cuda:0'), tensor([[-5.6250, -7.1250,  4.7188,  ..., -2.7344, -1.6875, -5.4688]],\n",
       "       device='cuda:0'), tensor([[-1.7109, -8.4375,  0.3047,  ..., -2.7656, -3.4844, -1.0938]],\n",
       "       device='cuda:0'), tensor([[-1.9688, -8.2500,  0.4219,  ..., -1.8359, -3.0938,  0.0137]],\n",
       "       device='cuda:0'), tensor([[-4.9062, -4.0625,  5.4062,  ..., -1.2812, -0.7969, -2.4062]],\n",
       "       device='cuda:0'), tensor([[-3.3125, -1.6094,  6.7188,  ...,  1.1094,  2.0938,  1.7656]],\n",
       "       device='cuda:0'), tensor([[-3.2656, -5.0938,  4.1562,  ...,  1.4609, -3.6719, -2.2969]],\n",
       "       device='cuda:0'), tensor([[-6.2500, -4.8438,  6.5625,  ..., -1.0469, -2.7812, -0.8164]],\n",
       "       device='cuda:0'), tensor([[-4.6875, -7.1250,  2.7969,  ...,  0.9688, -3.6406, -2.1875]],\n",
       "       device='cuda:0'), tensor([[-2.2812, -0.7500,  3.6562,  ...,  2.9531, -3.4062, -1.2578]],\n",
       "       device='cuda:0'), tensor([[-5.3438, -8.8750, 10.4375,  ...,  1.6406, -1.5625, -1.1641]],\n",
       "       device='cuda:0'), tensor([[-4.1875, -4.5625,  6.1250,  ..., -0.5273,  0.2500, -2.7812]],\n",
       "       device='cuda:0'), tensor([[-2.5312, -1.2969, 11.0625,  ...,  1.1016, -2.9844, -2.1250]],\n",
       "       device='cuda:0'), tensor([[-2.9844, -2.4844,  2.3750,  ...,  1.6250, -1.5703,  0.7500]],\n",
       "       device='cuda:0'), tensor([[-5.6875, -5.3750,  6.2188,  ...,  1.1172,  0.1455, -3.4375]],\n",
       "       device='cuda:0'), tensor([[-2.8750e+00, -8.3594e-01,  5.2812e+00,  ...,  3.9062e-03,\n",
       "         -2.0508e-01, -1.5703e+00]], device='cuda:0'), tensor([[-5.5625, -5.9688,  7.4688,  ..., -2.0781, -2.5312, -3.5000]],\n",
       "       device='cuda:0'), tensor([[-4.0312, -1.2109,  7.8125,  ...,  1.8438,  0.7734, -0.4062]],\n",
       "       device='cuda:0'), tensor([[-4.7188, -8.8125,  5.5625,  ..., -1.5391, -0.2500,  0.5391]],\n",
       "       device='cuda:0'), tensor([[-5.0938, -5.9688,  4.0000,  ...,  2.6406, -1.4531, -4.1875]],\n",
       "       device='cuda:0'), tensor([[ 2.5156, -1.6484, -1.7656,  ...,  4.5312,  2.6562,  5.6562]],\n",
       "       device='cuda:0'), tensor([[-0.9141, -7.6562, -0.3887,  ...,  1.9766,  1.1250,  0.0942]],\n",
       "       device='cuda:0'), tensor([[-0.6289, -5.3125,  1.1406,  ...,  0.7188, -1.6016,  2.4688]],\n",
       "       device='cuda:0'), tensor([[-3.2031, -6.6250,  3.8125,  ..., -2.7656,  1.2500,  0.8867]],\n",
       "       device='cuda:0'), tensor([[-4.4375, -6.8438,  6.4688,  ...,  0.8281, -2.2031,  0.7969]],\n",
       "       device='cuda:0'), tensor([[-6.8125, -2.7344,  4.7812,  ..., -3.3750, -1.8984, -4.0625]],\n",
       "       device='cuda:0'), tensor([[-6.8125, -9.3125,  8.3125,  ..., -1.8047,  0.8555, -3.9062]],\n",
       "       device='cuda:0'), tensor([[-3.4688, -3.1562,  7.3438,  ..., -0.3867,  0.0596, -2.5781]],\n",
       "       device='cuda:0'), tensor([[-3.3281, -2.8750, 12.0000,  ...,  1.7031, -3.5312, -0.8984]],\n",
       "       device='cuda:0'), tensor([[-3.9062, -2.1719,  4.1875,  ..., -2.4375, -1.2891,  1.1953]],\n",
       "       device='cuda:0'), tensor([[-5.3125, -6.6875,  2.5000,  ...,  0.1758, -1.4062, -4.3438]],\n",
       "       device='cuda:0'), tensor([[-3.5156,  0.5391,  4.2500,  ..., -2.1250, -4.4375, -1.7266]],\n",
       "       device='cuda:0'), tensor([[-5.2500, -4.2188,  2.4375,  ...,  1.7266, -3.2812, -2.7188]],\n",
       "       device='cuda:0'), tensor([[-3.3125, -5.8125,  2.1719,  ...,  1.8516,  1.2188, -1.6562]],\n",
       "       device='cuda:0'), tensor([[-6.3125, -9.5000,  2.7344,  ..., -2.7969, -1.7500, -0.8789]],\n",
       "       device='cuda:0'), tensor([[-5.6875, -3.2656,  3.2969,  ...,  1.1719, -0.5781, -0.6719]],\n",
       "       device='cuda:0'), tensor([[-3.8906, -1.9219,  3.9375,  ..., -2.3438, -0.6094, -0.5000]],\n",
       "       device='cuda:0'), tensor([[-3.1406, -8.3125,  5.2500,  ..., -1.8672, -2.9375, -2.2969]],\n",
       "       device='cuda:0'), tensor([[-4.7812, -2.6250,  2.3438,  ...,  1.5078, -0.4707, -1.1016]],\n",
       "       device='cuda:0'), tensor([[ 1.8281,  0.2422, -3.3594,  ...,  4.7500,  1.3750,  3.2500]],\n",
       "       device='cuda:0'), tensor([[-1.3750, -4.4062,  4.1875,  ...,  3.0625,  3.3438,  1.0938]],\n",
       "       device='cuda:0'), tensor([[-4.3125, -2.0781,  5.7188,  ...,  1.1797, -1.1172, -2.1406]],\n",
       "       device='cuda:0'), tensor([[-6.4375, -3.8594,  8.0625,  ..., -0.6094, -2.1562, -1.7656]],\n",
       "       device='cuda:0'), tensor([[-4.8125, -2.8438,  5.3125,  ...,  0.7500,  0.5781, -2.2812]],\n",
       "       device='cuda:0'), tensor([[-1.7344, -6.4688,  2.4531,  ...,  0.1250, -1.4062,  1.6875]],\n",
       "       device='cuda:0'), tensor([[-5.8438, -8.3125,  7.6562,  ..., -1.4531, -0.1108, -1.0312]],\n",
       "       device='cuda:0'), tensor([[-6.1250, -6.2812,  3.6094,  ..., -2.4375, -0.7109, -3.0469]],\n",
       "       device='cuda:0'), tensor([[-2.0625, -7.4688,  3.8281,  ..., -0.6289, -0.7773,  2.3906]],\n",
       "       device='cuda:0'), tensor([[-5.0312, -8.0625,  5.5000,  ..., -3.0781, -2.7031, -1.1406]],\n",
       "       device='cuda:0'), tensor([[-3.6875, -1.1016,  8.0000,  ...,  0.6367,  0.7031, -0.9023]],\n",
       "       device='cuda:0'), tensor([[-3.0938, -2.4375, 13.7500,  ...,  1.4453, -3.1094, -1.5312]],\n",
       "       device='cuda:0'), tensor([[-2.6406,  1.6328, 14.2500,  ..., -0.9414, -0.4844,  2.0469]],\n",
       "       device='cuda:0'), tensor([[-6.4375, -4.4375,  7.1875,  ..., -1.2969, -3.0469, -2.7500]],\n",
       "       device='cuda:0'), tensor([[-4.3750, -1.0078,  4.5312,  ...,  1.2031, -3.1094,  1.6797]],\n",
       "       device='cuda:0'), tensor([[-5.2500, -5.8125, -0.7773,  ...,  1.3750, -3.2188, -5.3750]],\n",
       "       device='cuda:0'), tensor([[-0.8477, -5.1250, -0.6992,  ...,  2.0938, -1.7500,  1.9062]],\n",
       "       device='cuda:0'), tensor([[-1.8125, -7.0938,  2.5156,  ...,  1.9219, -0.6094, -2.7031]],\n",
       "       device='cuda:0'), tensor([[-4.5312, -1.3047,  5.3750,  ..., -0.9453, -2.7188, -3.9062]],\n",
       "       device='cuda:0'), tensor([[ 1.8281,  4.2812, 16.0000,  ...,  1.4766, -2.6250, -0.7500]],\n",
       "       device='cuda:0'), tensor([[-3.4375, -4.1250,  4.7500,  ...,  0.5742, -1.3047, -1.8359]],\n",
       "       device='cuda:0'), tensor([[-1.3516, -3.6250, -1.0938,  ...,  2.2969, -0.8047,  3.1719]],\n",
       "       device='cuda:0'), tensor([[-2.4062, -4.4375,  0.9414,  ...,  2.2812, -0.0430,  1.4688]],\n",
       "       device='cuda:0'), tensor([[-5.6875, -4.8438,  6.2188,  ...,  0.8516, -0.8477, -3.5000]],\n",
       "       device='cuda:0'), tensor([[-1.9297,  0.9766,  4.1562,  ..., -1.2969, -1.5781, -0.7148]],\n",
       "       device='cuda:0'), tensor([[-5.2812, -5.7188,  6.0938,  ..., -2.1406, -1.1172, -2.2500]],\n",
       "       device='cuda:0'), tensor([[-4.6562, -3.1250,  3.7031,  ...,  0.8945,  0.5078,  1.1641]],\n",
       "       device='cuda:0'), tensor([[-4.2188, -4.4375,  2.3438,  ..., -1.7734, -4.5312,  3.5000]],\n",
       "       device='cuda:0'), tensor([[-4.7188, -5.5625,  2.6875,  ..., -1.4062, -2.5938, -4.3750]],\n",
       "       device='cuda:0'), tensor([[-1.2656, -6.6875, -1.4844,  ...,  0.8984, -0.9297,  3.0938]],\n",
       "       device='cuda:0'), tensor([[ 2.0469, -0.5078, -0.8906,  ...,  6.5312,  4.9375,  2.9688]],\n",
       "       device='cuda:0'), tensor([[-5.8125, -5.2500,  3.4844,  ..., -2.8438, -1.9141, -2.0000]],\n",
       "       device='cuda:0'), tensor([[-6.7812, -3.6719,  6.1875,  ..., -1.4688, -3.8750, -1.0078]],\n",
       "       device='cuda:0'), tensor([[-3.4531, -1.8125,  5.8750,  ..., -0.0898,  0.1699,  0.1270]],\n",
       "       device='cuda:0'), tensor([[-3.5312, -4.8438,  7.0312,  ..., -0.5781, -3.5156, -2.6250]],\n",
       "       device='cuda:0'), tensor([[-1.3047,  0.8281, -0.6367,  ..., -0.2852,  0.4160,  3.3281]],\n",
       "       device='cuda:0'), tensor([[-5.7188, -5.6250,  6.7188,  ..., -0.0479, -0.7461, -3.8750]],\n",
       "       device='cuda:0'), tensor([[-2.3125, -4.9062,  1.5078,  ...,  1.0781,  0.9375, -2.6875]],\n",
       "       device='cuda:0'), tensor([[-4.4688, -3.8750,  2.8281,  ...,  1.8438, -2.0156, -3.2188]],\n",
       "       device='cuda:0'), tensor([[ 0.7812, -0.8438, -0.2256,  ...,  5.2500,  1.7891,  3.9375]],\n",
       "       device='cuda:0'), tensor([[-4.6562, -3.5781,  2.3125,  ...,  0.7188, -1.9141, -1.6562]],\n",
       "       device='cuda:0'), tensor([[-3.9688, -4.1562,  5.2812,  ...,  1.4609, -1.6172, -1.4297]],\n",
       "       device='cuda:0'), tensor([[ 0.0488,  0.4766, -1.3125,  ...,  2.6562, -0.1162,  1.1797]],\n",
       "       device='cuda:0'), tensor([[-3.4062, -4.3125,  5.6875,  ...,  1.2969,  2.9688, -1.8203]],\n",
       "       device='cuda:0'), tensor([[-4.3438, -2.0625,  4.5625,  ...,  1.5859, -3.0781, -3.2188]],\n",
       "       device='cuda:0'), tensor([[-6.5938, -5.8125,  6.3438,  ..., -1.3594, -3.5938, -1.2656]],\n",
       "       device='cuda:0'), tensor([[-4.1875, -4.2188,  6.2188,  ...,  2.5156, -0.4082, -3.5938]],\n",
       "       device='cuda:0'), tensor([[-0.8359, -6.7500, -0.1621,  ...,  5.2188, -2.5000, -0.8984]],\n",
       "       device='cuda:0'), tensor([[-1.5469, -7.1562,  2.8438,  ...,  2.1094, -1.6641,  0.1719]],\n",
       "       device='cuda:0'), tensor([[-6.3438, -8.8750,  5.8438,  ..., -2.3906, -3.5469, -3.2969]],\n",
       "       device='cuda:0'), tensor([[-7.4062, -8.7500,  5.9062,  ..., -0.5430, -2.6406, -2.9688]],\n",
       "       device='cuda:0'), tensor([[-4.9688, -5.1562,  2.7969,  ...,  1.5000, -3.1094, -5.3125]],\n",
       "       device='cuda:0'), tensor([[-0.6797, -4.9375,  0.5703,  ...,  4.1875, -1.6328,  2.8438]],\n",
       "       device='cuda:0'), tensor([[-6.2500, -6.0625,  5.1250,  ..., -2.8750, -0.8789, -1.1250]],\n",
       "       device='cuda:0'), tensor([[-5.8125, -6.3438,  2.2344,  ...,  0.0547, -3.0781, -7.0312]],\n",
       "       device='cuda:0'), tensor([[-2.5000, -5.0625, -2.2500,  ...,  1.1406, -4.3750, -1.2734]],\n",
       "       device='cuda:0'), tensor([[-1.7734, -5.2812, -0.2266,  ...,  2.3438, -1.8828, -1.2500]],\n",
       "       device='cuda:0'), tensor([[0.5156, 0.4238, 1.5312,  ..., 4.5625, 1.3594, 1.9375]],\n",
       "       device='cuda:0'), tensor([[-6.5312, -4.6875,  2.3906,  ...,  1.4062, -2.1562, -4.1875]],\n",
       "       device='cuda:0'), tensor([[-3.8750, -6.0938,  3.0625,  ...,  1.5078, -1.8984,  0.8555]],\n",
       "       device='cuda:0'), tensor([[-5.8125, -8.3750,  3.2031,  ...,  0.4609, -3.0000, -5.4375]],\n",
       "       device='cuda:0'), tensor([[-2.1719, -5.8750,  1.5781,  ..., -0.6719, -3.5625,  1.5469]],\n",
       "       device='cuda:0'), tensor([[ 1.2266,  0.7227, -1.3594,  ...,  4.0000,  0.2734,  1.6484]],\n",
       "       device='cuda:0'), tensor([[-5.3438, -9.3750,  4.4062,  ..., -0.6680, -3.1094, -2.2031]],\n",
       "       device='cuda:0'), tensor([[-4.6562, -1.4531,  4.1250,  ...,  0.8672, -0.5195, -1.8438]],\n",
       "       device='cuda:0'), tensor([[-3.3594, -5.5625,  6.2500,  ...,  1.9375,  1.1562,  0.5469]],\n",
       "       device='cuda:0'), tensor([[-6.1250, -3.1250,  2.9531,  ..., -1.8438, -3.3281, -6.5000]],\n",
       "       device='cuda:0'), tensor([[-5.0000, -6.8125, -1.8281,  ..., -1.4531, -4.0000, -0.8008]],\n",
       "       device='cuda:0'), tensor([[-3.3750, -6.6875,  0.4219,  ...,  1.0312, -4.2500, -1.2734]],\n",
       "       device='cuda:0'), tensor([[-5.3750, -6.6875,  3.9219,  ..., -1.1172, -0.7812, -5.0625]],\n",
       "       device='cuda:0'), tensor([[-5.5312, -6.1875,  3.9531,  ..., -1.5391, -2.1875, -5.4375]],\n",
       "       device='cuda:0'), tensor([[-2.9531, -5.1562,  2.2344,  ...,  1.4375, -1.1016,  2.2969]],\n",
       "       device='cuda:0'), tensor([[-3.2500, -2.5625,  6.8438,  ..., -1.2109,  2.0938,  0.6797]],\n",
       "       device='cuda:0'), tensor([[-7.7188, -6.3438,  2.3750,  ..., -2.1562, -3.1094, -6.1250]],\n",
       "       device='cuda:0'), tensor([[-2.3906, -2.6875, 10.3125,  ..., -1.0469, -3.4688, -2.7188]],\n",
       "       device='cuda:0'), tensor([[-1.6094, -0.3438,  2.1406,  ..., -0.6016,  0.3867,  3.8125]],\n",
       "       device='cuda:0'), tensor([[-4.5000, -4.0312,  5.2812,  ...,  1.7578,  0.1387, -2.0156]],\n",
       "       device='cuda:0'), tensor([[-1.3125, -0.1328, -0.3789,  ..., -0.3711,  4.0000, -0.5273]],\n",
       "       device='cuda:0'), tensor([[-5.0000, -4.1250,  2.4219,  ...,  1.7812,  0.3359, -1.6875]],\n",
       "       device='cuda:0'), tensor([[-2.6875, -5.3125, -0.1689,  ...,  1.5469, -2.3438, -1.3828]],\n",
       "       device='cuda:0'), tensor([[ 0.3906, -2.3906, -1.5781,  ...,  3.2031,  3.5625, -0.1680]],\n",
       "       device='cuda:0'), tensor([[-4.9688, -6.0000,  2.6875,  ..., -0.1621, -3.1250, -5.7812]],\n",
       "       device='cuda:0'), tensor([[ 1.4375, -3.7188, -2.2031,  ...,  3.5000,  3.5469, -0.2295]],\n",
       "       device='cuda:0'), tensor([[-3.1250, -6.9062,  4.0000,  ..., -0.4668, -1.7422, -2.2500]],\n",
       "       device='cuda:0'), tensor([[-4.4375, -3.4062,  3.9375,  ..., -1.2266, -0.2100, -1.4219]],\n",
       "       device='cuda:0'), tensor([[-3.3125, -8.1875,  4.8438,  ...,  0.2422, -4.9375,  0.3164]],\n",
       "       device='cuda:0'), tensor([[-5.4688, -3.8125,  3.1875,  ..., -0.8359,  0.4688, -4.0625]],\n",
       "       device='cuda:0'), tensor([[-1.7266, -4.4688, -0.1113,  ...,  2.0938, -1.1484, -0.1133]],\n",
       "       device='cuda:0'), tensor([[-0.2949, -1.6250,  2.3125,  ...,  0.3809, -0.4551, -0.2383]],\n",
       "       device='cuda:0'), tensor([[ 0.5586, -1.7188,  2.0938,  ...,  5.5312,  2.8906,  2.1250]],\n",
       "       device='cuda:0'), tensor([[-5.6250, -9.1250,  2.2812,  ..., -0.3184, -2.2969, -4.1562]],\n",
       "       device='cuda:0'), tensor([[-5.4688, -7.0312,  1.1562,  ..., -1.6172, -2.4375, -4.5000]],\n",
       "       device='cuda:0'), tensor([[-1.9375, -4.1250, -1.1641,  ...,  1.5859, -0.3047,  0.7695]],\n",
       "       device='cuda:0'), tensor([[-0.3809, -4.7812, -1.7656,  ...,  3.0781,  0.1582, -0.2451]],\n",
       "       device='cuda:0'), tensor([[2.2031, 0.8555, 0.4434,  ..., 4.7500, 3.2031, 5.2188]],\n",
       "       device='cuda:0'), tensor([[-4.7812, -3.1875,  4.1250,  ...,  0.5039, -2.0469, -1.4766]],\n",
       "       device='cuda:0'), tensor([[-0.1348, -3.0312,  0.5391,  ...,  5.2500,  2.6250,  1.8281]],\n",
       "       device='cuda:0'), tensor([[-2.9531, -0.5977,  5.7500,  ..., -2.1406,  1.5156,  1.0000]],\n",
       "       device='cuda:0'), tensor([[-5.2188, -1.1641,  5.9688,  ..., -2.2188, -2.3281, -0.8281]],\n",
       "       device='cuda:0'), tensor([[ 0.5781, -2.3125,  0.3340,  ...,  0.5547, -0.0879,  4.8125]],\n",
       "       device='cuda:0'), tensor([[-2.8281,  0.3691,  6.4375,  ...,  0.7422,  1.4297,  1.7109]],\n",
       "       device='cuda:0'), tensor([[-5.2500, -4.6875,  2.7188,  ...,  0.5000, -1.7578, -4.0625]],\n",
       "       device='cuda:0'), tensor([[-1.9688, -4.1250,  0.8789,  ...,  3.2656,  0.9336, -2.2969]],\n",
       "       device='cuda:0'), tensor([[-4.7188, -3.9688,  1.9375,  ...,  3.8438, -2.8594, -3.3438]],\n",
       "       device='cuda:0'), tensor([[ 1.7266, -0.7812, -3.3594,  ..., 11.3750,  2.7344,  5.3750]],\n",
       "       device='cuda:0'), tensor([[ 0.5391, -3.6875, -1.4219,  ...,  6.1562,  1.1953,  0.8828]],\n",
       "       device='cuda:0'), tensor([[-0.7305, -2.8281,  2.7656,  ...,  4.8438,  1.6484,  2.0938]],\n",
       "       device='cuda:0'), tensor([[-5.2188, -7.1562,  3.1719,  ..., -1.7344, -2.7500, -5.5000]],\n",
       "       device='cuda:0'), tensor([[-1.4609, -4.6875,  0.7812,  ...,  1.3438, -3.8750, -0.7070]],\n",
       "       device='cuda:0'), tensor([[-1.5703, -0.9414,  2.4062,  ...,  1.2969,  0.0947, -1.9453]],\n",
       "       device='cuda:0'), tensor([[-4.0312, -1.6016,  5.7500,  ..., -1.0469, -3.1875, -3.7188]],\n",
       "       device='cuda:0'), tensor([[-4.5938, -5.1562,  4.9375,  ..., -2.8281, -2.5312, -1.8828]],\n",
       "       device='cuda:0'), tensor([[-5.5625, -2.8281,  7.7188,  ..., -0.8867, -1.2812, -1.3047]],\n",
       "       device='cuda:0'), tensor([[-4.7812, -3.2500,  7.0938,  ..., -1.0391,  0.9375, -0.3086]],\n",
       "       device='cuda:0'), tensor([[-2.9062, -3.7031,  5.8750,  ...,  2.5625,  2.3438,  1.5469]],\n",
       "       device='cuda:0'), tensor([[-5.5938, -6.1875,  2.4844,  ..., -0.5703, -2.2344, -5.5312]],\n",
       "       device='cuda:0'), tensor([[-3.0469, -7.4688,  3.0938,  ...,  0.0156,  4.2188, -0.2695]],\n",
       "       device='cuda:0'), tensor([[-5.4688, -2.6562,  2.5625,  ..., -0.1367, -1.4766, -3.3906]],\n",
       "       device='cuda:0'), tensor([[-1.1953, -3.6406,  1.9688,  ...,  0.6367, -0.2871,  4.3438]],\n",
       "       device='cuda:0'), tensor([[-5.0312, -7.8438,  5.3750,  ...,  2.1250, -2.3750, -4.3438]],\n",
       "       device='cuda:0'), tensor([[-3.1094, -7.9688,  3.2656,  ...,  0.1523, -1.8281, -1.5781]],\n",
       "       device='cuda:0'), tensor([[-4.6562, -7.0938,  6.5625,  ..., -1.5312, -1.0156, -1.0469]],\n",
       "       device='cuda:0'), tensor([[-4.7500, -5.7188,  2.5625,  ...,  0.0439,  2.0625, -2.5938]],\n",
       "       device='cuda:0'), tensor([[ 0.3223, -3.9688, -0.4375,  ...,  0.7188, -0.8047,  3.4062]],\n",
       "       device='cuda:0'), tensor([[-1.5234, -3.5938,  3.7812,  ...,  0.2227, -0.1289, -1.4375]],\n",
       "       device='cuda:0'), tensor([[4.5625, 5.9375, 3.3906,  ..., 8.5625, 8.8125, 5.7812]],\n",
       "       device='cuda:0'), tensor([[-5.7188, -2.8750,  9.8750,  ...,  1.6797,  4.3438, -4.4375]],\n",
       "       device='cuda:0'), tensor([[-5.0000, -6.1250,  6.5312,  ..., -0.5820, -0.4219, -0.5586]],\n",
       "       device='cuda:0'), tensor([[-2.5000, -3.3750, 12.5000,  ...,  1.6562, -3.8594, -3.4531]],\n",
       "       device='cuda:0'), tensor([[-1.8750, -1.8438,  1.3125,  ...,  2.3125,  0.4922,  2.4062]],\n",
       "       device='cuda:0'), tensor([[-5.6875, -5.4062,  6.6250,  ...,  2.2812,  0.1738, -4.1875]],\n",
       "       device='cuda:0'), tensor([[-2.5469,  0.5625,  5.2500,  ..., -0.0527, -2.2656, -1.1875]],\n",
       "       device='cuda:0'), tensor([[-4.3438, -4.6562,  7.3125,  ..., -1.3594, -1.1406, -3.0312]],\n",
       "       device='cuda:0'), tensor([[-4.6250, -4.4375,  8.1875,  ...,  1.0078,  0.7617, -1.4375]],\n",
       "       device='cuda:0'), tensor([[-4.4688, -3.5938,  4.9375,  ...,  0.6875, -6.3125,  2.6562]],\n",
       "       device='cuda:0'), tensor([[-5.1250, -8.3750,  4.0938,  ..., -1.6641, -2.7500, -5.4062]],\n",
       "       device='cuda:0'), tensor([[-3.6406, -5.3125,  3.4688,  ...,  2.5000, -1.6797,  0.7578]],\n",
       "       device='cuda:0'), tensor([[-4.6250, -2.0625,  6.0625,  ..., -0.2285, -0.4805, -5.8438]],\n",
       "       device='cuda:0'), tensor([[-4.9375, -7.1875,  2.0156,  ..., -0.8281, -1.5625, -4.9375]],\n",
       "       device='cuda:0'), tensor([[-1.9766, -3.8281,  3.6094,  ..., -4.0938, -2.9375, -2.2344]],\n",
       "       device='cuda:0'), tensor([[-4.1562, -1.3828,  7.7188,  ..., -0.8828, -0.3164, -3.5000]],\n",
       "       device='cuda:0'), tensor([[-5.8750, -4.1875,  8.1875,  ..., -2.0312, -2.7656, -0.2461]],\n",
       "       device='cuda:0'), tensor([[-4.1250, -2.6406,  9.1250,  ..., -1.3281,  1.5859, -3.5625]],\n",
       "       device='cuda:0'), tensor([[-3.2969, -2.9375, 15.5625,  ...,  1.4922, -4.1875, -2.4375]],\n",
       "       device='cuda:0'), tensor([[-1.8828,  2.9062, 16.2500,  ...,  0.1914, -1.1328,  0.4258]],\n",
       "       device='cuda:0'), tensor([[-4.0938, -2.3906,  5.9375,  ..., -1.0156, -0.9023, -1.6094]],\n",
       "       device='cuda:0'), tensor([[-2.7188, -0.9062,  4.1875,  ..., -0.7188, -1.7969,  2.6250]],\n",
       "       device='cuda:0'), tensor([[-5.8438, -6.0625, 10.1875,  ...,  0.2305, -0.4336, -3.2969]],\n",
       "       device='cuda:0'), tensor([[-2.7969, -2.7500,  3.5312,  ..., -1.6953,  3.1406,  1.0234]],\n",
       "       device='cuda:0'), tensor([[-5.4375, -6.6562,  2.7656,  ..., -1.8047, -1.8125, -2.3281]],\n",
       "       device='cuda:0'), tensor([[-1.9453, -3.0156,  1.6797,  ...,  2.7188, -0.1641,  3.4844]],\n",
       "       device='cuda:0'), tensor([[-3.4375, -5.3125,  5.3438,  ..., -1.8438, -2.4375,  0.4160]],\n",
       "       device='cuda:0'), tensor([[-4.5938, -4.8125,  5.8438,  ...,  1.7969, -1.8281, -3.5000]],\n",
       "       device='cuda:0'), tensor([[-2.1250, -2.5000,  1.1406,  ...,  0.5781,  0.8789, -0.4473]],\n",
       "       device='cuda:0'), tensor([[ -4.2500, -12.3750,   7.0000,  ...,  -3.0469,  -3.6719,  -2.4219]],\n",
       "       device='cuda:0'), tensor([[-5.0000, -6.5000,  4.3125,  ...,  2.9219, -1.5938, -3.2656]],\n",
       "       device='cuda:0'), tensor([[-3.3438, -8.2500,  3.3438,  ...,  3.7344,  1.0000,  0.4922]],\n",
       "       device='cuda:0'), tensor([[-4.9375, -6.1562,  4.7188,  ...,  2.3438, -0.7891, -2.8438]],\n",
       "       device='cuda:0'), tensor([[ 2.0625, -1.7500, -1.9219,  ...,  6.8438,  4.5000,  2.9531]],\n",
       "       device='cuda:0'), tensor([[ 0.0547, -8.0000,  1.4453,  ...,  3.4375, -0.1914,  2.9375]],\n",
       "       device='cuda:0'), tensor([[-2.9062, -9.1250,  1.9375,  ..., -1.7812,  0.7422, -2.4062]],\n",
       "       device='cuda:0'), tensor([[-5.8125, -6.0312,  4.5938,  ..., -0.5781, -2.5469, -4.3438]],\n",
       "       device='cuda:0'), tensor([[-0.6250, -4.2500, -0.8555,  ...,  3.2031, -1.5078,  2.8438]],\n",
       "       device='cuda:0'), tensor([[-0.0762, -4.4688, -0.2539,  ...,  4.4375,  0.4609,  2.9375]],\n",
       "       device='cuda:0'), tensor([[3.0781, 2.5938, 0.8711,  ..., 4.6875, 5.0000, 5.0000]],\n",
       "       device='cuda:0'), tensor([[-4.9375, -2.1406,  6.2812,  ...,  0.8359, -2.2969, -2.0156]],\n",
       "       device='cuda:0'), tensor([[-6.3125, -6.5312,  8.5000,  ..., -0.9453,  1.0469, -1.2188]],\n",
       "       device='cuda:0'), tensor([[-4.5312, -1.7891,  6.9375,  ...,  0.8516, -0.2832,  0.6016]],\n",
       "       device='cuda:0'), tensor([[-3.9375, -3.8750,  4.5000,  ..., -0.8906, -0.9609,  1.5703]],\n",
       "       device='cuda:0'), tensor([[-5.7188, -3.3750,  5.4062,  ..., -1.8438, -1.4922, -2.4062]],\n",
       "       device='cuda:0'), tensor([[-5.9062, -4.2188,  7.6562,  ..., -1.0156, -2.7969, -0.7852]],\n",
       "       device='cuda:0'), tensor([[-5.0000, -2.9219,  6.1562,  ..., -1.2891,  2.4062, -2.1875]],\n",
       "       device='cuda:0'), tensor([[-3.6719, -5.2812,  8.2500,  ..., -1.2969, -2.0625, -2.6562]],\n",
       "       device='cuda:0'), tensor([[-1.0703, -1.1094,  1.2188,  ..., -0.6641,  1.3281,  3.6250]],\n",
       "       device='cuda:0'), tensor([[-5.0000, -6.8750,  6.5625,  ...,  2.6406, -1.0391, -2.3281]],\n",
       "       device='cuda:0'), tensor([[-1.0312, -6.6875, -1.5781,  ...,  3.7812, -0.4453,  1.8672]],\n",
       "       device='cuda:0'), tensor([[-2.2188, -4.9688,  3.5312,  ..., -0.7109, -0.5938,  1.5078]],\n",
       "       device='cuda:0'), tensor([[-6.1562, -6.5625,  3.5469,  ..., -0.9805, -1.1484, -4.5625]],\n",
       "       device='cuda:0'), tensor([[ 3.2656,  1.3047, -2.9219,  ...,  6.4062,  5.8750,  2.5938]],\n",
       "       device='cuda:0'), tensor([[-3.3594, -5.3750,  5.1250,  ...,  0.8516, -0.1523,  1.6406]],\n",
       "       device='cuda:0'), tensor([[-6.5625, -5.0312,  3.6875,  ..., -1.1875, -1.1094, -4.0938]],\n",
       "       device='cuda:0'), tensor([[-1.6172, -3.5312, -0.1406,  ...,  2.0000,  0.7891,  2.4375]],\n",
       "       device='cuda:0'), tensor([[-0.6055, -4.5000, -0.8633,  ...,  2.1875,  0.7734,  1.1953]],\n",
       "       device='cuda:0'), tensor([[2.6875, 2.0156, 1.6484,  ..., 6.0625, 4.3125, 4.9688]],\n",
       "       device='cuda:0'), tensor([[-5.4375, -3.2188,  4.9062,  ...,  0.8672, -3.4688, -1.6250]],\n",
       "       device='cuda:0'), tensor([[ 0.2500, -3.5000,  0.5703,  ...,  5.3125,  2.5625,  3.6875]],\n",
       "       device='cuda:0'), tensor([[-4.0000, -2.3750,  6.9688,  ..., -1.7969,  0.8203,  0.0918]],\n",
       "       device='cuda:0'), tensor([[-5.4375, -3.9062,  4.9375,  ..., -1.3359, -2.3594, -3.2500]],\n",
       "       device='cuda:0'), tensor([[1.4375, 1.3047, 2.0781,  ..., 4.1250, 2.3125, 3.9375]],\n",
       "       device='cuda:0'), tensor([[-6.2188, -4.9062,  6.2500,  ..., -0.8984, -3.2188, -2.4375]],\n",
       "       device='cuda:0'), tensor([[-4.6875, -5.8125,  3.4219,  ..., -0.5625, -1.4453, -4.2812]],\n",
       "       device='cuda:0'), tensor([[-3.6875, -3.0469,  3.5469,  ...,  1.0625, -3.1250,  0.4180]],\n",
       "       device='cuda:0'), tensor([[-5.6875, -4.5000,  3.2969,  ..., -0.3262,  0.7109, -0.2188]],\n",
       "       device='cuda:0'), tensor([[-4.1250, -4.2188,  2.7031,  ..., -2.7188, -0.3359, -0.6602]],\n",
       "       device='cuda:0'), tensor([[-4.2500, -6.4062,  2.4219,  ..., -2.3438, -2.7344,  1.5781]],\n",
       "       device='cuda:0'), tensor([[-5.1250, -4.6250,  3.4688,  ...,  0.2520, -0.1797, -3.6875]],\n",
       "       device='cuda:0'), tensor([[-2.8125, -5.0000,  1.4062,  ..., -0.9492, -2.5781, -2.5156]],\n",
       "       device='cuda:0'), tensor([[-0.8047, -1.3438,  3.0312,  ..., -0.3750,  0.9297, -1.3125]],\n",
       "       device='cuda:0'), tensor([[-1.0156, -2.1250,  4.2188,  ...,  3.3438,  3.2500,  1.9688]],\n",
       "       device='cuda:0'), tensor([[-4.8438, -4.8438,  4.2188,  ..., -0.0703, -1.2266, -3.3281]],\n",
       "       device='cuda:0'), tensor([[-5.2812, -7.0000,  2.1094,  ..., -1.1016, -2.8438, -4.4062]],\n",
       "       device='cuda:0'), tensor([[-2.0000, -6.6875, -0.9570,  ...,  1.9531, -1.0312, -0.0786]],\n",
       "       device='cuda:0'), tensor([[-0.3926, -5.2188, -0.7109,  ...,  2.6250,  0.1055,  0.7773]],\n",
       "       device='cuda:0'), tensor([[ 0.6484, -1.3750,  2.7812,  ...,  2.6875,  1.9531,  2.3750]],\n",
       "       device='cuda:0'), tensor([[-4.8438, -4.8125,  3.9219,  ..., -0.6016, -2.0312, -2.0938]],\n",
       "       device='cuda:0'), tensor([[ 0.1113, -6.0000,  0.0138,  ...,  3.8438,  2.8438,  1.5078]],\n",
       "       device='cuda:0'), tensor([[-4.0312, -2.4375,  7.5938,  ..., -3.3750, -0.1895, -0.7852]],\n",
       "       device='cuda:0'), tensor([[-6.2812, -3.7344,  5.2500,  ..., -3.2969, -2.5469, -2.5625]],\n",
       "       device='cuda:0'), tensor([[ 6.0938,  2.3750, -3.3594,  ...,  6.3750,  6.4375,  8.8125]],\n",
       "       device='cuda:0')), attentions=None, hidden_states=None)"
      ]
     },
     "execution_count": 22,
     "metadata": {},
     "output_type": "execute_result"
    }
   ],
   "source": [
    "generation_output"
   ]
  },
  {
   "cell_type": "code",
   "execution_count": 29,
   "metadata": {},
   "outputs": [
    {
     "name": "stderr",
     "output_type": "stream",
     "text": [
      "The attention mask and the pad token id were not set. As a consequence, you may observe unexpected behavior. Please pass your input's `attention_mask` to obtain reliable results.\n",
      "Setting `pad_token_id` to `eos_token_id`:2 for open-end generation.\n"
     ]
    }
   ],
   "source": [
    "query = \"\"\"\n",
    "siapa perdana menteri malaysia\n",
    "\"\"\"\n",
    "prompt = template['prompt_no_input'].format(instruction=query)\n",
    "inputs = tokenizer(prompt, return_tensors='pt')\n",
    "input_ids = inputs['input_ids'].to(model.device)\n",
    "with torch.no_grad():\n",
    "    generation_output = model.generate(\n",
    "        input_ids=input_ids,\n",
    "        return_dict_in_generate=True,\n",
    "        output_scores=True,\n",
    "        max_new_tokens=1000,\n",
    "        temperature=temperature,\n",
    "        top_p=top_p,\n",
    "        top_k=top_k,\n",
    "        num_beams=num_beams,\n",
    "        do_sample=False,\n",
    ")\n",
    "s = tokenizer.decode(generation_output.sequences[0])"
   ]
  },
  {
   "cell_type": "code",
   "execution_count": 32,
   "metadata": {},
   "outputs": [
    {
     "data": {
      "text/plain": [
       "tensor([    1,  4671,   289,  ...,   273,   443, 29873], device='cuda:0')"
      ]
     },
     "execution_count": 32,
     "metadata": {},
     "output_type": "execute_result"
    }
   ],
   "source": [
    "generation_output.sequences[0]"
   ]
  },
  {
   "cell_type": "code",
   "execution_count": 30,
   "metadata": {},
   "outputs": [
    {
     "data": {
      "text/plain": [
       "torch.Size([1069])"
      ]
     },
     "execution_count": 30,
     "metadata": {},
     "output_type": "execute_result"
    }
   ],
   "source": [
    "generation_output.sequences[0].shape"
   ]
  },
  {
   "cell_type": "code",
   "execution_count": 31,
   "metadata": {},
   "outputs": [
    {
     "data": {
      "text/plain": [
       "\"<s> Di bawah ialah arahan yang menerangkan tugasan. Tulis jawapan yang sesuai dengan arahan tersebut.\\n\\n### Arahan:\\n\\nsiapa perdana menteri malaysia\\n\\n\\n### Jawapan:\\nPerdana Menteri Malaysia pada masa ini ialah Dato' Seri Ismail Sabri Yaakob. Beliau telah dilantik pada 10 Ogos 2021 dan berkhidmat sebagai Perdana Menteri ke-8 Malaysia. Beliau sebelumnya telah berkhidmat sebagai Timbalan Perdana Menteri dan Menteri Pertahanan. Beliau juga merupakan Ahli Parlimen Bera, Pahang. Beliau dilantik sebagai Perdana Menteri selepas kematian Perdana Menteri sebelumnya, Tan Sri Muhyiddin Yassin. Beliau telah dilantik sebagai Perdana Menteri untuk memimpin kerajaan Perikatan Nasional, yang merupakan gabungan parti politik yang berbeza. Beliau telah menyatakan bahawa matlamat utamanya sebagai Perdana Menteri ialah untuk memulihkan ekonomi negara yang terjejas akibat pandemik COVID-19 dan menyediakan peluang pekerjaan untuk rakyat Malaysia. Beliau juga telah menyatakan bahawa beliau akan bekerjasama dengan semua pihak untuk menyelesaikan masalah yang dihadapi oleh rakyat Malaysia. Beliau telah diangkat sebagai Perdana Menteri ke-8 Malaysia dan merupakan Perdana Menteri pertama yang dilantik selepas pilihan raya umum ke-15. Beliau telah dilantik sebagai Perdana Menteri untuk memimpin kerajaan Perikatan Nasional, yang merupakan gabungan parti politik yang berbeza. Beliau telah menyatakan bahawa matlamat utamanya sebagai Perdana Menteri ialah untuk memulihkan ekonomi negara yang terjejas akibat pandemik COVID-19 dan menyediakan peluang pekerjaan untuk rakyat Malaysia. Beliau juga telah menyatakan bahawa beliau akan bekerjasama dengan semua pihak untuk menyelesaikan masalah yang dihadapi oleh rakyat Malaysia. Beliau telah diangkat sebagai Perdana Menteri ke-8 Malaysia dan merupakan Perdana Menteri pertama yang dilantik selepas pilihan raya umum ke-15. Beliau telah dilantik sebagai Perdana Menteri untuk memimpin kerajaan Perikatan Nasional, yang merupakan gabungan parti politik yang berbeza. Beliau telah menyatakan bahawa matlamat utamanya sebagai Perdana Menteri ialah untuk memulihkan ekonomi negara yang terjejas akibat pandemik COVID-19 dan menyediakan peluang pekerjaan untuk rakyat Malaysia. Beliau juga telah menyatakan bahawa beliau akan bekerjasama dengan semua pihak untuk menyelesaikan masalah yang dihadapi oleh rakyat Malaysia. Beliau telah diangkat sebagai Perdana Menteri ke-8 Malaysia dan merupakan Perdana Menteri pertama yang dilantik selepas pilihan raya umum ke-15. Beliau telah dilantik sebagai Perdana Menteri untuk memimpin kerajaan Perikatan Nasional, yang merupakan gabungan parti politik yang berbeza. Beliau telah menyatakan bahawa matlamat utamanya sebagai Perdana Menteri ialah untuk memulihkan ekonomi negara yang terjejas akibat pandemik COVID-19 dan menyediakan peluang pekerjaan unt\""
      ]
     },
     "execution_count": 31,
     "metadata": {},
     "output_type": "execute_result"
    }
   ],
   "source": [
    "s"
   ]
  },
  {
   "cell_type": "code",
   "execution_count": 15,
   "metadata": {
    "scrolled": true
   },
   "outputs": [],
   "source": [
    "output_merged_dir = './results-1024/final_merged_checkpoint'\n",
    "model.save_pretrained(output_merged_dir, safe_serialization=True, )"
   ]
  },
  {
   "cell_type": "code",
   "execution_count": 16,
   "metadata": {
    "scrolled": true
   },
   "outputs": [
    {
     "name": "stdout",
     "output_type": "stream",
     "text": [
      "huggingface/tokenizers: The current process just got forked, after parallelism has already been used. Disabling parallelism to avoid deadlocks...\n",
      "To disable this warning, you can either:\n",
      "\t- Avoid using `tokenizers` before the fork if possible\n",
      "\t- Explicitly set the environment variable TOKENIZERS_PARALLELISM=(true | false)\n",
      "config.json\t\t\t  model-00002-of-00002.safetensors\r\n",
      "generation_config.json\t\t  model.safetensors.index.json\r\n",
      "model-00001-of-00002.safetensors\r\n"
     ]
    }
   ],
   "source": [
    "!ls {output_merged_dir}"
   ]
  },
  {
   "cell_type": "code",
   "execution_count": 17,
   "metadata": {},
   "outputs": [
    {
     "name": "stderr",
     "output_type": "stream",
     "text": [
      "/home/husein/.local/lib/python3.8/site-packages/transformers/utils/hub.py:665: UserWarning: The `organization` argument is deprecated and will be removed in v5 of Transformers. Set your organization directly in the `repo_id` passed instead (`repo_id={organization}/{model_id}`).\n",
      "  warnings.warn(\n"
     ]
    },
    {
     "data": {
      "application/vnd.jupyter.widget-view+json": {
       "model_id": "4a043f62bac74455830201a4f4e31bc8",
       "version_major": 2,
       "version_minor": 0
      },
      "text/plain": [
       "pytorch_model-00002-of-00002.bin:   0%|          | 0.00/3.50G [00:00<?, ?B/s]"
      ]
     },
     "metadata": {},
     "output_type": "display_data"
    },
    {
     "data": {
      "application/vnd.jupyter.widget-view+json": {
       "model_id": "c510c367529e4c77a0d03d20a024430f",
       "version_major": 2,
       "version_minor": 0
      },
      "text/plain": [
       "pytorch_model-00001-of-00002.bin:   0%|          | 0.00/9.98G [00:00<?, ?B/s]"
      ]
     },
     "metadata": {},
     "output_type": "display_data"
    },
    {
     "data": {
      "application/vnd.jupyter.widget-view+json": {
       "model_id": "0c78422484fa47f1bf49543f2c2dfdee",
       "version_major": 2,
       "version_minor": 0
      },
      "text/plain": [
       "Upload 2 LFS files:   0%|          | 0/2 [00:00<?, ?it/s]"
      ]
     },
     "metadata": {},
     "output_type": "display_data"
    },
    {
     "data": {
      "text/plain": [
       "CommitInfo(commit_url='https://huggingface.co/mesolitica/llama-7b-hf-1024-ms-qlora/commit/22b2e7f10f351290b4c432f91bd21445090d8eaa', commit_message='Upload LlamaForCausalLM', commit_description='', oid='22b2e7f10f351290b4c432f91bd21445090d8eaa', pr_url=None, pr_revision=None, pr_num=None)"
      ]
     },
     "execution_count": 17,
     "metadata": {},
     "output_type": "execute_result"
    }
   ],
   "source": [
    "model.push_to_hub('llama-7b-hf-1024-ms-qlora', organization='mesolitica')"
   ]
  },
  {
   "cell_type": "code",
   "execution_count": 18,
   "metadata": {},
   "outputs": [
    {
     "data": {
      "text/plain": [
       "CommitInfo(commit_url='https://huggingface.co/mesolitica/llama-7b-hf-1024-ms-qlora/commit/f150667bcd78b9fbf55ddf54f1930e2baf03ef30', commit_message='Upload tokenizer', commit_description='', oid='f150667bcd78b9fbf55ddf54f1930e2baf03ef30', pr_url=None, pr_revision=None, pr_num=None)"
      ]
     },
     "execution_count": 18,
     "metadata": {},
     "output_type": "execute_result"
    }
   ],
   "source": [
    "tokenizer.push_to_hub('llama-7b-hf-1024-ms-qlora', organization='mesolitica')"
   ]
  },
  {
   "cell_type": "code",
   "execution_count": null,
   "metadata": {},
   "outputs": [],
   "source": []
  }
 ],
 "metadata": {
  "kernelspec": {
   "display_name": "Python 3 (ipykernel)",
   "language": "python",
   "name": "python3"
  },
  "language_info": {
   "codemirror_mode": {
    "name": "ipython",
    "version": 3
   },
   "file_extension": ".py",
   "mimetype": "text/x-python",
   "name": "python",
   "nbconvert_exporter": "python",
   "pygments_lexer": "ipython3",
   "version": "3.8.10"
  }
 },
 "nbformat": 4,
 "nbformat_minor": 4
}
