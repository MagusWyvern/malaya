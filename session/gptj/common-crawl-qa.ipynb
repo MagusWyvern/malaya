{
 "cells": [
  {
   "cell_type": "code",
   "execution_count": 1,
   "metadata": {},
   "outputs": [],
   "source": [
    "from transformers import AutoTokenizer, AutoConfig, GPTJForCausalLM"
   ]
  },
  {
   "cell_type": "code",
   "execution_count": 2,
   "metadata": {},
   "outputs": [],
   "source": [
    "import json\n",
    "\n",
    "with open('/home/ubuntu/server2/ssd3/common-crawl/common-crawl-qa.json') as fopen:\n",
    "    common_crawl = json.load(fopen)"
   ]
  },
  {
   "cell_type": "code",
   "execution_count": 3,
   "metadata": {},
   "outputs": [
    {
     "data": {
      "text/plain": [
       "['Contact us 1300 30 4227 | English Bahasa Malaysia 中文 Sell Sort Search Home Buy Cars for sale Used Cars New Cars Recon Cars Kereta Murah Hot Deals CARSOME Certified Certified Pre-owned BMW Premium Selection Sell Sell Your Car Create Ad FREE How to sell your car New Cars New Car Deals NEW New Car Price List Finance Car Loan Car Insurance Car Insurance Comparison Extended Warranty News All News Auto News Insights Reviews Buying Guide Electric Vehicle (EV) Photos Videos Events Event Services Hire us! Become a Partner Upcoming Events Car of The Year 2022 Past Events View All Past Events Sign In Login Login as Dealer / Agent or Register Register Register as Dealer / Agent Sell your car EN EN English BM Bahasa Malaysia CN 中文 Home Buy Cars for sale Used Cars New Cars Recon Cars Kereta Murah Hot Deals CARSOME Certified Certified Pre-owned BMW Premium Selection Sell Sell Your Car Create Ad FREE How to sell your car New Cars New Car Deals NEW New Car Price List Finance Car Loan Car Insurance Car Insurance Comparison Extended Warranty News All News Auto News Insights Reviews Buying Guide Electric Vehicle (EV) Photos Videos Events Event Services Hire us! Become a Partner Upcoming Events Car of The Year 2022 Past Events View All Past Events Download Our App Sign In Register (Private) Register as Dealer / Agent For Businesses and Sales Agents Home Buy Cars for sale Used Cars New Cars Recon Cars Kereta Murah Hot Deals CARSOME Certified Certified Pre-owned BMW Premium Selection Sell Sell Your Car Create Ad FREE How to sell your car New Cars New Car Deals NEW New Car Price List Finance Car Loan Car Insurance Car Insurance Comparison Extended Warranty News All News Auto News Insights Reviews Buying Guide Electric Vehicle (EV) Photos Videos Events Event Services Hire us! Become a Partner Upcoming Events Car of The Year 2022 Past Events View All Past Events Language EN English Bahasa Malaysia 中文 Download our app Need help? Call us Editor\\'s Pick All you need to know about the upcoming Tokyo Auto Salon Kuala Lumpur 2023 Toyota Vios (AC100) Launched In Malaysia From RM89k - Expectations Defied? First Drive: 2023 Perodua Axia - \"Better, MUCH better\" 4 Ways To Boost Your Engine Performance 5 Spacious Used MPVs for Less than RM79k - For Your Growing Family Drink Driving Lowest Cause Of Fatal Accidents In Malaysia Over Last 10 Years Peraturan Berbasikal Di Lebuh Raya Malaysia Mengikut Undang-Undang Kepala Anak Keluar Sunroof – Apa Kata Undang-Undang Malaysia? Kia EV6 or Hyundai IONIQ 5? We Compare Both! How To Export A Vehicle Into Malaysia With AP? How Everyone Gave Toyota An Open Goal To Score With The 2022 GR Corolla Kadar Kompaun/Saman Trafik PDRM Mengikut Kesalahan Auto News Insights Reviews Buying Guide Electric Vehicle (EV) Photos Videos More Search × Example: Honda Civic, Honda CRV Review Home News Auto News BMW Malaysia Teases The iX Electric SUV BMW Malaysia Teases The iX Electric SUV Auto News Adam Aubrey | March 17, 2021 11:14 am Looky looky here,',\n",
       " '{\\n  \"soalan\": [\\n    {\\n      \"soalan\": \"Apakah yang sedang diumumkan oleh BMW Malaysia?\",\\n      \"jawapan\": \"BMW Malaysia sedang mengumumkan iX Electric SUV.\"\\n    },\\n    {\\n      \"soalan\": \"Apakah jenis kereta yang diumumkan oleh BMW Malaysia?\",\\n      \"jawapan\": \"BMW Malaysia mengumumkan iX Electric SUV.\"\\n    },\\n    {\\n      \"soalan\": \"Apakah kelebihan kereta elektrik iX Electric SUV?\",\\n      \"jawapan\": \"iX Electric SUV adalah kereta elektrik yang mesra alam dan mempunyai prestasi yang baik.\"\\n    }\\n  ]\\n}']"
      ]
     },
     "execution_count": 3,
     "metadata": {},
     "output_type": "execute_result"
    }
   ],
   "source": [
    "common_crawl[100]"
   ]
  },
  {
   "cell_type": "code",
   "execution_count": 4,
   "metadata": {},
   "outputs": [
    {
     "data": {
      "text/plain": [
       "{'soalan': [{'soalan': 'Apakah yang sedang diumumkan oleh BMW Malaysia?',\n",
       "   'jawapan': 'BMW Malaysia sedang mengumumkan iX Electric SUV.'},\n",
       "  {'soalan': 'Apakah jenis kereta yang diumumkan oleh BMW Malaysia?',\n",
       "   'jawapan': 'BMW Malaysia mengumumkan iX Electric SUV.'},\n",
       "  {'soalan': 'Apakah kelebihan kereta elektrik iX Electric SUV?',\n",
       "   'jawapan': 'iX Electric SUV adalah kereta elektrik yang mesra alam dan mempunyai prestasi yang baik.'}]}"
      ]
     },
     "execution_count": 4,
     "metadata": {},
     "output_type": "execute_result"
    }
   ],
   "source": [
    "json.loads(common_crawl[100][1])"
   ]
  },
  {
   "cell_type": "code",
   "execution_count": 5,
   "metadata": {},
   "outputs": [],
   "source": [
    "template = {\n",
    "    \"description\": \"Template used by Alpaca-LoRA.\",\n",
    "    \"prompt_input\": \"Below is an instruction that describes a task, paired with an input that provides further context. Write a response that appropriately completes the request.\\n\\n### Instruction:\\n{instruction}\\n\\n### Input:\\n{input}\\n\\n### Response:\\n\",\n",
    "    \"prompt_no_input\": \"Below is an instruction that describes a task. Write a response that appropriately completes the request.\\n\\n### Instruction:\\n{instruction}\\n\\n### Response:\\n\",\n",
    "    \"response_split\": \"### Response:\"    \n",
    "}"
   ]
  },
  {
   "cell_type": "code",
   "execution_count": 6,
   "metadata": {},
   "outputs": [],
   "source": [
    "import random\n",
    "from tqdm import tqdm"
   ]
  },
  {
   "cell_type": "code",
   "execution_count": 7,
   "metadata": {},
   "outputs": [],
   "source": [
    "import malaya\n",
    "\n",
    "model = malaya.augmentation.abstractive.huggingface(model = 'mesolitica/finetune-noisy-translation-t5-small-bahasa-cased-v3', force_check = False)"
   ]
  },
  {
   "cell_type": "code",
   "execution_count": 8,
   "metadata": {},
   "outputs": [],
   "source": [
    "_ = model.cuda()"
   ]
  },
  {
   "cell_type": "code",
   "execution_count": 9,
   "metadata": {
    "scrolled": true
   },
   "outputs": [
    {
     "name": "stderr",
     "output_type": "stream",
     "text": [
      "You're using a T5TokenizerFast tokenizer. Please note that with a fast tokenizer, using the `__call__` method is faster than using a method to encode the text followed by a call to the `pad` method to get a padded encoding.\n"
     ]
    },
    {
     "data": {
      "text/plain": [
       "['Rakyat mmg tak suka kau pun',\n",
       " 'Rakyat mmg tak suka ko pun',\n",
       " 'rakyat mng x suka kau pun',\n",
       " 'rakyat mmg tak suka ko pon',\n",
       " 'rakyat mmg tak suka kau pon']"
      ]
     },
     "execution_count": 9,
     "metadata": {},
     "output_type": "execute_result"
    }
   ],
   "source": [
    "model.generate(['rakyat memang tak suka awak pun'],\n",
    "              max_length = 100, do_sample=True, top_k=100, top_p=0.95, temperature=0.7,\n",
    "              num_return_sequences=5)"
   ]
  },
  {
   "cell_type": "code",
   "execution_count": 10,
   "metadata": {},
   "outputs": [
    {
     "name": "stderr",
     "output_type": "stream",
     "text": [
      "  0%|▎                                                                                             | 201/55900 [00:38<1:04:55, 14.30it/s]"
     ]
    },
    {
     "name": "stdout",
     "output_type": "stream",
     "text": [
      "Extra data: line 18 column 1 (char 829)\n",
      "Extra data: line 18 column 1 (char 790)\n",
      "Extra data: line 18 column 1 (char 617)\n",
      "Extra data: line 18 column 1 (char 665)\n",
      "Extra data: line 18 column 1 (char 752)\n"
     ]
    },
    {
     "name": "stderr",
     "output_type": "stream",
     "text": [
      "  1%|▍                                                                                             | 289/55900 [00:53<1:21:16, 11.40it/s]"
     ]
    },
    {
     "name": "stdout",
     "output_type": "stream",
     "text": [
      "Extra data: line 18 column 1 (char 616)\n",
      "Extra data: line 18 column 1 (char 677)\n"
     ]
    },
    {
     "name": "stderr",
     "output_type": "stream",
     "text": [
      "  1%|▍                                                                                             | 293/55900 [00:54<1:33:47,  9.88it/s]"
     ]
    },
    {
     "name": "stdout",
     "output_type": "stream",
     "text": [
      "Extra data: line 18 column 1 (char 855)\n",
      "Extra data: line 18 column 1 (char 946)\n",
      "Extra data: line 18 column 1 (char 629)\n",
      "Extra data: line 18 column 1 (char 722)\n",
      "Extra data: line 18 column 1 (char 739)\n"
     ]
    },
    {
     "name": "stderr",
     "output_type": "stream",
     "text": [
      "\r",
      "  1%|▌                                                                                               | 299/55900 [00:54<59:26, 15.59it/s]"
     ]
    },
    {
     "name": "stdout",
     "output_type": "stream",
     "text": [
      "Extra data: line 18 column 1 (char 976)\n"
     ]
    },
    {
     "name": "stderr",
     "output_type": "stream",
     "text": [
      "  1%|▋                                                                                             | 399/55900 [01:13<4:14:59,  3.63it/s]"
     ]
    },
    {
     "name": "stdout",
     "output_type": "stream",
     "text": [
      "Extra data: line 7 column 1 (char 673)\n"
     ]
    },
    {
     "name": "stderr",
     "output_type": "stream",
     "text": [
      "  1%|▊                                                                                             | 498/55900 [01:29<2:30:19,  6.14it/s]"
     ]
    },
    {
     "name": "stdout",
     "output_type": "stream",
     "text": [
      "Extra data: line 18 column 1 (char 1033)\n",
      "Extra data: line 18 column 1 (char 868)\n",
      "Extra data: line 18 column 1 (char 775)\n"
     ]
    },
    {
     "name": "stderr",
     "output_type": "stream",
     "text": [
      "  1%|█▏                                                                                            | 701/55900 [02:03<1:36:44,  9.51it/s]"
     ]
    },
    {
     "name": "stdout",
     "output_type": "stream",
     "text": [
      "Extra data: line 18 column 1 (char 775)\n",
      "Extra data: line 18 column 1 (char 963)\n"
     ]
    },
    {
     "name": "stderr",
     "output_type": "stream",
     "text": [
      "  1%|█▎                                                                                            | 789/55900 [02:18<1:33:59,  9.77it/s]"
     ]
    },
    {
     "name": "stdout",
     "output_type": "stream",
     "text": [
      "Extra data: line 18 column 1 (char 653)\n"
     ]
    },
    {
     "name": "stderr",
     "output_type": "stream",
     "text": [
      "  1%|█▎                                                                                            | 798/55900 [02:19<1:18:55, 11.64it/s]"
     ]
    },
    {
     "name": "stdout",
     "output_type": "stream",
     "text": [
      "Extra data: line 18 column 1 (char 622)\n",
      "Extra data: line 18 column 1 (char 678)\n",
      "Extra data: line 18 column 1 (char 603)\n",
      "Extra data: line 18 column 1 (char 702)\n",
      "Extra data: line 18 column 1 (char 753)\n"
     ]
    },
    {
     "name": "stderr",
     "output_type": "stream",
     "text": [
      "\r",
      "  1%|█▎                                                                                            | 800/55900 [02:19<1:25:33, 10.73it/s]"
     ]
    },
    {
     "name": "stdout",
     "output_type": "stream",
     "text": [
      "'NoneType' object is not subscriptable\n",
      "'NoneType' object is not subscriptable\n",
      "'NoneType' object is not subscriptable\n",
      "'NoneType' object is not subscriptable\n",
      "'NoneType' object is not subscriptable\n",
      "'NoneType' object is not subscriptable\n",
      "'NoneType' object is not subscriptable\n",
      "'NoneType' object is not subscriptable\n",
      "'NoneType' object is not subscriptable\n",
      "'NoneType' object is not subscriptable\n",
      "'NoneType' object is not subscriptable\n",
      "'NoneType' object is not subscriptable\n",
      "'NoneType' object is not subscriptable\n",
      "'NoneType' object is not subscriptable\n",
      "'NoneType' object is not subscriptable\n",
      "'NoneType' object is not subscriptable\n",
      "'NoneType' object is not subscriptable\n",
      "'NoneType' object is not subscriptable\n",
      "'NoneType' object is not subscriptable\n",
      "'NoneType' object is not subscriptable\n",
      "'NoneType' object is not subscriptable\n"
     ]
    },
    {
     "name": "stderr",
     "output_type": "stream",
     "text": [
      "  2%|█▍                                                                                            | 891/55900 [02:32<1:26:33, 10.59it/s]"
     ]
    },
    {
     "name": "stdout",
     "output_type": "stream",
     "text": [
      "Extra data: line 18 column 1 (char 666)\n"
     ]
    },
    {
     "name": "stderr",
     "output_type": "stream",
     "text": [
      "  2%|█▌                                                                                            | 900/55900 [02:33<1:53:34,  8.07it/s]"
     ]
    },
    {
     "name": "stdout",
     "output_type": "stream",
     "text": [
      "Extra data: line 18 column 1 (char 1508)\n",
      "Extra data: line 18 column 1 (char 712)\n"
     ]
    },
    {
     "name": "stderr",
     "output_type": "stream",
     "text": [
      "  2%|█▋                                                                                            | 995/55900 [02:48<1:21:37, 11.21it/s]"
     ]
    },
    {
     "name": "stdout",
     "output_type": "stream",
     "text": [
      "Extra data: line 18 column 1 (char 853)\n"
     ]
    },
    {
     "name": "stderr",
     "output_type": "stream",
     "text": [
      "  2%|█▋                                                                                           | 1000/55900 [02:49<1:04:24, 14.21it/s]"
     ]
    },
    {
     "name": "stdout",
     "output_type": "stream",
     "text": [
      "Extra data: line 18 column 1 (char 858)\n",
      "Extra data: line 18 column 1 (char 858)\n"
     ]
    },
    {
     "name": "stderr",
     "output_type": "stream",
     "text": [
      "  2%|█▉                                                                                             | 1123/55900 [03:06<19:26, 46.98it/s]"
     ]
    },
    {
     "name": "stdout",
     "output_type": "stream",
     "text": [
      "Extra data: line 18 column 1 (char 633)\n",
      "Extra data: line 18 column 1 (char 580)\n",
      "Extra data: line 18 column 1 (char 676)\n",
      "Extra data: line 18 column 1 (char 650)\n",
      "Extra data: line 18 column 1 (char 780)\n",
      "Extra data: line 18 column 1 (char 872)\n",
      "Extra data: line 18 column 1 (char 849)\n",
      "'NoneType' object is not subscriptable\n",
      "'NoneType' object is not subscriptable\n",
      "'NoneType' object is not subscriptable\n",
      "'NoneType' object is not subscriptable\n",
      "'NoneType' object is not subscriptable\n",
      "'NoneType' object is not subscriptable\n",
      "'NoneType' object is not subscriptable\n",
      "'NoneType' object is not subscriptable\n",
      "'NoneType' object is not subscriptable\n",
      "'NoneType' object is not subscriptable\n",
      "'NoneType' object is not subscriptable\n",
      "'NoneType' object is not subscriptable\n",
      "'NoneType' object is not subscriptable\n",
      "'NoneType' object is not subscriptable\n",
      "'NoneType' object is not subscriptable\n",
      "'NoneType' object is not subscriptable\n",
      "'NoneType' object is not subscriptable\n",
      "'NoneType' object is not subscriptable\n",
      "'NoneType' object is not subscriptable\n",
      "'NoneType' object is not subscriptable\n",
      "'NoneType' object is not subscriptable\n"
     ]
    },
    {
     "name": "stderr",
     "output_type": "stream",
     "text": [
      "  2%|█▉                                                                                           | 1186/55900 [03:19<2:39:40,  5.71it/s]"
     ]
    },
    {
     "name": "stdout",
     "output_type": "stream",
     "text": [
      "Extra data: line 7 column 1 (char 698)\n"
     ]
    },
    {
     "name": "stderr",
     "output_type": "stream",
     "text": [
      "  2%|█▉                                                                                           | 1192/55900 [03:20<3:56:46,  3.85it/s]"
     ]
    },
    {
     "name": "stdout",
     "output_type": "stream",
     "text": [
      "Extra data: line 7 column 1 (char 586)\n",
      "Extra data: line 18 column 1 (char 548)\n"
     ]
    },
    {
     "name": "stderr",
     "output_type": "stream",
     "text": [
      "\r",
      "  2%|█▉                                                                                           | 1195/55900 [03:21<2:49:12,  5.39it/s]"
     ]
    },
    {
     "name": "stdout",
     "output_type": "stream",
     "text": [
      "Extra data: line 18 column 1 (char 1299)\n",
      "Extra data: line 18 column 1 (char 757)\n"
     ]
    },
    {
     "name": "stderr",
     "output_type": "stream",
     "text": [
      "  2%|█▉                                                                                           | 1202/55900 [03:21<1:45:10,  8.67it/s]"
     ]
    },
    {
     "name": "stdout",
     "output_type": "stream",
     "text": [
      "'NoneType' object is not subscriptable\n",
      "Extra data: line 1 column 2 (char 1)\n"
     ]
    },
    {
     "name": "stderr",
     "output_type": "stream",
     "text": [
      "  2%|██                                                                                           | 1264/55900 [03:32<2:38:26,  5.75it/s]"
     ]
    },
    {
     "name": "stdout",
     "output_type": "stream",
     "text": [
      "Extra data: line 18 column 1 (char 568)\n"
     ]
    },
    {
     "name": "stderr",
     "output_type": "stream",
     "text": [
      "  2%|██▏                                                                                          | 1291/55900 [03:36<1:13:32, 12.38it/s]"
     ]
    },
    {
     "name": "stdout",
     "output_type": "stream",
     "text": [
      "Extra data: line 18 column 1 (char 806)\n",
      "Extra data: line 18 column 1 (char 807)\n",
      "Extra data: line 7 column 1 (char 848)\n"
     ]
    },
    {
     "name": "stderr",
     "output_type": "stream",
     "text": [
      "\r",
      "  2%|██▏                                                                                          | 1293/55900 [03:37<1:59:21,  7.63it/s]"
     ]
    },
    {
     "name": "stdout",
     "output_type": "stream",
     "text": [
      "Extra data: line 18 column 1 (char 995)\n"
     ]
    },
    {
     "name": "stderr",
     "output_type": "stream",
     "text": [
      "  2%|██▎                                                                                          | 1390/55900 [03:54<4:21:06,  3.48it/s]"
     ]
    },
    {
     "name": "stdout",
     "output_type": "stream",
     "text": [
      "Extra data: line 18 column 1 (char 984)\n",
      "Extra data: line 18 column 1 (char 685)\n",
      "Extra data: line 18 column 1 (char 696)\n",
      "Extra data: line 18 column 1 (char 785)\n",
      "Extra data: line 18 column 1 (char 676)\n",
      "Extra data: line 18 column 1 (char 846)\n",
      "Extra data: line 18 column 1 (char 749)\n",
      "Extra data: line 18 column 1 (char 853)\n",
      "Extra data: line 18 column 1 (char 651)\n"
     ]
    },
    {
     "name": "stderr",
     "output_type": "stream",
     "text": [
      "  3%|██▍                                                                                          | 1475/55900 [04:10<4:18:17,  3.51it/s]"
     ]
    },
    {
     "name": "stdout",
     "output_type": "stream",
     "text": [
      "Extra data: line 18 column 1 (char 613)\n"
     ]
    },
    {
     "name": "stderr",
     "output_type": "stream",
     "text": [
      "  3%|██▍                                                                                          | 1485/55900 [04:12<3:21:40,  4.50it/s]"
     ]
    },
    {
     "name": "stdout",
     "output_type": "stream",
     "text": [
      "Extra data: line 18 column 1 (char 629)\n"
     ]
    },
    {
     "name": "stderr",
     "output_type": "stream",
     "text": [
      "  3%|██▍                                                                                          | 1492/55900 [04:13<2:25:12,  6.24it/s]"
     ]
    },
    {
     "name": "stdout",
     "output_type": "stream",
     "text": [
      "Extra data: line 18 column 1 (char 483)\n",
      "Extra data: line 18 column 1 (char 708)\n",
      "Extra data: line 18 column 1 (char 619)\n",
      "Extra data: line 18 column 1 (char 789)\n",
      "Extra data: line 18 column 1 (char 812)\n",
      "Extra data: line 18 column 1 (char 941)\n"
     ]
    },
    {
     "name": "stderr",
     "output_type": "stream",
     "text": [
      "  3%|██▍                                                                                          | 1502/55900 [04:13<1:08:35, 13.22it/s]"
     ]
    },
    {
     "name": "stdout",
     "output_type": "stream",
     "text": [
      "Extra data: line 18 column 1 (char 972)\n"
     ]
    },
    {
     "name": "stderr",
     "output_type": "stream",
     "text": [
      "  3%|██▋                                                                                            | 1597/55900 [04:28<34:09, 26.50it/s]"
     ]
    },
    {
     "name": "stdout",
     "output_type": "stream",
     "text": [
      "Extra data: line 18 column 1 (char 819)\n",
      "Extra data: line 18 column 1 (char 1102)\n",
      "Extra data: line 18 column 1 (char 1128)\n",
      "Extra data: line 18 column 1 (char 757)\n",
      "Extra data: line 18 column 1 (char 757)\n",
      "Extra data: line 18 column 1 (char 660)\n",
      "Extra data: line 7 column 1 (char 1024)\n",
      "Extra data: line 18 column 1 (char 655)\n",
      "Extra data: line 18 column 1 (char 811)\n",
      "Extra data: line 7 column 1 (char 859)\n",
      "Extra data: line 7 column 1 (char 859)\n",
      "Extra data: line 18 column 1 (char 950)\n",
      "Extra data: line 7 column 1 (char 1018)\n"
     ]
    },
    {
     "name": "stderr",
     "output_type": "stream",
     "text": [
      "\r",
      "  3%|██▋                                                                                            | 1601/55900 [04:28<33:13, 27.23it/s]"
     ]
    },
    {
     "name": "stdout",
     "output_type": "stream",
     "text": [
      "Extra data: line 18 column 1 (char 954)\n",
      "'NoneType' object is not subscriptable\n"
     ]
    },
    {
     "name": "stderr",
     "output_type": "stream",
     "text": [
      "  3%|██▉                                                                                            | 1692/55900 [04:48<47:46, 18.91it/s]"
     ]
    },
    {
     "name": "stdout",
     "output_type": "stream",
     "text": [
      "Extra data: line 18 column 1 (char 786)\n",
      "Extra data: line 18 column 1 (char 747)\n",
      "Extra data: line 18 column 1 (char 674)\n",
      "Extra data: line 18 column 1 (char 709)\n",
      "Extra data: line 18 column 1 (char 643)\n",
      "Extra data: line 18 column 1 (char 761)\n",
      "Extra data: line 18 column 1 (char 1085)\n",
      "Extra data: line 18 column 1 (char 593)\n",
      "Extra data: line 18 column 1 (char 993)\n",
      "Extra data: line 18 column 1 (char 721)\n",
      "Extra data: line 18 column 1 (char 733)\n",
      "Extra data: line 18 column 1 (char 638)\n",
      "Extra data: line 18 column 1 (char 841)\n",
      "Extra data: line 18 column 1 (char 919)\n",
      "Extra data: line 18 column 1 (char 840)\n",
      "Extra data: line 18 column 1 (char 975)\n",
      "Extra data: line 18 column 1 (char 919)\n",
      "Extra data: line 18 column 1 (char 772)\n",
      "Extra data: line 18 column 1 (char 1240)\n"
     ]
    },
    {
     "name": "stderr",
     "output_type": "stream",
     "text": [
      "  3%|███▏                                                                                         | 1889/55900 [05:20<2:03:56,  7.26it/s]"
     ]
    },
    {
     "name": "stdout",
     "output_type": "stream",
     "text": [
      "Extra data: line 7 column 1 (char 665)\n"
     ]
    },
    {
     "name": "stderr",
     "output_type": "stream",
     "text": [
      "  3%|███▏                                                                                         | 1901/55900 [05:21<1:13:33, 12.24it/s]"
     ]
    },
    {
     "name": "stdout",
     "output_type": "stream",
     "text": [
      "Extra data: line 18 column 1 (char 827)\n",
      "Extra data: line 18 column 1 (char 827)\n",
      "Extra data: line 18 column 1 (char 943)\n"
     ]
    },
    {
     "name": "stderr",
     "output_type": "stream",
     "text": [
      "  4%|███▎                                                                                         | 1964/55900 [05:30<1:05:42, 13.68it/s]"
     ]
    },
    {
     "name": "stdout",
     "output_type": "stream",
     "text": [
      "Extra data: line 18 column 1 (char 1246)\n",
      "Extra data: line 18 column 1 (char 1246)\n",
      "Extra data: line 18 column 1 (char 1246)\n",
      "Extra data: line 18 column 1 (char 1246)\n",
      "Extra data: line 18 column 1 (char 1246)\n",
      "Extra data: line 18 column 1 (char 1246)\n"
     ]
    },
    {
     "name": "stderr",
     "output_type": "stream",
     "text": [
      "  4%|███▎                                                                                         | 1968/55900 [05:31<1:00:32, 14.85it/s]"
     ]
    },
    {
     "name": "stdout",
     "output_type": "stream",
     "text": [
      "Extra data: line 18 column 1 (char 1061)\n",
      "Extra data: line 18 column 1 (char 1061)\n",
      "Extra data: line 18 column 1 (char 1061)\n",
      "Extra data: line 18 column 1 (char 1061)\n",
      "Extra data: line 18 column 1 (char 1061)\n",
      "Extra data: line 18 column 1 (char 1075)\n",
      "Extra data: line 18 column 1 (char 1061)\n",
      "Extra data: line 18 column 1 (char 1061)\n",
      "Extra data: line 18 column 1 (char 1061)\n",
      "Extra data: line 18 column 1 (char 1027)\n",
      "Extra data: line 18 column 1 (char 1061)\n",
      "Extra data: line 18 column 1 (char 1061)\n",
      "Extra data: line 18 column 1 (char 1061)\n",
      "Extra data: line 18 column 1 (char 1061)\n",
      "Extra data: line 18 column 1 (char 1061)\n",
      "Extra data: line 18 column 1 (char 1061)\n",
      "Extra data: line 18 column 1 (char 1061)\n",
      "Extra data: line 18 column 1 (char 1061)\n",
      "Extra data: line 18 column 1 (char 1065)\n",
      "Extra data: line 18 column 1 (char 1061)\n",
      "Extra data: line 18 column 1 (char 1061)\n",
      "Extra data: line 18 column 1 (char 1061)\n",
      "Extra data: line 18 column 1 (char 1083)\n",
      "Extra data: line 18 column 1 (char 1061)\n",
      "Extra data: line 18 column 1 (char 1240)\n",
      "Extra data: line 18 column 1 (char 1061)\n",
      "Extra data: line 18 column 1 (char 1240)\n",
      "Extra data: line 18 column 1 (char 1240)\n",
      "Extra data: line 18 column 1 (char 1240)\n",
      "Extra data: line 18 column 1 (char 1240)\n",
      "Extra data: line 18 column 1 (char 1027)\n",
      "Extra data: line 18 column 1 (char 1027)\n",
      "Extra data: line 18 column 1 (char 1043)\n"
     ]
    },
    {
     "name": "stderr",
     "output_type": "stream",
     "text": [
      "  4%|███▍                                                                                         | 2091/55900 [05:45<2:23:08,  6.27it/s]"
     ]
    },
    {
     "name": "stdout",
     "output_type": "stream",
     "text": [
      "Extra data: line 18 column 1 (char 639)\n"
     ]
    },
    {
     "name": "stderr",
     "output_type": "stream",
     "text": [
      "\r",
      "  4%|███▍                                                                                         | 2093/55900 [05:46<2:14:56,  6.65it/s]"
     ]
    },
    {
     "name": "stdout",
     "output_type": "stream",
     "text": [
      "Extra data: line 18 column 1 (char 1126)\n",
      "Extra data: line 18 column 1 (char 842)\n",
      "Extra data: line 18 column 1 (char 855)\n"
     ]
    },
    {
     "name": "stderr",
     "output_type": "stream",
     "text": [
      "  4%|███▋                                                                                         | 2192/55900 [06:02<3:56:13,  3.79it/s]"
     ]
    },
    {
     "name": "stdout",
     "output_type": "stream",
     "text": [
      "Extra data: line 18 column 1 (char 975)\n",
      "Extra data: line 18 column 1 (char 1013)\n",
      "Extra data: line 18 column 1 (char 853)\n",
      "Extra data: line 18 column 1 (char 809)\n",
      "Extra data: line 18 column 1 (char 760)\n",
      "Extra data: line 18 column 1 (char 854)\n",
      "Extra data: line 18 column 1 (char 669)\n"
     ]
    },
    {
     "name": "stderr",
     "output_type": "stream",
     "text": [
      "  4%|███▊                                                                                         | 2298/55900 [06:19<1:27:06, 10.25it/s]"
     ]
    },
    {
     "name": "stdout",
     "output_type": "stream",
     "text": [
      "Extra data: line 18 column 1 (char 677)\n",
      "Extra data: line 18 column 1 (char 614)\n",
      "Extra data: line 18 column 1 (char 711)\n"
     ]
    },
    {
     "name": "stderr",
     "output_type": "stream",
     "text": [
      "  4%|███▉                                                                                         | 2394/55900 [06:35<2:52:34,  5.17it/s]"
     ]
    },
    {
     "name": "stdout",
     "output_type": "stream",
     "text": [
      "Extra data: line 18 column 1 (char 1085)\n",
      "Extra data: line 7 column 1 (char 665)\n",
      "Extra data: line 18 column 1 (char 1025)\n"
     ]
    },
    {
     "name": "stderr",
     "output_type": "stream",
     "text": [
      "  4%|████▏                                                                                        | 2493/55900 [06:54<2:26:11,  6.09it/s]"
     ]
    },
    {
     "name": "stdout",
     "output_type": "stream",
     "text": [
      "Extra data: line 18 column 1 (char 1014)\n"
     ]
    },
    {
     "name": "stderr",
     "output_type": "stream",
     "text": [
      "\r",
      "  4%|████▏                                                                                        | 2495/55900 [06:54<2:13:54,  6.65it/s]"
     ]
    },
    {
     "name": "stdout",
     "output_type": "stream",
     "text": [
      "Extra data: line 18 column 1 (char 857)\n"
     ]
    },
    {
     "name": "stderr",
     "output_type": "stream",
     "text": [
      "  5%|████▎                                                                                        | 2594/55900 [07:11<3:10:10,  4.67it/s]"
     ]
    },
    {
     "name": "stdout",
     "output_type": "stream",
     "text": [
      "Extra data: line 18 column 1 (char 853)\n"
     ]
    },
    {
     "name": "stderr",
     "output_type": "stream",
     "text": [
      "  5%|████▍                                                                                        | 2695/55900 [07:28<1:38:30,  9.00it/s]"
     ]
    },
    {
     "name": "stdout",
     "output_type": "stream",
     "text": [
      "Extra data: line 18 column 1 (char 846)\n",
      "Extra data: line 18 column 1 (char 857)\n",
      "Extra data: line 18 column 1 (char 853)\n"
     ]
    },
    {
     "name": "stderr",
     "output_type": "stream",
     "text": [
      "  5%|████▋                                                                                        | 2800/55900 [07:47<1:16:06, 11.63it/s]"
     ]
    },
    {
     "name": "stdout",
     "output_type": "stream",
     "text": [
      "Extra data: line 18 column 1 (char 627)\n",
      "Extra data: line 18 column 1 (char 1014)\n",
      "Extra data: line 18 column 1 (char 647)\n",
      "Extra data: line 18 column 1 (char 548)\n",
      "Extra data: line 18 column 1 (char 772)\n"
     ]
    },
    {
     "name": "stderr",
     "output_type": "stream",
     "text": [
      "  5%|████▊                                                                                        | 2898/55900 [08:08<3:42:06,  3.98it/s]"
     ]
    },
    {
     "name": "stdout",
     "output_type": "stream",
     "text": [
      "Extra data: line 18 column 1 (char 832)\n",
      "Extra data: line 18 column 1 (char 642)\n"
     ]
    },
    {
     "name": "stderr",
     "output_type": "stream",
     "text": [
      "  5%|████▉                                                                                        | 2991/55900 [08:28<2:28:22,  5.94it/s]"
     ]
    },
    {
     "name": "stdout",
     "output_type": "stream",
     "text": [
      "Extra data: line 18 column 1 (char 677)\n"
     ]
    },
    {
     "name": "stderr",
     "output_type": "stream",
     "text": [
      "  5%|████▉                                                                                        | 3001/55900 [08:29<1:13:49, 11.94it/s]"
     ]
    },
    {
     "name": "stdout",
     "output_type": "stream",
     "text": [
      "Extra data: line 18 column 1 (char 576)\n",
      "Extra data: line 18 column 1 (char 584)\n",
      "Extra data: line 18 column 1 (char 907)\n",
      "Extra data: line 18 column 1 (char 876)\n"
     ]
    },
    {
     "name": "stderr",
     "output_type": "stream",
     "text": [
      "  5%|█████                                                                                        | 3071/55900 [08:43<4:23:58,  3.34it/s]"
     ]
    },
    {
     "name": "stdout",
     "output_type": "stream",
     "text": [
      "Extra data: line 18 column 1 (char 389)\n"
     ]
    },
    {
     "name": "stderr",
     "output_type": "stream",
     "text": [
      "  6%|█████▏                                                                                       | 3085/55900 [08:44<2:01:09,  7.26it/s]"
     ]
    },
    {
     "name": "stdout",
     "output_type": "stream",
     "text": [
      "Extra data: line 18 column 1 (char 657)\n"
     ]
    },
    {
     "name": "stderr",
     "output_type": "stream",
     "text": [
      "  6%|█████▏                                                                                       | 3091/55900 [08:45<1:18:33, 11.20it/s]"
     ]
    },
    {
     "name": "stdout",
     "output_type": "stream",
     "text": [
      "Extra data: line 18 column 1 (char 799)\n"
     ]
    },
    {
     "name": "stderr",
     "output_type": "stream",
     "text": [
      "\r",
      "  6%|█████▏                                                                                       | 3093/55900 [08:45<1:19:22, 11.09it/s]"
     ]
    },
    {
     "name": "stdout",
     "output_type": "stream",
     "text": [
      "Extra data: line 18 column 1 (char 676)\n"
     ]
    },
    {
     "name": "stderr",
     "output_type": "stream",
     "text": [
      "  6%|█████▎                                                                                         | 3102/55900 [08:45<50:08, 17.55it/s]"
     ]
    },
    {
     "name": "stdout",
     "output_type": "stream",
     "text": [
      "Extra data: line 18 column 1 (char 676)\n",
      "Extra data: line 18 column 1 (char 686)\n",
      "Extra data: line 18 column 1 (char 677)\n",
      "Extra data: line 18 column 1 (char 633)\n",
      "Extra data: line 18 column 1 (char 602)\n",
      "Extra data: line 18 column 1 (char 908)\n"
     ]
    },
    {
     "name": "stderr",
     "output_type": "stream",
     "text": [
      "  6%|█████▎                                                                                       | 3196/55900 [09:03<3:33:48,  4.11it/s]"
     ]
    },
    {
     "name": "stdout",
     "output_type": "stream",
     "text": [
      "Extra data: line 18 column 1 (char 981)\n"
     ]
    },
    {
     "name": "stderr",
     "output_type": "stream",
     "text": [
      "  6%|█████▍                                                                                       | 3292/55900 [09:20<2:52:46,  5.07it/s]"
     ]
    },
    {
     "name": "stdout",
     "output_type": "stream",
     "text": [
      "Extra data: line 18 column 1 (char 654)\n"
     ]
    },
    {
     "name": "stderr",
     "output_type": "stream",
     "text": [
      "  6%|█████▊                                                                                       | 3492/55900 [09:57<2:26:55,  5.94it/s]"
     ]
    },
    {
     "name": "stdout",
     "output_type": "stream",
     "text": [
      "Extra data: line 18 column 1 (char 969)\n",
      "Extra data: line 18 column 1 (char 969)\n"
     ]
    },
    {
     "name": "stderr",
     "output_type": "stream",
     "text": [
      "  6%|█████▊                                                                                       | 3499/55900 [09:57<1:12:00, 12.13it/s]"
     ]
    },
    {
     "name": "stdout",
     "output_type": "stream",
     "text": [
      "Extra data: line 18 column 1 (char 1062)\n"
     ]
    },
    {
     "name": "stderr",
     "output_type": "stream",
     "text": [
      "  6%|█████▉                                                                                       | 3579/55900 [10:12<3:04:19,  4.73it/s]"
     ]
    },
    {
     "name": "stdout",
     "output_type": "stream",
     "text": [
      "Extra data: line 18 column 1 (char 854)\n",
      "Extra data: line 18 column 1 (char 797)\n"
     ]
    },
    {
     "name": "stderr",
     "output_type": "stream",
     "text": [
      "\r",
      "  6%|█████▉                                                                                       | 3583/55900 [10:12<1:55:20,  7.56it/s]"
     ]
    },
    {
     "name": "stdout",
     "output_type": "stream",
     "text": [
      "Extra data: line 18 column 1 (char 1010)\n",
      "Extra data: line 18 column 1 (char 918)\n",
      "Extra data: line 18 column 1 (char 1102)\n",
      "Extra data: line 18 column 1 (char 900)\n",
      "Extra data: line 18 column 1 (char 640)\n"
     ]
    },
    {
     "name": "stderr",
     "output_type": "stream",
     "text": [
      "\r",
      "  6%|█████▉                                                                                       | 3589/55900 [10:13<1:11:36, 12.18it/s]"
     ]
    },
    {
     "name": "stdout",
     "output_type": "stream",
     "text": [
      "Extra data: line 18 column 1 (char 873)\n",
      "Extra data: line 18 column 1 (char 811)\n",
      "Extra data: line 18 column 1 (char 811)\n",
      "Extra data: line 18 column 1 (char 640)\n",
      "Extra data: line 7 column 1 (char 859)\n",
      "Extra data: line 18 column 1 (char 950)\n"
     ]
    },
    {
     "name": "stderr",
     "output_type": "stream",
     "text": [
      "\r",
      "  6%|██████                                                                                         | 3596/55900 [10:13<53:41, 16.24it/s]"
     ]
    },
    {
     "name": "stdout",
     "output_type": "stream",
     "text": [
      "Extra data: line 18 column 1 (char 1340)\n",
      "Extra data: line 7 column 1 (char 1024)\n",
      "Extra data: line 7 column 1 (char 884)\n"
     ]
    },
    {
     "name": "stderr",
     "output_type": "stream",
     "text": [
      "  7%|██████▏                                                                                       | 3701/55900 [10:17<06:56, 125.32it/s]"
     ]
    },
    {
     "name": "stdout",
     "output_type": "stream",
     "text": [
      "Extra data: line 18 column 1 (char 1126)\n",
      "Extra data: line 18 column 1 (char 1126)\n",
      "Extra data: line 18 column 1 (char 1126)\n",
      "Extra data: line 18 column 1 (char 1126)\n",
      "Extra data: line 18 column 1 (char 1126)\n",
      "Extra data: line 18 column 1 (char 1126)\n",
      "Extra data: line 18 column 1 (char 1126)\n",
      "Extra data: line 18 column 1 (char 1126)\n",
      "Extra data: line 18 column 1 (char 1126)\n",
      "Extra data: line 18 column 1 (char 1126)\n",
      "Extra data: line 18 column 1 (char 1126)\n",
      "Extra data: line 18 column 1 (char 1126)\n",
      "Extra data: line 18 column 1 (char 1126)\n",
      "Extra data: line 18 column 1 (char 1126)\n",
      "Extra data: line 18 column 1 (char 1126)\n",
      "Extra data: line 18 column 1 (char 1126)\n",
      "Extra data: line 18 column 1 (char 1126)\n",
      "Extra data: line 18 column 1 (char 1126)\n",
      "Extra data: line 18 column 1 (char 1126)\n",
      "Extra data: line 18 column 1 (char 1126)\n",
      "Extra data: line 18 column 1 (char 1126)\n",
      "Extra data: line 18 column 1 (char 1126)\n",
      "Extra data: line 18 column 1 (char 1126)\n",
      "Extra data: line 18 column 1 (char 1126)\n",
      "Extra data: line 18 column 1 (char 1126)\n",
      "Extra data: line 18 column 1 (char 1126)\n",
      "Extra data: line 18 column 1 (char 1126)\n",
      "Extra data: line 18 column 1 (char 1126)\n",
      "Extra data: line 18 column 1 (char 1126)\n",
      "Extra data: line 18 column 1 (char 1126)\n",
      "Extra data: line 18 column 1 (char 1126)\n",
      "Extra data: line 18 column 1 (char 1126)\n",
      "Extra data: line 18 column 1 (char 1126)\n",
      "Extra data: line 18 column 1 (char 1126)\n",
      "Extra data: line 18 column 1 (char 1126)\n",
      "Extra data: line 18 column 1 (char 1126)\n",
      "Extra data: line 18 column 1 (char 1126)\n",
      "Extra data: line 18 column 1 (char 1126)\n",
      "Extra data: line 18 column 1 (char 1126)\n",
      "Extra data: line 18 column 1 (char 1126)\n",
      "Extra data: line 18 column 1 (char 1126)\n",
      "Extra data: line 18 column 1 (char 1126)\n",
      "Extra data: line 18 column 1 (char 1126)\n",
      "Extra data: line 18 column 1 (char 1126)\n",
      "Extra data: line 18 column 1 (char 1126)\n",
      "Extra data: line 18 column 1 (char 1126)\n",
      "Extra data: line 18 column 1 (char 1126)\n",
      "Extra data: line 18 column 1 (char 1126)\n",
      "Extra data: line 18 column 1 (char 1126)\n",
      "Extra data: line 18 column 1 (char 1126)\n",
      "Extra data: line 18 column 1 (char 1126)\n",
      "Extra data: line 18 column 1 (char 1126)\n",
      "Extra data: line 18 column 1 (char 1126)\n",
      "Extra data: line 18 column 1 (char 1126)\n",
      "Extra data: line 18 column 1 (char 1126)\n",
      "Extra data: line 18 column 1 (char 1126)\n",
      "Extra data: line 18 column 1 (char 1126)\n",
      "Extra data: line 18 column 1 (char 1126)\n",
      "Extra data: line 18 column 1 (char 1126)\n",
      "Extra data: line 18 column 1 (char 1126)\n",
      "Extra data: line 18 column 1 (char 1126)\n",
      "Extra data: line 18 column 1 (char 1126)\n",
      "Extra data: line 18 column 1 (char 1126)\n",
      "Extra data: line 18 column 1 (char 1126)\n",
      "Extra data: line 18 column 1 (char 1126)\n",
      "Extra data: line 18 column 1 (char 1126)\n",
      "Extra data: line 18 column 1 (char 1126)\n",
      "Extra data: line 18 column 1 (char 1113)\n",
      "Extra data: line 18 column 1 (char 1126)\n",
      "Extra data: line 18 column 1 (char 1126)\n",
      "Extra data: line 18 column 1 (char 1126)\n",
      "Extra data: line 18 column 1 (char 1126)\n",
      "Extra data: line 18 column 1 (char 1126)\n",
      "Extra data: line 18 column 1 (char 1235)\n",
      "Extra data: line 18 column 1 (char 1126)\n"
     ]
    },
    {
     "name": "stderr",
     "output_type": "stream",
     "text": [
      "  7%|██████▎                                                                                      | 3797/55900 [10:35<2:24:10,  6.02it/s]"
     ]
    },
    {
     "name": "stdout",
     "output_type": "stream",
     "text": [
      "Extra data: line 18 column 1 (char 614)\n",
      "Extra data: line 18 column 1 (char 737)\n",
      "Extra data: line 18 column 1 (char 677)\n"
     ]
    },
    {
     "name": "stderr",
     "output_type": "stream",
     "text": [
      "  7%|██████▍                                                                                      | 3891/55900 [10:51<1:51:30,  7.77it/s]"
     ]
    },
    {
     "name": "stdout",
     "output_type": "stream",
     "text": [
      "Extra data: line 18 column 1 (char 857)\n"
     ]
    },
    {
     "name": "stderr",
     "output_type": "stream",
     "text": [
      "  7%|██████▍                                                                                      | 3896/55900 [10:51<2:05:04,  6.93it/s]"
     ]
    },
    {
     "name": "stdout",
     "output_type": "stream",
     "text": [
      "Extra data: line 18 column 1 (char 875)\n"
     ]
    },
    {
     "name": "stderr",
     "output_type": "stream",
     "text": [
      "  7%|██████▋                                                                                      | 3988/55900 [11:09<2:11:46,  6.57it/s]"
     ]
    },
    {
     "name": "stdout",
     "output_type": "stream",
     "text": [
      "Extra data: line 7 column 1 (char 665)\n"
     ]
    },
    {
     "name": "stderr",
     "output_type": "stream",
     "text": [
      "  7%|██████▋                                                                                      | 3998/55900 [11:11<2:58:11,  4.85it/s]"
     ]
    },
    {
     "name": "stdout",
     "output_type": "stream",
     "text": [
      "Extra data: line 18 column 1 (char 943)\n",
      "Extra data: line 18 column 1 (char 1068)\n"
     ]
    },
    {
     "name": "stderr",
     "output_type": "stream",
     "text": [
      "  7%|██████▉                                                                                      | 4188/55900 [11:45<3:56:42,  3.64it/s]"
     ]
    },
    {
     "name": "stdout",
     "output_type": "stream",
     "text": [
      "Extra data: line 18 column 1 (char 1273)\n",
      "Extra data: line 18 column 1 (char 1140)\n",
      "Extra data: line 18 column 1 (char 1140)\n",
      "Extra data: line 18 column 1 (char 1140)\n"
     ]
    },
    {
     "name": "stderr",
     "output_type": "stream",
     "text": [
      "  8%|██████▉                                                                                      | 4197/55900 [11:46<2:15:50,  6.34it/s]"
     ]
    },
    {
     "name": "stdout",
     "output_type": "stream",
     "text": [
      "Extra data: line 18 column 1 (char 1235)\n",
      "Extra data: line 18 column 1 (char 1140)\n"
     ]
    },
    {
     "name": "stderr",
     "output_type": "stream",
     "text": [
      "  8%|███████▏                                                                                     | 4287/55900 [12:03<4:50:49,  2.96it/s]"
     ]
    },
    {
     "name": "stdout",
     "output_type": "stream",
     "text": [
      "Extra data: line 18 column 1 (char 530)\n",
      "Extra data: line 18 column 1 (char 639)\n",
      "Extra data: line 18 column 1 (char 645)\n",
      "Extra data: line 18 column 1 (char 519)\n",
      "Extra data: line 18 column 1 (char 711)\n",
      "Extra data: line 18 column 1 (char 604)\n",
      "Extra data: line 18 column 1 (char 782)\n",
      "Extra data: line 18 column 1 (char 709)\n"
     ]
    },
    {
     "name": "stderr",
     "output_type": "stream",
     "text": [
      "  8%|███████▎                                                                                       | 4303/55900 [12:03<55:51, 15.40it/s]"
     ]
    },
    {
     "name": "stdout",
     "output_type": "stream",
     "text": [
      "Extra data: line 18 column 1 (char 1024)\n",
      "Extra data: line 18 column 1 (char 1015)\n",
      "Extra data: line 18 column 1 (char 1571)\n"
     ]
    },
    {
     "name": "stderr",
     "output_type": "stream",
     "text": [
      "  8%|███████▎                                                                                     | 4389/55900 [12:17<1:41:45,  8.44it/s]"
     ]
    },
    {
     "name": "stdout",
     "output_type": "stream",
     "text": [
      "Extra data: line 7 column 1 (char 665)\n"
     ]
    },
    {
     "name": "stderr",
     "output_type": "stream",
     "text": [
      "  9%|███████▉                                                                                     | 4794/55900 [13:31<2:15:57,  6.26it/s]"
     ]
    },
    {
     "name": "stdout",
     "output_type": "stream",
     "text": [
      "Extra data: line 18 column 1 (char 882)\n"
     ]
    },
    {
     "name": "stderr",
     "output_type": "stream",
     "text": [
      "\r",
      "  9%|███████▉                                                                                     | 4796/55900 [13:31<2:01:13,  7.03it/s]"
     ]
    },
    {
     "name": "stdout",
     "output_type": "stream",
     "text": [
      "Extra data: line 18 column 1 (char 762)\n"
     ]
    },
    {
     "name": "stderr",
     "output_type": "stream",
     "text": [
      "  9%|████████▏                                                                                    | 4888/55900 [13:47<2:11:54,  6.45it/s]"
     ]
    },
    {
     "name": "stdout",
     "output_type": "stream",
     "text": [
      "Extra data: line 18 column 1 (char 1091)\n"
     ]
    },
    {
     "name": "stderr",
     "output_type": "stream",
     "text": [
      "  9%|████████▏                                                                                    | 4894/55900 [13:48<1:39:08,  8.58it/s]"
     ]
    },
    {
     "name": "stdout",
     "output_type": "stream",
     "text": [
      "Extra data: line 18 column 1 (char 698)\n",
      "Extra data: line 18 column 1 (char 979)\n"
     ]
    },
    {
     "name": "stderr",
     "output_type": "stream",
     "text": [
      "  9%|████████▎                                                                                    | 4994/55900 [14:00<1:46:26,  7.97it/s]"
     ]
    },
    {
     "name": "stdout",
     "output_type": "stream",
     "text": [
      "Extra data: line 18 column 1 (char 1082)\n"
     ]
    },
    {
     "name": "stderr",
     "output_type": "stream",
     "text": [
      "  9%|████████▍                                                                                    | 5072/55900 [14:09<1:19:29, 10.66it/s]"
     ]
    },
    {
     "name": "stdout",
     "output_type": "stream",
     "text": [
      "Extra data: line 18 column 1 (char 558)\n"
     ]
    },
    {
     "name": "stderr",
     "output_type": "stream",
     "text": [
      "  9%|████████▋                                                                                      | 5099/55900 [14:12<37:53, 22.35it/s]"
     ]
    },
    {
     "name": "stdout",
     "output_type": "stream",
     "text": [
      "Extra data: line 18 column 1 (char 796)\n",
      "Extra data: line 18 column 1 (char 628)\n",
      "Extra data: line 18 column 1 (char 584)\n",
      "Extra data: line 18 column 1 (char 598)\n",
      "Extra data: line 18 column 1 (char 1211)\n",
      "Extra data: line 18 column 1 (char 650)\n",
      "Extra data: line 18 column 1 (char 620)\n",
      "Extra data: line 18 column 1 (char 641)\n",
      "Extra data: line 18 column 1 (char 811)\n"
     ]
    },
    {
     "name": "stderr",
     "output_type": "stream",
     "text": [
      "  9%|████████▋                                                                                    | 5201/55900 [14:30<1:46:09,  7.96it/s]"
     ]
    },
    {
     "name": "stdout",
     "output_type": "stream",
     "text": [
      "Extra data: line 18 column 1 (char 747)\n",
      "Extra data: line 18 column 1 (char 731)\n"
     ]
    },
    {
     "name": "stderr",
     "output_type": "stream",
     "text": [
      " 10%|████████▉                                                                                    | 5397/55900 [15:05<2:28:39,  5.66it/s]"
     ]
    },
    {
     "name": "stdout",
     "output_type": "stream",
     "text": [
      "Extra data: line 18 column 1 (char 527)\n",
      "Extra data: line 18 column 1 (char 783)\n"
     ]
    },
    {
     "name": "stderr",
     "output_type": "stream",
     "text": [
      " 10%|█████████▏                                                                                   | 5498/55900 [15:23<1:28:28,  9.50it/s]"
     ]
    },
    {
     "name": "stdout",
     "output_type": "stream",
     "text": [
      "Extra data: line 18 column 1 (char 853)\n",
      "Extra data: line 18 column 1 (char 926)\n"
     ]
    },
    {
     "name": "stderr",
     "output_type": "stream",
     "text": [
      " 10%|█████████▎                                                                                   | 5601/55900 [15:39<1:30:41,  9.24it/s]"
     ]
    },
    {
     "name": "stdout",
     "output_type": "stream",
     "text": [
      "Extra data: line 18 column 1 (char 489)\n",
      "Extra data: line 18 column 1 (char 574)\n",
      "Extra data: line 18 column 1 (char 771)\n",
      "Extra data: line 18 column 1 (char 837)\n"
     ]
    },
    {
     "name": "stderr",
     "output_type": "stream",
     "text": [
      " 10%|█████████▍                                                                                   | 5697/55900 [15:58<2:47:03,  5.01it/s]"
     ]
    },
    {
     "name": "stdout",
     "output_type": "stream",
     "text": [
      "Extra data: line 18 column 1 (char 786)\n",
      "Extra data: line 18 column 1 (char 713)\n"
     ]
    },
    {
     "name": "stderr",
     "output_type": "stream",
     "text": [
      " 10%|█████████▋                                                                                   | 5795/55900 [16:15<2:12:20,  6.31it/s]"
     ]
    },
    {
     "name": "stdout",
     "output_type": "stream",
     "text": [
      "Extra data: line 18 column 1 (char 619)\n",
      "Extra data: line 18 column 1 (char 790)\n",
      "Extra data: line 18 column 1 (char 820)\n",
      "Extra data: line 18 column 1 (char 807)\n"
     ]
    },
    {
     "name": "stderr",
     "output_type": "stream",
     "text": [
      " 11%|█████████▊                                                                                   | 5887/55900 [16:30<3:17:04,  4.23it/s]"
     ]
    },
    {
     "name": "stdout",
     "output_type": "stream",
     "text": [
      "Extra data: line 18 column 1 (char 1151)\n"
     ]
    },
    {
     "name": "stderr",
     "output_type": "stream",
     "text": [
      " 11%|█████████▊                                                                                   | 5891/55900 [16:31<2:08:27,  6.49it/s]"
     ]
    },
    {
     "name": "stdout",
     "output_type": "stream",
     "text": [
      "Extra data: line 18 column 1 (char 1210)\n"
     ]
    },
    {
     "name": "stderr",
     "output_type": "stream",
     "text": [
      " 11%|█████████▊                                                                                   | 5901/55900 [16:32<1:16:28, 10.90it/s]"
     ]
    },
    {
     "name": "stdout",
     "output_type": "stream",
     "text": [
      "Extra data: line 18 column 1 (char 1030)\n",
      "Extra data: line 18 column 1 (char 1151)\n",
      "Extra data: line 18 column 1 (char 1151)\n",
      "Extra data: line 18 column 1 (char 1119)\n",
      "Extra data: line 18 column 1 (char 1136)\n"
     ]
    },
    {
     "name": "stderr",
     "output_type": "stream",
     "text": [
      " 11%|█████████▉                                                                                   | 5999/55900 [16:52<2:05:35,  6.62it/s]"
     ]
    },
    {
     "name": "stdout",
     "output_type": "stream",
     "text": [
      "Extra data: line 18 column 1 (char 926)\n"
     ]
    },
    {
     "name": "stderr",
     "output_type": "stream",
     "text": [
      " 11%|██████████                                                                                   | 6085/55900 [17:08<2:31:48,  5.47it/s]"
     ]
    },
    {
     "name": "stdout",
     "output_type": "stream",
     "text": [
      "Extra data: line 18 column 1 (char 611)\n"
     ]
    },
    {
     "name": "stderr",
     "output_type": "stream",
     "text": [
      " 11%|██████████▏                                                                                  | 6099/55900 [17:10<1:04:53, 12.79it/s]"
     ]
    },
    {
     "name": "stdout",
     "output_type": "stream",
     "text": [
      "Extra data: line 18 column 1 (char 719)\n",
      "Extra data: line 18 column 1 (char 830)\n",
      "Extra data: line 18 column 1 (char 886)\n",
      "Extra data: line 18 column 1 (char 584)\n",
      "Extra data: line 18 column 1 (char 1043)\n"
     ]
    },
    {
     "name": "stderr",
     "output_type": "stream",
     "text": [
      " 11%|██████████▍                                                                                  | 6284/55900 [17:43<1:24:46,  9.75it/s]"
     ]
    },
    {
     "name": "stdout",
     "output_type": "stream",
     "text": [
      "Extra data: line 7 column 1 (char 664)\n"
     ]
    },
    {
     "name": "stderr",
     "output_type": "stream",
     "text": [
      " 11%|██████████▍                                                                                  | 6297/55900 [17:44<1:38:50,  8.36it/s]"
     ]
    },
    {
     "name": "stdout",
     "output_type": "stream",
     "text": [
      "Extra data: line 18 column 1 (char 969)\n",
      "Extra data: line 18 column 1 (char 895)\n",
      "Extra data: line 18 column 1 (char 775)\n"
     ]
    },
    {
     "name": "stderr",
     "output_type": "stream",
     "text": [
      " 11%|██████████▋                                                                                  | 6387/55900 [17:58<1:40:29,  8.21it/s]"
     ]
    },
    {
     "name": "stdout",
     "output_type": "stream",
     "text": [
      "Extra data: line 18 column 1 (char 871)\n"
     ]
    },
    {
     "name": "stderr",
     "output_type": "stream",
     "text": [
      " 11%|██████████▊                                                                                    | 6395/55900 [17:59<56:21, 14.64it/s]"
     ]
    },
    {
     "name": "stdout",
     "output_type": "stream",
     "text": [
      "Extra data: line 18 column 1 (char 1244)\n",
      "Extra data: line 18 column 1 (char 777)\n",
      "Extra data: line 18 column 1 (char 1244)\n",
      "Extra data: line 18 column 1 (char 757)\n",
      "Expecting ',' delimiter: line 9 column 125 (char 484)\n",
      "Extra data: line 18 column 1 (char 871)\n",
      "Extra data: line 18 column 1 (char 867)\n",
      "Extra data: line 18 column 1 (char 623)\n"
     ]
    },
    {
     "name": "stderr",
     "output_type": "stream",
     "text": [
      " 12%|██████████▊                                                                                  | 6495/55900 [18:17<2:05:23,  6.57it/s]"
     ]
    },
    {
     "name": "stdout",
     "output_type": "stream",
     "text": [
      "Extra data: line 18 column 1 (char 939)\n"
     ]
    },
    {
     "name": "stderr",
     "output_type": "stream",
     "text": [
      " 12%|██████████▊                                                                                  | 6499/55900 [18:18<1:31:31,  9.00it/s]"
     ]
    },
    {
     "name": "stdout",
     "output_type": "stream",
     "text": [
      "Extra data: line 18 column 1 (char 775)\n"
     ]
    },
    {
     "name": "stderr",
     "output_type": "stream",
     "text": [
      " 12%|███████████▎                                                                                 | 6798/55900 [19:19<2:38:15,  5.17it/s]"
     ]
    },
    {
     "name": "stdout",
     "output_type": "stream",
     "text": [
      "Extra data: line 18 column 1 (char 683)\n"
     ]
    },
    {
     "name": "stderr",
     "output_type": "stream",
     "text": [
      " 12%|███████████▍                                                                                 | 6894/55900 [19:36<1:17:44, 10.51it/s]"
     ]
    },
    {
     "name": "stdout",
     "output_type": "stream",
     "text": [
      "Extra data: line 18 column 1 (char 601)\n",
      "Extra data: line 18 column 1 (char 744)\n"
     ]
    },
    {
     "name": "stderr",
     "output_type": "stream",
     "text": [
      " 12%|███████████▍                                                                                 | 6898/55900 [19:37<1:06:21, 12.31it/s]"
     ]
    },
    {
     "name": "stdout",
     "output_type": "stream",
     "text": [
      "Extra data: line 18 column 1 (char 787)\n",
      "Extra data: line 18 column 1 (char 750)\n",
      "Extra data: line 18 column 1 (char 823)\n",
      "Extra data: line 18 column 1 (char 811)\n"
     ]
    },
    {
     "name": "stderr",
     "output_type": "stream",
     "text": [
      " 12%|███████████▌                                                                                 | 6980/55900 [19:50<2:32:47,  5.34it/s]"
     ]
    },
    {
     "name": "stdout",
     "output_type": "stream",
     "text": [
      "Extra data: line 7 column 1 (char 518)\n",
      "Extra data: line 18 column 1 (char 640)\n",
      "Extra data: line 18 column 1 (char 918)\n",
      "Extra data: line 18 column 1 (char 1102)\n",
      "Extra data: line 18 column 1 (char 948)\n",
      "Extra data: line 18 column 1 (char 991)\n",
      "Extra data: line 18 column 1 (char 1002)\n",
      "Extra data: line 18 column 1 (char 1132)\n",
      "Extra data: line 18 column 1 (char 1082)\n",
      "Extra data: line 18 column 1 (char 790)\n",
      "Extra data: line 18 column 1 (char 828)\n"
     ]
    },
    {
     "name": "stderr",
     "output_type": "stream",
     "text": [
      "\r",
      " 13%|███████████▉                                                                                   | 6993/55900 [19:51<50:16, 16.21it/s]"
     ]
    },
    {
     "name": "stdout",
     "output_type": "stream",
     "text": [
      "Extra data: line 18 column 1 (char 950)\n"
     ]
    },
    {
     "name": "stderr",
     "output_type": "stream",
     "text": [
      "\r",
      " 13%|███████████▉                                                                                   | 6995/55900 [19:51<58:01, 14.05it/s]"
     ]
    },
    {
     "name": "stdout",
     "output_type": "stream",
     "text": [
      "Extra data: line 18 column 1 (char 958)\n",
      "Extra data: line 18 column 1 (char 1019)\n",
      "Extra data: line 18 column 1 (char 1109)\n",
      "Extra data: line 7 column 1 (char 1018)\n",
      "Extra data: line 18 column 1 (char 912)\n"
     ]
    },
    {
     "name": "stderr",
     "output_type": "stream",
     "text": [
      " 13%|███████████▊                                                                                 | 7098/55900 [20:10<2:24:40,  5.62it/s]"
     ]
    },
    {
     "name": "stdout",
     "output_type": "stream",
     "text": [
      "Extra data: line 18 column 1 (char 829)\n",
      "Extra data: line 18 column 1 (char 846)\n",
      "Extra data: line 18 column 1 (char 896)\n"
     ]
    },
    {
     "name": "stderr",
     "output_type": "stream",
     "text": [
      " 13%|███████████▉                                                                                 | 7201/55900 [20:28<1:41:45,  7.98it/s]"
     ]
    },
    {
     "name": "stdout",
     "output_type": "stream",
     "text": [
      "Extra data: line 18 column 1 (char 1140)\n"
     ]
    },
    {
     "name": "stderr",
     "output_type": "stream",
     "text": [
      " 13%|████████████▏                                                                                | 7294/55900 [20:44<1:20:08, 10.11it/s]"
     ]
    },
    {
     "name": "stdout",
     "output_type": "stream",
     "text": [
      "Extra data: line 18 column 1 (char 857)\n"
     ]
    },
    {
     "name": "stderr",
     "output_type": "stream",
     "text": [
      " 13%|████████████▎                                                                                | 7398/55900 [21:04<3:14:31,  4.16it/s]"
     ]
    },
    {
     "name": "stdout",
     "output_type": "stream",
     "text": [
      "Extra data: line 18 column 1 (char 910)\n"
     ]
    },
    {
     "name": "stderr",
     "output_type": "stream",
     "text": [
      " 13%|████████████▍                                                                                | 7494/55900 [21:22<4:17:29,  3.13it/s]"
     ]
    },
    {
     "name": "stdout",
     "output_type": "stream",
     "text": [
      "Extra data: line 18 column 1 (char 847)\n",
      "Extra data: line 18 column 1 (char 636)\n",
      "Extra data: line 18 column 1 (char 580)\n"
     ]
    },
    {
     "name": "stderr",
     "output_type": "stream",
     "text": [
      " 13%|████████████▍                                                                                | 7501/55900 [21:23<1:30:34,  8.91it/s]"
     ]
    },
    {
     "name": "stdout",
     "output_type": "stream",
     "text": [
      "Extra data: line 18 column 1 (char 636)\n"
     ]
    },
    {
     "name": "stderr",
     "output_type": "stream",
     "text": [
      " 14%|████████████▋                                                                                | 7600/55900 [21:42<1:52:32,  7.15it/s]"
     ]
    },
    {
     "name": "stdout",
     "output_type": "stream",
     "text": [
      "Extra data: line 18 column 1 (char 857)\n"
     ]
    },
    {
     "name": "stderr",
     "output_type": "stream",
     "text": [
      " 14%|████████████▊                                                                                | 7695/55900 [21:59<2:19:25,  5.76it/s]"
     ]
    },
    {
     "name": "stdout",
     "output_type": "stream",
     "text": [
      "Extra data: line 18 column 1 (char 642)\n",
      "Extra data: line 18 column 1 (char 684)\n",
      "Extra data: line 18 column 1 (char 827)\n"
     ]
    },
    {
     "name": "stderr",
     "output_type": "stream",
     "text": [
      "\r",
      " 14%|████████████▊                                                                                | 7699/55900 [21:59<1:36:32,  8.32it/s]"
     ]
    },
    {
     "name": "stdout",
     "output_type": "stream",
     "text": [
      "Extra data: line 18 column 1 (char 827)\n"
     ]
    },
    {
     "name": "stderr",
     "output_type": "stream",
     "text": [
      " 14%|████████████▉                                                                                | 7785/55900 [22:18<3:24:14,  3.93it/s]"
     ]
    },
    {
     "name": "stdout",
     "output_type": "stream",
     "text": [
      "Extra data: line 18 column 1 (char 544)\n"
     ]
    },
    {
     "name": "stderr",
     "output_type": "stream",
     "text": [
      " 14%|████████████▉                                                                                | 7794/55900 [22:19<2:08:59,  6.22it/s]"
     ]
    },
    {
     "name": "stdout",
     "output_type": "stream",
     "text": [
      "Extra data: line 18 column 1 (char 722)\n",
      "Extra data: line 18 column 1 (char 584)\n",
      "Extra data: line 18 column 1 (char 607)\n",
      "Extra data: line 18 column 1 (char 580)\n",
      "Extra data: line 18 column 1 (char 815)\n",
      "Extra data: line 18 column 1 (char 745)\n"
     ]
    },
    {
     "name": "stderr",
     "output_type": "stream",
     "text": [
      " 14%|█████████████▏                                                                               | 7900/55900 [22:39<2:07:31,  6.27it/s]"
     ]
    },
    {
     "name": "stdout",
     "output_type": "stream",
     "text": [
      "Extra data: line 18 column 1 (char 604)\n"
     ]
    },
    {
     "name": "stderr",
     "output_type": "stream",
     "text": [
      " 14%|█████████████▎                                                                               | 7998/55900 [22:57<1:40:56,  7.91it/s]"
     ]
    },
    {
     "name": "stdout",
     "output_type": "stream",
     "text": [
      "Extra data: line 18 column 1 (char 853)\n"
     ]
    },
    {
     "name": "stderr",
     "output_type": "stream",
     "text": [
      " 14%|█████████████▍                                                                               | 8094/55900 [23:14<2:28:15,  5.37it/s]"
     ]
    },
    {
     "name": "stdout",
     "output_type": "stream",
     "text": [
      "Extra data: line 18 column 1 (char 714)\n",
      "Extra data: line 18 column 1 (char 928)\n",
      "Extra data: line 18 column 1 (char 631)\n",
      "Expecting ',' delimiter: line 5 column 45 (char 166)\n",
      "Extra data: line 18 column 1 (char 760)\n",
      "Extra data: line 18 column 1 (char 737)\n"
     ]
    },
    {
     "name": "stderr",
     "output_type": "stream",
     "text": [
      " 15%|█████████████▉                                                                               | 8399/55900 [24:09<1:00:36, 13.06it/s]"
     ]
    },
    {
     "name": "stdout",
     "output_type": "stream",
     "text": [
      "Extra data: line 18 column 1 (char 875)\n",
      "Extra data: line 18 column 1 (char 858)\n"
     ]
    },
    {
     "name": "stderr",
     "output_type": "stream",
     "text": [
      " 15%|██████████████                                                                               | 8482/55900 [24:23<2:31:03,  5.23it/s]"
     ]
    },
    {
     "name": "stdout",
     "output_type": "stream",
     "text": [
      "Extra data: line 18 column 1 (char 616)\n"
     ]
    },
    {
     "name": "stderr",
     "output_type": "stream",
     "text": [
      " 15%|██████████████                                                                               | 8489/55900 [24:24<2:03:08,  6.42it/s]"
     ]
    },
    {
     "name": "stdout",
     "output_type": "stream",
     "text": [
      "Extra data: line 18 column 1 (char 717)\n",
      "Extra data: line 18 column 1 (char 798)\n"
     ]
    },
    {
     "name": "stderr",
     "output_type": "stream",
     "text": [
      " 15%|██████████████▍                                                                                | 8501/55900 [24:24<44:58, 17.57it/s]"
     ]
    },
    {
     "name": "stdout",
     "output_type": "stream",
     "text": [
      "Extra data: line 18 column 1 (char 681)\n",
      "Extra data: line 18 column 1 (char 847)\n",
      "Extra data: line 18 column 1 (char 578)\n",
      "Extra data: line 18 column 1 (char 649)\n",
      "Extra data: line 18 column 1 (char 726)\n",
      "Extra data: line 18 column 1 (char 542)\n",
      "Extra data: line 18 column 1 (char 653)\n"
     ]
    },
    {
     "name": "stderr",
     "output_type": "stream",
     "text": [
      " 15%|██████████████▎                                                                              | 8598/55900 [24:44<2:48:27,  4.68it/s]"
     ]
    },
    {
     "name": "stdout",
     "output_type": "stream",
     "text": [
      "Extra data: line 18 column 1 (char 749)\n",
      "Extra data: line 18 column 1 (char 842)\n"
     ]
    },
    {
     "name": "stderr",
     "output_type": "stream",
     "text": [
      " 16%|██████████████▍                                                                              | 8692/55900 [25:01<3:18:52,  3.96it/s]"
     ]
    },
    {
     "name": "stdout",
     "output_type": "stream",
     "text": [
      "Extra data: line 18 column 1 (char 1141)\n"
     ]
    },
    {
     "name": "stderr",
     "output_type": "stream",
     "text": [
      " 16%|██████████████▍                                                                              | 8698/55900 [25:02<2:37:10,  5.01it/s]"
     ]
    },
    {
     "name": "stdout",
     "output_type": "stream",
     "text": [
      "Extra data: line 18 column 1 (char 967)\n"
     ]
    },
    {
     "name": "stderr",
     "output_type": "stream",
     "text": [
      " 16%|██████████████▋                                                                              | 8794/55900 [25:19<1:19:16,  9.90it/s]"
     ]
    },
    {
     "name": "stdout",
     "output_type": "stream",
     "text": [
      "Extra data: line 18 column 1 (char 972)\n",
      "Extra data: line 18 column 1 (char 987)\n"
     ]
    },
    {
     "name": "stderr",
     "output_type": "stream",
     "text": [
      " 16%|██████████████▋                                                                              | 8801/55900 [25:20<1:04:36, 12.15it/s]"
     ]
    },
    {
     "name": "stdout",
     "output_type": "stream",
     "text": [
      "Extra data: line 18 column 1 (char 1175)\n",
      "Extra data: line 18 column 1 (char 1175)\n"
     ]
    },
    {
     "name": "stderr",
     "output_type": "stream",
     "text": [
      " 16%|██████████████▉                                                                              | 8985/55900 [25:54<2:29:55,  5.22it/s]"
     ]
    },
    {
     "name": "stdout",
     "output_type": "stream",
     "text": [
      "Extra data: line 18 column 1 (char 939)\n"
     ]
    },
    {
     "name": "stderr",
     "output_type": "stream",
     "text": [
      "\r",
      " 16%|██████████████▉                                                                              | 8988/55900 [25:54<2:03:04,  6.35it/s]"
     ]
    },
    {
     "name": "stdout",
     "output_type": "stream",
     "text": [
      "Extra data: line 18 column 1 (char 933)\n"
     ]
    },
    {
     "name": "stderr",
     "output_type": "stream",
     "text": [
      " 16%|██████████████▉                                                                              | 8992/55900 [25:55<1:34:13,  8.30it/s]"
     ]
    },
    {
     "name": "stdout",
     "output_type": "stream",
     "text": [
      "Extra data: line 18 column 1 (char 1062)\n"
     ]
    },
    {
     "name": "stderr",
     "output_type": "stream",
     "text": [
      " 16%|███████████████                                                                              | 9091/55900 [26:10<1:48:29,  7.19it/s]"
     ]
    },
    {
     "name": "stdout",
     "output_type": "stream",
     "text": [
      "Extra data: line 18 column 1 (char 909)\n"
     ]
    },
    {
     "name": "stderr",
     "output_type": "stream",
     "text": [
      " 16%|███████████████▏                                                                             | 9095/55900 [26:10<1:25:36,  9.11it/s]"
     ]
    },
    {
     "name": "stdout",
     "output_type": "stream",
     "text": [
      "Extra data: line 18 column 1 (char 1033)\n"
     ]
    },
    {
     "name": "stderr",
     "output_type": "stream",
     "text": [
      " 16%|███████████████▎                                                                             | 9191/55900 [26:26<3:07:26,  4.15it/s]"
     ]
    },
    {
     "name": "stdout",
     "output_type": "stream",
     "text": [
      "Extra data: line 18 column 1 (char 643)\n"
     ]
    },
    {
     "name": "stderr",
     "output_type": "stream",
     "text": [
      "\r",
      " 16%|███████████████▎                                                                             | 9194/55900 [26:27<2:14:18,  5.80it/s]"
     ]
    },
    {
     "name": "stdout",
     "output_type": "stream",
     "text": [
      "Extra data: line 18 column 1 (char 507)\n"
     ]
    },
    {
     "name": "stderr",
     "output_type": "stream",
     "text": [
      " 16%|███████████████▎                                                                             | 9199/55900 [26:27<1:27:00,  8.95it/s]"
     ]
    },
    {
     "name": "stdout",
     "output_type": "stream",
     "text": [
      "Extra data: line 18 column 1 (char 684)\n",
      "Extra data: line 18 column 1 (char 584)\n",
      "Extra data: line 18 column 1 (char 1012)\n"
     ]
    },
    {
     "name": "stderr",
     "output_type": "stream",
     "text": [
      " 17%|███████████████▍                                                                             | 9298/55900 [26:44<1:19:30,  9.77it/s]"
     ]
    },
    {
     "name": "stdout",
     "output_type": "stream",
     "text": [
      "Extra data: line 18 column 1 (char 1085)\n"
     ]
    },
    {
     "name": "stderr",
     "output_type": "stream",
     "text": [
      " 17%|███████████████▋                                                                             | 9392/55900 [27:01<2:43:06,  4.75it/s]"
     ]
    },
    {
     "name": "stdout",
     "output_type": "stream",
     "text": [
      "Extra data: line 18 column 1 (char 857)\n",
      "Extra data: line 18 column 1 (char 857)\n",
      "Extra data: line 18 column 1 (char 857)\n"
     ]
    },
    {
     "name": "stderr",
     "output_type": "stream",
     "text": [
      " 17%|███████████████▊                                                                             | 9488/55900 [27:19<3:00:41,  4.28it/s]"
     ]
    },
    {
     "name": "stdout",
     "output_type": "stream",
     "text": [
      "Extra data: line 18 column 1 (char 671)\n"
     ]
    },
    {
     "name": "stderr",
     "output_type": "stream",
     "text": [
      " 17%|███████████████▊                                                                             | 9494/55900 [27:20<2:39:34,  4.85it/s]"
     ]
    },
    {
     "name": "stdout",
     "output_type": "stream",
     "text": [
      "Extra data: line 18 column 1 (char 693)\n"
     ]
    },
    {
     "name": "stderr",
     "output_type": "stream",
     "text": [
      " 17%|███████████████▊                                                                             | 9498/55900 [27:21<1:57:51,  6.56it/s]"
     ]
    },
    {
     "name": "stdout",
     "output_type": "stream",
     "text": [
      "Extra data: line 18 column 1 (char 708)\n",
      "Extra data: line 18 column 1 (char 860)\n"
     ]
    },
    {
     "name": "stderr",
     "output_type": "stream",
     "text": [
      " 17%|███████████████▉                                                                             | 9548/55900 [27:30<2:30:25,  5.14it/s]"
     ]
    },
    {
     "name": "stdout",
     "output_type": "stream",
     "text": [
      "Extra data: line 18 column 1 (char 351)\n"
     ]
    },
    {
     "name": "stderr",
     "output_type": "stream",
     "text": [
      " 18%|████████████████▎                                                                            | 9789/55900 [28:17<1:46:42,  7.20it/s]"
     ]
    },
    {
     "name": "stdout",
     "output_type": "stream",
     "text": [
      "Extra data: line 18 column 1 (char 719)\n"
     ]
    },
    {
     "name": "stderr",
     "output_type": "stream",
     "text": [
      " 18%|████████████████▎                                                                            | 9793/55900 [28:17<1:34:47,  8.11it/s]"
     ]
    },
    {
     "name": "stdout",
     "output_type": "stream",
     "text": [
      "Extra data: line 18 column 1 (char 477)\n",
      "Extra data: line 18 column 1 (char 868)\n",
      "Extra data: line 18 column 1 (char 625)\n",
      "Extra data: line 18 column 1 (char 706)\n",
      "Extra data: line 18 column 1 (char 880)\n",
      "Extra data: line 18 column 1 (char 712)\n"
     ]
    },
    {
     "name": "stderr",
     "output_type": "stream",
     "text": [
      " 18%|████████████████▎                                                                            | 9811/55900 [28:19<1:30:51,  8.45it/s]"
     ]
    },
    {
     "name": "stdout",
     "output_type": "stream",
     "text": [
      "Expecting ',' delimiter: line 13 column 121 (char 646)\n"
     ]
    },
    {
     "name": "stderr",
     "output_type": "stream",
     "text": [
      " 18%|████████████████▍                                                                            | 9890/55900 [28:32<2:16:59,  5.60it/s]"
     ]
    },
    {
     "name": "stdout",
     "output_type": "stream",
     "text": [
      "Extra data: line 18 column 1 (char 779)\n"
     ]
    },
    {
     "name": "stderr",
     "output_type": "stream",
     "text": [
      "\r",
      " 18%|████████████████▍                                                                            | 9893/55900 [28:32<1:53:07,  6.78it/s]"
     ]
    },
    {
     "name": "stdout",
     "output_type": "stream",
     "text": [
      "Extra data: line 18 column 1 (char 955)\n",
      "Extra data: line 18 column 1 (char 778)\n",
      "Extra data: line 18 column 1 (char 916)\n"
     ]
    },
    {
     "name": "stderr",
     "output_type": "stream",
     "text": [
      "\r",
      " 18%|████████████████▍                                                                            | 9898/55900 [28:32<1:21:56,  9.36it/s]"
     ]
    },
    {
     "name": "stdout",
     "output_type": "stream",
     "text": [
      "Extra data: line 18 column 1 (char 1450)\n"
     ]
    },
    {
     "name": "stderr",
     "output_type": "stream",
     "text": [
      " 18%|████████████████▌                                                                            | 9984/55900 [28:47<1:20:37,  9.49it/s]"
     ]
    },
    {
     "name": "stdout",
     "output_type": "stream",
     "text": [
      "Extra data: line 18 column 1 (char 660)\n"
     ]
    },
    {
     "name": "stderr",
     "output_type": "stream",
     "text": [
      " 18%|████████████████▌                                                                            | 9987/55900 [28:48<1:55:07,  6.65it/s]"
     ]
    },
    {
     "name": "stdout",
     "output_type": "stream",
     "text": [
      "Extra data: line 18 column 1 (char 507)\n",
      "Extra data: line 18 column 1 (char 567)\n"
     ]
    },
    {
     "name": "stderr",
     "output_type": "stream",
     "text": [
      "\r",
      " 18%|████████████████▌                                                                            | 9991/55900 [28:48<1:34:00,  8.14it/s]"
     ]
    },
    {
     "name": "stdout",
     "output_type": "stream",
     "text": [
      "Extra data: line 18 column 1 (char 603)\n"
     ]
    },
    {
     "name": "stderr",
     "output_type": "stream",
     "text": [
      "\r",
      " 18%|████████████████▋                                                                            | 9993/55900 [28:49<1:36:21,  7.94it/s]"
     ]
    },
    {
     "name": "stdout",
     "output_type": "stream",
     "text": [
      "Extra data: line 18 column 1 (char 732)\n",
      "Extra data: line 18 column 1 (char 554)\n",
      "Extra data: line 18 column 1 (char 1028)\n",
      "Extra data: line 18 column 1 (char 832)\n",
      "Extra data: line 18 column 1 (char 753)\n"
     ]
    },
    {
     "name": "stderr",
     "output_type": "stream",
     "text": [
      " 18%|████████████████▌                                                                           | 10088/55900 [29:07<3:43:54,  3.41it/s]"
     ]
    },
    {
     "name": "stdout",
     "output_type": "stream",
     "text": [
      "Extra data: line 7 column 1 (char 589)\n"
     ]
    },
    {
     "name": "stderr",
     "output_type": "stream",
     "text": [
      " 18%|████████████████▌                                                                           | 10096/55900 [29:08<1:39:57,  7.64it/s]"
     ]
    },
    {
     "name": "stdout",
     "output_type": "stream",
     "text": [
      "Extra data: line 18 column 1 (char 691)\n",
      "Extra data: line 18 column 1 (char 605)\n",
      "Extra data: line 18 column 1 (char 623)\n",
      "Extra data: line 18 column 1 (char 828)\n"
     ]
    },
    {
     "name": "stderr",
     "output_type": "stream",
     "text": [
      " 18%|█████████████████▏                                                                            | 10188/55900 [29:23<53:47, 14.16it/s]"
     ]
    },
    {
     "name": "stdout",
     "output_type": "stream",
     "text": [
      "Extra data: line 18 column 1 (char 629)\n",
      "Extra data: line 18 column 1 (char 694)\n",
      "Extra data: line 18 column 1 (char 787)\n",
      "Extra data: line 18 column 1 (char 1059)\n",
      "Extra data: line 18 column 1 (char 1069)\n",
      "Extra data: line 18 column 1 (char 685)\n",
      "Extra data: line 18 column 1 (char 739)\n",
      "Extra data: line 18 column 1 (char 722)\n",
      "Extra data: line 18 column 1 (char 739)\n",
      "Extra data: line 18 column 1 (char 712)\n",
      "Extra data: line 18 column 1 (char 962)\n",
      "Extra data: line 18 column 1 (char 744)\n",
      "Extra data: line 18 column 1 (char 1052)\n"
     ]
    },
    {
     "name": "stderr",
     "output_type": "stream",
     "text": [
      " 18%|████████████████▉                                                                           | 10287/55900 [29:38<1:00:43, 12.52it/s]"
     ]
    },
    {
     "name": "stdout",
     "output_type": "stream",
     "text": [
      "Extra data: line 18 column 1 (char 820)\n",
      "Extra data: line 7 column 1 (char 859)\n",
      "Extra data: line 18 column 1 (char 856)\n",
      "Extra data: line 18 column 1 (char 730)\n",
      "Extra data: line 18 column 1 (char 1102)\n",
      "Extra data: line 7 column 1 (char 859)\n",
      "Extra data: line 7 column 1 (char 859)\n"
     ]
    },
    {
     "name": "stderr",
     "output_type": "stream",
     "text": [
      " 18%|█████████████████▎                                                                            | 10294/55900 [29:38<48:06, 15.80it/s]"
     ]
    },
    {
     "name": "stdout",
     "output_type": "stream",
     "text": [
      "Extra data: line 18 column 1 (char 902)\n",
      "Extra data: line 18 column 1 (char 950)\n",
      "Extra data: line 18 column 1 (char 950)\n",
      "Extra data: line 7 column 1 (char 1018)\n",
      "Extra data: line 18 column 1 (char 1086)\n",
      "Extra data: line 7 column 1 (char 1049)\n",
      "Extra data: line 18 column 1 (char 950)\n",
      "Extra data: line 18 column 1 (char 1238)\n"
     ]
    },
    {
     "name": "stderr",
     "output_type": "stream",
     "text": [
      " 19%|█████████████████                                                                           | 10386/55900 [29:55<2:55:02,  4.33it/s]"
     ]
    },
    {
     "name": "stdout",
     "output_type": "stream",
     "text": [
      "Extra data: line 18 column 1 (char 498)\n"
     ]
    },
    {
     "name": "stderr",
     "output_type": "stream",
     "text": [
      " 19%|█████████████████                                                                           | 10393/55900 [29:57<2:29:14,  5.08it/s]"
     ]
    },
    {
     "name": "stdout",
     "output_type": "stream",
     "text": [
      "Extra data: line 18 column 1 (char 832)\n",
      "Extra data: line 18 column 1 (char 1213)\n"
     ]
    },
    {
     "name": "stderr",
     "output_type": "stream",
     "text": [
      " 19%|█████████████████▎                                                                          | 10493/55900 [30:13<2:09:10,  5.86it/s]"
     ]
    },
    {
     "name": "stdout",
     "output_type": "stream",
     "text": [
      "Extra data: line 18 column 1 (char 775)\n"
     ]
    },
    {
     "name": "stderr",
     "output_type": "stream",
     "text": [
      " 19%|█████████████████▎                                                                          | 10498/55900 [30:14<2:09:59,  5.82it/s]"
     ]
    },
    {
     "name": "stdout",
     "output_type": "stream",
     "text": [
      "Extra data: line 18 column 1 (char 1067)\n"
     ]
    },
    {
     "name": "stderr",
     "output_type": "stream",
     "text": [
      " 19%|█████████████████▍                                                                          | 10585/55900 [30:30<1:17:25,  9.75it/s]"
     ]
    },
    {
     "name": "stdout",
     "output_type": "stream",
     "text": [
      "Extra data: line 18 column 1 (char 498)\n"
     ]
    },
    {
     "name": "stderr",
     "output_type": "stream",
     "text": [
      " 19%|█████████████████▍                                                                          | 10597/55900 [30:33<3:20:28,  3.77it/s]"
     ]
    },
    {
     "name": "stdout",
     "output_type": "stream",
     "text": [
      "Extra data: line 18 column 1 (char 565)\n",
      "Extra data: line 18 column 1 (char 888)\n"
     ]
    },
    {
     "name": "stderr",
     "output_type": "stream",
     "text": [
      " 19%|█████████████████▍                                                                          | 10619/55900 [30:37<2:44:04,  4.60it/s]"
     ]
    },
    {
     "name": "stdout",
     "output_type": "stream",
     "text": [
      "Expecting ',' delimiter: line 13 column 109 (char 627)\n"
     ]
    },
    {
     "name": "stderr",
     "output_type": "stream",
     "text": [
      " 19%|█████████████████▊                                                                          | 10801/55900 [31:12<1:13:32, 10.22it/s]"
     ]
    },
    {
     "name": "stdout",
     "output_type": "stream",
     "text": [
      "Extra data: line 18 column 1 (char 660)\n",
      "Extra data: line 18 column 1 (char 610)\n",
      "Extra data: line 18 column 1 (char 817)\n",
      "Extra data: line 18 column 1 (char 969)\n"
     ]
    },
    {
     "name": "stderr",
     "output_type": "stream",
     "text": [
      " 19%|█████████████████▉                                                                          | 10898/55900 [31:28<1:20:06,  9.36it/s]"
     ]
    },
    {
     "name": "stdout",
     "output_type": "stream",
     "text": [
      "Extra data: line 18 column 1 (char 857)\n",
      "Extra data: line 18 column 1 (char 857)\n"
     ]
    },
    {
     "name": "stderr",
     "output_type": "stream",
     "text": [
      " 20%|██████████████████▎                                                                         | 11096/55900 [32:06<1:43:48,  7.19it/s]"
     ]
    },
    {
     "name": "stdout",
     "output_type": "stream",
     "text": [
      "Extra data: line 18 column 1 (char 1085)\n"
     ]
    },
    {
     "name": "stderr",
     "output_type": "stream",
     "text": [
      " 20%|██████████████████▌                                                                         | 11297/55900 [32:46<3:18:08,  3.75it/s]"
     ]
    },
    {
     "name": "stdout",
     "output_type": "stream",
     "text": [
      "Extra data: line 18 column 1 (char 980)\n"
     ]
    },
    {
     "name": "stderr",
     "output_type": "stream",
     "text": [
      " 20%|██████████████████▌                                                                         | 11316/55900 [32:48<1:01:59, 11.99it/s]"
     ]
    },
    {
     "name": "stdout",
     "output_type": "stream",
     "text": [
      "Expecting ',' delimiter: line 9 column 125 (char 484)\n"
     ]
    },
    {
     "name": "stderr",
     "output_type": "stream",
     "text": [
      " 20%|██████████████████▋                                                                         | 11382/55900 [32:59<1:38:29,  7.53it/s]"
     ]
    },
    {
     "name": "stdout",
     "output_type": "stream",
     "text": [
      "Extra data: line 18 column 1 (char 778)\n"
     ]
    },
    {
     "name": "stderr",
     "output_type": "stream",
     "text": [
      "\r",
      " 20%|██████████████████▋                                                                         | 11386/55900 [32:59<1:15:55,  9.77it/s]"
     ]
    },
    {
     "name": "stdout",
     "output_type": "stream",
     "text": [
      "Extra data: line 18 column 1 (char 1244)\n"
     ]
    },
    {
     "name": "stderr",
     "output_type": "stream",
     "text": [
      " 20%|███████████████████▏                                                                          | 11395/55900 [32:59<45:11, 16.42it/s]"
     ]
    },
    {
     "name": "stdout",
     "output_type": "stream",
     "text": [
      "Extra data: line 18 column 1 (char 1244)\n",
      "Extra data: line 18 column 1 (char 757)\n",
      "Extra data: line 18 column 1 (char 757)\n",
      "Extra data: line 18 column 1 (char 1312)\n",
      "Extra data: line 18 column 1 (char 871)\n",
      "Expecting ',' delimiter: line 9 column 125 (char 484)\n"
     ]
    },
    {
     "name": "stderr",
     "output_type": "stream",
     "text": [
      "\r",
      " 20%|███████████████████▏                                                                          | 11398/55900 [33:00<49:16, 15.05it/s]"
     ]
    },
    {
     "name": "stdout",
     "output_type": "stream",
     "text": [
      "Extra data: line 18 column 1 (char 1126)\n"
     ]
    },
    {
     "name": "stderr",
     "output_type": "stream",
     "text": [
      " 21%|██████████████████▉                                                                         | 11492/55900 [33:16<2:34:17,  4.80it/s]"
     ]
    },
    {
     "name": "stdout",
     "output_type": "stream",
     "text": [
      "Extra data: line 18 column 1 (char 787)\n",
      "Extra data: line 18 column 1 (char 562)\n"
     ]
    },
    {
     "name": "stderr",
     "output_type": "stream",
     "text": [
      "\r",
      " 21%|██████████████████▉                                                                         | 11495/55900 [33:16<1:47:15,  6.90it/s]"
     ]
    },
    {
     "name": "stdout",
     "output_type": "stream",
     "text": [
      "Extra data: line 18 column 1 (char 625)\n",
      "Extra data: line 18 column 1 (char 640)\n",
      "Extra data: line 18 column 1 (char 731)\n",
      "Extra data: line 18 column 1 (char 765)\n",
      "Extra data: line 18 column 1 (char 637)\n"
     ]
    },
    {
     "name": "stderr",
     "output_type": "stream",
     "text": [
      " 21%|███████████████████▋                                                                          | 11698/55900 [33:51<54:04, 13.62it/s]"
     ]
    },
    {
     "name": "stdout",
     "output_type": "stream",
     "text": [
      "Extra data: line 18 column 1 (char 634)\n",
      "Extra data: line 18 column 1 (char 696)\n",
      "Extra data: line 18 column 1 (char 519)\n",
      "Extra data: line 18 column 1 (char 654)\n",
      "Extra data: line 18 column 1 (char 661)\n",
      "Extra data: line 18 column 1 (char 638)\n",
      "Extra data: line 18 column 1 (char 969)\n"
     ]
    },
    {
     "name": "stderr",
     "output_type": "stream",
     "text": [
      " 21%|███████████████████▎                                                                        | 11759/55900 [34:01<1:58:19,  6.22it/s]"
     ]
    },
    {
     "name": "stdout",
     "output_type": "stream",
     "text": [
      "Extra data: line 18 column 1 (char 406)\n"
     ]
    },
    {
     "name": "stderr",
     "output_type": "stream",
     "text": [
      " 21%|███████████████████▍                                                                        | 11780/55900 [34:05<2:24:12,  5.10it/s]"
     ]
    },
    {
     "name": "stdout",
     "output_type": "stream",
     "text": [
      "Extra data: line 18 column 1 (char 814)\n"
     ]
    },
    {
     "name": "stderr",
     "output_type": "stream",
     "text": [
      " 21%|███████████████████▍                                                                        | 11793/55900 [34:08<2:58:59,  4.11it/s]"
     ]
    },
    {
     "name": "stdout",
     "output_type": "stream",
     "text": [
      "Extra data: line 18 column 1 (char 1040)\n"
     ]
    },
    {
     "name": "stderr",
     "output_type": "stream",
     "text": [
      " 21%|███████████████████▍                                                                        | 11798/55900 [34:09<1:40:28,  7.32it/s]"
     ]
    },
    {
     "name": "stdout",
     "output_type": "stream",
     "text": [
      "Extra data: line 18 column 1 (char 686)\n",
      "Extra data: line 18 column 1 (char 675)\n"
     ]
    },
    {
     "name": "stderr",
     "output_type": "stream",
     "text": [
      " 21%|███████████████████▍                                                                        | 11802/55900 [34:09<1:20:42,  9.11it/s]"
     ]
    },
    {
     "name": "stdout",
     "output_type": "stream",
     "text": [
      "Extra data: line 18 column 1 (char 493)\n"
     ]
    },
    {
     "name": "stderr",
     "output_type": "stream",
     "text": [
      " 21%|███████████████████▋                                                                        | 11990/55900 [34:46<2:46:33,  4.39it/s]"
     ]
    },
    {
     "name": "stdout",
     "output_type": "stream",
     "text": [
      "Extra data: line 18 column 1 (char 737)\n"
     ]
    },
    {
     "name": "stderr",
     "output_type": "stream",
     "text": [
      "\r",
      " 21%|███████████████████▋                                                                        | 11992/55900 [34:46<2:08:35,  5.69it/s]"
     ]
    },
    {
     "name": "stdout",
     "output_type": "stream",
     "text": [
      "Extra data: line 18 column 1 (char 856)\n"
     ]
    },
    {
     "name": "stderr",
     "output_type": "stream",
     "text": [
      " 21%|███████████████████▋                                                                        | 11996/55900 [34:47<2:33:20,  4.77it/s]"
     ]
    },
    {
     "name": "stdout",
     "output_type": "stream",
     "text": [
      "Extra data: line 18 column 1 (char 618)\n",
      "Extra data: line 18 column 1 (char 544)\n",
      "Extra data: line 18 column 1 (char 693)\n",
      "Extra data: line 18 column 1 (char 1022)\n"
     ]
    },
    {
     "name": "stderr",
     "output_type": "stream",
     "text": [
      " 22%|███████████████████▉                                                                        | 12095/55900 [35:04<1:46:41,  6.84it/s]"
     ]
    },
    {
     "name": "stdout",
     "output_type": "stream",
     "text": [
      "Extra data: line 18 column 1 (char 1014)\n"
     ]
    },
    {
     "name": "stderr",
     "output_type": "stream",
     "text": [
      " 22%|████████████████████                                                                        | 12188/55900 [35:21<2:15:57,  5.36it/s]"
     ]
    },
    {
     "name": "stdout",
     "output_type": "stream",
     "text": [
      "Extra data: line 18 column 1 (char 1085)\n"
     ]
    },
    {
     "name": "stderr",
     "output_type": "stream",
     "text": [
      " 22%|████████████████████                                                                        | 12196/55900 [35:22<1:22:28,  8.83it/s]"
     ]
    },
    {
     "name": "stdout",
     "output_type": "stream",
     "text": [
      "Extra data: line 18 column 1 (char 875)\n"
     ]
    },
    {
     "name": "stderr",
     "output_type": "stream",
     "text": [
      "\r",
      " 22%|████████████████████                                                                        | 12198/55900 [35:22<1:09:04, 10.54it/s]"
     ]
    },
    {
     "name": "stdout",
     "output_type": "stream",
     "text": [
      "Extra data: line 18 column 1 (char 857)\n"
     ]
    },
    {
     "name": "stderr",
     "output_type": "stream",
     "text": [
      " 22%|████████████████████▏                                                                       | 12294/55900 [35:39<1:06:09, 10.99it/s]"
     ]
    },
    {
     "name": "stdout",
     "output_type": "stream",
     "text": [
      "Extra data: line 18 column 1 (char 1014)\n"
     ]
    },
    {
     "name": "stderr",
     "output_type": "stream",
     "text": [
      "\r",
      " 22%|████████████████████▏                                                                       | 12296/55900 [35:40<1:55:16,  6.30it/s]"
     ]
    },
    {
     "name": "stdout",
     "output_type": "stream",
     "text": [
      "Extra data: line 18 column 1 (char 775)\n"
     ]
    },
    {
     "name": "stderr",
     "output_type": "stream",
     "text": [
      " 22%|████████████████████▏                                                                       | 12301/55900 [35:40<1:22:58,  8.76it/s]"
     ]
    },
    {
     "name": "stdout",
     "output_type": "stream",
     "text": [
      "Extra data: line 18 column 1 (char 943)\n"
     ]
    },
    {
     "name": "stderr",
     "output_type": "stream",
     "text": [
      " 22%|████████████████████▍                                                                       | 12390/55900 [35:55<1:28:25,  8.20it/s]"
     ]
    },
    {
     "name": "stdout",
     "output_type": "stream",
     "text": [
      "Extra data: line 18 column 1 (char 616)\n"
     ]
    },
    {
     "name": "stderr",
     "output_type": "stream",
     "text": [
      " 22%|████████████████████▍                                                                       | 12399/55900 [35:57<2:17:44,  5.26it/s]"
     ]
    },
    {
     "name": "stdout",
     "output_type": "stream",
     "text": [
      "Extra data: line 18 column 1 (char 846)\n"
     ]
    },
    {
     "name": "stderr",
     "output_type": "stream",
     "text": [
      " 22%|████████████████████▌                                                                       | 12498/55900 [36:12<1:05:20, 11.07it/s]"
     ]
    },
    {
     "name": "stdout",
     "output_type": "stream",
     "text": [
      "Extra data: line 18 column 1 (char 875)\n",
      "Extra data: line 18 column 1 (char 1001)\n"
     ]
    },
    {
     "name": "stderr",
     "output_type": "stream",
     "text": [
      " 23%|████████████████████▋                                                                       | 12596/55900 [36:26<1:12:39,  9.93it/s]"
     ]
    },
    {
     "name": "stdout",
     "output_type": "stream",
     "text": [
      "Extra data: line 18 column 1 (char 857)\n"
     ]
    },
    {
     "name": "stderr",
     "output_type": "stream",
     "text": [
      " 23%|████████████████████▋                                                                       | 12599/55900 [36:26<1:48:18,  6.66it/s]"
     ]
    },
    {
     "name": "stdout",
     "output_type": "stream",
     "text": [
      "Extra data: line 18 column 1 (char 857)\n"
     ]
    },
    {
     "name": "stderr",
     "output_type": "stream",
     "text": [
      " 23%|████████████████████▉                                                                       | 12698/55900 [36:46<2:19:57,  5.14it/s]"
     ]
    },
    {
     "name": "stdout",
     "output_type": "stream",
     "text": [
      "Extra data: line 18 column 1 (char 468)\n"
     ]
    },
    {
     "name": "stderr",
     "output_type": "stream",
     "text": [
      "\r",
      " 23%|████████████████████▉                                                                       | 12699/55900 [36:46<2:10:21,  5.52it/s]"
     ]
    },
    {
     "name": "stdout",
     "output_type": "stream",
     "text": [
      "Extra data: line 18 column 1 (char 835)\n",
      "'NoneType' object is not subscriptable\n"
     ]
    },
    {
     "name": "stderr",
     "output_type": "stream",
     "text": [
      " 23%|█████████████████████▏                                                                      | 12883/55900 [37:19<1:19:48,  8.98it/s]"
     ]
    },
    {
     "name": "stdout",
     "output_type": "stream",
     "text": [
      "Extra data: line 18 column 1 (char 649)\n"
     ]
    },
    {
     "name": "stderr",
     "output_type": "stream",
     "text": [
      " 23%|█████████████████████▏                                                                      | 12894/55900 [37:22<3:20:12,  3.58it/s]"
     ]
    },
    {
     "name": "stdout",
     "output_type": "stream",
     "text": [
      "Expecting ',' delimiter: line 13 column 516 (char 1292)\n"
     ]
    },
    {
     "name": "stderr",
     "output_type": "stream",
     "text": [
      " 23%|█████████████████████▊                                                                        | 13001/55900 [37:42<50:44, 14.09it/s]"
     ]
    },
    {
     "name": "stdout",
     "output_type": "stream",
     "text": [
      "Extra data: line 18 column 1 (char 500)\n",
      "Extra data: line 18 column 1 (char 956)\n",
      "Extra data: line 18 column 1 (char 551)\n",
      "Extra data: line 18 column 1 (char 550)\n",
      "Extra data: line 18 column 1 (char 662)\n",
      "Extra data: line 18 column 1 (char 900)\n"
     ]
    },
    {
     "name": "stderr",
     "output_type": "stream",
     "text": [
      " 23%|█████████████████████▌                                                                      | 13100/55900 [38:00<1:28:21,  8.07it/s]"
     ]
    },
    {
     "name": "stdout",
     "output_type": "stream",
     "text": [
      "Extra data: line 18 column 1 (char 1033)\n"
     ]
    },
    {
     "name": "stderr",
     "output_type": "stream",
     "text": [
      " 24%|█████████████████████▋                                                                      | 13191/55900 [38:15<2:34:15,  4.61it/s]"
     ]
    },
    {
     "name": "stdout",
     "output_type": "stream",
     "text": [
      "Extra data: line 18 column 1 (char 862)\n"
     ]
    },
    {
     "name": "stderr",
     "output_type": "stream",
     "text": [
      " 24%|██████████████████████▏                                                                       | 13201/55900 [38:16<43:49, 16.24it/s]"
     ]
    },
    {
     "name": "stdout",
     "output_type": "stream",
     "text": [
      "Extra data: line 18 column 1 (char 749)\n",
      "Extra data: line 18 column 1 (char 883)\n",
      "Extra data: line 18 column 1 (char 593)\n",
      "Extra data: line 18 column 1 (char 735)\n",
      "Extra data: line 18 column 1 (char 673)\n"
     ]
    },
    {
     "name": "stderr",
     "output_type": "stream",
     "text": [
      " 24%|██████████████████████                                                                      | 13397/55900 [38:56<1:47:54,  6.56it/s]"
     ]
    },
    {
     "name": "stdout",
     "output_type": "stream",
     "text": [
      "Extra data: line 18 column 1 (char 786)\n",
      "Extra data: line 18 column 1 (char 608)\n"
     ]
    },
    {
     "name": "stderr",
     "output_type": "stream",
     "text": [
      "\r",
      " 24%|██████████████████████                                                                      | 13399/55900 [38:56<1:43:27,  6.85it/s]"
     ]
    },
    {
     "name": "stdout",
     "output_type": "stream",
     "text": [
      "Extra data: line 18 column 1 (char 740)\n"
     ]
    },
    {
     "name": "stderr",
     "output_type": "stream",
     "text": [
      " 24%|██████████████████████▏                                                                     | 13501/55900 [39:15<1:10:01, 10.09it/s]"
     ]
    },
    {
     "name": "stdout",
     "output_type": "stream",
     "text": [
      "Extra data: line 18 column 1 (char 1487)\n",
      "Extra data: line 18 column 1 (char 1570)\n"
     ]
    },
    {
     "name": "stderr",
     "output_type": "stream",
     "text": [
      " 24%|██████████████████████▍                                                                     | 13601/55900 [39:34<1:21:17,  8.67it/s]"
     ]
    },
    {
     "name": "stdout",
     "output_type": "stream",
     "text": [
      "Extra data: line 18 column 1 (char 775)\n",
      "Extra data: line 18 column 1 (char 775)\n",
      "Extra data: line 18 column 1 (char 860)\n"
     ]
    },
    {
     "name": "stderr",
     "output_type": "stream",
     "text": [
      " 25%|███████████████████████                                                                       | 13702/55900 [39:50<38:59, 18.04it/s]"
     ]
    },
    {
     "name": "stdout",
     "output_type": "stream",
     "text": [
      "Extra data: line 18 column 1 (char 759)\n",
      "Extra data: line 18 column 1 (char 642)\n",
      "Extra data: line 18 column 1 (char 718)\n",
      "Extra data: line 18 column 1 (char 709)\n",
      "Extra data: line 18 column 1 (char 988)\n",
      "Extra data: line 18 column 1 (char 725)\n"
     ]
    },
    {
     "name": "stderr",
     "output_type": "stream",
     "text": [
      " 25%|██████████████████████▋                                                                     | 13795/55900 [40:08<2:22:08,  4.94it/s]"
     ]
    },
    {
     "name": "stdout",
     "output_type": "stream",
     "text": [
      "Extra data: line 18 column 1 (char 378)\n"
     ]
    },
    {
     "name": "stderr",
     "output_type": "stream",
     "text": [
      " 25%|██████████████████████▋                                                                     | 13801/55900 [40:09<1:14:37,  9.40it/s]"
     ]
    },
    {
     "name": "stdout",
     "output_type": "stream",
     "text": [
      "Extra data: line 18 column 1 (char 868)\n",
      "Extra data: line 18 column 1 (char 784)\n"
     ]
    },
    {
     "name": "stderr",
     "output_type": "stream",
     "text": [
      " 25%|██████████████████████▊                                                                     | 13892/55900 [40:25<1:53:55,  6.15it/s]"
     ]
    },
    {
     "name": "stdout",
     "output_type": "stream",
     "text": [
      "Extra data: line 18 column 1 (char 595)\n"
     ]
    },
    {
     "name": "stderr",
     "output_type": "stream",
     "text": [
      " 25%|██████████████████████▊                                                                     | 13895/55900 [40:26<2:52:55,  4.05it/s]"
     ]
    },
    {
     "name": "stdout",
     "output_type": "stream",
     "text": [
      "Extra data: line 18 column 1 (char 673)\n"
     ]
    },
    {
     "name": "stderr",
     "output_type": "stream",
     "text": [
      " 25%|██████████████████████▊                                                                     | 13899/55900 [40:27<1:51:25,  6.28it/s]"
     ]
    },
    {
     "name": "stdout",
     "output_type": "stream",
     "text": [
      "Extra data: line 18 column 1 (char 780)\n",
      "Extra data: line 18 column 1 (char 1190)\n"
     ]
    },
    {
     "name": "stderr",
     "output_type": "stream",
     "text": [
      " 25%|███████████████████████▌                                                                      | 14038/55900 [40:48<13:00, 53.62it/s]"
     ]
    },
    {
     "name": "stdout",
     "output_type": "stream",
     "text": [
      "'NoneType' object is not subscriptable\n",
      "'NoneType' object is not subscriptable\n",
      "'NoneType' object is not subscriptable\n",
      "'NoneType' object is not subscriptable\n",
      "'NoneType' object is not subscriptable\n",
      "'NoneType' object is not subscriptable\n",
      "'NoneType' object is not subscriptable\n",
      "'NoneType' object is not subscriptable\n",
      "'NoneType' object is not subscriptable\n",
      "'NoneType' object is not subscriptable\n",
      "'NoneType' object is not subscriptable\n",
      "'NoneType' object is not subscriptable\n",
      "'NoneType' object is not subscriptable\n",
      "'NoneType' object is not subscriptable\n",
      "'NoneType' object is not subscriptable\n",
      "'NoneType' object is not subscriptable\n",
      "'NoneType' object is not subscriptable\n",
      "'NoneType' object is not subscriptable\n",
      "'NoneType' object is not subscriptable\n",
      "'NoneType' object is not subscriptable\n",
      "'NoneType' object is not subscriptable\n",
      "'NoneType' object is not subscriptable\n",
      "'NoneType' object is not subscriptable\n",
      "'NoneType' object is not subscriptable\n",
      "'NoneType' object is not subscriptable\n",
      "'NoneType' object is not subscriptable\n",
      "'NoneType' object is not subscriptable\n",
      "'NoneType' object is not subscriptable\n",
      "'NoneType' object is not subscriptable\n",
      "'NoneType' object is not subscriptable\n",
      "'NoneType' object is not subscriptable\n",
      "'NoneType' object is not subscriptable\n",
      "'NoneType' object is not subscriptable\n",
      "'NoneType' object is not subscriptable\n",
      "'NoneType' object is not subscriptable\n",
      "'NoneType' object is not subscriptable\n",
      "'NoneType' object is not subscriptable\n"
     ]
    },
    {
     "name": "stderr",
     "output_type": "stream",
     "text": [
      " 25%|███████████████████████▏                                                                    | 14093/55900 [40:59<1:57:51,  5.91it/s]"
     ]
    },
    {
     "name": "stdout",
     "output_type": "stream",
     "text": [
      "Extra data: line 18 column 1 (char 792)\n"
     ]
    },
    {
     "name": "stderr",
     "output_type": "stream",
     "text": [
      " 25%|███████████████████████▏                                                                    | 14097/55900 [40:59<1:26:11,  8.08it/s]"
     ]
    },
    {
     "name": "stdout",
     "output_type": "stream",
     "text": [
      "Extra data: line 18 column 1 (char 684)\n",
      "Extra data: line 18 column 1 (char 752)\n"
     ]
    },
    {
     "name": "stderr",
     "output_type": "stream",
     "text": [
      " 25%|███████████████████████▎                                                                    | 14162/55900 [41:11<1:12:27,  9.60it/s]"
     ]
    },
    {
     "name": "stdout",
     "output_type": "stream",
     "text": [
      "Extra data: line 18 column 1 (char 1126)\n",
      "Extra data: line 18 column 1 (char 1126)\n",
      "Extra data: line 18 column 1 (char 1126)\n",
      "Extra data: line 18 column 1 (char 1126)\n",
      "Extra data: line 18 column 1 (char 1126)\n",
      "Extra data: line 18 column 1 (char 1126)\n",
      "Extra data: line 18 column 1 (char 1126)\n",
      "Extra data: line 18 column 1 (char 1126)\n",
      "Extra data: line 18 column 1 (char 1126)\n",
      "Extra data: line 18 column 1 (char 1126)\n",
      "Extra data: line 18 column 1 (char 1126)\n",
      "Extra data: line 18 column 1 (char 1126)\n",
      "Extra data: line 18 column 1 (char 1126)\n",
      "Extra data: line 18 column 1 (char 1126)\n",
      "Extra data: line 18 column 1 (char 1126)\n",
      "Extra data: line 18 column 1 (char 1126)\n",
      "Extra data: line 18 column 1 (char 1126)\n",
      "Extra data: line 18 column 1 (char 1126)\n",
      "Extra data: line 18 column 1 (char 1126)\n",
      "Extra data: line 18 column 1 (char 1126)\n",
      "Extra data: line 18 column 1 (char 1126)\n",
      "Extra data: line 18 column 1 (char 1126)\n",
      "Extra data: line 18 column 1 (char 1126)\n",
      "Extra data: line 18 column 1 (char 1126)\n",
      "Extra data: line 18 column 1 (char 1126)\n",
      "Extra data: line 18 column 1 (char 1126)\n",
      "Extra data: line 18 column 1 (char 1126)\n",
      "Extra data: line 18 column 1 (char 1126)\n",
      "Extra data: line 18 column 1 (char 1126)\n",
      "Extra data: line 18 column 1 (char 1126)\n",
      "Extra data: line 18 column 1 (char 1126)\n",
      "Extra data: line 18 column 1 (char 1126)\n",
      "Extra data: line 18 column 1 (char 1126)\n",
      "Extra data: line 18 column 1 (char 1126)\n",
      "Extra data: line 18 column 1 (char 1126)\n",
      "Extra data: line 18 column 1 (char 1126)\n",
      "Extra data: line 18 column 1 (char 1126)\n"
     ]
    },
    {
     "name": "stderr",
     "output_type": "stream",
     "text": [
      " 26%|███████████████████████▍                                                                    | 14275/55900 [41:24<1:16:00,  9.13it/s]"
     ]
    },
    {
     "name": "stdout",
     "output_type": "stream",
     "text": [
      "Extra data: line 18 column 1 (char 490)\n"
     ]
    },
    {
     "name": "stderr",
     "output_type": "stream",
     "text": [
      " 26%|███████████████████████▌                                                                    | 14295/55900 [41:27<1:44:36,  6.63it/s]"
     ]
    },
    {
     "name": "stdout",
     "output_type": "stream",
     "text": [
      "Extra data: line 18 column 1 (char 688)\n",
      "Extra data: line 18 column 1 (char 751)\n",
      "Extra data: line 18 column 1 (char 713)\n",
      "Extra data: line 18 column 1 (char 622)\n"
     ]
    },
    {
     "name": "stderr",
     "output_type": "stream",
     "text": [
      " 26%|███████████████████████▋                                                                    | 14383/55900 [41:42<2:14:14,  5.15it/s]"
     ]
    },
    {
     "name": "stdout",
     "output_type": "stream",
     "text": [
      "Extra data: line 18 column 1 (char 806)\n"
     ]
    },
    {
     "name": "stderr",
     "output_type": "stream",
     "text": [
      " 26%|███████████████████████▋                                                                    | 14391/55900 [41:43<2:11:38,  5.26it/s]"
     ]
    },
    {
     "name": "stdout",
     "output_type": "stream",
     "text": [
      "Extra data: line 18 column 1 (char 770)\n",
      "Extra data: line 18 column 1 (char 526)\n",
      "Extra data: line 18 column 1 (char 804)\n",
      "Extra data: line 18 column 1 (char 752)\n",
      "Extra data: line 18 column 1 (char 780)\n",
      "Extra data: line 18 column 1 (char 790)\n",
      "Extra data: line 18 column 1 (char 780)\n",
      "Extra data: line 18 column 1 (char 815)\n",
      "Extra data: line 18 column 1 (char 1256)\n"
     ]
    },
    {
     "name": "stderr",
     "output_type": "stream",
     "text": [
      " 26%|███████████████████████▊                                                                    | 14493/55900 [42:01<2:07:18,  5.42it/s]"
     ]
    },
    {
     "name": "stdout",
     "output_type": "stream",
     "text": [
      "Extra data: line 18 column 1 (char 506)\n",
      "Extra data: line 18 column 1 (char 583)\n"
     ]
    },
    {
     "name": "stderr",
     "output_type": "stream",
     "text": [
      "\r",
      " 26%|███████████████████████▊                                                                    | 14495/55900 [42:02<2:07:59,  5.39it/s]"
     ]
    },
    {
     "name": "stdout",
     "output_type": "stream",
     "text": [
      "Extra data: line 18 column 1 (char 650)\n",
      "Extra data: line 18 column 1 (char 738)\n",
      "Extra data: line 18 column 1 (char 689)\n",
      "Extra data: line 18 column 1 (char 932)\n",
      "Extra data: line 18 column 1 (char 777)\n"
     ]
    },
    {
     "name": "stderr",
     "output_type": "stream",
     "text": [
      " 26%|████████████████████████                                                                    | 14595/55900 [42:18<2:04:27,  5.53it/s]"
     ]
    },
    {
     "name": "stdout",
     "output_type": "stream",
     "text": [
      "Extra data: line 18 column 1 (char 853)\n",
      "Extra data: line 18 column 1 (char 851)\n"
     ]
    },
    {
     "name": "stderr",
     "output_type": "stream",
     "text": [
      " 26%|████████████████████████▏                                                                   | 14700/55900 [42:36<1:09:03,  9.94it/s]"
     ]
    },
    {
     "name": "stdout",
     "output_type": "stream",
     "text": [
      "Extra data: line 18 column 1 (char 875)\n",
      "Extra data: line 18 column 1 (char 749)\n"
     ]
    },
    {
     "name": "stderr",
     "output_type": "stream",
     "text": [
      " 26%|████████████████████████▎                                                                   | 14789/55900 [42:53<2:08:13,  5.34it/s]"
     ]
    },
    {
     "name": "stdout",
     "output_type": "stream",
     "text": [
      "Extra data: line 18 column 1 (char 737)\n"
     ]
    },
    {
     "name": "stderr",
     "output_type": "stream",
     "text": [
      "\r",
      " 26%|████████████████████████▎                                                                   | 14792/55900 [42:53<1:52:39,  6.08it/s]"
     ]
    },
    {
     "name": "stdout",
     "output_type": "stream",
     "text": [
      "Extra data: line 18 column 1 (char 632)\n"
     ]
    },
    {
     "name": "stderr",
     "output_type": "stream",
     "text": [
      " 26%|████████████████████████▎                                                                   | 14801/55900 [42:54<1:03:18, 10.82it/s]"
     ]
    },
    {
     "name": "stdout",
     "output_type": "stream",
     "text": [
      "Extra data: line 18 column 1 (char 663)\n",
      "Extra data: line 18 column 1 (char 624)\n",
      "Extra data: line 18 column 1 (char 844)\n",
      "Extra data: line 18 column 1 (char 780)\n"
     ]
    },
    {
     "name": "stderr",
     "output_type": "stream",
     "text": [
      " 27%|████████████████████████▌                                                                   | 14891/55900 [43:09<1:15:34,  9.04it/s]"
     ]
    },
    {
     "name": "stdout",
     "output_type": "stream",
     "text": [
      "Extra data: line 18 column 1 (char 682)\n"
     ]
    },
    {
     "name": "stderr",
     "output_type": "stream",
     "text": [
      " 27%|█████████████████████████                                                                     | 14900/55900 [43:09<34:14, 19.96it/s]"
     ]
    },
    {
     "name": "stdout",
     "output_type": "stream",
     "text": [
      "Extra data: line 18 column 1 (char 530)\n",
      "Extra data: line 18 column 1 (char 733)\n",
      "Extra data: line 18 column 1 (char 877)\n",
      "Extra data: line 18 column 1 (char 652)\n",
      "Extra data: line 18 column 1 (char 589)\n",
      "Extra data: line 18 column 1 (char 740)\n"
     ]
    },
    {
     "name": "stderr",
     "output_type": "stream",
     "text": [
      " 27%|████████████████████████▋                                                                   | 14977/55900 [43:23<1:31:35,  7.45it/s]"
     ]
    },
    {
     "name": "stdout",
     "output_type": "stream",
     "text": [
      "Extra data: line 18 column 1 (char 556)\n"
     ]
    },
    {
     "name": "stderr",
     "output_type": "stream",
     "text": [
      " 27%|████████████████████████▋                                                                   | 14990/55900 [43:25<2:34:52,  4.40it/s]"
     ]
    },
    {
     "name": "stdout",
     "output_type": "stream",
     "text": [
      "Extra data: line 18 column 1 (char 769)\n"
     ]
    },
    {
     "name": "stderr",
     "output_type": "stream",
     "text": [
      " 27%|████████████████████████▋                                                                   | 14999/55900 [43:26<1:43:13,  6.60it/s]"
     ]
    },
    {
     "name": "stdout",
     "output_type": "stream",
     "text": [
      "Extra data: line 18 column 1 (char 736)\n",
      "Extra data: line 18 column 1 (char 738)\n"
     ]
    },
    {
     "name": "stderr",
     "output_type": "stream",
     "text": [
      " 27%|█████████████████████████▍                                                                    | 15102/55900 [43:45<57:08, 11.90it/s]"
     ]
    },
    {
     "name": "stdout",
     "output_type": "stream",
     "text": [
      "Extra data: line 18 column 1 (char 695)\n",
      "Extra data: line 18 column 1 (char 525)\n",
      "Extra data: line 18 column 1 (char 700)\n",
      "Extra data: line 18 column 1 (char 813)\n"
     ]
    },
    {
     "name": "stderr",
     "output_type": "stream",
     "text": [
      " 27%|█████████████████████████                                                                   | 15193/55900 [44:04<2:23:28,  4.73it/s]"
     ]
    },
    {
     "name": "stdout",
     "output_type": "stream",
     "text": [
      "Extra data: line 18 column 1 (char 876)\n",
      "Extra data: line 18 column 1 (char 939)\n"
     ]
    },
    {
     "name": "stderr",
     "output_type": "stream",
     "text": [
      " 27%|█████████████████████████▏                                                                  | 15283/55900 [44:20<2:25:29,  4.65it/s]"
     ]
    },
    {
     "name": "stdout",
     "output_type": "stream",
     "text": [
      "Extra data: line 18 column 1 (char 623)\n"
     ]
    },
    {
     "name": "stderr",
     "output_type": "stream",
     "text": [
      " 27%|█████████████████████████▋                                                                    | 15299/55900 [44:21<41:30, 16.31it/s]"
     ]
    },
    {
     "name": "stdout",
     "output_type": "stream",
     "text": [
      "Extra data: line 18 column 1 (char 514)\n",
      "Extra data: line 18 column 1 (char 648)\n",
      "Extra data: line 18 column 1 (char 807)\n",
      "Extra data: line 18 column 1 (char 703)\n",
      "Extra data: line 18 column 1 (char 621)\n",
      "Extra data: line 18 column 1 (char 708)\n",
      "Extra data: line 18 column 1 (char 1161)\n",
      "Extra data: line 18 column 1 (char 782)\n",
      "Extra data: line 18 column 1 (char 848)\n",
      "Extra data: line 18 column 1 (char 975)\n"
     ]
    },
    {
     "name": "stderr",
     "output_type": "stream",
     "text": [
      " 28%|█████████████████████████▉                                                                    | 15401/55900 [44:38<53:11, 12.69it/s]"
     ]
    },
    {
     "name": "stdout",
     "output_type": "stream",
     "text": [
      "Extra data: line 18 column 1 (char 874)\n",
      "Extra data: line 18 column 1 (char 644)\n",
      "Extra data: line 18 column 1 (char 617)\n",
      "Extra data: line 18 column 1 (char 1024)\n",
      "Extra data: line 18 column 1 (char 668)\n",
      "Extra data: line 18 column 1 (char 689)\n"
     ]
    },
    {
     "name": "stderr",
     "output_type": "stream",
     "text": [
      " 28%|█████████████████████████▌                                                                  | 15497/55900 [44:56<1:25:41,  7.86it/s]"
     ]
    },
    {
     "name": "stdout",
     "output_type": "stream",
     "text": [
      "Extra data: line 18 column 1 (char 1062)\n"
     ]
    },
    {
     "name": "stderr",
     "output_type": "stream",
     "text": [
      " 28%|█████████████████████████▋                                                                  | 15589/55900 [45:12<1:02:58, 10.67it/s]"
     ]
    },
    {
     "name": "stdout",
     "output_type": "stream",
     "text": [
      "Extra data: line 18 column 1 (char 604)\n"
     ]
    },
    {
     "name": "stderr",
     "output_type": "stream",
     "text": [
      " 28%|█████████████████████████▋                                                                  | 15593/55900 [45:12<1:35:59,  7.00it/s]"
     ]
    },
    {
     "name": "stdout",
     "output_type": "stream",
     "text": [
      "Extra data: line 18 column 1 (char 876)\n",
      "Extra data: line 18 column 1 (char 611)\n",
      "Extra data: line 18 column 1 (char 706)\n",
      "Extra data: line 18 column 1 (char 726)\n",
      "Extra data: line 18 column 1 (char 684)\n",
      "Extra data: line 18 column 1 (char 800)\n",
      "Extra data: line 18 column 1 (char 704)\n",
      "Extra data: line 18 column 1 (char 769)\n"
     ]
    },
    {
     "name": "stderr",
     "output_type": "stream",
     "text": [
      " 28%|█████████████████████████▊                                                                  | 15687/55900 [45:29<2:16:26,  4.91it/s]"
     ]
    },
    {
     "name": "stdout",
     "output_type": "stream",
     "text": [
      "Expecting ',' delimiter: line 13 column 199 (char 1034)\n"
     ]
    },
    {
     "name": "stderr",
     "output_type": "stream",
     "text": [
      " 28%|█████████████████████████▊                                                                  | 15700/55900 [45:32<2:25:31,  4.60it/s]"
     ]
    },
    {
     "name": "stdout",
     "output_type": "stream",
     "text": [
      "'NoneType' object is not subscriptable\n",
      "'NoneType' object is not subscriptable\n",
      "'NoneType' object is not subscriptable\n",
      "'NoneType' object is not subscriptable\n",
      "'NoneType' object is not subscriptable\n",
      "'NoneType' object is not subscriptable\n"
     ]
    },
    {
     "name": "stderr",
     "output_type": "stream",
     "text": [
      " 28%|██████████████████████████▌                                                                   | 15801/55900 [45:47<46:13, 14.46it/s]"
     ]
    },
    {
     "name": "stdout",
     "output_type": "stream",
     "text": [
      "Extra data: line 18 column 1 (char 868)\n",
      "Extra data: line 7 column 1 (char 531)\n",
      "Extra data: line 18 column 1 (char 885)\n"
     ]
    },
    {
     "name": "stderr",
     "output_type": "stream",
     "text": [
      " 28%|██████████████████████████▏                                                                 | 15890/55900 [46:06<1:57:25,  5.68it/s]"
     ]
    },
    {
     "name": "stdout",
     "output_type": "stream",
     "text": [
      "Extra data: line 18 column 1 (char 613)\n"
     ]
    },
    {
     "name": "stderr",
     "output_type": "stream",
     "text": [
      " 28%|██████████████████████████▋                                                                   | 15899/55900 [46:07<55:38, 11.98it/s]"
     ]
    },
    {
     "name": "stdout",
     "output_type": "stream",
     "text": [
      "Extra data: line 18 column 1 (char 826)\n",
      "Extra data: line 18 column 1 (char 516)\n",
      "Extra data: line 18 column 1 (char 511)\n",
      "Extra data: line 18 column 1 (char 1101)\n",
      "Extra data: line 18 column 1 (char 705)\n"
     ]
    },
    {
     "name": "stderr",
     "output_type": "stream",
     "text": [
      " 29%|██████████████████████████▎                                                                 | 15990/55900 [46:25<2:42:31,  4.09it/s]"
     ]
    },
    {
     "name": "stdout",
     "output_type": "stream",
     "text": [
      "Extra data: line 18 column 1 (char 713)\n"
     ]
    },
    {
     "name": "stderr",
     "output_type": "stream",
     "text": [
      "\r",
      " 29%|██████████████████████████▎                                                                 | 15993/55900 [46:25<2:08:05,  5.19it/s]"
     ]
    },
    {
     "name": "stdout",
     "output_type": "stream",
     "text": [
      "Extra data: line 18 column 1 (char 659)\n",
      "Extra data: line 18 column 1 (char 940)\n",
      "Extra data: line 18 column 1 (char 705)\n",
      "Extra data: line 18 column 1 (char 876)\n",
      "Extra data: line 18 column 1 (char 737)\n",
      "Extra data: line 18 column 1 (char 782)\n",
      "Extra data: line 18 column 1 (char 697)\n"
     ]
    },
    {
     "name": "stderr",
     "output_type": "stream",
     "text": [
      " 29%|██████████████████████████▍                                                                 | 16101/55900 [46:47<1:43:13,  6.43it/s]"
     ]
    },
    {
     "name": "stdout",
     "output_type": "stream",
     "text": [
      "Extra data: line 18 column 1 (char 752)\n"
     ]
    },
    {
     "name": "stderr",
     "output_type": "stream",
     "text": [
      " 29%|██████████████████████████▋                                                                 | 16189/55900 [47:03<2:24:47,  4.57it/s]"
     ]
    },
    {
     "name": "stdout",
     "output_type": "stream",
     "text": [
      "Extra data: line 18 column 1 (char 731)\n"
     ]
    },
    {
     "name": "stderr",
     "output_type": "stream",
     "text": [
      " 29%|██████████████████████████▋                                                                 | 16198/55900 [47:04<1:15:05,  8.81it/s]"
     ]
    },
    {
     "name": "stdout",
     "output_type": "stream",
     "text": [
      "Extra data: line 18 column 1 (char 701)\n",
      "Extra data: line 18 column 1 (char 677)\n",
      "Extra data: line 18 column 1 (char 676)\n",
      "Extra data: line 18 column 1 (char 784)\n",
      "Extra data: line 18 column 1 (char 737)\n"
     ]
    },
    {
     "name": "stderr",
     "output_type": "stream",
     "text": [
      " 29%|███████████████████████████▍                                                                  | 16301/55900 [47:21<40:39, 16.23it/s]"
     ]
    },
    {
     "name": "stdout",
     "output_type": "stream",
     "text": [
      "Extra data: line 18 column 1 (char 568)\n",
      "Extra data: line 18 column 1 (char 678)\n",
      "Extra data: line 18 column 1 (char 643)\n",
      "Extra data: line 18 column 1 (char 619)\n",
      "Extra data: line 18 column 1 (char 710)\n",
      "Extra data: line 18 column 1 (char 687)\n",
      "Extra data: line 18 column 1 (char 834)\n"
     ]
    },
    {
     "name": "stderr",
     "output_type": "stream",
     "text": [
      " 29%|██████████████████████████▉                                                                 | 16333/55900 [47:26<1:27:05,  7.57it/s]"
     ]
    },
    {
     "name": "stdout",
     "output_type": "stream",
     "text": [
      "Expecting ',' delimiter: line 4 column 60 (char 81)\n"
     ]
    },
    {
     "name": "stderr",
     "output_type": "stream",
     "text": [
      " 29%|██████████████████████████▉                                                                 | 16388/55900 [47:37<1:39:53,  6.59it/s]"
     ]
    },
    {
     "name": "stdout",
     "output_type": "stream",
     "text": [
      "Extra data: line 18 column 1 (char 613)\n"
     ]
    },
    {
     "name": "stderr",
     "output_type": "stream",
     "text": [
      " 29%|██████████████████████████▉                                                                 | 16392/55900 [47:37<1:35:19,  6.91it/s]"
     ]
    },
    {
     "name": "stdout",
     "output_type": "stream",
     "text": [
      "Extra data: line 18 column 1 (char 590)\n"
     ]
    },
    {
     "name": "stderr",
     "output_type": "stream",
     "text": [
      " 29%|███████████████████████████▌                                                                  | 16401/55900 [47:37<35:55, 18.32it/s]"
     ]
    },
    {
     "name": "stdout",
     "output_type": "stream",
     "text": [
      "Extra data: line 18 column 1 (char 473)\n",
      "Extra data: line 18 column 1 (char 657)\n",
      "Extra data: line 18 column 1 (char 650)\n",
      "Extra data: line 18 column 1 (char 644)\n",
      "Extra data: line 18 column 1 (char 618)\n",
      "Extra data: line 18 column 1 (char 793)\n",
      "Extra data: line 18 column 1 (char 669)\n"
     ]
    },
    {
     "name": "stderr",
     "output_type": "stream",
     "text": [
      " 29%|███████████████████████████                                                                 | 16449/55900 [47:46<1:41:45,  6.46it/s]"
     ]
    },
    {
     "name": "stdout",
     "output_type": "stream",
     "text": [
      "Expecting ',' delimiter: line 12 column 50 (char 473)\n"
     ]
    },
    {
     "name": "stderr",
     "output_type": "stream",
     "text": [
      " 29%|███████████████████████████▏                                                                | 16482/55900 [47:51<1:22:43,  7.94it/s]"
     ]
    },
    {
     "name": "stdout",
     "output_type": "stream",
     "text": [
      "Expecting ',' delimiter: line 13 column 61 (char 619)\n"
     ]
    },
    {
     "name": "stderr",
     "output_type": "stream",
     "text": [
      " 30%|███████████████████████████▏                                                                | 16491/55900 [47:53<2:20:04,  4.69it/s]"
     ]
    },
    {
     "name": "stdout",
     "output_type": "stream",
     "text": [
      "Expecting ',' delimiter: line 13 column 106 (char 713)\n"
     ]
    },
    {
     "name": "stderr",
     "output_type": "stream",
     "text": [
      " 30%|███████████████████████████▏                                                                | 16501/55900 [47:54<1:09:00,  9.51it/s]"
     ]
    },
    {
     "name": "stdout",
     "output_type": "stream",
     "text": [
      "Extra data: line 18 column 1 (char 666)\n",
      "Extra data: line 18 column 1 (char 552)\n",
      "Extra data: line 18 column 1 (char 763)\n",
      "Extra data: line 18 column 1 (char 778)\n"
     ]
    },
    {
     "name": "stderr",
     "output_type": "stream",
     "text": [
      " 30%|███████████████████████████▏                                                                | 16514/55900 [47:57<1:33:03,  7.05it/s]"
     ]
    },
    {
     "name": "stdout",
     "output_type": "stream",
     "text": [
      "Expecting ',' delimiter: line 13 column 86 (char 617)\n"
     ]
    },
    {
     "name": "stderr",
     "output_type": "stream",
     "text": [
      " 30%|███████████████████████████▎                                                                | 16596/55900 [48:12<3:04:18,  3.55it/s]"
     ]
    },
    {
     "name": "stdout",
     "output_type": "stream",
     "text": [
      "Extra data: line 18 column 1 (char 856)\n"
     ]
    },
    {
     "name": "stderr",
     "output_type": "stream",
     "text": [
      " 30%|███████████████████████████▌                                                                | 16765/55900 [48:41<2:16:13,  4.79it/s]"
     ]
    },
    {
     "name": "stdout",
     "output_type": "stream",
     "text": [
      "Expecting ',' delimiter: line 13 column 458 (char 1074)\n"
     ]
    },
    {
     "name": "stderr",
     "output_type": "stream",
     "text": [
      " 30%|███████████████████████████▋                                                                | 16797/55900 [48:47<1:20:46,  8.07it/s]"
     ]
    },
    {
     "name": "stdout",
     "output_type": "stream",
     "text": [
      "Extra data: line 18 column 1 (char 1203)\n",
      "Extra data: line 18 column 1 (char 848)\n"
     ]
    },
    {
     "name": "stderr",
     "output_type": "stream",
     "text": [
      " 30%|███████████████████████████▊                                                                | 16875/55900 [49:02<2:08:03,  5.08it/s]"
     ]
    },
    {
     "name": "stdout",
     "output_type": "stream",
     "text": [
      "Extra data: line 18 column 1 (char 694)\n"
     ]
    },
    {
     "name": "stderr",
     "output_type": "stream",
     "text": [
      " 30%|███████████████████████████▊                                                                | 16900/55900 [49:06<1:30:26,  7.19it/s]"
     ]
    },
    {
     "name": "stdout",
     "output_type": "stream",
     "text": [
      "Extra data: line 18 column 1 (char 577)\n",
      "Extra data: line 18 column 1 (char 721)\n"
     ]
    },
    {
     "name": "stderr",
     "output_type": "stream",
     "text": [
      " 30%|███████████████████████████▉                                                                | 16994/55900 [49:21<1:30:51,  7.14it/s]"
     ]
    },
    {
     "name": "stdout",
     "output_type": "stream",
     "text": [
      "Extra data: line 18 column 1 (char 853)\n"
     ]
    },
    {
     "name": "stderr",
     "output_type": "stream",
     "text": [
      " 30%|███████████████████████████▉                                                                | 16997/55900 [49:22<1:31:36,  7.08it/s]"
     ]
    },
    {
     "name": "stdout",
     "output_type": "stream",
     "text": [
      "Extra data: line 18 column 1 (char 1062)\n"
     ]
    },
    {
     "name": "stderr",
     "output_type": "stream",
     "text": [
      "\r",
      " 30%|███████████████████████████▉                                                                | 16999/55900 [49:22<1:28:27,  7.33it/s]"
     ]
    },
    {
     "name": "stdout",
     "output_type": "stream",
     "text": [
      "Extra data: line 18 column 1 (char 857)\n"
     ]
    },
    {
     "name": "stderr",
     "output_type": "stream",
     "text": [
      " 31%|████████████████████████████▏                                                               | 17098/55900 [49:41<1:55:42,  5.59it/s]"
     ]
    },
    {
     "name": "stdout",
     "output_type": "stream",
     "text": [
      "Extra data: line 18 column 1 (char 1121)\n",
      "Unterminated string starting at: line 13 column 24 (char 699)\n"
     ]
    },
    {
     "name": "stderr",
     "output_type": "stream",
     "text": [
      " 31%|████████████████████████████▎                                                               | 17179/55900 [49:56<1:53:20,  5.69it/s]"
     ]
    },
    {
     "name": "stdout",
     "output_type": "stream",
     "text": [
      "Extra data: line 18 column 1 (char 422)\n"
     ]
    },
    {
     "name": "stderr",
     "output_type": "stream",
     "text": [
      " 31%|████████████████████████████▉                                                                 | 17202/55900 [49:59<47:07, 13.68it/s]"
     ]
    },
    {
     "name": "stdout",
     "output_type": "stream",
     "text": [
      "Extra data: line 18 column 1 (char 709)\n",
      "Extra data: line 18 column 1 (char 611)\n",
      "Extra data: line 18 column 1 (char 653)\n",
      "Extra data: line 18 column 1 (char 836)\n",
      "Extra data: line 18 column 1 (char 819)\n"
     ]
    },
    {
     "name": "stderr",
     "output_type": "stream",
     "text": [
      " 31%|█████████████████████████████                                                                 | 17298/55900 [50:13<41:25, 15.53it/s]"
     ]
    },
    {
     "name": "stdout",
     "output_type": "stream",
     "text": [
      "Extra data: line 18 column 1 (char 602)\n"
     ]
    },
    {
     "name": "stderr",
     "output_type": "stream",
     "text": [
      " 31%|████████████████████████████▋                                                               | 17402/55900 [50:32<1:03:08, 10.16it/s]"
     ]
    },
    {
     "name": "stdout",
     "output_type": "stream",
     "text": [
      "Extra data: line 18 column 1 (char 1062)\n"
     ]
    },
    {
     "name": "stderr",
     "output_type": "stream",
     "text": [
      " 31%|████████████████████████████▊                                                               | 17488/55900 [50:48<2:46:21,  3.85it/s]"
     ]
    },
    {
     "name": "stdout",
     "output_type": "stream",
     "text": [
      "Extra data: line 18 column 1 (char 817)\n",
      "Extra data: line 18 column 1 (char 652)\n"
     ]
    },
    {
     "name": "stderr",
     "output_type": "stream",
     "text": [
      "\r",
      " 31%|████████████████████████████▊                                                               | 17491/55900 [50:48<1:43:00,  6.21it/s]"
     ]
    },
    {
     "name": "stdout",
     "output_type": "stream",
     "text": [
      "Extra data: line 18 column 1 (char 789)\n"
     ]
    },
    {
     "name": "stderr",
     "output_type": "stream",
     "text": [
      " 31%|█████████████████████████████▍                                                                | 17502/55900 [50:48<34:34, 18.51it/s]"
     ]
    },
    {
     "name": "stdout",
     "output_type": "stream",
     "text": [
      "Extra data: line 18 column 1 (char 879)\n",
      "Extra data: line 18 column 1 (char 562)\n",
      "Extra data: line 18 column 1 (char 1015)\n",
      "Extra data: line 18 column 1 (char 704)\n",
      "Extra data: line 18 column 1 (char 737)\n",
      "Extra data: line 18 column 1 (char 781)\n"
     ]
    },
    {
     "name": "stderr",
     "output_type": "stream",
     "text": [
      "\r",
      " 31%|█████████████████████████████▍                                                                | 17506/55900 [50:49<41:00, 15.61it/s]"
     ]
    },
    {
     "name": "stdout",
     "output_type": "stream",
     "text": [
      "Unterminated string starting at: line 13 column 18 (char 583)\n"
     ]
    },
    {
     "name": "stderr",
     "output_type": "stream",
     "text": [
      " 31%|████████████████████████████▉                                                               | 17581/55900 [51:03<2:00:27,  5.30it/s]"
     ]
    },
    {
     "name": "stdout",
     "output_type": "stream",
     "text": [
      "Expecting property name enclosed in double quotes: line 13 column 194 (char 913)\n"
     ]
    },
    {
     "name": "stderr",
     "output_type": "stream",
     "text": [
      " 31%|████████████████████████████▉                                                               | 17595/55900 [51:06<1:43:55,  6.14it/s]"
     ]
    },
    {
     "name": "stdout",
     "output_type": "stream",
     "text": [
      "Extra data: line 18 column 1 (char 803)\n",
      "Extra data: line 18 column 1 (char 675)\n",
      "Extra data: line 18 column 1 (char 726)\n",
      "Extra data: line 18 column 1 (char 856)\n"
     ]
    },
    {
     "name": "stderr",
     "output_type": "stream",
     "text": [
      " 32%|█████████████████████████████▊                                                                | 17701/55900 [51:22<31:09, 20.44it/s]"
     ]
    },
    {
     "name": "stdout",
     "output_type": "stream",
     "text": [
      "Extra data: line 18 column 1 (char 677)\n",
      "Extra data: line 18 column 1 (char 610)\n",
      "Extra data: line 18 column 1 (char 664)\n",
      "Extra data: line 18 column 1 (char 722)\n",
      "Extra data: line 18 column 1 (char 825)\n",
      "Extra data: line 18 column 1 (char 977)\n",
      "Extra data: line 18 column 1 (char 1089)\n",
      "Extra data: line 18 column 1 (char 598)\n",
      "Extra data: line 18 column 1 (char 741)\n",
      "Extra data: line 18 column 1 (char 668)\n",
      "Extra data: line 18 column 1 (char 582)\n",
      "Extra data: line 18 column 1 (char 836)\n",
      "Extra data: line 18 column 1 (char 772)\n"
     ]
    },
    {
     "name": "stderr",
     "output_type": "stream",
     "text": [
      " 32%|█████████████████████████████▎                                                              | 17796/55900 [51:38<1:42:08,  6.22it/s]"
     ]
    },
    {
     "name": "stdout",
     "output_type": "stream",
     "text": [
      "Extra data: line 18 column 1 (char 926)\n",
      "Extra data: line 18 column 1 (char 1017)\n"
     ]
    },
    {
     "name": "stderr",
     "output_type": "stream",
     "text": [
      " 32%|█████████████████████████████▍                                                              | 17899/55900 [51:56<1:01:24, 10.31it/s]"
     ]
    },
    {
     "name": "stdout",
     "output_type": "stream",
     "text": [
      "Extra data: line 18 column 1 (char 1009)\n",
      "Extra data: line 18 column 1 (char 677)\n",
      "Extra data: line 18 column 1 (char 830)\n"
     ]
    },
    {
     "name": "stderr",
     "output_type": "stream",
     "text": [
      " 32%|██████████████████████████████▎                                                               | 17991/55900 [52:09<54:17, 11.64it/s]"
     ]
    },
    {
     "name": "stdout",
     "output_type": "stream",
     "text": [
      "Extra data: line 18 column 1 (char 857)\n",
      "Extra data: line 18 column 1 (char 853)\n"
     ]
    },
    {
     "name": "stderr",
     "output_type": "stream",
     "text": [
      " 32%|█████████████████████████████▊                                                              | 18085/55900 [52:28<1:32:32,  6.81it/s]"
     ]
    },
    {
     "name": "stdout",
     "output_type": "stream",
     "text": [
      "Extra data: line 18 column 1 (char 569)\n"
     ]
    },
    {
     "name": "stderr",
     "output_type": "stream",
     "text": [
      " 32%|██████████████████████████████▍                                                               | 18101/55900 [52:29<36:28, 17.27it/s]"
     ]
    },
    {
     "name": "stdout",
     "output_type": "stream",
     "text": [
      "Extra data: line 18 column 1 (char 858)\n",
      "Extra data: line 18 column 1 (char 863)\n",
      "Extra data: line 18 column 1 (char 613)\n",
      "Extra data: line 18 column 1 (char 635)\n",
      "Extra data: line 18 column 1 (char 725)\n",
      "Extra data: line 18 column 1 (char 625)\n",
      "Extra data: line 18 column 1 (char 852)\n"
     ]
    },
    {
     "name": "stderr",
     "output_type": "stream",
     "text": [
      " 32%|█████████████████████████████▉                                                              | 18156/55900 [52:41<1:46:14,  5.92it/s]"
     ]
    },
    {
     "name": "stdout",
     "output_type": "stream",
     "text": [
      "Expecting ',' delimiter: line 13 column 98 (char 789)\n"
     ]
    },
    {
     "name": "stderr",
     "output_type": "stream",
     "text": [
      " 33%|█████████████████████████████▉                                                              | 18193/55900 [52:47<1:43:17,  6.08it/s]"
     ]
    },
    {
     "name": "stdout",
     "output_type": "stream",
     "text": [
      "Extra data: line 18 column 1 (char 847)\n"
     ]
    },
    {
     "name": "stderr",
     "output_type": "stream",
     "text": [
      "\r",
      " 33%|█████████████████████████████▉                                                              | 18195/55900 [52:48<1:42:47,  6.11it/s]"
     ]
    },
    {
     "name": "stdout",
     "output_type": "stream",
     "text": [
      "Extra data: line 18 column 1 (char 831)\n",
      "Extra data: line 18 column 1 (char 667)\n",
      "Extra data: line 18 column 1 (char 726)\n",
      "Extra data: line 18 column 1 (char 699)\n",
      "Extra data: line 18 column 1 (char 1053)\n"
     ]
    },
    {
     "name": "stderr",
     "output_type": "stream",
     "text": [
      " 33%|██████████████████████████████                                                              | 18290/55900 [53:03<2:06:38,  4.95it/s]"
     ]
    },
    {
     "name": "stdout",
     "output_type": "stream",
     "text": [
      "Extra data: line 18 column 1 (char 598)\n",
      "Extra data: line 18 column 1 (char 754)\n"
     ]
    },
    {
     "name": "stderr",
     "output_type": "stream",
     "text": [
      "\r",
      " 33%|██████████████████████████████                                                              | 18294/55900 [53:04<1:47:22,  5.84it/s]"
     ]
    },
    {
     "name": "stdout",
     "output_type": "stream",
     "text": [
      "Extra data: line 18 column 1 (char 580)\n",
      "Extra data: line 18 column 1 (char 601)\n",
      "Extra data: line 18 column 1 (char 705)\n",
      "Extra data: line 18 column 1 (char 779)\n",
      "Extra data: line 18 column 1 (char 808)\n",
      "Extra data: line 18 column 1 (char 809)\n"
     ]
    },
    {
     "name": "stderr",
     "output_type": "stream",
     "text": [
      " 33%|██████████████████████████████▎                                                             | 18394/55900 [53:23<2:03:17,  5.07it/s]"
     ]
    },
    {
     "name": "stdout",
     "output_type": "stream",
     "text": [
      "Extra data: line 18 column 1 (char 642)\n"
     ]
    },
    {
     "name": "stderr",
     "output_type": "stream",
     "text": [
      "\r",
      " 33%|██████████████████████████████▎                                                             | 18397/55900 [53:24<1:54:40,  5.45it/s]"
     ]
    },
    {
     "name": "stdout",
     "output_type": "stream",
     "text": [
      "Extra data: line 18 column 1 (char 671)\n"
     ]
    },
    {
     "name": "stderr",
     "output_type": "stream",
     "text": [
      " 33%|██████████████████████████████▍                                                             | 18496/55900 [53:41<1:38:22,  6.34it/s]"
     ]
    },
    {
     "name": "stdout",
     "output_type": "stream",
     "text": [
      "Extra data: line 18 column 1 (char 781)\n",
      "Extra data: line 18 column 1 (char 722)\n",
      "Extra data: line 18 column 1 (char 660)\n",
      "Extra data: line 18 column 1 (char 749)\n"
     ]
    },
    {
     "name": "stderr",
     "output_type": "stream",
     "text": [
      " 33%|██████████████████████████████▌                                                             | 18598/55900 [54:03<1:43:38,  6.00it/s]"
     ]
    },
    {
     "name": "stdout",
     "output_type": "stream",
     "text": [
      "Extra data: line 18 column 1 (char 892)\n",
      "Extra data: line 18 column 1 (char 994)\n"
     ]
    },
    {
     "name": "stderr",
     "output_type": "stream",
     "text": [
      " 34%|███████████████████████████████▌                                                              | 18741/55900 [54:27<22:26, 27.59it/s]"
     ]
    },
    {
     "name": "stdout",
     "output_type": "stream",
     "text": [
      "Extra data: line 18 column 1 (char 1016)\n",
      "Extra data: line 18 column 1 (char 1016)\n",
      "Extra data: line 18 column 1 (char 1016)\n",
      "Extra data: line 18 column 1 (char 1016)\n",
      "Extra data: line 18 column 1 (char 1016)\n",
      "Extra data: line 18 column 1 (char 1016)\n",
      "Extra data: line 18 column 1 (char 1016)\n",
      "Extra data: line 18 column 1 (char 1016)\n",
      "Extra data: line 18 column 1 (char 1016)\n",
      "Extra data: line 18 column 1 (char 1016)\n",
      "Extra data: line 18 column 1 (char 1016)\n",
      "Extra data: line 18 column 1 (char 1016)\n",
      "Extra data: line 18 column 1 (char 1016)\n",
      "Extra data: line 18 column 1 (char 1232)\n",
      "Extra data: line 18 column 1 (char 1040)\n",
      "Extra data: line 18 column 1 (char 1059)\n",
      "Extra data: line 18 column 1 (char 1043)\n",
      "Extra data: line 18 column 1 (char 1075)\n",
      "Extra data: line 18 column 1 (char 1043)\n",
      "Extra data: line 18 column 1 (char 1075)\n",
      "Extra data: line 18 column 1 (char 1059)\n",
      "Extra data: line 18 column 1 (char 1075)\n",
      "Extra data: line 18 column 1 (char 1035)\n",
      "Extra data: line 18 column 1 (char 1075)\n",
      "Extra data: line 18 column 1 (char 1075)\n",
      "Extra data: line 18 column 1 (char 1075)\n",
      "Extra data: line 18 column 1 (char 1075)\n",
      "Extra data: line 18 column 1 (char 1075)\n",
      "Extra data: line 18 column 1 (char 1055)\n",
      "Extra data: line 18 column 1 (char 1075)\n",
      "Extra data: line 18 column 1 (char 1117)\n",
      "Extra data: line 18 column 1 (char 1123)\n",
      "Extra data: line 18 column 1 (char 1123)\n",
      "Extra data: line 18 column 1 (char 1123)\n",
      "Extra data: line 18 column 1 (char 1123)\n",
      "Extra data: line 18 column 1 (char 1123)\n",
      "Extra data: line 18 column 1 (char 1123)\n",
      "Extra data: line 18 column 1 (char 1123)\n",
      "Extra data: line 18 column 1 (char 1123)\n",
      "Extra data: line 18 column 1 (char 1129)\n",
      "Extra data: line 18 column 1 (char 1061)\n",
      "Extra data: line 18 column 1 (char 1129)\n",
      "Extra data: line 18 column 1 (char 1123)\n",
      "Extra data: line 18 column 1 (char 1129)\n",
      "Extra data: line 18 column 1 (char 1170)\n",
      "Extra data: line 18 column 1 (char 1132)\n",
      "Extra data: line 18 column 1 (char 1123)\n",
      "Extra data: line 18 column 1 (char 1123)\n",
      "Extra data: line 18 column 1 (char 1170)\n",
      "Extra data: line 18 column 1 (char 1129)\n",
      "Extra data: line 18 column 1 (char 1129)\n",
      "Extra data: line 18 column 1 (char 1170)\n",
      "Extra data: line 18 column 1 (char 1123)\n",
      "Extra data: line 18 column 1 (char 1170)\n",
      "Extra data: line 18 column 1 (char 1186)\n",
      "Extra data: line 18 column 1 (char 1208)\n",
      "Extra data: line 18 column 1 (char 1233)\n",
      "Extra data: line 18 column 1 (char 1230)\n",
      "Extra data: line 18 column 1 (char 1208)\n",
      "Extra data: line 18 column 1 (char 1230)\n",
      "Extra data: line 18 column 1 (char 1208)\n",
      "Extra data: line 18 column 1 (char 1208)\n",
      "Extra data: line 18 column 1 (char 1208)\n",
      "Extra data: line 18 column 1 (char 1208)\n",
      "Extra data: line 18 column 1 (char 1205)\n",
      "Extra data: line 18 column 1 (char 1170)\n"
     ]
    },
    {
     "name": "stderr",
     "output_type": "stream",
     "text": [
      "\r",
      " 34%|███████████████████████████████▎                                                             | 18793/55900 [54:28<05:41, 108.54it/s]"
     ]
    },
    {
     "name": "stdout",
     "output_type": "stream",
     "text": [
      "Extra data: line 18 column 1 (char 1162)\n",
      "Extra data: line 18 column 1 (char 1123)\n",
      "Extra data: line 18 column 1 (char 1170)\n",
      "Extra data: line 18 column 1 (char 1208)\n",
      "Extra data: line 18 column 1 (char 1208)\n"
     ]
    },
    {
     "name": "stderr",
     "output_type": "stream",
     "text": [
      " 34%|███████████████████████████████▊                                                              | 18895/55900 [54:45<56:42, 10.88it/s]"
     ]
    },
    {
     "name": "stdout",
     "output_type": "stream",
     "text": [
      "Extra data: line 18 column 1 (char 853)\n",
      "Extra data: line 18 column 1 (char 1083)\n"
     ]
    },
    {
     "name": "stderr",
     "output_type": "stream",
     "text": [
      " 34%|███████████████████████████████▎                                                            | 18994/55900 [55:05<1:58:40,  5.18it/s]"
     ]
    },
    {
     "name": "stdout",
     "output_type": "stream",
     "text": [
      "Extra data: line 18 column 1 (char 875)\n"
     ]
    },
    {
     "name": "stderr",
     "output_type": "stream",
     "text": [
      " 34%|███████████████████████████████▎                                                            | 18999/55900 [55:05<1:18:46,  7.81it/s]"
     ]
    },
    {
     "name": "stdout",
     "output_type": "stream",
     "text": [
      "Extra data: line 18 column 1 (char 852)\n"
     ]
    },
    {
     "name": "stderr",
     "output_type": "stream",
     "text": [
      " 34%|███████████████████████████████▍                                                            | 19093/55900 [55:22<1:23:32,  7.34it/s]"
     ]
    },
    {
     "name": "stdout",
     "output_type": "stream",
     "text": [
      "Extra data: line 18 column 1 (char 857)\n",
      "Extra data: line 18 column 1 (char 933)\n",
      "Extra data: line 18 column 1 (char 1017)\n"
     ]
    },
    {
     "name": "stderr",
     "output_type": "stream",
     "text": [
      " 34%|███████████████████████████████▌                                                            | 19195/55900 [55:39<1:43:26,  5.91it/s]"
     ]
    },
    {
     "name": "stdout",
     "output_type": "stream",
     "text": [
      "Extra data: line 18 column 1 (char 875)\n",
      "Extra data: line 18 column 1 (char 857)\n"
     ]
    },
    {
     "name": "stderr",
     "output_type": "stream",
     "text": [
      "\r",
      " 34%|███████████████████████████████▌                                                            | 19198/55900 [55:40<1:17:02,  7.94it/s]"
     ]
    },
    {
     "name": "stdout",
     "output_type": "stream",
     "text": [
      "Extra data: line 18 column 1 (char 668)\n"
     ]
    },
    {
     "name": "stderr",
     "output_type": "stream",
     "text": [
      " 35%|████████████████████████████████▍                                                             | 19301/55900 [55:59<51:42, 11.79it/s]"
     ]
    },
    {
     "name": "stdout",
     "output_type": "stream",
     "text": [
      "Extra data: line 18 column 1 (char 904)\n",
      "Expecting ',' delimiter: line 4 column 33 (char 54)\n"
     ]
    },
    {
     "name": "stderr",
     "output_type": "stream",
     "text": [
      " 35%|████████████████████████████████▏                                                           | 19590/55900 [56:53<2:00:20,  5.03it/s]"
     ]
    },
    {
     "name": "stdout",
     "output_type": "stream",
     "text": [
      "Extra data: line 18 column 1 (char 503)\n"
     ]
    },
    {
     "name": "stderr",
     "output_type": "stream",
     "text": [
      " 35%|████████████████████████████████▉                                                             | 19601/55900 [56:54<40:04, 15.10it/s]"
     ]
    },
    {
     "name": "stdout",
     "output_type": "stream",
     "text": [
      "Extra data: line 18 column 1 (char 862)\n",
      "Extra data: line 18 column 1 (char 521)\n",
      "Extra data: line 18 column 1 (char 582)\n",
      "Extra data: line 18 column 1 (char 758)\n",
      "Extra data: line 18 column 1 (char 736)\n",
      "Extra data: line 18 column 1 (char 631)\n"
     ]
    },
    {
     "name": "stderr",
     "output_type": "stream",
     "text": [
      " 35%|████████████████████████████████▍                                                           | 19694/55900 [57:11<1:34:05,  6.41it/s]"
     ]
    },
    {
     "name": "stdout",
     "output_type": "stream",
     "text": [
      "Extra data: line 18 column 1 (char 846)\n"
     ]
    },
    {
     "name": "stderr",
     "output_type": "stream",
     "text": [
      " 35%|████████████████████████████████▍                                                           | 19697/55900 [57:11<1:37:55,  6.16it/s]"
     ]
    },
    {
     "name": "stdout",
     "output_type": "stream",
     "text": [
      "Extra data: line 18 column 1 (char 853)\n"
     ]
    },
    {
     "name": "stderr",
     "output_type": "stream",
     "text": [
      " 35%|█████████████████████████████████▎                                                            | 19798/55900 [57:28<58:01, 10.37it/s]"
     ]
    },
    {
     "name": "stdout",
     "output_type": "stream",
     "text": [
      "Extra data: line 18 column 1 (char 857)\n",
      "Extra data: line 18 column 1 (char 853)\n",
      "Extra data: line 18 column 1 (char 857)\n"
     ]
    },
    {
     "name": "stderr",
     "output_type": "stream",
     "text": [
      " 36%|█████████████████████████████████▊                                                            | 20101/55900 [58:23<40:31, 14.73it/s]"
     ]
    },
    {
     "name": "stdout",
     "output_type": "stream",
     "text": [
      "Extra data: line 18 column 1 (char 857)\n",
      "Extra data: line 18 column 1 (char 1033)\n"
     ]
    },
    {
     "name": "stderr",
     "output_type": "stream",
     "text": [
      " 36%|█████████████████████████████████▏                                                          | 20193/55900 [58:42<1:12:10,  8.25it/s]"
     ]
    },
    {
     "name": "stdout",
     "output_type": "stream",
     "text": [
      "Extra data: line 18 column 1 (char 613)\n",
      "Extra data: line 18 column 1 (char 834)\n",
      "Extra data: line 18 column 1 (char 549)\n",
      "Extra data: line 18 column 1 (char 711)\n",
      "Extra data: line 18 column 1 (char 597)\n",
      "Extra data: line 18 column 1 (char 726)\n",
      "Extra data: line 18 column 1 (char 663)\n",
      "Extra data: line 18 column 1 (char 855)\n",
      "Extra data: line 18 column 1 (char 1144)\n"
     ]
    },
    {
     "name": "stderr",
     "output_type": "stream",
     "text": [
      " 36%|█████████████████████████████████▌                                                          | 20399/55900 [59:21<1:24:03,  7.04it/s]"
     ]
    },
    {
     "name": "stdout",
     "output_type": "stream",
     "text": [
      "Extra data: line 18 column 1 (char 779)\n",
      "Extra data: line 18 column 1 (char 797)\n"
     ]
    },
    {
     "name": "stderr",
     "output_type": "stream",
     "text": [
      " 37%|█████████████████████████████████▋                                                          | 20491/55900 [59:38<1:05:18,  9.04it/s]"
     ]
    },
    {
     "name": "stdout",
     "output_type": "stream",
     "text": [
      "Extra data: line 18 column 1 (char 637)\n"
     ]
    },
    {
     "name": "stderr",
     "output_type": "stream",
     "text": [
      " 37%|██████████████████████████████████▍                                                           | 20501/55900 [59:38<31:48, 18.55it/s]"
     ]
    },
    {
     "name": "stdout",
     "output_type": "stream",
     "text": [
      "Extra data: line 18 column 1 (char 670)\n",
      "Extra data: line 18 column 1 (char 729)\n",
      "Extra data: line 18 column 1 (char 726)\n",
      "Extra data: line 7 column 1 (char 749)\n",
      "Extra data: line 18 column 1 (char 773)\n",
      "Extra data: line 18 column 1 (char 720)\n"
     ]
    },
    {
     "name": "stderr",
     "output_type": "stream",
     "text": [
      " 37%|█████████████████████████████████▉                                                          | 20588/55900 [59:55<2:54:21,  3.38it/s]"
     ]
    },
    {
     "name": "stdout",
     "output_type": "stream",
     "text": [
      "Extra data: line 18 column 1 (char 735)\n",
      "Extra data: line 18 column 1 (char 909)\n"
     ]
    },
    {
     "name": "stderr",
     "output_type": "stream",
     "text": [
      "\r",
      " 37%|█████████████████████████████████▉                                                          | 20591/55900 [59:55<1:51:24,  5.28it/s]"
     ]
    },
    {
     "name": "stdout",
     "output_type": "stream",
     "text": [
      "Extra data: line 18 column 1 (char 930)\n",
      "Extra data: line 18 column 1 (char 1058)\n",
      "Extra data: line 18 column 1 (char 828)\n",
      "Extra data: line 18 column 1 (char 747)\n",
      "Extra data: line 18 column 1 (char 843)\n",
      "Extra data: line 18 column 1 (char 738)\n",
      "Extra data: line 18 column 1 (char 839)\n",
      "Extra data: line 18 column 1 (char 818)\n"
     ]
    },
    {
     "name": "stderr",
     "output_type": "stream",
     "text": [
      " 37%|█████████████████████████████████▎                                                        | 20688/55900 [1:00:12<1:35:49,  6.12it/s]"
     ]
    },
    {
     "name": "stdout",
     "output_type": "stream",
     "text": [
      "Extra data: line 18 column 1 (char 756)\n"
     ]
    },
    {
     "name": "stderr",
     "output_type": "stream",
     "text": [
      " 37%|██████████████████████████████████                                                          | 20702/55900 [1:00:13<41:19, 14.20it/s]"
     ]
    },
    {
     "name": "stdout",
     "output_type": "stream",
     "text": [
      "Extra data: line 18 column 1 (char 1020)\n",
      "Extra data: line 18 column 1 (char 686)\n",
      "Extra data: line 18 column 1 (char 669)\n",
      "Extra data: line 18 column 1 (char 662)\n",
      "Extra data: line 18 column 1 (char 677)\n",
      "Extra data: line 18 column 1 (char 696)\n"
     ]
    },
    {
     "name": "stderr",
     "output_type": "stream",
     "text": [
      " 37%|█████████████████████████████████▍                                                        | 20789/55900 [1:00:28<1:56:34,  5.02it/s]"
     ]
    },
    {
     "name": "stdout",
     "output_type": "stream",
     "text": [
      "Extra data: line 7 column 1 (char 603)\n",
      "Extra data: line 18 column 1 (char 726)\n"
     ]
    },
    {
     "name": "stderr",
     "output_type": "stream",
     "text": [
      "\r",
      " 37%|█████████████████████████████████▍                                                        | 20792/55900 [1:00:28<1:28:18,  6.63it/s]"
     ]
    },
    {
     "name": "stdout",
     "output_type": "stream",
     "text": [
      "Extra data: line 18 column 1 (char 716)\n",
      "Extra data: line 18 column 1 (char 804)\n",
      "Extra data: line 18 column 1 (char 815)\n",
      "Extra data: line 18 column 1 (char 717)\n",
      "Extra data: line 18 column 1 (char 702)\n"
     ]
    },
    {
     "name": "stderr",
     "output_type": "stream",
     "text": [
      " 37%|█████████████████████████████████▋                                                        | 20896/55900 [1:00:46<1:37:25,  5.99it/s]"
     ]
    },
    {
     "name": "stdout",
     "output_type": "stream",
     "text": [
      "Extra data: line 18 column 1 (char 875)\n"
     ]
    },
    {
     "name": "stderr",
     "output_type": "stream",
     "text": [
      " 37%|██████████████████████████████████▍                                                         | 20957/55900 [1:00:57<54:45, 10.63it/s]"
     ]
    },
    {
     "name": "stdout",
     "output_type": "stream",
     "text": [
      "Expecting ',' delimiter: line 4 column 40 (char 61)\n"
     ]
    },
    {
     "name": "stderr",
     "output_type": "stream",
     "text": [
      " 38%|█████████████████████████████████▊                                                        | 20990/55900 [1:01:03<1:18:36,  7.40it/s]"
     ]
    },
    {
     "name": "stdout",
     "output_type": "stream",
     "text": [
      "Extra data: line 18 column 1 (char 753)\n"
     ]
    },
    {
     "name": "stderr",
     "output_type": "stream",
     "text": [
      "\r",
      " 38%|█████████████████████████████████▊                                                        | 20992/55900 [1:01:03<1:40:06,  5.81it/s]"
     ]
    },
    {
     "name": "stdout",
     "output_type": "stream",
     "text": [
      "Extra data: line 18 column 1 (char 721)\n"
     ]
    },
    {
     "name": "stderr",
     "output_type": "stream",
     "text": [
      " 38%|█████████████████████████████████▊                                                        | 20998/55900 [1:01:04<1:05:02,  8.94it/s]"
     ]
    },
    {
     "name": "stdout",
     "output_type": "stream",
     "text": [
      "Extra data: line 18 column 1 (char 856)\n",
      "Extra data: line 18 column 1 (char 689)\n",
      "Extra data: line 18 column 1 (char 903)\n",
      "Extra data: line 18 column 1 (char 928)\n",
      "Extra data: line 18 column 1 (char 739)\n",
      "'NoneType' object is not subscriptable\n"
     ]
    },
    {
     "name": "stderr",
     "output_type": "stream",
     "text": [
      " 38%|█████████████████████████████████▉                                                        | 21091/55900 [1:01:19<1:29:09,  6.51it/s]"
     ]
    },
    {
     "name": "stdout",
     "output_type": "stream",
     "text": [
      "Extra data: line 18 column 1 (char 917)\n"
     ]
    },
    {
     "name": "stderr",
     "output_type": "stream",
     "text": [
      "\r",
      " 38%|█████████████████████████████████▉                                                        | 21092/55900 [1:01:19<1:42:24,  5.67it/s]"
     ]
    },
    {
     "name": "stdout",
     "output_type": "stream",
     "text": [
      "Extra data: line 18 column 1 (char 1174)\n"
     ]
    },
    {
     "name": "stderr",
     "output_type": "stream",
     "text": [
      "\r",
      " 38%|█████████████████████████████████▉                                                        | 21094/55900 [1:01:19<1:39:42,  5.82it/s]"
     ]
    },
    {
     "name": "stdout",
     "output_type": "stream",
     "text": [
      "Extra data: line 18 column 1 (char 974)\n"
     ]
    },
    {
     "name": "stderr",
     "output_type": "stream",
     "text": [
      " 38%|█████████████████████████████████▉                                                        | 21099/55900 [1:01:20<1:32:02,  6.30it/s]"
     ]
    },
    {
     "name": "stdout",
     "output_type": "stream",
     "text": [
      "Extra data: line 18 column 1 (char 1111)\n"
     ]
    },
    {
     "name": "stderr",
     "output_type": "stream",
     "text": [
      " 38%|██████████████████████████████████▏                                                       | 21197/55900 [1:01:38<1:36:32,  5.99it/s]"
     ]
    },
    {
     "name": "stdout",
     "output_type": "stream",
     "text": [
      "Extra data: line 18 column 1 (char 653)\n",
      "Extra data: line 18 column 1 (char 634)\n",
      "Extra data: line 18 column 1 (char 677)\n"
     ]
    },
    {
     "name": "stderr",
     "output_type": "stream",
     "text": [
      " 38%|██████████████████████████████████▎                                                       | 21297/55900 [1:01:53<1:56:43,  4.94it/s]"
     ]
    },
    {
     "name": "stdout",
     "output_type": "stream",
     "text": [
      "Extra data: line 18 column 1 (char 857)\n"
     ]
    },
    {
     "name": "stderr",
     "output_type": "stream",
     "text": [
      " 38%|██████████████████████████████████▍                                                       | 21386/55900 [1:02:08<1:35:48,  6.00it/s]"
     ]
    },
    {
     "name": "stdout",
     "output_type": "stream",
     "text": [
      "Extra data: line 18 column 1 (char 857)\n",
      "Extra data: line 18 column 1 (char 857)\n"
     ]
    },
    {
     "name": "stderr",
     "output_type": "stream",
     "text": [
      "\r",
      " 38%|██████████████████████████████████▍                                                       | 21390/55900 [1:02:08<1:00:51,  9.45it/s]"
     ]
    },
    {
     "name": "stdout",
     "output_type": "stream",
     "text": [
      "Extra data: line 18 column 1 (char 853)\n"
     ]
    },
    {
     "name": "stderr",
     "output_type": "stream",
     "text": [
      " 38%|██████████████████████████████████▌                                                       | 21483/55900 [1:02:24<1:51:52,  5.13it/s]"
     ]
    },
    {
     "name": "stdout",
     "output_type": "stream",
     "text": [
      "Extra data: line 18 column 1 (char 698)\n"
     ]
    },
    {
     "name": "stderr",
     "output_type": "stream",
     "text": [
      " 38%|██████████████████████████████████▌                                                       | 21487/55900 [1:02:25<1:15:22,  7.61it/s]"
     ]
    },
    {
     "name": "stdout",
     "output_type": "stream",
     "text": [
      "Extra data: line 18 column 1 (char 664)\n"
     ]
    },
    {
     "name": "stderr",
     "output_type": "stream",
     "text": [
      " 38%|██████████████████████████████████▌                                                       | 21493/55900 [1:02:26<1:26:38,  6.62it/s]"
     ]
    },
    {
     "name": "stdout",
     "output_type": "stream",
     "text": [
      "Extra data: line 18 column 1 (char 813)\n",
      "Extra data: line 18 column 1 (char 906)\n",
      "Extra data: line 18 column 1 (char 571)\n",
      "Extra data: line 18 column 1 (char 1054)\n"
     ]
    },
    {
     "name": "stderr",
     "output_type": "stream",
     "text": [
      "\r",
      " 38%|███████████████████████████████████▍                                                        | 21498/55900 [1:02:26<48:37, 11.79it/s]"
     ]
    },
    {
     "name": "stdout",
     "output_type": "stream",
     "text": [
      "Extra data: line 18 column 1 (char 580)\n",
      "Extra data: line 18 column 1 (char 741)\n"
     ]
    },
    {
     "name": "stderr",
     "output_type": "stream",
     "text": [
      " 39%|██████████████████████████████████▊                                                       | 21587/55900 [1:02:42<1:32:21,  6.19it/s]"
     ]
    },
    {
     "name": "stdout",
     "output_type": "stream",
     "text": [
      "Extra data: line 18 column 1 (char 705)\n"
     ]
    },
    {
     "name": "stderr",
     "output_type": "stream",
     "text": [
      "\r",
      " 39%|██████████████████████████████████▊                                                       | 21590/55900 [1:02:42<1:27:03,  6.57it/s]"
     ]
    },
    {
     "name": "stdout",
     "output_type": "stream",
     "text": [
      "Extra data: line 18 column 1 (char 792)\n",
      "Extra data: line 18 column 1 (char 824)\n",
      "Extra data: line 18 column 1 (char 753)\n",
      "Extra data: line 18 column 1 (char 796)\n",
      "Extra data: line 18 column 1 (char 752)\n"
     ]
    },
    {
     "name": "stderr",
     "output_type": "stream",
     "text": [
      "\r",
      " 39%|███████████████████████████████████▌                                                        | 21596/55900 [1:02:42<54:37, 10.47it/s]"
     ]
    },
    {
     "name": "stdout",
     "output_type": "stream",
     "text": [
      "Extra data: line 18 column 1 (char 629)\n"
     ]
    },
    {
     "name": "stderr",
     "output_type": "stream",
     "text": [
      " 39%|███████████████████████████████████▌                                                        | 21601/55900 [1:02:43<50:33, 11.31it/s]"
     ]
    },
    {
     "name": "stdout",
     "output_type": "stream",
     "text": [
      "Extra data: line 18 column 1 (char 853)\n",
      "Extra data: line 18 column 1 (char 782)\n"
     ]
    },
    {
     "name": "stderr",
     "output_type": "stream",
     "text": [
      " 39%|██████████████████████████████████▉                                                       | 21695/55900 [1:03:00<1:16:55,  7.41it/s]"
     ]
    },
    {
     "name": "stdout",
     "output_type": "stream",
     "text": [
      "Extra data: line 18 column 1 (char 637)\n"
     ]
    },
    {
     "name": "stderr",
     "output_type": "stream",
     "text": [
      "\r",
      " 39%|███████████████████████████████████▋                                                        | 21701/55900 [1:03:01<42:45, 13.33it/s]"
     ]
    },
    {
     "name": "stdout",
     "output_type": "stream",
     "text": [
      "Extra data: line 18 column 1 (char 743)\n",
      "Extra data: line 18 column 1 (char 571)\n",
      "Extra data: line 18 column 1 (char 580)\n",
      "Extra data: line 18 column 1 (char 659)\n"
     ]
    },
    {
     "name": "stderr",
     "output_type": "stream",
     "text": [
      " 39%|███████████████████████████████████▉                                                        | 21801/55900 [1:03:17<49:48, 11.41it/s]"
     ]
    },
    {
     "name": "stdout",
     "output_type": "stream",
     "text": [
      "Extra data: line 18 column 1 (char 453)\n",
      "Extra data: line 18 column 1 (char 652)\n"
     ]
    },
    {
     "name": "stderr",
     "output_type": "stream",
     "text": [
      " 39%|███████████████████████████████████▏                                                      | 21821/55900 [1:03:20<1:09:13,  8.21it/s]"
     ]
    },
    {
     "name": "stdout",
     "output_type": "stream",
     "text": [
      "Expecting ',' delimiter: line 9 column 117 (char 473)\n"
     ]
    },
    {
     "name": "stderr",
     "output_type": "stream",
     "text": [
      "\r",
      " 39%|███████████████████████████████████▏                                                      | 21823/55900 [1:03:20<1:09:18,  8.19it/s]"
     ]
    },
    {
     "name": "stdout",
     "output_type": "stream",
     "text": [
      "Expecting ',' delimiter: line 9 column 117 (char 473)\n"
     ]
    },
    {
     "name": "stderr",
     "output_type": "stream",
     "text": [
      " 39%|███████████████████████████████████▏                                                      | 21883/55900 [1:03:30<1:17:37,  7.30it/s]"
     ]
    },
    {
     "name": "stdout",
     "output_type": "stream",
     "text": [
      "Extra data: line 18 column 1 (char 793)\n",
      "Extra data: line 18 column 1 (char 904)\n"
     ]
    },
    {
     "name": "stderr",
     "output_type": "stream",
     "text": [
      " 39%|███████████████████████████████████▏                                                      | 21888/55900 [1:03:31<1:18:39,  7.21it/s]"
     ]
    },
    {
     "name": "stdout",
     "output_type": "stream",
     "text": [
      "Extra data: line 18 column 1 (char 649)\n"
     ]
    },
    {
     "name": "stderr",
     "output_type": "stream",
     "text": [
      " 39%|███████████████████████████████████▏                                                      | 21891/55900 [1:03:31<1:43:35,  5.47it/s]"
     ]
    },
    {
     "name": "stdout",
     "output_type": "stream",
     "text": [
      "Extra data: line 18 column 1 (char 1244)\n"
     ]
    },
    {
     "name": "stderr",
     "output_type": "stream",
     "text": [
      "\r",
      " 39%|███████████████████████████████████▏                                                      | 21893/55900 [1:03:31<1:29:32,  6.33it/s]"
     ]
    },
    {
     "name": "stdout",
     "output_type": "stream",
     "text": [
      "Extra data: line 18 column 1 (char 1244)\n",
      "Extra data: line 18 column 1 (char 757)\n",
      "Extra data: line 18 column 1 (char 871)\n",
      "Extra data: line 18 column 1 (char 1302)\n"
     ]
    },
    {
     "name": "stderr",
     "output_type": "stream",
     "text": [
      " 39%|████████████████████████████████████                                                        | 21900/55900 [1:03:32<53:34, 10.58it/s]"
     ]
    },
    {
     "name": "stdout",
     "output_type": "stream",
     "text": [
      "Extra data: line 18 column 1 (char 785)\n"
     ]
    },
    {
     "name": "stderr",
     "output_type": "stream",
     "text": [
      " 40%|███████████████████████████████████▌                                                      | 22087/55900 [1:04:08<1:14:16,  7.59it/s]"
     ]
    },
    {
     "name": "stdout",
     "output_type": "stream",
     "text": [
      "Extra data: line 18 column 1 (char 664)\n",
      "Extra data: line 18 column 1 (char 704)\n",
      "Extra data: line 18 column 1 (char 678)\n",
      "Extra data: line 18 column 1 (char 725)\n",
      "Extra data: line 18 column 1 (char 826)\n",
      "Extra data: line 18 column 1 (char 612)\n",
      "Extra data: line 18 column 1 (char 580)\n",
      "Extra data: line 18 column 1 (char 843)\n",
      "Extra data: line 18 column 1 (char 650)\n",
      "Extra data: line 18 column 1 (char 792)\n",
      "Extra data: line 18 column 1 (char 674)\n"
     ]
    },
    {
     "name": "stderr",
     "output_type": "stream",
     "text": [
      "\r",
      " 40%|████████████████████████████████████▎                                                       | 22098/55900 [1:04:08<27:52, 20.21it/s]"
     ]
    },
    {
     "name": "stdout",
     "output_type": "stream",
     "text": [
      "Extra data: line 18 column 1 (char 699)\n",
      "Extra data: line 18 column 1 (char 917)\n"
     ]
    },
    {
     "name": "stderr",
     "output_type": "stream",
     "text": [
      " 40%|███████████████████████████████████▋                                                      | 22157/55900 [1:04:19<1:21:35,  6.89it/s]"
     ]
    },
    {
     "name": "stdout",
     "output_type": "stream",
     "text": [
      "Extra data: line 18 column 1 (char 643)\n"
     ]
    },
    {
     "name": "stderr",
     "output_type": "stream",
     "text": [
      " 40%|███████████████████████████████████▋                                                      | 22182/55900 [1:04:23<1:14:24,  7.55it/s]"
     ]
    },
    {
     "name": "stdout",
     "output_type": "stream",
     "text": [
      "Extra data: line 18 column 1 (char 645)\n"
     ]
    },
    {
     "name": "stderr",
     "output_type": "stream",
     "text": [
      " 40%|███████████████████████████████████▋                                                      | 22189/55900 [1:04:24<1:10:46,  7.94it/s]"
     ]
    },
    {
     "name": "stdout",
     "output_type": "stream",
     "text": [
      "Extra data: line 18 column 1 (char 647)\n",
      "Extra data: line 18 column 1 (char 857)\n",
      "Extra data: line 18 column 1 (char 617)\n",
      "Extra data: line 18 column 1 (char 741)\n",
      "Extra data: line 18 column 1 (char 622)\n"
     ]
    },
    {
     "name": "stderr",
     "output_type": "stream",
     "text": [
      " 40%|████████████████████████████████████▌                                                       | 22201/55900 [1:04:25<28:39, 19.59it/s]"
     ]
    },
    {
     "name": "stdout",
     "output_type": "stream",
     "text": [
      "Extra data: line 18 column 1 (char 764)\n",
      "Extra data: line 18 column 1 (char 836)\n",
      "Extra data: line 18 column 1 (char 801)\n"
     ]
    },
    {
     "name": "stderr",
     "output_type": "stream",
     "text": [
      " 40%|███████████████████████████████████▉                                                      | 22297/55900 [1:04:43<1:42:11,  5.48it/s]"
     ]
    },
    {
     "name": "stdout",
     "output_type": "stream",
     "text": [
      "Extra data: line 18 column 1 (char 642)\n"
     ]
    },
    {
     "name": "stderr",
     "output_type": "stream",
     "text": [
      " 40%|████████████████████████████████████                                                      | 22392/55900 [1:05:00<2:01:12,  4.61it/s]"
     ]
    },
    {
     "name": "stdout",
     "output_type": "stream",
     "text": [
      "Extra data: line 18 column 1 (char 947)\n",
      "Extra data: line 18 column 1 (char 631)\n"
     ]
    },
    {
     "name": "stderr",
     "output_type": "stream",
     "text": [
      "\r",
      " 40%|████████████████████████████████████                                                      | 22396/55900 [1:05:00<1:10:26,  7.93it/s]"
     ]
    },
    {
     "name": "stdout",
     "output_type": "stream",
     "text": [
      "Extra data: line 18 column 1 (char 594)\n",
      "Extra data: line 18 column 1 (char 677)\n"
     ]
    },
    {
     "name": "stderr",
     "output_type": "stream",
     "text": [
      " 41%|████████████████████████████████████▌                                                     | 22682/55900 [1:05:56<1:26:40,  6.39it/s]"
     ]
    },
    {
     "name": "stdout",
     "output_type": "stream",
     "text": [
      "Extra data: line 18 column 1 (char 636)\n"
     ]
    },
    {
     "name": "stderr",
     "output_type": "stream",
     "text": [
      " 41%|████████████████████████████████████▌                                                     | 22696/55900 [1:05:58<1:37:36,  5.67it/s]"
     ]
    },
    {
     "name": "stdout",
     "output_type": "stream",
     "text": [
      "Extra data: line 18 column 1 (char 685)\n",
      "Extra data: line 18 column 1 (char 758)\n",
      "Extra data: line 18 column 1 (char 654)\n"
     ]
    },
    {
     "name": "stderr",
     "output_type": "stream",
     "text": [
      " 41%|████████████████████████████████████▋                                                     | 22793/55900 [1:06:18<2:41:03,  3.43it/s]"
     ]
    },
    {
     "name": "stdout",
     "output_type": "stream",
     "text": [
      "Extra data: line 18 column 1 (char 630)\n"
     ]
    },
    {
     "name": "stderr",
     "output_type": "stream",
     "text": [
      "\r",
      " 41%|████████████████████████████████████▋                                                     | 22795/55900 [1:06:19<1:54:28,  4.82it/s]"
     ]
    },
    {
     "name": "stdout",
     "output_type": "stream",
     "text": [
      "Extra data: line 18 column 1 (char 637)\n",
      "Extra data: line 18 column 1 (char 737)\n",
      "Extra data: line 18 column 1 (char 856)\n",
      "Extra data: line 7 column 1 (char 697)\n"
     ]
    },
    {
     "name": "stderr",
     "output_type": "stream",
     "text": [
      " 41%|████████████████████████████████████▊                                                     | 22887/55900 [1:06:35<2:33:17,  3.59it/s]"
     ]
    },
    {
     "name": "stdout",
     "output_type": "stream",
     "text": [
      "Extra data: line 7 column 1 (char 665)\n"
     ]
    },
    {
     "name": "stderr",
     "output_type": "stream",
     "text": [
      " 41%|████████████████████████████████████▊                                                     | 22897/55900 [1:06:37<1:13:55,  7.44it/s]"
     ]
    },
    {
     "name": "stdout",
     "output_type": "stream",
     "text": [
      "Extra data: line 18 column 1 (char 1124)\n"
     ]
    },
    {
     "name": "stderr",
     "output_type": "stream",
     "text": [
      " 41%|█████████████████████████████████████                                                     | 23001/55900 [1:06:56<1:03:43,  8.60it/s]"
     ]
    },
    {
     "name": "stdout",
     "output_type": "stream",
     "text": [
      "Extra data: line 18 column 1 (char 811)\n"
     ]
    },
    {
     "name": "stderr",
     "output_type": "stream",
     "text": [
      " 42%|█████████████████████████████████████▌                                                    | 23294/55900 [1:07:49<1:19:02,  6.87it/s]"
     ]
    },
    {
     "name": "stdout",
     "output_type": "stream",
     "text": [
      "Extra data: line 18 column 1 (char 777)\n",
      "Extra data: line 18 column 1 (char 864)\n",
      "Extra data: line 18 column 1 (char 840)\n",
      "Extra data: line 18 column 1 (char 791)\n",
      "Extra data: line 18 column 1 (char 630)\n",
      "Extra data: line 18 column 1 (char 640)\n",
      "Extra data: line 18 column 1 (char 737)\n"
     ]
    },
    {
     "name": "stderr",
     "output_type": "stream",
     "text": [
      " 42%|█████████████████████████████████████▋                                                    | 23396/55900 [1:08:06<1:30:06,  6.01it/s]"
     ]
    },
    {
     "name": "stdout",
     "output_type": "stream",
     "text": [
      "Extra data: line 18 column 1 (char 1027)\n"
     ]
    },
    {
     "name": "stderr",
     "output_type": "stream",
     "text": [
      " 42%|█████████████████████████████████████▊                                                    | 23480/55900 [1:08:23<1:26:34,  6.24it/s]"
     ]
    },
    {
     "name": "stdout",
     "output_type": "stream",
     "text": [
      "Unterminated string starting at: line 13 column 18 (char 749)\n"
     ]
    },
    {
     "name": "stderr",
     "output_type": "stream",
     "text": [
      " 42%|█████████████████████████████████████▊                                                    | 23494/55900 [1:08:25<1:08:58,  7.83it/s]"
     ]
    },
    {
     "name": "stdout",
     "output_type": "stream",
     "text": [
      "Extra data: line 18 column 1 (char 656)\n",
      "Extra data: line 18 column 1 (char 660)\n",
      "Extra data: line 18 column 1 (char 721)\n",
      "Extra data: line 18 column 1 (char 821)\n",
      "Extra data: line 18 column 1 (char 1007)\n",
      "Extra data: line 18 column 1 (char 646)\n"
     ]
    },
    {
     "name": "stderr",
     "output_type": "stream",
     "text": [
      " 42%|██████████████████████████████████████▏                                                   | 23698/55900 [1:09:02<1:26:28,  6.21it/s]"
     ]
    },
    {
     "name": "stdout",
     "output_type": "stream",
     "text": [
      "Extra data: line 18 column 1 (char 809)\n"
     ]
    },
    {
     "name": "stderr",
     "output_type": "stream",
     "text": [
      " 43%|██████████████████████████████████████▎                                                   | 23798/55900 [1:09:18<1:17:55,  6.87it/s]"
     ]
    },
    {
     "name": "stdout",
     "output_type": "stream",
     "text": [
      "Extra data: line 18 column 1 (char 853)\n"
     ]
    },
    {
     "name": "stderr",
     "output_type": "stream",
     "text": [
      " 43%|██████████████████████████████████████▍                                                   | 23886/55900 [1:09:35<1:49:40,  4.87it/s]"
     ]
    },
    {
     "name": "stdout",
     "output_type": "stream",
     "text": [
      "Extra data: line 18 column 1 (char 611)\n",
      "Extra data: line 18 column 1 (char 869)\n",
      "Extra data: line 18 column 1 (char 463)\n"
     ]
    },
    {
     "name": "stderr",
     "output_type": "stream",
     "text": [
      " 43%|██████████████████████████████████████▍                                                   | 23892/55900 [1:09:35<1:09:56,  7.63it/s]"
     ]
    },
    {
     "name": "stdout",
     "output_type": "stream",
     "text": [
      "Extra data: line 18 column 1 (char 677)\n",
      "Extra data: line 18 column 1 (char 641)\n",
      "Extra data: line 18 column 1 (char 726)\n",
      "Extra data: line 18 column 1 (char 726)\n",
      "Extra data: line 18 column 1 (char 780)\n",
      "Extra data: line 18 column 1 (char 843)\n",
      "Extra data: line 18 column 1 (char 801)\n",
      "Extra data: line 18 column 1 (char 1058)\n"
     ]
    },
    {
     "name": "stderr",
     "output_type": "stream",
     "text": [
      " 43%|██████████████████████████████████████▋                                                   | 23992/55900 [1:09:54<1:22:51,  6.42it/s]"
     ]
    },
    {
     "name": "stdout",
     "output_type": "stream",
     "text": [
      "Extra data: line 18 column 1 (char 857)\n"
     ]
    },
    {
     "name": "stderr",
     "output_type": "stream",
     "text": [
      " 43%|██████████████████████████████████████▊                                                   | 24089/55900 [1:10:12<1:22:28,  6.43it/s]"
     ]
    },
    {
     "name": "stdout",
     "output_type": "stream",
     "text": [
      "Extra data: line 18 column 1 (char 631)\n"
     ]
    },
    {
     "name": "stderr",
     "output_type": "stream",
     "text": [
      " 43%|██████████████████████████████████████▊                                                   | 24091/55900 [1:10:12<1:39:58,  5.30it/s]"
     ]
    },
    {
     "name": "stdout",
     "output_type": "stream",
     "text": [
      "Extra data: line 18 column 1 (char 689)\n"
     ]
    },
    {
     "name": "stderr",
     "output_type": "stream",
     "text": [
      " 43%|██████████████████████████████████████▊                                                   | 24096/55900 [1:10:13<1:01:49,  8.57it/s]"
     ]
    },
    {
     "name": "stdout",
     "output_type": "stream",
     "text": [
      "Extra data: line 18 column 1 (char 430)\n",
      "Extra data: line 18 column 1 (char 771)\n"
     ]
    },
    {
     "name": "stderr",
     "output_type": "stream",
     "text": [
      " 43%|███████████████████████████████████████▋                                                    | 24102/55900 [1:10:13<50:10, 10.56it/s]"
     ]
    },
    {
     "name": "stdout",
     "output_type": "stream",
     "text": [
      "Extra data: line 18 column 1 (char 1272)\n",
      "Extra data: line 18 column 1 (char 671)\n",
      "Extra data: line 18 column 1 (char 773)\n"
     ]
    },
    {
     "name": "stderr",
     "output_type": "stream",
     "text": [
      " 43%|███████████████████████████████████████▊                                                    | 24192/55900 [1:10:28<59:04,  8.95it/s]"
     ]
    },
    {
     "name": "stdout",
     "output_type": "stream",
     "text": [
      "Extra data: line 18 column 1 (char 705)\n",
      "Extra data: line 18 column 1 (char 442)\n",
      "Extra data: line 18 column 1 (char 567)\n",
      "Extra data: line 18 column 1 (char 685)\n",
      "Extra data: line 18 column 1 (char 671)\n",
      "Extra data: line 18 column 1 (char 606)\n",
      "Extra data: line 18 column 1 (char 822)\n"
     ]
    },
    {
     "name": "stderr",
     "output_type": "stream",
     "text": [
      " 43%|███████████████████████████████████████                                                   | 24296/55900 [1:10:46<1:47:41,  4.89it/s]"
     ]
    },
    {
     "name": "stdout",
     "output_type": "stream",
     "text": [
      "Extra data: line 18 column 1 (char 1031)\n"
     ]
    },
    {
     "name": "stderr",
     "output_type": "stream",
     "text": [
      " 44%|███████████████████████████████████████▎                                                  | 24417/55900 [1:11:07<1:46:53,  4.91it/s]"
     ]
    },
    {
     "name": "stdout",
     "output_type": "stream",
     "text": [
      "Expecting ',' delimiter: line 9 column 125 (char 484)\n"
     ]
    },
    {
     "name": "stderr",
     "output_type": "stream",
     "text": [
      " 44%|███████████████████████████████████████▍                                                  | 24484/55900 [1:11:20<2:17:32,  3.81it/s]"
     ]
    },
    {
     "name": "stdout",
     "output_type": "stream",
     "text": [
      "Extra data: line 18 column 1 (char 930)\n"
     ]
    },
    {
     "name": "stderr",
     "output_type": "stream",
     "text": [
      " 44%|████████████████████████████████████████▎                                                   | 24494/55900 [1:11:21<47:42, 10.97it/s]"
     ]
    },
    {
     "name": "stdout",
     "output_type": "stream",
     "text": [
      "Extra data: line 18 column 1 (char 1244)\n",
      "Extra data: line 18 column 1 (char 778)\n",
      "Extra data: line 18 column 1 (char 867)\n",
      "Extra data: line 18 column 1 (char 778)\n",
      "Extra data: line 18 column 1 (char 757)\n",
      "Extra data: line 18 column 1 (char 1312)\n",
      "Extra data: line 18 column 1 (char 757)\n"
     ]
    },
    {
     "name": "stderr",
     "output_type": "stream",
     "text": [
      " 44%|████████████████████████████████████████▎                                                   | 24501/55900 [1:11:21<34:05, 15.35it/s]"
     ]
    },
    {
     "name": "stdout",
     "output_type": "stream",
     "text": [
      "Extra data: line 18 column 1 (char 757)\n"
     ]
    },
    {
     "name": "stderr",
     "output_type": "stream",
     "text": [
      " 44%|███████████████████████████████████████▌                                                  | 24596/55900 [1:11:40<1:17:16,  6.75it/s]"
     ]
    },
    {
     "name": "stdout",
     "output_type": "stream",
     "text": [
      "Extra data: line 18 column 1 (char 876)\n"
     ]
    },
    {
     "name": "stderr",
     "output_type": "stream",
     "text": [
      " 44%|████████████████████████████████████████▍                                                   | 24601/55900 [1:11:41<50:53, 10.25it/s]"
     ]
    },
    {
     "name": "stdout",
     "output_type": "stream",
     "text": [
      "Extra data: line 18 column 1 (char 879)\n"
     ]
    },
    {
     "name": "stderr",
     "output_type": "stream",
     "text": [
      " 44%|███████████████████████████████████████▋                                                  | 24672/55900 [1:11:54<1:27:32,  5.95it/s]"
     ]
    },
    {
     "name": "stdout",
     "output_type": "stream",
     "text": [
      "Extra data: line 18 column 1 (char 617)\n"
     ]
    },
    {
     "name": "stderr",
     "output_type": "stream",
     "text": [
      " 44%|████████████████████████████████████████▋                                                   | 24690/55900 [1:11:57<55:00,  9.46it/s]"
     ]
    },
    {
     "name": "stdout",
     "output_type": "stream",
     "text": [
      "Extra data: line 18 column 1 (char 616)\n"
     ]
    },
    {
     "name": "stderr",
     "output_type": "stream",
     "text": [
      " 44%|███████████████████████████████████████▊                                                  | 24694/55900 [1:11:58<1:14:41,  6.96it/s]"
     ]
    },
    {
     "name": "stdout",
     "output_type": "stream",
     "text": [
      "Extra data: line 18 column 1 (char 686)\n",
      "Extra data: line 18 column 1 (char 797)\n"
     ]
    },
    {
     "name": "stderr",
     "output_type": "stream",
     "text": [
      " 44%|████████████████████████████████████████▋                                                   | 24702/55900 [1:11:58<44:52, 11.59it/s]"
     ]
    },
    {
     "name": "stdout",
     "output_type": "stream",
     "text": [
      "Extra data: line 18 column 1 (char 613)\n"
     ]
    },
    {
     "name": "stderr",
     "output_type": "stream",
     "text": [
      " 44%|███████████████████████████████████████▉                                                  | 24792/55900 [1:12:16<1:35:34,  5.43it/s]"
     ]
    },
    {
     "name": "stdout",
     "output_type": "stream",
     "text": [
      "Extra data: line 18 column 1 (char 636)\n"
     ]
    },
    {
     "name": "stderr",
     "output_type": "stream",
     "text": [
      " 44%|███████████████████████████████████████▉                                                  | 24797/55900 [1:12:16<1:49:30,  4.73it/s]"
     ]
    },
    {
     "name": "stdout",
     "output_type": "stream",
     "text": [
      "Extra data: line 18 column 1 (char 802)\n",
      "Extra data: line 18 column 1 (char 550)\n",
      "Extra data: line 18 column 1 (char 648)\n"
     ]
    },
    {
     "name": "stderr",
     "output_type": "stream",
     "text": [
      " 45%|████████████████████████████████████████                                                  | 24900/55900 [1:12:32<1:04:22,  8.03it/s]"
     ]
    },
    {
     "name": "stdout",
     "output_type": "stream",
     "text": [
      "Extra data: line 18 column 1 (char 894)\n"
     ]
    },
    {
     "name": "stderr",
     "output_type": "stream",
     "text": [
      " 45%|████████████████████████████████████████▏                                                 | 24996/55900 [1:12:49<1:07:21,  7.65it/s]"
     ]
    },
    {
     "name": "stdout",
     "output_type": "stream",
     "text": [
      "Extra data: line 18 column 1 (char 876)\n"
     ]
    },
    {
     "name": "stderr",
     "output_type": "stream",
     "text": [
      "\r",
      " 45%|████████████████████████████████████████▏                                                 | 24998/55900 [1:12:50<1:12:23,  7.11it/s]"
     ]
    },
    {
     "name": "stdout",
     "output_type": "stream",
     "text": [
      "Extra data: line 18 column 1 (char 1081)\n",
      "Extra data: line 18 column 1 (char 776)\n"
     ]
    },
    {
     "name": "stderr",
     "output_type": "stream",
     "text": [
      " 45%|████████████████████████████████████████▍                                                 | 25093/55900 [1:13:04<1:27:28,  5.87it/s]"
     ]
    },
    {
     "name": "stdout",
     "output_type": "stream",
     "text": [
      "Extra data: line 18 column 1 (char 1015)\n"
     ]
    },
    {
     "name": "stderr",
     "output_type": "stream",
     "text": [
      " 45%|████████████████████████████████████████▍                                                 | 25099/55900 [1:13:05<1:42:57,  4.99it/s]"
     ]
    },
    {
     "name": "stdout",
     "output_type": "stream",
     "text": [
      "Extra data: line 18 column 1 (char 775)\n"
     ]
    },
    {
     "name": "stderr",
     "output_type": "stream",
     "text": [
      " 45%|████████████████████████████████████████▌                                                 | 25194/55900 [1:13:21<1:15:18,  6.80it/s]"
     ]
    },
    {
     "name": "stdout",
     "output_type": "stream",
     "text": [
      "Extra data: line 18 column 1 (char 981)\n"
     ]
    },
    {
     "name": "stderr",
     "output_type": "stream",
     "text": [
      " 45%|████████████████████████████████████████▌                                                 | 25198/55900 [1:13:21<1:00:09,  8.51it/s]"
     ]
    },
    {
     "name": "stdout",
     "output_type": "stream",
     "text": [
      "Extra data: line 18 column 1 (char 1033)\n"
     ]
    },
    {
     "name": "stderr",
     "output_type": "stream",
     "text": [
      " 45%|████████████████████████████████████████▋                                                 | 25275/55900 [1:13:35<1:35:57,  5.32it/s]"
     ]
    },
    {
     "name": "stdout",
     "output_type": "stream",
     "text": [
      "Extra data: line 18 column 1 (char 797)\n",
      "Extra data: line 18 column 1 (char 820)\n",
      "Extra data: line 18 column 1 (char 797)\n",
      "Extra data: line 18 column 1 (char 918)\n",
      "Extra data: line 18 column 1 (char 1102)\n",
      "Extra data: line 18 column 1 (char 640)\n",
      "Extra data: line 18 column 1 (char 1082)\n",
      "Extra data: line 18 column 1 (char 1103)\n",
      "Extra data: line 18 column 1 (char 811)\n",
      "Extra data: line 18 column 1 (char 660)\n",
      "Extra data: line 18 column 1 (char 877)\n"
     ]
    },
    {
     "name": "stderr",
     "output_type": "stream",
     "text": [
      "\r",
      " 45%|█████████████████████████████████████████▌                                                  | 25287/55900 [1:13:35<24:50, 20.54it/s]"
     ]
    },
    {
     "name": "stdout",
     "output_type": "stream",
     "text": [
      "Extra data: line 18 column 1 (char 757)\n",
      "Extra data: line 18 column 1 (char 655)\n",
      "Extra data: line 18 column 1 (char 1372)\n",
      "Extra data: line 18 column 1 (char 912)\n",
      "Extra data: line 7 column 1 (char 1049)\n",
      "Extra data: line 7 column 1 (char 1024)\n",
      "Extra data: line 18 column 1 (char 957)\n",
      "Extra data: line 7 column 1 (char 1049)\n",
      "Extra data: line 18 column 1 (char 1033)\n"
     ]
    },
    {
     "name": "stderr",
     "output_type": "stream",
     "text": [
      "\r",
      " 45%|█████████████████████████████████████████▋                                                  | 25297/55900 [1:13:35<17:42, 28.81it/s]"
     ]
    },
    {
     "name": "stdout",
     "output_type": "stream",
     "text": [
      "Extra data: line 18 column 1 (char 1345)\n",
      "Extra data: line 18 column 1 (char 1250)\n"
     ]
    },
    {
     "name": "stderr",
     "output_type": "stream",
     "text": [
      " 46%|█████████████████████████████████████████▉                                                  | 25498/55900 [1:14:15<51:31,  9.83it/s]"
     ]
    },
    {
     "name": "stdout",
     "output_type": "stream",
     "text": [
      "Extra data: line 18 column 1 (char 857)\n"
     ]
    },
    {
     "name": "stderr",
     "output_type": "stream",
     "text": [
      " 46%|█████████████████████████████████████████                                                 | 25536/55900 [1:14:24<3:08:06,  2.69it/s]"
     ]
    },
    {
     "name": "stdout",
     "output_type": "stream",
     "text": [
      "Expecting ',' delimiter: line 5 column 106 (char 213)\n"
     ]
    },
    {
     "name": "stderr",
     "output_type": "stream",
     "text": [
      " 46%|█████████████████████████████████████████▏                                                | 25569/55900 [1:14:30<1:30:33,  5.58it/s]"
     ]
    },
    {
     "name": "stdout",
     "output_type": "stream",
     "text": [
      "Expecting ',' delimiter: line 13 column 447 (char 942)\n"
     ]
    },
    {
     "name": "stderr",
     "output_type": "stream",
     "text": [
      " 46%|█████████████████████████████████████████▎                                                | 25695/55900 [1:14:56<1:44:00,  4.84it/s]"
     ]
    },
    {
     "name": "stdout",
     "output_type": "stream",
     "text": [
      "Extra data: line 18 column 1 (char 1085)\n",
      "Extra data: line 18 column 1 (char 875)\n",
      "Extra data: line 18 column 1 (char 875)\n"
     ]
    },
    {
     "name": "stderr",
     "output_type": "stream",
     "text": [
      " 46%|█████████████████████████████████████████▌                                                | 25800/55900 [1:15:15<1:12:05,  6.96it/s]"
     ]
    },
    {
     "name": "stdout",
     "output_type": "stream",
     "text": [
      "Unterminated string starting at: line 9 column 18 (char 386)\n"
     ]
    },
    {
     "name": "stderr",
     "output_type": "stream",
     "text": [
      " 46%|█████████████████████████████████████████▋                                                | 25863/55900 [1:15:26<2:12:32,  3.78it/s]"
     ]
    },
    {
     "name": "stdout",
     "output_type": "stream",
     "text": [
      "Extra data: line 18 column 1 (char 552)\n"
     ]
    },
    {
     "name": "stderr",
     "output_type": "stream",
     "text": [
      " 46%|█████████████████████████████████████████▋                                                | 25882/55900 [1:15:30<1:17:50,  6.43it/s]"
     ]
    },
    {
     "name": "stdout",
     "output_type": "stream",
     "text": [
      "Expecting ',' delimiter: line 13 column 106 (char 536)\n"
     ]
    },
    {
     "name": "stderr",
     "output_type": "stream",
     "text": [
      " 46%|█████████████████████████████████████████▋                                                | 25884/55900 [1:15:30<1:33:21,  5.36it/s]"
     ]
    },
    {
     "name": "stdout",
     "output_type": "stream",
     "text": [
      "Extra data: line 18 column 1 (char 551)\n",
      "Extra data: line 18 column 1 (char 583)\n"
     ]
    },
    {
     "name": "stderr",
     "output_type": "stream",
     "text": [
      " 46%|██████████████████████████████████████████▌                                                 | 25892/55900 [1:15:31<48:27, 10.32it/s]"
     ]
    },
    {
     "name": "stdout",
     "output_type": "stream",
     "text": [
      "Extra data: line 18 column 1 (char 683)\n",
      "Extra data: line 18 column 1 (char 694)\n",
      "Extra data: line 18 column 1 (char 853)\n",
      "Extra data: line 18 column 1 (char 829)\n"
     ]
    },
    {
     "name": "stderr",
     "output_type": "stream",
     "text": [
      "\r",
      " 46%|██████████████████████████████████████████▌                                                 | 25894/55900 [1:15:31<44:21, 11.28it/s]"
     ]
    },
    {
     "name": "stdout",
     "output_type": "stream",
     "text": [
      "Extra data: line 18 column 1 (char 739)\n",
      "Extra data: line 18 column 1 (char 736)\n",
      "Extra data: line 18 column 1 (char 532)\n",
      "Extra data: line 18 column 1 (char 617)\n",
      "Extra data: line 18 column 1 (char 659)\n",
      "Extra data: line 18 column 1 (char 620)\n"
     ]
    },
    {
     "name": "stderr",
     "output_type": "stream",
     "text": [
      " 47%|█████████████████████████████████████████▊                                                | 25994/55900 [1:15:47<1:23:00,  6.00it/s]"
     ]
    },
    {
     "name": "stdout",
     "output_type": "stream",
     "text": [
      "Extra data: line 18 column 1 (char 853)\n"
     ]
    },
    {
     "name": "stderr",
     "output_type": "stream",
     "text": [
      "\r",
      " 47%|█████████████████████████████████████████▊                                                | 25996/55900 [1:15:48<1:15:24,  6.61it/s]"
     ]
    },
    {
     "name": "stdout",
     "output_type": "stream",
     "text": [
      "Extra data: line 18 column 1 (char 1033)\n"
     ]
    },
    {
     "name": "stderr",
     "output_type": "stream",
     "text": [
      " 47%|██████████████████████████████████████████▉                                                 | 26100/55900 [1:16:08<54:08,  9.17it/s]"
     ]
    },
    {
     "name": "stdout",
     "output_type": "stream",
     "text": [
      "Extra data: line 18 column 1 (char 773)\n"
     ]
    },
    {
     "name": "stderr",
     "output_type": "stream",
     "text": [
      " 47%|██████████████████████████████████████████▏                                               | 26197/55900 [1:16:25<1:32:50,  5.33it/s]"
     ]
    },
    {
     "name": "stdout",
     "output_type": "stream",
     "text": [
      "Extra data: line 18 column 1 (char 522)\n"
     ]
    },
    {
     "name": "stderr",
     "output_type": "stream",
     "text": [
      " 47%|██████████████████████████████████████████▏                                               | 26202/55900 [1:16:26<1:00:32,  8.17it/s]"
     ]
    },
    {
     "name": "stdout",
     "output_type": "stream",
     "text": [
      "Extra data: line 18 column 1 (char 995)\n"
     ]
    },
    {
     "name": "stderr",
     "output_type": "stream",
     "text": [
      " 47%|███████████████████████████████████████████▎                                                | 26295/55900 [1:16:41<55:19,  8.92it/s]"
     ]
    },
    {
     "name": "stdout",
     "output_type": "stream",
     "text": [
      "Extra data: line 18 column 1 (char 857)\n"
     ]
    },
    {
     "name": "stderr",
     "output_type": "stream",
     "text": [
      "\r",
      " 47%|██████████████████████████████████████████▎                                               | 26297/55900 [1:16:42<1:21:16,  6.07it/s]"
     ]
    },
    {
     "name": "stdout",
     "output_type": "stream",
     "text": [
      "Extra data: line 18 column 1 (char 1033)\n",
      "Extra data: line 18 column 1 (char 1033)\n"
     ]
    },
    {
     "name": "stderr",
     "output_type": "stream",
     "text": [
      " 47%|██████████████████████████████████████████▍                                               | 26394/55900 [1:16:59<1:06:55,  7.35it/s]"
     ]
    },
    {
     "name": "stdout",
     "output_type": "stream",
     "text": [
      "Extra data: line 18 column 1 (char 757)\n"
     ]
    },
    {
     "name": "stderr",
     "output_type": "stream",
     "text": [
      " 47%|███████████████████████████████████████████▍                                                | 26401/55900 [1:17:00<51:47,  9.49it/s]"
     ]
    },
    {
     "name": "stdout",
     "output_type": "stream",
     "text": [
      "Extra data: line 18 column 1 (char 780)\n",
      "Extra data: line 18 column 1 (char 553)\n",
      "Extra data: line 18 column 1 (char 1213)\n",
      "Extra data: line 18 column 1 (char 1064)\n"
     ]
    },
    {
     "name": "stderr",
     "output_type": "stream",
     "text": [
      " 47%|██████████████████████████████████████████▋                                               | 26487/55900 [1:17:15<1:38:49,  4.96it/s]"
     ]
    },
    {
     "name": "stdout",
     "output_type": "stream",
     "text": [
      "Extra data: line 18 column 1 (char 620)\n"
     ]
    },
    {
     "name": "stderr",
     "output_type": "stream",
     "text": [
      " 47%|███████████████████████████████████████████▌                                                | 26501/55900 [1:17:16<41:12, 11.89it/s]"
     ]
    },
    {
     "name": "stdout",
     "output_type": "stream",
     "text": [
      "Extra data: line 18 column 1 (char 668)\n",
      "Extra data: line 18 column 1 (char 716)\n",
      "Extra data: line 18 column 1 (char 736)\n",
      "Extra data: line 18 column 1 (char 848)\n",
      "Extra data: line 18 column 1 (char 832)\n",
      "Extra data: line 18 column 1 (char 978)\n"
     ]
    },
    {
     "name": "stderr",
     "output_type": "stream",
     "text": [
      " 48%|██████████████████████████████████████████▊                                               | 26596/55900 [1:17:33<1:49:43,  4.45it/s]"
     ]
    },
    {
     "name": "stdout",
     "output_type": "stream",
     "text": [
      "Extra data: line 18 column 1 (char 723)\n",
      "Extra data: line 18 column 1 (char 829)\n",
      "Extra data: line 18 column 1 (char 870)\n"
     ]
    },
    {
     "name": "stderr",
     "output_type": "stream",
     "text": [
      " 48%|███████████████████████████████████████████▉                                                | 26699/55900 [1:17:52<37:53, 12.85it/s]"
     ]
    },
    {
     "name": "stdout",
     "output_type": "stream",
     "text": [
      "Extra data: line 18 column 1 (char 936)\n",
      "Extra data: line 18 column 1 (char 945)\n",
      "Extra data: line 18 column 1 (char 1357)\n"
     ]
    },
    {
     "name": "stderr",
     "output_type": "stream",
     "text": [
      " 48%|███████████████████████████████████████████▏                                              | 26795/55900 [1:18:07<1:06:41,  7.27it/s]"
     ]
    },
    {
     "name": "stdout",
     "output_type": "stream",
     "text": [
      "Extra data: line 18 column 1 (char 851)\n",
      "Extra data: line 18 column 1 (char 857)\n"
     ]
    },
    {
     "name": "stderr",
     "output_type": "stream",
     "text": [
      " 48%|███████████████████████████████████████████▍                                              | 26998/55900 [1:18:49<1:16:02,  6.33it/s]"
     ]
    },
    {
     "name": "stdout",
     "output_type": "stream",
     "text": [
      "Extra data: line 18 column 1 (char 668)\n"
     ]
    },
    {
     "name": "stderr",
     "output_type": "stream",
     "text": [
      " 48%|███████████████████████████████████████████▌                                              | 27090/55900 [1:19:06<2:04:21,  3.86it/s]"
     ]
    },
    {
     "name": "stdout",
     "output_type": "stream",
     "text": [
      "Extra data: line 18 column 1 (char 737)\n",
      "Extra data: line 18 column 1 (char 597)\n"
     ]
    },
    {
     "name": "stderr",
     "output_type": "stream",
     "text": [
      " 48%|████████████████████████████████████████████▌                                               | 27097/55900 [1:19:06<53:10,  9.03it/s]"
     ]
    },
    {
     "name": "stdout",
     "output_type": "stream",
     "text": [
      "Extra data: line 18 column 1 (char 813)\n",
      "Extra data: line 18 column 1 (char 601)\n",
      "Extra data: line 18 column 1 (char 635)\n",
      "Extra data: line 18 column 1 (char 750)\n",
      "Extra data: line 18 column 1 (char 810)\n",
      "Extra data: line 18 column 1 (char 998)\n"
     ]
    },
    {
     "name": "stderr",
     "output_type": "stream",
     "text": [
      " 49%|████████████████████████████████████████████▊                                               | 27198/55900 [1:19:23<46:49, 10.22it/s]"
     ]
    },
    {
     "name": "stdout",
     "output_type": "stream",
     "text": [
      "Extra data: line 18 column 1 (char 853)\n",
      "Extra data: line 18 column 1 (char 853)\n"
     ]
    },
    {
     "name": "stderr",
     "output_type": "stream",
     "text": [
      " 49%|████████████████████████████████████████████▉                                               | 27301/55900 [1:19:40<32:25, 14.70it/s]"
     ]
    },
    {
     "name": "stdout",
     "output_type": "stream",
     "text": [
      "Extra data: line 18 column 1 (char 1321)\n",
      "Extra data: line 18 column 1 (char 575)\n",
      "Extra data: line 18 column 1 (char 807)\n",
      "Extra data: line 18 column 1 (char 605)\n",
      "Extra data: line 18 column 1 (char 705)\n",
      "Extra data: line 18 column 1 (char 679)\n",
      "Extra data: line 18 column 1 (char 791)\n"
     ]
    },
    {
     "name": "stderr",
     "output_type": "stream",
     "text": [
      " 49%|████████████████████████████████████████████                                              | 27383/55900 [1:19:54<1:51:31,  4.26it/s]"
     ]
    },
    {
     "name": "stdout",
     "output_type": "stream",
     "text": [
      "Expecting ',' delimiter: line 4 column 66 (char 87)\n"
     ]
    },
    {
     "name": "stderr",
     "output_type": "stream",
     "text": [
      " 49%|████████████████████████████████████████████                                              | 27392/55900 [1:19:56<2:03:29,  3.85it/s]"
     ]
    },
    {
     "name": "stdout",
     "output_type": "stream",
     "text": [
      "Extra data: line 18 column 1 (char 728)\n",
      "Extra data: line 18 column 1 (char 978)\n",
      "Extra data: line 18 column 1 (char 615)\n",
      "Extra data: line 18 column 1 (char 686)\n",
      "Extra data: line 18 column 1 (char 887)\n",
      "Extra data: line 18 column 1 (char 782)\n",
      "Extra data: line 18 column 1 (char 605)\n"
     ]
    },
    {
     "name": "stderr",
     "output_type": "stream",
     "text": [
      " 49%|████████████████████████████████████████████▎                                             | 27488/55900 [1:20:12<1:33:40,  5.06it/s]"
     ]
    },
    {
     "name": "stdout",
     "output_type": "stream",
     "text": [
      "Extra data: line 18 column 1 (char 1175)\n"
     ]
    },
    {
     "name": "stderr",
     "output_type": "stream",
     "text": [
      " 49%|█████████████████████████████████████████████▏                                              | 27494/55900 [1:20:13<48:55,  9.68it/s]"
     ]
    },
    {
     "name": "stdout",
     "output_type": "stream",
     "text": [
      "Extra data: line 18 column 1 (char 778)\n",
      "Extra data: line 18 column 1 (char 778)\n",
      "Extra data: line 18 column 1 (char 757)\n"
     ]
    },
    {
     "name": "stderr",
     "output_type": "stream",
     "text": [
      "\r",
      " 49%|█████████████████████████████████████████████▎                                              | 27497/55900 [1:20:13<41:05, 11.52it/s]"
     ]
    },
    {
     "name": "stdout",
     "output_type": "stream",
     "text": [
      "Extra data: line 18 column 1 (char 893)\n"
     ]
    },
    {
     "name": "stderr",
     "output_type": "stream",
     "text": [
      " 49%|█████████████████████████████████████████████▍                                              | 27587/55900 [1:20:30<49:32,  9.52it/s]"
     ]
    },
    {
     "name": "stdout",
     "output_type": "stream",
     "text": [
      "Extra data: line 18 column 1 (char 770)\n"
     ]
    },
    {
     "name": "stderr",
     "output_type": "stream",
     "text": [
      "\r",
      " 49%|████████████████████████████████████████████▍                                             | 27589/55900 [1:20:30<1:00:06,  7.85it/s]"
     ]
    },
    {
     "name": "stdout",
     "output_type": "stream",
     "text": [
      "Extra data: line 18 column 1 (char 800)\n",
      "Extra data: line 18 column 1 (char 809)\n"
     ]
    },
    {
     "name": "stderr",
     "output_type": "stream",
     "text": [
      "\r",
      " 49%|████████████████████████████████████████████▍                                             | 27592/55900 [1:20:31<1:01:31,  7.67it/s]"
     ]
    },
    {
     "name": "stdout",
     "output_type": "stream",
     "text": [
      "Extra data: line 18 column 1 (char 531)\n",
      "Extra data: line 18 column 1 (char 664)\n",
      "Extra data: line 18 column 1 (char 692)\n",
      "Extra data: line 18 column 1 (char 591)\n",
      "Extra data: line 18 column 1 (char 765)\n",
      "Extra data: line 18 column 1 (char 737)\n"
     ]
    },
    {
     "name": "stderr",
     "output_type": "stream",
     "text": [
      "\r",
      " 49%|█████████████████████████████████████████████▍                                              | 27599/55900 [1:20:31<39:17, 12.00it/s]"
     ]
    },
    {
     "name": "stdout",
     "output_type": "stream",
     "text": [
      "Extra data: line 18 column 1 (char 758)\n"
     ]
    },
    {
     "name": "stderr",
     "output_type": "stream",
     "text": [
      " 50%|████████████████████████████████████████████▌                                             | 27693/55900 [1:20:49<1:31:18,  5.15it/s]"
     ]
    },
    {
     "name": "stdout",
     "output_type": "stream",
     "text": [
      "Extra data: line 18 column 1 (char 613)\n"
     ]
    },
    {
     "name": "stderr",
     "output_type": "stream",
     "text": [
      "\r",
      " 50%|████████████████████████████████████████████▌                                             | 27695/55900 [1:20:49<1:13:58,  6.35it/s]"
     ]
    },
    {
     "name": "stdout",
     "output_type": "stream",
     "text": [
      "Extra data: line 18 column 1 (char 728)\n"
     ]
    },
    {
     "name": "stderr",
     "output_type": "stream",
     "text": [
      "\r",
      " 50%|████████████████████████████████████████████▌                                             | 27697/55900 [1:20:49<1:10:22,  6.68it/s]"
     ]
    },
    {
     "name": "stdout",
     "output_type": "stream",
     "text": [
      "Extra data: line 18 column 1 (char 699)\n",
      "Extra data: line 18 column 1 (char 760)\n",
      "Extra data: line 18 column 1 (char 760)\n"
     ]
    },
    {
     "name": "stderr",
     "output_type": "stream",
     "text": [
      " 50%|████████████████████████████████████████████▋                                             | 27784/55900 [1:21:05<1:27:46,  5.34it/s]"
     ]
    },
    {
     "name": "stdout",
     "output_type": "stream",
     "text": [
      "Extra data: line 18 column 1 (char 561)\n",
      "Extra data: line 18 column 1 (char 600)\n"
     ]
    },
    {
     "name": "stderr",
     "output_type": "stream",
     "text": [
      " 50%|████████████████████████████████████████████▋                                             | 27793/55900 [1:21:06<1:19:01,  5.93it/s]"
     ]
    },
    {
     "name": "stdout",
     "output_type": "stream",
     "text": [
      "Extra data: line 18 column 1 (char 491)\n"
     ]
    },
    {
     "name": "stderr",
     "output_type": "stream",
     "text": [
      " 50%|█████████████████████████████████████████████▊                                              | 27801/55900 [1:21:07<36:35, 12.80it/s]"
     ]
    },
    {
     "name": "stdout",
     "output_type": "stream",
     "text": [
      "Extra data: line 18 column 1 (char 875)\n",
      "Extra data: line 18 column 1 (char 927)\n",
      "Extra data: line 18 column 1 (char 816)\n"
     ]
    },
    {
     "name": "stderr",
     "output_type": "stream",
     "text": [
      " 50%|████████████████████████████████████████████▉                                             | 27879/55900 [1:21:20<1:21:54,  5.70it/s]"
     ]
    },
    {
     "name": "stdout",
     "output_type": "stream",
     "text": [
      "Extra data: line 18 column 1 (char 1039)\n",
      "Extra data: line 18 column 1 (char 797)\n",
      "Extra data: line 18 column 1 (char 797)\n",
      "Extra data: line 18 column 1 (char 987)\n",
      "Extra data: line 18 column 1 (char 1027)\n",
      "Extra data: line 18 column 1 (char 1102)\n"
     ]
    },
    {
     "name": "stderr",
     "output_type": "stream",
     "text": [
      "\r",
      " 50%|█████████████████████████████████████████████▉                                              | 27886/55900 [1:21:20<37:19, 12.51it/s]"
     ]
    },
    {
     "name": "stdout",
     "output_type": "stream",
     "text": [
      "Extra data: line 18 column 1 (char 711)\n",
      "Extra data: line 18 column 1 (char 789)\n",
      "Extra data: line 7 column 1 (char 859)\n",
      "Extra data: line 18 column 1 (char 811)\n",
      "Extra data: line 18 column 1 (char 844)\n",
      "Extra data: line 18 column 1 (char 820)\n",
      "Extra data: line 18 column 1 (char 950)\n",
      "Extra data: line 7 column 1 (char 1018)\n",
      "Extra data: line 18 column 1 (char 992)\n",
      "Extra data: line 7 column 1 (char 1049)\n",
      "Extra data: line 18 column 1 (char 1002)\n",
      "Extra data: line 7 column 1 (char 1018)\n",
      "Extra data: line 7 column 1 (char 1018)\n",
      "Extra data: line 18 column 1 (char 1299)\n"
     ]
    },
    {
     "name": "stderr",
     "output_type": "stream",
     "text": [
      " 50%|█████████████████████████████████████████████▎                                            | 28182/55900 [1:22:07<1:28:37,  5.21it/s]"
     ]
    },
    {
     "name": "stdout",
     "output_type": "stream",
     "text": [
      "Extra data: line 18 column 1 (char 557)\n"
     ]
    },
    {
     "name": "stderr",
     "output_type": "stream",
     "text": [
      " 50%|█████████████████████████████████████████████▍                                            | 28191/55900 [1:22:09<1:07:10,  6.87it/s]"
     ]
    },
    {
     "name": "stdout",
     "output_type": "stream",
     "text": [
      "Extra data: line 18 column 1 (char 390)\n",
      "Extra data: line 18 column 1 (char 785)\n",
      "Extra data: line 18 column 1 (char 562)\n",
      "Extra data: line 18 column 1 (char 697)\n",
      "Extra data: line 18 column 1 (char 703)\n",
      "Extra data: line 18 column 1 (char 746)\n",
      "Extra data: line 18 column 1 (char 841)\n"
     ]
    },
    {
     "name": "stderr",
     "output_type": "stream",
     "text": [
      "\r",
      " 50%|██████████████████████████████████████████████▍                                             | 28198/55900 [1:22:09<40:07, 11.51it/s]"
     ]
    },
    {
     "name": "stdout",
     "output_type": "stream",
     "text": [
      "Extra data: line 18 column 1 (char 882)\n",
      "Extra data: line 18 column 1 (char 1328)\n"
     ]
    },
    {
     "name": "stderr",
     "output_type": "stream",
     "text": [
      " 51%|██████████████████████████████████████████████▌                                             | 28302/55900 [1:22:28<32:30, 14.15it/s]"
     ]
    },
    {
     "name": "stdout",
     "output_type": "stream",
     "text": [
      "Extra data: line 18 column 1 (char 816)\n"
     ]
    },
    {
     "name": "stderr",
     "output_type": "stream",
     "text": [
      " 51%|█████████████████████████████████████████████▋                                            | 28391/55900 [1:22:43<1:07:31,  6.79it/s]"
     ]
    },
    {
     "name": "stdout",
     "output_type": "stream",
     "text": [
      "Extra data: line 18 column 1 (char 853)\n"
     ]
    },
    {
     "name": "stderr",
     "output_type": "stream",
     "text": [
      " 51%|█████████████████████████████████████████████▊                                            | 28489/55900 [1:23:01<1:05:50,  6.94it/s]"
     ]
    },
    {
     "name": "stdout",
     "output_type": "stream",
     "text": [
      "Extra data: line 18 column 1 (char 545)\n"
     ]
    },
    {
     "name": "stderr",
     "output_type": "stream",
     "text": [
      " 51%|█████████████████████████████████████████████▉                                            | 28494/55900 [1:23:02<1:11:21,  6.40it/s]"
     ]
    },
    {
     "name": "stdout",
     "output_type": "stream",
     "text": [
      "Extra data: line 18 column 1 (char 630)\n",
      "Extra data: line 18 column 1 (char 629)\n",
      "Extra data: line 18 column 1 (char 695)\n",
      "Extra data: line 18 column 1 (char 782)\n",
      "Extra data: line 18 column 1 (char 737)\n",
      "Extra data: line 18 column 1 (char 645)\n"
     ]
    },
    {
     "name": "stderr",
     "output_type": "stream",
     "text": [
      " 51%|██████████████████████████████████████████████                                            | 28589/55900 [1:23:19<1:50:07,  4.13it/s]"
     ]
    },
    {
     "name": "stdout",
     "output_type": "stream",
     "text": [
      "Extra data: line 18 column 1 (char 660)\n"
     ]
    },
    {
     "name": "stderr",
     "output_type": "stream",
     "text": [
      " 51%|██████████████████████████████████████████████                                            | 28595/55900 [1:23:20<1:34:49,  4.80it/s]"
     ]
    },
    {
     "name": "stdout",
     "output_type": "stream",
     "text": [
      "Extra data: line 18 column 1 (char 722)\n"
     ]
    },
    {
     "name": "stderr",
     "output_type": "stream",
     "text": [
      " 51%|███████████████████████████████████████████████                                             | 28602/55900 [1:23:21<41:12, 11.04it/s]"
     ]
    },
    {
     "name": "stdout",
     "output_type": "stream",
     "text": [
      "Extra data: line 18 column 1 (char 625)\n",
      "Extra data: line 18 column 1 (char 843)\n",
      "Extra data: line 18 column 1 (char 917)\n"
     ]
    },
    {
     "name": "stderr",
     "output_type": "stream",
     "text": [
      " 51%|██████████████████████████████████████████████▏                                           | 28694/55900 [1:23:37<1:53:13,  4.00it/s]"
     ]
    },
    {
     "name": "stdout",
     "output_type": "stream",
     "text": [
      "Extra data: line 18 column 1 (char 606)\n",
      "Extra data: line 18 column 1 (char 618)\n",
      "Extra data: line 18 column 1 (char 605)\n",
      "Extra data: line 18 column 1 (char 632)\n",
      "Extra data: line 18 column 1 (char 648)\n"
     ]
    },
    {
     "name": "stderr",
     "output_type": "stream",
     "text": [
      " 52%|███████████████████████████████████████████████▍                                            | 28796/55900 [1:23:53<40:38, 11.12it/s]"
     ]
    },
    {
     "name": "stdout",
     "output_type": "stream",
     "text": [
      "Extra data: line 18 column 1 (char 853)\n",
      "Extra data: line 18 column 1 (char 853)\n"
     ]
    },
    {
     "name": "stderr",
     "output_type": "stream",
     "text": [
      " 52%|██████████████████████████████████████████████▊                                           | 29100/55900 [1:24:49<1:10:45,  6.31it/s]"
     ]
    },
    {
     "name": "stdout",
     "output_type": "stream",
     "text": [
      "Extra data: line 18 column 1 (char 1059)\n",
      "'NoneType' object is not subscriptable\n",
      "'NoneType' object is not subscriptable\n",
      "'NoneType' object is not subscriptable\n",
      "'NoneType' object is not subscriptable\n",
      "'NoneType' object is not subscriptable\n",
      "'NoneType' object is not subscriptable\n",
      "'NoneType' object is not subscriptable\n"
     ]
    },
    {
     "name": "stderr",
     "output_type": "stream",
     "text": [
      " 52%|████████████████████████████████████████████████▏                                           | 29301/55900 [1:25:23<36:10, 12.26it/s]"
     ]
    },
    {
     "name": "stdout",
     "output_type": "stream",
     "text": [
      "Extra data: line 18 column 1 (char 640)\n",
      "Extra data: line 18 column 1 (char 517)\n",
      "Extra data: line 18 column 1 (char 631)\n",
      "Extra data: line 18 column 1 (char 594)\n",
      "Extra data: line 18 column 1 (char 759)\n"
     ]
    },
    {
     "name": "stderr",
     "output_type": "stream",
     "text": [
      " 53%|████████████████████████████████████████████████▎                                           | 29392/55900 [1:25:40<59:23,  7.44it/s]"
     ]
    },
    {
     "name": "stdout",
     "output_type": "stream",
     "text": [
      "Extra data: line 18 column 1 (char 851)\n"
     ]
    },
    {
     "name": "stderr",
     "output_type": "stream",
     "text": [
      " 53%|████████████████████████████████████████████████▍                                           | 29396/55900 [1:25:40<51:18,  8.61it/s]"
     ]
    },
    {
     "name": "stdout",
     "output_type": "stream",
     "text": [
      "Extra data: line 18 column 1 (char 1033)\n"
     ]
    },
    {
     "name": "stderr",
     "output_type": "stream",
     "text": [
      " 53%|████████████████████████████████████████████████▌                                           | 29487/55900 [1:25:55<57:09,  7.70it/s]"
     ]
    },
    {
     "name": "stdout",
     "output_type": "stream",
     "text": [
      "Extra data: line 18 column 1 (char 857)\n"
     ]
    },
    {
     "name": "stderr",
     "output_type": "stream",
     "text": [
      " 53%|███████████████████████████████████████████████▍                                          | 29491/55900 [1:25:56<1:27:15,  5.04it/s]"
     ]
    },
    {
     "name": "stdout",
     "output_type": "stream",
     "text": [
      "Extra data: line 18 column 1 (char 969)\n"
     ]
    },
    {
     "name": "stderr",
     "output_type": "stream",
     "text": [
      " 53%|███████████████████████████████████████████████▋                                          | 29594/55900 [1:26:14<1:24:10,  5.21it/s]"
     ]
    },
    {
     "name": "stdout",
     "output_type": "stream",
     "text": [
      "Extra data: line 18 column 1 (char 921)\n",
      "Extra data: line 18 column 1 (char 857)\n"
     ]
    },
    {
     "name": "stderr",
     "output_type": "stream",
     "text": [
      " 53%|████████████████████████████████████████████████▉                                           | 29699/55900 [1:26:30<50:52,  8.58it/s]"
     ]
    },
    {
     "name": "stdout",
     "output_type": "stream",
     "text": [
      "Extra data: line 18 column 1 (char 857)\n"
     ]
    },
    {
     "name": "stderr",
     "output_type": "stream",
     "text": [
      " 53%|█████████████████████████████████████████████████                                           | 29791/55900 [1:26:44<41:56, 10.37it/s]"
     ]
    },
    {
     "name": "stdout",
     "output_type": "stream",
     "text": [
      "Extra data: line 18 column 1 (char 1082)\n",
      "Extra data: line 18 column 1 (char 1085)\n",
      "Extra data: line 18 column 1 (char 1085)\n"
     ]
    },
    {
     "name": "stderr",
     "output_type": "stream",
     "text": [
      " 53%|████████████████████████████████████████████████▏                                         | 29894/55900 [1:27:01<1:33:35,  4.63it/s]"
     ]
    },
    {
     "name": "stdout",
     "output_type": "stream",
     "text": [
      "Extra data: line 18 column 1 (char 875)\n",
      "Extra data: line 18 column 1 (char 875)\n",
      "Extra data: line 18 column 1 (char 853)\n"
     ]
    },
    {
     "name": "stderr",
     "output_type": "stream",
     "text": [
      " 54%|████████████████████████████████████████████████▎                                         | 29991/55900 [1:27:19<1:19:06,  5.46it/s]"
     ]
    },
    {
     "name": "stdout",
     "output_type": "stream",
     "text": [
      "Extra data: line 18 column 1 (char 857)\n"
     ]
    },
    {
     "name": "stderr",
     "output_type": "stream",
     "text": [
      " 54%|█████████████████████████████████████████████████▎                                          | 29996/55900 [1:27:19<47:14,  9.14it/s]"
     ]
    },
    {
     "name": "stdout",
     "output_type": "stream",
     "text": [
      "Extra data: line 18 column 1 (char 969)\n"
     ]
    },
    {
     "name": "stderr",
     "output_type": "stream",
     "text": [
      " 54%|████████████████████████████████████████████████▌                                         | 30173/55900 [1:27:43<1:20:43,  5.31it/s]"
     ]
    },
    {
     "name": "stdout",
     "output_type": "stream",
     "text": [
      "Extra data: line 18 column 1 (char 1126)\n",
      "Extra data: line 18 column 1 (char 1126)\n",
      "Extra data: line 18 column 1 (char 1126)\n",
      "Extra data: line 18 column 1 (char 1126)\n",
      "Extra data: line 18 column 1 (char 1126)\n",
      "Extra data: line 18 column 1 (char 1126)\n",
      "Extra data: line 18 column 1 (char 1126)\n",
      "Extra data: line 18 column 1 (char 1126)\n",
      "Extra data: line 18 column 1 (char 1126)\n",
      "Extra data: line 18 column 1 (char 1126)\n",
      "Extra data: line 18 column 1 (char 1126)\n",
      "Extra data: line 18 column 1 (char 1126)\n",
      "Extra data: line 18 column 1 (char 1126)\n",
      "Extra data: line 18 column 1 (char 1126)\n",
      "Extra data: line 18 column 1 (char 1126)\n",
      "Extra data: line 18 column 1 (char 1126)\n",
      "Extra data: line 18 column 1 (char 1126)\n",
      "Extra data: line 18 column 1 (char 1157)\n",
      "Extra data: line 18 column 1 (char 1126)\n"
     ]
    },
    {
     "name": "stderr",
     "output_type": "stream",
     "text": [
      " 54%|█████████████████████████████████████████████████▋                                          | 30196/55900 [1:27:43<17:53, 23.93it/s]"
     ]
    },
    {
     "name": "stdout",
     "output_type": "stream",
     "text": [
      "Extra data: line 18 column 1 (char 1094)\n",
      "Extra data: line 18 column 1 (char 1129)\n",
      "Extra data: line 18 column 1 (char 1126)\n",
      "Extra data: line 18 column 1 (char 1208)\n"
     ]
    },
    {
     "name": "stderr",
     "output_type": "stream",
     "text": [
      "\r",
      " 54%|█████████████████████████████████████████████████▋                                          | 30199/55900 [1:27:44<20:56, 20.46it/s]"
     ]
    },
    {
     "name": "stdout",
     "output_type": "stream",
     "text": [
      "Extra data: line 18 column 1 (char 1126)\n"
     ]
    },
    {
     "name": "stderr",
     "output_type": "stream",
     "text": [
      " 54%|█████████████████████████████████████████████████▊                                          | 30299/55900 [1:28:02<56:47,  7.51it/s]"
     ]
    },
    {
     "name": "stdout",
     "output_type": "stream",
     "text": [
      "Extra data: line 18 column 1 (char 804)\n"
     ]
    },
    {
     "name": "stderr",
     "output_type": "stream",
     "text": [
      " 54%|██████████████████████████████████████████████████                                          | 30399/55900 [1:28:20<59:37,  7.13it/s]"
     ]
    },
    {
     "name": "stdout",
     "output_type": "stream",
     "text": [
      "Extra data: line 18 column 1 (char 943)\n"
     ]
    },
    {
     "name": "stderr",
     "output_type": "stream",
     "text": [
      " 55%|█████████████████████████████████████████████████                                         | 30481/55900 [1:28:35<1:09:40,  6.08it/s]"
     ]
    },
    {
     "name": "stdout",
     "output_type": "stream",
     "text": [
      "Extra data: line 18 column 1 (char 579)\n"
     ]
    },
    {
     "name": "stderr",
     "output_type": "stream",
     "text": [
      " 55%|██████████████████████████████████████████████████▏                                         | 30494/55900 [1:28:36<35:53, 11.80it/s]"
     ]
    },
    {
     "name": "stdout",
     "output_type": "stream",
     "text": [
      "Extra data: line 18 column 1 (char 891)\n",
      "Extra data: line 18 column 1 (char 782)\n",
      "Extra data: line 7 column 1 (char 535)\n",
      "Extra data: line 18 column 1 (char 607)\n",
      "Extra data: line 18 column 1 (char 653)\n",
      "Extra data: line 18 column 1 (char 628)\n"
     ]
    },
    {
     "name": "stderr",
     "output_type": "stream",
     "text": [
      "\r",
      " 55%|██████████████████████████████████████████████████▏                                         | 30496/55900 [1:28:36<39:51, 10.62it/s]"
     ]
    },
    {
     "name": "stdout",
     "output_type": "stream",
     "text": [
      "Extra data: line 18 column 1 (char 856)\n"
     ]
    },
    {
     "name": "stderr",
     "output_type": "stream",
     "text": [
      "\r",
      " 55%|██████████████████████████████████████████████████▏                                         | 30498/55900 [1:28:37<43:25,  9.75it/s]"
     ]
    },
    {
     "name": "stdout",
     "output_type": "stream",
     "text": [
      "Extra data: line 18 column 1 (char 729)\n",
      "Extra data: line 18 column 1 (char 867)\n"
     ]
    },
    {
     "name": "stderr",
     "output_type": "stream",
     "text": [
      " 55%|█████████████████████████████████████████████████▎                                        | 30595/55900 [1:28:53<1:00:16,  7.00it/s]"
     ]
    },
    {
     "name": "stdout",
     "output_type": "stream",
     "text": [
      "Extra data: line 18 column 1 (char 1100)\n",
      "Extra data: line 18 column 1 (char 1235)\n"
     ]
    },
    {
     "name": "stderr",
     "output_type": "stream",
     "text": [
      "\r",
      " 55%|█████████████████████████████████████████████████▎                                        | 30597/55900 [1:28:53<1:04:47,  6.51it/s]"
     ]
    },
    {
     "name": "stdout",
     "output_type": "stream",
     "text": [
      "Extra data: line 18 column 1 (char 1279)\n"
     ]
    },
    {
     "name": "stderr",
     "output_type": "stream",
     "text": [
      "\r",
      " 55%|██████████████████████████████████████████████████▎                                         | 30599/55900 [1:28:54<59:24,  7.10it/s]"
     ]
    },
    {
     "name": "stdout",
     "output_type": "stream",
     "text": [
      "Extra data: line 18 column 1 (char 1126)\n"
     ]
    },
    {
     "name": "stderr",
     "output_type": "stream",
     "text": [
      " 55%|██████████████████████████████████████████████████▌                                         | 30692/55900 [1:29:08<48:11,  8.72it/s]"
     ]
    },
    {
     "name": "stdout",
     "output_type": "stream",
     "text": [
      "Extra data: line 18 column 1 (char 853)\n"
     ]
    },
    {
     "name": "stderr",
     "output_type": "stream",
     "text": [
      "\r",
      " 55%|██████████████████████████████████████████████████▌                                         | 30694/55900 [1:29:08<48:02,  8.74it/s]"
     ]
    },
    {
     "name": "stdout",
     "output_type": "stream",
     "text": [
      "Extra data: line 18 column 1 (char 1033)\n"
     ]
    },
    {
     "name": "stderr",
     "output_type": "stream",
     "text": [
      " 55%|█████████████████████████████████████████████████▍                                        | 30698/55900 [1:29:09<1:02:00,  6.77it/s]"
     ]
    },
    {
     "name": "stdout",
     "output_type": "stream",
     "text": [
      "Extra data: line 18 column 1 (char 1082)\n"
     ]
    },
    {
     "name": "stderr",
     "output_type": "stream",
     "text": [
      " 55%|██████████████████████████████████████████████████▋                                         | 30781/55900 [1:29:21<44:08,  9.48it/s]"
     ]
    },
    {
     "name": "stdout",
     "output_type": "stream",
     "text": [
      "Expecting ',' delimiter: line 13 column 178 (char 778)\n"
     ]
    },
    {
     "name": "stderr",
     "output_type": "stream",
     "text": [
      " 55%|█████████████████████████████████████████████████▌                                        | 30789/55900 [1:29:22<1:17:02,  5.43it/s]"
     ]
    },
    {
     "name": "stdout",
     "output_type": "stream",
     "text": [
      "Extra data: line 18 column 1 (char 721)\n"
     ]
    },
    {
     "name": "stderr",
     "output_type": "stream",
     "text": [
      " 55%|██████████████████████████████████████████████████▋                                         | 30795/55900 [1:29:23<59:12,  7.07it/s]"
     ]
    },
    {
     "name": "stdout",
     "output_type": "stream",
     "text": [
      "Extra data: line 18 column 1 (char 761)\n",
      "Extra data: line 18 column 1 (char 768)\n",
      "Extra data: line 18 column 1 (char 506)\n",
      "Extra data: line 18 column 1 (char 736)\n",
      "Extra data: line 18 column 1 (char 661)\n",
      "Extra data: line 18 column 1 (char 918)\n"
     ]
    },
    {
     "name": "stderr",
     "output_type": "stream",
     "text": [
      " 55%|█████████████████████████████████████████████████▉                                        | 30991/55900 [1:29:58<1:02:36,  6.63it/s]"
     ]
    },
    {
     "name": "stdout",
     "output_type": "stream",
     "text": [
      "Extra data: line 18 column 1 (char 853)\n"
     ]
    },
    {
     "name": "stderr",
     "output_type": "stream",
     "text": [
      " 55%|███████████████████████████████████████████████████                                         | 30999/55900 [1:29:59<50:42,  8.18it/s]"
     ]
    },
    {
     "name": "stdout",
     "output_type": "stream",
     "text": [
      "Extra data: line 18 column 1 (char 668)\n",
      "Extra data: line 18 column 1 (char 943)\n"
     ]
    },
    {
     "name": "stderr",
     "output_type": "stream",
     "text": [
      " 56%|██████████████████████████████████████████████████                                        | 31095/55900 [1:30:16<1:46:39,  3.88it/s]"
     ]
    },
    {
     "name": "stdout",
     "output_type": "stream",
     "text": [
      "Extra data: line 18 column 1 (char 702)\n",
      "Extra data: line 18 column 1 (char 639)\n",
      "Extra data: line 18 column 1 (char 742)\n",
      "Extra data: line 18 column 1 (char 1754)\n"
     ]
    },
    {
     "name": "stderr",
     "output_type": "stream",
     "text": [
      " 56%|███████████████████████████████████████████████████▎                                        | 31192/55900 [1:30:35<49:48,  8.27it/s]"
     ]
    },
    {
     "name": "stdout",
     "output_type": "stream",
     "text": [
      "Extra data: line 18 column 1 (char 663)\n"
     ]
    },
    {
     "name": "stderr",
     "output_type": "stream",
     "text": [
      "\r",
      " 56%|███████████████████████████████████████████████████▎                                        | 31195/55900 [1:30:35<38:52, 10.59it/s]"
     ]
    },
    {
     "name": "stdout",
     "output_type": "stream",
     "text": [
      "Extra data: line 18 column 1 (char 740)\n",
      "Extra data: line 18 column 1 (char 843)\n",
      "Extra data: line 18 column 1 (char 729)\n",
      "Extra data: line 18 column 1 (char 584)\n",
      "Extra data: line 18 column 1 (char 896)\n",
      "Extra data: line 18 column 1 (char 799)\n"
     ]
    },
    {
     "name": "stderr",
     "output_type": "stream",
     "text": [
      " 56%|██████████████████████████████████████████████████▍                                       | 31291/55900 [1:30:50<1:21:14,  5.05it/s]"
     ]
    },
    {
     "name": "stdout",
     "output_type": "stream",
     "text": [
      "Extra data: line 18 column 1 (char 843)\n"
     ]
    },
    {
     "name": "stderr",
     "output_type": "stream",
     "text": [
      " 56%|██████████████████████████████████████████████████▍                                       | 31294/55900 [1:30:51<1:11:05,  5.77it/s]"
     ]
    },
    {
     "name": "stdout",
     "output_type": "stream",
     "text": [
      "Extra data: line 18 column 1 (char 676)\n",
      "Extra data: line 18 column 1 (char 790)\n",
      "Extra data: line 18 column 1 (char 708)\n",
      "Extra data: line 18 column 1 (char 889)\n"
     ]
    },
    {
     "name": "stderr",
     "output_type": "stream",
     "text": [
      " 56%|██████████████████████████████████████████████████▌                                       | 31396/55900 [1:31:10<1:21:13,  5.03it/s]"
     ]
    },
    {
     "name": "stdout",
     "output_type": "stream",
     "text": [
      "Extra data: line 18 column 1 (char 1060)\n",
      "Extra data: line 18 column 1 (char 636)\n",
      "Extra data: line 7 column 1 (char 1038)\n",
      "Extra data: line 18 column 1 (char 785)\n"
     ]
    },
    {
     "name": "stderr",
     "output_type": "stream",
     "text": [
      " 56%|██████████████████████████████████████████████████▋                                       | 31498/55900 [1:31:27<1:07:06,  6.06it/s]"
     ]
    },
    {
     "name": "stdout",
     "output_type": "stream",
     "text": [
      "Extra data: line 18 column 1 (char 853)\n"
     ]
    },
    {
     "name": "stderr",
     "output_type": "stream",
     "text": [
      " 56%|███████████████████████████████████████████████████▉                                        | 31582/55900 [1:31:44<58:18,  6.95it/s]"
     ]
    },
    {
     "name": "stdout",
     "output_type": "stream",
     "text": [
      "Expecting ',' delimiter: line 9 column 130 (char 632)\n"
     ]
    },
    {
     "name": "stderr",
     "output_type": "stream",
     "text": [
      " 57%|██████████████████████████████████████████████████▉                                       | 31655/55900 [1:31:59<1:47:24,  3.76it/s]"
     ]
    },
    {
     "name": "stdout",
     "output_type": "stream",
     "text": [
      "Expecting ',' delimiter: line 13 column 60 (char 696)\n"
     ]
    },
    {
     "name": "stderr",
     "output_type": "stream",
     "text": [
      " 57%|███████████████████████████████████████████████████                                       | 31690/55900 [1:32:06<1:07:01,  6.02it/s]"
     ]
    },
    {
     "name": "stdout",
     "output_type": "stream",
     "text": [
      "Extra data: line 18 column 1 (char 704)\n"
     ]
    },
    {
     "name": "stderr",
     "output_type": "stream",
     "text": [
      " 57%|███████████████████████████████████████████████████                                       | 31693/55900 [1:32:06<1:24:48,  4.76it/s]"
     ]
    },
    {
     "name": "stdout",
     "output_type": "stream",
     "text": [
      "Extra data: line 18 column 1 (char 629)\n",
      "Extra data: line 18 column 1 (char 685)\n",
      "Extra data: line 18 column 1 (char 782)\n",
      "Extra data: line 18 column 1 (char 701)\n",
      "Extra data: line 18 column 1 (char 777)\n",
      "Extra data: line 18 column 1 (char 791)\n"
     ]
    },
    {
     "name": "stderr",
     "output_type": "stream",
     "text": [
      " 57%|███████████████████████████████████████████████████▊                                       | 31801/55900 [1:32:12<03:49, 105.15it/s]"
     ]
    },
    {
     "name": "stdout",
     "output_type": "stream",
     "text": [
      "Extra data: line 18 column 1 (char 1246)\n",
      "Extra data: line 18 column 1 (char 1246)\n",
      "Extra data: line 18 column 1 (char 1246)\n",
      "Extra data: line 18 column 1 (char 1246)\n",
      "Extra data: line 18 column 1 (char 1246)\n",
      "Extra data: line 18 column 1 (char 1246)\n",
      "Extra data: line 18 column 1 (char 1095)\n",
      "Extra data: line 18 column 1 (char 1061)\n",
      "Extra data: line 18 column 1 (char 1061)\n",
      "Extra data: line 18 column 1 (char 1240)\n",
      "Extra data: line 18 column 1 (char 1061)\n",
      "Extra data: line 18 column 1 (char 1061)\n",
      "Extra data: line 18 column 1 (char 1061)\n",
      "Extra data: line 18 column 1 (char 1061)\n",
      "Extra data: line 18 column 1 (char 1056)\n",
      "Extra data: line 18 column 1 (char 1061)\n",
      "Extra data: line 18 column 1 (char 1027)\n",
      "Extra data: line 18 column 1 (char 1056)\n",
      "Extra data: line 18 column 1 (char 1061)\n",
      "Extra data: line 18 column 1 (char 1061)\n",
      "Extra data: line 18 column 1 (char 1061)\n",
      "Extra data: line 18 column 1 (char 1027)\n",
      "Extra data: line 18 column 1 (char 1061)\n",
      "Extra data: line 18 column 1 (char 1061)\n",
      "Extra data: line 18 column 1 (char 1052)\n",
      "Extra data: line 18 column 1 (char 1061)\n",
      "Extra data: line 18 column 1 (char 1061)\n",
      "Extra data: line 18 column 1 (char 1061)\n",
      "Extra data: line 18 column 1 (char 1027)\n",
      "Extra data: line 18 column 1 (char 1061)\n",
      "Extra data: line 18 column 1 (char 1061)\n",
      "Extra data: line 18 column 1 (char 1061)\n",
      "Extra data: line 18 column 1 (char 1061)\n",
      "Extra data: line 18 column 1 (char 1061)\n",
      "Extra data: line 18 column 1 (char 1061)\n",
      "Extra data: line 18 column 1 (char 1061)\n",
      "Extra data: line 18 column 1 (char 1061)\n",
      "Extra data: line 18 column 1 (char 1061)\n",
      "Extra data: line 18 column 1 (char 1061)\n",
      "Extra data: line 18 column 1 (char 1061)\n",
      "Extra data: line 18 column 1 (char 1095)\n",
      "Extra data: line 18 column 1 (char 1061)\n",
      "Extra data: line 18 column 1 (char 1061)\n",
      "Extra data: line 18 column 1 (char 1061)\n",
      "Extra data: line 18 column 1 (char 1061)\n",
      "Extra data: line 18 column 1 (char 1061)\n",
      "Extra data: line 18 column 1 (char 1061)\n",
      "Extra data: line 18 column 1 (char 1061)\n",
      "Extra data: line 18 column 1 (char 1061)\n",
      "Extra data: line 18 column 1 (char 1126)\n",
      "Extra data: line 18 column 1 (char 1151)\n",
      "Extra data: line 18 column 1 (char 1061)\n",
      "Extra data: line 18 column 1 (char 1135)\n",
      "Extra data: line 18 column 1 (char 1027)\n",
      "Extra data: line 18 column 1 (char 1061)\n",
      "Extra data: line 18 column 1 (char 1061)\n",
      "Extra data: line 18 column 1 (char 1061)\n",
      "Extra data: line 18 column 1 (char 1240)\n",
      "Extra data: line 18 column 1 (char 1240)\n",
      "Extra data: line 18 column 1 (char 1240)\n",
      "Extra data: line 18 column 1 (char 1056)\n",
      "Extra data: line 18 column 1 (char 1061)\n",
      "Extra data: line 18 column 1 (char 1061)\n",
      "Extra data: line 18 column 1 (char 1043)\n",
      "Extra data: line 18 column 1 (char 1043)\n"
     ]
    },
    {
     "name": "stderr",
     "output_type": "stream",
     "text": [
      " 57%|████████████████████████████████████████████████████▍                                       | 31895/55900 [1:32:31<58:44,  6.81it/s]"
     ]
    },
    {
     "name": "stdout",
     "output_type": "stream",
     "text": [
      "Extra data: line 18 column 1 (char 542)\n"
     ]
    },
    {
     "name": "stderr",
     "output_type": "stream",
     "text": [
      " 57%|███████████████████████████████████████████████████▍                                      | 31983/55900 [1:32:46<1:08:46,  5.80it/s]"
     ]
    },
    {
     "name": "stdout",
     "output_type": "stream",
     "text": [
      "Extra data: line 18 column 1 (char 687)\n"
     ]
    },
    {
     "name": "stderr",
     "output_type": "stream",
     "text": [
      "\r",
      " 57%|███████████████████████████████████████████████████▍                                      | 31984/55900 [1:32:46<1:19:39,  5.00it/s]"
     ]
    },
    {
     "name": "stdout",
     "output_type": "stream",
     "text": [
      "Extra data: line 18 column 1 (char 842)\n"
     ]
    },
    {
     "name": "stderr",
     "output_type": "stream",
     "text": [
      " 57%|███████████████████████████████████████████████████▌                                      | 31990/55900 [1:32:47<1:06:16,  6.01it/s]"
     ]
    },
    {
     "name": "stdout",
     "output_type": "stream",
     "text": [
      "Extra data: line 18 column 1 (char 900)\n",
      "Extra data: line 18 column 1 (char 588)\n",
      "Extra data: line 18 column 1 (char 597)\n",
      "Extra data: line 18 column 1 (char 1172)\n",
      "Extra data: line 18 column 1 (char 601)\n",
      "Extra data: line 18 column 1 (char 782)\n",
      "Extra data: line 18 column 1 (char 633)\n",
      "Extra data: line 18 column 1 (char 788)\n",
      "Extra data: line 18 column 1 (char 829)\n"
     ]
    },
    {
     "name": "stderr",
     "output_type": "stream",
     "text": [
      " 58%|███████████████████████████████████████████████████▊                                      | 32201/55900 [1:33:28<1:01:12,  6.45it/s]"
     ]
    },
    {
     "name": "stdout",
     "output_type": "stream",
     "text": [
      "Extra data: line 18 column 1 (char 623)\n"
     ]
    },
    {
     "name": "stderr",
     "output_type": "stream",
     "text": [
      " 58%|█████████████████████████████████████████████████████▏                                      | 32301/55900 [1:33:48<49:41,  7.92it/s]"
     ]
    },
    {
     "name": "stdout",
     "output_type": "stream",
     "text": [
      "Extra data: line 18 column 1 (char 622)\n",
      "Extra data: line 18 column 1 (char 786)\n",
      "Extra data: line 18 column 1 (char 842)\n"
     ]
    },
    {
     "name": "stderr",
     "output_type": "stream",
     "text": [
      " 58%|████████████████████████████████████████████████████▏                                     | 32388/55900 [1:34:05<1:25:55,  4.56it/s]"
     ]
    },
    {
     "name": "stdout",
     "output_type": "stream",
     "text": [
      "Extra data: line 18 column 1 (char 587)\n"
     ]
    },
    {
     "name": "stderr",
     "output_type": "stream",
     "text": [
      " 58%|█████████████████████████████████████████████████████▎                                      | 32400/55900 [1:34:06<35:05, 11.16it/s]"
     ]
    },
    {
     "name": "stdout",
     "output_type": "stream",
     "text": [
      "Extra data: line 18 column 1 (char 727)\n",
      "Extra data: line 18 column 1 (char 622)\n",
      "Extra data: line 18 column 1 (char 676)\n",
      "Extra data: line 18 column 1 (char 659)\n",
      "Extra data: line 18 column 1 (char 804)\n",
      "Extra data: line 18 column 1 (char 913)\n"
     ]
    },
    {
     "name": "stderr",
     "output_type": "stream",
     "text": [
      " 58%|████████████████████████████████████████████████████▎                                     | 32496/55900 [1:34:25<1:01:42,  6.32it/s]"
     ]
    },
    {
     "name": "stdout",
     "output_type": "stream",
     "text": [
      "Extra data: line 18 column 1 (char 1235)\n"
     ]
    },
    {
     "name": "stderr",
     "output_type": "stream",
     "text": [
      "\r",
      " 58%|████████████████████████████████████████████████████▎                                     | 32497/55900 [1:34:25<1:01:03,  6.39it/s]"
     ]
    },
    {
     "name": "stdout",
     "output_type": "stream",
     "text": [
      "Extra data: line 18 column 1 (char 1110)\n"
     ]
    },
    {
     "name": "stderr",
     "output_type": "stream",
     "text": [
      " 58%|█████████████████████████████████████████████████████▋                                      | 32597/55900 [1:34:45<33:23, 11.63it/s]"
     ]
    },
    {
     "name": "stdout",
     "output_type": "stream",
     "text": [
      "Extra data: line 18 column 1 (char 857)\n",
      "Extra data: line 18 column 1 (char 857)\n"
     ]
    },
    {
     "name": "stderr",
     "output_type": "stream",
     "text": [
      " 58%|█████████████████████████████████████████████████████▋                                      | 32601/55900 [1:34:45<28:48, 13.48it/s]"
     ]
    },
    {
     "name": "stdout",
     "output_type": "stream",
     "text": [
      "Extra data: line 18 column 1 (char 1017)\n"
     ]
    },
    {
     "name": "stderr",
     "output_type": "stream",
     "text": [
      " 58%|████████████████████████████████████████████████████▌                                     | 32682/55900 [1:35:02<1:06:18,  5.84it/s]"
     ]
    },
    {
     "name": "stdout",
     "output_type": "stream",
     "text": [
      "Extra data: line 18 column 1 (char 751)\n"
     ]
    },
    {
     "name": "stderr",
     "output_type": "stream",
     "text": [
      " 58%|█████████████████████████████████████████████████████▊                                      | 32697/55900 [1:35:04<40:05,  9.65it/s]"
     ]
    },
    {
     "name": "stdout",
     "output_type": "stream",
     "text": [
      "Extra data: line 18 column 1 (char 606)\n",
      "Extra data: line 18 column 1 (char 611)\n"
     ]
    },
    {
     "name": "stderr",
     "output_type": "stream",
     "text": [
      " 58%|█████████████████████████████████████████████████████▊                                      | 32701/55900 [1:35:05<35:14, 10.97it/s]"
     ]
    },
    {
     "name": "stdout",
     "output_type": "stream",
     "text": [
      "Extra data: line 18 column 1 (char 765)\n"
     ]
    },
    {
     "name": "stderr",
     "output_type": "stream",
     "text": [
      " 59%|████████████████████████████████████████████████████▊                                     | 32800/55900 [1:35:21<1:07:29,  5.70it/s]"
     ]
    },
    {
     "name": "stdout",
     "output_type": "stream",
     "text": [
      "Extra data: line 18 column 1 (char 851)\n"
     ]
    },
    {
     "name": "stderr",
     "output_type": "stream",
     "text": [
      " 59%|██████████████████████████████████████████████████████▏                                     | 32895/55900 [1:35:38<43:24,  8.83it/s]"
     ]
    },
    {
     "name": "stdout",
     "output_type": "stream",
     "text": [
      "Extra data: line 18 column 1 (char 853)\n",
      "Extra data: line 18 column 1 (char 853)\n"
     ]
    },
    {
     "name": "stderr",
     "output_type": "stream",
     "text": [
      " 59%|██████████████████████████████████████████████████████▏                                     | 32899/55900 [1:35:38<40:16,  9.52it/s]"
     ]
    },
    {
     "name": "stdout",
     "output_type": "stream",
     "text": [
      "Extra data: line 18 column 1 (char 775)\n"
     ]
    },
    {
     "name": "stderr",
     "output_type": "stream",
     "text": [
      " 59%|█████████████████████████████████████████████████████                                     | 32981/55900 [1:35:53<1:08:09,  5.60it/s]"
     ]
    },
    {
     "name": "stdout",
     "output_type": "stream",
     "text": [
      "Extra data: line 18 column 1 (char 846)\n"
     ]
    },
    {
     "name": "stderr",
     "output_type": "stream",
     "text": [
      " 59%|██████████████████████████████████████████████████████▎                                     | 32999/55900 [1:35:55<45:30,  8.39it/s]"
     ]
    },
    {
     "name": "stdout",
     "output_type": "stream",
     "text": [
      "Extra data: line 18 column 1 (char 853)\n",
      "Extra data: line 18 column 1 (char 775)\n",
      "Extra data: line 18 column 1 (char 974)\n"
     ]
    },
    {
     "name": "stderr",
     "output_type": "stream",
     "text": [
      " 59%|█████████████████████████████████████████████████████▎                                    | 33091/55900 [1:36:12<1:30:51,  4.18it/s]"
     ]
    },
    {
     "name": "stdout",
     "output_type": "stream",
     "text": [
      "Extra data: line 18 column 1 (char 917)\n"
     ]
    },
    {
     "name": "stderr",
     "output_type": "stream",
     "text": [
      "\r",
      " 59%|█████████████████████████████████████████████████████▎                                    | 33093/55900 [1:36:13<1:16:17,  4.98it/s]"
     ]
    },
    {
     "name": "stdout",
     "output_type": "stream",
     "text": [
      "Extra data: line 18 column 1 (char 539)\n"
     ]
    },
    {
     "name": "stderr",
     "output_type": "stream",
     "text": [
      " 59%|██████████████████████████████████████████████████████▍                                     | 33100/55900 [1:36:13<35:32, 10.69it/s]"
     ]
    },
    {
     "name": "stdout",
     "output_type": "stream",
     "text": [
      "Extra data: line 18 column 1 (char 729)\n",
      "Extra data: line 18 column 1 (char 658)\n",
      "Extra data: line 18 column 1 (char 576)\n",
      "Extra data: line 18 column 1 (char 606)\n"
     ]
    },
    {
     "name": "stderr",
     "output_type": "stream",
     "text": [
      " 59%|██████████████████████████████████████████████████████▋                                     | 33193/55900 [1:36:34<43:49,  8.63it/s]"
     ]
    },
    {
     "name": "stdout",
     "output_type": "stream",
     "text": [
      "Extra data: line 18 column 1 (char 562)\n"
     ]
    },
    {
     "name": "stderr",
     "output_type": "stream",
     "text": [
      "\r",
      " 59%|██████████████████████████████████████████████████████▋                                     | 33195/55900 [1:36:34<50:11,  7.54it/s]"
     ]
    },
    {
     "name": "stdout",
     "output_type": "stream",
     "text": [
      "Extra data: line 18 column 1 (char 741)\n"
     ]
    },
    {
     "name": "stderr",
     "output_type": "stream",
     "text": [
      "\r",
      " 59%|█████████████████████████████████████████████████████▍                                    | 33197/55900 [1:36:35<1:29:47,  4.21it/s]"
     ]
    },
    {
     "name": "stdout",
     "output_type": "stream",
     "text": [
      "Extra data: line 18 column 1 (char 888)\n",
      "Extra data: line 18 column 1 (char 1129)\n"
     ]
    },
    {
     "name": "stderr",
     "output_type": "stream",
     "text": [
      " 60%|██████████████████████████████████████████████████████▉                                     | 33390/55900 [1:37:11<51:44,  7.25it/s]"
     ]
    },
    {
     "name": "stdout",
     "output_type": "stream",
     "text": [
      "Extra data: line 18 column 1 (char 1085)\n",
      "Extra data: line 18 column 1 (char 1033)\n"
     ]
    },
    {
     "name": "stderr",
     "output_type": "stream",
     "text": [
      " 60%|██████████████████████████████████████████████████████▉                                     | 33397/55900 [1:37:12<40:02,  9.37it/s]"
     ]
    },
    {
     "name": "stdout",
     "output_type": "stream",
     "text": [
      "Extra data: line 18 column 1 (char 775)\n"
     ]
    },
    {
     "name": "stderr",
     "output_type": "stream",
     "text": [
      " 60%|█████████████████████████████████████████████████████▉                                    | 33494/55900 [1:37:31<1:27:03,  4.29it/s]"
     ]
    },
    {
     "name": "stdout",
     "output_type": "stream",
     "text": [
      "Extra data: line 18 column 1 (char 775)\n"
     ]
    },
    {
     "name": "stderr",
     "output_type": "stream",
     "text": [
      " 60%|███████████████████████████████████████████████████████▍                                    | 33692/55900 [1:38:10<28:16, 13.09it/s]"
     ]
    },
    {
     "name": "stdout",
     "output_type": "stream",
     "text": [
      "Extra data: line 18 column 1 (char 571)\n",
      "Extra data: line 18 column 1 (char 780)\n",
      "Extra data: line 18 column 1 (char 778)\n",
      "Extra data: line 18 column 1 (char 1244)\n",
      "Extra data: line 18 column 1 (char 1244)\n",
      "Extra data: line 18 column 1 (char 757)\n"
     ]
    },
    {
     "name": "stderr",
     "output_type": "stream",
     "text": [
      " 60%|██████████████████████████████████████████████████████▍                                   | 33789/55900 [1:38:27<1:09:01,  5.34it/s]"
     ]
    },
    {
     "name": "stdout",
     "output_type": "stream",
     "text": [
      "Extra data: line 18 column 1 (char 875)\n"
     ]
    },
    {
     "name": "stderr",
     "output_type": "stream",
     "text": [
      " 60%|██████████████████████████████████████████████████████▍                                   | 33794/55900 [1:38:28<1:00:31,  6.09it/s]"
     ]
    },
    {
     "name": "stdout",
     "output_type": "stream",
     "text": [
      "Extra data: line 18 column 1 (char 875)\n",
      "Extra data: line 18 column 1 (char 875)\n"
     ]
    },
    {
     "name": "stderr",
     "output_type": "stream",
     "text": [
      " 60%|███████████████████████████████████████████████████████▋                                    | 33800/55900 [1:38:29<55:32,  6.63it/s]"
     ]
    },
    {
     "name": "stdout",
     "output_type": "stream",
     "text": [
      "'NoneType' object is not subscriptable\n",
      "'NoneType' object is not subscriptable\n",
      "'NoneType' object is not subscriptable\n",
      "'NoneType' object is not subscriptable\n"
     ]
    },
    {
     "name": "stderr",
     "output_type": "stream",
     "text": [
      " 61%|███████████████████████████████████████████████████████▊                                    | 33887/55900 [1:38:44<33:26, 10.97it/s]"
     ]
    },
    {
     "name": "stdout",
     "output_type": "stream",
     "text": [
      "Extra data: line 18 column 1 (char 507)\n",
      "Extra data: line 18 column 1 (char 642)\n",
      "Extra data: line 18 column 1 (char 599)\n",
      "Extra data: line 18 column 1 (char 680)\n",
      "Extra data: line 18 column 1 (char 655)\n",
      "Extra data: line 18 column 1 (char 541)\n",
      "Extra data: line 18 column 1 (char 663)\n",
      "Extra data: line 18 column 1 (char 1063)\n",
      "Extra data: line 18 column 1 (char 849)\n",
      "Extra data: line 18 column 1 (char 768)\n",
      "Extra data: line 18 column 1 (char 968)\n",
      "Extra data: line 18 column 1 (char 1067)\n",
      "Extra data: line 18 column 1 (char 1051)\n",
      "Extra data: line 18 column 1 (char 703)\n",
      "Extra data: line 18 column 1 (char 1470)\n",
      "Extra data: line 18 column 1 (char 664)\n"
     ]
    },
    {
     "name": "stderr",
     "output_type": "stream",
     "text": [
      " 61%|███████████████████████████████████████████████████████▉                                    | 33992/55900 [1:39:00<51:19,  7.11it/s]"
     ]
    },
    {
     "name": "stdout",
     "output_type": "stream",
     "text": [
      "Extra data: line 18 column 1 (char 610)\n"
     ]
    },
    {
     "name": "stderr",
     "output_type": "stream",
     "text": [
      "\r",
      " 61%|██████████████████████████████████████████████████████▋                                   | 33993/55900 [1:39:01<1:02:56,  5.80it/s]"
     ]
    },
    {
     "name": "stdout",
     "output_type": "stream",
     "text": [
      "Extra data: line 18 column 1 (char 658)\n",
      "Extra data: line 18 column 1 (char 602)\n"
     ]
    },
    {
     "name": "stderr",
     "output_type": "stream",
     "text": [
      " 61%|██████████████████████████████████████████████████████▉                                   | 34091/55900 [1:39:17<1:00:38,  5.99it/s]"
     ]
    },
    {
     "name": "stdout",
     "output_type": "stream",
     "text": [
      "Extra data: line 18 column 1 (char 875)\n",
      "Extra data: line 18 column 1 (char 1027)\n",
      "Extra data: line 18 column 1 (char 1033)\n"
     ]
    },
    {
     "name": "stderr",
     "output_type": "stream",
     "text": [
      " 61%|████████████████████████████████████████████████████████▎                                   | 34201/55900 [1:39:36<12:06, 29.85it/s]"
     ]
    },
    {
     "name": "stdout",
     "output_type": "stream",
     "text": [
      "Extra data: line 18 column 1 (char 651)\n",
      "Extra data: line 7 column 1 (char 647)\n",
      "Extra data: line 18 column 1 (char 650)\n",
      "Extra data: line 18 column 1 (char 737)\n",
      "Extra data: line 18 column 1 (char 781)\n",
      "Extra data: line 18 column 1 (char 674)\n",
      "Extra data: line 18 column 1 (char 871)\n",
      "Extra data: line 18 column 1 (char 801)\n",
      "Extra data: line 18 column 1 (char 841)\n",
      "Extra data: line 18 column 1 (char 594)\n",
      "Extra data: line 18 column 1 (char 864)\n",
      "Extra data: line 18 column 1 (char 1321)\n",
      "Extra data: line 18 column 1 (char 669)\n"
     ]
    },
    {
     "name": "stderr",
     "output_type": "stream",
     "text": [
      " 61%|████████████████████████████████████████████████████████▍                                   | 34293/55900 [1:39:56<43:50,  8.21it/s]"
     ]
    },
    {
     "name": "stdout",
     "output_type": "stream",
     "text": [
      "Expecting ',' delimiter: line 12 column 52 (char 571)\n"
     ]
    },
    {
     "name": "stderr",
     "output_type": "stream",
     "text": [
      "\r",
      " 61%|████████████████████████████████████████████████████████▍                                   | 34294/55900 [1:39:56<44:50,  8.03it/s]"
     ]
    },
    {
     "name": "stdout",
     "output_type": "stream",
     "text": [
      "Extra data: line 18 column 1 (char 683)\n",
      "Extra data: line 18 column 1 (char 767)\n",
      "Extra data: line 18 column 1 (char 670)\n",
      "Extra data: line 18 column 1 (char 636)\n",
      "Extra data: line 18 column 1 (char 748)\n"
     ]
    },
    {
     "name": "stderr",
     "output_type": "stream",
     "text": [
      " 62%|████████████████████████████████████████████████████████▌                                   | 34400/55900 [1:40:12<33:30, 10.70it/s]"
     ]
    },
    {
     "name": "stdout",
     "output_type": "stream",
     "text": [
      "Extra data: line 18 column 1 (char 775)\n",
      "Extra data: line 18 column 1 (char 668)\n"
     ]
    },
    {
     "name": "stderr",
     "output_type": "stream",
     "text": [
      " 62%|████████████████████████████████████████████████████████▊                                   | 34497/55900 [1:40:28<50:30,  7.06it/s]"
     ]
    },
    {
     "name": "stdout",
     "output_type": "stream",
     "text": [
      "Extra data: line 18 column 1 (char 979)\n"
     ]
    },
    {
     "name": "stderr",
     "output_type": "stream",
     "text": [
      " 62%|████████████████████████████████████████████████████████▉                                   | 34580/55900 [1:40:44<42:31,  8.36it/s]"
     ]
    },
    {
     "name": "stdout",
     "output_type": "stream",
     "text": [
      "Expecting ',' delimiter: line 9 column 190 (char 841)\n"
     ]
    },
    {
     "name": "stderr",
     "output_type": "stream",
     "text": [
      " 62%|████████████████████████████████████████████████████████▉                                   | 34596/55900 [1:40:47<57:22,  6.19it/s]"
     ]
    },
    {
     "name": "stdout",
     "output_type": "stream",
     "text": [
      "Extra data: line 18 column 1 (char 846)\n"
     ]
    },
    {
     "name": "stderr",
     "output_type": "stream",
     "text": [
      " 62%|████████████████████████████████████████████████████████▉                                   | 34601/55900 [1:40:48<44:44,  7.93it/s]"
     ]
    },
    {
     "name": "stdout",
     "output_type": "stream",
     "text": [
      "Extra data: line 18 column 1 (char 1163)\n"
     ]
    },
    {
     "name": "stderr",
     "output_type": "stream",
     "text": [
      " 62%|█████████████████████████████████████████████████████████                                   | 34695/55900 [1:41:05<48:12,  7.33it/s]"
     ]
    },
    {
     "name": "stdout",
     "output_type": "stream",
     "text": [
      "Extra data: line 18 column 1 (char 853)\n",
      "Extra data: line 18 column 1 (char 875)\n"
     ]
    },
    {
     "name": "stderr",
     "output_type": "stream",
     "text": [
      " 62%|█████████████████████████████████████████████████████████                                   | 34701/55900 [1:41:05<32:05, 11.01it/s]"
     ]
    },
    {
     "name": "stdout",
     "output_type": "stream",
     "text": [
      "Extra data: line 18 column 1 (char 894)\n"
     ]
    },
    {
     "name": "stderr",
     "output_type": "stream",
     "text": [
      " 62%|█████████████████████████████████████████████████████████▎                                  | 34795/55900 [1:41:19<37:48,  9.30it/s]"
     ]
    },
    {
     "name": "stdout",
     "output_type": "stream",
     "text": [
      "Extra data: line 18 column 1 (char 846)\n",
      "Extra data: line 18 column 1 (char 853)\n"
     ]
    },
    {
     "name": "stderr",
     "output_type": "stream",
     "text": [
      "\r",
      " 62%|█████████████████████████████████████████████████████████▎                                  | 34797/55900 [1:41:19<40:30,  8.68it/s]"
     ]
    },
    {
     "name": "stdout",
     "output_type": "stream",
     "text": [
      "Extra data: line 18 column 1 (char 981)\n"
     ]
    },
    {
     "name": "stderr",
     "output_type": "stream",
     "text": [
      "\r",
      " 62%|█████████████████████████████████████████████████████████▎                                  | 34799/55900 [1:41:20<42:52,  8.20it/s]"
     ]
    },
    {
     "name": "stdout",
     "output_type": "stream",
     "text": [
      "Extra data: line 18 column 1 (char 775)\n"
     ]
    },
    {
     "name": "stderr",
     "output_type": "stream",
     "text": [
      " 62%|█████████████████████████████████████████████████████████▍                                  | 34893/55900 [1:41:35<44:18,  7.90it/s]"
     ]
    },
    {
     "name": "stdout",
     "output_type": "stream",
     "text": [
      "Extra data: line 18 column 1 (char 647)\n",
      "Extra data: line 18 column 1 (char 768)\n",
      "Extra data: line 18 column 1 (char 557)\n",
      "Extra data: line 18 column 1 (char 608)\n",
      "Extra data: line 18 column 1 (char 676)\n",
      "Extra data: line 18 column 1 (char 593)\n",
      "Extra data: line 18 column 1 (char 775)\n"
     ]
    },
    {
     "name": "stderr",
     "output_type": "stream",
     "text": [
      " 63%|█████████████████████████████████████████████████████████▌                                  | 35001/55900 [1:41:51<51:00,  6.83it/s]"
     ]
    },
    {
     "name": "stdout",
     "output_type": "stream",
     "text": [
      "Extra data: line 18 column 1 (char 914)\n"
     ]
    },
    {
     "name": "stderr",
     "output_type": "stream",
     "text": [
      " 63%|█████████████████████████████████████████████████████████▊                                  | 35093/55900 [1:42:07<31:14, 11.10it/s]"
     ]
    },
    {
     "name": "stdout",
     "output_type": "stream",
     "text": [
      "Extra data: line 18 column 1 (char 846)\n",
      "Extra data: line 18 column 1 (char 853)\n",
      "Extra data: line 18 column 1 (char 981)\n"
     ]
    },
    {
     "name": "stderr",
     "output_type": "stream",
     "text": [
      " 63%|██████████████████████████████████████████████████████████                                  | 35260/55900 [1:42:38<56:22,  6.10it/s]"
     ]
    },
    {
     "name": "stdout",
     "output_type": "stream",
     "text": [
      "Extra data: line 18 column 1 (char 687)\n",
      "Expecting ',' delimiter: line 13 column 171 (char 994)\n"
     ]
    },
    {
     "name": "stderr",
     "output_type": "stream",
     "text": [
      " 63%|██████████████████████████████████████████████████████████                                  | 35291/55900 [1:42:43<43:35,  7.88it/s]"
     ]
    },
    {
     "name": "stdout",
     "output_type": "stream",
     "text": [
      "Extra data: line 18 column 1 (char 770)\n",
      "Extra data: line 18 column 1 (char 1088)\n"
     ]
    },
    {
     "name": "stderr",
     "output_type": "stream",
     "text": [
      " 63%|██████████████████████████████████████████████████████████                                  | 35294/55900 [1:42:43<50:14,  6.84it/s]"
     ]
    },
    {
     "name": "stdout",
     "output_type": "stream",
     "text": [
      "Extra data: line 18 column 1 (char 908)\n"
     ]
    },
    {
     "name": "stderr",
     "output_type": "stream",
     "text": [
      " 63%|██████████████████████████████████████████████████████████                                  | 35299/55900 [1:42:44<45:42,  7.51it/s]"
     ]
    },
    {
     "name": "stdout",
     "output_type": "stream",
     "text": [
      "Extra data: line 18 column 1 (char 778)\n"
     ]
    },
    {
     "name": "stderr",
     "output_type": "stream",
     "text": [
      " 63%|████████████████████████████████████████████████████████▉                                 | 35393/55900 [1:43:00<1:07:06,  5.09it/s]"
     ]
    },
    {
     "name": "stdout",
     "output_type": "stream",
     "text": [
      "Extra data: line 18 column 1 (char 779)\n",
      "Extra data: line 18 column 1 (char 770)\n",
      "Extra data: line 18 column 1 (char 813)\n",
      "Extra data: line 18 column 1 (char 863)\n",
      "Extra data: line 18 column 1 (char 538)\n",
      "Extra data: line 18 column 1 (char 538)\n",
      "Extra data: line 18 column 1 (char 853)\n"
     ]
    },
    {
     "name": "stderr",
     "output_type": "stream",
     "text": [
      "\r",
      " 63%|██████████████████████████████████████████████████████████▎                                 | 35401/55900 [1:43:00<21:57, 15.56it/s]"
     ]
    },
    {
     "name": "stdout",
     "output_type": "stream",
     "text": [
      "Extra data: line 18 column 1 (char 1246)\n",
      "Extra data: line 18 column 1 (char 1246)\n",
      "Extra data: line 18 column 1 (char 1246)\n",
      "Extra data: line 18 column 1 (char 1246)\n",
      "Extra data: line 18 column 1 (char 1027)\n",
      "Extra data: line 18 column 1 (char 1246)\n",
      "Extra data: line 18 column 1 (char 1027)\n",
      "Extra data: line 18 column 1 (char 1246)\n",
      "Extra data: line 18 column 1 (char 1027)\n",
      "Extra data: line 18 column 1 (char 1240)\n",
      "Extra data: line 18 column 1 (char 1240)\n",
      "Extra data: line 18 column 1 (char 1061)\n",
      "Extra data: line 18 column 1 (char 1061)\n",
      "Extra data: line 18 column 1 (char 1061)\n",
      "Extra data: line 18 column 1 (char 1027)\n",
      "Extra data: line 18 column 1 (char 1056)\n",
      "Extra data: line 18 column 1 (char 1061)\n",
      "Extra data: line 18 column 1 (char 1061)\n",
      "Extra data: line 18 column 1 (char 1061)\n",
      "Extra data: line 18 column 1 (char 1056)\n",
      "Extra data: line 18 column 1 (char 1061)\n",
      "Extra data: line 18 column 1 (char 1027)\n",
      "Extra data: line 18 column 1 (char 1061)\n",
      "Extra data: line 18 column 1 (char 1061)\n",
      "Extra data: line 18 column 1 (char 1061)\n",
      "Extra data: line 18 column 1 (char 1061)\n",
      "Extra data: line 18 column 1 (char 1061)\n",
      "Extra data: line 18 column 1 (char 1061)\n",
      "Extra data: line 18 column 1 (char 1027)\n",
      "Extra data: line 18 column 1 (char 1027)\n",
      "Extra data: line 18 column 1 (char 1061)\n",
      "Extra data: line 18 column 1 (char 1027)\n",
      "Extra data: line 18 column 1 (char 1027)\n",
      "Extra data: line 18 column 1 (char 1061)\n",
      "Extra data: line 18 column 1 (char 1061)\n",
      "Extra data: line 18 column 1 (char 1061)\n",
      "Extra data: line 18 column 1 (char 1061)\n",
      "Extra data: line 18 column 1 (char 1056)\n",
      "Extra data: line 18 column 1 (char 1056)\n",
      "Extra data: line 18 column 1 (char 1061)\n",
      "Extra data: line 18 column 1 (char 1061)\n",
      "Extra data: line 18 column 1 (char 1061)\n",
      "Extra data: line 18 column 1 (char 1061)\n",
      "Extra data: line 18 column 1 (char 1061)\n",
      "Extra data: line 18 column 1 (char 1061)\n",
      "Extra data: line 18 column 1 (char 1061)\n",
      "Extra data: line 18 column 1 (char 1061)\n",
      "Extra data: line 18 column 1 (char 1061)\n",
      "Extra data: line 18 column 1 (char 1043)\n",
      "Extra data: line 18 column 1 (char 1061)\n",
      "Extra data: line 18 column 1 (char 1061)\n",
      "Extra data: line 18 column 1 (char 1061)\n",
      "Extra data: line 18 column 1 (char 1061)\n",
      "Extra data: line 18 column 1 (char 1061)\n",
      "Extra data: line 18 column 1 (char 1061)\n",
      "Extra data: line 18 column 1 (char 1061)\n",
      "Extra data: line 18 column 1 (char 1061)\n",
      "Extra data: line 18 column 1 (char 1061)\n",
      "Extra data: line 18 column 1 (char 1061)\n",
      "Extra data: line 18 column 1 (char 1061)\n",
      "Extra data: line 18 column 1 (char 1061)\n",
      "Extra data: line 18 column 1 (char 1061)\n",
      "Extra data: line 18 column 1 (char 1056)\n",
      "Extra data: line 18 column 1 (char 1061)\n",
      "Extra data: line 18 column 1 (char 1061)\n",
      "Extra data: line 18 column 1 (char 1061)\n",
      "Extra data: line 18 column 1 (char 1061)\n",
      "Extra data: line 18 column 1 (char 1061)\n",
      "Extra data: line 18 column 1 (char 1061)\n",
      "Extra data: line 18 column 1 (char 1061)\n",
      "Extra data: line 18 column 1 (char 1043)\n",
      "Extra data: line 18 column 1 (char 1061)\n",
      "Extra data: line 18 column 1 (char 1043)\n",
      "Extra data: line 18 column 1 (char 1135)\n",
      "Extra data: line 18 column 1 (char 1135)\n",
      "Extra data: line 18 column 1 (char 1135)\n",
      "Extra data: line 18 column 1 (char 1240)\n",
      "Extra data: line 18 column 1 (char 1240)\n",
      "Extra data: line 18 column 1 (char 1240)\n",
      "Extra data: line 18 column 1 (char 1240)\n",
      "Extra data: line 18 column 1 (char 1240)\n",
      "Extra data: line 18 column 1 (char 1061)\n",
      "Extra data: line 18 column 1 (char 1240)\n",
      "Extra data: line 18 column 1 (char 1240)\n",
      "Extra data: line 18 column 1 (char 1061)\n",
      "Extra data: line 18 column 1 (char 1061)\n",
      "Extra data: line 18 column 1 (char 1240)\n",
      "Extra data: line 18 column 1 (char 1240)\n",
      "Extra data: line 18 column 1 (char 1240)\n",
      "Extra data: line 18 column 1 (char 1240)\n",
      "Extra data: line 18 column 1 (char 1240)\n",
      "Extra data: line 18 column 1 (char 1240)\n",
      "Extra data: line 18 column 1 (char 1240)\n",
      "Extra data: line 18 column 1 (char 1061)\n",
      "Extra data: line 18 column 1 (char 1240)\n",
      "Extra data: line 18 column 1 (char 1043)\n",
      "Extra data: line 18 column 1 (char 1061)\n",
      "Extra data: line 18 column 1 (char 1061)\n",
      "Extra data: line 18 column 1 (char 1043)\n"
     ]
    },
    {
     "name": "stderr",
     "output_type": "stream",
     "text": [
      " 64%|█████████████████████████████████████████████████████████▎                                | 35591/55900 [1:43:17<1:02:11,  5.44it/s]"
     ]
    },
    {
     "name": "stdout",
     "output_type": "stream",
     "text": [
      "Extra data: line 18 column 1 (char 1041)\n",
      "Extra data: line 18 column 1 (char 678)\n",
      "Extra data: line 18 column 1 (char 782)\n",
      "Extra data: line 18 column 1 (char 674)\n",
      "Extra data: line 18 column 1 (char 727)\n"
     ]
    },
    {
     "name": "stderr",
     "output_type": "stream",
     "text": [
      " 64%|██████████████████████████████████████████████████████████▌                                 | 35599/55900 [1:43:18<29:15, 11.57it/s]"
     ]
    },
    {
     "name": "stdout",
     "output_type": "stream",
     "text": [
      "Extra data: line 18 column 1 (char 640)\n",
      "Extra data: line 18 column 1 (char 748)\n",
      "Extra data: line 18 column 1 (char 762)\n"
     ]
    },
    {
     "name": "stderr",
     "output_type": "stream",
     "text": [
      " 64%|█████████████████████████████████████████████████████████▍                                | 35689/55900 [1:43:36<1:22:05,  4.10it/s]"
     ]
    },
    {
     "name": "stdout",
     "output_type": "stream",
     "text": [
      "Extra data: line 18 column 1 (char 661)\n"
     ]
    },
    {
     "name": "stderr",
     "output_type": "stream",
     "text": [
      " 64%|█████████████████████████████████████████████████████████▍                                | 35692/55900 [1:43:37<1:16:36,  4.40it/s]"
     ]
    },
    {
     "name": "stdout",
     "output_type": "stream",
     "text": [
      "Extra data: line 18 column 1 (char 915)\n",
      "Extra data: line 18 column 1 (char 580)\n",
      "Extra data: line 18 column 1 (char 675)\n",
      "Extra data: line 18 column 1 (char 682)\n",
      "Extra data: line 18 column 1 (char 803)\n",
      "Extra data: line 18 column 1 (char 1024)\n"
     ]
    },
    {
     "name": "stderr",
     "output_type": "stream",
     "text": [
      " 64%|███████████████████████████████████████████████████████████                                 | 35894/55900 [1:44:16<56:42,  5.88it/s]"
     ]
    },
    {
     "name": "stdout",
     "output_type": "stream",
     "text": [
      "Extra data: line 18 column 1 (char 668)\n"
     ]
    },
    {
     "name": "stderr",
     "output_type": "stream",
     "text": [
      " 64%|███████████████████████████████████████████████████████████                                 | 35899/55900 [1:44:17<57:13,  5.83it/s]"
     ]
    },
    {
     "name": "stdout",
     "output_type": "stream",
     "text": [
      "Extra data: line 18 column 1 (char 835)\n"
     ]
    },
    {
     "name": "stderr",
     "output_type": "stream",
     "text": [
      " 64%|███████████████████████████████████████████████████████████▏                                | 35986/55900 [1:44:34<57:17,  5.79it/s]"
     ]
    },
    {
     "name": "stdout",
     "output_type": "stream",
     "text": [
      "Extra data: line 18 column 1 (char 704)\n"
     ]
    },
    {
     "name": "stderr",
     "output_type": "stream",
     "text": [
      " 64%|█████████████████████████████████████████████████████████▉                                | 35999/55900 [1:44:37<1:19:44,  4.16it/s]"
     ]
    },
    {
     "name": "stdout",
     "output_type": "stream",
     "text": [
      "Extra data: line 18 column 1 (char 854)\n"
     ]
    },
    {
     "name": "stderr",
     "output_type": "stream",
     "text": [
      " 65%|███████████████████████████████████████████████████████████▍                                | 36093/55900 [1:45:02<59:13,  5.57it/s]"
     ]
    },
    {
     "name": "stdout",
     "output_type": "stream",
     "text": [
      "Extra data: line 18 column 1 (char 722)\n"
     ]
    },
    {
     "name": "stderr",
     "output_type": "stream",
     "text": [
      " 65%|███████████████████████████████████████████████████████████▍                                | 36100/55900 [1:45:02<27:16, 12.10it/s]"
     ]
    },
    {
     "name": "stdout",
     "output_type": "stream",
     "text": [
      "Extra data: line 18 column 1 (char 630)\n",
      "Extra data: line 18 column 1 (char 681)\n",
      "Extra data: line 18 column 1 (char 693)\n"
     ]
    },
    {
     "name": "stderr",
     "output_type": "stream",
     "text": [
      " 65%|███████████████████████████████████████████████████████████▌                                | 36190/55900 [1:45:18<39:35,  8.30it/s]"
     ]
    },
    {
     "name": "stdout",
     "output_type": "stream",
     "text": [
      "Extra data: line 18 column 1 (char 857)\n"
     ]
    },
    {
     "name": "stderr",
     "output_type": "stream",
     "text": [
      " 65%|███████████████████████████████████████████████████████████▌                                | 36200/55900 [1:45:19<52:41,  6.23it/s]"
     ]
    },
    {
     "name": "stdout",
     "output_type": "stream",
     "text": [
      "Extra data: line 18 column 1 (char 933)\n"
     ]
    },
    {
     "name": "stderr",
     "output_type": "stream",
     "text": [
      " 65%|███████████████████████████████████████████████████████████▋                                | 36289/55900 [1:45:35<36:53,  8.86it/s]"
     ]
    },
    {
     "name": "stdout",
     "output_type": "stream",
     "text": [
      "Extra data: line 18 column 1 (char 637)\n"
     ]
    },
    {
     "name": "stderr",
     "output_type": "stream",
     "text": [
      " 65%|███████████████████████████████████████████████████████████▋                                | 36292/55900 [1:45:35<47:14,  6.92it/s]"
     ]
    },
    {
     "name": "stdout",
     "output_type": "stream",
     "text": [
      "Extra data: line 18 column 1 (char 857)\n",
      "Extra data: line 18 column 1 (char 593)\n",
      "Extra data: line 18 column 1 (char 614)\n",
      "Extra data: line 18 column 1 (char 675)\n",
      "Extra data: line 18 column 1 (char 875)\n",
      "Extra data: line 18 column 1 (char 586)\n",
      "Extra data: line 18 column 1 (char 586)\n",
      "Extra data: line 18 column 1 (char 848)\n"
     ]
    },
    {
     "name": "stderr",
     "output_type": "stream",
     "text": [
      " 65%|███████████████████████████████████████████████████████████▉                                | 36399/55900 [1:45:57<39:10,  8.30it/s]"
     ]
    },
    {
     "name": "stdout",
     "output_type": "stream",
     "text": [
      "Extra data: line 18 column 1 (char 840)\n"
     ]
    },
    {
     "name": "stderr",
     "output_type": "stream",
     "text": [
      " 65%|████████████████████████████████████████████████████████████                                | 36498/55900 [1:46:13<39:09,  8.26it/s]"
     ]
    },
    {
     "name": "stdout",
     "output_type": "stream",
     "text": [
      "Extra data: line 18 column 1 (char 851)\n"
     ]
    },
    {
     "name": "stderr",
     "output_type": "stream",
     "text": [
      " 65%|████████████████████████████████████████████████████████████▏                               | 36595/55900 [1:46:28<18:06, 17.78it/s]"
     ]
    },
    {
     "name": "stdout",
     "output_type": "stream",
     "text": [
      "Extra data: line 18 column 1 (char 640)\n",
      "Extra data: line 18 column 1 (char 918)\n",
      "Extra data: line 18 column 1 (char 918)\n",
      "Extra data: line 7 column 1 (char 553)\n",
      "Extra data: line 18 column 1 (char 918)\n",
      "Extra data: line 18 column 1 (char 656)\n",
      "Extra data: line 18 column 1 (char 640)\n",
      "Extra data: line 18 column 1 (char 640)\n",
      "Extra data: line 7 column 1 (char 690)\n",
      "Extra data: line 18 column 1 (char 1091)\n",
      "Extra data: line 18 column 1 (char 640)\n",
      "Extra data: line 18 column 1 (char 965)\n",
      "Extra data: line 18 column 1 (char 873)\n",
      "Extra data: line 18 column 1 (char 957)\n",
      "Extra data: line 18 column 1 (char 1033)\n",
      "Extra data: line 18 column 1 (char 1238)\n"
     ]
    },
    {
     "name": "stderr",
     "output_type": "stream",
     "text": [
      " 66%|████████████████████████████████████████████████████████████▎                               | 36639/55900 [1:46:35<55:45,  5.76it/s]"
     ]
    },
    {
     "name": "stdout",
     "output_type": "stream",
     "text": [
      "Expecting ',' delimiter: line 9 column 125 (char 484)\n"
     ]
    },
    {
     "name": "stderr",
     "output_type": "stream",
     "text": [
      " 66%|████████████████████████████████████████████████████████████▍                               | 36685/55900 [1:46:42<54:52,  5.84it/s]"
     ]
    },
    {
     "name": "stdout",
     "output_type": "stream",
     "text": [
      "Extra data: line 18 column 1 (char 624)\n",
      "Extra data: line 18 column 1 (char 871)\n",
      "Extra data: line 18 column 1 (char 930)\n"
     ]
    },
    {
     "name": "stderr",
     "output_type": "stream",
     "text": [
      " 66%|████████████████████████████████████████████████████████████▍                               | 36691/55900 [1:46:42<45:10,  7.09it/s]"
     ]
    },
    {
     "name": "stdout",
     "output_type": "stream",
     "text": [
      "Extra data: line 18 column 1 (char 1244)\n",
      "Extra data: line 18 column 1 (char 1244)\n",
      "Extra data: line 18 column 1 (char 1244)\n",
      "Extra data: line 18 column 1 (char 757)\n",
      "Extra data: line 18 column 1 (char 757)\n"
     ]
    },
    {
     "name": "stderr",
     "output_type": "stream",
     "text": [
      "\r",
      " 66%|████████████████████████████████████████████████████████████▍                               | 36698/55900 [1:46:43<25:14, 12.68it/s]"
     ]
    },
    {
     "name": "stdout",
     "output_type": "stream",
     "text": [
      "Extra data: line 18 column 1 (char 757)\n",
      "Extra data: line 18 column 1 (char 1099)\n"
     ]
    },
    {
     "name": "stderr",
     "output_type": "stream",
     "text": [
      " 66%|████████████████████████████████████████████████████████████▌                               | 36791/55900 [1:46:59<43:57,  7.24it/s]"
     ]
    },
    {
     "name": "stdout",
     "output_type": "stream",
     "text": [
      "Extra data: line 18 column 1 (char 860)\n"
     ]
    },
    {
     "name": "stderr",
     "output_type": "stream",
     "text": [
      " 66%|████████████████████████████████████████████████████████████▌                               | 36794/55900 [1:46:59<37:46,  8.43it/s]"
     ]
    },
    {
     "name": "stdout",
     "output_type": "stream",
     "text": [
      "Extra data: line 18 column 1 (char 842)\n"
     ]
    },
    {
     "name": "stderr",
     "output_type": "stream",
     "text": [
      " 66%|████████████████████████████████████████████████████████████▌                               | 36800/55900 [1:47:00<27:49, 11.44it/s]"
     ]
    },
    {
     "name": "stdout",
     "output_type": "stream",
     "text": [
      "Extra data: line 18 column 1 (char 550)\n",
      "Extra data: line 18 column 1 (char 584)\n",
      "Extra data: line 18 column 1 (char 1229)\n",
      "Extra data: line 18 column 1 (char 866)\n"
     ]
    },
    {
     "name": "stderr",
     "output_type": "stream",
     "text": [
      " 66%|████████████████████████████████████████████████████████████▋                               | 36883/55900 [1:47:16<58:12,  5.45it/s]"
     ]
    },
    {
     "name": "stdout",
     "output_type": "stream",
     "text": [
      "Extra data: line 18 column 1 (char 545)\n"
     ]
    },
    {
     "name": "stderr",
     "output_type": "stream",
     "text": [
      "\r",
      " 66%|████████████████████████████████████████████████████████████▋                               | 36885/55900 [1:47:17<58:51,  5.38it/s]"
     ]
    },
    {
     "name": "stdout",
     "output_type": "stream",
     "text": [
      "Extra data: line 18 column 1 (char 737)\n"
     ]
    },
    {
     "name": "stderr",
     "output_type": "stream",
     "text": [
      " 66%|███████████████████████████████████████████████████████████▍                              | 36889/55900 [1:47:17<1:00:08,  5.27it/s]"
     ]
    },
    {
     "name": "stdout",
     "output_type": "stream",
     "text": [
      "Extra data: line 18 column 1 (char 849)\n",
      "Extra data: line 18 column 1 (char 419)\n",
      "Extra data: line 18 column 1 (char 731)\n"
     ]
    },
    {
     "name": "stderr",
     "output_type": "stream",
     "text": [
      "\r",
      " 66%|████████████████████████████████████████████████████████████▋                               | 36894/55900 [1:47:18<33:26,  9.47it/s]"
     ]
    },
    {
     "name": "stdout",
     "output_type": "stream",
     "text": [
      "Extra data: line 7 column 1 (char 611)\n",
      "Extra data: line 18 column 1 (char 670)\n",
      "Extra data: line 18 column 1 (char 782)\n",
      "Extra data: line 18 column 1 (char 913)\n"
     ]
    },
    {
     "name": "stderr",
     "output_type": "stream",
     "text": [
      "\r",
      " 66%|████████████████████████████████████████████████████████████▋                               | 36899/55900 [1:47:18<23:48, 13.31it/s]"
     ]
    },
    {
     "name": "stdout",
     "output_type": "stream",
     "text": [
      "Extra data: line 18 column 1 (char 649)\n"
     ]
    },
    {
     "name": "stderr",
     "output_type": "stream",
     "text": [
      " 66%|███████████████████████████████████████████████████████████▌                              | 36997/55900 [1:47:35<1:00:40,  5.19it/s]"
     ]
    },
    {
     "name": "stdout",
     "output_type": "stream",
     "text": [
      "Extra data: line 18 column 1 (char 875)\n"
     ]
    },
    {
     "name": "stderr",
     "output_type": "stream",
     "text": [
      " 66%|███████████████████████████████████████████████████████████▋                              | 37092/55900 [1:47:52<1:26:22,  3.63it/s]"
     ]
    },
    {
     "name": "stdout",
     "output_type": "stream",
     "text": [
      "Extra data: line 18 column 1 (char 644)\n"
     ]
    },
    {
     "name": "stderr",
     "output_type": "stream",
     "text": [
      " 67%|█████████████████████████████████████████████████████████████▏                              | 37192/55900 [1:48:08<56:41,  5.50it/s]"
     ]
    },
    {
     "name": "stdout",
     "output_type": "stream",
     "text": [
      "Extra data: line 18 column 1 (char 1099)\n"
     ]
    },
    {
     "name": "stderr",
     "output_type": "stream",
     "text": [
      "\r",
      " 67%|█████████████████████████████████████████████████████████████▏                              | 37194/55900 [1:48:08<53:07,  5.87it/s]"
     ]
    },
    {
     "name": "stdout",
     "output_type": "stream",
     "text": [
      "Extra data: line 18 column 1 (char 1235)\n"
     ]
    },
    {
     "name": "stderr",
     "output_type": "stream",
     "text": [
      "\r",
      " 67%|█████████████████████████████████████████████████████████████▏                              | 37196/55900 [1:48:09<51:39,  6.03it/s]"
     ]
    },
    {
     "name": "stdout",
     "output_type": "stream",
     "text": [
      "Extra data: line 18 column 1 (char 1099)\n",
      "Extra data: line 18 column 1 (char 986)\n"
     ]
    },
    {
     "name": "stderr",
     "output_type": "stream",
     "text": [
      " 67%|█████████████████████████████████████████████████████████████▍                              | 37292/55900 [1:48:26<59:30,  5.21it/s]"
     ]
    },
    {
     "name": "stdout",
     "output_type": "stream",
     "text": [
      "Extra data: line 18 column 1 (char 853)\n"
     ]
    },
    {
     "name": "stderr",
     "output_type": "stream",
     "text": [
      " 67%|█████████████████████████████████████████████████████████████▍                              | 37300/55900 [1:48:28<54:22,  5.70it/s]"
     ]
    },
    {
     "name": "stdout",
     "output_type": "stream",
     "text": [
      "Extra data: line 18 column 1 (char 853)\n"
     ]
    },
    {
     "name": "stderr",
     "output_type": "stream",
     "text": [
      " 67%|█████████████████████████████████████████████████████████████▌                              | 37394/55900 [1:48:46<52:46,  5.84it/s]"
     ]
    },
    {
     "name": "stdout",
     "output_type": "stream",
     "text": [
      "Extra data: line 18 column 1 (char 693)\n"
     ]
    },
    {
     "name": "stderr",
     "output_type": "stream",
     "text": [
      " 67%|█████████████████████████████████████████████████████████████▋                              | 37501/55900 [1:49:09<52:00,  5.90it/s]"
     ]
    },
    {
     "name": "stdout",
     "output_type": "stream",
     "text": [
      "Extra data: line 18 column 1 (char 955)\n"
     ]
    },
    {
     "name": "stderr",
     "output_type": "stream",
     "text": [
      " 67%|████████████████████████████████████████████████████████████▍                             | 37572/55900 [1:49:22<1:02:36,  4.88it/s]"
     ]
    },
    {
     "name": "stdout",
     "output_type": "stream",
     "text": [
      "Extra data: line 7 column 1 (char 676)\n"
     ]
    },
    {
     "name": "stderr",
     "output_type": "stream",
     "text": [
      " 67%|█████████████████████████████████████████████████████████████▉                              | 37597/55900 [1:49:24<13:47, 22.11it/s]"
     ]
    },
    {
     "name": "stdout",
     "output_type": "stream",
     "text": [
      "Extra data: line 18 column 1 (char 1027)\n",
      "Extra data: line 18 column 1 (char 797)\n",
      "Extra data: line 18 column 1 (char 987)\n",
      "Extra data: line 18 column 1 (char 640)\n",
      "Extra data: line 18 column 1 (char 757)\n",
      "Extra data: line 18 column 1 (char 677)\n",
      "Extra data: line 18 column 1 (char 757)\n",
      "Extra data: line 18 column 1 (char 902)\n",
      "Extra data: line 18 column 1 (char 677)\n",
      "Extra data: line 18 column 1 (char 865)\n",
      "Extra data: line 7 column 1 (char 1024)\n",
      "Extra data: line 7 column 1 (char 1049)\n",
      "Extra data: line 7 column 1 (char 1018)\n",
      "Extra data: line 18 column 1 (char 950)\n",
      "Extra data: line 7 column 1 (char 978)\n"
     ]
    },
    {
     "name": "stderr",
     "output_type": "stream",
     "text": [
      " 68%|██████████████████████████████████████████████████████████████▏                             | 37778/55900 [1:49:57<52:52,  5.71it/s]"
     ]
    },
    {
     "name": "stdout",
     "output_type": "stream",
     "text": [
      "Extra data: line 18 column 1 (char 820)\n",
      "Extra data: line 18 column 1 (char 797)\n"
     ]
    },
    {
     "name": "stderr",
     "output_type": "stream",
     "text": [
      "\r",
      " 68%|██████████████████████████████████████████████████████████████▏                             | 37781/55900 [1:49:58<41:53,  7.21it/s]"
     ]
    },
    {
     "name": "stdout",
     "output_type": "stream",
     "text": [
      "Extra data: line 18 column 1 (char 987)\n",
      "Extra data: line 18 column 1 (char 1102)\n",
      "Extra data: line 18 column 1 (char 640)\n"
     ]
    },
    {
     "name": "stderr",
     "output_type": "stream",
     "text": [
      " 68%|██████████████████████████████████████████████████████████████▏                             | 37790/55900 [1:49:58<21:18, 14.17it/s]"
     ]
    },
    {
     "name": "stdout",
     "output_type": "stream",
     "text": [
      "Extra data: line 18 column 1 (char 797)\n",
      "Extra data: line 18 column 1 (char 656)\n",
      "Extra data: line 18 column 1 (char 1083)\n",
      "Extra data: line 18 column 1 (char 640)\n",
      "Extra data: line 18 column 1 (char 640)\n"
     ]
    },
    {
     "name": "stderr",
     "output_type": "stream",
     "text": [
      "\r",
      " 68%|██████████████████████████████████████████████████████████████▏                             | 37798/55900 [1:49:58<13:06, 23.02it/s]"
     ]
    },
    {
     "name": "stdout",
     "output_type": "stream",
     "text": [
      "Extra data: line 18 column 1 (char 912)\n",
      "Extra data: line 7 column 1 (char 1049)\n",
      "Extra data: line 7 column 1 (char 1049)\n",
      "Extra data: line 7 column 1 (char 978)\n"
     ]
    },
    {
     "name": "stderr",
     "output_type": "stream",
     "text": [
      " 68%|██████████████████████████████████████████████████████████████▏                             | 37817/55900 [1:50:01<57:04,  5.28it/s]"
     ]
    },
    {
     "name": "stdout",
     "output_type": "stream",
     "text": [
      "Expecting ',' delimiter: line 13 column 77 (char 665)\n"
     ]
    },
    {
     "name": "stderr",
     "output_type": "stream",
     "text": [
      " 68%|██████████████████████████████████████████████████████████████▎                             | 37882/55900 [1:50:12<31:34,  9.51it/s]"
     ]
    },
    {
     "name": "stdout",
     "output_type": "stream",
     "text": [
      "Extra data: line 18 column 1 (char 826)\n",
      "Extra data: line 18 column 1 (char 571)\n"
     ]
    },
    {
     "name": "stderr",
     "output_type": "stream",
     "text": [
      " 68%|██████████████████████████████████████████████████████████████▎                             | 37889/55900 [1:50:12<19:40, 15.26it/s]"
     ]
    },
    {
     "name": "stdout",
     "output_type": "stream",
     "text": [
      "Extra data: line 18 column 1 (char 871)\n",
      "Extra data: line 18 column 1 (char 649)\n",
      "Expecting ',' delimiter: line 9 column 125 (char 484)\n",
      "Extra data: line 18 column 1 (char 1244)\n",
      "Extra data: line 18 column 1 (char 778)\n"
     ]
    },
    {
     "name": "stderr",
     "output_type": "stream",
     "text": [
      "\r",
      " 68%|██████████████████████████████████████████████████████████████▎                             | 37892/55900 [1:50:12<20:10, 14.88it/s]"
     ]
    },
    {
     "name": "stdout",
     "output_type": "stream",
     "text": [
      "Extra data: line 18 column 1 (char 757)\n",
      "Extra data: line 18 column 1 (char 757)\n",
      "Extra data: line 18 column 1 (char 757)\n"
     ]
    },
    {
     "name": "stderr",
     "output_type": "stream",
     "text": [
      " 68%|██████████████████████████████████████████████████████████████▎                             | 37899/55900 [1:50:13<20:27, 14.67it/s]"
     ]
    },
    {
     "name": "stdout",
     "output_type": "stream",
     "text": [
      "Extra data: line 18 column 1 (char 1312)\n"
     ]
    },
    {
     "name": "stderr",
     "output_type": "stream",
     "text": [
      " 68%|██████████████████████████████████████████████████████████████▌                             | 37994/55900 [1:50:27<25:41, 11.61it/s]"
     ]
    },
    {
     "name": "stdout",
     "output_type": "stream",
     "text": [
      "Extra data: line 18 column 1 (char 1016)\n"
     ]
    },
    {
     "name": "stderr",
     "output_type": "stream",
     "text": [
      " 68%|██████████████████████████████████████████████████████████████▌                             | 37999/55900 [1:50:28<25:49, 11.55it/s]"
     ]
    },
    {
     "name": "stdout",
     "output_type": "stream",
     "text": [
      "Extra data: line 18 column 1 (char 1110)\n"
     ]
    },
    {
     "name": "stderr",
     "output_type": "stream",
     "text": [
      " 68%|██████████████████████████████████████████████████████████████▋                             | 38096/55900 [1:50:45<58:40,  5.06it/s]"
     ]
    },
    {
     "name": "stdout",
     "output_type": "stream",
     "text": [
      "Extra data: line 18 column 1 (char 1085)\n"
     ]
    },
    {
     "name": "stderr",
     "output_type": "stream",
     "text": [
      " 68%|██████████████████████████████████████████████████████████████▋                             | 38101/55900 [1:50:45<33:58,  8.73it/s]"
     ]
    },
    {
     "name": "stdout",
     "output_type": "stream",
     "text": [
      "Extra data: line 18 column 1 (char 981)\n"
     ]
    },
    {
     "name": "stderr",
     "output_type": "stream",
     "text": [
      " 68%|██████████████████████████████████████████████████████████████▊                             | 38194/55900 [1:51:01<30:46,  9.59it/s]"
     ]
    },
    {
     "name": "stdout",
     "output_type": "stream",
     "text": [
      "Extra data: line 18 column 1 (char 857)\n",
      "Extra data: line 18 column 1 (char 853)\n",
      "Extra data: line 18 column 1 (char 981)\n"
     ]
    },
    {
     "name": "stderr",
     "output_type": "stream",
     "text": [
      "\r",
      " 68%|██████████████████████████████████████████████████████████████▊                             | 38196/55900 [1:51:01<25:32, 11.56it/s]"
     ]
    },
    {
     "name": "stdout",
     "output_type": "stream",
     "text": [
      "Extra data: line 18 column 1 (char 853)\n"
     ]
    },
    {
     "name": "stderr",
     "output_type": "stream",
     "text": [
      " 69%|███████████████████████████████████████████████████████████████                             | 38301/55900 [1:51:19<21:47, 13.46it/s]"
     ]
    },
    {
     "name": "stdout",
     "output_type": "stream",
     "text": [
      "Extra data: line 18 column 1 (char 797)\n",
      "Extra data: line 18 column 1 (char 987)\n",
      "Extra data: line 18 column 1 (char 1010)\n",
      "Extra data: line 18 column 1 (char 1102)\n",
      "Extra data: line 18 column 1 (char 902)\n",
      "Extra data: line 18 column 1 (char 1102)\n",
      "Extra data: line 18 column 1 (char 1155)\n",
      "Extra data: line 18 column 1 (char 757)\n",
      "Extra data: line 18 column 1 (char 757)\n",
      "Extra data: line 7 column 1 (char 859)\n",
      "Extra data: line 18 column 1 (char 660)\n",
      "Extra data: line 18 column 1 (char 811)\n",
      "Extra data: line 18 column 1 (char 912)\n",
      "Extra data: line 7 column 1 (char 873)\n",
      "Extra data: line 18 column 1 (char 912)\n",
      "Extra data: line 18 column 1 (char 677)\n",
      "Extra data: line 7 column 1 (char 1018)\n",
      "Extra data: line 7 column 1 (char 1024)\n",
      "Extra data: line 18 column 1 (char 957)\n",
      "Extra data: line 7 column 1 (char 1049)\n",
      "Extra data: line 7 column 1 (char 1018)\n"
     ]
    },
    {
     "name": "stderr",
     "output_type": "stream",
     "text": [
      " 69%|███████████████████████████████████████████████████████████████▏                            | 38388/55900 [1:51:35<46:33,  6.27it/s]"
     ]
    },
    {
     "name": "stdout",
     "output_type": "stream",
     "text": [
      "Extra data: line 18 column 1 (char 635)\n"
     ]
    },
    {
     "name": "stderr",
     "output_type": "stream",
     "text": [
      " 69%|███████████████████████████████████████████████████████████████▏                            | 38393/55900 [1:51:35<35:42,  8.17it/s]"
     ]
    },
    {
     "name": "stdout",
     "output_type": "stream",
     "text": [
      "Extra data: line 18 column 1 (char 734)\n",
      "Extra data: line 18 column 1 (char 550)\n",
      "Extra data: line 18 column 1 (char 586)\n",
      "Extra data: line 18 column 1 (char 661)\n",
      "Extra data: line 18 column 1 (char 537)\n",
      "Extra data: line 18 column 1 (char 639)\n",
      "Extra data: line 18 column 1 (char 991)\n",
      "Extra data: line 18 column 1 (char 659)\n"
     ]
    },
    {
     "name": "stderr",
     "output_type": "stream",
     "text": [
      " 69%|█████████████████████████████████████████████████████████████▉                            | 38492/55900 [1:51:52<1:09:36,  4.17it/s]"
     ]
    },
    {
     "name": "stdout",
     "output_type": "stream",
     "text": [
      "Extra data: line 18 column 1 (char 727)\n",
      "Extra data: line 18 column 1 (char 629)\n",
      "Extra data: line 18 column 1 (char 588)\n",
      "Extra data: line 18 column 1 (char 676)\n",
      "Extra data: line 18 column 1 (char 676)\n",
      "Extra data: line 18 column 1 (char 737)\n"
     ]
    },
    {
     "name": "stderr",
     "output_type": "stream",
     "text": [
      " 69%|███████████████████████████████████████████████████████████████▌                            | 38598/55900 [1:52:10<57:28,  5.02it/s]"
     ]
    },
    {
     "name": "stdout",
     "output_type": "stream",
     "text": [
      "Extra data: line 18 column 1 (char 697)\n",
      "Extra data: line 18 column 1 (char 734)\n"
     ]
    },
    {
     "name": "stderr",
     "output_type": "stream",
     "text": [
      " 69%|███████████████████████████████████████████████████████████████▌                            | 38649/55900 [1:52:17<46:12,  6.22it/s]"
     ]
    },
    {
     "name": "stdout",
     "output_type": "stream",
     "text": [
      "Extra data: line 18 column 1 (char 1140)\n",
      "Extra data: line 18 column 1 (char 1254)\n",
      "Extra data: line 18 column 1 (char 1262)\n",
      "Extra data: line 18 column 1 (char 1259)\n",
      "Extra data: line 18 column 1 (char 1259)\n",
      "Extra data: line 18 column 1 (char 1254)\n"
     ]
    },
    {
     "name": "stderr",
     "output_type": "stream",
     "text": [
      " 69%|███████████████████████████████████████████████████████████████▋                            | 38668/55900 [1:52:18<11:18, 25.40it/s]"
     ]
    },
    {
     "name": "stdout",
     "output_type": "stream",
     "text": [
      "Extra data: line 18 column 1 (char 1254)\n",
      "Extra data: line 18 column 1 (char 1259)\n",
      "Extra data: line 18 column 1 (char 1254)\n",
      "Extra data: line 18 column 1 (char 1254)\n",
      "Extra data: line 18 column 1 (char 1262)\n",
      "Extra data: line 18 column 1 (char 1257)\n",
      "Extra data: line 18 column 1 (char 1254)\n",
      "Extra data: line 18 column 1 (char 1254)\n",
      "Extra data: line 18 column 1 (char 1262)\n",
      "Extra data: line 18 column 1 (char 1259)\n",
      "Extra data: line 18 column 1 (char 1137)\n",
      "Extra data: line 18 column 1 (char 1123)\n"
     ]
    },
    {
     "name": "stderr",
     "output_type": "stream",
     "text": [
      "\r",
      " 69%|███████████████████████████████████████████████████████████████▋                            | 38672/55900 [1:52:18<12:17, 23.36it/s]"
     ]
    },
    {
     "name": "stdout",
     "output_type": "stream",
     "text": [
      "Extra data: line 18 column 1 (char 1123)\n",
      "Extra data: line 18 column 1 (char 1123)\n",
      "Extra data: line 18 column 1 (char 1159)\n",
      "Extra data: line 18 column 1 (char 1132)\n",
      "Extra data: line 18 column 1 (char 1140)\n",
      "Extra data: line 18 column 1 (char 1123)\n"
     ]
    },
    {
     "name": "stderr",
     "output_type": "stream",
     "text": [
      "\r",
      " 69%|███████████████████████████████████████████████████████████████▋                            | 38677/55900 [1:52:18<13:08, 21.85it/s]"
     ]
    },
    {
     "name": "stdout",
     "output_type": "stream",
     "text": [
      "Extra data: line 18 column 1 (char 1123)\n",
      "Extra data: line 18 column 1 (char 1163)\n",
      "Extra data: line 18 column 1 (char 1208)\n",
      "Extra data: line 18 column 1 (char 1252)\n",
      "Extra data: line 18 column 1 (char 1208)\n"
     ]
    },
    {
     "name": "stderr",
     "output_type": "stream",
     "text": [
      " 69%|███████████████████████████████████████████████████████████████▋                            | 38701/55900 [1:52:19<07:07, 40.28it/s]"
     ]
    },
    {
     "name": "stdout",
     "output_type": "stream",
     "text": [
      "Extra data: line 18 column 1 (char 1140)\n",
      "Extra data: line 18 column 1 (char 1140)\n",
      "Extra data: line 18 column 1 (char 1252)\n",
      "Extra data: line 18 column 1 (char 1257)\n",
      "Extra data: line 18 column 1 (char 1252)\n",
      "Extra data: line 18 column 1 (char 1170)\n",
      "Extra data: line 18 column 1 (char 1226)\n",
      "Extra data: line 18 column 1 (char 1252)\n",
      "Extra data: line 18 column 1 (char 1140)\n",
      "Extra data: line 18 column 1 (char 1140)\n",
      "Extra data: line 18 column 1 (char 1140)\n",
      "Extra data: line 18 column 1 (char 1140)\n",
      "Extra data: line 18 column 1 (char 1140)\n",
      "Extra data: line 18 column 1 (char 1140)\n",
      "Extra data: line 18 column 1 (char 1257)\n",
      "Extra data: line 18 column 1 (char 1208)\n",
      "Extra data: line 18 column 1 (char 1170)\n"
     ]
    },
    {
     "name": "stderr",
     "output_type": "stream",
     "text": [
      " 69%|███████████████████████████████████████████████████████████████▊                            | 38800/55900 [1:52:37<33:23,  8.53it/s]"
     ]
    },
    {
     "name": "stdout",
     "output_type": "stream",
     "text": [
      "Extra data: line 18 column 1 (char 813)\n"
     ]
    },
    {
     "name": "stderr",
     "output_type": "stream",
     "text": [
      " 70%|████████████████████████████████████████████████████████████████                            | 38890/55900 [1:52:54<30:27,  9.31it/s]"
     ]
    },
    {
     "name": "stdout",
     "output_type": "stream",
     "text": [
      "Extra data: line 18 column 1 (char 857)\n"
     ]
    },
    {
     "name": "stderr",
     "output_type": "stream",
     "text": [
      "\r",
      " 70%|████████████████████████████████████████████████████████████████                            | 38892/55900 [1:52:54<37:02,  7.65it/s]"
     ]
    },
    {
     "name": "stdout",
     "output_type": "stream",
     "text": [
      "Extra data: line 18 column 1 (char 889)\n"
     ]
    },
    {
     "name": "stderr",
     "output_type": "stream",
     "text": [
      " 70%|████████████████████████████████████████████████████████████████▏                           | 38980/55900 [1:53:12<41:50,  6.74it/s]"
     ]
    },
    {
     "name": "stdout",
     "output_type": "stream",
     "text": [
      "Extra data: line 18 column 1 (char 732)\n"
     ]
    },
    {
     "name": "stderr",
     "output_type": "stream",
     "text": [
      " 70%|████████████████████████████████████████████████████████████████▏                           | 38989/55900 [1:53:14<49:38,  5.68it/s]"
     ]
    },
    {
     "name": "stdout",
     "output_type": "stream",
     "text": [
      "Extra data: line 18 column 1 (char 576)\n"
     ]
    },
    {
     "name": "stderr",
     "output_type": "stream",
     "text": [
      " 70%|████████████████████████████████████████████████████████████████▏                           | 38993/55900 [1:53:14<37:49,  7.45it/s]"
     ]
    },
    {
     "name": "stdout",
     "output_type": "stream",
     "text": [
      "Extra data: line 18 column 1 (char 788)\n"
     ]
    },
    {
     "name": "stderr",
     "output_type": "stream",
     "text": [
      "\r",
      " 70%|████████████████████████████████████████████████████████████████▏                           | 38994/55900 [1:53:15<42:31,  6.63it/s]"
     ]
    },
    {
     "name": "stdout",
     "output_type": "stream",
     "text": [
      "Extra data: line 18 column 1 (char 530)\n",
      "Extra data: line 18 column 1 (char 517)\n",
      "Extra data: line 18 column 1 (char 582)\n",
      "Extra data: line 18 column 1 (char 1000)\n",
      "Extra data: line 18 column 1 (char 634)\n"
     ]
    },
    {
     "name": "stderr",
     "output_type": "stream",
     "text": [
      " 70%|████████████████████████████████████████████████████████████████▌                           | 39191/55900 [1:53:50<54:13,  5.14it/s]"
     ]
    },
    {
     "name": "stdout",
     "output_type": "stream",
     "text": [
      "Extra data: line 18 column 1 (char 562)\n",
      "Extra data: line 18 column 1 (char 673)\n",
      "Extra data: line 18 column 1 (char 624)\n",
      "Extra data: line 18 column 1 (char 703)\n",
      "Extra data: line 18 column 1 (char 684)\n"
     ]
    },
    {
     "name": "stderr",
     "output_type": "stream",
     "text": [
      "\r",
      " 70%|████████████████████████████████████████████████████████████████▌                           | 39197/55900 [1:53:50<25:01, 11.13it/s]"
     ]
    },
    {
     "name": "stdout",
     "output_type": "stream",
     "text": [
      "Extra data: line 18 column 1 (char 976)\n",
      "Extra data: line 18 column 1 (char 951)\n"
     ]
    },
    {
     "name": "stderr",
     "output_type": "stream",
     "text": [
      " 70%|████████████████████████████████████████████████████████████████▋                           | 39293/55900 [1:54:07<33:13,  8.33it/s]"
     ]
    },
    {
     "name": "stdout",
     "output_type": "stream",
     "text": [
      "Extra data: line 18 column 1 (char 955)\n"
     ]
    },
    {
     "name": "stderr",
     "output_type": "stream",
     "text": [
      "\r",
      " 70%|████████████████████████████████████████████████████████████████▋                           | 39294/55900 [1:54:08<33:42,  8.21it/s]"
     ]
    },
    {
     "name": "stdout",
     "output_type": "stream",
     "text": [
      "Extra data: line 18 column 1 (char 972)\n"
     ]
    },
    {
     "name": "stderr",
     "output_type": "stream",
     "text": [
      "\r",
      " 70%|████████████████████████████████████████████████████████████████▋                           | 39296/55900 [1:54:08<36:33,  7.57it/s]"
     ]
    },
    {
     "name": "stdout",
     "output_type": "stream",
     "text": [
      "Extra data: line 18 column 1 (char 804)\n"
     ]
    },
    {
     "name": "stderr",
     "output_type": "stream",
     "text": [
      " 70%|████████████████████████████████████████████████████████████████▋                           | 39301/55900 [1:54:09<38:09,  7.25it/s]"
     ]
    },
    {
     "name": "stdout",
     "output_type": "stream",
     "text": [
      "Extra data: line 18 column 1 (char 1073)\n"
     ]
    },
    {
     "name": "stderr",
     "output_type": "stream",
     "text": [
      " 70%|████████████████████████████████████████████████████████████████▊                           | 39401/55900 [1:54:26<33:49,  8.13it/s]"
     ]
    },
    {
     "name": "stdout",
     "output_type": "stream",
     "text": [
      "Extra data: line 18 column 1 (char 673)\n",
      "Extra data: line 18 column 1 (char 655)\n"
     ]
    },
    {
     "name": "stderr",
     "output_type": "stream",
     "text": [
      " 71%|████████████████████████████████████████████████████████████████▉                           | 39486/55900 [1:54:41<34:14,  7.99it/s]"
     ]
    },
    {
     "name": "stdout",
     "output_type": "stream",
     "text": [
      "Extra data: line 18 column 1 (char 393)\n"
     ]
    },
    {
     "name": "stderr",
     "output_type": "stream",
     "text": [
      "\r",
      " 71%|███████████████████████████████████████████████████████████████▌                          | 39487/55900 [1:54:43<2:21:09,  1.94it/s]"
     ]
    },
    {
     "name": "stdout",
     "output_type": "stream",
     "text": [
      "Extra data: line 18 column 1 (char 555)\n"
     ]
    },
    {
     "name": "stderr",
     "output_type": "stream",
     "text": [
      " 71%|███████████████████████████████████████████████████████████████▌                          | 39494/55900 [1:54:44<1:00:27,  4.52it/s]"
     ]
    },
    {
     "name": "stdout",
     "output_type": "stream",
     "text": [
      "Extra data: line 18 column 1 (char 649)\n",
      "Extra data: line 18 column 1 (char 656)\n",
      "Extra data: line 18 column 1 (char 695)\n",
      "Extra data: line 18 column 1 (char 835)\n",
      "Extra data: line 18 column 1 (char 1091)\n",
      "Extra data: line 18 column 1 (char 612)\n",
      "Extra data: line 18 column 1 (char 958)\n"
     ]
    },
    {
     "name": "stderr",
     "output_type": "stream",
     "text": [
      " 71%|█████████████████████████████████████████████████████████████████▏                          | 39574/55900 [1:54:58<57:04,  4.77it/s]"
     ]
    },
    {
     "name": "stdout",
     "output_type": "stream",
     "text": [
      "Expecting ',' delimiter: line 4 column 50 (char 71)\n"
     ]
    },
    {
     "name": "stderr",
     "output_type": "stream",
     "text": [
      " 71%|█████████████████████████████████████████████████████████████████▏                          | 39582/55900 [1:54:59<33:03,  8.23it/s]"
     ]
    },
    {
     "name": "stdout",
     "output_type": "stream",
     "text": [
      "Extra data: line 18 column 1 (char 539)\n"
     ]
    },
    {
     "name": "stderr",
     "output_type": "stream",
     "text": [
      " 71%|███████████████████████████████████████████████████████████████▋                          | 39589/55900 [1:55:02<2:01:27,  2.24it/s]"
     ]
    },
    {
     "name": "stdout",
     "output_type": "stream",
     "text": [
      "Extra data: line 18 column 1 (char 644)\n",
      "Extra data: line 18 column 1 (char 677)\n"
     ]
    },
    {
     "name": "stderr",
     "output_type": "stream",
     "text": [
      " 71%|█████████████████████████████████████████████████████████████████▏                          | 39601/55900 [1:55:02<36:18,  7.48it/s]"
     ]
    },
    {
     "name": "stdout",
     "output_type": "stream",
     "text": [
      "Extra data: line 18 column 1 (char 812)\n",
      "Extra data: line 18 column 1 (char 1015)\n",
      "Extra data: line 18 column 1 (char 688)\n",
      "Extra data: line 18 column 1 (char 650)\n",
      "Extra data: line 18 column 1 (char 742)\n"
     ]
    },
    {
     "name": "stderr",
     "output_type": "stream",
     "text": [
      " 71%|█████████████████████████████████████████████████████████████████▍                          | 39789/55900 [1:55:35<51:31,  5.21it/s]"
     ]
    },
    {
     "name": "stdout",
     "output_type": "stream",
     "text": [
      "Extra data: line 18 column 1 (char 396)\n",
      "Extra data: line 18 column 1 (char 636)\n"
     ]
    },
    {
     "name": "stderr",
     "output_type": "stream",
     "text": [
      " 71%|█████████████████████████████████████████████████████████████████▍                          | 39795/55900 [1:55:35<30:57,  8.67it/s]"
     ]
    },
    {
     "name": "stdout",
     "output_type": "stream",
     "text": [
      "Extra data: line 18 column 1 (char 938)\n",
      "Extra data: line 18 column 1 (char 623)\n",
      "Extra data: line 18 column 1 (char 781)\n",
      "Extra data: line 18 column 1 (char 983)\n",
      "Extra data: line 18 column 1 (char 976)\n",
      "Extra data: line 18 column 1 (char 865)\n"
     ]
    },
    {
     "name": "stderr",
     "output_type": "stream",
     "text": [
      " 71%|█████████████████████████████████████████████████████████████████▋                          | 39900/55900 [1:55:56<42:00,  6.35it/s]"
     ]
    },
    {
     "name": "stdout",
     "output_type": "stream",
     "text": [
      "Extra data: line 18 column 1 (char 981)\n"
     ]
    },
    {
     "name": "stderr",
     "output_type": "stream",
     "text": [
      " 72%|████████████████████████████████████████████████████████████████▍                         | 39991/55900 [1:56:13<1:04:19,  4.12it/s]"
     ]
    },
    {
     "name": "stdout",
     "output_type": "stream",
     "text": [
      "Extra data: line 18 column 1 (char 857)\n"
     ]
    },
    {
     "name": "stderr",
     "output_type": "stream",
     "text": [
      " 72%|█████████████████████████████████████████████████████████████████▉                          | 40098/55900 [1:56:36<25:17, 10.41it/s]"
     ]
    },
    {
     "name": "stdout",
     "output_type": "stream",
     "text": [
      "Extra data: line 18 column 1 (char 1251)\n",
      "Extra data: line 18 column 1 (char 1009)\n",
      "Extra data: line 18 column 1 (char 1175)\n",
      "Extra data: line 18 column 1 (char 1251)\n"
     ]
    },
    {
     "name": "stderr",
     "output_type": "stream",
     "text": [
      " 72%|██████████████████████████████████████████████████████████████████▏                         | 40197/55900 [1:56:51<22:24, 11.68it/s]"
     ]
    },
    {
     "name": "stdout",
     "output_type": "stream",
     "text": [
      "Extra data: line 18 column 1 (char 1052)\n"
     ]
    },
    {
     "name": "stderr",
     "output_type": "stream",
     "text": [
      " 72%|██████████████████████████████████████████████████████████████████▍                         | 40397/55900 [1:57:26<56:42,  4.56it/s]"
     ]
    },
    {
     "name": "stdout",
     "output_type": "stream",
     "text": [
      "Extra data: line 18 column 1 (char 656)\n",
      "Extra data: line 18 column 1 (char 1092)\n"
     ]
    },
    {
     "name": "stderr",
     "output_type": "stream",
     "text": [
      " 72%|█████████████████████████████████████████████████████████████████▏                        | 40484/55900 [1:57:43<3:04:13,  1.39it/s]"
     ]
    },
    {
     "name": "stdout",
     "output_type": "stream",
     "text": [
      "Extra data: line 18 column 1 (char 1016)\n",
      "Extra data: line 18 column 1 (char 1249)\n"
     ]
    },
    {
     "name": "stderr",
     "output_type": "stream",
     "text": [
      "\r",
      " 72%|█████████████████████████████████████████████████████████████████▏                        | 40487/55900 [1:57:43<1:36:16,  2.67it/s]"
     ]
    },
    {
     "name": "stdout",
     "output_type": "stream",
     "text": [
      "Extra data: line 18 column 1 (char 1215)\n",
      "Extra data: line 18 column 1 (char 1258)\n",
      "Extra data: line 18 column 1 (char 1360)\n",
      "Extra data: line 18 column 1 (char 1062)\n",
      "Extra data: line 18 column 1 (char 1035)\n",
      "Extra data: line 18 column 1 (char 1065)\n",
      "Extra data: line 18 column 1 (char 1062)\n",
      "Extra data: line 18 column 1 (char 1035)\n",
      "Extra data: line 18 column 1 (char 1062)\n",
      "Extra data: line 18 column 1 (char 1035)\n",
      "Extra data: line 18 column 1 (char 1161)\n",
      "Extra data: line 18 column 1 (char 1161)\n",
      "Extra data: line 18 column 1 (char 1161)\n"
     ]
    },
    {
     "name": "stderr",
     "output_type": "stream",
     "text": [
      " 73%|██████████████████████████████████████████████████████████████████▊                         | 40594/55900 [1:57:57<47:50,  5.33it/s]"
     ]
    },
    {
     "name": "stdout",
     "output_type": "stream",
     "text": [
      "Extra data: line 18 column 1 (char 875)\n",
      "Extra data: line 18 column 1 (char 853)\n"
     ]
    },
    {
     "name": "stderr",
     "output_type": "stream",
     "text": [
      " 73%|██████████████████████████████████████████████████████████████████▉                         | 40648/55900 [1:58:06<17:50, 14.25it/s]"
     ]
    },
    {
     "name": "stdout",
     "output_type": "stream",
     "text": [
      "Extra data: line 18 column 1 (char 383)\n"
     ]
    },
    {
     "name": "stderr",
     "output_type": "stream",
     "text": [
      " 73%|██████████████████████████████████████████████████████████████████▉                         | 40662/55900 [1:58:08<33:47,  7.52it/s]"
     ]
    },
    {
     "name": "stdout",
     "output_type": "stream",
     "text": [
      "Extra data: line 18 column 1 (char 376)\n"
     ]
    },
    {
     "name": "stderr",
     "output_type": "stream",
     "text": [
      " 73%|██████████████████████████████████████████████████████████████████▉                         | 40701/55900 [1:58:16<34:12,  7.40it/s]"
     ]
    },
    {
     "name": "stdout",
     "output_type": "stream",
     "text": [
      "Extra data: line 18 column 1 (char 927)\n",
      "Extra data: line 18 column 1 (char 1097)\n"
     ]
    },
    {
     "name": "stderr",
     "output_type": "stream",
     "text": [
      " 73%|███████████████████████████████████████████████████████████████████▏                        | 40799/55900 [1:58:35<24:25, 10.31it/s]"
     ]
    },
    {
     "name": "stdout",
     "output_type": "stream",
     "text": [
      "Extra data: line 18 column 1 (char 681)\n",
      "Extra data: line 18 column 1 (char 501)\n",
      "Extra data: line 18 column 1 (char 643)\n",
      "Extra data: line 18 column 1 (char 565)\n",
      "Extra data: line 18 column 1 (char 672)\n"
     ]
    },
    {
     "name": "stderr",
     "output_type": "stream",
     "text": [
      " 73%|███████████████████████████████████████████████████████████████████▎                        | 40876/55900 [1:58:46<35:24,  7.07it/s]"
     ]
    },
    {
     "name": "stdout",
     "output_type": "stream",
     "text": [
      "Extra data: line 18 column 1 (char 646)\n"
     ]
    },
    {
     "name": "stderr",
     "output_type": "stream",
     "text": [
      " 73%|███████████████████████████████████████████████████████████████████▎                        | 40888/55900 [1:58:48<37:22,  6.69it/s]"
     ]
    },
    {
     "name": "stdout",
     "output_type": "stream",
     "text": [
      "Extra data: line 18 column 1 (char 569)\n"
     ]
    },
    {
     "name": "stderr",
     "output_type": "stream",
     "text": [
      " 73%|███████████████████████████████████████████████████████████████████▎                        | 40894/55900 [1:58:49<34:52,  7.17it/s]"
     ]
    },
    {
     "name": "stdout",
     "output_type": "stream",
     "text": [
      "Extra data: line 18 column 1 (char 610)\n",
      "Extra data: line 18 column 1 (char 645)\n"
     ]
    },
    {
     "name": "stderr",
     "output_type": "stream",
     "text": [
      " 73%|███████████████████████████████████████████████████████████████████▎                        | 40904/55900 [1:58:50<12:30, 19.97it/s]"
     ]
    },
    {
     "name": "stdout",
     "output_type": "stream",
     "text": [
      "Extra data: line 18 column 1 (char 657)\n",
      "Extra data: line 18 column 1 (char 983)\n",
      "Extra data: line 18 column 1 (char 731)\n",
      "Extra data: line 18 column 1 (char 1153)\n"
     ]
    },
    {
     "name": "stderr",
     "output_type": "stream",
     "text": [
      " 73%|███████████████████████████████████████████████████████████████████▍                        | 40999/55900 [1:59:07<45:08,  5.50it/s]"
     ]
    },
    {
     "name": "stdout",
     "output_type": "stream",
     "text": [
      "Extra data: line 18 column 1 (char 1017)\n"
     ]
    },
    {
     "name": "stderr",
     "output_type": "stream",
     "text": [
      " 73%|███████████████████████████████████████████████████████████████████▍                        | 41012/55900 [1:59:08<32:02,  7.74it/s]"
     ]
    },
    {
     "name": "stdout",
     "output_type": "stream",
     "text": [
      "Unterminated string starting at: line 12 column 17 (char 562)\n"
     ]
    },
    {
     "name": "stderr",
     "output_type": "stream",
     "text": [
      " 74%|███████████████████████████████████████████████████████████████████▋                        | 41091/55900 [1:59:24<56:12,  4.39it/s]"
     ]
    },
    {
     "name": "stdout",
     "output_type": "stream",
     "text": [
      "Extra data: line 18 column 1 (char 714)\n"
     ]
    },
    {
     "name": "stderr",
     "output_type": "stream",
     "text": [
      " 74%|███████████████████████████████████████████████████████████████████▋                        | 41098/55900 [1:59:25<39:28,  6.25it/s]"
     ]
    },
    {
     "name": "stdout",
     "output_type": "stream",
     "text": [
      "Extra data: line 18 column 1 (char 1003)\n",
      "Extra data: line 18 column 1 (char 742)\n"
     ]
    },
    {
     "name": "stderr",
     "output_type": "stream",
     "text": [
      " 74%|███████████████████████████████████████████████████████████████████▊                        | 41198/55900 [1:59:44<29:15,  8.38it/s]"
     ]
    },
    {
     "name": "stdout",
     "output_type": "stream",
     "text": [
      "Extra data: line 18 column 1 (char 483)\n",
      "Extra data: line 18 column 1 (char 705)\n",
      "Extra data: line 18 column 1 (char 937)\n"
     ]
    },
    {
     "name": "stderr",
     "output_type": "stream",
     "text": [
      " 74%|███████████████████████████████████████████████████████████████████▉                        | 41301/55900 [2:00:02<39:17,  6.19it/s]"
     ]
    },
    {
     "name": "stdout",
     "output_type": "stream",
     "text": [
      "Extra data: line 18 column 1 (char 663)\n"
     ]
    },
    {
     "name": "stderr",
     "output_type": "stream",
     "text": [
      " 74%|████████████████████████████████████████████████████████████████████                        | 41380/55900 [2:00:16<31:51,  7.60it/s]"
     ]
    },
    {
     "name": "stdout",
     "output_type": "stream",
     "text": [
      "Extra data: line 18 column 1 (char 590)\n"
     ]
    },
    {
     "name": "stderr",
     "output_type": "stream",
     "text": [
      " 74%|████████████████████████████████████████████████████████████████████▏                       | 41400/55900 [2:00:19<27:25,  8.81it/s]"
     ]
    },
    {
     "name": "stdout",
     "output_type": "stream",
     "text": [
      "Extra data: line 18 column 1 (char 846)\n",
      "Extra data: line 18 column 1 (char 732)\n"
     ]
    },
    {
     "name": "stderr",
     "output_type": "stream",
     "text": [
      " 74%|████████████████████████████████████████████████████████████████████▎                       | 41489/55900 [2:00:34<21:24, 11.22it/s]"
     ]
    },
    {
     "name": "stdout",
     "output_type": "stream",
     "text": [
      "Extra data: line 18 column 1 (char 554)\n"
     ]
    },
    {
     "name": "stderr",
     "output_type": "stream",
     "text": [
      " 74%|████████████████████████████████████████████████████████████████████▎                       | 41502/55900 [2:00:35<16:09, 14.85it/s]"
     ]
    },
    {
     "name": "stdout",
     "output_type": "stream",
     "text": [
      "Extra data: line 18 column 1 (char 754)\n",
      "Extra data: line 18 column 1 (char 632)\n",
      "Extra data: line 18 column 1 (char 692)\n",
      "Extra data: line 18 column 1 (char 731)\n",
      "Extra data: line 18 column 1 (char 698)\n",
      "Extra data: line 18 column 1 (char 771)\n",
      "Extra data: line 18 column 1 (char 772)\n"
     ]
    },
    {
     "name": "stderr",
     "output_type": "stream",
     "text": [
      " 74%|████████████████████████████████████████████████████████████████████▍                       | 41595/55900 [2:00:52<56:26,  4.22it/s]"
     ]
    },
    {
     "name": "stdout",
     "output_type": "stream",
     "text": [
      "Extra data: line 18 column 1 (char 750)\n",
      "Extra data: line 18 column 1 (char 644)\n",
      "Extra data: line 18 column 1 (char 891)\n",
      "Extra data: line 18 column 1 (char 987)\n",
      "Extra data: line 18 column 1 (char 768)\n"
     ]
    },
    {
     "name": "stderr",
     "output_type": "stream",
     "text": [
      " 75%|████████████████████████████████████████████████████████████████████▌                       | 41695/55900 [2:01:08<28:34,  8.29it/s]"
     ]
    },
    {
     "name": "stdout",
     "output_type": "stream",
     "text": [
      "Extra data: line 18 column 1 (char 846)\n",
      "Extra data: line 18 column 1 (char 853)\n"
     ]
    },
    {
     "name": "stderr",
     "output_type": "stream",
     "text": [
      "\r",
      " 75%|████████████████████████████████████████████████████████████████████▌                       | 41697/55900 [2:01:08<23:02, 10.27it/s]"
     ]
    },
    {
     "name": "stdout",
     "output_type": "stream",
     "text": [
      "Extra data: line 18 column 1 (char 939)\n"
     ]
    },
    {
     "name": "stderr",
     "output_type": "stream",
     "text": [
      " 75%|████████████████████████████████████████████████████████████████████▋                       | 41701/55900 [2:01:08<20:47, 11.38it/s]"
     ]
    },
    {
     "name": "stdout",
     "output_type": "stream",
     "text": [
      "Unterminated string starting at: line 5 column 18 (char 110)\n"
     ]
    },
    {
     "name": "stderr",
     "output_type": "stream",
     "text": [
      " 75%|████████████████████████████████████████████████████████████████████▊                       | 41797/55900 [2:01:27<43:43,  5.38it/s]"
     ]
    },
    {
     "name": "stdout",
     "output_type": "stream",
     "text": [
      "Extra data: line 18 column 1 (char 935)\n",
      "Extra data: line 18 column 1 (char 1071)\n"
     ]
    },
    {
     "name": "stderr",
     "output_type": "stream",
     "text": [
      " 75%|████████████████████████████████████████████████████████████████████▊                       | 41822/55900 [2:01:31<33:36,  6.98it/s]"
     ]
    },
    {
     "name": "stdout",
     "output_type": "stream",
     "text": [
      "Expecting ',' delimiter: line 9 column 125 (char 484)\n"
     ]
    },
    {
     "name": "stderr",
     "output_type": "stream",
     "text": [
      " 75%|████████████████████████████████████████████████████████████████████▉                       | 41887/55900 [2:01:43<38:46,  6.02it/s]"
     ]
    },
    {
     "name": "stdout",
     "output_type": "stream",
     "text": [
      "Extra data: line 18 column 1 (char 871)\n"
     ]
    },
    {
     "name": "stderr",
     "output_type": "stream",
     "text": [
      " 75%|████████████████████████████████████████████████████████████████████▉                       | 41892/55900 [2:01:44<41:10,  5.67it/s]"
     ]
    },
    {
     "name": "stdout",
     "output_type": "stream",
     "text": [
      "Extra data: line 18 column 1 (char 1244)\n",
      "Extra data: line 18 column 1 (char 1244)\n",
      "Extra data: line 18 column 1 (char 785)\n"
     ]
    },
    {
     "name": "stderr",
     "output_type": "stream",
     "text": [
      " 75%|████████████████████████████████████████████████████████████████████▉                       | 41898/55900 [2:01:44<28:32,  8.18it/s]"
     ]
    },
    {
     "name": "stdout",
     "output_type": "stream",
     "text": [
      "Extra data: line 18 column 1 (char 1244)\n",
      "Extra data: line 18 column 1 (char 757)\n",
      "Extra data: line 18 column 1 (char 757)\n"
     ]
    },
    {
     "name": "stderr",
     "output_type": "stream",
     "text": [
      " 75%|█████████████████████████████████████████████████████████████████████                       | 41985/55900 [2:02:02<52:02,  4.46it/s]"
     ]
    },
    {
     "name": "stdout",
     "output_type": "stream",
     "text": [
      "Extra data: line 18 column 1 (char 619)\n"
     ]
    },
    {
     "name": "stderr",
     "output_type": "stream",
     "text": [
      " 75%|█████████████████████████████████████████████████████████████████████                       | 41989/55900 [2:02:03<47:52,  4.84it/s]"
     ]
    },
    {
     "name": "stdout",
     "output_type": "stream",
     "text": [
      "Extra data: line 18 column 1 (char 648)\n",
      "Extra data: line 18 column 1 (char 914)\n",
      "Extra data: line 18 column 1 (char 551)\n",
      "Extra data: line 18 column 1 (char 644)\n",
      "Extra data: line 18 column 1 (char 693)\n",
      "Extra data: line 18 column 1 (char 599)\n",
      "Extra data: line 18 column 1 (char 626)\n",
      "Extra data: line 18 column 1 (char 619)\n",
      "Extra data: line 18 column 1 (char 644)\n",
      "Extra data: line 18 column 1 (char 1019)\n"
     ]
    },
    {
     "name": "stderr",
     "output_type": "stream",
     "text": [
      " 75%|█████████████████████████████████████████████████████████████████████▍                      | 42197/55900 [2:02:42<36:12,  6.31it/s]"
     ]
    },
    {
     "name": "stdout",
     "output_type": "stream",
     "text": [
      "Extra data: line 18 column 1 (char 638)\n",
      "Extra data: line 18 column 1 (char 517)\n",
      "Extra data: line 18 column 1 (char 525)\n"
     ]
    },
    {
     "name": "stderr",
     "output_type": "stream",
     "text": [
      " 76%|█████████████████████████████████████████████████████████████████████▌                      | 42292/55900 [2:02:56<33:37,  6.75it/s]"
     ]
    },
    {
     "name": "stdout",
     "output_type": "stream",
     "text": [
      "Extra data: line 18 column 1 (char 732)\n"
     ]
    },
    {
     "name": "stderr",
     "output_type": "stream",
     "text": [
      " 76%|█████████████████████████████████████████████████████████████████████▌                      | 42295/55900 [2:02:57<39:36,  5.73it/s]"
     ]
    },
    {
     "name": "stdout",
     "output_type": "stream",
     "text": [
      "Extra data: line 18 column 1 (char 724)\n",
      "Extra data: line 18 column 1 (char 644)\n",
      "Extra data: line 18 column 1 (char 552)\n"
     ]
    },
    {
     "name": "stderr",
     "output_type": "stream",
     "text": [
      " 76%|█████████████████████████████████████████████████████████████████████▊                      | 42398/55900 [2:03:16<41:40,  5.40it/s]"
     ]
    },
    {
     "name": "stdout",
     "output_type": "stream",
     "text": [
      "Extra data: line 18 column 1 (char 1043)\n"
     ]
    },
    {
     "name": "stderr",
     "output_type": "stream",
     "text": [
      " 76%|█████████████████████████████████████████████████████████████████████▉                      | 42490/55900 [2:03:33<59:46,  3.74it/s]"
     ]
    },
    {
     "name": "stdout",
     "output_type": "stream",
     "text": [
      "Extra data: line 18 column 1 (char 718)\n",
      "Extra data: line 18 column 1 (char 779)\n"
     ]
    },
    {
     "name": "stderr",
     "output_type": "stream",
     "text": [
      "\r",
      " 76%|█████████████████████████████████████████████████████████████████████▉                      | 42493/55900 [2:03:34<45:49,  4.88it/s]"
     ]
    },
    {
     "name": "stdout",
     "output_type": "stream",
     "text": [
      "Extra data: line 18 column 1 (char 890)\n",
      "Extra data: line 18 column 1 (char 941)\n",
      "Extra data: line 18 column 1 (char 1119)\n"
     ]
    },
    {
     "name": "stderr",
     "output_type": "stream",
     "text": [
      " 76%|█████████████████████████████████████████████████████████████████████▉                      | 42500/55900 [2:03:34<22:13, 10.05it/s]"
     ]
    },
    {
     "name": "stdout",
     "output_type": "stream",
     "text": [
      "Extra data: line 18 column 1 (char 739)\n",
      "Extra data: line 18 column 1 (char 843)\n"
     ]
    },
    {
     "name": "stderr",
     "output_type": "stream",
     "text": [
      " 77%|██████████████████████████████████████████████████████████████████████▌                     | 42898/55900 [2:04:48<24:58,  8.68it/s]"
     ]
    },
    {
     "name": "stdout",
     "output_type": "stream",
     "text": [
      "Extra data: line 18 column 1 (char 775)\n"
     ]
    },
    {
     "name": "stderr",
     "output_type": "stream",
     "text": [
      " 77%|██████████████████████████████████████████████████████████████████████▊                     | 42990/55900 [2:05:06<49:25,  4.35it/s]"
     ]
    },
    {
     "name": "stdout",
     "output_type": "stream",
     "text": [
      "Extra data: line 18 column 1 (char 678)\n"
     ]
    },
    {
     "name": "stderr",
     "output_type": "stream",
     "text": [
      " 77%|██████████████████████████████████████████████████████████████████████▊                     | 43001/55900 [2:05:06<14:40, 14.64it/s]"
     ]
    },
    {
     "name": "stdout",
     "output_type": "stream",
     "text": [
      "Extra data: line 18 column 1 (char 675)\n",
      "Extra data: line 3 column 1 (char 342)\n",
      "Extra data: line 18 column 1 (char 790)\n",
      "Extra data: line 18 column 1 (char 780)\n",
      "Extra data: line 18 column 1 (char 880)\n",
      "Extra data: line 18 column 1 (char 794)\n",
      "Extra data: line 18 column 1 (char 857)\n"
     ]
    },
    {
     "name": "stderr",
     "output_type": "stream",
     "text": [
      " 77%|███████████████████████████████████████████████████████████████████████                     | 43199/55900 [2:05:44<30:20,  6.98it/s]"
     ]
    },
    {
     "name": "stdout",
     "output_type": "stream",
     "text": [
      "Extra data: line 18 column 1 (char 1265)\n",
      "Extra data: line 18 column 1 (char 1262)\n"
     ]
    },
    {
     "name": "stderr",
     "output_type": "stream",
     "text": [
      " 77%|███████████████████████████████████████████████████████████████████████▏                    | 43288/55900 [2:06:03<37:50,  5.56it/s]"
     ]
    },
    {
     "name": "stdout",
     "output_type": "stream",
     "text": [
      "Extra data: line 18 column 1 (char 629)\n",
      "Extra data: line 18 column 1 (char 948)\n",
      "Extra data: line 18 column 1 (char 1094)\n",
      "Extra data: line 18 column 1 (char 1049)\n",
      "Extra data: line 18 column 1 (char 793)\n",
      "Extra data: line 18 column 1 (char 602)\n",
      "Extra data: line 18 column 1 (char 1009)\n",
      "Extra data: line 18 column 1 (char 633)\n",
      "Extra data: line 18 column 1 (char 853)\n",
      "Extra data: line 18 column 1 (char 712)\n",
      "Extra data: line 18 column 1 (char 978)\n"
     ]
    },
    {
     "name": "stderr",
     "output_type": "stream",
     "text": [
      " 78%|███████████████████████████████████████████████████████████████████████▍                    | 43386/55900 [2:06:18<33:54,  6.15it/s]"
     ]
    },
    {
     "name": "stdout",
     "output_type": "stream",
     "text": [
      "Extra data: line 18 column 1 (char 630)\n"
     ]
    },
    {
     "name": "stderr",
     "output_type": "stream",
     "text": [
      "\r",
      " 78%|███████████████████████████████████████████████████████████████████████▍                    | 43388/55900 [2:06:18<35:12,  5.92it/s]"
     ]
    },
    {
     "name": "stdout",
     "output_type": "stream",
     "text": [
      "Extra data: line 18 column 1 (char 713)\n"
     ]
    },
    {
     "name": "stderr",
     "output_type": "stream",
     "text": [
      " 78%|███████████████████████████████████████████████████████████████████████▍                    | 43395/55900 [2:06:19<18:54, 11.02it/s]"
     ]
    },
    {
     "name": "stdout",
     "output_type": "stream",
     "text": [
      "Extra data: line 18 column 1 (char 646)\n",
      "Extra data: line 18 column 1 (char 650)\n",
      "Extra data: line 18 column 1 (char 603)\n",
      "Extra data: line 18 column 1 (char 732)\n",
      "Extra data: line 18 column 1 (char 663)\n",
      "Extra data: line 18 column 1 (char 618)\n",
      "Extra data: line 18 column 1 (char 674)\n",
      "Extra data: line 18 column 1 (char 773)\n",
      "Extra data: line 18 column 1 (char 957)\n"
     ]
    },
    {
     "name": "stderr",
     "output_type": "stream",
     "text": [
      " 78%|███████████████████████████████████████████████████████████████████████▌                    | 43480/55900 [2:06:34<32:16,  6.41it/s]"
     ]
    },
    {
     "name": "stdout",
     "output_type": "stream",
     "text": [
      "Extra data: line 18 column 1 (char 746)\n"
     ]
    },
    {
     "name": "stderr",
     "output_type": "stream",
     "text": [
      " 78%|███████████████████████████████████████████████████████████████████████▌                    | 43500/55900 [2:06:36<11:05, 18.62it/s]"
     ]
    },
    {
     "name": "stdout",
     "output_type": "stream",
     "text": [
      "Extra data: line 18 column 1 (char 797)\n",
      "Extra data: line 18 column 1 (char 805)\n",
      "Extra data: line 18 column 1 (char 844)\n",
      "Extra data: line 18 column 1 (char 816)\n",
      "Extra data: line 18 column 1 (char 1017)\n",
      "Extra data: line 18 column 1 (char 739)\n",
      "Extra data: line 18 column 1 (char 687)\n"
     ]
    },
    {
     "name": "stderr",
     "output_type": "stream",
     "text": [
      " 78%|███████████████████████████████████████████████████████████████████████▋                    | 43524/55900 [2:06:42<35:29,  5.81it/s]"
     ]
    },
    {
     "name": "stdout",
     "output_type": "stream",
     "text": [
      "Expecting ',' delimiter: line 9 column 125 (char 484)\n"
     ]
    },
    {
     "name": "stderr",
     "output_type": "stream",
     "text": [
      " 78%|███████████████████████████████████████████████████████████████████████▋                    | 43556/55900 [2:06:47<33:14,  6.19it/s]"
     ]
    },
    {
     "name": "stdout",
     "output_type": "stream",
     "text": [
      "Extra data: line 18 column 1 (char 644)\n"
     ]
    },
    {
     "name": "stderr",
     "output_type": "stream",
     "text": [
      " 78%|███████████████████████████████████████████████████████████████████████▋                    | 43592/55900 [2:06:53<40:08,  5.11it/s]"
     ]
    },
    {
     "name": "stdout",
     "output_type": "stream",
     "text": [
      "Extra data: line 18 column 1 (char 1372)\n",
      "Extra data: line 18 column 1 (char 1244)\n"
     ]
    },
    {
     "name": "stderr",
     "output_type": "stream",
     "text": [
      " 78%|███████████████████████████████████████████████████████████████████████▊                    | 43598/55900 [2:06:54<23:03,  8.89it/s]"
     ]
    },
    {
     "name": "stdout",
     "output_type": "stream",
     "text": [
      "Extra data: line 18 column 1 (char 757)\n"
     ]
    },
    {
     "name": "stderr",
     "output_type": "stream",
     "text": [
      " 78%|███████████████████████████████████████████████████████████████████████▉                    | 43682/55900 [2:07:09<36:00,  5.65it/s]"
     ]
    },
    {
     "name": "stdout",
     "output_type": "stream",
     "text": [
      "Extra data: line 18 column 1 (char 1024)\n",
      "Extra data: line 18 column 1 (char 1102)\n",
      "Extra data: line 18 column 1 (char 1102)\n",
      "Extra data: line 18 column 1 (char 640)\n",
      "Extra data: line 18 column 1 (char 672)\n",
      "Extra data: line 18 column 1 (char 903)\n",
      "Extra data: line 18 column 1 (char 912)\n",
      "Extra data: line 18 column 1 (char 811)\n",
      "Extra data: line 18 column 1 (char 957)\n",
      "Extra data: line 18 column 1 (char 1028)\n",
      "Extra data: line 7 column 1 (char 1024)\n",
      "Extra data: line 7 column 1 (char 1018)\n",
      "Extra data: line 18 column 1 (char 990)\n",
      "Extra data: line 7 column 1 (char 1018)\n",
      "Extra data: line 18 column 1 (char 1127)\n",
      "Extra data: line 18 column 1 (char 1238)\n"
     ]
    },
    {
     "name": "stderr",
     "output_type": "stream",
     "text": [
      " 78%|████████████████████████████████████████████████████████████████████████                    | 43781/55900 [2:07:22<27:30,  7.34it/s]"
     ]
    },
    {
     "name": "stdout",
     "output_type": "stream",
     "text": [
      "Extra data: line 7 column 1 (char 665)\n"
     ]
    },
    {
     "name": "stderr",
     "output_type": "stream",
     "text": [
      " 79%|████████████████████████████████████████████████████████████████████████▏                   | 43893/55900 [2:07:42<32:06,  6.23it/s]"
     ]
    },
    {
     "name": "stdout",
     "output_type": "stream",
     "text": [
      "Extra data: line 18 column 1 (char 928)\n",
      "Extra data: line 18 column 1 (char 970)\n",
      "Extra data: line 18 column 1 (char 816)\n",
      "Extra data: line 18 column 1 (char 747)\n",
      "Extra data: line 18 column 1 (char 773)\n",
      "Extra data: line 18 column 1 (char 987)\n",
      "Extra data: line 18 column 1 (char 1013)\n"
     ]
    },
    {
     "name": "stderr",
     "output_type": "stream",
     "text": [
      " 79%|████████████████████████████████████████████████████████████████████████▍                   | 43998/55900 [2:08:02<44:30,  4.46it/s]"
     ]
    },
    {
     "name": "stdout",
     "output_type": "stream",
     "text": [
      "Extra data: line 18 column 1 (char 479)\n"
     ]
    },
    {
     "name": "stderr",
     "output_type": "stream",
     "text": [
      " 79%|████████████████████████████████████████████████████████████████████████▌                   | 44081/55900 [2:08:17<26:53,  7.33it/s]"
     ]
    },
    {
     "name": "stdout",
     "output_type": "stream",
     "text": [
      "Extra data: line 18 column 1 (char 761)\n"
     ]
    },
    {
     "name": "stderr",
     "output_type": "stream",
     "text": [
      " 79%|████████████████████████████████████████████████████████████████████████▌                   | 44099/55900 [2:08:20<31:12,  6.30it/s]"
     ]
    },
    {
     "name": "stdout",
     "output_type": "stream",
     "text": [
      "Extra data: line 18 column 1 (char 778)\n"
     ]
    },
    {
     "name": "stderr",
     "output_type": "stream",
     "text": [
      " 79%|████████████████████████████████████████████████████████████████████████▋                   | 44196/55900 [2:08:36<41:24,  4.71it/s]"
     ]
    },
    {
     "name": "stdout",
     "output_type": "stream",
     "text": [
      "Extra data: line 18 column 1 (char 786)\n",
      "Extra data: line 18 column 1 (char 631)\n",
      "Extra data: line 18 column 1 (char 674)\n",
      "Extra data: line 18 column 1 (char 829)\n"
     ]
    },
    {
     "name": "stderr",
     "output_type": "stream",
     "text": [
      " 79%|████████████████████████████████████████████████████████████████████████▉                   | 44283/55900 [2:08:52<41:53,  4.62it/s]"
     ]
    },
    {
     "name": "stdout",
     "output_type": "stream",
     "text": [
      "Extra data: line 18 column 1 (char 612)\n"
     ]
    },
    {
     "name": "stderr",
     "output_type": "stream",
     "text": [
      " 79%|████████████████████████████████████████████████████████████████████████▉                   | 44287/55900 [2:08:53<46:01,  4.21it/s]"
     ]
    },
    {
     "name": "stdout",
     "output_type": "stream",
     "text": [
      "Extra data: line 18 column 1 (char 523)\n"
     ]
    },
    {
     "name": "stderr",
     "output_type": "stream",
     "text": [
      " 79%|████████████████████████████████████████████████████████████████████████▉                   | 44295/55900 [2:08:54<30:06,  6.42it/s]"
     ]
    },
    {
     "name": "stdout",
     "output_type": "stream",
     "text": [
      "Extra data: line 18 column 1 (char 749)\n"
     ]
    },
    {
     "name": "stderr",
     "output_type": "stream",
     "text": [
      "\r",
      " 79%|████████████████████████████████████████████████████████████████████████▉                   | 44296/55900 [2:08:54<34:48,  5.56it/s]"
     ]
    },
    {
     "name": "stdout",
     "output_type": "stream",
     "text": [
      "Extra data: line 18 column 1 (char 798)\n"
     ]
    },
    {
     "name": "stderr",
     "output_type": "stream",
     "text": [
      "\r",
      " 79%|████████████████████████████████████████████████████████████████████████▉                   | 44299/55900 [2:08:55<24:58,  7.74it/s]"
     ]
    },
    {
     "name": "stdout",
     "output_type": "stream",
     "text": [
      "Extra data: line 18 column 1 (char 718)\n"
     ]
    },
    {
     "name": "stderr",
     "output_type": "stream",
     "text": [
      " 79%|████████████████████████████████████████████████████████████████████████▉                   | 44327/55900 [2:08:59<24:59,  7.72it/s]"
     ]
    },
    {
     "name": "stdout",
     "output_type": "stream",
     "text": [
      "Expecting ',' delimiter: line 12 column 71 (char 542)\n"
     ]
    },
    {
     "name": "stderr",
     "output_type": "stream",
     "text": [
      " 80%|█████████████████████████████████████████████████████████████████████████▏                  | 44489/55900 [2:09:28<44:22,  4.29it/s]"
     ]
    },
    {
     "name": "stdout",
     "output_type": "stream",
     "text": [
      "Extra data: line 18 column 1 (char 613)\n"
     ]
    },
    {
     "name": "stderr",
     "output_type": "stream",
     "text": [
      " 80%|█████████████████████████████████████████████████████████████████████████▏                  | 44496/55900 [2:09:30<43:10,  4.40it/s]"
     ]
    },
    {
     "name": "stdout",
     "output_type": "stream",
     "text": [
      "Extra data: line 18 column 1 (char 563)\n",
      "Extra data: line 18 column 1 (char 708)\n",
      "Extra data: line 18 column 1 (char 675)\n",
      "Extra data: line 18 column 1 (char 815)\n"
     ]
    },
    {
     "name": "stderr",
     "output_type": "stream",
     "text": [
      " 80%|█████████████████████████████████████████████████████████████████████████▍                  | 44594/55900 [2:09:45<17:29, 10.77it/s]"
     ]
    },
    {
     "name": "stdout",
     "output_type": "stream",
     "text": [
      "Extra data: line 18 column 1 (char 969)\n"
     ]
    },
    {
     "name": "stderr",
     "output_type": "stream",
     "text": [
      " 80%|█████████████████████████████████████████████████████████████████████████▌                  | 44694/55900 [2:10:04<27:00,  6.91it/s]"
     ]
    },
    {
     "name": "stdout",
     "output_type": "stream",
     "text": [
      "Extra data: line 18 column 1 (char 679)\n",
      "Extra data: line 18 column 1 (char 539)\n",
      "Extra data: line 18 column 1 (char 584)\n",
      "Extra data: line 18 column 1 (char 671)\n",
      "Extra data: line 18 column 1 (char 980)\n",
      "Extra data: line 18 column 1 (char 1112)\n",
      "Extra data: line 18 column 1 (char 812)\n",
      "Extra data: line 18 column 1 (char 606)\n"
     ]
    },
    {
     "name": "stderr",
     "output_type": "stream",
     "text": [
      " 80%|█████████████████████████████████████████████████████████████████████████▋                  | 44788/55900 [2:10:19<26:35,  6.96it/s]"
     ]
    },
    {
     "name": "stdout",
     "output_type": "stream",
     "text": [
      "Extra data: line 18 column 1 (char 701)\n"
     ]
    },
    {
     "name": "stderr",
     "output_type": "stream",
     "text": [
      " 80%|█████████████████████████████████████████████████████████████████████████▋                  | 44795/55900 [2:10:19<16:11, 11.43it/s]"
     ]
    },
    {
     "name": "stdout",
     "output_type": "stream",
     "text": [
      "Extra data: line 18 column 1 (char 545)\n",
      "Extra data: line 18 column 1 (char 580)\n",
      "Extra data: line 18 column 1 (char 794)\n",
      "Extra data: line 18 column 1 (char 593)\n",
      "Extra data: line 18 column 1 (char 763)\n"
     ]
    },
    {
     "name": "stderr",
     "output_type": "stream",
     "text": [
      " 80%|█████████████████████████████████████████████████████████████████████████▉                  | 44901/55900 [2:10:36<10:41, 17.14it/s]"
     ]
    },
    {
     "name": "stdout",
     "output_type": "stream",
     "text": [
      "Extra data: line 18 column 1 (char 834)\n",
      "Extra data: line 18 column 1 (char 586)\n",
      "Extra data: line 18 column 1 (char 699)\n",
      "Extra data: line 18 column 1 (char 612)\n",
      "Extra data: line 18 column 1 (char 695)\n",
      "Extra data: line 18 column 1 (char 583)\n",
      "Extra data: line 18 column 1 (char 705)\n",
      "Extra data: line 18 column 1 (char 711)\n",
      "Extra data: line 18 column 1 (char 710)\n"
     ]
    },
    {
     "name": "stderr",
     "output_type": "stream",
     "text": [
      " 80%|██████████████████████████████████████████████████████████████████████████                  | 44995/55900 [2:10:53<23:16,  7.81it/s]"
     ]
    },
    {
     "name": "stdout",
     "output_type": "stream",
     "text": [
      "Extra data: line 18 column 1 (char 668)\n"
     ]
    },
    {
     "name": "stderr",
     "output_type": "stream",
     "text": [
      " 81%|██████████████████████████████████████████████████████████████████████████▏                 | 45101/55900 [2:11:11<20:34,  8.75it/s]"
     ]
    },
    {
     "name": "stdout",
     "output_type": "stream",
     "text": [
      "Extra data: line 18 column 1 (char 1246)\n"
     ]
    },
    {
     "name": "stderr",
     "output_type": "stream",
     "text": [
      " 81%|██████████████████████████████████████████████████████████████████████████▍                 | 45194/55900 [2:11:27<25:00,  7.13it/s]"
     ]
    },
    {
     "name": "stdout",
     "output_type": "stream",
     "text": [
      "Extra data: line 18 column 1 (char 598)\n",
      "Extra data: line 18 column 1 (char 676)\n",
      "Extra data: line 7 column 1 (char 584)\n",
      "Extra data: line 18 column 1 (char 516)\n",
      "Extra data: line 18 column 1 (char 643)\n"
     ]
    },
    {
     "name": "stderr",
     "output_type": "stream",
     "text": [
      " 81%|██████████████████████████████████████████████████████████████████████████▌                 | 45299/55900 [2:11:46<38:27,  4.59it/s]"
     ]
    },
    {
     "name": "stdout",
     "output_type": "stream",
     "text": [
      "Extra data: line 18 column 1 (char 569)\n"
     ]
    },
    {
     "name": "stderr",
     "output_type": "stream",
     "text": [
      " 81%|██████████████████████████████████████████████████████████████████████████▋                 | 45385/55900 [2:11:59<31:35,  5.55it/s]"
     ]
    },
    {
     "name": "stdout",
     "output_type": "stream",
     "text": [
      "Extra data: line 18 column 1 (char 699)\n"
     ]
    },
    {
     "name": "stderr",
     "output_type": "stream",
     "text": [
      " 81%|██████████████████████████████████████████████████████████████████████████▋                 | 45401/55900 [2:12:00<08:02, 21.77it/s]"
     ]
    },
    {
     "name": "stdout",
     "output_type": "stream",
     "text": [
      "Extra data: line 18 column 1 (char 680)\n",
      "Extra data: line 18 column 1 (char 894)\n",
      "Extra data: line 18 column 1 (char 865)\n",
      "Extra data: line 18 column 1 (char 660)\n",
      "Extra data: line 18 column 1 (char 728)\n",
      "Extra data: line 18 column 1 (char 698)\n",
      "Extra data: line 18 column 1 (char 773)\n",
      "Extra data: line 18 column 1 (char 633)\n",
      "Extra data: line 18 column 1 (char 937)\n",
      "Extra data: line 18 column 1 (char 637)\n"
     ]
    },
    {
     "name": "stderr",
     "output_type": "stream",
     "text": [
      " 81%|██████████████████████████████████████████████████████████████████████████▉                 | 45497/55900 [2:12:18<19:30,  8.89it/s]"
     ]
    },
    {
     "name": "stdout",
     "output_type": "stream",
     "text": [
      "Extra data: line 18 column 1 (char 914)\n"
     ]
    },
    {
     "name": "stderr",
     "output_type": "stream",
     "text": [
      "\r",
      " 81%|██████████████████████████████████████████████████████████████████████████▉                 | 45499/55900 [2:12:18<17:49,  9.73it/s]"
     ]
    },
    {
     "name": "stdout",
     "output_type": "stream",
     "text": [
      "Extra data: line 18 column 1 (char 784)\n"
     ]
    },
    {
     "name": "stderr",
     "output_type": "stream",
     "text": [
      " 82%|███████████████████████████████████████████████████████████████████████████▏                | 45697/55900 [2:12:55<29:33,  5.75it/s]"
     ]
    },
    {
     "name": "stdout",
     "output_type": "stream",
     "text": [
      "Extra data: line 18 column 1 (char 853)\n"
     ]
    },
    {
     "name": "stderr",
     "output_type": "stream",
     "text": [
      " 82%|███████████████████████████████████████████████████████████████████████████▏                | 45699/55900 [2:12:56<34:35,  4.92it/s]"
     ]
    },
    {
     "name": "stdout",
     "output_type": "stream",
     "text": [
      "Extra data: line 18 column 1 (char 894)\n"
     ]
    },
    {
     "name": "stderr",
     "output_type": "stream",
     "text": [
      " 82%|███████████████████████████████████████████████████████████████████████████▎                | 45789/55900 [2:13:13<41:37,  4.05it/s]"
     ]
    },
    {
     "name": "stdout",
     "output_type": "stream",
     "text": [
      "Extra data: line 18 column 1 (char 610)\n"
     ]
    },
    {
     "name": "stderr",
     "output_type": "stream",
     "text": [
      " 82%|███████████████████████████████████████████████████████████████████████████▎                | 45794/55900 [2:13:14<35:58,  4.68it/s]"
     ]
    },
    {
     "name": "stdout",
     "output_type": "stream",
     "text": [
      "Extra data: line 18 column 1 (char 564)\n",
      "Extra data: line 18 column 1 (char 590)\n"
     ]
    },
    {
     "name": "stderr",
     "output_type": "stream",
     "text": [
      " 82%|███████████████████████████████████████████████████████████████████████████▍                | 45801/55900 [2:13:15<22:13,  7.57it/s]"
     ]
    },
    {
     "name": "stdout",
     "output_type": "stream",
     "text": [
      "Extra data: line 18 column 1 (char 720)\n",
      "Extra data: line 18 column 1 (char 777)\n"
     ]
    },
    {
     "name": "stderr",
     "output_type": "stream",
     "text": [
      " 82%|███████████████████████████████████████████████████████████████████████████▌                | 45896/55900 [2:13:31<28:01,  5.95it/s]"
     ]
    },
    {
     "name": "stdout",
     "output_type": "stream",
     "text": [
      "Extra data: line 18 column 1 (char 853)\n",
      "Extra data: line 18 column 1 (char 875)\n"
     ]
    },
    {
     "name": "stderr",
     "output_type": "stream",
     "text": [
      " 82%|███████████████████████████████████████████████████████████████████████████▋                | 45997/55900 [2:13:52<15:59, 10.32it/s]"
     ]
    },
    {
     "name": "stdout",
     "output_type": "stream",
     "text": [
      "Extra data: line 18 column 1 (char 875)\n"
     ]
    },
    {
     "name": "stderr",
     "output_type": "stream",
     "text": [
      " 82%|███████████████████████████████████████████████████████████████████████████▊                | 46092/55900 [2:14:08<35:47,  4.57it/s]"
     ]
    },
    {
     "name": "stdout",
     "output_type": "stream",
     "text": [
      "Extra data: line 18 column 1 (char 853)\n"
     ]
    },
    {
     "name": "stderr",
     "output_type": "stream",
     "text": [
      " 82%|███████████████████████████████████████████████████████████████████████████▊                | 46097/55900 [2:14:08<21:18,  7.67it/s]"
     ]
    },
    {
     "name": "stdout",
     "output_type": "stream",
     "text": [
      "Extra data: line 18 column 1 (char 981)\n"
     ]
    },
    {
     "name": "stderr",
     "output_type": "stream",
     "text": [
      " 83%|████████████████████████████████████████████████████████████████████████████                | 46191/55900 [2:14:27<27:56,  5.79it/s]"
     ]
    },
    {
     "name": "stdout",
     "output_type": "stream",
     "text": [
      "Extra data: line 18 column 1 (char 817)\n"
     ]
    },
    {
     "name": "stderr",
     "output_type": "stream",
     "text": [
      " 83%|████████████████████████████████████████████████████████████████████████████                | 46202/55900 [2:14:28<08:42, 18.56it/s]"
     ]
    },
    {
     "name": "stdout",
     "output_type": "stream",
     "text": [
      "Extra data: line 18 column 1 (char 614)\n",
      "Extra data: line 18 column 1 (char 725)\n",
      "Extra data: line 18 column 1 (char 936)\n",
      "Extra data: line 18 column 1 (char 636)\n",
      "Extra data: line 18 column 1 (char 641)\n",
      "Extra data: line 18 column 1 (char 780)\n",
      "Extra data: line 18 column 1 (char 775)\n",
      "Extra data: line 18 column 1 (char 975)\n"
     ]
    },
    {
     "name": "stderr",
     "output_type": "stream",
     "text": [
      " 83%|████████████████████████████████████████████████████████████████████████████▏               | 46291/55900 [2:14:43<29:47,  5.38it/s]"
     ]
    },
    {
     "name": "stdout",
     "output_type": "stream",
     "text": [
      "Extra data: line 18 column 1 (char 853)\n"
     ]
    },
    {
     "name": "stderr",
     "output_type": "stream",
     "text": [
      " 83%|████████████████████████████████████████████████████████████████████████████▏               | 46299/55900 [2:14:44<19:56,  8.02it/s]"
     ]
    },
    {
     "name": "stdout",
     "output_type": "stream",
     "text": [
      "Extra data: line 18 column 1 (char 852)\n"
     ]
    },
    {
     "name": "stderr",
     "output_type": "stream",
     "text": [
      " 83%|████████████████████████████████████████████████████████████████████████████▎               | 46392/55900 [2:15:01<17:59,  8.81it/s]"
     ]
    },
    {
     "name": "stdout",
     "output_type": "stream",
     "text": [
      "Extra data: line 18 column 1 (char 681)\n"
     ]
    },
    {
     "name": "stderr",
     "output_type": "stream",
     "text": [
      "\r",
      " 83%|████████████████████████████████████████████████████████████████████████████▎               | 46394/55900 [2:15:01<17:39,  8.97it/s]"
     ]
    },
    {
     "name": "stdout",
     "output_type": "stream",
     "text": [
      "Extra data: line 18 column 1 (char 767)\n",
      "Extra data: line 18 column 1 (char 836)\n"
     ]
    },
    {
     "name": "stderr",
     "output_type": "stream",
     "text": [
      "\r",
      " 83%|████████████████████████████████████████████████████████████████████████████▎               | 46397/55900 [2:15:02<15:47, 10.03it/s]"
     ]
    },
    {
     "name": "stdout",
     "output_type": "stream",
     "text": [
      "Extra data: line 18 column 1 (char 908)\n"
     ]
    },
    {
     "name": "stderr",
     "output_type": "stream",
     "text": [
      " 83%|████████████████████████████████████████████████████████████████████████████▌               | 46498/55900 [2:15:21<31:03,  5.05it/s]"
     ]
    },
    {
     "name": "stdout",
     "output_type": "stream",
     "text": [
      "Extra data: line 18 column 1 (char 742)\n",
      "Extra data: line 18 column 1 (char 583)\n"
     ]
    },
    {
     "name": "stderr",
     "output_type": "stream",
     "text": [
      " 83%|████████████████████████████████████████████████████████████████████████████▋               | 46574/55900 [2:15:34<35:50,  4.34it/s]"
     ]
    },
    {
     "name": "stdout",
     "output_type": "stream",
     "text": [
      "Extra data: line 18 column 1 (char 597)\n"
     ]
    },
    {
     "name": "stderr",
     "output_type": "stream",
     "text": [
      " 83%|████████████████████████████████████████████████████████████████████████████▋               | 46578/55900 [2:15:34<20:41,  7.51it/s]"
     ]
    },
    {
     "name": "stdout",
     "output_type": "stream",
     "text": [
      "Extra data: line 18 column 1 (char 503)\n"
     ]
    },
    {
     "name": "stderr",
     "output_type": "stream",
     "text": [
      " 83%|███████████████████████████████████████████████████████████████████████████               | 46585/55900 [2:15:39<1:18:04,  1.99it/s]"
     ]
    },
    {
     "name": "stdout",
     "output_type": "stream",
     "text": [
      "Extra data: line 18 column 1 (char 417)\n"
     ]
    },
    {
     "name": "stderr",
     "output_type": "stream",
     "text": [
      " 83%|████████████████████████████████████████████████████████████████████████████▋               | 46601/55900 [2:15:41<11:27, 13.52it/s]"
     ]
    },
    {
     "name": "stdout",
     "output_type": "stream",
     "text": [
      "Extra data: line 18 column 1 (char 679)\n",
      "Extra data: line 18 column 1 (char 1045)\n",
      "Extra data: line 18 column 1 (char 655)\n",
      "Extra data: line 18 column 1 (char 676)\n",
      "Extra data: line 18 column 1 (char 720)\n",
      "Extra data: line 18 column 1 (char 677)\n",
      "Extra data: line 18 column 1 (char 675)\n"
     ]
    },
    {
     "name": "stderr",
     "output_type": "stream",
     "text": [
      " 84%|████████████████████████████████████████████████████████████████████████████▊               | 46694/55900 [2:15:58<26:05,  5.88it/s]"
     ]
    },
    {
     "name": "stdout",
     "output_type": "stream",
     "text": [
      "Extra data: line 18 column 1 (char 846)\n"
     ]
    },
    {
     "name": "stderr",
     "output_type": "stream",
     "text": [
      " 84%|████████████████████████████████████████████████████████████████████████████▊               | 46700/55900 [2:15:58<17:06,  8.96it/s]"
     ]
    },
    {
     "name": "stdout",
     "output_type": "stream",
     "text": [
      "Extra data: line 18 column 1 (char 921)\n"
     ]
    },
    {
     "name": "stderr",
     "output_type": "stream",
     "text": [
      " 84%|█████████████████████████████████████████████████████████████████████████████               | 46790/55900 [2:16:14<17:26,  8.70it/s]"
     ]
    },
    {
     "name": "stdout",
     "output_type": "stream",
     "text": [
      "Extra data: line 18 column 1 (char 859)\n"
     ]
    },
    {
     "name": "stderr",
     "output_type": "stream",
     "text": [
      " 84%|█████████████████████████████████████████████████████████████████████████████               | 46795/55900 [2:16:16<35:07,  4.32it/s]"
     ]
    },
    {
     "name": "stdout",
     "output_type": "stream",
     "text": [
      "Extra data: line 18 column 1 (char 857)\n"
     ]
    },
    {
     "name": "stderr",
     "output_type": "stream",
     "text": [
      " 84%|█████████████████████████████████████████████████████████████████████████████               | 46800/55900 [2:16:16<22:13,  6.83it/s]"
     ]
    },
    {
     "name": "stdout",
     "output_type": "stream",
     "text": [
      "Extra data: line 18 column 1 (char 827)\n"
     ]
    },
    {
     "name": "stderr",
     "output_type": "stream",
     "text": [
      " 84%|█████████████████████████████████████████████████████████████████████████████▎              | 46999/55900 [2:16:55<27:16,  5.44it/s]"
     ]
    },
    {
     "name": "stdout",
     "output_type": "stream",
     "text": [
      "Extra data: line 18 column 1 (char 1033)\n"
     ]
    },
    {
     "name": "stderr",
     "output_type": "stream",
     "text": [
      " 84%|█████████████████████████████████████████████████████████████████████████████▍              | 47088/55900 [2:17:10<28:01,  5.24it/s]"
     ]
    },
    {
     "name": "stdout",
     "output_type": "stream",
     "text": [
      "Extra data: line 18 column 1 (char 643)\n",
      "Extra data: line 18 column 1 (char 888)\n",
      "Extra data: line 18 column 1 (char 489)\n"
     ]
    },
    {
     "name": "stderr",
     "output_type": "stream",
     "text": [
      "\r",
      " 84%|█████████████████████████████████████████████████████████████████████████████▌              | 47093/55900 [2:17:11<15:46,  9.31it/s]"
     ]
    },
    {
     "name": "stdout",
     "output_type": "stream",
     "text": [
      "Extra data: line 18 column 1 (char 712)\n",
      "Extra data: line 18 column 1 (char 605)\n",
      "Extra data: line 18 column 1 (char 695)\n"
     ]
    },
    {
     "name": "stderr",
     "output_type": "stream",
     "text": [
      "\r",
      " 84%|█████████████████████████████████████████████████████████████████████████████▌              | 47097/55900 [2:17:11<14:28, 10.13it/s]"
     ]
    },
    {
     "name": "stdout",
     "output_type": "stream",
     "text": [
      "Extra data: line 18 column 1 (char 701)\n"
     ]
    },
    {
     "name": "stderr",
     "output_type": "stream",
     "text": [
      " 84%|█████████████████████████████████████████████████████████████████████████████▌              | 47102/55900 [2:17:11<13:40, 10.72it/s]"
     ]
    },
    {
     "name": "stdout",
     "output_type": "stream",
     "text": [
      "Extra data: line 18 column 1 (char 845)\n"
     ]
    },
    {
     "name": "stderr",
     "output_type": "stream",
     "text": [
      " 84%|█████████████████████████████████████████████████████████████████████████████▋              | 47200/55900 [2:17:27<11:35, 12.52it/s]"
     ]
    },
    {
     "name": "stdout",
     "output_type": "stream",
     "text": [
      "Extra data: line 18 column 1 (char 1017)\n",
      "Extra data: line 18 column 1 (char 1033)\n"
     ]
    },
    {
     "name": "stderr",
     "output_type": "stream",
     "text": [
      " 85%|█████████████████████████████████████████████████████████████████████████████▊              | 47255/55900 [2:17:36<26:02,  5.53it/s]"
     ]
    },
    {
     "name": "stdout",
     "output_type": "stream",
     "text": [
      "Unterminated string starting at: line 12 column 17 (char 808)\n"
     ]
    },
    {
     "name": "stderr",
     "output_type": "stream",
     "text": [
      " 85%|█████████████████████████████████████████████████████████████████████████████▊              | 47288/55900 [2:17:41<20:37,  6.96it/s]"
     ]
    },
    {
     "name": "stdout",
     "output_type": "stream",
     "text": [
      "Extra data: line 18 column 1 (char 429)\n"
     ]
    },
    {
     "name": "stderr",
     "output_type": "stream",
     "text": [
      " 85%|█████████████████████████████████████████████████████████████████████████████▊              | 47301/55900 [2:17:41<06:47, 21.08it/s]"
     ]
    },
    {
     "name": "stdout",
     "output_type": "stream",
     "text": [
      "Extra data: line 18 column 1 (char 632)\n",
      "Extra data: line 18 column 1 (char 671)\n",
      "Extra data: line 18 column 1 (char 526)\n",
      "Extra data: line 18 column 1 (char 657)\n",
      "Extra data: line 18 column 1 (char 724)\n",
      "Extra data: line 18 column 1 (char 815)\n",
      "Extra data: line 18 column 1 (char 688)\n",
      "Extra data: line 18 column 1 (char 761)\n",
      "Extra data: line 18 column 1 (char 939)\n"
     ]
    },
    {
     "name": "stderr",
     "output_type": "stream",
     "text": [
      " 85%|██████████████████████████████████████████████████████████████████████████████              | 47402/55900 [2:18:00<17:08,  8.26it/s]"
     ]
    },
    {
     "name": "stdout",
     "output_type": "stream",
     "text": [
      "Extra data: line 18 column 1 (char 719)\n",
      "Extra data: line 18 column 1 (char 646)\n"
     ]
    },
    {
     "name": "stderr",
     "output_type": "stream",
     "text": [
      " 85%|██████████████████████████████████████████████████████████████████████████████▏             | 47495/55900 [2:18:16<16:15,  8.62it/s]"
     ]
    },
    {
     "name": "stdout",
     "output_type": "stream",
     "text": [
      "Extra data: line 18 column 1 (char 851)\n"
     ]
    },
    {
     "name": "stderr",
     "output_type": "stream",
     "text": [
      " 85%|██████████████████████████████████████████████████████████████████████████████▏             | 47501/55900 [2:18:17<13:55, 10.05it/s]"
     ]
    },
    {
     "name": "stdout",
     "output_type": "stream",
     "text": [
      "Extra data: line 18 column 1 (char 1062)\n"
     ]
    },
    {
     "name": "stderr",
     "output_type": "stream",
     "text": [
      " 85%|██████████████████████████████████████████████████████████████████████████████▎             | 47590/55900 [2:18:37<50:27,  2.74it/s]"
     ]
    },
    {
     "name": "stdout",
     "output_type": "stream",
     "text": [
      "Extra data: line 18 column 1 (char 757)\n"
     ]
    },
    {
     "name": "stderr",
     "output_type": "stream",
     "text": [
      "\r",
      " 85%|██████████████████████████████████████████████████████████████████████████████▎             | 47592/55900 [2:18:37<37:38,  3.68it/s]"
     ]
    },
    {
     "name": "stdout",
     "output_type": "stream",
     "text": [
      "Extra data: line 18 column 1 (char 483)\n"
     ]
    },
    {
     "name": "stderr",
     "output_type": "stream",
     "text": [
      "\r",
      " 85%|██████████████████████████████████████████████████████████████████████████████▎             | 47595/55900 [2:18:38<30:31,  4.53it/s]"
     ]
    },
    {
     "name": "stdout",
     "output_type": "stream",
     "text": [
      "Extra data: line 18 column 1 (char 801)\n",
      "Extra data: line 18 column 1 (char 495)\n",
      "Extra data: line 18 column 1 (char 714)\n",
      "Extra data: line 18 column 1 (char 683)\n",
      "Extra data: line 18 column 1 (char 986)\n"
     ]
    },
    {
     "name": "stderr",
     "output_type": "stream",
     "text": [
      " 85%|██████████████████████████████████████████████████████████████████████████████▍             | 47694/55900 [2:18:55<16:25,  8.33it/s]"
     ]
    },
    {
     "name": "stdout",
     "output_type": "stream",
     "text": [
      "Extra data: line 18 column 1 (char 873)\n"
     ]
    },
    {
     "name": "stderr",
     "output_type": "stream",
     "text": [
      " 85%|██████████████████████████████████████████████████████████████████████████████▍             | 47697/55900 [2:18:55<16:52,  8.10it/s]"
     ]
    },
    {
     "name": "stdout",
     "output_type": "stream",
     "text": [
      "Extra data: line 18 column 1 (char 946)\n"
     ]
    },
    {
     "name": "stderr",
     "output_type": "stream",
     "text": [
      " 85%|██████████████████████████████████████████████████████████████████████████████▌             | 47701/55900 [2:18:56<18:15,  7.48it/s]"
     ]
    },
    {
     "name": "stdout",
     "output_type": "stream",
     "text": [
      "Extra data: line 18 column 1 (char 900)\n"
     ]
    },
    {
     "name": "stderr",
     "output_type": "stream",
     "text": [
      " 86%|██████████████████████████████████████████████████████████████████████████████▋             | 47799/55900 [2:19:15<21:00,  6.43it/s]"
     ]
    },
    {
     "name": "stdout",
     "output_type": "stream",
     "text": [
      "Extra data: line 18 column 1 (char 1753)\n"
     ]
    },
    {
     "name": "stderr",
     "output_type": "stream",
     "text": [
      " 86%|██████████████████████████████████████████████████████████████████████████████▊             | 47898/55900 [2:19:38<34:14,  3.89it/s]"
     ]
    },
    {
     "name": "stdout",
     "output_type": "stream",
     "text": [
      "Expecting ',' delimiter: line 5 column 89 (char 207)\n"
     ]
    },
    {
     "name": "stderr",
     "output_type": "stream",
     "text": [
      " 86%|██████████████████████████████████████████████████████████████████████████████▉             | 47996/55900 [2:19:55<21:46,  6.05it/s]"
     ]
    },
    {
     "name": "stdout",
     "output_type": "stream",
     "text": [
      "Extra data: line 18 column 1 (char 851)\n",
      "Extra data: line 18 column 1 (char 858)\n"
     ]
    },
    {
     "name": "stderr",
     "output_type": "stream",
     "text": [
      " 86%|███████████████████████████████████████████████████████████████████████████████▎            | 48195/55900 [2:20:29<20:55,  6.14it/s]"
     ]
    },
    {
     "name": "stdout",
     "output_type": "stream",
     "text": [
      "Extra data: line 18 column 1 (char 996)\n"
     ]
    },
    {
     "name": "stderr",
     "output_type": "stream",
     "text": [
      " 86%|███████████████████████████████████████████████████████████████████████████████▍            | 48287/55900 [2:20:43<16:06,  7.88it/s]"
     ]
    },
    {
     "name": "stdout",
     "output_type": "stream",
     "text": [
      "Extra data: line 7 column 1 (char 665)\n"
     ]
    },
    {
     "name": "stderr",
     "output_type": "stream",
     "text": [
      " 87%|███████████████████████████████████████████████████████████████████████████████▋            | 48396/55900 [2:21:03<12:02, 10.39it/s]"
     ]
    },
    {
     "name": "stdout",
     "output_type": "stream",
     "text": [
      "Extra data: line 18 column 1 (char 583)\n",
      "Extra data: line 18 column 1 (char 827)\n",
      "Extra data: line 18 column 1 (char 922)\n",
      "Extra data: line 18 column 1 (char 1019)\n",
      "Extra data: line 18 column 1 (char 909)\n"
     ]
    },
    {
     "name": "stderr",
     "output_type": "stream",
     "text": [
      " 87%|███████████████████████████████████████████████████████████████████████████████▊            | 48494/55900 [2:21:20<14:30,  8.50it/s]"
     ]
    },
    {
     "name": "stdout",
     "output_type": "stream",
     "text": [
      "Extra data: line 18 column 1 (char 939)\n"
     ]
    },
    {
     "name": "stderr",
     "output_type": "stream",
     "text": [
      " 87%|███████████████████████████████████████████████████████████████████████████████▊            | 48497/55900 [2:21:20<16:18,  7.57it/s]"
     ]
    },
    {
     "name": "stdout",
     "output_type": "stream",
     "text": [
      "Extra data: line 18 column 1 (char 857)\n"
     ]
    },
    {
     "name": "stderr",
     "output_type": "stream",
     "text": [
      "\r",
      " 87%|███████████████████████████████████████████████████████████████████████████████▊            | 48501/55900 [2:21:21<12:32,  9.83it/s]"
     ]
    },
    {
     "name": "stdout",
     "output_type": "stream",
     "text": [
      "Extra data: line 18 column 1 (char 775)\n"
     ]
    },
    {
     "name": "stderr",
     "output_type": "stream",
     "text": [
      " 87%|███████████████████████████████████████████████████████████████████████████████▉            | 48592/55900 [2:21:35<13:59,  8.70it/s]"
     ]
    },
    {
     "name": "stdout",
     "output_type": "stream",
     "text": [
      "Extra data: line 18 column 1 (char 1244)\n"
     ]
    },
    {
     "name": "stderr",
     "output_type": "stream",
     "text": [
      " 87%|███████████████████████████████████████████████████████████████████████████████▉            | 48597/55900 [2:21:36<10:18, 11.81it/s]"
     ]
    },
    {
     "name": "stdout",
     "output_type": "stream",
     "text": [
      "Extra data: line 18 column 1 (char 757)\n",
      "Extra data: line 18 column 1 (char 778)\n"
     ]
    },
    {
     "name": "stderr",
     "output_type": "stream",
     "text": [
      "\r",
      " 87%|███████████████████████████████████████████████████████████████████████████████▉            | 48599/55900 [2:21:36<12:09, 10.00it/s]"
     ]
    },
    {
     "name": "stdout",
     "output_type": "stream",
     "text": [
      "Extra data: line 7 column 1 (char 972)\n"
     ]
    },
    {
     "name": "stderr",
     "output_type": "stream",
     "text": [
      " 87%|████████████████████████████████████████████████████████████████████████████████▎           | 48797/55900 [2:22:17<11:44, 10.09it/s]"
     ]
    },
    {
     "name": "stdout",
     "output_type": "stream",
     "text": [
      "Extra data: line 18 column 1 (char 602)\n"
     ]
    },
    {
     "name": "stderr",
     "output_type": "stream",
     "text": [
      " 87%|████████████████████████████████████████████████████████████████████████████████▍           | 48885/55900 [2:22:35<17:10,  6.80it/s]"
     ]
    },
    {
     "name": "stdout",
     "output_type": "stream",
     "text": [
      "Extra data: line 18 column 1 (char 616)\n",
      "Extra data: line 18 column 1 (char 613)\n",
      "Expecting ',' delimiter: line 13 column 331 (char 1028)\n"
     ]
    },
    {
     "name": "stderr",
     "output_type": "stream",
     "text": [
      "\r",
      " 87%|████████████████████████████████████████████████████████████████████████████████▍           | 48889/55900 [2:22:35<12:21,  9.45it/s]"
     ]
    },
    {
     "name": "stdout",
     "output_type": "stream",
     "text": [
      "Extra data: line 18 column 1 (char 703)\n",
      "Extra data: line 18 column 1 (char 758)\n"
     ]
    },
    {
     "name": "stderr",
     "output_type": "stream",
     "text": [
      " 87%|████████████████████████████████████████████████████████████████████████████████▍           | 48894/55900 [2:22:36<19:13,  6.08it/s]"
     ]
    },
    {
     "name": "stdout",
     "output_type": "stream",
     "text": [
      "Extra data: line 18 column 1 (char 819)\n",
      "Extra data: line 18 column 1 (char 856)\n",
      "Extra data: line 18 column 1 (char 578)\n",
      "Extra data: line 18 column 1 (char 680)\n",
      "Extra data: line 18 column 1 (char 1085)\n",
      "Extra data: line 18 column 1 (char 711)\n"
     ]
    },
    {
     "name": "stderr",
     "output_type": "stream",
     "text": [
      " 88%|████████████████████████████████████████████████████████████████████████████████▋           | 49001/55900 [2:22:56<16:12,  7.09it/s]"
     ]
    },
    {
     "name": "stdout",
     "output_type": "stream",
     "text": [
      "Extra data: line 18 column 1 (char 702)\n",
      "Extra data: line 18 column 1 (char 843)\n"
     ]
    },
    {
     "name": "stderr",
     "output_type": "stream",
     "text": [
      " 88%|████████████████████████████████████████████████████████████████████████████████▊           | 49094/55900 [2:23:11<11:59,  9.46it/s]"
     ]
    },
    {
     "name": "stdout",
     "output_type": "stream",
     "text": [
      "Extra data: line 7 column 1 (char 579)\n",
      "Expecting ',' delimiter: line 13 column 292 (char 1136)\n",
      "Extra data: line 18 column 1 (char 601)\n",
      "Extra data: line 18 column 1 (char 949)\n"
     ]
    },
    {
     "name": "stderr",
     "output_type": "stream",
     "text": [
      " 88%|████████████████████████████████████████████████████████████████████████████████▊           | 49102/55900 [2:23:12<08:03, 14.06it/s]"
     ]
    },
    {
     "name": "stdout",
     "output_type": "stream",
     "text": [
      "Extra data: line 18 column 1 (char 924)\n"
     ]
    },
    {
     "name": "stderr",
     "output_type": "stream",
     "text": [
      " 88%|████████████████████████████████████████████████████████████████████████████████▉           | 49194/55900 [2:23:30<29:38,  3.77it/s]"
     ]
    },
    {
     "name": "stdout",
     "output_type": "stream",
     "text": [
      "Extra data: line 18 column 1 (char 708)\n",
      "Extra data: line 18 column 1 (char 575)\n"
     ]
    },
    {
     "name": "stderr",
     "output_type": "stream",
     "text": [
      " 88%|████████████████████████████████████████████████████████████████████████████████▉           | 49201/55900 [2:23:30<12:09,  9.18it/s]"
     ]
    },
    {
     "name": "stdout",
     "output_type": "stream",
     "text": [
      "Extra data: line 18 column 1 (char 932)\n",
      "Extra data: line 18 column 1 (char 867)\n",
      "Extra data: line 18 column 1 (char 697)\n"
     ]
    },
    {
     "name": "stderr",
     "output_type": "stream",
     "text": [
      " 88%|█████████████████████████████████████████████████████████████████████████████████▏          | 49294/55900 [2:23:45<19:32,  5.63it/s]"
     ]
    },
    {
     "name": "stdout",
     "output_type": "stream",
     "text": [
      "Extra data: line 18 column 1 (char 539)\n",
      "Extra data: line 18 column 1 (char 703)\n"
     ]
    },
    {
     "name": "stderr",
     "output_type": "stream",
     "text": [
      " 88%|█████████████████████████████████████████████████████████████████████████████████▏          | 49300/55900 [2:23:45<12:01,  9.14it/s]"
     ]
    },
    {
     "name": "stdout",
     "output_type": "stream",
     "text": [
      "'NoneType' object is not subscriptable\n",
      "'NoneType' object is not subscriptable\n",
      "'NoneType' object is not subscriptable\n",
      "'NoneType' object is not subscriptable\n",
      "'NoneType' object is not subscriptable\n",
      "'NoneType' object is not subscriptable\n",
      "'NoneType' object is not subscriptable\n",
      "'NoneType' object is not subscriptable\n",
      "'NoneType' object is not subscriptable\n",
      "'NoneType' object is not subscriptable\n",
      "'NoneType' object is not subscriptable\n"
     ]
    },
    {
     "name": "stderr",
     "output_type": "stream",
     "text": [
      " 88%|█████████████████████████████████████████████████████████████████████████████████▎          | 49399/55900 [2:24:00<15:47,  6.86it/s]"
     ]
    },
    {
     "name": "stdout",
     "output_type": "stream",
     "text": [
      "Expecting ',' delimiter: line 5 column 316 (char 511)\n"
     ]
    },
    {
     "name": "stderr",
     "output_type": "stream",
     "text": [
      " 89%|█████████████████████████████████████████████████████████████████████████████████▍          | 49494/55900 [2:24:14<12:08,  8.79it/s]"
     ]
    },
    {
     "name": "stdout",
     "output_type": "stream",
     "text": [
      "Extra data: line 18 column 1 (char 939)\n"
     ]
    },
    {
     "name": "stderr",
     "output_type": "stream",
     "text": [
      " 89%|█████████████████████████████████████████████████████████████████████████████████▋          | 49597/55900 [2:24:33<19:25,  5.41it/s]"
     ]
    },
    {
     "name": "stdout",
     "output_type": "stream",
     "text": [
      "Extra data: line 18 column 1 (char 852)\n",
      "Extra data: line 18 column 1 (char 1082)\n"
     ]
    },
    {
     "name": "stderr",
     "output_type": "stream",
     "text": [
      " 89%|█████████████████████████████████████████████████████████████████████████████████▊          | 49689/55900 [2:24:52<18:26,  5.61it/s]"
     ]
    },
    {
     "name": "stdout",
     "output_type": "stream",
     "text": [
      "Extra data: line 18 column 1 (char 723)\n"
     ]
    },
    {
     "name": "stderr",
     "output_type": "stream",
     "text": [
      " 89%|█████████████████████████████████████████████████████████████████████████████████▊          | 49694/55900 [2:24:53<15:10,  6.81it/s]"
     ]
    },
    {
     "name": "stdout",
     "output_type": "stream",
     "text": [
      "Extra data: line 18 column 1 (char 913)\n",
      "Extra data: line 18 column 1 (char 634)\n",
      "Extra data: line 18 column 1 (char 612)\n",
      "Extra data: line 18 column 1 (char 696)\n",
      "Extra data: line 18 column 1 (char 667)\n"
     ]
    },
    {
     "name": "stderr",
     "output_type": "stream",
     "text": [
      " 89%|█████████████████████████████████████████████████████████████████████████████████▉          | 49798/55900 [2:25:11<16:33,  6.14it/s]"
     ]
    },
    {
     "name": "stdout",
     "output_type": "stream",
     "text": [
      "Extra data: line 18 column 1 (char 896)\n"
     ]
    },
    {
     "name": "stderr",
     "output_type": "stream",
     "text": [
      " 89%|██████████████████████████████████████████████████████████████████████████████████▎         | 49996/55900 [2:25:50<14:45,  6.67it/s]"
     ]
    },
    {
     "name": "stdout",
     "output_type": "stream",
     "text": [
      "Extra data: line 18 column 1 (char 644)\n"
     ]
    },
    {
     "name": "stderr",
     "output_type": "stream",
     "text": [
      " 89%|██████████████████████████████████████████████████████████████████████████████████▎         | 49999/55900 [2:25:51<14:56,  6.58it/s]"
     ]
    },
    {
     "name": "stdout",
     "output_type": "stream",
     "text": [
      "Extra data: line 18 column 1 (char 797)\n"
     ]
    },
    {
     "name": "stderr",
     "output_type": "stream",
     "text": [
      " 90%|██████████████████████████████████████████████████████████████████████████████████▍         | 50094/55900 [2:26:12<28:02,  3.45it/s]"
     ]
    },
    {
     "name": "stdout",
     "output_type": "stream",
     "text": [
      "Extra data: line 18 column 1 (char 542)\n",
      "Extra data: line 18 column 1 (char 661)\n",
      "Extra data: line 18 column 1 (char 593)\n",
      "Extra data: line 18 column 1 (char 862)\n"
     ]
    },
    {
     "name": "stderr",
     "output_type": "stream",
     "text": [
      " 90%|██████████████████████████████████████████████████████████████████████████████████▌         | 50187/55900 [2:26:28<24:54,  3.82it/s]"
     ]
    },
    {
     "name": "stdout",
     "output_type": "stream",
     "text": [
      "Extra data: line 18 column 1 (char 851)\n"
     ]
    },
    {
     "name": "stderr",
     "output_type": "stream",
     "text": [
      " 90%|██████████████████████████████████████████████████████████████████████████████████▌         | 50199/55900 [2:26:29<06:07, 15.50it/s]"
     ]
    },
    {
     "name": "stdout",
     "output_type": "stream",
     "text": [
      "Extra data: line 18 column 1 (char 906)\n",
      "Extra data: line 18 column 1 (char 516)\n",
      "Extra data: line 18 column 1 (char 1020)\n",
      "Extra data: line 18 column 1 (char 969)\n",
      "Extra data: line 18 column 1 (char 811)\n",
      "Extra data: line 18 column 1 (char 962)\n",
      "Extra data: line 18 column 1 (char 853)\n",
      "Extra data: line 18 column 1 (char 791)\n"
     ]
    },
    {
     "name": "stderr",
     "output_type": "stream",
     "text": [
      " 90%|██████████████████████████████████████████████████████████████████████████████████▊         | 50287/55900 [2:26:44<13:38,  6.86it/s]"
     ]
    },
    {
     "name": "stdout",
     "output_type": "stream",
     "text": [
      "Extra data: line 18 column 1 (char 613)\n"
     ]
    },
    {
     "name": "stderr",
     "output_type": "stream",
     "text": [
      " 90%|██████████████████████████████████████████████████████████████████████████████████▊         | 50291/55900 [2:26:45<12:43,  7.35it/s]"
     ]
    },
    {
     "name": "stdout",
     "output_type": "stream",
     "text": [
      "Extra data: line 18 column 1 (char 890)\n",
      "Extra data: line 18 column 1 (char 730)\n",
      "Extra data: line 18 column 1 (char 675)\n",
      "Extra data: line 18 column 1 (char 802)\n",
      "Extra data: line 18 column 1 (char 597)\n",
      "Extra data: line 18 column 1 (char 638)\n",
      "Extra data: line 18 column 1 (char 645)\n"
     ]
    },
    {
     "name": "stderr",
     "output_type": "stream",
     "text": [
      " 90%|██████████████████████████████████████████████████████████████████████████████████▊         | 50300/55900 [2:26:45<08:07, 11.49it/s]"
     ]
    },
    {
     "name": "stdout",
     "output_type": "stream",
     "text": [
      "Extra data: line 18 column 1 (char 860)\n"
     ]
    },
    {
     "name": "stderr",
     "output_type": "stream",
     "text": [
      " 90%|██████████████████████████████████████████████████████████████████████████████████▉         | 50399/55900 [2:27:03<10:34,  8.67it/s]"
     ]
    },
    {
     "name": "stdout",
     "output_type": "stream",
     "text": [
      "Extra data: line 18 column 1 (char 981)\n",
      "Extra data: line 18 column 1 (char 1033)\n"
     ]
    },
    {
     "name": "stderr",
     "output_type": "stream",
     "text": [
      " 90%|███████████████████████████████████████████████████████████████████████████████████         | 50496/55900 [2:27:18<10:13,  8.81it/s]"
     ]
    },
    {
     "name": "stdout",
     "output_type": "stream",
     "text": [
      "Extra data: line 18 column 1 (char 1033)\n"
     ]
    },
    {
     "name": "stderr",
     "output_type": "stream",
     "text": [
      " 90%|███████████████████████████████████████████████████████████████████████████████████▏        | 50578/55900 [2:27:33<14:31,  6.11it/s]"
     ]
    },
    {
     "name": "stdout",
     "output_type": "stream",
     "text": [
      "Extra data: line 18 column 1 (char 458)\n"
     ]
    },
    {
     "name": "stderr",
     "output_type": "stream",
     "text": [
      " 91%|███████████████████████████████████████████████████████████████████████████████████▎        | 50592/55900 [2:27:36<31:11,  2.84it/s]"
     ]
    },
    {
     "name": "stdout",
     "output_type": "stream",
     "text": [
      "Extra data: line 18 column 1 (char 775)\n"
     ]
    },
    {
     "name": "stderr",
     "output_type": "stream",
     "text": [
      " 91%|███████████████████████████████████████████████████████████████████████████████████▎        | 50600/55900 [2:27:37<09:40,  9.13it/s]"
     ]
    },
    {
     "name": "stdout",
     "output_type": "stream",
     "text": [
      "Extra data: line 18 column 1 (char 550)\n",
      "Extra data: line 18 column 1 (char 764)\n",
      "Extra data: line 18 column 1 (char 542)\n",
      "Extra data: line 18 column 1 (char 1084)\n"
     ]
    },
    {
     "name": "stderr",
     "output_type": "stream",
     "text": [
      " 91%|███████████████████████████████████████████████████████████████████████████████████▌        | 50800/55900 [2:28:14<10:32,  8.06it/s]"
     ]
    },
    {
     "name": "stdout",
     "output_type": "stream",
     "text": [
      "Extra data: line 18 column 1 (char 1085)\n"
     ]
    },
    {
     "name": "stderr",
     "output_type": "stream",
     "text": [
      " 91%|███████████████████████████████████████████████████████████████████████████████████▊        | 50899/55900 [2:28:33<10:49,  7.69it/s]"
     ]
    },
    {
     "name": "stdout",
     "output_type": "stream",
     "text": [
      "Extra data: line 18 column 1 (char 853)\n"
     ]
    },
    {
     "name": "stderr",
     "output_type": "stream",
     "text": [
      " 91%|███████████████████████████████████████████████████████████████████████████████████▉        | 50989/55900 [2:28:51<08:03, 10.15it/s]"
     ]
    },
    {
     "name": "stdout",
     "output_type": "stream",
     "text": [
      "Extra data: line 18 column 1 (char 621)\n"
     ]
    },
    {
     "name": "stderr",
     "output_type": "stream",
     "text": [
      "\r",
      " 91%|███████████████████████████████████████████████████████████████████████████████████▉        | 50991/55900 [2:28:51<11:44,  6.97it/s]"
     ]
    },
    {
     "name": "stdout",
     "output_type": "stream",
     "text": [
      "Extra data: line 18 column 1 (char 550)\n",
      "Extra data: line 18 column 1 (char 619)\n",
      "Extra data: line 18 column 1 (char 1342)\n",
      "Extra data: line 18 column 1 (char 635)\n",
      "Extra data: line 18 column 1 (char 1071)\n",
      "Extra data: line 18 column 1 (char 538)\n",
      "Extra data: line 18 column 1 (char 651)\n",
      "Extra data: line 18 column 1 (char 782)\n",
      "Extra data: line 18 column 1 (char 772)\n"
     ]
    },
    {
     "name": "stderr",
     "output_type": "stream",
     "text": [
      " 91%|████████████████████████████████████████████████████████████████████████████████████        | 51097/55900 [2:29:08<09:54,  8.08it/s]"
     ]
    },
    {
     "name": "stdout",
     "output_type": "stream",
     "text": [
      "Extra data: line 18 column 1 (char 1126)\n"
     ]
    },
    {
     "name": "stderr",
     "output_type": "stream",
     "text": [
      " 91%|████████████████████████████████████████████████████████████████████████████████████        | 51101/55900 [2:29:09<09:24,  8.50it/s]"
     ]
    },
    {
     "name": "stdout",
     "output_type": "stream",
     "text": [
      "Extra data: line 18 column 1 (char 1137)\n"
     ]
    },
    {
     "name": "stderr",
     "output_type": "stream",
     "text": [
      " 92%|████████████████████████████████████████████████████████████████████████████████████▍       | 51294/55900 [2:29:40<11:15,  6.81it/s]"
     ]
    },
    {
     "name": "stdout",
     "output_type": "stream",
     "text": [
      "Extra data: line 18 column 1 (char 857)\n",
      "Extra data: line 18 column 1 (char 1085)\n"
     ]
    },
    {
     "name": "stderr",
     "output_type": "stream",
     "text": [
      " 92%|████████████████████████████████████████████████████████████████████████████████████▋       | 51487/55900 [2:30:18<14:17,  5.14it/s]"
     ]
    },
    {
     "name": "stdout",
     "output_type": "stream",
     "text": [
      "Extra data: line 18 column 1 (char 761)\n"
     ]
    },
    {
     "name": "stderr",
     "output_type": "stream",
     "text": [
      " 92%|████████████████████████████████████████████████████████████████████████████████████▋       | 51494/55900 [2:30:19<13:29,  5.44it/s]"
     ]
    },
    {
     "name": "stdout",
     "output_type": "stream",
     "text": [
      "Extra data: line 18 column 1 (char 778)\n",
      "Extra data: line 18 column 1 (char 778)\n"
     ]
    },
    {
     "name": "stderr",
     "output_type": "stream",
     "text": [
      " 92%|████████████████████████████████████████████████████████████████████████████████████▊       | 51501/55900 [2:30:20<08:48,  8.33it/s]"
     ]
    },
    {
     "name": "stdout",
     "output_type": "stream",
     "text": [
      "Extra data: line 18 column 1 (char 780)\n"
     ]
    },
    {
     "name": "stderr",
     "output_type": "stream",
     "text": [
      " 92%|████████████████████████████████████████████████████████████████████████████████████▉       | 51578/55900 [2:30:33<07:14,  9.95it/s]"
     ]
    },
    {
     "name": "stdout",
     "output_type": "stream",
     "text": [
      "Extra data: line 18 column 1 (char 406)\n"
     ]
    },
    {
     "name": "stderr",
     "output_type": "stream",
     "text": [
      " 92%|████████████████████████████████████████████████████████████████████████████████████▉       | 51582/55900 [2:30:33<09:46,  7.36it/s]"
     ]
    },
    {
     "name": "stdout",
     "output_type": "stream",
     "text": [
      "Extra data: line 18 column 1 (char 551)\n"
     ]
    },
    {
     "name": "stderr",
     "output_type": "stream",
     "text": [
      " 92%|████████████████████████████████████████████████████████████████████████████████████▉       | 51596/55900 [2:30:36<11:13,  6.39it/s]"
     ]
    },
    {
     "name": "stdout",
     "output_type": "stream",
     "text": [
      "Extra data: line 18 column 1 (char 510)\n",
      "Extra data: line 18 column 1 (char 662)\n",
      "Extra data: line 18 column 1 (char 921)\n",
      "Extra data: line 18 column 1 (char 573)\n"
     ]
    },
    {
     "name": "stderr",
     "output_type": "stream",
     "text": [
      " 92%|█████████████████████████████████████████████████████████████████████████████████████       | 51699/55900 [2:30:53<09:30,  7.37it/s]"
     ]
    },
    {
     "name": "stdout",
     "output_type": "stream",
     "text": [
      "Extra data: line 18 column 1 (char 775)\n",
      "Extra data: line 18 column 1 (char 1087)\n"
     ]
    },
    {
     "name": "stderr",
     "output_type": "stream",
     "text": [
      " 93%|█████████████████████████████████████████████████████████████████████████████████████▏      | 51784/55900 [2:31:08<13:07,  5.23it/s]"
     ]
    },
    {
     "name": "stdout",
     "output_type": "stream",
     "text": [
      "Extra data: line 18 column 1 (char 871)\n"
     ]
    },
    {
     "name": "stderr",
     "output_type": "stream",
     "text": [
      " 93%|█████████████████████████████████████████████████████████████████████████████████████▏      | 51796/55900 [2:31:10<04:41, 14.57it/s]"
     ]
    },
    {
     "name": "stdout",
     "output_type": "stream",
     "text": [
      "Extra data: line 18 column 1 (char 1244)\n",
      "Extra data: line 18 column 1 (char 778)\n",
      "Extra data: line 18 column 1 (char 1244)\n",
      "Extra data: line 18 column 1 (char 757)\n",
      "Extra data: line 18 column 1 (char 757)\n"
     ]
    },
    {
     "name": "stderr",
     "output_type": "stream",
     "text": [
      "\r",
      " 93%|█████████████████████████████████████████████████████████████████████████████████████▎      | 51801/55900 [2:31:10<03:32, 19.28it/s]"
     ]
    },
    {
     "name": "stdout",
     "output_type": "stream",
     "text": [
      "Extra data: line 18 column 1 (char 586)\n",
      "Extra data: line 18 column 1 (char 1030)\n"
     ]
    },
    {
     "name": "stderr",
     "output_type": "stream",
     "text": [
      " 93%|█████████████████████████████████████████████████████████████████████████████████████▍      | 51896/55900 [2:31:28<12:43,  5.24it/s]"
     ]
    },
    {
     "name": "stdout",
     "output_type": "stream",
     "text": [
      "Extra data: line 18 column 1 (char 625)\n"
     ]
    },
    {
     "name": "stderr",
     "output_type": "stream",
     "text": [
      " 93%|█████████████████████████████████████████████████████████████████████████████████████▍      | 51900/55900 [2:31:28<08:27,  7.89it/s]"
     ]
    },
    {
     "name": "stdout",
     "output_type": "stream",
     "text": [
      "Extra data: line 18 column 1 (char 619)\n"
     ]
    },
    {
     "name": "stderr",
     "output_type": "stream",
     "text": [
      " 93%|█████████████████████████████████████████████████████████████████████████████████████▌      | 51994/55900 [2:31:46<17:03,  3.81it/s]"
     ]
    },
    {
     "name": "stdout",
     "output_type": "stream",
     "text": [
      "Extra data: line 18 column 1 (char 657)\n",
      "Extra data: line 18 column 1 (char 676)\n",
      "Extra data: line 18 column 1 (char 717)\n",
      "Extra data: line 18 column 1 (char 774)\n"
     ]
    },
    {
     "name": "stderr",
     "output_type": "stream",
     "text": [
      " 93%|█████████████████████████████████████████████████████████████████████████████████████▉      | 52192/55900 [2:32:25<07:06,  8.68it/s]"
     ]
    },
    {
     "name": "stdout",
     "output_type": "stream",
     "text": [
      "Extra data: line 18 column 1 (char 734)\n"
     ]
    },
    {
     "name": "stderr",
     "output_type": "stream",
     "text": [
      " 93%|█████████████████████████████████████████████████████████████████████████████████████▉      | 52196/55900 [2:32:26<14:20,  4.30it/s]"
     ]
    },
    {
     "name": "stdout",
     "output_type": "stream",
     "text": [
      "Extra data: line 18 column 1 (char 857)\n"
     ]
    },
    {
     "name": "stderr",
     "output_type": "stream",
     "text": [
      " 94%|██████████████████████████████████████████████████████████████████████████████████████▏     | 52400/55900 [2:33:02<04:42, 12.40it/s]"
     ]
    },
    {
     "name": "stdout",
     "output_type": "stream",
     "text": [
      "Extra data: line 18 column 1 (char 651)\n",
      "Extra data: line 18 column 1 (char 833)\n",
      "Extra data: line 18 column 1 (char 651)\n",
      "Extra data: line 18 column 1 (char 975)\n"
     ]
    },
    {
     "name": "stderr",
     "output_type": "stream",
     "text": [
      " 94%|██████████████████████████████████████████████████████████████████████████████████████▍     | 52488/55900 [2:33:19<11:46,  4.83it/s]"
     ]
    },
    {
     "name": "stdout",
     "output_type": "stream",
     "text": [
      "Extra data: line 18 column 1 (char 857)\n"
     ]
    },
    {
     "name": "stderr",
     "output_type": "stream",
     "text": [
      " 94%|██████████████████████████████████████████████████████████████████████████████████████▍     | 52491/55900 [2:33:19<11:07,  5.10it/s]"
     ]
    },
    {
     "name": "stdout",
     "output_type": "stream",
     "text": [
      "Extra data: line 18 column 1 (char 981)\n"
     ]
    },
    {
     "name": "stderr",
     "output_type": "stream",
     "text": [
      " 94%|██████████████████████████████████████████████████████████████████████████████████████▍     | 52498/55900 [2:33:20<05:25, 10.45it/s]"
     ]
    },
    {
     "name": "stdout",
     "output_type": "stream",
     "text": [
      "Extra data: line 18 column 1 (char 775)\n"
     ]
    },
    {
     "name": "stderr",
     "output_type": "stream",
     "text": [
      " 94%|██████████████████████████████████████████████████████████████████████████████████████▌     | 52596/55900 [2:33:37<09:49,  5.60it/s]"
     ]
    },
    {
     "name": "stdout",
     "output_type": "stream",
     "text": [
      "Extra data: line 7 column 1 (char 590)\n"
     ]
    },
    {
     "name": "stderr",
     "output_type": "stream",
     "text": [
      " 94%|██████████████████████████████████████████████████████████████████████████████████████▋     | 52699/55900 [2:33:53<06:51,  7.77it/s]"
     ]
    },
    {
     "name": "stdout",
     "output_type": "stream",
     "text": [
      "Extra data: line 18 column 1 (char 921)\n"
     ]
    },
    {
     "name": "stderr",
     "output_type": "stream",
     "text": [
      " 94%|██████████████████████████████████████████████████████████████████████████████████████▊     | 52711/55900 [2:33:55<10:11,  5.22it/s]"
     ]
    },
    {
     "name": "stdout",
     "output_type": "stream",
     "text": [
      "Expecting ',' delimiter: line 9 column 125 (char 484)\n"
     ]
    },
    {
     "name": "stderr",
     "output_type": "stream",
     "text": [
      " 94%|██████████████████████████████████████████████████████████████████████████████████████▊     | 52785/55900 [2:34:08<07:13,  7.18it/s]"
     ]
    },
    {
     "name": "stdout",
     "output_type": "stream",
     "text": [
      "Extra data: line 18 column 1 (char 871)\n"
     ]
    },
    {
     "name": "stderr",
     "output_type": "stream",
     "text": [
      " 94%|██████████████████████████████████████████████████████████████████████████████████████▉     | 52791/55900 [2:34:10<12:19,  4.20it/s]"
     ]
    },
    {
     "name": "stdout",
     "output_type": "stream",
     "text": [
      "Extra data: line 18 column 1 (char 778)\n",
      "Extra data: line 18 column 1 (char 757)\n"
     ]
    },
    {
     "name": "stderr",
     "output_type": "stream",
     "text": [
      " 94%|██████████████████████████████████████████████████████████████████████████████████████▉     | 52795/55900 [2:34:10<09:48,  5.27it/s]"
     ]
    },
    {
     "name": "stdout",
     "output_type": "stream",
     "text": [
      "Extra data: line 18 column 1 (char 1244)\n"
     ]
    },
    {
     "name": "stderr",
     "output_type": "stream",
     "text": [
      " 94%|██████████████████████████████████████████████████████████████████████████████████████▉     | 52800/55900 [2:34:11<06:11,  8.34it/s]"
     ]
    },
    {
     "name": "stdout",
     "output_type": "stream",
     "text": [
      "Extra data: line 18 column 1 (char 778)\n"
     ]
    },
    {
     "name": "stderr",
     "output_type": "stream",
     "text": [
      " 94%|██████████████████████████████████████████████████████████████████████████████████████▉     | 52811/55900 [2:34:13<07:15,  7.10it/s]"
     ]
    },
    {
     "name": "stdout",
     "output_type": "stream",
     "text": [
      "Unterminated string starting at: line 12 column 17 (char 564)\n"
     ]
    },
    {
     "name": "stderr",
     "output_type": "stream",
     "text": [
      " 95%|███████████████████████████████████████████████████████████████████████████████████████     | 52884/55900 [2:34:24<07:58,  6.30it/s]"
     ]
    },
    {
     "name": "stdout",
     "output_type": "stream",
     "text": [
      "Extra data: line 18 column 1 (char 740)\n"
     ]
    },
    {
     "name": "stderr",
     "output_type": "stream",
     "text": [
      "\r",
      " 95%|███████████████████████████████████████████████████████████████████████████████████████     | 52886/55900 [2:34:25<07:21,  6.83it/s]"
     ]
    },
    {
     "name": "stdout",
     "output_type": "stream",
     "text": [
      "Extra data: line 18 column 1 (char 807)\n"
     ]
    },
    {
     "name": "stderr",
     "output_type": "stream",
     "text": [
      " 95%|███████████████████████████████████████████████████████████████████████████████████████     | 52890/55900 [2:34:25<08:06,  6.18it/s]"
     ]
    },
    {
     "name": "stdout",
     "output_type": "stream",
     "text": [
      "Extra data: line 18 column 1 (char 597)\n",
      "Extra data: line 18 column 1 (char 685)\n",
      "Extra data: line 18 column 1 (char 754)\n",
      "Extra data: line 18 column 1 (char 727)\n",
      "Extra data: line 18 column 1 (char 664)\n",
      "Extra data: line 18 column 1 (char 863)\n"
     ]
    },
    {
     "name": "stderr",
     "output_type": "stream",
     "text": [
      " 95%|███████████████████████████████████████████████████████████████████████████████████████     | 52901/55900 [2:34:26<04:41, 10.64it/s]"
     ]
    },
    {
     "name": "stdout",
     "output_type": "stream",
     "text": [
      "Extra data: line 18 column 1 (char 628)\n",
      "Extra data: line 18 column 1 (char 1019)\n"
     ]
    },
    {
     "name": "stderr",
     "output_type": "stream",
     "text": [
      " 95%|███████████████████████████████████████████████████████████████████████████████████████▎    | 53089/55900 [2:34:56<08:16,  5.66it/s]"
     ]
    },
    {
     "name": "stdout",
     "output_type": "stream",
     "text": [
      "Extra data: line 18 column 1 (char 857)\n",
      "Extra data: line 18 column 1 (char 857)\n"
     ]
    },
    {
     "name": "stderr",
     "output_type": "stream",
     "text": [
      " 95%|███████████████████████████████████████████████████████████████████████████████████████▌    | 53188/55900 [2:35:14<09:16,  4.87it/s]"
     ]
    },
    {
     "name": "stdout",
     "output_type": "stream",
     "text": [
      "Extra data: line 18 column 1 (char 606)\n"
     ]
    },
    {
     "name": "stderr",
     "output_type": "stream",
     "text": [
      " 95%|███████████████████████████████████████████████████████████████████████████████████████▌    | 53192/55900 [2:35:14<06:18,  7.15it/s]"
     ]
    },
    {
     "name": "stdout",
     "output_type": "stream",
     "text": [
      "Extra data: line 18 column 1 (char 664)\n",
      "Extra data: line 18 column 1 (char 786)\n",
      "Extra data: line 18 column 1 (char 683)\n"
     ]
    },
    {
     "name": "stderr",
     "output_type": "stream",
     "text": [
      "\r",
      " 95%|███████████████████████████████████████████████████████████████████████████████████████▌    | 53196/55900 [2:35:15<04:39,  9.68it/s]"
     ]
    },
    {
     "name": "stdout",
     "output_type": "stream",
     "text": [
      "Extra data: line 18 column 1 (char 614)\n",
      "Extra data: line 18 column 1 (char 691)\n",
      "Extra data: line 18 column 1 (char 655)\n",
      "Extra data: line 18 column 1 (char 815)\n"
     ]
    },
    {
     "name": "stderr",
     "output_type": "stream",
     "text": [
      " 95%|███████████████████████████████████████████████████████████████████████████████████████▋    | 53281/55900 [2:35:28<04:50,  9.00it/s]"
     ]
    },
    {
     "name": "stdout",
     "output_type": "stream",
     "text": [
      "Extra data: line 18 column 1 (char 472)\n"
     ]
    },
    {
     "name": "stderr",
     "output_type": "stream",
     "text": [
      " 95%|███████████████████████████████████████████████████████████████████████████████████████▋    | 53293/55900 [2:35:30<07:19,  5.93it/s]"
     ]
    },
    {
     "name": "stdout",
     "output_type": "stream",
     "text": [
      "Extra data: line 18 column 1 (char 427)\n",
      "Extra data: line 18 column 1 (char 575)\n",
      "Extra data: line 18 column 1 (char 1019)\n",
      "Extra data: line 18 column 1 (char 658)\n",
      "Extra data: line 18 column 1 (char 614)\n",
      "Extra data: line 18 column 1 (char 727)\n",
      "Extra data: line 18 column 1 (char 664)\n"
     ]
    },
    {
     "name": "stderr",
     "output_type": "stream",
     "text": [
      " 96%|███████████████████████████████████████████████████████████████████████████████████████▉    | 53395/55900 [2:35:48<06:36,  6.32it/s]"
     ]
    },
    {
     "name": "stdout",
     "output_type": "stream",
     "text": [
      "Extra data: line 18 column 1 (char 788)\n"
     ]
    },
    {
     "name": "stderr",
     "output_type": "stream",
     "text": [
      " 96%|███████████████████████████████████████████████████████████████████████████████████████▉    | 53402/55900 [2:35:48<03:12, 12.97it/s]"
     ]
    },
    {
     "name": "stdout",
     "output_type": "stream",
     "text": [
      "Extra data: line 18 column 1 (char 580)\n"
     ]
    },
    {
     "name": "stderr",
     "output_type": "stream",
     "text": [
      " 96%|████████████████████████████████████████████████████████████████████████████████████████    | 53498/55900 [2:36:07<03:44, 10.68it/s]"
     ]
    },
    {
     "name": "stdout",
     "output_type": "stream",
     "text": [
      "Extra data: line 18 column 1 (char 786)\n",
      "Extra data: line 18 column 1 (char 827)\n"
     ]
    },
    {
     "name": "stderr",
     "output_type": "stream",
     "text": [
      " 96%|████████████████████████████████████████████████████████████████████████████████████████▌   | 53798/55900 [2:37:00<05:23,  6.50it/s]"
     ]
    },
    {
     "name": "stdout",
     "output_type": "stream",
     "text": [
      "Extra data: line 18 column 1 (char 775)\n"
     ]
    },
    {
     "name": "stderr",
     "output_type": "stream",
     "text": [
      " 96%|████████████████████████████████████████████████████████████████████████████████████████▋   | 53876/55900 [2:37:13<06:08,  5.49it/s]"
     ]
    },
    {
     "name": "stdout",
     "output_type": "stream",
     "text": [
      "Extra data: line 18 column 1 (char 1010)\n",
      "Extra data: line 18 column 1 (char 1027)\n",
      "Extra data: line 18 column 1 (char 950)\n",
      "Extra data: line 18 column 1 (char 757)\n",
      "Extra data: line 18 column 1 (char 811)\n",
      "Extra data: line 7 column 1 (char 859)\n",
      "Extra data: line 7 column 1 (char 859)\n",
      "Extra data: line 18 column 1 (char 778)\n",
      "Extra data: line 18 column 1 (char 902)\n",
      "Extra data: line 18 column 1 (char 912)\n",
      "Extra data: line 18 column 1 (char 912)\n",
      "Extra data: line 18 column 1 (char 950)\n",
      "Extra data: line 18 column 1 (char 950)\n",
      "Extra data: line 18 column 1 (char 1002)\n",
      "Extra data: line 7 column 1 (char 1018)\n",
      "Extra data: line 18 column 1 (char 970)\n",
      "Extra data: line 18 column 1 (char 660)\n",
      "Extra data: line 7 column 1 (char 1024)\n",
      "Extra data: line 18 column 1 (char 992)\n",
      "Extra data: line 7 column 1 (char 1018)\n"
     ]
    },
    {
     "name": "stderr",
     "output_type": "stream",
     "text": [
      " 97%|████████████████████████████████████████████████████████████████████████████████████████▊   | 53984/55900 [2:37:28<04:33,  7.00it/s]"
     ]
    },
    {
     "name": "stdout",
     "output_type": "stream",
     "text": [
      "Extra data: line 18 column 1 (char 511)\n"
     ]
    },
    {
     "name": "stderr",
     "output_type": "stream",
     "text": [
      "\r",
      " 97%|████████████████████████████████████████████████████████████████████████████████████████▊   | 53987/55900 [2:37:28<04:00,  7.94it/s]"
     ]
    },
    {
     "name": "stdout",
     "output_type": "stream",
     "text": [
      "Extra data: line 18 column 1 (char 577)\n",
      "Expecting ',' delimiter: line 9 column 122 (char 613)\n"
     ]
    },
    {
     "name": "stderr",
     "output_type": "stream",
     "text": [
      " 97%|████████████████████████████████████████████████████████████████████████████████████████▊   | 54001/55900 [2:37:30<02:50, 11.11it/s]"
     ]
    },
    {
     "name": "stdout",
     "output_type": "stream",
     "text": [
      "Extra data: line 18 column 1 (char 758)\n",
      "Extra data: line 18 column 1 (char 782)\n",
      "Extra data: line 18 column 1 (char 697)\n",
      "Extra data: line 18 column 1 (char 633)\n",
      "Extra data: line 18 column 1 (char 1022)\n",
      "Extra data: line 18 column 1 (char 909)\n"
     ]
    },
    {
     "name": "stderr",
     "output_type": "stream",
     "text": [
      " 97%|█████████████████████████████████████████████████████████████████████████████████████████   | 54089/55900 [2:37:46<05:38,  5.35it/s]"
     ]
    },
    {
     "name": "stdout",
     "output_type": "stream",
     "text": [
      "Extra data: line 18 column 1 (char 711)\n"
     ]
    },
    {
     "name": "stderr",
     "output_type": "stream",
     "text": [
      " 97%|█████████████████████████████████████████████████████████████████████████████████████████   | 54097/55900 [2:37:47<02:55, 10.25it/s]"
     ]
    },
    {
     "name": "stdout",
     "output_type": "stream",
     "text": [
      "Extra data: line 18 column 1 (char 806)\n",
      "Extra data: line 18 column 1 (char 832)\n"
     ]
    },
    {
     "name": "stderr",
     "output_type": "stream",
     "text": [
      "\r",
      " 97%|█████████████████████████████████████████████████████████████████████████████████████████   | 54099/55900 [2:37:48<04:36,  6.50it/s]"
     ]
    },
    {
     "name": "stdout",
     "output_type": "stream",
     "text": [
      "Extra data: line 18 column 1 (char 854)\n"
     ]
    },
    {
     "name": "stderr",
     "output_type": "stream",
     "text": [
      " 97%|█████████████████████████████████████████████████████████████████████████████████████████▏  | 54196/55900 [2:38:06<04:22,  6.50it/s]"
     ]
    },
    {
     "name": "stdout",
     "output_type": "stream",
     "text": [
      "Extra data: line 18 column 1 (char 715)\n"
     ]
    },
    {
     "name": "stderr",
     "output_type": "stream",
     "text": [
      " 97%|█████████████████████████████████████████████████████████████████████████████████████████▏  | 54199/55900 [2:38:06<04:07,  6.88it/s]"
     ]
    },
    {
     "name": "stdout",
     "output_type": "stream",
     "text": [
      "Extra data: line 18 column 1 (char 977)\n"
     ]
    },
    {
     "name": "stderr",
     "output_type": "stream",
     "text": [
      " 97%|█████████████████████████████████████████████████████████████████████████████████████████▎  | 54288/55900 [2:38:23<09:31,  2.82it/s]"
     ]
    },
    {
     "name": "stdout",
     "output_type": "stream",
     "text": [
      "Extra data: line 18 column 1 (char 774)\n"
     ]
    },
    {
     "name": "stderr",
     "output_type": "stream",
     "text": [
      " 97%|█████████████████████████████████████████████████████████████████████████████████████████▎  | 54291/55900 [2:38:24<06:36,  4.06it/s]"
     ]
    },
    {
     "name": "stdout",
     "output_type": "stream",
     "text": [
      "Extra data: line 18 column 1 (char 681)\n",
      "Extra data: line 18 column 1 (char 560)\n"
     ]
    },
    {
     "name": "stderr",
     "output_type": "stream",
     "text": [
      "\r",
      " 97%|█████████████████████████████████████████████████████████████████████████████████████████▎  | 54294/55900 [2:38:24<04:38,  5.77it/s]"
     ]
    },
    {
     "name": "stdout",
     "output_type": "stream",
     "text": [
      "Extra data: line 18 column 1 (char 939)\n",
      "Extra data: line 18 column 1 (char 685)\n",
      "Extra data: line 18 column 1 (char 696)\n",
      "Extra data: line 18 column 1 (char 773)\n",
      "Extra data: line 18 column 1 (char 667)\n",
      "Extra data: line 18 column 1 (char 1183)\n"
     ]
    },
    {
     "name": "stderr",
     "output_type": "stream",
     "text": [
      " 97%|█████████████████████████████████████████████████████████████████████████████████████████▍  | 54358/55900 [2:38:35<05:21,  4.80it/s]"
     ]
    },
    {
     "name": "stdout",
     "output_type": "stream",
     "text": [
      "Extra data: line 7 column 1 (char 392)\n"
     ]
    },
    {
     "name": "stderr",
     "output_type": "stream",
     "text": [
      " 97%|█████████████████████████████████████████████████████████████████████████████████████████▌  | 54383/55900 [2:38:39<03:10,  7.97it/s]"
     ]
    },
    {
     "name": "stdout",
     "output_type": "stream",
     "text": [
      "Extra data: line 18 column 1 (char 705)\n",
      "Expecting ',' delimiter: line 13 column 263 (char 1198)\n"
     ]
    },
    {
     "name": "stderr",
     "output_type": "stream",
     "text": [
      "\r",
      " 97%|█████████████████████████████████████████████████████████████████████████████████████████▌  | 54389/55900 [2:38:39<02:33,  9.83it/s]"
     ]
    },
    {
     "name": "stdout",
     "output_type": "stream",
     "text": [
      "Extra data: line 18 column 1 (char 669)\n"
     ]
    },
    {
     "name": "stderr",
     "output_type": "stream",
     "text": [
      " 97%|█████████████████████████████████████████████████████████████████████████████████████████▌  | 54392/55900 [2:38:40<03:32,  7.09it/s]"
     ]
    },
    {
     "name": "stdout",
     "output_type": "stream",
     "text": [
      "Extra data: line 18 column 1 (char 586)\n",
      "Extra data: line 18 column 1 (char 669)\n",
      "Extra data: line 18 column 1 (char 660)\n",
      "Extra data: line 18 column 1 (char 765)\n",
      "Extra data: line 18 column 1 (char 617)\n",
      "Extra data: line 18 column 1 (char 641)\n",
      "Extra data: line 18 column 1 (char 1082)\n"
     ]
    },
    {
     "name": "stderr",
     "output_type": "stream",
     "text": [
      " 97%|█████████████████████████████████████████████████████████████████████████████████████████▋  | 54492/55900 [2:38:55<02:45,  8.50it/s]"
     ]
    },
    {
     "name": "stdout",
     "output_type": "stream",
     "text": [
      "Extra data: line 18 column 1 (char 1014)\n"
     ]
    },
    {
     "name": "stderr",
     "output_type": "stream",
     "text": [
      " 97%|█████████████████████████████████████████████████████████████████████████████████████████▋  | 54497/55900 [2:38:56<03:37,  6.45it/s]"
     ]
    },
    {
     "name": "stdout",
     "output_type": "stream",
     "text": [
      "Extra data: line 18 column 1 (char 851)\n"
     ]
    },
    {
     "name": "stderr",
     "output_type": "stream",
     "text": [
      " 98%|██████████████████████████████████████████████████████████████████████████████████████████  | 54692/55900 [2:39:30<05:12,  3.87it/s]"
     ]
    },
    {
     "name": "stdout",
     "output_type": "stream",
     "text": [
      "Extra data: line 18 column 1 (char 675)\n"
     ]
    },
    {
     "name": "stderr",
     "output_type": "stream",
     "text": [
      " 98%|██████████████████████████████████████████████████████████████████████████████████████████  | 54698/55900 [2:39:31<04:44,  4.22it/s]"
     ]
    },
    {
     "name": "stdout",
     "output_type": "stream",
     "text": [
      "Extra data: line 18 column 1 (char 763)\n",
      "Extra data: line 18 column 1 (char 1024)\n"
     ]
    },
    {
     "name": "stderr",
     "output_type": "stream",
     "text": [
      " 98%|██████████████████████████████████████████████████████████████████████████████████████████▏ | 54798/55900 [2:39:51<04:17,  4.28it/s]"
     ]
    },
    {
     "name": "stdout",
     "output_type": "stream",
     "text": [
      "Extra data: line 18 column 1 (char 811)\n",
      "Extra data: line 18 column 1 (char 905)\n"
     ]
    },
    {
     "name": "stderr",
     "output_type": "stream",
     "text": [
      " 98%|██████████████████████████████████████████████████████████████████████████████████████████▎ | 54893/55900 [2:40:11<04:19,  3.88it/s]"
     ]
    },
    {
     "name": "stdout",
     "output_type": "stream",
     "text": [
      "Extra data: line 18 column 1 (char 614)\n",
      "Extra data: line 18 column 1 (char 874)\n",
      "Extra data: line 18 column 1 (char 712)\n",
      "Extra data: line 18 column 1 (char 650)\n",
      "Extra data: line 18 column 1 (char 584)\n",
      "Extra data: line 18 column 1 (char 858)\n"
     ]
    },
    {
     "name": "stderr",
     "output_type": "stream",
     "text": [
      " 98%|██████████████████████████████████████████████████████████████████████████████████████████▌ | 54998/55900 [2:40:28<01:00, 14.97it/s]"
     ]
    },
    {
     "name": "stdout",
     "output_type": "stream",
     "text": [
      "Extra data: line 18 column 1 (char 829)\n",
      "Extra data: line 18 column 1 (char 794)\n",
      "Extra data: line 18 column 1 (char 614)\n",
      "Extra data: line 18 column 1 (char 567)\n",
      "Extra data: line 18 column 1 (char 716)\n",
      "Extra data: line 18 column 1 (char 782)\n",
      "Extra data: line 18 column 1 (char 672)\n",
      "Extra data: line 18 column 1 (char 641)\n",
      "Extra data: line 18 column 1 (char 1112)\n",
      "Extra data: line 18 column 1 (char 861)\n"
     ]
    },
    {
     "name": "stderr",
     "output_type": "stream",
     "text": [
      " 99%|██████████████████████████████████████████████████████████████████████████████████████████▋ | 55094/55900 [2:40:44<02:40,  5.03it/s]"
     ]
    },
    {
     "name": "stdout",
     "output_type": "stream",
     "text": [
      "Extra data: line 18 column 1 (char 946)\n",
      "Extra data: line 18 column 1 (char 775)\n",
      "Extra data: line 18 column 1 (char 775)\n"
     ]
    },
    {
     "name": "stderr",
     "output_type": "stream",
     "text": [
      " 99%|██████████████████████████████████████████████████████████████████████████████████████████▊ | 55197/55900 [2:41:03<02:07,  5.51it/s]"
     ]
    },
    {
     "name": "stdout",
     "output_type": "stream",
     "text": [
      "Extra data: line 18 column 1 (char 875)\n",
      "Extra data: line 18 column 1 (char 972)\n"
     ]
    },
    {
     "name": "stderr",
     "output_type": "stream",
     "text": [
      " 99%|██████████████████████████████████████████████████████████████████████████████████████████▉ | 55289/55900 [2:41:17<01:09,  8.82it/s]"
     ]
    },
    {
     "name": "stdout",
     "output_type": "stream",
     "text": [
      "Extra data: line 18 column 1 (char 1033)\n",
      "Extra data: line 18 column 1 (char 1033)\n"
     ]
    },
    {
     "name": "stderr",
     "output_type": "stream",
     "text": [
      " 99%|███████████████████████████████████████████████████████████████████████████████████████████▏| 55381/55900 [2:41:35<01:52,  4.62it/s]"
     ]
    },
    {
     "name": "stdout",
     "output_type": "stream",
     "text": [
      "Expecting ',' delimiter: line 13 column 180 (char 1140)\n"
     ]
    },
    {
     "name": "stderr",
     "output_type": "stream",
     "text": [
      "\r",
      " 99%|███████████████████████████████████████████████████████████████████████████████████████████▏| 55383/55900 [2:41:36<01:42,  5.03it/s]"
     ]
    },
    {
     "name": "stdout",
     "output_type": "stream",
     "text": [
      "Extra data: line 18 column 1 (char 348)\n"
     ]
    },
    {
     "name": "stderr",
     "output_type": "stream",
     "text": [
      " 99%|███████████████████████████████████████████████████████████████████████████████████████████▏| 55386/55900 [2:41:36<01:37,  5.28it/s]"
     ]
    },
    {
     "name": "stdout",
     "output_type": "stream",
     "text": [
      "Extra data: line 18 column 1 (char 396)\n"
     ]
    },
    {
     "name": "stderr",
     "output_type": "stream",
     "text": [
      " 99%|███████████████████████████████████████████████████████████████████████████████████████████▏| 55391/55900 [2:41:37<01:26,  5.87it/s]"
     ]
    },
    {
     "name": "stdout",
     "output_type": "stream",
     "text": [
      "Extra data: line 18 column 1 (char 413)\n"
     ]
    },
    {
     "name": "stderr",
     "output_type": "stream",
     "text": [
      " 99%|███████████████████████████████████████████████████████████████████████████████████████████▏| 55399/55900 [2:41:38<01:06,  7.54it/s]"
     ]
    },
    {
     "name": "stdout",
     "output_type": "stream",
     "text": [
      "Expecting ',' delimiter: line 5 column 560 (char 645)\n"
     ]
    },
    {
     "name": "stderr",
     "output_type": "stream",
     "text": [
      " 99%|███████████████████████████████████████████████████████████████████████████████████████████▎| 55467/55900 [2:41:50<00:58,  7.45it/s]"
     ]
    },
    {
     "name": "stdout",
     "output_type": "stream",
     "text": [
      "Extra data: line 18 column 1 (char 335)\n"
     ]
    },
    {
     "name": "stderr",
     "output_type": "stream",
     "text": [
      " 99%|███████████████████████████████████████████████████████████████████████████████████████████▎| 55489/55900 [2:41:54<01:46,  3.87it/s]"
     ]
    },
    {
     "name": "stdout",
     "output_type": "stream",
     "text": [
      "Extra data: line 18 column 1 (char 648)\n"
     ]
    },
    {
     "name": "stderr",
     "output_type": "stream",
     "text": [
      " 99%|███████████████████████████████████████████████████████████████████████████████████████████▎| 55502/55900 [2:41:55<00:33, 12.03it/s]"
     ]
    },
    {
     "name": "stdout",
     "output_type": "stream",
     "text": [
      "Extra data: line 18 column 1 (char 478)\n",
      "Extra data: line 18 column 1 (char 501)\n",
      "Extra data: line 18 column 1 (char 909)\n",
      "Extra data: line 18 column 1 (char 749)\n",
      "Extra data: line 18 column 1 (char 641)\n",
      "Extra data: line 18 column 1 (char 880)\n",
      "Extra data: line 18 column 1 (char 983)\n",
      "Extra data: line 18 column 1 (char 997)\n"
     ]
    },
    {
     "name": "stderr",
     "output_type": "stream",
     "text": [
      " 99%|███████████████████████████████████████████████████████████████████████████████████████████▍| 55596/55900 [2:42:12<00:54,  5.59it/s]"
     ]
    },
    {
     "name": "stdout",
     "output_type": "stream",
     "text": [
      "Extra data: line 18 column 1 (char 939)\n"
     ]
    },
    {
     "name": "stderr",
     "output_type": "stream",
     "text": [
      "100%|███████████████████████████████████████████████████████████████████████████████████████████▋| 55696/55900 [2:42:30<00:19, 10.21it/s]"
     ]
    },
    {
     "name": "stdout",
     "output_type": "stream",
     "text": [
      "Extra data: line 18 column 1 (char 1085)\n"
     ]
    },
    {
     "name": "stderr",
     "output_type": "stream",
     "text": [
      "\r",
      "100%|███████████████████████████████████████████████████████████████████████████████████████████▋| 55698/55900 [2:42:30<00:21,  9.55it/s]"
     ]
    },
    {
     "name": "stdout",
     "output_type": "stream",
     "text": [
      "Extra data: line 18 column 1 (char 1093)\n"
     ]
    },
    {
     "name": "stderr",
     "output_type": "stream",
     "text": [
      "100%|███████████████████████████████████████████████████████████████████████████████████████████▊| 55780/55900 [2:42:43<00:18,  6.50it/s]"
     ]
    },
    {
     "name": "stdout",
     "output_type": "stream",
     "text": [
      "Extra data: line 18 column 1 (char 768)\n"
     ]
    },
    {
     "name": "stderr",
     "output_type": "stream",
     "text": [
      "100%|███████████████████████████████████████████████████████████████████████████████████████████▊| 55785/55900 [2:42:44<00:20,  5.73it/s]"
     ]
    },
    {
     "name": "stdout",
     "output_type": "stream",
     "text": [
      "Extra data: line 18 column 1 (char 918)\n",
      "Extra data: line 18 column 1 (char 918)\n",
      "Extra data: line 18 column 1 (char 918)\n",
      "Extra data: line 18 column 1 (char 640)\n",
      "Extra data: line 18 column 1 (char 640)\n",
      "Extra data: line 18 column 1 (char 640)\n",
      "Extra data: line 18 column 1 (char 640)\n"
     ]
    },
    {
     "name": "stderr",
     "output_type": "stream",
     "text": [
      "100%|███████████████████████████████████████████████████████████████████████████████████████████▊| 55795/55900 [2:42:45<00:07, 13.34it/s]"
     ]
    },
    {
     "name": "stdout",
     "output_type": "stream",
     "text": [
      "Extra data: line 18 column 1 (char 640)\n"
     ]
    },
    {
     "name": "stderr",
     "output_type": "stream",
     "text": [
      "\r",
      "100%|███████████████████████████████████████████████████████████████████████████████████████████▊| 55797/55900 [2:42:45<00:08, 11.81it/s]"
     ]
    },
    {
     "name": "stdout",
     "output_type": "stream",
     "text": [
      "Extra data: line 18 column 1 (char 640)\n"
     ]
    },
    {
     "name": "stderr",
     "output_type": "stream",
     "text": [
      "100%|███████████████████████████████████████████████████████████████████████████████████████████▊| 55802/55900 [2:42:45<00:08, 11.37it/s]"
     ]
    },
    {
     "name": "stdout",
     "output_type": "stream",
     "text": [
      "Extra data: line 18 column 1 (char 1238)\n"
     ]
    },
    {
     "name": "stderr",
     "output_type": "stream",
     "text": [
      "100%|███████████████████████████████████████████████████████████████████████████████████████████▉| 55895/55900 [2:43:03<00:00,  6.26it/s]"
     ]
    },
    {
     "name": "stdout",
     "output_type": "stream",
     "text": [
      "Extra data: line 18 column 1 (char 659)\n"
     ]
    },
    {
     "name": "stderr",
     "output_type": "stream",
     "text": [
      "\r",
      "100%|███████████████████████████████████████████████████████████████████████████████████████████▉| 55898/55900 [2:43:03<00:00,  8.84it/s]"
     ]
    },
    {
     "name": "stdout",
     "output_type": "stream",
     "text": [
      "Extra data: line 18 column 1 (char 853)\n",
      "Extra data: line 18 column 1 (char 947)\n"
     ]
    },
    {
     "name": "stderr",
     "output_type": "stream",
     "text": [
      "100%|████████████████████████████████████████████████████████████████████████████████████████████| 55900/55900 [2:43:03<00:00,  5.71it/s]\n"
     ]
    }
   ],
   "source": [
    "data_common_crawl = []\n",
    "for d in tqdm(common_crawl):\n",
    "    try:\n",
    "        t = d[0]\n",
    "        a = d[1]\n",
    "        j_a = json.loads(d[1])\n",
    "        q = t\n",
    "        \n",
    "        for r in j_a['soalan']:\n",
    "            if random.random() > 0.5:\n",
    "                generated = model.generate(\n",
    "                    [r['soalan']],\n",
    "                    max_length = 256, \n",
    "                    do_sample=True, top_k=100, top_p=0.95, temperature=0.7,\n",
    "                    num_return_sequences=5,\n",
    "                )\n",
    "                soalan = random.choice(generated)\n",
    "            else:\n",
    "                soalan = r['soalan']\n",
    "                \n",
    "            if random.random() > 0.5:\n",
    "                soalan = soalan.lower()\n",
    "            \n",
    "            if random.random() > 0.7:\n",
    "                q_ = f\"paragraph `{q}`, berdasarkan paragraph, jawab soalan `{soalan}`\"\n",
    "            else:\n",
    "                q_ = f\"paragraph `{q}`, {soalan}\"\n",
    "            \n",
    "            res = template[\"prompt_no_input\"].format(instruction=q_)\n",
    "            res = f\"{res}{r['jawapan']}\"\n",
    "            data_common_crawl.append(res)\n",
    "        \n",
    "        k = '({\"soalan\": [{`soalan`, `jawapan`}]})'\n",
    "        p = f\"\"\"\n",
    "paragraph, `{t}`\n",
    "hasilkan 3 soalan dan jawapan khusus berdasarkan perenggan itu, kembalikan sebagai struktur JSON {k}\n",
    "        \"\"\"\n",
    "        res = template[\"prompt_no_input\"].format(instruction=p)\n",
    "        res = f\"{res}{a}\"\n",
    "        data_common_crawl.append(res)\n",
    "\n",
    "    except Exception as e:\n",
    "        print(e)\n",
    "        pass"
   ]
  },
  {
   "cell_type": "code",
   "execution_count": 11,
   "metadata": {},
   "outputs": [
    {
     "data": {
      "text/plain": [
       "212526"
      ]
     },
     "execution_count": 11,
     "metadata": {},
     "output_type": "execute_result"
    }
   ],
   "source": [
    "len(data_common_crawl)"
   ]
  },
  {
   "cell_type": "code",
   "execution_count": 13,
   "metadata": {},
   "outputs": [
    {
     "data": {
      "text/plain": [
       "'Below is an instruction that describes a task. Write a response that appropriately completes the request.\\n\\n### Instruction:\\nparagraph `Google Map) MAZLAN MOKHTAR JENGKA Jerantut (Klik nama untuk WhatsApp, klik lokasi untuk Google Map) MOHD NAJID JERANTUT Kuantan (Klik nama untuk WhatsApp, klik lokasi untuk Google Map) FAZIRA JALAN TELUK SISEK FAZIRAH ZUKI LORONG CHENGAL LEMPONG NORAZMA KUANTAN AZIZAH KUANTAN NANAD AZRI TAMAN BUKIT RANGIN NURULHANA SUNGAI ISAP ROHANI MUHAMAD JALAN AIR PUTIH (1 - 5) CIK TA JALAN INDUSTRI TANAH PUTIH BARU SAADIAH KAMPUNG BALOK SHARIFAH KUANTAN SITI KHADIJAH KAMPUNG TIRAM SITI NORHAMIZAH TAMAN SERI MAHKOTA AMAN SITI SHARINA KUANTAN ZALIFAH AHMAD BANDAR INDERA MAHKOTA Maran (Klik nama untuk WhatsApp, klik lokasi untuk Google Map) MOHD FADELY BUKIT TAJAU Muadzam Shah (Klik nama untuk WhatsApp, klik lokasi untuk Google Map) HASAZALI PAHANG Pekan (Klik nama untuk WhatsApp, klik lokasi untuk Google Map) FASEEHA KAHAR PEKAN Raub (Klik nama untuk WhatsApp, klik lokasi untuk Google Map) AZNAH TAMAN KEMAJUAN NOR SOLEHAH RAUB NUR SHAFINA RAUB Temerloh (Klik nama untuk WhatsApp, klik lokasi untuk Google Map) HAYATI TEMERLOH MAS NAJIHAH TEMERLOH PUTRI SYERA JALAN AHMAD SHAH NORA TEMERLOH NORIMI TEMERLOH NIZA KAMALUDDIN BUKIT ANGIN + Perak (43) Nama Lokasi Ayer Tawar (Klik nama untuk WhatsApp, klik lokasi untuk Google Map) WANNIEY LEE AYER TAWAR Batu Gajah (Klik nama untuk WhatsApp, klik lokasi untuk Google Map) NOR SHAHIMA BATU GAJAH NORHAYATI BATU GAJAH ZAINUDDIN BATU GAJAH Bidor (Klik nama untuk WhatsApp, klik lokasi untuk Google Map) WULAN LESTARI BIDOR Chemor (Klik nama untuk WhatsApp, klik lokasi untuk Google Map) NOOR HELMI CHEMOR NURUL AINUN CHEMOR SHAMSUDIN CHEMOR Gerik (Klik nama untuk WhatsApp, klik lokasi untuk Google Map) NURHIDAYATUL FARHANA KAMPUNG BANDARIANG SITI SAHIRA GERIK Gopeng (Klik nama untuk WhatsApp, klik lokasi untuk Google Map) RAHIMI AWANG GOPENG Ipoh (Klik nama untuk WhatsApp, klik lokasi untuk Google Map) HAJARATULLAILI TAMAN SERI SAYANG SAMISAH SAMSURI IPOH Kampung Gajah (Klik nama untuk WhatsApp, klik lokasi untuk Google Map) FARHANA KAMPUNG GAJAH Kamunting (Klik nama untuk WhatsApp, klik lokasi untuk Google Map) KHAIRIL FAIZOLL BUKIT JANA NUR FARHAMNA BUKIT JANA SITI NORSYUHAILA KAMUNTING Kuala Kangsar (Klik nama untuk WhatsApp, klik lokasi untuk Google Map) NOR HAZA KUALA KANGSAR ROZITAH KUALA KANGSAR Parit (Klik nama untuk WhatsApp, klik lokasi untuk Google Map) ZUHAILI PARIT Parit Buntar (Klik nama untuk WhatsApp, klik lokasi untuk Google Map) MUHAMMAD HUSAINI PARIT BUNTAR Pengkalan Hulu (Klik nama untuk WhatsApp, klik lokasi untuk Google Map) NUR ROAINA PENGKALAN HULU Perak (Klik nama untuk WhatsApp, klik lokasi untuk Google Map) IMAN NOR PERAK Selama (Klik nama untuk WhatsApp, klik lokasi untuk Google Map) SITI HAIZA SELAMA (KM 6) Semanggol (Klik nama untuk WhatsApp, klik lokasi untuk Google Map) NOOR AZIAH SEMANGGOL Seri Iskandar (Klik nama untuk WhatsApp, klik lokasi untuk Google Map) FARHANAOMAR BANDAR BARU SERI ISKANDAR ASLINA BANDAR BARU SERI ISKANDAR SITI HAJAR BANDAR UNIVERSITI Seri Manjung (Klik nama untuk WhatsApp, klik lokasi untuk Google Map) SURAYA SERI MANJUNG Simpang (Klik nama untuk WhatsApp, klik lokasi untuk Google Map) SERI TAMAN BERKAT Sitiawan (Klik nama untuk WhatsApp, klik lokasi untuk Google Map) UMIE ANA SITIAWAN NORHASHITA SITIAWAN Taiping (Klik nama untuk WhatsApp, klik lokasi untuk Google Map) FATIN SHAKINA POKOK ASSAM NOR TAIPING`, Siapa kat Jengka Jerantut\\n\\n### Response:\\nMazlan Mokhtar'"
      ]
     },
     "execution_count": 13,
     "metadata": {},
     "output_type": "execute_result"
    }
   ],
   "source": [
    "data_common_crawl[0]"
   ]
  },
  {
   "cell_type": "code",
   "execution_count": null,
   "metadata": {},
   "outputs": [],
   "source": [
    "from transformers import AutoTokenizer\n",
    "base_model='EleutherAI/pythia-6.9b'\n",
    "tokenizer = AutoTokenizer.from_pretrained(base_model)"
   ]
  },
  {
   "cell_type": "code",
   "execution_count": null,
   "metadata": {},
   "outputs": [],
   "source": [
    "len(tokenizer.tokenize(data_common_crawl[0]))"
   ]
  },
  {
   "cell_type": "code",
   "execution_count": 14,
   "metadata": {},
   "outputs": [],
   "source": [
    "with open('prepared-common-crawl.json', 'w') as fopen:\n",
    "    json.dump(data_common_crawl, fopen)"
   ]
  },
  {
   "cell_type": "code",
   "execution_count": 15,
   "metadata": {},
   "outputs": [
    {
     "name": "stdout",
     "output_type": "stream",
     "text": [
      "huggingface/tokenizers: The current process just got forked, after parallelism has already been used. Disabling parallelism to avoid deadlocks...\n",
      "To disable this warning, you can either:\n",
      "\t- Avoid using `tokenizers` before the fork if possible\n",
      "\t- Explicitly set the environment variable TOKENIZERS_PARALLELISM=(true | false)\n",
      "-rw-r--r-- 1 husein-comel husein-comel 694M Apr  26 20:15 prepared-common-crawl.json\n"
     ]
    }
   ],
   "source": [
    "!ls -lha prepared-common-crawl.json"
   ]
  },
  {
   "cell_type": "code",
   "execution_count": null,
   "metadata": {},
   "outputs": [],
   "source": []
  }
 ],
 "metadata": {
  "kernelspec": {
   "display_name": "Python 3 (ipykernel)",
   "language": "python",
   "name": "python3"
  },
  "language_info": {
   "codemirror_mode": {
    "name": "ipython",
    "version": 3
   },
   "file_extension": ".py",
   "mimetype": "text/x-python",
   "name": "python",
   "nbconvert_exporter": "python",
   "pygments_lexer": "ipython3",
   "version": "3.8.10"
  }
 },
 "nbformat": 4,
 "nbformat_minor": 4
}
