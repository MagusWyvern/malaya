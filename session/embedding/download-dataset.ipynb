{
 "cells": [
  {
   "cell_type": "code",
   "execution_count": 3,
   "id": "0b83ceda",
   "metadata": {},
   "outputs": [],
   "source": [
    "# !wget https://huggingface.co/datasets/mesolitica/embedding-pair-mining-malaysian-llama2-1b/resolve/main/facebook-hard.jsonl\n",
    "# !wget https://huggingface.co/datasets/mesolitica/embedding-pair-mining-malaysian-llama2-1b/resolve/main/iium-confession-hard.jsonl\n",
    "# !wget https://huggingface.co/datasets/mesolitica/embedding-pair-mining-malaysian-llama2-1b/resolve/main/lowyat-hard.jsonl\n",
    "# !wget https://huggingface.co/datasets/mesolitica/embedding-pair-mining-malaysian-llama2-1b/resolve/main/news-hard.jsonl\n",
    "# !wget https://huggingface.co/datasets/mesolitica/embedding-pair-mining-malaysian-llama2-1b/resolve/main/twitter-hard.jsonl"
   ]
  },
  {
   "cell_type": "code",
   "execution_count": 4,
   "id": "d17ca005",
   "metadata": {},
   "outputs": [],
   "source": [
    "# !wget https://huggingface.co/datasets/mesolitica/embedding-pair-mining/resolve/main/b.cari.com.my-dataset-bge-train.jsonl\n",
    "# !wget https://huggingface.co/datasets/mesolitica/embedding-pair-mining/resolve/main/c.cari.com.my-dataset-bge-train.jsonl\n",
    "# !wget https://huggingface.co/datasets/mesolitica/embedding-pair-mining/resolve/main/carigold-dataset.jsonl"
   ]
  },
  {
   "cell_type": "code",
   "execution_count": null,
   "id": "88572a9b",
   "metadata": {},
   "outputs": [],
   "source": []
  }
 ],
 "metadata": {
  "kernelspec": {
   "display_name": "Python 3 (ipykernel)",
   "language": "python",
   "name": "python3"
  },
  "language_info": {
   "codemirror_mode": {
    "name": "ipython",
    "version": 3
   },
   "file_extension": ".py",
   "mimetype": "text/x-python",
   "name": "python",
   "nbconvert_exporter": "python",
   "pygments_lexer": "ipython3",
   "version": "3.8.10"
  }
 },
 "nbformat": 4,
 "nbformat_minor": 5
}
