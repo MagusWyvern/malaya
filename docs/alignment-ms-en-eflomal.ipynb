{
 "cells": [
  {
   "cell_type": "markdown",
   "metadata": {},
   "source": [
    "# MS-EN alignment using Eflomal"
   ]
  },
  {
   "cell_type": "markdown",
   "metadata": {},
   "source": [
    "<div class=\"alert alert-info\">\n",
    "\n",
    "This tutorial is available as an IPython notebook at [Malaya/example/alignment-ms-en-eflomal](https://github.com/huseinzol05/Malaya/tree/master/example/alignment-ms-en-eflomal).\n",
    "    \n",
    "</div>"
   ]
  },
  {
   "cell_type": "code",
   "execution_count": 1,
   "metadata": {},
   "outputs": [
    {
     "name": "stderr",
     "output_type": "stream",
     "text": [
      "Cannot import beam_search_ops from Tensorflow 1, ['malaya.jawi_rumi.deep_model', 'malaya.phoneme.deep_model', 'malaya.rumi_jawi.deep_model', 'malaya.stem.deep_model'] for stemmer will not available to use, make sure Tensorflow 1 version >= 1.15\n"
     ]
    },
    {
     "name": "stdout",
     "output_type": "stream",
     "text": [
      "CPU times: user 5.02 s, sys: 3.45 s, total: 8.47 s\n",
      "Wall time: 4.93 s\n"
     ]
    }
   ],
   "source": [
    "%%time\n",
    "import malaya"
   ]
  },
  {
   "cell_type": "markdown",
   "metadata": {},
   "source": [
    "## What is Eflomal?\n",
    "\n",
    "Originally from https://github.com/robertostling/eflomal, a great tool for word alignment task, using probability based."
   ]
  },
  {
   "cell_type": "markdown",
   "metadata": {},
   "source": [
    "## Installation\n",
    "\n",
    "If you are using Linux / Windows, you need to compile the binary from source, https://github.com/robertostling/eflomal,\n",
    "\n",
    "```bash\n",
    "git clone https://github.com/robertostling/eflomal && cd eflomal\n",
    "make\n",
    "sudo make install\n",
    "python3 setup.py install\n",
    "```\n",
    "\n",
    "You should see `eflomal` inside your installation directory, default is `/usr/bin`."
   ]
  },
  {
   "cell_type": "markdown",
   "metadata": {},
   "source": [
    "## Installation for Mac\n",
    "\n",
    "If you are using Mac, you need to compile the binary from source, https://github.com/huseinzol05/maceflomal,\n",
    "\n",
    "```bash\n",
    "git clone https://github.com/huseinzol05/maceflomal && cd maceflomal\n",
    "export CC=/usr/local/bin/gcc-11\n",
    "make\n",
    "sudo make install\n",
    "python3 setup.py install\n",
    "```\n",
    "\n",
    "You should see `eflomal` inside your installation directory, default is `/usr/bin`."
   ]
  },
  {
   "cell_type": "markdown",
   "metadata": {},
   "source": [
    "## Load Eflomal model\n",
    "\n",
    "```python\n",
    "def eflomal(alignment: str = 'ms-en', preprocessing_func: Callable = None, **kwargs):\n",
    "    \"\"\"\n",
    "    load https://github.com/robertostling/eflomal word alignment.\n",
    "    \n",
    "    Parameters\n",
    "    ----------\n",
    "    alignment: str, optional (default='ms-en')\n",
    "        Alignment type, only accept:\n",
    "            * `ms-en`, size around ~240MB.\n",
    "            * `en-ms`, size around ~301MB.\n",
    "    preprocessing_func: Callable, optional (default=None)\n",
    "        preprocessing function to call during loading prior file.\n",
    "        Using `malaya.text.function.replace_punct` able to reduce ~30% of memory usage.\n",
    "\n",
    "    Returns\n",
    "    -------\n",
    "    result: malaya.model.alignment.Eflomal\n",
    "    \"\"\"\n",
    "```\n",
    "\n",
    "Eflomal model interface inside Malaya been optimized using `defaultdict`, from average ~4 seconds using https://github.com/robertostling/eflomal/blob/master/align.py become ~200 ms."
   ]
  },
  {
   "cell_type": "code",
   "execution_count": 7,
   "metadata": {},
   "outputs": [],
   "source": [
    "model = malaya.alignment.eflomal(alignment = 'ms-en')"
   ]
  },
  {
   "cell_type": "markdown",
   "metadata": {},
   "source": [
    "## Align\n",
    "\n",
    "```python\n",
    "def align(\n",
    "    self,\n",
    "    source: List[str],\n",
    "    target: List[str],\n",
    "    model: int = 3,\n",
    "    score_model: int = 0,\n",
    "    n_samplers: int = 3,\n",
    "    length: float = 1.0,\n",
    "    null_prior: float = 0.2,\n",
    "    lowercase: bool = True,\n",
    "    debug: bool = False,\n",
    "    **kwargs,\n",
    "):\n",
    "    \"\"\"\n",
    "    align text using eflomal, https://github.com/robertostling/eflomal/blob/master/align.py\n",
    "\n",
    "    Parameters\n",
    "    ----------\n",
    "    source: List[str]\n",
    "    target: List[str]\n",
    "    model: int, optional (default=3)\n",
    "        Model (1 = IBM1, 2 = IBM1+HMM, 3 = IBM1+HMM+fertility).\n",
    "    score_model: int, optional (default=0)\n",
    "        (1 = IBM1, 2 = IBM1+HMM, 3 = IBM1+HMM+fertility).\n",
    "    n_samplers: int, optional (default=3)\n",
    "        Number of independent samplers to run.\n",
    "    length: float, optional (default=1.0)\n",
    "        Relative number of sampling iterations.\n",
    "    null_prior: float, optional (default=0.2)\n",
    "        Prior probability of NULL alignment.\n",
    "    lowercase: bool, optional (default=True)\n",
    "        lowercase during searching priors.\n",
    "    debug: bool, optional (default=False)\n",
    "        debug `eflomal` binary.\n",
    "\n",
    "    Returns\n",
    "    -------\n",
    "    result: Dict[List[List[Tuple]]]\n",
    "    \"\"\"\n",
    "```"
   ]
  },
  {
   "cell_type": "code",
   "execution_count": 4,
   "metadata": {},
   "outputs": [],
   "source": [
    "left = ['Terminal 1 KKIA dilengkapi kemudahan 64 kaunter daftar masuk, 12 aero bridge selain mampu menampung 3,200 penumpang dalam satu masa.']\n",
    "right = ['Terminal 1 KKIA is equipped with 64 check-in counters, 12 aero bridges and can accommodate 3,200 passengers at a time.']"
   ]
  },
  {
   "cell_type": "code",
   "execution_count": 5,
   "metadata": {},
   "outputs": [
    {
     "data": {
      "text/plain": [
       "{'forward': [[(0, 0),\n",
       "   (1, 1),\n",
       "   (2, 2),\n",
       "   (3, 4),\n",
       "   (4, 5),\n",
       "   (5, 6),\n",
       "   (7, 7),\n",
       "   (6, 8),\n",
       "   (9, 9),\n",
       "   (10, 10),\n",
       "   (11, 11),\n",
       "   (12, 12),\n",
       "   (13, 13),\n",
       "   (14, 14),\n",
       "   (15, 15),\n",
       "   (16, 16),\n",
       "   (17, 17),\n",
       "   (18, 18),\n",
       "   (19, 19)]],\n",
       " 'reverse': [[(0, 0),\n",
       "   (1, 1),\n",
       "   (2, 2),\n",
       "   (3, 3),\n",
       "   (4, 5),\n",
       "   (5, 6),\n",
       "   (6, 8),\n",
       "   (7, 7),\n",
       "   (9, 9),\n",
       "   (10, 10),\n",
       "   (11, 11),\n",
       "   (12, 12),\n",
       "   (13, 13),\n",
       "   (14, 14),\n",
       "   (15, 15),\n",
       "   (16, 16),\n",
       "   (17, 17),\n",
       "   (18, 18),\n",
       "   (19, 19)]]}"
      ]
     },
     "execution_count": 5,
     "metadata": {},
     "output_type": "execute_result"
    }
   ],
   "source": [
    "results = model.align(left, right)\n",
    "results"
   ]
  },
  {
   "cell_type": "code",
   "execution_count": 6,
   "metadata": {},
   "outputs": [
    {
     "name": "stdout",
     "output_type": "stream",
     "text": [
      "0 Terminal Terminal\n",
      "0 1 1\n",
      "0 KKIA KKIA\n",
      "0 dilengkapi is\n",
      "0 kemudahan equipped\n",
      "0 64 with\n",
      "0 daftar check-in\n",
      "0 kaunter 64\n",
      "0 12 12\n",
      "0 aero aero\n",
      "0 bridge bridges\n",
      "0 selain and\n",
      "0 mampu can\n",
      "0 menampung accommodate\n",
      "0 3,200 3,200\n",
      "0 penumpang passengers\n",
      "0 dalam at\n",
      "0 satu a\n",
      "0 masa. time.\n"
     ]
    }
   ],
   "source": [
    "for i in range(len(left)):\n",
    "    left_splitted = left[i].split()\n",
    "    right_splitted = right[i].split()\n",
    "    for k in results['forward'][i]:\n",
    "        print(i, left_splitted[k[0]], right_splitted[k[0]])"
   ]
  }
 ],
 "metadata": {
  "kernelspec": {
   "display_name": "Python 3 (ipykernel)",
   "language": "python",
   "name": "python3"
  },
  "language_info": {
   "codemirror_mode": {
    "name": "ipython",
    "version": 3
   },
   "file_extension": ".py",
   "mimetype": "text/x-python",
   "name": "python",
   "nbconvert_exporter": "python",
   "pygments_lexer": "ipython3",
   "version": "3.8.10"
  },
  "varInspector": {
   "cols": {
    "lenName": 16,
    "lenType": 16,
    "lenVar": 40
   },
   "kernels_config": {
    "python": {
     "delete_cmd_postfix": "",
     "delete_cmd_prefix": "del ",
     "library": "var_list.py",
     "varRefreshCmd": "print(var_dic_list())"
    },
    "r": {
     "delete_cmd_postfix": ") ",
     "delete_cmd_prefix": "rm(",
     "library": "var_list.r",
     "varRefreshCmd": "cat(var_dic_list()) "
    }
   },
   "types_to_exclude": [
    "module",
    "function",
    "builtin_function_or_method",
    "instance",
    "_Feature"
   ],
   "window_display": false
  }
 },
 "nbformat": 4,
 "nbformat_minor": 4
}
