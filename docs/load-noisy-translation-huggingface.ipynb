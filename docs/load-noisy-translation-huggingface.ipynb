{
 "cells": [
  {
   "cell_type": "markdown",
   "metadata": {},
   "source": [
    "# Noisy HuggingFace"
   ]
  },
  {
   "cell_type": "markdown",
   "metadata": {},
   "source": [
    "<div class=\"alert alert-info\">\n",
    "\n",
    "This tutorial is available as an IPython notebook at [Malaya/example/noisy-translation-huggingface](https://github.com/huseinzol05/Malaya/tree/master/example/noisy-translation-huggingface).\n",
    "    \n",
    "</div>"
   ]
  },
  {
   "cell_type": "markdown",
   "metadata": {},
   "source": [
    "<div class=\"alert alert-info\">\n",
    "\n",
    "This module trained on both standard and local (included social media) language structures, so it is save to use for both.\n",
    "    \n",
    "</div>"
   ]
  },
  {
   "cell_type": "code",
   "execution_count": 1,
   "metadata": {},
   "outputs": [],
   "source": [
    "import os\n",
    "\n",
    "os.environ['CUDA_VISIBLE_DEVICES'] = ''"
   ]
  },
  {
   "cell_type": "code",
   "execution_count": 2,
   "metadata": {
    "scrolled": true
   },
   "outputs": [
    {
     "name": "stderr",
     "output_type": "stream",
     "text": [
      "Cannot import beam_search_ops from Tensorflow 1, ['malaya.jawi_rumi.deep_model', 'malaya.phoneme.deep_model', 'malaya.rumi_jawi.deep_model', 'malaya.stem.deep_model'] for stemmer will not available to use, make sure Tensorflow 1 version >= 1.15\n"
     ]
    },
    {
     "name": "stdout",
     "output_type": "stream",
     "text": [
      "CPU times: user 5.04 s, sys: 3.52 s, total: 8.56 s\n",
      "Wall time: 5.28 s\n"
     ]
    }
   ],
   "source": [
    "%%time\n",
    "\n",
    "import malaya\n",
    "import logging\n",
    "\n",
    "logging.basicConfig(level=logging.INFO)"
   ]
  },
  {
   "cell_type": "markdown",
   "metadata": {},
   "source": [
    "### List available HuggingFace models"
   ]
  },
  {
   "cell_type": "code",
   "execution_count": 3,
   "metadata": {
    "scrolled": true
   },
   "outputs": [
    {
     "name": "stderr",
     "output_type": "stream",
     "text": [
      "INFO:malaya.translation:tested on FLORES200 pair `dev` set, https://github.com/huseinzol05/malay-dataset/tree/master/translation/flores200-eval\n",
      "INFO:malaya.translation:tested on noisy test set, https://github.com/huseinzol05/malay-dataset/tree/master/translation/noisy-eval\n",
      "INFO:malaya.translation:check out NLLB 200 metrics from `malaya.translation.nllb_metrics`.\n",
      "INFO:malaya.translation:check out Google Translate metrics from `malaya.translation.google_translate_metrics`.\n"
     ]
    },
    {
     "data": {
      "text/html": [
       "<div>\n",
       "<style scoped>\n",
       "    .dataframe tbody tr th:only-of-type {\n",
       "        vertical-align: middle;\n",
       "    }\n",
       "\n",
       "    .dataframe tbody tr th {\n",
       "        vertical-align: top;\n",
       "    }\n",
       "\n",
       "    .dataframe thead th {\n",
       "        text-align: right;\n",
       "    }\n",
       "</style>\n",
       "<table border=\"1\" class=\"dataframe\">\n",
       "  <thead>\n",
       "    <tr style=\"text-align: right;\">\n",
       "      <th></th>\n",
       "      <th>Size (MB)</th>\n",
       "      <th>Suggested length</th>\n",
       "      <th>en-ms chrF2++</th>\n",
       "      <th>ms-en chrF2++</th>\n",
       "      <th>pasar ms-ms chrF2++</th>\n",
       "      <th>pasar ms-en chrF2++</th>\n",
       "      <th>from lang</th>\n",
       "      <th>to lang</th>\n",
       "      <th>old model</th>\n",
       "      <th>ind-ms chrF2++</th>\n",
       "      <th>jav-ms chrF2++</th>\n",
       "      <th>manglish-ms chrF2++</th>\n",
       "      <th>manglish-en chrF2++</th>\n",
       "    </tr>\n",
       "  </thead>\n",
       "  <tbody>\n",
       "    <tr>\n",
       "      <th>mesolitica/finetune-noisy-translation-t5-tiny-bahasa-cased-v3</th>\n",
       "      <td>139</td>\n",
       "      <td>1024</td>\n",
       "      <td>43.937298</td>\n",
       "      <td>43.937298</td>\n",
       "      <td>43.937298</td>\n",
       "      <td>43.937298</td>\n",
       "      <td>[en, ms, pasar ms]</td>\n",
       "      <td>[ms, en]</td>\n",
       "      <td>True</td>\n",
       "      <td>NaN</td>\n",
       "      <td>NaN</td>\n",
       "      <td>NaN</td>\n",
       "      <td>NaN</td>\n",
       "    </tr>\n",
       "    <tr>\n",
       "      <th>mesolitica/finetune-noisy-translation-t5-small-bahasa-cased-v3</th>\n",
       "      <td>242</td>\n",
       "      <td>1024</td>\n",
       "      <td>43.937298</td>\n",
       "      <td>43.937298</td>\n",
       "      <td>43.937298</td>\n",
       "      <td>43.937298</td>\n",
       "      <td>[en, ms, pasar ms]</td>\n",
       "      <td>[ms, en]</td>\n",
       "      <td>True</td>\n",
       "      <td>NaN</td>\n",
       "      <td>NaN</td>\n",
       "      <td>NaN</td>\n",
       "      <td>NaN</td>\n",
       "    </tr>\n",
       "    <tr>\n",
       "      <th>mesolitica/finetune-noisy-translation-t5-base-bahasa-cased-v3</th>\n",
       "      <td>892</td>\n",
       "      <td>1024</td>\n",
       "      <td>43.937298</td>\n",
       "      <td>43.937298</td>\n",
       "      <td>43.937298</td>\n",
       "      <td>43.937298</td>\n",
       "      <td>[en, ms, pasar ms]</td>\n",
       "      <td>[ms, en]</td>\n",
       "      <td>True</td>\n",
       "      <td>NaN</td>\n",
       "      <td>NaN</td>\n",
       "      <td>NaN</td>\n",
       "      <td>NaN</td>\n",
       "    </tr>\n",
       "    <tr>\n",
       "      <th>mesolitica/translation-t5-tiny-standard-bahasa-cased</th>\n",
       "      <td>139</td>\n",
       "      <td>1536</td>\n",
       "      <td>43.937298</td>\n",
       "      <td>43.937298</td>\n",
       "      <td>43.937298</td>\n",
       "      <td>43.937298</td>\n",
       "      <td>[en, ms, ind, jav, bjn, manglish, pasar ms]</td>\n",
       "      <td>[en, ms]</td>\n",
       "      <td>False</td>\n",
       "      <td>43.937298</td>\n",
       "      <td>43.937298</td>\n",
       "      <td>43.937298</td>\n",
       "      <td>43.937298</td>\n",
       "    </tr>\n",
       "    <tr>\n",
       "      <th>mesolitica/translation-t5-small-standard-bahasa-cased</th>\n",
       "      <td>242</td>\n",
       "      <td>1536</td>\n",
       "      <td>43.937298</td>\n",
       "      <td>43.937298</td>\n",
       "      <td>43.937298</td>\n",
       "      <td>43.937298</td>\n",
       "      <td>[en, ms, ind, jav, bjn, manglish, pasar ms]</td>\n",
       "      <td>[en, ms]</td>\n",
       "      <td>False</td>\n",
       "      <td>43.937298</td>\n",
       "      <td>43.937298</td>\n",
       "      <td>43.937298</td>\n",
       "      <td>43.937298</td>\n",
       "    </tr>\n",
       "    <tr>\n",
       "      <th>mesolitica/translation-t5-base-standard-bahasa-cased</th>\n",
       "      <td>892</td>\n",
       "      <td>1536</td>\n",
       "      <td>43.937298</td>\n",
       "      <td>43.937298</td>\n",
       "      <td>43.937298</td>\n",
       "      <td>43.937298</td>\n",
       "      <td>[en, ms, ind, jav, bjn, manglish, pasar ms]</td>\n",
       "      <td>[en, ms]</td>\n",
       "      <td>False</td>\n",
       "      <td>43.937298</td>\n",
       "      <td>43.937298</td>\n",
       "      <td>43.937298</td>\n",
       "      <td>43.937298</td>\n",
       "    </tr>\n",
       "  </tbody>\n",
       "</table>\n",
       "</div>"
      ],
      "text/plain": [
       "                                                   Size (MB) Suggested length  \\\n",
       "mesolitica/finetune-noisy-translation-t5-tiny-b...       139             1024   \n",
       "mesolitica/finetune-noisy-translation-t5-small-...       242             1024   \n",
       "mesolitica/finetune-noisy-translation-t5-base-b...       892             1024   \n",
       "mesolitica/translation-t5-tiny-standard-bahasa-...       139             1536   \n",
       "mesolitica/translation-t5-small-standard-bahasa...       242             1536   \n",
       "mesolitica/translation-t5-base-standard-bahasa-...       892             1536   \n",
       "\n",
       "                                                   en-ms chrF2++  \\\n",
       "mesolitica/finetune-noisy-translation-t5-tiny-b...     43.937298   \n",
       "mesolitica/finetune-noisy-translation-t5-small-...     43.937298   \n",
       "mesolitica/finetune-noisy-translation-t5-base-b...     43.937298   \n",
       "mesolitica/translation-t5-tiny-standard-bahasa-...     43.937298   \n",
       "mesolitica/translation-t5-small-standard-bahasa...     43.937298   \n",
       "mesolitica/translation-t5-base-standard-bahasa-...     43.937298   \n",
       "\n",
       "                                                   ms-en chrF2++  \\\n",
       "mesolitica/finetune-noisy-translation-t5-tiny-b...     43.937298   \n",
       "mesolitica/finetune-noisy-translation-t5-small-...     43.937298   \n",
       "mesolitica/finetune-noisy-translation-t5-base-b...     43.937298   \n",
       "mesolitica/translation-t5-tiny-standard-bahasa-...     43.937298   \n",
       "mesolitica/translation-t5-small-standard-bahasa...     43.937298   \n",
       "mesolitica/translation-t5-base-standard-bahasa-...     43.937298   \n",
       "\n",
       "                                                   pasar ms-ms chrF2++  \\\n",
       "mesolitica/finetune-noisy-translation-t5-tiny-b...           43.937298   \n",
       "mesolitica/finetune-noisy-translation-t5-small-...           43.937298   \n",
       "mesolitica/finetune-noisy-translation-t5-base-b...           43.937298   \n",
       "mesolitica/translation-t5-tiny-standard-bahasa-...           43.937298   \n",
       "mesolitica/translation-t5-small-standard-bahasa...           43.937298   \n",
       "mesolitica/translation-t5-base-standard-bahasa-...           43.937298   \n",
       "\n",
       "                                                   pasar ms-en chrF2++  \\\n",
       "mesolitica/finetune-noisy-translation-t5-tiny-b...           43.937298   \n",
       "mesolitica/finetune-noisy-translation-t5-small-...           43.937298   \n",
       "mesolitica/finetune-noisy-translation-t5-base-b...           43.937298   \n",
       "mesolitica/translation-t5-tiny-standard-bahasa-...           43.937298   \n",
       "mesolitica/translation-t5-small-standard-bahasa...           43.937298   \n",
       "mesolitica/translation-t5-base-standard-bahasa-...           43.937298   \n",
       "\n",
       "                                                                                      from lang  \\\n",
       "mesolitica/finetune-noisy-translation-t5-tiny-b...                           [en, ms, pasar ms]   \n",
       "mesolitica/finetune-noisy-translation-t5-small-...                           [en, ms, pasar ms]   \n",
       "mesolitica/finetune-noisy-translation-t5-base-b...                           [en, ms, pasar ms]   \n",
       "mesolitica/translation-t5-tiny-standard-bahasa-...  [en, ms, ind, jav, bjn, manglish, pasar ms]   \n",
       "mesolitica/translation-t5-small-standard-bahasa...  [en, ms, ind, jav, bjn, manglish, pasar ms]   \n",
       "mesolitica/translation-t5-base-standard-bahasa-...  [en, ms, ind, jav, bjn, manglish, pasar ms]   \n",
       "\n",
       "                                                     to lang old model  \\\n",
       "mesolitica/finetune-noisy-translation-t5-tiny-b...  [ms, en]      True   \n",
       "mesolitica/finetune-noisy-translation-t5-small-...  [ms, en]      True   \n",
       "mesolitica/finetune-noisy-translation-t5-base-b...  [ms, en]      True   \n",
       "mesolitica/translation-t5-tiny-standard-bahasa-...  [en, ms]     False   \n",
       "mesolitica/translation-t5-small-standard-bahasa...  [en, ms]     False   \n",
       "mesolitica/translation-t5-base-standard-bahasa-...  [en, ms]     False   \n",
       "\n",
       "                                                   ind-ms chrF2++  \\\n",
       "mesolitica/finetune-noisy-translation-t5-tiny-b...            NaN   \n",
       "mesolitica/finetune-noisy-translation-t5-small-...            NaN   \n",
       "mesolitica/finetune-noisy-translation-t5-base-b...            NaN   \n",
       "mesolitica/translation-t5-tiny-standard-bahasa-...      43.937298   \n",
       "mesolitica/translation-t5-small-standard-bahasa...      43.937298   \n",
       "mesolitica/translation-t5-base-standard-bahasa-...      43.937298   \n",
       "\n",
       "                                                   jav-ms chrF2++  \\\n",
       "mesolitica/finetune-noisy-translation-t5-tiny-b...            NaN   \n",
       "mesolitica/finetune-noisy-translation-t5-small-...            NaN   \n",
       "mesolitica/finetune-noisy-translation-t5-base-b...            NaN   \n",
       "mesolitica/translation-t5-tiny-standard-bahasa-...      43.937298   \n",
       "mesolitica/translation-t5-small-standard-bahasa...      43.937298   \n",
       "mesolitica/translation-t5-base-standard-bahasa-...      43.937298   \n",
       "\n",
       "                                                   manglish-ms chrF2++  \\\n",
       "mesolitica/finetune-noisy-translation-t5-tiny-b...                 NaN   \n",
       "mesolitica/finetune-noisy-translation-t5-small-...                 NaN   \n",
       "mesolitica/finetune-noisy-translation-t5-base-b...                 NaN   \n",
       "mesolitica/translation-t5-tiny-standard-bahasa-...           43.937298   \n",
       "mesolitica/translation-t5-small-standard-bahasa...           43.937298   \n",
       "mesolitica/translation-t5-base-standard-bahasa-...           43.937298   \n",
       "\n",
       "                                                   manglish-en chrF2++  \n",
       "mesolitica/finetune-noisy-translation-t5-tiny-b...                 NaN  \n",
       "mesolitica/finetune-noisy-translation-t5-small-...                 NaN  \n",
       "mesolitica/finetune-noisy-translation-t5-base-b...                 NaN  \n",
       "mesolitica/translation-t5-tiny-standard-bahasa-...           43.937298  \n",
       "mesolitica/translation-t5-small-standard-bahasa...           43.937298  \n",
       "mesolitica/translation-t5-base-standard-bahasa-...           43.937298  "
      ]
     },
     "execution_count": 3,
     "metadata": {},
     "output_type": "execute_result"
    }
   ],
   "source": [
    "malaya.translation.available_huggingface()"
   ]
  },
  {
   "cell_type": "markdown",
   "metadata": {},
   "source": [
    "### Improvements of new model\n",
    "\n",
    "1. able to translate `[en, ms, ind, jav, bjn, manglish, pasar ms]` while old model only able to translate `[en, ms, pasar ms]`.\n",
    "2. No longer required `from_lang` part of the prefix.\n",
    "3. able to retain text structure as it is."
   ]
  },
  {
   "cell_type": "markdown",
   "metadata": {},
   "source": [
    "### Load Transformer models\n",
    "\n",
    "```python\n",
    "def huggingface(\n",
    "    model: str = 'mesolitica/translation-t5-small-standard-bahasa-cased',\n",
    "    force_check: bool = True,\n",
    "    from_lang: List[str] = None,\n",
    "    to_lang: List[str] = None,\n",
    "    old_model: bool = False,\n",
    "    **kwargs,\n",
    "):\n",
    "    \"\"\"\n",
    "    Load HuggingFace model to translate.\n",
    "\n",
    "    Parameters\n",
    "    ----------\n",
    "    model: str, optional (default='mesolitica/translation-t5-small-standard-bahasa-cased')\n",
    "        Check available models at `malaya.translation.available_huggingface()`.\n",
    "    force_check: bool, optional (default=True)\n",
    "        Force check model one of malaya model.\n",
    "        Set to False if you have your own huggingface model.\n",
    "\n",
    "    Returns\n",
    "    -------\n",
    "    result: malaya.torch_model.huggingface.Translation\n",
    "    \"\"\"\n",
    "```"
   ]
  },
  {
   "cell_type": "code",
   "execution_count": 4,
   "metadata": {
    "scrolled": true
   },
   "outputs": [],
   "source": [
    "model = malaya.translation.huggingface()"
   ]
  },
  {
   "cell_type": "code",
   "execution_count": 5,
   "metadata": {},
   "outputs": [],
   "source": [
    "old_model = malaya.translation.huggingface(model = 'mesolitica/finetune-noisy-translation-t5-small-bahasa-cased-v3')"
   ]
  },
  {
   "cell_type": "markdown",
   "metadata": {},
   "source": [
    "### Translate\n",
    "\n",
    "```python\n",
    "def generate(self, strings: List[str], from_lang: str = None, to_lang: str = 'ms', **kwargs):\n",
    "    \"\"\"\n",
    "    Generate texts from the input.\n",
    "\n",
    "    Parameters\n",
    "    ----------\n",
    "    strings : List[str]\n",
    "    from_lang: str, optional (default=None)\n",
    "        old model required `from_lang` parameter to make it works properly,\n",
    "        while new model not required.\n",
    "    to_lang: str, optional (default='ms')\n",
    "        target language to translate.\n",
    "    **kwargs: vector arguments pass to huggingface `generate` method.\n",
    "        Read more at https://huggingface.co/docs/transformers/main_classes/text_generation\n",
    "\n",
    "    Returns\n",
    "    -------\n",
    "    result: List[str]\n",
    "    \"\"\"\n",
    "```"
   ]
  },
  {
   "cell_type": "code",
   "execution_count": 6,
   "metadata": {},
   "outputs": [],
   "source": [
    "from pprint import pprint"
   ]
  },
  {
   "cell_type": "markdown",
   "metadata": {},
   "source": [
    "### Noisy malay"
   ]
  },
  {
   "cell_type": "code",
   "execution_count": 8,
   "metadata": {},
   "outputs": [],
   "source": [
    "strings = [\n",
    "    'ak tak paham la',\n",
    "    'Hi guys! I noticed semalam & harini dah ramai yang dapat cookies ni kan. So harini i nak share some post mortem of our first batch:',\n",
    "    \"Memanglah. Ini tak payah expert, aku pun tau. It's a gesture, bodoh.\",\n",
    "    'jam 8 di pasar KK memang org ramai 😂, pandai dia pilih tmpt.',\n",
    "    'Jadi haram jadah😀😃🤭',\n",
    "    'nak gi mana tuu',\n",
    "    'Macam nak ambil half day',\n",
    "    \"Bayangkan PH dan menang pru-14. Pastu macam-macam pintu belakang ada. Last-last Ismail Sabri naik. That's why I don't give a fk about politics anymore. Sumpah dah fk up dah.\",\n",
    "    'mesolitica boleh buat asr tak',\n",
    "]"
   ]
  },
  {
   "cell_type": "code",
   "execution_count": 9,
   "metadata": {
    "scrolled": true
   },
   "outputs": [
    {
     "name": "stdout",
     "output_type": "stream",
     "text": [
      "['Saya tidak faham',\n",
      " 'Hai kawan-kawan! Saya perasan semalam dan hari ini ramai yang menerima '\n",
      " 'biskut kan? Jadi hari ini saya ingin berkongsi beberapa post mortem batch '\n",
      " 'pertama kami:',\n",
      " 'Memang betul. Ini tidak perlu menjadi pakar, saya juga tahu. Ini adalah '\n",
      " 'isyarat, bodoh.',\n",
      " '\"Pada pukul 8 di pasar KK memang ramai orang, pandai pilih tempat.\"',\n",
      " 'Jadi haram jadah',\n",
      " 'Di mana kamu pergi?',\n",
      " 'Saya rasa nak ambil separuh hari',\n",
      " 'Bayangkan PH dan menang dalam PRU-14. Kemudian terdapat pelbagai pintu '\n",
      " 'belakang. Akhirnya, Ismail Sabri naik. Itulah sebabnya saya tidak lagi '\n",
      " 'peduli tentang politik. Saya bersumpah sudah cukup.',\n",
      " 'Bolehkah Mesolitica membuat Asr?']\n",
      "CPU times: user 58.8 s, sys: 230 ms, total: 59.1 s\n",
      "Wall time: 5.03 s\n"
     ]
    }
   ],
   "source": [
    "%%time\n",
    "\n",
    "pprint(model.generate(strings,  to_lang = 'ms', max_length = 1000))"
   ]
  },
  {
   "cell_type": "code",
   "execution_count": 10,
   "metadata": {
    "scrolled": true
   },
   "outputs": [
    {
     "name": "stdout",
     "output_type": "stream",
     "text": [
      "[\"I don't understand\",\n",
      " 'Hi guys! I noticed yesterday and today many people have received cookies, '\n",
      " 'right? So today I want to share some post mortem of our first batch:',\n",
      " \"Indeed. This doesn't need an expert, I know too. It's a gesture, stupid.\",\n",
      " \"At 8 o'clock at the KK market, there are many people, he knows how to choose \"\n",
      " 'places.',\n",
      " \"So it's forbidden jadah\",\n",
      " 'Where do you want to go?',\n",
      " \"It's like taking half a day\",\n",
      " 'Imagine PH and won the 14th general election. Then there were various '\n",
      " \"backdoors. In the end, Ismail Sabri rose. That's why I don't give a fk about \"\n",
      " \"politics anymore. I swear it's already fk up.\",\n",
      " 'Can Mesolitica do it?']\n",
      "CPU times: user 1min 45s, sys: 772 ms, total: 1min 46s\n",
      "Wall time: 9.16 s\n"
     ]
    }
   ],
   "source": [
    "%%time\n",
    "\n",
    "pprint(model.generate(strings,  to_lang = 'en', max_length = 1000))"
   ]
  },
  {
   "cell_type": "markdown",
   "metadata": {},
   "source": [
    "### Manglish"
   ]
  },
  {
   "cell_type": "code",
   "execution_count": 11,
   "metadata": {},
   "outputs": [],
   "source": [
    "strings = [\n",
    "    'i know plenty of people who snack on sambal ikan bilis.',\n",
    "    'I often visualize my own programs algorithm before implemment it.',\n",
    "    'Am I the only one who used their given name ever since I was a kid?',\n",
    "    'Gotta be wary of pimples. Oh they bleed bad when cut',\n",
    "    'Smh the dude literally has a rubbish bin infront of his house',\n",
    "    \"I think I won't be able to catch it within 1 min lol\"\n",
    "]"
   ]
  },
  {
   "cell_type": "code",
   "execution_count": 12,
   "metadata": {},
   "outputs": [
    {
     "name": "stdout",
     "output_type": "stream",
     "text": [
      "['Saya tahu ramai orang yang makan sambal ikan bilis.',\n",
      " 'Saya sering mengvisualisasikan algoritma program saya sendiri sebelum '\n",
      " 'menerapkannya.',\n",
      " 'Adakah saya satu-satunya yang menggunakan nama mereka sejak kecil?',\n",
      " 'Kena berhati-hati dengan jerawat. Oh mereka berdarah teruk apabila dipotong',\n",
      " 'Smh lelaki itu sebenarnya mempunyai tong sampah di depan rumahnya.',\n",
      " 'Saya rasa saya tidak akan dapat menangkapnya dalam masa 1 minit haha']\n",
      "CPU times: user 10.8 s, sys: 0 ns, total: 10.8 s\n",
      "Wall time: 906 ms\n"
     ]
    }
   ],
   "source": [
    "%%time\n",
    "\n",
    "pprint(model.generate(strings,  to_lang = 'ms', max_length = 1000))"
   ]
  },
  {
   "cell_type": "code",
   "execution_count": 13,
   "metadata": {},
   "outputs": [
    {
     "name": "stdout",
     "output_type": "stream",
     "text": [
      "['I know many people who snack on sambal ikan bilis.',\n",
      " 'I often visualize my own programs algorithm before implemmenting it.',\n",
      " 'Am I the only one who has used their name since I was a child?',\n",
      " 'You must be careful of pimples. Oh, they bleed badly when cut.',\n",
      " 'Oh my goodness, the man actually has a rubbish bin in front of his house.',\n",
      " \"I don't think I will be able to catch it within a minute, haha.\"]\n",
      "CPU times: user 14.8 s, sys: 3.98 ms, total: 14.8 s\n",
      "Wall time: 1.24 s\n"
     ]
    }
   ],
   "source": [
    "%%time\n",
    "\n",
    "pprint(model.generate(strings,  to_lang = 'en', max_length = 1000))"
   ]
  }
 ],
 "metadata": {
  "kernelspec": {
   "display_name": "Python 3 (ipykernel)",
   "language": "python",
   "name": "python3"
  },
  "language_info": {
   "codemirror_mode": {
    "name": "ipython",
    "version": 3
   },
   "file_extension": ".py",
   "mimetype": "text/x-python",
   "name": "python",
   "nbconvert_exporter": "python",
   "pygments_lexer": "ipython3",
   "version": "3.8.10"
  },
  "varInspector": {
   "cols": {
    "lenName": 16,
    "lenType": 16,
    "lenVar": 40
   },
   "kernels_config": {
    "python": {
     "delete_cmd_postfix": "",
     "delete_cmd_prefix": "del ",
     "library": "var_list.py",
     "varRefreshCmd": "print(var_dic_list())"
    },
    "r": {
     "delete_cmd_postfix": ") ",
     "delete_cmd_prefix": "rm(",
     "library": "var_list.r",
     "varRefreshCmd": "cat(var_dic_list()) "
    }
   },
   "types_to_exclude": [
    "module",
    "function",
    "builtin_function_or_method",
    "instance",
    "_Feature"
   ],
   "window_display": false
  }
 },
 "nbformat": 4,
 "nbformat_minor": 4
}
