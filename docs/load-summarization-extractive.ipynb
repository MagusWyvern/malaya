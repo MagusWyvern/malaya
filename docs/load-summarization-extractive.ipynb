{
 "cells": [
  {
   "cell_type": "markdown",
   "metadata": {},
   "source": [
    "# Extractive"
   ]
  },
  {
   "cell_type": "markdown",
   "metadata": {},
   "source": [
    "<div class=\"alert alert-info\">\n",
    "\n",
    "This tutorial is available as an IPython notebook at [Malaya/example/extractive-summarization](https://github.com/huseinzol05/Malaya/tree/master/example/extractive-summarization).\n",
    "    \n",
    "</div>"
   ]
  },
  {
   "cell_type": "code",
   "execution_count": 1,
   "metadata": {},
   "outputs": [
    {
     "name": "stdout",
     "output_type": "stream",
     "text": [
      "CPU times: user 2.9 s, sys: 3.49 s, total: 6.39 s\n",
      "Wall time: 2.2 s\n"
     ]
    },
    {
     "name": "stderr",
     "output_type": "stream",
     "text": [
      "/home/husein/dev/malaya/malaya/tokenizer.py:214: FutureWarning: Possible nested set at position 3397\n",
      "  self.tok = re.compile(r'({})'.format('|'.join(pipeline)))\n",
      "/home/husein/dev/malaya/malaya/tokenizer.py:214: FutureWarning: Possible nested set at position 3927\n",
      "  self.tok = re.compile(r'({})'.format('|'.join(pipeline)))\n"
     ]
    }
   ],
   "source": [
    "%%time\n",
    "import malaya\n",
    "from pprint import pprint"
   ]
  },
  {
   "cell_type": "code",
   "execution_count": 7,
   "metadata": {},
   "outputs": [],
   "source": [
    "isu_kerajaan = [\n",
    "    'Kenyataan kontroversi Setiausaha Agung Barisan Nasional (BN), Datuk Seri Mohamed Nazri Aziz berhubung sekolah vernakular merupakan pandangan peribadi beliau',\n",
    "    'Timbalan Presiden UMNO, Datuk Seri Mohamad Hasan berkata, kenyataan tersebut tidak mewakili pendirian serta pandangan UMNO \\n\\nkerana parti itu menghormati serta memahami keperluan sekolah vernakular dalam negara',\n",
    "    '\"Saya ingin menegaskan dua perkara penting',\n",
    "    'Pertama pendirian beliau tersebut adalah pandangan peribadi yang tidak mewakili pendirian dan pandangan UMNO',\n",
    "    '\"Kedua UMNO sebagai sebuah parti sangat menghormati dan memahami keperluan sekolah vernakular di Malaysia',\n",
    "    'UMNO berpendirian sekolah jenis ini perlu terus wujud di negara kita,\" katanya dalam satu kenyataan akhbar malam ini',\n",
    "    'Mohamed Nazri semalam menjelaskan, kenyataannya mengenai sekolah jenis kebangsaan Cina dan Tamil baru-baru ini disalah petik pihak media',\n",
    "    'Kata Nazri dalam kenyataannya itu, beliau menekankan bahawa semua pihak perlu menghormati hak orang Melayu dan bumiputera',\n",
    "    'Mohamad yang menjalankan tugas-tugas Presiden UMNO berkata, UMNO konsisten dengan pendirian itu dalam mengiktiraf kepelbagaian bangsa dan etnik termasuk hak untuk beragama serta mendapat pendidikan',\n",
    "    'Menurut beliau, persefahaman dan keupayaan meraikan kepelbagaian itu menjadi kelebihan dan kekuatan UMNO dan BN selama ini',\n",
    "    'Kata beliau, komitmen UMNO dan BN berhubung perkara itu dapat dilihat dengan jelas dalam bentuk sokongan infrastruktur, pengiktirafan dan pemberian peruntukan yang diperlukan',\n",
    "    '\"Saya berharap isu ini tidak dipolitikkan secara tidak bertanggungjawab oleh mana-mana pihak terutama dengan cara yang tidak menggambarkan pendirian sebenar UMNO dan BN,\" katanya',\n",
    "    'Beliau turut menegaskan Mohamed Nazri telah mengambil pertanggungjawaban dengan membuat penjelasan maksud sebenarnya ucapanny di Semenyih, Selangor tersebut',\n",
    "]"
   ]
  },
  {
   "cell_type": "code",
   "execution_count": 8,
   "metadata": {},
   "outputs": [],
   "source": [
    "isu_string = '\\n\\n\\n\\nDUA legenda hebat dan ‘The living legend’ ini sudah memartabatkan bidang muzik sejak lebih tiga dekad lalu. Jika Datuk Zainal Abidin, 59, dikenali sebagai penyanyi yang memperjuangkan konsep ‘world music’, Datuk Sheila Majid, 55, pula lebih dikenali dengan irama jazz dan R&B.\\n\\nNamun, ada satu persamaan yang mengeratkan hubungan mereka kerana sama-sama mencintai bidang muzik sejak dulu.\\n\\nKetika ditemui dalam sesi fotografi yang diatur di Balai Berita, baru-baru ini, Zainal berkata, dia lebih ‘senior’ daripada Sheila kerana bermula dengan kumpulan Headwind sebelum menempa nama sebagai penyanyi solo.\\n\\n“Saya mula berkawan rapat dengan Sheila ketika sama-sama bernaung di bawah pengurusan Roslan Aziz Productions (RAP) selepas membina karier sebagai artis solo.\\n\\n“Namun, selepas tidak lagi bernaung di bawah RAP, kami juga membawa haluan karier seni masing-masing selepas itu,” katanya.\\n\\nJusteru katanya, dia memang menanti peluang berganding dengan Sheila dalam satu konsert.\\n\\nPenyanyi yang popular dengan lagu Hijau dan Ikhlas Tapi Jauh itu mengakui mereka memang ada keserasian ketika bergandingan kerana membesar pada era muzik yang sama.\\n\\n“Kami memang meminati bidang muzik dan saling memahami antara satu sama lain. Mungkin kerana kami berdua sudah berada pada tahap di puncak karier muzik masing-masing.\\n\\n“Saya bersama Sheila serta Datuk Afdlin Shauki akan terbabit dalam satu segmen yang ditetapkan.\\n\\n“Selain persembahan solo, saya juga berduet dengan Sheila dan Afdlin dalam segmen interaktif ini. Setiap penyanyi akan menyampaikan enam hingga tujuh lagu setiap seorang sepanjang konsert yang berlangsung tiga hari ini,” katanya.\\n\\nBagi Sheila pula, dia memang ada terbabit dengan beberapa persembahan bersama Zainal cuma tiada publisiti ketika itu.\\n\\n“Kami pernah terbabit dengan showcase dan majlis korporat sebelum ini. Selain itu, Zainal juga terbabit dengan Konsert Legenda yang membabitkan jelajah empat lokasi sebelum ini.\\n\\n“Sebab itu, saya sukar menolak untuk bekerjasama dengannya dalam Festival KL Jamm yang dianjurkan buat julung kali dan berkongsi pentas dalam satu konsert bertaraf antarabangsa,” katanya.\\n\\n\\n\\nFESTIVAL KL Jamm bakal menggabungkan pelbagai genre muzik seperti rock, hip hop, jazz dan pop dengan lebih 100 persembahan, 20 ‘showcase’ dan pameran.\\n\\nKonsert berbayar\\n\\n\\n\\nMewakili golongan anak seni, Sheila menaruh harapan semoga Festival KL Jamm akan menjadi platform buat artis yang sudah ada nama dan artis muda untuk membuat persembahan, sekali gus sama-sama memartabatkan industri muzik tempatan.\\n\\nMenurut Sheila, dia juga mencadangkan lebih banyak tempat diwujudkan untuk menggalakkan artis muda membuat persembahan, sekali gus menggilap bakat mereka.\\n\\n“Berbanding pada zaman saya dulu, artis muda sekarang tidak banyak tempat khusus untuk mereka menyanyi dan menonjolkan bakat di tempat awam.\\n\\n“Rata-rata hanya sekadar menyanyi di laman Instagram dan cuma dikenali menerusi satu lagu. Justeru, bagaimana mereka mahu buat showcase kalau hanya dikenali dengan satu lagu?” katanya.\\n\\nPada masa sama, Sheila juga merayu peminat tempatan untuk sama-sama memberi sokongan pada penganjuran festival KL Jamm sekali gus mencapai objektifnya.\\n\\n“Peminat perlu ubah persepsi negatif mereka dengan menganggap persembahan artis tempatan tidak bagus.\\n\\n“Kemasukan artis luar juga perlu dilihat dari sudut yang positif kerana kita perlu belajar bagaimana untuk menjadi bagus seperti mereka,” katanya.\\n\\nSementara itu, Zainal pula berharap festival itu akan mendidik orang ramai untuk menonton konsert berbayar serta memberi sokongan pada artis tempatan.\\n\\n“Ramai yang hanya meminati artis tempatan tetapi tidak mahu mengeluarkan sedikit wang untuk membeli tiket konsert mereka.\\n\\n“Sedangkan artis juga menyanyi untuk kerjaya dan ia juga punca pendapatan bagi menyara hidup,” katanya.\\n\\nFestival KL Jamm bakal menghimpunkan barisan artis tempatan baru dan nama besar dalam konsert iaitu Datuk Ramli Sarip, Datuk Afdlin Shauki, Zamani, Amelina, Radhi OAG, Dr Burn, Santesh, Rabbit Mac, Sheezy, kumpulan Bunkface, Ruffedge, Pot Innuendo, artis dari Kartel (Joe Flizzow, Sona One, Ila Damia, Yung Raja, Faris Jabba dan Abu Bakarxli) dan Malaysia Pasangge (artis India tempatan).\\n\\nManakala, artis antarabangsa pula membabitkan J Arie (Hong Kong), NCT Dream (Korea Selatan) dan DJ Sura (Korea Selatan).\\n\\nKL Jamm dianjurkan Music Unlimited International Sdn Bhd dan bakal menggabungkan pelbagai genre muzik seperti rock, hip hop, jazz dan pop dengan lebih 100 persembahan, 20 ‘showcase’, pameran dan perdagangan berkaitan.\\n\\nFestival tiga hari itu bakal berlangsung di Pusat Pameran dan Perdagangan Antarabangsa Malaysia (MITEC), Kuala Lumpur pada 26 hingga 28 April ini.\\n\\nMaklumat mengenai pembelian tiket dan keterangan lanjut boleh melayari www.kljamm.com.'"
   ]
  },
  {
   "cell_type": "markdown",
   "metadata": {},
   "source": [
    "### Load scikit-learn Interface\n",
    "\n",
    "Load decomposition and text vectorizer module from sklearn,\n",
    "\n",
    "```python\n",
    "def sklearn(model, vectorizer):\n",
    "    \"\"\"\n",
    "    sklearn interface for summarization.\n",
    "\n",
    "    Parameters\n",
    "    ----------\n",
    "    model : object\n",
    "        Should have `fit_transform` method. Commonly:\n",
    "\n",
    "        * ``sklearn.decomposition.TruncatedSVD`` - LSA algorithm.\n",
    "        * ``sklearn.decomposition.LatentDirichletAllocation`` - LDA algorithm.\n",
    "    vectorizer : object\n",
    "        Should have `fit_transform` method. Commonly:\n",
    "\n",
    "        * ``sklearn.feature_extraction.text.TfidfVectorizer`` - TFIDF algorithm.\n",
    "        * ``sklearn.feature_extraction.text.CountVectorizer`` - Bag-of-Word algorithm.\n",
    "        * ``malaya.text.vectorizer.SkipGramCountVectorizer`` - Skip Gram Bag-of-Word algorithm.\n",
    "        * ``malaya.text.vectorizer.SkipGramTfidfVectorizer`` - Skip Gram TFIDF algorithm.\n",
    "\n",
    "    Returns\n",
    "    -------\n",
    "    result: malaya.model.extractive_summarization.SKLearn\n",
    "    \"\"\"\n",
    "```"
   ]
  },
  {
   "cell_type": "code",
   "execution_count": 2,
   "metadata": {},
   "outputs": [],
   "source": [
    "from sklearn.feature_extraction.text import TfidfVectorizer, CountVectorizer\n",
    "from malaya.text.vectorizer import SkipGramCountVectorizer, SkipGramTfidfVectorizer\n",
    "from sklearn.decomposition import TruncatedSVD, LatentDirichletAllocation\n",
    "\n",
    "stopwords = malaya.text.function.get_stopwords()"
   ]
  },
  {
   "cell_type": "code",
   "execution_count": 3,
   "metadata": {},
   "outputs": [],
   "source": [
    "vectorizer = SkipGramCountVectorizer(\n",
    "    max_df = 0.95,\n",
    "    min_df = 1,\n",
    "    ngram_range = (1, 3),\n",
    "    stop_words = stopwords,\n",
    "    skip = 2\n",
    ")"
   ]
  },
  {
   "cell_type": "code",
   "execution_count": 4,
   "metadata": {},
   "outputs": [],
   "source": [
    "svd = TruncatedSVD(n_components = 30)"
   ]
  },
  {
   "cell_type": "code",
   "execution_count": 5,
   "metadata": {},
   "outputs": [],
   "source": [
    "model = malaya.summarization.extractive.sklearn(svd, vectorizer)"
   ]
  },
  {
   "cell_type": "markdown",
   "metadata": {},
   "source": [
    "#### Sentence level\n",
    "\n",
    "This will predict scores for each sentences,\n",
    "\n",
    "```python\n",
    "def sentence_level(\n",
    "    self,\n",
    "    corpus,\n",
    "    isi_penting: str = None,\n",
    "    top_k: int = 3,\n",
    "    important_words: int = 10,\n",
    "    **kwargs\n",
    "):\n",
    "    \"\"\"\n",
    "    Summarize list of strings / string on sentence level.\n",
    "\n",
    "    Parameters\n",
    "    ----------\n",
    "    corpus: str / List[str]\n",
    "    isi_penting: str, optional (default=None)\n",
    "        if not None, will put priority based on `isi_penting`.\n",
    "    top_k: int, (default=3)\n",
    "        number of summarized strings.\n",
    "    important_words: int, (default=10)\n",
    "        number of important words.\n",
    "\n",
    "    Returns\n",
    "    -------\n",
    "    dict: {'summary', 'top-words', 'cluster-top-words', 'score'}\n",
    "    \"\"\"\n",
    "```"
   ]
  },
  {
   "cell_type": "code",
   "execution_count": 9,
   "metadata": {},
   "outputs": [
    {
     "data": {
      "text/plain": [
       "dict_keys(['summary', 'top-words', 'cluster-top-words', 'score'])"
      ]
     },
     "execution_count": 9,
     "metadata": {},
     "output_type": "execute_result"
    }
   ],
   "source": [
    "r = model.sentence_level(isu_kerajaan)\n",
    "r.keys()"
   ]
  },
  {
   "cell_type": "code",
   "execution_count": 10,
   "metadata": {},
   "outputs": [
    {
     "name": "stdout",
     "output_type": "stream",
     "text": [
      "('\"Kedua UMNO sebagai sebuah parti sangat menghormati dan memahami keperluan '\n",
      " 'sekolah vernakular di Malaysia. kerana parti itu menghormati serta memahami '\n",
      " 'keperluan sekolah vernakular dalam negara. Timbalan Presiden UMNO, Datuk '\n",
      " 'Seri Mohamad Hasan berkata, kenyataan tersebut tidak mewakili pendirian '\n",
      " 'serta pandangan UMNO .')\n"
     ]
    }
   ],
   "source": [
    "pprint(r['summary'])"
   ]
  },
  {
   "cell_type": "code",
   "execution_count": 11,
   "metadata": {
    "scrolled": true
   },
   "outputs": [
    {
     "data": {
      "text/plain": [
       "['vernakular',\n",
       " 'sekolah',\n",
       " 'menghormati',\n",
       " 'tugas presiden umno',\n",
       " 'nazri',\n",
       " 'pendirian pandangan',\n",
       " 'tugas umno']"
      ]
     },
     "execution_count": 11,
     "metadata": {},
     "output_type": "execute_result"
    }
   ],
   "source": [
    "r['cluster-top-words']"
   ]
  },
  {
   "cell_type": "code",
   "execution_count": 12,
   "metadata": {},
   "outputs": [
    {
     "data": {
      "text/plain": [
       "[('Kenyataan', 0.07025717383217375),\n",
       " ('kontroversi', 0.07025717383217375),\n",
       " ('Setiausaha', 0.07025717383217375),\n",
       " ('Agung', 0.07025717383217375),\n",
       " ('Barisan', 0.07025717383217375),\n",
       " ('Nasional', 0.07025717383217375),\n",
       " ('(BN),', 0.07025717383217375),\n",
       " ('Datuk', 0.07025717383217375),\n",
       " ('Seri', 0.07025717383217375),\n",
       " ('Mohamed', 0.07025717383217375),\n",
       " ('Nazri', 0.07025717383217375),\n",
       " ('Aziz', 0.07025717383217375),\n",
       " ('berhubung', 0.07025717383217375),\n",
       " ('sekolah', 0.07025717383217375),\n",
       " ('vernakular', 0.07025717383217375),\n",
       " ('merupakan', 0.07025717383217375),\n",
       " ('pandangan', 0.07025717383217375),\n",
       " ('peribadi', 0.07025717383217375),\n",
       " ('beliau.', 0.07025717383217375),\n",
       " ('Timbalan', 0.11720421338582321)]"
      ]
     },
     "execution_count": 12,
     "metadata": {},
     "output_type": "execute_result"
    }
   ],
   "source": [
    "r['score'][:20]"
   ]
  },
  {
   "cell_type": "code",
   "execution_count": 13,
   "metadata": {},
   "outputs": [
    {
     "name": "stdout",
     "output_type": "stream",
     "text": [
      "('Beliau turut menegaskan Mohamed Nazri telah mengambil pertanggungjawaban '\n",
      " 'dengan membuat penjelasan maksud sebenarnya ucapanny di Semenyih, Selangor '\n",
      " 'tersebut. Kata Nazri dalam kenyataannya itu, beliau menekankan bahawa semua '\n",
      " 'pihak perlu menghormati hak orang Melayu dan bumiputera. Mohamed Nazri '\n",
      " 'semalam menjelaskan, kenyataannya mengenai sekolah jenis kebangsaan Cina dan '\n",
      " 'Tamil baru-baru ini disalah petik pihak media.')\n"
     ]
    }
   ],
   "source": [
    "r = model.sentence_level(isu_kerajaan, isi_penting = 'Mohamed Nazri')\n",
    "pprint(r['summary'])"
   ]
  },
  {
   "cell_type": "markdown",
   "metadata": {},
   "source": [
    "#### Word level\n",
    "\n",
    "This will predict scores for each words. This interface will not returned a summary, just score for each words.\n",
    "\n",
    "```python\n",
    "def word_level(\n",
    "    self,\n",
    "    corpus,\n",
    "    isi_penting: str = None,\n",
    "    window_size: int = 10,\n",
    "    important_words: int = 10,\n",
    "    **kwargs\n",
    "):\n",
    "    \"\"\"\n",
    "    Summarize list of strings / string on word level.\n",
    "\n",
    "    Parameters\n",
    "    ----------\n",
    "    corpus: str / List[str]\n",
    "    isi_penting: str, optional (default=None)\n",
    "        if not None, will put priority based on `isi_penting`.\n",
    "    window_size: int, (default=10)\n",
    "        window size for each word.\n",
    "    important_words: int, (default=10)\n",
    "        number of important words.\n",
    "\n",
    "    Returns\n",
    "    -------\n",
    "    dict: {'top-words', 'cluster-top-words', 'score'}\n",
    "    \"\"\"\n",
    "```"
   ]
  },
  {
   "cell_type": "code",
   "execution_count": 14,
   "metadata": {},
   "outputs": [
    {
     "data": {
      "text/plain": [
       "dict_keys(['top-words', 'cluster-top-words', 'score'])"
      ]
     },
     "execution_count": 14,
     "metadata": {},
     "output_type": "execute_result"
    }
   ],
   "source": [
    "r = model.word_level(isu_kerajaan, isi_penting = 'Mohamed Nazri')\n",
    "r.keys()"
   ]
  },
  {
   "cell_type": "code",
   "execution_count": 15,
   "metadata": {
    "scrolled": false
   },
   "outputs": [
    {
     "data": {
      "text/plain": [
       "[('Kenyataan', 0.16990095431142327),\n",
       " ('kontroversi', 0.2118236238039983),\n",
       " ('Setiausaha', 0.291174928847115),\n",
       " ('Agung', 0.33055057214689637),\n",
       " ('Barisan', 0.37712871466559167),\n",
       " ('Nasional', 0.4266490321186208),\n",
       " ('(BN),', 0.4422686993195534),\n",
       " ('Datuk', 0.4422686993195534),\n",
       " ('Seri', 0.44064192229838967),\n",
       " ('Mohamed', 0.4264383132779231),\n",
       " ('Nazri', 0.4264383132779231),\n",
       " ('Aziz', 0.4059375599572666),\n",
       " ('berhubung', 0.3779974100260265),\n",
       " ('sekolah', 0.3640361219263474),\n",
       " ('vernakular', 0.36379170733593896),\n",
       " ('merupakan', 0.3646002345105802),\n",
       " ('pandangan', 0.3488840965948626),\n",
       " ('peribadi', 0.33318330902974186),\n",
       " ('beliau.', 0.33318330902974186),\n",
       " ('Timbalan', 0.31646485151985304)]"
      ]
     },
     "execution_count": 15,
     "metadata": {},
     "output_type": "execute_result"
    }
   ],
   "source": [
    "r['score'][:20]"
   ]
  },
  {
   "cell_type": "markdown",
   "metadata": {},
   "source": [
    "### Load Encoder summarization\n",
    "\n",
    "We leverage the power of deep encoder models like skip-thought or Transformer to do extractive summarization for us.\n",
    "\n",
    "```python\n",
    "def encoder(vectorizer):\n",
    "    \"\"\"\n",
    "    Encoder interface for summarization.\n",
    "\n",
    "    Parameters\n",
    "    ----------\n",
    "    vectorizer : object\n",
    "        encoder interface object, eg, BERT, skip-thought, XLNET, ALBERT, ALXLNET.\n",
    "        should have `vectorize` method.\n",
    "\n",
    "    Returns\n",
    "    -------\n",
    "    result: malaya.model.extractive_summarization.Encoder\n",
    "    \"\"\"\n",
    "```"
   ]
  },
  {
   "cell_type": "code",
   "execution_count": 17,
   "metadata": {},
   "outputs": [],
   "source": [
    "encoder = malaya.transformer.huggingface(model = 'mesolitica/electra-base-generator-bahasa-cased')"
   ]
  },
  {
   "cell_type": "code",
   "execution_count": 18,
   "metadata": {},
   "outputs": [],
   "source": [
    "encoder = malaya.summarization.extractive.encoder(encoder)"
   ]
  },
  {
   "cell_type": "markdown",
   "metadata": {},
   "source": [
    "#### Sentence level\n",
    "\n",
    "This will predict scores for each sentences,\n",
    "\n",
    "```python\n",
    "def sentence_level(\n",
    "    self,\n",
    "    corpus,\n",
    "    isi_penting: str = None,\n",
    "    top_k: int = 3,\n",
    "    important_words: int = 10,\n",
    "    batch_size: int = 16,\n",
    "    **kwargs\n",
    "):\n",
    "    \"\"\"\n",
    "    Summarize list of strings / string on sentence level.\n",
    "\n",
    "    Parameters\n",
    "    ----------\n",
    "    corpus: str / List[str]\n",
    "    isi_penting: str, optional (default=None)\n",
    "        if not None, will put priority based on `isi_penting`.\n",
    "    top_k: int, (default=3)\n",
    "        number of summarized strings.\n",
    "    important_words: int, (default=10)\n",
    "        number of important words.\n",
    "    batch_size: int, (default=16)\n",
    "        for each feed-forward, we only feed N size of texts for each batch.\n",
    "        This to prevent OOM.\n",
    "\n",
    "    Returns\n",
    "    -------\n",
    "    dict: {'summary', 'top-words', 'cluster-top-words', 'score'}\n",
    "    \"\"\"\n",
    "```"
   ]
  },
  {
   "cell_type": "code",
   "execution_count": 19,
   "metadata": {
    "scrolled": true
   },
   "outputs": [
    {
     "name": "stderr",
     "output_type": "stream",
     "text": [
      "You're using a ElectraTokenizerFast tokenizer. Please note that with a fast tokenizer, using the `__call__` method is faster than using a method to encode the text followed by a call to the `pad` method to get a padded encoding.\n"
     ]
    },
    {
     "name": "stdout",
     "output_type": "stream",
     "text": [
      "('\"Sebab itu, saya sukar menolak untuk bekerjasama dengannya dalam Festival KL '\n",
      " 'Jamm yang dianjurkan buat julung kali dan berkongsi pentas dalam satu '\n",
      " 'konsert bertaraf antarabangsa,\" katanya. Penyanyi yang popular dengan lagu '\n",
      " 'Hijau dan Ikhlas Tapi Jauh itu mengakui mereka memang ada keserasian ketika '\n",
      " 'bergandingan kerana membesar pada era muzik yang sama. Menurut Sheila, dia '\n",
      " 'juga mencadangkan lebih banyak tempat diwujudkan untuk menggalakkan artis '\n",
      " 'muda membuat persembahan, sekali gus menggilap bakat mereka.')\n",
      "CPU times: user 11.7 s, sys: 1.11 s, total: 12.8 s\n",
      "Wall time: 1.25 s\n"
     ]
    }
   ],
   "source": [
    "%%time\n",
    "\n",
    "r = encoder.sentence_level(isu_string, isi_penting = 'antarabangsa')\n",
    "pprint(r['summary'])"
   ]
  },
  {
   "cell_type": "markdown",
   "metadata": {},
   "source": [
    "#### Word level\n",
    "\n",
    "This will predict scores for each words. This interface will not returned a summary, just score for each words.\n",
    "\n",
    "```python\n",
    "def word_level(\n",
    "    self,\n",
    "    corpus,\n",
    "    isi_penting: str = None,\n",
    "    window_size: int = 10,\n",
    "    important_words: int = 10,\n",
    "    batch_size: int = 16,\n",
    "    **kwargs\n",
    "):\n",
    "    \"\"\"\n",
    "    Summarize list of strings / string on word level.\n",
    "\n",
    "    Parameters\n",
    "    ----------\n",
    "    corpus: str / List[str]\n",
    "    isi_penting: str, optional (default=None)\n",
    "        if not None, will put priority based on `isi_penting`.\n",
    "    window_size: int, (default=10)\n",
    "        window size for each word.\n",
    "    important_words: int, (default=10)\n",
    "        number of important words.\n",
    "    batch_size: int, (default=16)\n",
    "        for each feed-forward, we only feed N size of texts for each batch.\n",
    "        This to prevent OOM.\n",
    "\n",
    "    Returns\n",
    "    -------\n",
    "    dict: {'summary', 'top-words', 'cluster-top-words', 'score'}\n",
    "    \"\"\"\n",
    "```"
   ]
  },
  {
   "cell_type": "code",
   "execution_count": null,
   "metadata": {},
   "outputs": [],
   "source": [
    "%%time\n",
    "\n",
    "r = encoder.word_level(isu_string)\n",
    "r['score'][:20]"
   ]
  }
 ],
 "metadata": {
  "kernelspec": {
   "display_name": "Python 3 (ipykernel)",
   "language": "python",
   "name": "python3"
  },
  "language_info": {
   "codemirror_mode": {
    "name": "ipython",
    "version": 3
   },
   "file_extension": ".py",
   "mimetype": "text/x-python",
   "name": "python",
   "nbconvert_exporter": "python",
   "pygments_lexer": "ipython3",
   "version": "3.8.10"
  }
 },
 "nbformat": 4,
 "nbformat_minor": 2
}
