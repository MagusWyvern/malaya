{
 "cells": [
  {
   "cell_type": "code",
   "execution_count": 1,
   "metadata": {},
   "outputs": [],
   "source": [
    "import fasttext"
   ]
  },
  {
   "cell_type": "code",
   "execution_count": null,
   "metadata": {},
   "outputs": [],
   "source": [
    "model = fasttext.train_supervised('shuf-train-fasttext.txt', autotuneValidationFile='shuf-test-fasttext.txt')"
   ]
  },
  {
   "cell_type": "code",
   "execution_count": null,
   "metadata": {},
   "outputs": [],
   "source": [
    "model.save_model(\"model-auto.bin\")"
   ]
  },
  {
   "cell_type": "code",
   "execution_count": 2,
   "metadata": {},
   "outputs": [
    {
     "name": "stderr",
     "output_type": "stream",
     "text": [
      "Warning : `load_model` does not return WordVectorModel or SupervisedModel any more, but a `FastText` object which is very similar.\n"
     ]
    }
   ],
   "source": [
    "model = fasttext.load_model('model-auto.bin')"
   ]
  },
  {
   "cell_type": "code",
   "execution_count": 3,
   "metadata": {},
   "outputs": [
    {
     "data": {
      "text/plain": [
       "2058643"
      ]
     },
     "execution_count": 3,
     "metadata": {},
     "output_type": "execute_result"
    }
   ],
   "source": [
    "cutoff = int(len(model.get_words()) * 0.2)\n",
    "cutoff"
   ]
  },
  {
   "cell_type": "code",
   "execution_count": 4,
   "metadata": {},
   "outputs": [
    {
     "name": "stdout",
     "output_type": "stream",
     "text": [
      "CPU times: user 40 µs, sys: 11 µs, total: 51 µs\n",
      "Wall time: 52 µs\n"
     ]
    },
    {
     "data": {
      "text/plain": [
       "(('__label__local-malay',\n",
       "  '__label__socialmedia-indonesian',\n",
       "  '__label__standard-malay'),\n",
       " array([9.98880684e-01, 1.13934174e-03, 1.00162479e-05]))"
      ]
     },
     "execution_count": 4,
     "metadata": {},
     "output_type": "execute_result"
    }
   ],
   "source": [
    "%%time\n",
    "model.predict(\"bodo siak\", k = 3)"
   ]
  },
  {
   "cell_type": "code",
   "execution_count": 5,
   "metadata": {},
   "outputs": [
    {
     "name": "stdout",
     "output_type": "stream",
     "text": [
      "CPU times: user 23 µs, sys: 7 µs, total: 30 µs\n",
      "Wall time: 30.5 µs\n"
     ]
    },
    {
     "data": {
      "text/plain": [
       "(('__label__local-malay',\n",
       "  '__label__socialmedia-indonesian',\n",
       "  '__label__standard-malay'),\n",
       " array([9.91834462e-01, 8.05420242e-03, 1.41363518e-04]))"
      ]
     },
     "execution_count": 5,
     "metadata": {},
     "output_type": "execute_result"
    }
   ],
   "source": [
    "%%time\n",
    "model.predict(\"nggak ada\", k = 3)"
   ]
  },
  {
   "cell_type": "code",
   "execution_count": 6,
   "metadata": {},
   "outputs": [
    {
     "name": "stdout",
     "output_type": "stream",
     "text": [
      "CPU times: user 66 µs, sys: 0 ns, total: 66 µs\n",
      "Wall time: 67.9 µs\n"
     ]
    },
    {
     "data": {
      "text/plain": [
       "(('__label__socialmedia-indonesian', '__label__local-malay', '__label__other'),\n",
       " array([9.99966621e-01, 5.08740777e-05, 1.23692171e-05]))"
      ]
     },
     "execution_count": 6,
     "metadata": {},
     "output_type": "execute_result"
    }
   ],
   "source": [
    "%%time\n",
    "model.predict(\"rada ketuaan kalo umur masih pas lebih bagus lg aishwarya\", k = 3)"
   ]
  },
  {
   "cell_type": "code",
   "execution_count": null,
   "metadata": {},
   "outputs": [],
   "source": [
    "!head -n 2 filter-twitter-malay-rojak-id.jsonl.dedup"
   ]
  },
  {
   "cell_type": "code",
   "execution_count": 7,
   "metadata": {},
   "outputs": [],
   "source": [
    "model.quantize(input='shuf-train-fasttext.txt', qnorm=True, cutoff = cutoff)"
   ]
  },
  {
   "cell_type": "code",
   "execution_count": 8,
   "metadata": {},
   "outputs": [],
   "source": [
    "model.save_model(\"model-auto.ftz\")"
   ]
  },
  {
   "cell_type": "code",
   "execution_count": 13,
   "metadata": {},
   "outputs": [
    {
     "data": {
      "text/plain": [
       "['__class__',\n",
       " '__contains__',\n",
       " '__delattr__',\n",
       " '__dict__',\n",
       " '__dir__',\n",
       " '__doc__',\n",
       " '__eq__',\n",
       " '__format__',\n",
       " '__ge__',\n",
       " '__getattribute__',\n",
       " '__getitem__',\n",
       " '__gt__',\n",
       " '__hash__',\n",
       " '__init__',\n",
       " '__init_subclass__',\n",
       " '__le__',\n",
       " '__lt__',\n",
       " '__module__',\n",
       " '__ne__',\n",
       " '__new__',\n",
       " '__reduce__',\n",
       " '__reduce_ex__',\n",
       " '__repr__',\n",
       " '__setattr__',\n",
       " '__sizeof__',\n",
       " '__str__',\n",
       " '__subclasshook__',\n",
       " '__weakref__',\n",
       " '_labels',\n",
       " '_words',\n",
       " 'f',\n",
       " 'get_analogies',\n",
       " 'get_dimension',\n",
       " 'get_input_matrix',\n",
       " 'get_input_vector',\n",
       " 'get_label_id',\n",
       " 'get_labels',\n",
       " 'get_line',\n",
       " 'get_meter',\n",
       " 'get_nearest_neighbors',\n",
       " 'get_output_matrix',\n",
       " 'get_sentence_vector',\n",
       " 'get_subword_id',\n",
       " 'get_subwords',\n",
       " 'get_word_id',\n",
       " 'get_word_vector',\n",
       " 'get_words',\n",
       " 'is_quantized',\n",
       " 'labels',\n",
       " 'predict',\n",
       " 'quantize',\n",
       " 'save_model',\n",
       " 'set_args',\n",
       " 'set_matrices',\n",
       " 'test',\n",
       " 'test_label',\n",
       " 'words']"
      ]
     },
     "execution_count": 13,
     "metadata": {},
     "output_type": "execute_result"
    }
   ],
   "source": [
    "dir(model)"
   ]
  },
  {
   "cell_type": "code",
   "execution_count": 17,
   "metadata": {},
   "outputs": [
    {
     "data": {
      "text/plain": [
       "(101,)"
      ]
     },
     "execution_count": 17,
     "metadata": {},
     "output_type": "execute_result"
    }
   ],
   "source": [
    "model.get_word_vector('a').shape"
   ]
  },
  {
   "cell_type": "code",
   "execution_count": 18,
   "metadata": {},
   "outputs": [],
   "source": [
    "!cp model-auto.bin ~/ssd3/fasttext-language-detection-auto/fasttext.bin"
   ]
  },
  {
   "cell_type": "code",
   "execution_count": 19,
   "metadata": {},
   "outputs": [],
   "source": [
    "!cp model-auto.ftz ~/ssd3/fasttext-language-detection-auto/fasttext.ftz"
   ]
  }
 ],
 "metadata": {
  "kernelspec": {
   "display_name": "Python 3 (ipykernel)",
   "language": "python",
   "name": "python3"
  },
  "language_info": {
   "codemirror_mode": {
    "name": "ipython",
    "version": 3
   },
   "file_extension": ".py",
   "mimetype": "text/x-python",
   "name": "python",
   "nbconvert_exporter": "python",
   "pygments_lexer": "ipython3",
   "version": "3.8.10"
  }
 },
 "nbformat": 4,
 "nbformat_minor": 4
}
