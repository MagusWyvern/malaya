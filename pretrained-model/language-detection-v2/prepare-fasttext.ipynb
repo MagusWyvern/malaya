{
 "cells": [
  {
   "cell_type": "code",
   "execution_count": 1,
   "metadata": {
    "scrolled": true
   },
   "outputs": [
    {
     "name": "stdout",
     "output_type": "stream",
     "text": [
      "chinese-standard.jsonl.dedup\r\n",
      "filter-malay-rojak-en.jsonl.dedup\r\n",
      "filter-malay-rojak-ms.jsonl.dedup\r\n",
      "filter-malay-rojak-rojak.jsonl.dedup\r\n",
      "filter-twitter-id.jsonl.dedup\r\n",
      "filter-twitter-malay-rojak-id.jsonl.dedup\r\n",
      "filter-twitter-malay-rojak-ms.jsonl.dedup\r\n",
      "filter-twitter-malay-rojak-rojak.jsonl.dedup\r\n",
      "local-mandarin.jsonl.dedup\r\n",
      "others.jsonl.dedup\r\n",
      "prepare-english-en.jsonl.dedup\r\n",
      "prepare-english-ms.jsonl.dedup\r\n",
      "prepare-indon.jsonl.dedup\r\n",
      "prepare-indon-standard.jsonl.dedup\r\n",
      "prepare-malay-ms.jsonl.dedup\r\n",
      "prepare-manglish-en.jsonl.dedup\r\n",
      "prepare-manglish-manglish.jsonl.dedup\r\n",
      "prepare-standard-mandarin.jsonl.dedup\r\n",
      "standard-mandarin.jsonl.dedup\r\n"
     ]
    }
   ],
   "source": [
    "!ls *.dedup"
   ]
  },
  {
   "cell_type": "code",
   "execution_count": 2,
   "metadata": {},
   "outputs": [],
   "source": [
    "import json\n",
    "import random\n",
    "from tqdm import tqdm"
   ]
  },
  {
   "cell_type": "code",
   "execution_count": 3,
   "metadata": {},
   "outputs": [],
   "source": [
    "train = open('train-fasttext.txt', 'w')\n",
    "test = open('test-fasttext.txt', 'w')"
   ]
  },
  {
   "cell_type": "code",
   "execution_count": 4,
   "metadata": {},
   "outputs": [],
   "source": [
    "standard_english = [\n",
    "    'prepare-english-en.jsonl.dedup'\n",
    "]"
   ]
  },
  {
   "cell_type": "code",
   "execution_count": 5,
   "metadata": {},
   "outputs": [
    {
     "name": "stderr",
     "output_type": "stream",
     "text": [
      "1999999it [00:03, 617291.68it/s]\n"
     ]
    }
   ],
   "source": [
    "for file in standard_english:\n",
    "    count = 0\n",
    "    with open(file) as fopen:\n",
    "        for l in tqdm(fopen):\n",
    "            data = json.loads(l).strip()\n",
    "            if not len(data):\n",
    "                continue\n",
    "\n",
    "            if random.random() >= 0.9:\n",
    "                f = test\n",
    "            else:\n",
    "                f = train\n",
    "\n",
    "            t = f'__label__standard-english {data}'\n",
    "            f.write(f'{t}\\n')\n",
    "            count += 1\n",
    "            if count >= 2e6:\n",
    "                break"
   ]
  },
  {
   "cell_type": "code",
   "execution_count": 6,
   "metadata": {},
   "outputs": [],
   "source": [
    "local_english = [\n",
    "    'prepare-manglish-en.jsonl.dedup',\n",
    "    'filter-malay-rojak-en.jsonl.dedup',\n",
    "]"
   ]
  },
  {
   "cell_type": "code",
   "execution_count": 7,
   "metadata": {},
   "outputs": [
    {
     "name": "stderr",
     "output_type": "stream",
     "text": [
      "2999999it [00:04, 633733.81it/s]\n",
      "1314it [00:00, 670068.75it/s]\n"
     ]
    }
   ],
   "source": [
    "for file in local_english:\n",
    "    count = 0\n",
    "    with open(file) as fopen:\n",
    "        for l in tqdm(fopen):\n",
    "            data = json.loads(l).strip()\n",
    "            if not len(data):\n",
    "                continue\n",
    "\n",
    "            if random.random() >= 0.9:\n",
    "                f = test\n",
    "            else:\n",
    "                f = train\n",
    "\n",
    "            t = f'__label__local-english {data}'\n",
    "            f.write(f'{t}\\n')\n",
    "            count += 1\n",
    "            if count >= 3e6:\n",
    "                break"
   ]
  },
  {
   "cell_type": "code",
   "execution_count": 8,
   "metadata": {},
   "outputs": [],
   "source": [
    "manglish = [\n",
    "    'prepare-manglish-manglish.jsonl.dedup',\n",
    "    'local-mandarin.jsonl.dedup'\n",
    "]"
   ]
  },
  {
   "cell_type": "code",
   "execution_count": 9,
   "metadata": {},
   "outputs": [
    {
     "name": "stderr",
     "output_type": "stream",
     "text": [
      "1999999it [00:04, 473914.64it/s]\n",
      "1999999it [00:12, 158587.97it/s]\n"
     ]
    }
   ],
   "source": [
    "for file in manglish:\n",
    "    count = 0\n",
    "    with open(file) as fopen:\n",
    "        for l in tqdm(fopen):\n",
    "            data = json.loads(l).strip()\n",
    "            if not len(data):\n",
    "                continue\n",
    "\n",
    "            if random.random() >= 0.9:\n",
    "                f = test\n",
    "            else:\n",
    "                f = train\n",
    "\n",
    "            t = f'__label__manglish {data}'\n",
    "            f.write(f'{t}\\n')\n",
    "            count += 1\n",
    "            if count >= 2e6:\n",
    "                break"
   ]
  },
  {
   "cell_type": "code",
   "execution_count": 10,
   "metadata": {},
   "outputs": [],
   "source": [
    "standard_indonesian = [\n",
    "    'prepare-indon-standard.jsonl.dedup'\n",
    "]"
   ]
  },
  {
   "cell_type": "code",
   "execution_count": 11,
   "metadata": {},
   "outputs": [
    {
     "name": "stdout",
     "output_type": "stream",
     "text": [
      "2992230 prepare-indon-standard.jsonl.dedup\r\n"
     ]
    }
   ],
   "source": [
    "!wc -l prepare-indon-standard.jsonl.dedup"
   ]
  },
  {
   "cell_type": "code",
   "execution_count": 12,
   "metadata": {},
   "outputs": [
    {
     "name": "stderr",
     "output_type": "stream",
     "text": [
      "2992230it [00:39, 75852.47it/s] \n"
     ]
    }
   ],
   "source": [
    "for file in standard_indonesian:\n",
    "    count = 0\n",
    "    with open(file) as fopen:\n",
    "        for l in tqdm(fopen):\n",
    "            data = json.loads(l).strip()\n",
    "            if not len(data):\n",
    "                continue\n",
    "\n",
    "            if random.random() >= 0.9:\n",
    "                f = test\n",
    "            else:\n",
    "                f = train\n",
    "\n",
    "            t = f'__label__standard-indonesian {data}'\n",
    "            f.write(f'{t}\\n')\n",
    "            count += 1\n",
    "            if count >= 5e6:\n",
    "                break"
   ]
  },
  {
   "cell_type": "code",
   "execution_count": 13,
   "metadata": {},
   "outputs": [
    {
     "name": "stdout",
     "output_type": "stream",
     "text": [
      "2195647 prepare-indon.jsonl.dedup\r\n"
     ]
    }
   ],
   "source": [
    "!wc -l prepare-indon.jsonl.dedup"
   ]
  },
  {
   "cell_type": "code",
   "execution_count": 14,
   "metadata": {},
   "outputs": [],
   "source": [
    "socialmedia_indonesian = [\n",
    "    'prepare-indon.jsonl.dedup',\n",
    "    'filter-twitter-malay-rojak-id.jsonl.dedup',\n",
    "]"
   ]
  },
  {
   "cell_type": "code",
   "execution_count": 15,
   "metadata": {},
   "outputs": [
    {
     "name": "stderr",
     "output_type": "stream",
     "text": [
      "2195647it [00:11, 185036.73it/s]\n",
      "1273331it [00:04, 316934.36it/s]\n"
     ]
    }
   ],
   "source": [
    "for file in socialmedia_indonesian:\n",
    "    count = 0\n",
    "    with open(file) as fopen:\n",
    "        for l in tqdm(fopen):\n",
    "            data = json.loads(l).strip()\n",
    "            if not len(data):\n",
    "                continue\n",
    "\n",
    "            if random.random() >= 0.9:\n",
    "                f = test\n",
    "            else:\n",
    "                f = train\n",
    "\n",
    "            t = f'__label__socialmedia-indonesian {data}'\n",
    "            f.write(f'{t}\\n')\n",
    "            count += 1\n",
    "            if count >= 5e6:\n",
    "                break"
   ]
  },
  {
   "cell_type": "code",
   "execution_count": 16,
   "metadata": {},
   "outputs": [],
   "source": [
    "standard_malay = [\n",
    "    'prepare-english-ms.jsonl.dedup'\n",
    "]"
   ]
  },
  {
   "cell_type": "code",
   "execution_count": 17,
   "metadata": {},
   "outputs": [
    {
     "name": "stderr",
     "output_type": "stream",
     "text": [
      "2999999it [00:08, 354542.82it/s]\n"
     ]
    }
   ],
   "source": [
    "for file in standard_malay:\n",
    "    count = 0\n",
    "    with open(file) as fopen:\n",
    "        for l in tqdm(fopen):\n",
    "            data = json.loads(l).strip()\n",
    "            if not len(data):\n",
    "                continue\n",
    "\n",
    "            if random.random() >= 0.9:\n",
    "                f = test\n",
    "            else:\n",
    "                f = train\n",
    "\n",
    "            t = f'__label__standard-malay {data}'\n",
    "            f.write(f'{t}\\n')\n",
    "            count += 1\n",
    "            if count >= 3e6:\n",
    "                break"
   ]
  },
  {
   "cell_type": "code",
   "execution_count": 18,
   "metadata": {},
   "outputs": [],
   "source": [
    "local_malay = [\n",
    "    'filter-malay-rojak-ms.jsonl.dedup',\n",
    "    'filter-twitter-malay-rojak-ms.jsonl.dedup',\n",
    "    'filter-twitter-malay-rojak-ms.jsonl.dedup',\n",
    "    'filter-malay-rojak-rojak.jsonl.dedup'\n",
    "]"
   ]
  },
  {
   "cell_type": "code",
   "execution_count": 19,
   "metadata": {},
   "outputs": [
    {
     "name": "stderr",
     "output_type": "stream",
     "text": [
      "499999it [00:00, 705575.61it/s]\n",
      "499999it [00:00, 783097.27it/s]\n",
      "499999it [00:00, 808670.79it/s]\n",
      "499999it [00:01, 496403.82it/s]\n"
     ]
    }
   ],
   "source": [
    "for file in local_malay:\n",
    "    count = 0\n",
    "    with open(file) as fopen:\n",
    "        for l in tqdm(fopen):\n",
    "            data = json.loads(l).strip()\n",
    "            if not len(data):\n",
    "                continue\n",
    "\n",
    "            if random.random() >= 0.9:\n",
    "                f = test\n",
    "            else:\n",
    "                f = train\n",
    "\n",
    "            t = f'__label__local-malay {data}'\n",
    "            f.write(f'{t}\\n')\n",
    "            count += 1\n",
    "            if count >= 5e5:\n",
    "                break"
   ]
  },
  {
   "cell_type": "code",
   "execution_count": 20,
   "metadata": {},
   "outputs": [],
   "source": [
    "standard_mandarin = [\n",
    "    'chinese-standard.jsonl.dedup', \n",
    "    'standard-mandarin.jsonl.dedup', \n",
    "    'prepare-standard-mandarin.jsonl.dedup'\n",
    "]"
   ]
  },
  {
   "cell_type": "code",
   "execution_count": 21,
   "metadata": {},
   "outputs": [
    {
     "name": "stderr",
     "output_type": "stream",
     "text": [
      "79664it [00:00, 571863.10it/s]\n",
      "999999it [00:02, 495088.46it/s]\n",
      "999999it [00:22, 45402.64it/s]\n"
     ]
    }
   ],
   "source": [
    "for file in standard_mandarin:\n",
    "    count = 0\n",
    "    with open(file) as fopen:\n",
    "        for l in tqdm(fopen):\n",
    "            data = json.loads(l).strip()\n",
    "            if not len(data):\n",
    "                continue\n",
    "\n",
    "            if random.random() >= 0.9:\n",
    "                f = test\n",
    "            else:\n",
    "                f = train\n",
    "\n",
    "            t = f'__label__standard-mandarin {data}'\n",
    "            f.write(f'{t}\\n')\n",
    "            count += 1\n",
    "            if count >= 1e6:\n",
    "                break"
   ]
  },
  {
   "cell_type": "code",
   "execution_count": 22,
   "metadata": {},
   "outputs": [],
   "source": [
    "local_mandarin = [\n",
    "    'local-mandarin.jsonl.dedup'\n",
    "]"
   ]
  },
  {
   "cell_type": "code",
   "execution_count": 23,
   "metadata": {},
   "outputs": [
    {
     "name": "stderr",
     "output_type": "stream",
     "text": [
      "2999999it [00:13, 228849.52it/s]\n"
     ]
    }
   ],
   "source": [
    "for file in local_mandarin:\n",
    "    count = 0\n",
    "    with open(file) as fopen:\n",
    "        for l in tqdm(fopen):\n",
    "            data = json.loads(l).strip()\n",
    "            if not len(data):\n",
    "                continue\n",
    "\n",
    "            if random.random() >= 0.9:\n",
    "                f = test\n",
    "            else:\n",
    "                f = train\n",
    "\n",
    "            t = f'__label__local-mandarin {data}'\n",
    "            f.write(f'{t}\\n')\n",
    "            count += 1\n",
    "            if count >= 3e6:\n",
    "                break"
   ]
  },
  {
   "cell_type": "code",
   "execution_count": 24,
   "metadata": {},
   "outputs": [],
   "source": [
    "count = 0\n",
    "with open('others.jsonl.dedup') as fopen:\n",
    "    for l in fopen:\n",
    "        data = json.loads(l).strip()\n",
    "        if not len(data):\n",
    "            continue\n",
    "            \n",
    "        if random.random() >= 0.9:\n",
    "            f = test\n",
    "        else:\n",
    "            f = train\n",
    "        \n",
    "        t = f'__label__other {data}'\n",
    "        f.write(f'{t}\\n')\n",
    "        count += 1\n",
    "        if count >= 1e7:\n",
    "            break"
   ]
  },
  {
   "cell_type": "code",
   "execution_count": 25,
   "metadata": {},
   "outputs": [],
   "source": [
    "test.close()\n",
    "train.close()"
   ]
  },
  {
   "cell_type": "code",
   "execution_count": 26,
   "metadata": {},
   "outputs": [],
   "source": [
    "!shuf train-fasttext.txt > shuf-train-fasttext.txt\n",
    "!shuf test-fasttext.txt > shuf-test-fasttext.txt"
   ]
  }
 ],
 "metadata": {
  "kernelspec": {
   "display_name": "Python 3 (ipykernel)",
   "language": "python",
   "name": "python3"
  },
  "language_info": {
   "codemirror_mode": {
    "name": "ipython",
    "version": 3
   },
   "file_extension": ".py",
   "mimetype": "text/x-python",
   "name": "python",
   "nbconvert_exporter": "python",
   "pygments_lexer": "ipython3",
   "version": "3.8.10"
  }
 },
 "nbformat": 4,
 "nbformat_minor": 4
}
