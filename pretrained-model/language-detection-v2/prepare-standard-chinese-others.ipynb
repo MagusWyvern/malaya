{
 "cells": [
  {
   "cell_type": "code",
   "execution_count": 3,
   "metadata": {},
   "outputs": [],
   "source": [
    "import pandas as pd\n",
    "\n",
    "df = pd.read_csv('/home/husein/ssd3/multilang/sentences.csv', sep = '\\t', header = None)"
   ]
  },
  {
   "cell_type": "code",
   "execution_count": 4,
   "metadata": {},
   "outputs": [
    {
     "data": {
      "text/plain": [
       "(11355733, 3)"
      ]
     },
     "execution_count": 4,
     "metadata": {},
     "output_type": "execute_result"
    }
   ],
   "source": [
    "df.shape"
   ]
  },
  {
   "cell_type": "code",
   "execution_count": 5,
   "metadata": {},
   "outputs": [],
   "source": [
    "eng = df.loc[df[1] == 'eng']\n",
    "eng = eng.iloc[:,-1].tolist()"
   ]
  },
  {
   "cell_type": "code",
   "execution_count": 7,
   "metadata": {},
   "outputs": [
    {
     "data": {
      "text/plain": [
       "1774790"
      ]
     },
     "execution_count": 7,
     "metadata": {},
     "output_type": "execute_result"
    }
   ],
   "source": [
    "len(eng)"
   ]
  },
  {
   "cell_type": "code",
   "execution_count": 8,
   "metadata": {},
   "outputs": [
    {
     "data": {
      "text/plain": [
       "2260"
      ]
     },
     "execution_count": 8,
     "metadata": {},
     "output_type": "execute_result"
    }
   ],
   "source": [
    "ms = df.loc[df[1] == 'zlm']\n",
    "ms = ms.iloc[:,-1].tolist()\n",
    "len(ms)"
   ]
  },
  {
   "cell_type": "code",
   "execution_count": 9,
   "metadata": {},
   "outputs": [
    {
     "data": {
      "text/plain": [
       "19873"
      ]
     },
     "execution_count": 9,
     "metadata": {},
     "output_type": "execute_result"
    }
   ],
   "source": [
    "ind = df.loc[df[1] == 'ind']\n",
    "ind = ind.iloc[:,-1].tolist()\n",
    "len(ind)"
   ]
  },
  {
   "cell_type": "code",
   "execution_count": 10,
   "metadata": {},
   "outputs": [
    {
     "data": {
      "text/plain": [
       "73388"
      ]
     },
     "execution_count": 10,
     "metadata": {},
     "output_type": "execute_result"
    }
   ],
   "source": [
    "cmn = df.loc[df[1] == 'cmn']\n",
    "cmn = cmn.iloc[:,-1].tolist()\n",
    "len(cmn)"
   ]
  },
  {
   "cell_type": "code",
   "execution_count": 13,
   "metadata": {},
   "outputs": [
    {
     "data": {
      "text/plain": [
       "6305"
      ]
     },
     "execution_count": 13,
     "metadata": {},
     "output_type": "execute_result"
    }
   ],
   "source": [
    "yue = df.loc[df[1] == 'yue']\n",
    "yue = yue.iloc[:,-1].tolist()\n",
    "len(yue)"
   ]
  },
  {
   "cell_type": "code",
   "execution_count": 14,
   "metadata": {},
   "outputs": [
    {
     "data": {
      "text/plain": [
       "9479117"
      ]
     },
     "execution_count": 14,
     "metadata": {},
     "output_type": "execute_result"
    }
   ],
   "source": [
    "others = df.loc[~df[1].isin(['zlm', 'ind', 'eng', 'yue', 'cmn'])]\n",
    "others = others.iloc[:,-1].tolist()\n",
    "len(others)"
   ]
  },
  {
   "cell_type": "code",
   "execution_count": 21,
   "metadata": {},
   "outputs": [
    {
     "data": {
      "text/plain": [
       "411"
      ]
     },
     "execution_count": 21,
     "metadata": {},
     "output_type": "execute_result"
    }
   ],
   "source": [
    "other_langs = list(set(df[~df[1].isin(['zlm', 'ind', 'eng', 'yue', 'cmn'])][1].tolist()))\n",
    "len(other_langs)"
   ]
  },
  {
   "cell_type": "code",
   "execution_count": 22,
   "metadata": {},
   "outputs": [
    {
     "data": {
      "text/plain": [
       "[nan,\n",
       " 'gos',\n",
       " 'pdc',\n",
       " 'shi',\n",
       " 'ewe',\n",
       " 'mfe',\n",
       " 'mlt',\n",
       " 'bis',\n",
       " 'ayl',\n",
       " 'mnw',\n",
       " 'arq',\n",
       " 'swe',\n",
       " 'ron',\n",
       " 'sat',\n",
       " 'iba',\n",
       " 'ary',\n",
       " 'sdh',\n",
       " 'ang',\n",
       " 'ldn',\n",
       " 'awa',\n",
       " 'nys',\n",
       " 'cay',\n",
       " 'abk',\n",
       " 'tyv',\n",
       " 'lin',\n",
       " 'cpi',\n",
       " 'qxq',\n",
       " 'moh',\n",
       " 'est',\n",
       " 'shy',\n",
       " 'hbo',\n",
       " 'kpv',\n",
       " 'kas',\n",
       " 'mkd',\n",
       " 'kbd',\n",
       " 'cyo',\n",
       " '\\\\N',\n",
       " 'ppl',\n",
       " 'sot',\n",
       " 'max',\n",
       " 'ibo',\n",
       " 'vol',\n",
       " 'bel',\n",
       " 'hsn',\n",
       " 'gaa',\n",
       " 'xal',\n",
       " 'aln',\n",
       " 'mdf',\n",
       " 'sqi',\n",
       " 'min',\n",
       " 'srd',\n",
       " 'osx',\n",
       " 'tso',\n",
       " 'kab',\n",
       " 'guc',\n",
       " 'tts',\n",
       " 'non',\n",
       " 'ike',\n",
       " 'afh',\n",
       " 'zea',\n",
       " 'ita',\n",
       " 'gbm',\n",
       " 'pnb',\n",
       " 'lut',\n",
       " 'pfl',\n",
       " 'ilo',\n",
       " 'mrj',\n",
       " 'sme',\n",
       " 'chg',\n",
       " 'brx',\n",
       " 'ben',\n",
       " 'lug',\n",
       " 'wuu',\n",
       " 'kum',\n",
       " 'kan',\n",
       " 'gom',\n",
       " 'mal',\n",
       " 'lzh',\n",
       " 'nlv',\n",
       " 'bjn',\n",
       " 'stq',\n",
       " 'tgl',\n",
       " 'npi',\n",
       " 'mnc',\n",
       " 'syc',\n",
       " 'vep',\n",
       " 'lad',\n",
       " 'ckb',\n",
       " 'klj',\n",
       " 'hsb',\n",
       " 'oar',\n",
       " 'bal',\n",
       " 'egl',\n",
       " 'hrv',\n",
       " 'oci',\n",
       " 'gla',\n",
       " 'apc',\n",
       " 'swc',\n",
       " 'crh',\n",
       " 'lou',\n",
       " 'bzt',\n",
       " 'pan',\n",
       " 'hye',\n",
       " 'eus',\n",
       " 'afr',\n",
       " 'dtp',\n",
       " 'aii',\n",
       " 'afb',\n",
       " 'mhr',\n",
       " 'ssw',\n",
       " 'hil',\n",
       " 'jam',\n",
       " 'hdn',\n",
       " 'tgk',\n",
       " 'glv',\n",
       " 'avk',\n",
       " 'liv',\n",
       " 'wln',\n",
       " 'yua',\n",
       " 'osp',\n",
       " 'guj',\n",
       " 'yid',\n",
       " 'fur',\n",
       " 'tel',\n",
       " 'akl',\n",
       " 'tly',\n",
       " 'fuc',\n",
       " 'snd',\n",
       " 'hax',\n",
       " 'sna',\n",
       " 'bos',\n",
       " 'war',\n",
       " 'nch',\n",
       " 'pag',\n",
       " 'san',\n",
       " 'cmo',\n",
       " 'hat',\n",
       " 'dws',\n",
       " 'knc',\n",
       " 'lij',\n",
       " 'pcd',\n",
       " 'tvl',\n",
       " 'cbk',\n",
       " 'nus',\n",
       " 'chr',\n",
       " 'myv',\n",
       " 'jbo',\n",
       " 'tam',\n",
       " 'lat',\n",
       " 'ltz',\n",
       " 'prg',\n",
       " 'jav',\n",
       " 'kat',\n",
       " 'ast',\n",
       " 'tsn',\n",
       " 'rif',\n",
       " 'nob',\n",
       " 'ori',\n",
       " 'rus',\n",
       " 'fij',\n",
       " 'hun',\n",
       " 'ban',\n",
       " 'kha',\n",
       " 'bre',\n",
       " 'mww',\n",
       " 'bak',\n",
       " 'bar',\n",
       " 'tha',\n",
       " 'heb',\n",
       " 'uzb',\n",
       " 'chn',\n",
       " 'xmf',\n",
       " 'vec',\n",
       " 'yor',\n",
       " 'scn',\n",
       " 'sin',\n",
       " 'mus',\n",
       " 'grc',\n",
       " 'ltg',\n",
       " 'tmr',\n",
       " 'fra',\n",
       " 'drt',\n",
       " 'bam',\n",
       " 'lvs',\n",
       " 'fry',\n",
       " 'nds',\n",
       " 'sah',\n",
       " 'cha',\n",
       " 'dng',\n",
       " 'rue',\n",
       " 'gag',\n",
       " 'sma',\n",
       " 'glg',\n",
       " 'spa',\n",
       " 'dsb',\n",
       " 'nap',\n",
       " 'roh',\n",
       " 'swg',\n",
       " 'fao',\n",
       " 'nov',\n",
       " 'ngt',\n",
       " 'slk',\n",
       " 'nau',\n",
       " 'cho',\n",
       " 'fin',\n",
       " 'som',\n",
       " 'krl',\n",
       " 'tzl',\n",
       " 'lao',\n",
       " 'kjh',\n",
       " 'chv',\n",
       " 'nav',\n",
       " 'cjy',\n",
       " 'smo',\n",
       " 'ceb',\n",
       " 'gle',\n",
       " 'bho',\n",
       " 'thv',\n",
       " 'nog',\n",
       " 'igs',\n",
       " 'hrx',\n",
       " 'ota',\n",
       " 'ina',\n",
       " 'nnb',\n",
       " 'tur',\n",
       " 'dan',\n",
       " 'rom',\n",
       " 'udm',\n",
       " 'kaa',\n",
       " 'por',\n",
       " 'xho',\n",
       " 'lld',\n",
       " 'zsm',\n",
       " 'tig',\n",
       " 'kal',\n",
       " 'nst',\n",
       " 'toi',\n",
       " 'fuv',\n",
       " 'pus',\n",
       " 'nya',\n",
       " 'cos',\n",
       " 'swh',\n",
       " 'shs',\n",
       " 'zgh',\n",
       " 'tpw',\n",
       " 'lzz',\n",
       " 'qya',\n",
       " 'tmw',\n",
       " 'cor',\n",
       " 'izh',\n",
       " 'aze',\n",
       " 'ady',\n",
       " 'mvv',\n",
       " 'tlh',\n",
       " 'sag',\n",
       " 'urh',\n",
       " 'laa',\n",
       " 'srn',\n",
       " 'ngu',\n",
       " 'umb',\n",
       " 'rhg',\n",
       " 'bvy',\n",
       " 'hnj',\n",
       " 'tet',\n",
       " 'run',\n",
       " 'haw',\n",
       " 'khm',\n",
       " 'bfz',\n",
       " 'szl',\n",
       " 'oji',\n",
       " 'diq',\n",
       " 'sjn',\n",
       " 'mnr',\n",
       " 'urd',\n",
       " 'pms',\n",
       " 'emx',\n",
       " 'gan',\n",
       " 'mfa',\n",
       " 'tat',\n",
       " 'lmo',\n",
       " 'gsw',\n",
       " 'cat',\n",
       " 'kor',\n",
       " 'ood',\n",
       " 'gil',\n",
       " 'asm',\n",
       " 'nah',\n",
       " 'lim',\n",
       " 'oss',\n",
       " 'tkl',\n",
       " 'kzj',\n",
       " 'alt',\n",
       " 'ido',\n",
       " 'tah',\n",
       " 'epo',\n",
       " 'got',\n",
       " 'mon',\n",
       " 'ile',\n",
       " 'uig',\n",
       " 'hau',\n",
       " 'ksh',\n",
       " 'tir',\n",
       " 'ara',\n",
       " 'kir',\n",
       " 'wol',\n",
       " 'hak',\n",
       " 'tuk',\n",
       " 'ton',\n",
       " 'tpi',\n",
       " 'cym',\n",
       " 'fkv',\n",
       " 'tok',\n",
       " 'ukr',\n",
       " 'ber',\n",
       " 'pal',\n",
       " 'skr',\n",
       " 'isl',\n",
       " 'pap',\n",
       " 'frr',\n",
       " 'evn',\n",
       " 'acm',\n",
       " 'niu',\n",
       " 'fro',\n",
       " 'nld',\n",
       " 'che',\n",
       " 'ces',\n",
       " 'mik',\n",
       " 'bcl',\n",
       " 'ofs',\n",
       " 'lkt',\n",
       " 'sux',\n",
       " 'mlg',\n",
       " 'srp',\n",
       " 'xqa',\n",
       " 'deu',\n",
       " 'kek',\n",
       " 'slv',\n",
       " 'ckt',\n",
       " 'kxi',\n",
       " 'mai',\n",
       " 'krc',\n",
       " 'gcf',\n",
       " 'lit',\n",
       " 'ryu',\n",
       " 'pes',\n",
       " 'phn',\n",
       " 'quc',\n",
       " 'bod',\n",
       " 'syl',\n",
       " 'hif',\n",
       " 'frm',\n",
       " 'bom',\n",
       " 'mar',\n",
       " 'arz',\n",
       " 'mya',\n",
       " 'mgm',\n",
       " 'vie',\n",
       " 'ain',\n",
       " 'ajp',\n",
       " 'mah',\n",
       " 'arg',\n",
       " 'kam',\n",
       " 'nno',\n",
       " 'jdt',\n",
       " 'pol',\n",
       " 'rel',\n",
       " 'iii',\n",
       " 'jpa',\n",
       " 'aoz',\n",
       " 'otk',\n",
       " 'rap',\n",
       " 'kmr',\n",
       " 'orv',\n",
       " 'kin',\n",
       " 'cycl',\n",
       " 'enm',\n",
       " 'ell',\n",
       " 'kaz',\n",
       " 'koi',\n",
       " 'hin',\n",
       " 'bul',\n",
       " 'mni',\n",
       " 'grn',\n",
       " 'sco',\n",
       " 'pli',\n",
       " 'pam',\n",
       " 'aym',\n",
       " 'mri',\n",
       " 'amh',\n",
       " 'hoc',\n",
       " 'vro',\n",
       " 'pau',\n",
       " 'sun',\n",
       " 'bua',\n",
       " 'ava',\n",
       " 'kiu',\n",
       " 'sgs',\n",
       " 'zza',\n",
       " 'mwl',\n",
       " 'ext',\n",
       " 'que',\n",
       " 'div',\n",
       " 'lfn',\n",
       " 'new',\n",
       " 'jpn',\n",
       " 'mic',\n",
       " 'crs',\n",
       " 'crk',\n",
       " 'csb',\n",
       " 'mad',\n",
       " 'zul']"
      ]
     },
     "execution_count": 22,
     "metadata": {},
     "output_type": "execute_result"
    }
   ],
   "source": [
    "other_langs"
   ]
  },
  {
   "cell_type": "code",
   "execution_count": 15,
   "metadata": {},
   "outputs": [],
   "source": [
    "import json\n",
    "import re\n",
    "\n",
    "def language_detection_textcleaning(string):\n",
    "    string = re.sub(\n",
    "        'http\\\\S+|www.\\\\S+',\n",
    "        '',\n",
    "        ' '.join(\n",
    "            [i for i in string.split() if i.find('#') < 0 and i.find('@') < 0]\n",
    "        ),\n",
    "    )\n",
    "\n",
    "    chars = ',.()!:\\'\"/;=-'\n",
    "    for c in chars:\n",
    "        string = string.replace(c, f' {c} ')\n",
    "    string = string.replace('\\n', '').replace('\\t', '')\n",
    "\n",
    "    string = re.sub(\n",
    "        '[0-9!@#$%^&*()_\\\\-+{}|\\\\~`\\'\";:?/.>,<]', ' ', string, flags=re.UNICODE\n",
    "    )\n",
    "    string = re.sub(r'[ ]+', ' ', string).strip()\n",
    "\n",
    "    return string.lower()\n"
   ]
  },
  {
   "cell_type": "code",
   "execution_count": 27,
   "metadata": {},
   "outputs": [
    {
     "name": "stderr",
     "output_type": "stream",
     "text": [
      "100%|█████████████████████████████| 9479117/9479117 [00:48<00:00, 197312.55it/s]\n"
     ]
    }
   ],
   "source": [
    "others = [language_detection_textcleaning(s) for s in tqdm(others)]"
   ]
  },
  {
   "cell_type": "code",
   "execution_count": 28,
   "metadata": {},
   "outputs": [],
   "source": [
    "others = list(set(others))"
   ]
  },
  {
   "cell_type": "code",
   "execution_count": 29,
   "metadata": {},
   "outputs": [
    {
     "data": {
      "text/plain": [
       "9302198"
      ]
     },
     "execution_count": 29,
     "metadata": {},
     "output_type": "execute_result"
    }
   ],
   "source": [
    "len(others)"
   ]
  },
  {
   "cell_type": "code",
   "execution_count": 32,
   "metadata": {},
   "outputs": [
    {
     "name": "stderr",
     "output_type": "stream",
     "text": [
      "100%|█████████████████████████████████| 79693/79693 [00:00<00:00, 354432.00it/s]\n"
     ]
    },
    {
     "data": {
      "text/plain": [
       "79664"
      ]
     },
     "execution_count": 32,
     "metadata": {},
     "output_type": "execute_result"
    }
   ],
   "source": [
    "chinese = [language_detection_textcleaning(s) for s in tqdm(cmn + yue)]\n",
    "chinese = list(set(chinese))\n",
    "len(chinese)"
   ]
  },
  {
   "cell_type": "code",
   "execution_count": 33,
   "metadata": {},
   "outputs": [],
   "source": [
    "with open('chinese-standard.jsonl.dedup', 'w') as fopen:\n",
    "    for s in chinese:\n",
    "        fopen.write(f'{json.dumps(s)}\\n')"
   ]
  },
  {
   "cell_type": "code",
   "execution_count": null,
   "metadata": {},
   "outputs": [
    {
     "name": "stderr",
     "output_type": "stream",
     "text": [
      " 17%|████▋                       | 1577855/9302198 [00:01<00:05, 1408655.98it/s]"
     ]
    }
   ],
   "source": [
    "with open('others.jsonl.dedup', 'w') as fopen:\n",
    "    for s in tqdm(others):\n",
    "        fopen.write(f'{json.dumps(s)}\\n')"
   ]
  },
  {
   "cell_type": "code",
   "execution_count": null,
   "metadata": {},
   "outputs": [],
   "source": []
  }
 ],
 "metadata": {
  "kernelspec": {
   "display_name": "Python 3 (ipykernel)",
   "language": "python",
   "name": "python3"
  },
  "language_info": {
   "codemirror_mode": {
    "name": "ipython",
    "version": 3
   },
   "file_extension": ".py",
   "mimetype": "text/x-python",
   "name": "python",
   "nbconvert_exporter": "python",
   "pygments_lexer": "ipython3",
   "version": "3.8.10"
  }
 },
 "nbformat": 4,
 "nbformat_minor": 4
}
