{
 "cells": [
  {
   "cell_type": "code",
   "execution_count": 1,
   "metadata": {},
   "outputs": [],
   "source": [
    "import fasttext"
   ]
  },
  {
   "cell_type": "code",
   "execution_count": 2,
   "metadata": {},
   "outputs": [
    {
     "name": "stderr",
     "output_type": "stream",
     "text": [
      "Read 1118M words\n",
      "Number of words:  5383520\n",
      "Number of labels: 5\n",
      "Progress: 100.0% words/sec/thread: 6985241 lr:  0.000000 avg.loss:  0.128892 ETA:   0h 0m 0s\n"
     ]
    }
   ],
   "source": [
    "model = fasttext.train_supervised('shuf-train-fasttext-ms-id.txt', dim = 16, minn = 2, loss = 'hs')"
   ]
  },
  {
   "cell_type": "code",
   "execution_count": 3,
   "metadata": {},
   "outputs": [],
   "source": [
    "model.save_model(\"model-ms-id.bin\")"
   ]
  },
  {
   "cell_type": "code",
   "execution_count": 4,
   "metadata": {},
   "outputs": [],
   "source": [
    "cutoff = int(len(model.get_words()) * 0.2)"
   ]
  },
  {
   "cell_type": "code",
   "execution_count": 5,
   "metadata": {},
   "outputs": [
    {
     "name": "stdout",
     "output_type": "stream",
     "text": [
      "CPU times: user 40 µs, sys: 1e+03 ns, total: 41 µs\n",
      "Wall time: 42.2 µs\n"
     ]
    },
    {
     "data": {
      "text/plain": [
       "(('__label__local-malay',\n",
       "  '__label__socialmedia-indonesian',\n",
       "  '__label__standard-malay'),\n",
       " array([9.95471239e-01, 4.55672340e-03, 1.09039665e-05]))"
      ]
     },
     "execution_count": 5,
     "metadata": {},
     "output_type": "execute_result"
    }
   ],
   "source": [
    "%%time\n",
    "model.predict(\"bodo siak\", k = 3)"
   ]
  },
  {
   "cell_type": "code",
   "execution_count": 6,
   "metadata": {},
   "outputs": [
    {
     "name": "stdout",
     "output_type": "stream",
     "text": [
      "CPU times: user 30 µs, sys: 0 ns, total: 30 µs\n",
      "Wall time: 31 µs\n"
     ]
    },
    {
     "data": {
      "text/plain": [
       "(('__label__socialmedia-indonesian', '__label__local-malay'),\n",
       " array([0.99302536, 0.00700409]))"
      ]
     },
     "execution_count": 6,
     "metadata": {},
     "output_type": "execute_result"
    }
   ],
   "source": [
    "%%time\n",
    "model.predict(\"rada ketuaan kalo umur masih pas lebih bagus lg aishwarya\", k = 3)"
   ]
  },
  {
   "cell_type": "code",
   "execution_count": 7,
   "metadata": {},
   "outputs": [
    {
     "name": "stdout",
     "output_type": "stream",
     "text": [
      "\"rada ketuaan kalo umur masih pas lebih bagus lg aishwarya\"\r\n",
      "\"ada kursi gaa soalnya nunggu kamu pegel kalo sambil berdiri\"\r\n"
     ]
    }
   ],
   "source": [
    "!head -n 2 filter-twitter-malay-rojak-id.jsonl.dedup"
   ]
  },
  {
   "cell_type": "code",
   "execution_count": 8,
   "metadata": {},
   "outputs": [
    {
     "name": "stdout",
     "output_type": "stream",
     "text": [
      "CPU times: user 109 µs, sys: 2 µs, total: 111 µs\n",
      "Wall time: 114 µs\n"
     ]
    },
    {
     "data": {
      "text/plain": [
       "(('__label__socialmedia-indonesian', '__label__local-malay', '__label__other'),\n",
       " array([0.68945503, 0.29763356, 0.01134833]))"
      ]
     },
     "execution_count": 8,
     "metadata": {},
     "output_type": "execute_result"
    }
   ],
   "source": [
    "%%time\n",
    "model.predict(\"nggak ada\", k = 3)"
   ]
  },
  {
   "cell_type": "code",
   "execution_count": 9,
   "metadata": {},
   "outputs": [
    {
     "name": "stderr",
     "output_type": "stream",
     "text": [
      "Progress:  18.5% words/sec/thread: 7122543 lr:  0.081718 avg.loss:  0.124232 ETA:   0h 0m33s"
     ]
    }
   ],
   "source": [
    "model.quantize(input='shuf-train-fasttext-ms-id.txt', retrain=True, qnorm=True, cutoff = cutoff)"
   ]
  },
  {
   "cell_type": "code",
   "execution_count": 10,
   "metadata": {},
   "outputs": [
    {
     "name": "stderr",
     "output_type": "stream",
     "text": [
      "c/thread: 7123513 lr:  0.081473 avg.loss:  0.124385 ETA:   0h 0m33s\r",
      "Progress:  18.8% words/sec/thread: 7126511 lr:  0.081223 avg.loss:  0.124180 ETA:   0h 0m33s\r",
      "Progress:  19.0% words/sec/thread: 7128722 lr:  0.080974 avg.loss:  0.124254 ETA:   0h 0m33s\r",
      "Progress:  19.3% words/sec/thread: 7130984 lr:  0.080726 avg.loss:  0.124351 ETA:   0h 0m33s\r",
      "Progress:  19.5% words/sec/thread: 7134735 lr:  0.080473 avg.loss:  0.124422 ETA:   0h 0m33s\r",
      "Progress:  19.8% words/sec/thread: 7139749 lr:  0.080216 avg.loss:  0.124203 ETA:   0h 0m33s\r",
      "Progress:  20.0% words/sec/thread: 7140937 lr:  0.079970 avg.loss:  0.123969 ETA:   0h 0m32s\r",
      "Progress:  20.3% words/sec/thread: 7143257 lr:  0.079720 avg.loss:  0.123770 ETA:   0h 0m32s\r",
      "Progress:  20.5% words/sec/thread: 7145442 lr:  0.079471 avg.loss:  0.123591 ETA:   0h 0m32s\r",
      "Progress:  20.8% words/sec/thread: 7145488 lr:  0.079227 avg.loss:  0.123416 ETA:   0h 0m32s\r",
      "Progress:  21.0% words/sec/thread: 7146584 lr:  0.078981 avg.loss:  0.123379 ETA:   0h 0m32s\r",
      "Progress:  21.3% words/sec/thread: 7147283 lr:  0.078736 avg.loss:  0.123313 ETA:   0h 0m32s\r",
      "Progress:  21.5% words/sec/thread: 7149173 lr:  0.078487 avg.loss:  0.123113 ETA:   0h 0m32s\r",
      "Progress:  21.7% words/sec/thread: 7142562 lr:  0.078264 avg.loss:  0.123155 ETA:   0h 0m32s\r",
      "Progress:  22.0% words/sec/thread: 7138175 lr:  0.078035 avg.loss:  0.123055 ETA:   0h 0m32s\r",
      "Progress:  22.2% words/sec/thread: 7141908 lr:  0.077780 avg.loss:  0.122910 ETA:   0h 0m32s\r",
      "Progress:  22.5% words/sec/thread: 7143376 lr:  0.077533 avg.loss:  0.122920 ETA:   0h 0m31s\r",
      "Progress:  22.7% words/sec/thread: 7143325 lr:  0.077290 avg.loss:  0.122825 ETA:   0h 0m31s\r",
      "Progress:  23.0% words/sec/thread: 7142315 lr:  0.077050 avg.loss:  0.122711 ETA:   0h 0m31s\r",
      "Progress:  23.2% words/sec/thread: 7140751 lr:  0.076812 avg.loss:  0.122651 ETA:   0h 0m31s\r",
      "Progress:  23.4% words/sec/thread: 7137750 lr:  0.076579 avg.loss:  0.122679 ETA:   0h 0m31s\r",
      "Progress:  23.7% words/sec/thread: 7137771 lr:  0.076336 avg.loss:  0.122491 ETA:   0h 0m31s\r",
      "Progress:  23.9% words/sec/thread: 7138140 lr:  0.076092 avg.loss:  0.122466 ETA:   0h 0m31s\r",
      "Progress:  24.1% words/sec/thread: 7137014 lr:  0.075853 avg.loss:  0.122396 ETA:   0h 0m31s\r",
      "Progress:  24.4% words/sec/thread: 7137597 lr:  0.075608 avg.loss:  0.122211 ETA:   0h 0m31s\r",
      "Progress:  24.6% words/sec/thread: 7140930 lr:  0.075354 avg.loss:  0.122145 ETA:   0h 0m31s\r",
      "Progress:  24.9% words/sec/thread: 7143315 lr:  0.075103 avg.loss:  0.121952 ETA:   0h 0m30s\r",
      "Progress:  25.1% words/sec/thread: 7143499 lr:  0.074859 avg.loss:  0.121908 ETA:   0h 0m30s\r",
      "Progress:  25.4% words/sec/thread: 7145144 lr:  0.074610 avg.loss:  0.121738 ETA:   0h 0m30s\r",
      "Progress:  25.6% words/sec/thread: 7146113 lr:  0.074364 avg.loss:  0.121724 ETA:   0h 0m30s\r",
      "Progress:  25.9% words/sec/thread: 7146678 lr:  0.074119 avg.loss:  0.121631 ETA:   0h 0m30s\r",
      "Progress:  26.1% words/sec/thread: 7148133 lr:  0.073870 avg.loss:  0.121486 ETA:   0h 0m30s\r",
      "Progress:  26.4% words/sec/thread: 7149000 lr:  0.073624 avg.loss:  0.121407 ETA:   0h 0m30s\r",
      "Progress:  26.6% words/sec/thread: 7149047 lr:  0.073381 avg.loss:  0.121301 ETA:   0h 0m30s\r",
      "Progress:  26.9% words/sec/thread: 7151552 lr:  0.073128 avg.loss:  0.121221 ETA:   0h 0m30s\r",
      "Progress:  27.1% words/sec/thread: 7154930 lr:  0.072872 avg.loss:  0.121191 ETA:   0h 0m29s\r",
      "Progress:  27.4% words/sec/thread: 7156803 lr:  0.072621 avg.loss:  0.121169 ETA:   0h 0m29s\r",
      "Progress:  27.6% words/sec/thread: 7157700 lr:  0.072374 avg.loss:  0.121066 ETA:   0h 0m29s\r",
      "Progress:  27.9% words/sec/thread: 7156622 lr:  0.072135 avg.loss:  0.120928 ETA:   0h 0m29s\r",
      "Progress:  28.1% words/sec/thread: 7153022 lr:  0.071906 avg.loss:  0.120852 ETA:   0h 0m29s\r",
      "Progress:  28.3% words/sec/thread: 7147056 lr:  0.071686 avg.loss:  0.120849 ETA:   0h 0m29s\r",
      "Progress:  28.6% words/sec/thread: 7147224 lr:  0.071442 avg.loss:  0.120832 ETA:   0h 0m29s\r",
      "Progress:  28.8% words/sec/thread: 7146252 lr:  0.071203 avg.loss:  0.120774 ETA:   0h 0m29s\r",
      "Progress:  29.0% words/sec/thread: 7146103 lr:  0.070961 avg.loss:  0.120790 ETA:   0h 0m29s\r",
      "Progress:  29.3% words/sec/thread: 7148186 lr:  0.070709 avg.loss:  0.120751 ETA:   0h 0m29s\r",
      "Progress:  29.5% words/sec/thread: 7151447 lr:  0.070453 avg.loss:  0.120800 ETA:   0h 0m28s\r",
      "Progress:  29.8% words/sec/thread: 7153291 lr:  0.070202 avg.loss:  0.120924 ETA:   0h 0m28s\r",
      "Progress:  30.0% words/sec/thread: 7153551 lr:  0.069957 avg.loss:  0.120901 ETA:   0h 0m28s\r",
      "Progress:  30.3% words/sec/thread: 7155123 lr:  0.069707 avg.loss:  0.120777 ETA:   0h 0m28s\r",
      "Progress:  30.5% words/sec/thread: 7152830 lr:  0.069474 avg.loss:  0.120602 ETA:   0h 0m28s\r",
      "Progress:  30.8% words/sec/thread: 7150985 lr:  0.069238 avg.loss:  0.120538 ETA:   0h 0m28s\r",
      "Progress:  31.0% words/sec/thread: 7149091 lr:  0.069003 avg.loss:  0.120548 ETA:   0h 0m28s\r",
      "Progress:  31.2% words/sec/thread: 7149108 lr:  0.068760 avg.loss:  0.120505 ETA:   0h 0m28s\r",
      "Progress:  31.5% words/sec/thread: 7149584 lr:  0.068515 avg.loss:  0.120518 ETA:   0h 0m28s\r",
      "Progress:  31.7% words/sec/thread: 7149516 lr:  0.068272 avg.loss:  0.120517 ETA:   0h 0m28s\r",
      "Progress:  32.0% words/sec/thread: 7151919 lr:  0.068018 avg.loss:  0.120534 ETA:   0h 0m27s\r",
      "Progress:  32.2% words/sec/thread: 7154170 lr:  0.067764 avg.loss:  0.120574 ETA:   0h 0m27s\r",
      "Progress:  32.5% words/sec/thread: 7156138 lr:  0.067512 avg.loss:  0.120637 ETA:   0h 0m27s\r",
      "Progress:  32.7% words/sec/thread: 7158413 lr:  0.067258 avg.loss:  0.120501 ETA:   0h 0m27s\r",
      "Progress:  33.0% words/sec/thread: 7159557 lr:  0.067009 avg.loss:  0.120518 ETA:   0h 0m27s\r",
      "Progress:  33.2% words/sec/thread: 7158859 lr:  0.066769 avg.loss:  0.120462 ETA:   0h 0m27s\r",
      "Progress:  33.5% words/sec/thread: 7158991 lr:  0.066525 avg.loss:  0.120477 ETA:   0h 0m27s\r",
      "Progress:  33.7% words/sec/thread: 7161352 lr:  0.066270 avg.loss:  0.120467 ETA:   0h 0m27s\r",
      "Progress:  34.0% words/sec/thread: 7162543 lr:  0.066021 avg.loss:  0.120380 ETA:   0h 0m27s\r",
      "Progress:  34.2% words/sec/thread: 7162556 lr:  0.065777 avg.loss:  0.120386 ETA:   0h 0m27s\r",
      "Progress:  34.5% words/sec/thread: 7162301 lr:  0.065535 avg.loss:  0.120340 ETA:   0h 0m26s\r",
      "Progress:  34.7% words/sec/thread: 7159671 lr:  0.065304 avg.loss:  0.120274 ETA:   0h 0m26s\r",
      "Progress:  34.9% words/sec/thread: 7161726 lr:  0.065051 avg.loss:  0.120219 ETA:   0h 0m26s\r",
      "Progress:  35.2% words/sec/thread: 7163853 lr:  0.064797 avg.loss:  0.120219 ETA:   0h 0m26s\r",
      "Progress:  35.5% words/sec/thread: 7165977 lr:  0.064542 avg.loss:  0.120198 ETA:   0h 0m26s\r",
      "Progress:  35.7% words/sec/thread: 7167721 lr:  0.064290 avg.loss:  0.120253 ETA:   0h 0m26s\r",
      "Progress:  36.0% words/sec/thread: 7170268 lr:  0.064033 avg.loss:  0.120205 ETA:   0h 0m26s\r",
      "Progress:  36.2% words/sec/thread: 7171293 lr:  0.063784 avg.loss:  0.120086 ETA:   0h 0m26s\r",
      "Progress:  36.5% words/sec/thread: 7173596 lr:  0.063529 avg.loss:  0.120093 ETA:   0h 0m26s\r",
      "Progress:  36.7% words/sec/thread: 7176099 lr:  0.063272 avg.loss:  0.120078 ETA:   0h 0m25s\r",
      "Progress:  37.0% words/sec/thread: 7178653 lr:  0.063014 avg.loss:  0.120034 ETA:   0h 0m25s\r",
      "Progress:  37.2% words/sec/thread: 7180072 lr:  0.062763 avg.loss:  0.120016 ETA:   0h 0m25s\r",
      "Progress:  37.5% words/sec/thread: 7181829 lr:  0.062509 avg.loss:  0.119927 ETA:   0h 0m25s\r",
      "Progress:  37.7% words/sec/thread: 7183280 lr:  0.062258 avg.loss:  0.119853 ETA:   0h 0m25s\r",
      "Progress:  38.0% words/sec/thread: 7183387 lr:  0.062013 avg.loss:  0.119860 ETA:   0h 0m25s\r",
      "Progress:  38.2% words/sec/thread: 7181376 lr:  0.061779 avg.loss:  0.119916 ETA:   0h 0m25s\r",
      "Progress:  38.5% words/sec/thread: 7179696 lr:  0.061544 avg.loss:  0.119936 ETA:   0h 0m25s\r",
      "Progress:  38.7% words/sec/thread: 7179955 lr:  0.061298 avg.loss:  0.119879 ETA:   0h 0m25s\r",
      "Progress:  38.9% words/sec/thread: 7180523 lr:  0.061051 avg.loss:  0.119851 ETA:   0h 0m25s\r",
      "Progress:  39.2% words/sec/thread: 7182406 lr:  0.060796 avg.loss:  0.119725 ETA:   0h 0m24s\r",
      "Progress:  39.5% words/sec/thread: 7184317 lr:  0.060541 avg.loss:  0.119647 ETA:   0h 0m24s\r",
      "Progress:  39.7% words/sec/thread: 7185166 lr:  0.060292 avg.loss:  0.119582 ETA:   0h 0m24s\r",
      "Progress:  40.0% words/sec/thread: 7185066 lr:  0.060048 avg.loss:  0.119498 ETA:   0h 0m24s\r",
      "Progress:  40.2% words/sec/thread: 7185375 lr:  0.059802 avg.loss:  0.119432 ETA:   0h 0m24s\r",
      "Progress:  40.4% words/sec/thread: 7185683 lr:  0.059556 avg.loss:  0.119332 ETA:   0h 0m24s\r",
      "Progress:  40.7% words/sec/thread: 7185248 lr:  0.059313 avg.loss:  0.119250 ETA:   0h 0m24s\r",
      "Progress:  40.9% words/sec/thread: 7184792 lr:  0.059071 avg.loss:  0.119111 ETA:   0h 0m24s\r",
      "Progress:  41.2% words/sec/thread: 7183359 lr:  0.058835 avg.loss:  0.119169 ETA:   0h 0m24s\r",
      "Progress:  41.4% words/sec/thread: 7183111 lr:  0.058592 avg.loss:  0.119087 ETA:   0h 0m24s\r",
      "Progress:  41.7% words/sec/thread: 7182730 lr:  0.058350 avg.loss:  0.119017 ETA:   0h 0m23s\r",
      "Progress:  41.9% words/sec/thread: 7182912 lr:  0.058104 avg.loss:  0.118903 ETA:   0h 0m23s\r",
      "Progress:  42.1% words/sec/thread: 7183035 lr:  0.057859 avg.loss:  0.118860 ETA:   0h 0m23s\r",
      "Progress:  42.4% words/sec/thread: 7183548 lr:  0.057612 avg.loss:  0.118893 ETA:   0h 0m23s\r",
      "Progress:  42.6% words/sec/thread: 7184753 lr:  0.057360 avg.loss:  0.118789 ETA:   0h 0m23s\r",
      "Progress:  42.9% words/sec/thread: 7185573 lr:  0.057111 avg.loss:  0.118709 ETA:   0h 0m23s\r",
      "Progress:  43.1% words/sec/thread: 7184701 lr:  0.056872 avg.loss:  0.118702 ETA:   0h 0m23s\r",
      "Progress:  43.4% words/sec/thread: 7185213 lr:  0.056624 avg.loss:  0.118596 ETA:   0h 0m23s\r",
      "Progress:  43.6% words/sec/thread: 7185721 lr:  0.056377 avg.loss:  0.118590 ETA:   0h 0m23s\r",
      "Progress:  43.9% words/sec/thread: 7186701 lr:  0.056126 avg.loss:  0.118529 ETA:   0h 0m22s\r",
      "Progress:  44.1% words/sec/thread: 7187424 lr:  0.055877 avg.loss:  0.118528 ETA:   0h 0m22s\r",
      "Progress:  44.4% words/sec/thread: 7187429 lr:  0.055633 avg.loss:  0.118503 ETA:   0h 0m22s\r",
      "Progress:  44.6% words/sec/thread: 7187556 lr:  0.055387 avg.loss:  0.118532 ETA:   0h 0m22s\r",
      "Progress:  44.9% words/sec/thread: 7188216 lr:  0.055139 avg.loss:  0.118555 ETA:   0h 0m22s\r",
      "Progress:  45.1% words/sec/thread: 7187534 lr:  0.054899 avg.loss:  0.118505 ETA:   0h 0m22s\r",
      "Progress:  45.3% words/sec/thread: 7186977 lr:  0.054658 avg.loss:  0.118385 ETA:   0h 0m22s\r",
      "Progress:  45.6% words/sec/thread: 7185965 lr:  0.054420 avg.loss:  0.118285 ETA:   0h 0m22s\r",
      "Progress:  45.8% words/sec/thread: 7186451 lr:  0.054172 avg.loss:  0.118248 ETA:   0h 0m22s\r",
      "Progress:  46.1% words/sec/thread: 7187128 lr:  0.053923 avg.loss:  0.118192 ETA:   0h 0m22s\r",
      "Progress:  46.3% words/sec/thread: 7187373 lr:  0.053677 avg.loss:  0.118178 ETA:   0h 0m21s\r",
      "Progress:  46.6% words/sec/thread: 7187997 lr:  0.053429 avg.loss:  0.118166 ETA:   0h 0m21s\r",
      "Progress:  46.8% words/sec/thread: 7188740 lr:  0.053179 avg.loss:  0.118154 ETA:   0h 0m21s\r",
      "Progress:  47.1% words/sec/thread: 7188814 lr:  0.052934 avg.loss:  0.118096 ETA:   0h 0m21s\r",
      "Progress:  47.3% words/sec/thread: 7188747 lr:  0.052690 avg.loss:  0.118067 ETA:   0h 0m21s\r",
      "Progress:  47.5% words/sec/thread: 7188062 lr:  0.052450 avg.loss:  0.118123 ETA:   0h 0m21s\r",
      "Progress:  47.8% words/sec/thread: 7185367 lr:  0.052224 avg.loss:  0.118095 ETA:   0h 0m21s\r",
      "Progress:  48.0% words/sec/thread: 7182773 lr:  0.051997 avg.loss:  0.118046 ETA:   0h 0m21s\r",
      "Progress:  48.2% words/sec/thread: 7182982 lr:  0.051751 avg.loss:  0.117986 ETA:   0h 0m21s\r",
      "Progress:  48.5% words/sec/thread: 7182986 lr:  0.051506 avg.loss:  0.117957 ETA:   0h 0m21s\r",
      "Progress:  48.7% words/sec/thread: 7183071 lr:  0.051261 avg.loss:  0.117836 ETA:   0h 0m20s\r",
      "Progress:  49.0% words/sec/thread: 7182575 lr:  0.051019 avg.loss:  0.117762 ETA:   0h 0m20s\r",
      "Progress:  49.2% words/sec/thread: 7182158 lr:  0.050778 avg.loss:  0.117675 ETA:   0h 0m20s\r",
      "Progress:  49.5% words/sec/thread: 7182154 lr:  0.050534 avg.loss:  0.117603 ETA:   0h 0m20s\r",
      "Progress:  49.7% words/sec/thread: 7182548 lr:  0.050287 avg.loss:  0.117558 ETA:   0h 0m20s\r",
      "Progress:  50.0% words/sec/thread: 7183072 lr:  0.050039 avg.loss:  0.117579 ETA:   0h 0m20s\r",
      "Progress:  50.2% words/sec/thread: 7183511 lr:  0.049791 avg.loss:  0.117486 ETA:   0h 0m20s\r",
      "Progress:  50.5% words/sec/thread: 7184376 lr:  0.049541 avg.loss:  0.117430 ETA:   0h 0m20s\r",
      "Progress:  50.7% words/sec/thread: 7185850 lr:  0.049286 avg.loss:  0.117412 ETA:   0h 0m20s\r",
      "Progress:  51.0% words/sec/thread: 7187653 lr:  0.049029 avg.loss:  0.117377 ETA:   0h 0m20s\r",
      "Progress:  51.2% words/sec/thread: 7189384 lr:  0.048772 avg.loss:  0.117367 ETA:   0h 0m19s\r",
      "Progress:  51.5% words/sec/thread: 7191182 lr:  0.048515 avg.loss:  0.117363 ETA:   0h 0m19s\r",
      "Progress:  51.7% words/sec/thread: 7192809 lr:  0.048258 avg.loss:  0.117323 ETA:   0h 0m19s\r",
      "Progress:  52.0% words/sec/thread: 7193511 lr:  0.048008 avg.loss:  0.117277 ETA:   0h 0m19s\r",
      "Progress:  52.2% words/sec/thread: 7193709 lr:  0.047762 avg.loss:  0.117247 ETA:   0h 0m19s\r",
      "Progress:  52.5% words/sec/thread: 7194464 lr:  0.047512 avg.loss:  0.117172 ETA:   0h 0m19s\r",
      "Progress:  52.7% words/sec/thread: 7194097 lr:  0.047270 avg.loss:  0.117101 ETA:   0h 0m19s\r",
      "Progress:  53.0% words/sec/thread: 7193094 lr:  0.047033 avg.loss:  0.116973 ETA:   0h 0m19s\r",
      "Progress:  53.2% words/sec/thread: 7192543 lr:  0.046792 avg.loss:  0.116913 ETA:   0h 0m19s\r",
      "Progress:  53.5% words/sec/thread: 7192444 lr:  0.046548 avg.loss:  0.116904 ETA:   0h 0m19s\r",
      "Progress:  53.7% words/sec/thread: 7193006 lr:  0.046299 avg.loss:  0.116838 ETA:   0h 0m18s\r",
      "Progress:  53.9% words/sec/thread: 7193108 lr:  0.046054 avg.loss:  0.116830 ETA:   0h 0m18s\r",
      "Progress:  54.2% words/sec/thread: 7192084 lr:  0.045817 avg.loss:  0.116799 ETA:   0h 0m18s\r",
      "Progress:  54.4% words/sec/thread: 7189459 lr:  0.045592 avg.loss:  0.116732 ETA:   0h 0m18s\r",
      "Progress:  54.6% words/sec/thread: 7187706 lr:  0.045361 avg.loss:  0.116716 ETA:   0h 0m18s\r",
      "Progress:  54.9% words/sec/thread: 7187884 lr:  0.045115 avg.loss:  0.116682 ETA:   0h 0m18s\r",
      "Progress:  55.1% words/sec/thread: 7188347 lr:  0.044867 avg.loss:  0.116671 ETA:   0h 0m18s\r",
      "Progress:  55.4% words/sec/thread: 7188440 lr:  0.044622 avg.loss:  0.116623 ETA:   0h 0m18s\r",
      "Progress:  55.6% words/sec/thread: 7189578 lr:  0.044368 avg.loss:  0.116609 ETA:   0h 0m18s\r",
      "Progress:  55.9% words/sec/thread: 7190433 lr:  0.044117 avg.loss:  0.116554 ETA:   0h 0m18s\r",
      "Progress:  56.1% words/sec/thread: 7191384 lr:  0.043865 avg.loss:  0.116503 ETA:   0h 0m17s\r",
      "Progress:  56.4% words/sec/thread: 7192568 lr:  0.043611 avg.loss:  0.116471 ETA:   0h 0m17s\r",
      "Progress:  56.6% words/sec/thread: 7192480 lr:  0.043367 avg.loss:  0.116401 ETA:   0h 0m17s\r",
      "Progress:  56.9% words/sec/thread: 7193091 lr:  0.043118 avg.loss:  0.116342 ETA:   0h 0m17s\r",
      "Progress:  57.1% words/sec/thread: 7194251 lr:  0.042864 avg.loss:  0.116328 ETA:   0h 0m17s\r",
      "Progress:  57.4% words/sec/thread: 7195473 lr:  0.042609 avg.loss:  0.116268 ETA:   0h 0m17s\r",
      "Progress:  57.6% words/sec/thread: 7196403 lr:  0.042357 avg.loss:  0.116224 ETA:   0h 0m17s\r",
      "Progress:  57.9% words/sec/thread: 7196714 lr:  0.042110 avg.loss:  0.116178 ETA:   0h 0m17s\r",
      "Progress:  58.1% words/sec/thread: 7197882 lr:  0.041856 avg.loss:  0.116186 ETA:   0h 0m17s\r",
      "Progress:  58.4% words/sec/thread: 7199035 lr:  0.041602 avg.loss:  0.116123 ETA:   0h 0m17s\r",
      "Progress:  58.6% words/sec/thread: 7198969 lr:  0.041357 avg.loss:  0.116018 ETA:   0h 0m16s\r",
      "Progress:  58.9% words/sec/thread: 7200007 lr:  0.041104 avg.loss:  0.115972 ETA:   0h 0m16s\r",
      "Progress:  59.1% words/sec/thread: 7200660 lr:  0.040854 avg.loss:  0.115882 ETA:   0h 0m16s\r",
      "Progress:  59.4% words/sec/thread: 7201561 lr:  0.040601 avg.loss:  0.115817 ETA:   0h 0m16s\r",
      "Progress:  59.7% words/sec/thread: 7202505 lr:  0.040347 avg.loss:  0.115741 ETA:   0h 0m16s\r",
      "Progress:  59.9% words/sec/thread: 7202314 lr:  0.040104 avg.loss:  0.115670 ETA:   0h 0m16s\r",
      "Progress:  60.1% words/sec/thread: 7203068 lr:  0.039853 avg.loss:  0.115713 ETA:   0h 0m16s\r",
      "Progress:  60.4% words/sec/thread: 7202404 lr:  0.039613 avg.loss:  0.115645 ETA:   0h 0m16s\r",
      "Progress:  60.6% words/sec/thread: 7201087 lr:  0.039379 avg.loss:  0.115619 ETA:   0h 0m16s\r",
      "Progress:  60.8% words/sec/thread: 7198197 lr:  0.039159 avg.loss:  0.115611 ETA:   0h 0m16s\r",
      "Progress:  61.1% words/sec/thread: 7195583 lr:  0.038936 avg.loss:  0.115535 ETA:   0h 0m15s\r",
      "Progress:  61.3% words/sec/thread: 7194351 lr:  0.038702 avg.loss:  0.115479 ETA:   0h 0m15s\r",
      "Progress:  61.5% words/sec/thread: 7192934 lr:  0.038469 avg.loss:  0.115453 ETA:   0h 0m15s\r",
      "Progress:  61.8% words/sec/thread: 7193190 lr:  0.038222 avg.loss:  0.115372 ETA:   0h 0m15s\r",
      "Progress:  62.0% words/sec/thread: 7193662 lr:  0.037974 avg.loss:  0.115352 ETA:   0h 0m15s\r",
      "Progress:  62.3% words/sec/thread: 7194182 lr:  0.037724 avg.loss:  0.115318 ETA:   0h 0m15s\r",
      "Progress:  62.5% words/sec/thread: 7194411 lr:  0.037478 avg.loss:  0.115308 ETA:   0h 0m15s\r",
      "Progress:  62.8% words/sec/thread: 7194373 lr:  0.037233 avg.loss:  0.115309 ETA:   0h 0m15s\r",
      "Progress:  63.0% words/sec/thread: 7195591 lr:  0.036978 avg.loss:  0.115268 ETA:   0h 0m15s\r",
      "Progress:  63.3% words/sec/thread: 7196878 lr:  0.036722 avg.loss:  0.115202 ETA:   0h 0m15s\r",
      "Progress:  63.5% words/sec/thread: 7198044 lr:  0.036467 avg.loss:  0.115128 ETA:   0h 0m14s\r",
      "Progress:  63.8% words/sec/thread: 7199428 lr:  0.036210 avg.loss:  0.115113 ETA:   0h 0m14s\r",
      "Progress:  64.0% words/sec/thread: 7200703 lr:  0.035953 avg.loss:  0.115036 ETA:   0h 0m14s\r",
      "Progress:  64.3% words/sec/thread: 7200935 lr:  0.035706 avg.loss:  0.114998 ETA:   0h 0m14s\r",
      "Progress:  64.5% words/sec/thread: 7200931 lr:  0.035461 avg.loss:  0.114944 ETA:   0h 0m14s\r",
      "Progress:  64.8% words/sec/thread: 7201429 lr:  0.035212 avg.loss:  0.114884 ETA:   0h 0m14s\r",
      "Progress:  65.0% words/sec/thread: 7201901 lr:  0.034963 avg.loss:  0.114807 ETA:   0h 0m14s\r",
      "Progress:  65.3% words/sec/thread: 7201901 lr:  0.034718 avg.loss:  0.114777 ETA:   0h 0m14s\r",
      "Progress:  65.5% words/sec/thread: 7202950 lr:  0.034463 avg.loss:  0.114731 ETA:   0h 0m14s\r",
      "Progress:  65.8% words/sec/thread: 7203573 lr:  0.034213 avg.loss:  0.114672 ETA:   0h 0m13s\r",
      "Progress:  66.0% words/sec/thread: 7204431 lr:  0.033960 avg.loss:  0.114627 ETA:   0h 0m13s\r",
      "Progress:  66.3% words/sec/thread: 7205377 lr:  0.033706 avg.loss:  0.114539 ETA:   0h 0m13s\r",
      "Progress:  66.5% words/sec/thread: 7206339 lr:  0.033452 avg.loss:  0.114517 ETA:   0h 0m13s\r",
      "Progress:  66.8% words/sec/thread: 7206718 lr:  0.033203 avg.loss:  0.114472 ETA:   0h 0m13s\r",
      "Progress:  67.0% words/sec/thread: 7206305 lr:  0.032962 avg.loss:  0.114393 ETA:   0h 0m13s\r",
      "Progress:  67.3% words/sec/thread: 7204967 lr:  0.032729 avg.loss:  0.114378 ETA:   0h 0m13s\r",
      "Progress:  67.5% words/sec/thread: 7203581 lr:  0.032497 avg.loss:  0.114302 ETA:   0h 0m13s\r",
      "Progress:  67.7% words/sec/thread: 7203732 lr:  0.032251 avg.loss:  0.114285 ETA:   0h 0m13s\r",
      "Progress:  68.0% words/sec/thread: 7203527 lr:  0.032008 avg.loss:  0.114235 ETA:   0h 0m13s\r",
      "Progress:  68.2% words/sec/thread: 7203404 lr:  0.031764 avg.loss:  0.114136 ETA:   0h 0m12s\r",
      "Progress:  68.5% words/sec/thread: 7202464 lr:  0.031528 avg.loss:  0.114106 ETA:   0h 0m12s\r",
      "Progress:  68.7% words/sec/thread: 7201540 lr:  0.031292 avg.loss:  0.114034 ETA:   0h 0m12s\r",
      "Progress:  69.0% words/sec/thread: 7201440 lr:  0.031048 avg.loss:  0.113957 ETA:   0h 0m12s\r",
      "Progress:  69.2% words/sec/thread: 7200573 lr:  0.030811 avg.loss:  0.113910 ETA:   0h 0m12s\r",
      "Progress:  69.4% words/sec/thread: 7199671 lr:  0.030575 avg.loss:  0.113875 ETA:   0h 0m12s\r",
      "Progress:  69.7% words/sec/thread: 7198956 lr:  0.030337 avg.loss:  0.113820 ETA:   0h 0m12s\r",
      "Progress:  69.9% words/sec/thread: 7198204 lr:  0.030099 avg.loss:  0.113764 ETA:   0h 0m12s\r",
      "Progress:  70.1% words/sec/thread: 7197170 lr:  0.029864 avg.loss:  0.113731 ETA:   0h 0m12s\r",
      "Progress:  70.4% words/sec/thread: 7197378 lr:  0.029617 avg.loss:  0.113665 ETA:   0h 0m12s\r",
      "Progress:  70.6% words/sec/thread: 7197552 lr:  0.029371 avg.loss:  0.113599 ETA:   0h 0m12s\r",
      "Progress:  70.9% words/sec/thread: 7196892 lr:  0.029132 avg.loss:  0.113552 ETA:   0h 0m11s\r",
      "Progress:  71.1% words/sec/thread: 7196900 lr:  0.028888 avg.loss:  0.113509 ETA:   0h 0m11s\r",
      "Progress:  71.4% words/sec/thread: 7197586 lr:  0.028636 avg.loss:  0.113440 ETA:   0h 0m11s\r",
      "Progress:  71.6% words/sec/thread: 7198349 lr:  0.028384 avg.loss:  0.113370 ETA:   0h 0m11s\r",
      "Progress:  71.9% words/sec/thread: 7198893 lr:  0.028133 avg.loss:  0.113342 ETA:   0h 0m11s\r",
      "Progress:  72.1% words/sec/thread: 7199410 lr:  0.027883 avg.loss:  0.113271 ETA:   0h 0m11s\r",
      "Progress:  72.4% words/sec/thread: 7199138 lr:  0.027641 avg.loss:  0.113228 ETA:   0h 0m11s\r",
      "Progress:  72.6% words/sec/thread: 7198569 lr:  0.027402 avg.loss:  0.113193 ETA:   0h 0m11s\r",
      "Progress:  72.8% words/sec/thread: 7198769 lr:  0.027155 avg.loss:  0.113133 ETA:   0h 0m11s\r",
      "Progress:  73.1% words/sec/thread: 7198613 lr:  0.026912 avg.loss:  0.113069 ETA:   0h 0m10s\r",
      "Progress:  73.3% words/sec/thread: 7198525 lr:  0.026668 avg.loss:  0.113014 ETA:   0h 0m10s\r",
      "Progress:  73.6% words/sec/thread: 7198179 lr:  0.026426 avg.loss:  0.112992 ETA:   0h 0m10s\r",
      "Progress:  73.8% words/sec/thread: 7195046 lr:  0.026214 avg.loss:  0.112943 ETA:   0h 0m10s\r",
      "Progress:  74.0% words/sec/thread: 7195586 lr:  0.025963 avg.loss:  0.112922 ETA:   0h 0m10s\r",
      "Progress:  74.3% words/sec/thread: 7196768 lr:  0.025707 avg.loss:  0.112912 ETA:   0h 0m10s\r",
      "Progress:  74.6% words/sec/thread: 7197937 lr:  0.025450 avg.loss:  0.112871 ETA:   0h 0m10s\r",
      "Progress:  74.8% words/sec/thread: 7198855 lr:  0.025195 avg.loss:  0.112790 ETA:   0h 0m10s\r",
      "Progress:  75.1% words/sec/thread: 7199529 lr:  0.024943 avg.loss:  0.112753 ETA:   0h 0m10s\r",
      "Progress:  75.3% words/sec/thread: 7200701 lr:  0.024686 avg.loss:  0.112702 ETA:   0h 0m10s\r",
      "Progress:  75.6% words/sec/thread: 7201861 lr:  0.024429 avg.loss:  0.112694 ETA:   0h 0m 9s\r",
      "Progress:  75.8% words/sec/thread: 7202992 lr:  0.024172 avg.loss:  0.112669 ETA:   0h 0m 9s\r",
      "Progress:  76.1% words/sec/thread: 7204149 lr:  0.023915 avg.loss:  0.112629 ETA:   0h 0m 9s\r",
      "Progress:  76.3% words/sec/thread: 7205118 lr:  0.023660 avg.loss:  0.112596 ETA:   0h 0m 9s\r",
      "Progress:  76.6% words/sec/thread: 7205036 lr:  0.023415 avg.loss:  0.112584 ETA:   0h 0m 9s\r",
      "Progress:  76.8% words/sec/thread: 7205147 lr:  0.023169 avg.loss:  0.112547 ETA:   0h 0m 9s\r",
      "Progress:  77.1% words/sec/thread: 7205403 lr:  0.022921 avg.loss:  0.112497 ETA:   0h 0m 9s\r",
      "Progress:  77.3% words/sec/thread: 7205857 lr:  0.022671 avg.loss:  0.112454 ETA:   0h 0m 9s\r",
      "Progress:  77.6% words/sec/thread: 7205492 lr:  0.022430 avg.loss:  0.112419 ETA:   0h 0m 9s\r",
      "Progress:  77.8% words/sec/thread: 7205345 lr:  0.022187 avg.loss:  0.112418 ETA:   0h 0m 9s\r",
      "Progress:  78.1% words/sec/thread: 7205053 lr:  0.021945 avg.loss:  0.112375 ETA:   0h 0m 8s\r",
      "Progress:  78.3% words/sec/thread: 7204975 lr:  0.021701 avg.loss:  0.112338 ETA:   0h 0m 8s\r",
      "Progress:  78.5% words/sec/thread: 7204650 lr:  0.021459 avg.loss:  0.112263 ETA:   0h 0m 8s\r",
      "Progress:  78.8% words/sec/thread: 7205361 lr:  0.021206 avg.loss:  0.112232 ETA:   0h 0m 8s\r",
      "Progress:  79.0% words/sec/thread: 7205913 lr:  0.020955 avg.loss:  0.112205 ETA:   0h 0m 8s\r",
      "Progress:  79.3% words/sec/thread: 7206076 lr:  0.020708 avg.loss:  0.112160 ETA:   0h 0m 8s\r",
      "Progress:  79.5% words/sec/thread: 7205735 lr:  0.020467 avg.loss:  0.112122 ETA:   0h 0m 8s\r",
      "Progress:  79.8% words/sec/thread: 7205482 lr:  0.020224 avg.loss:  0.112049 ETA:   0h 0m 8s\r",
      "Progress:  80.0% words/sec/thread: 7205397 lr:  0.019980 avg.loss:  0.112016 ETA:   0h 0m 8s\r",
      "Progress:  80.2% words/sec/thread: 7203881 lr:  0.019752 avg.loss:  0.111959 ETA:   0h 0m 8s\r",
      "Progress:  80.5% words/sec/thread: 7202564 lr:  0.019522 avg.loss:  0.111945 ETA:   0h 0m 7s\r",
      "Progress:  80.7% words/sec/thread: 7202145 lr:  0.019281 avg.loss:  0.111892 ETA:   0h 0m 7s\r",
      "Progress:  81.0% words/sec/thread: 7202346 lr:  0.019034 avg.loss:  0.111821 ETA:   0h 0m 7s\r",
      "Progress:  81.2% words/sec/thread: 7203013 lr:  0.018782 avg.loss:  0.111783 ETA:   0h 0m 7s\r",
      "Progress:  81.5% words/sec/thread: 7203523 lr:  0.018531 avg.loss:  0.111717 ETA:   0h 0m 7s\r",
      "Progress:  81.7% words/sec/thread: 7204051 lr:  0.018280 avg.loss:  0.111688 ETA:   0h 0m 7s\r",
      "Progress:  82.0% words/sec/thread: 7204130 lr:  0.018034 avg.loss:  0.111612 ETA:   0h 0m 7s\r",
      "Progress:  82.2% words/sec/thread: 7204085 lr:  0.017789 avg.loss:  0.111556 ETA:   0h 0m 7s\r",
      "Progress:  82.5% words/sec/thread: 7204405 lr:  0.017541 avg.loss:  0.111507 ETA:   0h 0m 7s\r",
      "Progress:  82.7% words/sec/thread: 7204934 lr:  0.017290 avg.loss:  0.111477 ETA:   0h 0m 7s\r",
      "Progress:  83.0% words/sec/thread: 7204873 lr:  0.017045 avg.loss:  0.111436 ETA:   0h 0m 6s\r",
      "Progress:  83.2% words/sec/thread: 7204376 lr:  0.016806 avg.loss:  0.111355 ETA:   0h 0m 6s\r",
      "Progress:  83.4% words/sec/thread: 7204054 lr:  0.016565 avg.loss:  0.111349 ETA:   0h 0m 6s\r",
      "Progress:  83.7% words/sec/thread: 7204567 lr:  0.016314 avg.loss:  0.111293 ETA:   0h 0m 6s\r",
      "Progress:  83.9% words/sec/thread: 7204837 lr:  0.016065 avg.loss:  0.111237 ETA:   0h 0m 6s\r",
      "Progress:  84.2% words/sec/thread: 7205349 lr:  0.015814 avg.loss:  0.111189 ETA:   0h 0m 6s\r",
      "Progress:  84.4% words/sec/thread: 7205701 lr:  0.015565 avg.loss:  0.111146 ETA:   0h 0m 6s\r",
      "Progress:  84.7% words/sec/thread: 7205057 lr:  0.015328 avg.loss:  0.111121 ETA:   0h 0m 6s\r",
      "Progress:  84.9% words/sec/thread: 7204210 lr:  0.015092 avg.loss:  0.111070 ETA:   0h 0m 6s\r",
      "Progress:  85.2% words/sec/thread: 7204069 lr:  0.014849 avg.loss:  0.111039 ETA:   0h 0m 6s\r",
      "Progress:  85.4% words/sec/thread: 7203620 lr:  0.014609 avg.loss:  0.110987 ETA:   0h 0m 5s\r",
      "Progress:  85.6% words/sec/thread: 7203403 lr:  0.014367 avg.loss:  0.110940 ETA:   0h 0m 5s\r",
      "Progress:  85.9% words/sec/thread: 7204135 lr:  0.014113 avg.loss:  0.110879 ETA:   0h 0m 5s\r",
      "Progress:  86.1% words/sec/thread: 7204948 lr:  0.013858 avg.loss:  0.110833 ETA:   0h 0m 5s\r",
      "Progress:  86.4% words/sec/thread: 7205245 lr:  0.013609 avg.loss:  0.110772 ETA:   0h 0m 5s\r",
      "Progress:  86.6% words/sec/thread: 7204663 lr:  0.013371 avg.loss:  0.110718 ETA:   0h 0m 5s\r",
      "Progress:  86.9% words/sec/thread: 7204092 lr:  0.013133 avg.loss:  0.110654 ETA:   0h 0m 5s\r",
      "Progress:  87.1% words/sec/thread: 7201861 lr:  0.012915 avg.loss:  0.110616 ETA:   0h 0m 5s\r",
      "Progress:  87.3% words/sec/thread: 7200838 lr:  0.012682 avg.loss:  0.110601 ETA:   0h 0m 5s\r",
      "Progress:  87.6% words/sec/thread: 7200230 lr:  0.012445 avg.loss:  0.110581 ETA:   0h 0m 5s\r",
      "Progress:  87.8% words/sec/thread: 7199851 lr:  0.012204 avg.loss:  0.110535 ETA:   0h 0m 4s\r",
      "Progress:  88.0% words/sec/thread: 7199534 lr:  0.011963 avg.loss:  0.110484 ETA:   0h 0m 4s\r",
      "Progress:  88.3% words/sec/thread: 7199277 lr:  0.011722 avg.loss:  0.110419 ETA:   0h 0m 4s\r",
      "Progress:  88.5% words/sec/thread: 7199855 lr:  0.011470 avg.loss:  0.110367 ETA:   0h 0m 4s\r",
      "Progress:  88.8% words/sec/thread: 7200119 lr:  0.011221 avg.loss:  0.110302 ETA:   0h 0m 4s\r",
      "Progress:  89.0% words/sec/thread: 7200438 lr:  0.010973 avg.loss:  0.110265 ETA:   0h 0m 4s\r",
      "Progress:  89.3% words/sec/thread: 7200833 lr:  0.010723 avg.loss:  0.110216 ETA:   0h 0m 4s\r",
      "Progress:  89.5% words/sec/thread: 7200886 lr:  0.010477 avg.loss:  0.110192 ETA:   0h 0m 4s\r",
      "Progress:  89.8% words/sec/thread: 7200912 lr:  0.010232 avg.loss:  0.110144 ETA:   0h 0m 4s\r",
      "Progress:  90.0% words/sec/thread: 7201031 lr:  0.009985 avg.loss:  0.110110 ETA:   0h 0m 4s\r",
      "Progress:  90.3% words/sec/thread: 7201543 lr:  0.009734 avg.loss:  0.110084 ETA:   0h 0m 3s\r",
      "Progress:  90.5% words/sec/thread: 7201975 lr:  0.009484 avg.loss:  0.110057 ETA:   0h 0m 3s\r",
      "Progress:  90.8% words/sec/thread: 7202321 lr:  0.009234 avg.loss:  0.110034 ETA:   0h 0m 3s\r",
      "Progress:  91.0% words/sec/thread: 7203050 lr:  0.008980 avg.loss:  0.109981 ETA:   0h 0m 3s\r",
      "Progress:  91.3% words/sec/thread: 7203458 lr:  0.008730 avg.loss:  0.109944 ETA:   0h 0m 3s\r",
      "Progress:  91.5% words/sec/thread: 7203597 lr:  0.008483 avg.loss:  0.109927 ETA:   0h 0m 3s\r",
      "Progress:  91.8% words/sec/thread: 7203559 lr:  0.008239 avg.loss:  0.109885 ETA:   0h 0m 3s\r",
      "Progress:  92.0% words/sec/thread: 7203677 lr:  0.007992 avg.loss:  0.109837 ETA:   0h 0m 3s\r",
      "Progress:  92.3% words/sec/thread: 7203642 lr:  0.007746 avg.loss:  0.109784 ETA:   0h 0m 3s\r",
      "Progress:  92.5% words/sec/thread: 7204094 lr:  0.007496 avg.loss:  0.109747 ETA:   0h 0m 3s\r",
      "Progress:  92.8% words/sec/thread: 7204302 lr:  0.007248 avg.loss:  0.109680 ETA:   0h 0m 2s\r",
      "Progress:  93.0% words/sec/thread: 7204670 lr:  0.006998 avg.loss:  0.109658 ETA:   0h 0m 2s\r",
      "Progress:  93.3% words/sec/thread: 7205358 lr:  0.006744 avg.loss:  0.109629 ETA:   0h 0m 2s\r",
      "Progress:  93.5% words/sec/thread: 7205590 lr:  0.006496 avg.loss:  0.109590 ETA:   0h 0m 2s\r",
      "Progress:  93.7% words/sec/thread: 7205161 lr:  0.006256 avg.loss:  0.109563 ETA:   0h 0m 2s\r",
      "Progress:  94.0% words/sec/thread: 7205530 lr:  0.006007 avg.loss:  0.109557 ETA:   0h 0m 2s\r",
      "Progress:  94.2% words/sec/thread: 7205942 lr:  0.005756 avg.loss:  0.109531 ETA:   0h 0m 2s\r",
      "Progress:  94.5% words/sec/thread: 7206343 lr:  0.005506 avg.loss:  0.109494 ETA:   0h 0m 2s\r",
      "Progress:  94.7% words/sec/thread: 7206351 lr:  0.005260 avg.loss:  0.109454 ETA:   0h 0m 2s\r",
      "Progress:  95.0% words/sec/thread: 7206877 lr:  0.005008 avg.loss:  0.109411 ETA:   0h 0m 2s\r",
      "Progress:  95.2% words/sec/thread: 7207117 lr:  0.004760 avg.loss:  0.109370 ETA:   0h 0m 1s\r",
      "Progress:  95.5% words/sec/thread: 7207501 lr:  0.004509 avg.loss:  0.109319 ETA:   0h 0m 1s\r",
      "Progress:  95.7% words/sec/thread: 7207750 lr:  0.004261 avg.loss:  0.109269 ETA:   0h 0m 1s\r",
      "Progress:  96.0% words/sec/thread: 7207801 lr:  0.004015 avg.loss:  0.109234 ETA:   0h 0m 1s\r",
      "Progress:  96.2% words/sec/thread: 7208486 lr:  0.003761 avg.loss:  0.109178 ETA:   0h 0m 1s\r",
      "Progress:  96.5% words/sec/thread: 7209381 lr:  0.003504 avg.loss:  0.109155 ETA:   0h 0m 1s\r",
      "Progress:  96.7% words/sec/thread: 7209991 lr:  0.003250 avg.loss:  0.109097 ETA:   0h 0m 1s\r",
      "Progress:  97.0% words/sec/thread: 7210679 lr:  0.002996 avg.loss:  0.109064 ETA:   0h 0m 1s\r",
      "Progress:  97.3% words/sec/thread: 7211029 lr:  0.002746 avg.loss:  0.109006 ETA:   0h 0m 1s\r",
      "Progress:  97.5% words/sec/thread: 7211533 lr:  0.002494 avg.loss:  0.108982 ETA:   0h 0m 1s\r",
      "Progress:  97.8% words/sec/thread: 7212111 lr:  0.002241 avg.loss:  0.108919 ETA:   0h 0m 0s\r",
      "Progress:  98.0% words/sec/thread: 7212700 lr:  0.001987 avg.loss:  0.108869 ETA:   0h 0m 0s\r",
      "Progress:  98.2% words/sec/thread: 7209703 lr:  0.001783 avg.loss:  0.108830 ETA:   0h 0m 0s\r",
      "Progress:  98.5% words/sec/thread: 7209364 lr:  0.001542 avg.loss:  0.108790 ETA:   0h 0m 0s\r",
      "Progress:  98.7% words/sec/thread: 7208830 lr:  0.001304 avg.loss:  0.108749 ETA:   0h 0m 0s\r",
      "Progress:  98.9% words/sec/thread: 7209117 lr:  0.001055 avg.loss:  0.108696 ETA:   0h 0m 0s\r",
      "Progress:  99.2% words/sec/thread: 7209429 lr:  0.000805 avg.loss:  0.108651 ETA:   0h 0m 0s\r",
      "Progress:  99.4% words/sec/thread: 7209815 lr:  0.000555 avg.loss:  0.108641 ETA:   0h 0m 0s\r",
      "Progress:  99.7% words/sec/thread: 7209415 lr:  0.000315 avg.loss:  0.108614 ETA:   0h 0m 0s\r",
      "Progress:  99.9% words/sec/thread: 7207805 lr:  0.000092 avg.loss:  0.108552 ETA:   0h 0m 0s\r",
      "Progress: 100.0% words/sec/thread: 7196795 lr: -0.000000 avg.loss:  0.108524 ETA:   0h 0m 0s\r",
      "Progress: 100.0% words/sec/thread: 7196780 lr:  0.000000 avg.loss:  0.108524 ETA:   0h 0m 0s\n"
     ]
    }
   ],
   "source": [
    "model.save_model(\"model-ms-id.ftz\")"
   ]
  },
  {
   "cell_type": "code",
   "execution_count": 1,
   "metadata": {},
   "outputs": [],
   "source": [
    "!cp model-ms-id.bin ~/ssd3/fasttext-language-detection-ms-id/fasttext.bin\n",
    "!cp model-ms-id.ftz ~/ssd3/fasttext-language-detection-ms-id/fasttext.ftz"
   ]
  }
 ],
 "metadata": {
  "kernelspec": {
   "display_name": "Python 3 (ipykernel)",
   "language": "python",
   "name": "python3"
  },
  "language_info": {
   "codemirror_mode": {
    "name": "ipython",
    "version": 3
   },
   "file_extension": ".py",
   "mimetype": "text/x-python",
   "name": "python",
   "nbconvert_exporter": "python",
   "pygments_lexer": "ipython3",
   "version": "3.8.10"
  }
 },
 "nbformat": 4,
 "nbformat_minor": 4
}
