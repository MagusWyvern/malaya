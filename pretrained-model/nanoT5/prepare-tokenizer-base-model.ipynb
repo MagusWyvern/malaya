{
 "cells": [
  {
   "cell_type": "code",
   "execution_count": 4,
   "metadata": {},
   "outputs": [],
   "source": [
    "from transformers import GPT2Tokenizer\n",
    "from transformers import (\n",
    "    AutoTokenizer,\n",
    "    T5ForConditionalGeneration,\n",
    "    AutoConfig,\n",
    ")\n",
    "from tokenizers import AddedToken\n",
    "\n",
    "tokenizer = GPT2Tokenizer('/home/husein/dev/malay-dataset/prepare-llm/32k-vocab.json',\n",
    "             '/home/husein/dev/malay-dataset/prepare-llm/32k-merges.txt')\n",
    "tokenizer_t5 = AutoTokenizer.from_pretrained('google/t5-v1_1-base')\n",
    "additional = []\n",
    "for t in tokenizer_t5.additional_special_tokens:\n",
    "    additional.append(AddedToken(t))\n",
    "tokenizer.add_special_tokens({\"additional_special_tokens\": additional})\n",
    "tokenizer.pad_token = '<s>'"
   ]
  },
  {
   "cell_type": "code",
   "execution_count": 3,
   "metadata": {},
   "outputs": [
    {
     "data": {
      "text/plain": [
       "('./out-base-1.1/tokenizer_config.json',\n",
       " './out-base-1.1/special_tokens_map.json',\n",
       " './out-base-1.1/vocab.json',\n",
       " './out-base-1.1/merges.txt',\n",
       " './out-base-1.1/added_tokens.json')"
      ]
     },
     "execution_count": 3,
     "metadata": {},
     "output_type": "execute_result"
    }
   ],
   "source": [
    "tokenizer.save_pretrained('./out-base-1.1')"
   ]
  },
  {
   "cell_type": "code",
   "execution_count": 8,
   "metadata": {},
   "outputs": [],
   "source": [
    "config = AutoConfig.from_pretrained(\n",
    "    'google/t5-v1_1-base'\n",
    ")\n",
    "config.dropout_rate = 0.0"
   ]
  },
  {
   "cell_type": "code",
   "execution_count": 9,
   "metadata": {},
   "outputs": [],
   "source": [
    "model = T5ForConditionalGeneration(\n",
    "    config,\n",
    ")"
   ]
  },
  {
   "cell_type": "code",
   "execution_count": 10,
   "metadata": {},
   "outputs": [],
   "source": [
    "model.save_pretrained('./out-base-1.1')"
   ]
  }
 ],
 "metadata": {
  "kernelspec": {
   "display_name": "Python 3 (ipykernel)",
   "language": "python",
   "name": "python3"
  },
  "language_info": {
   "codemirror_mode": {
    "name": "ipython",
    "version": 3
   },
   "file_extension": ".py",
   "mimetype": "text/x-python",
   "name": "python",
   "nbconvert_exporter": "python",
   "pygments_lexer": "ipython3",
   "version": "3.8.10"
  }
 },
 "nbformat": 4,
 "nbformat_minor": 4
}
