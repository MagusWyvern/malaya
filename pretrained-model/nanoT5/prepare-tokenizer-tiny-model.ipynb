{
 "cells": [
  {
   "cell_type": "code",
   "execution_count": 1,
   "metadata": {},
   "outputs": [],
   "source": [
    "from transformers import GPT2Tokenizer\n",
    "from transformers import (\n",
    "    AutoTokenizer,\n",
    "    T5ForConditionalGeneration,\n",
    "    AutoConfig,\n",
    ")\n",
    "from tokenizers import AddedToken\n",
    "\n",
    "tokenizer = GPT2Tokenizer('/home/husein/dev/malay-dataset/prepare-llm/32k-vocab.json',\n",
    "             '/home/husein/dev/malay-dataset/prepare-llm/32k-merges.txt')\n",
    "tokenizer_t5 = AutoTokenizer.from_pretrained('google/t5-v1_1-base')\n",
    "additional = []\n",
    "for t in tokenizer_t5.additional_special_tokens:\n",
    "    additional.append(AddedToken(t))\n",
    "tokenizer.add_special_tokens({\"additional_special_tokens\": additional})\n",
    "tokenizer.pad_token = '<s>'"
   ]
  },
  {
   "cell_type": "code",
   "execution_count": 2,
   "metadata": {},
   "outputs": [
    {
     "data": {
      "text/plain": [
       "('./out-tiny-1.1/tokenizer_config.json',\n",
       " './out-tiny-1.1/special_tokens_map.json',\n",
       " './out-tiny-1.1/vocab.json',\n",
       " './out-tiny-1.1/merges.txt',\n",
       " './out-tiny-1.1/added_tokens.json')"
      ]
     },
     "execution_count": 2,
     "metadata": {},
     "output_type": "execute_result"
    }
   ],
   "source": [
    "tokenizer.save_pretrained('./out-tiny-1.1')"
   ]
  },
  {
   "cell_type": "code",
   "execution_count": 3,
   "metadata": {},
   "outputs": [],
   "source": [
    "config = AutoConfig.from_pretrained(\n",
    "    'google/t5-v1_1-base'\n",
    ")\n",
    "config.dropout_rate = 0.0"
   ]
  },
  {
   "cell_type": "code",
   "execution_count": 6,
   "metadata": {},
   "outputs": [],
   "source": [
    "config.d_ff = 1344\n",
    "config.num_heads = 12\n",
    "config.num_layers = 4\n",
    "config.d_model = 384\n",
    "config.num_decoder_layers = 4"
   ]
  },
  {
   "cell_type": "code",
   "execution_count": 7,
   "metadata": {},
   "outputs": [],
   "source": [
    "model = T5ForConditionalGeneration(\n",
    "    config,\n",
    ")"
   ]
  },
  {
   "cell_type": "code",
   "execution_count": 8,
   "metadata": {},
   "outputs": [],
   "source": [
    "model.save_pretrained('./out-tiny-1.1')"
   ]
  },
  {
   "cell_type": "code",
   "execution_count": 10,
   "metadata": {},
   "outputs": [
    {
     "name": "stdout",
     "output_type": "stream",
     "text": [
      "total 197M\r\n",
      "-rw-r--r-- 1 husein husein 2.6K Jul   5 18:19 added_tokens.json\r\n",
      "-rw-r--r-- 1 husein husein  761 Jul   5 18:20 config.json\r\n",
      "-rw-r--r-- 1 husein husein 297K Jul   5 18:19 merges.txt\r\n",
      "-rw-r--r-- 1 husein husein 196M Jul   5 18:20 pytorch_model.bin\r\n",
      "-rw-r--r-- 1 husein husein  15K Jul   5 18:19 special_tokens_map.json\r\n",
      "-rw-r--r-- 1 husein husein  714 Jul   5 18:19 tokenizer_config.json\r\n",
      "-rw-r--r-- 1 husein husein 631K Jul   5 18:19 vocab.json\r\n"
     ]
    }
   ],
   "source": [
    "!ls -lh out-tiny-1.1"
   ]
  }
 ],
 "metadata": {
  "kernelspec": {
   "display_name": "Python 3 (ipykernel)",
   "language": "python",
   "name": "python3"
  },
  "language_info": {
   "codemirror_mode": {
    "name": "ipython",
    "version": 3
   },
   "file_extension": ".py",
   "mimetype": "text/x-python",
   "name": "python",
   "nbconvert_exporter": "python",
   "pygments_lexer": "ipython3",
   "version": "3.8.10"
  }
 },
 "nbformat": 4,
 "nbformat_minor": 4
}
