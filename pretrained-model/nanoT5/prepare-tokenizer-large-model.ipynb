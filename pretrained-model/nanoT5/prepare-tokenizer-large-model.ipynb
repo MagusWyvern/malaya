{
 "cells": [
  {
   "cell_type": "code",
   "execution_count": 1,
   "metadata": {},
   "outputs": [
    {
     "data": {
      "application/vnd.jupyter.widget-view+json": {
       "model_id": "a9fc77f6fcac4f3bb5bdf8314cb71498",
       "version_major": 2,
       "version_minor": 0
      },
      "text/plain": [
       "Downloading:   0%|          | 0.00/1.86k [00:00<?, ?B/s]"
      ]
     },
     "metadata": {},
     "output_type": "display_data"
    },
    {
     "data": {
      "application/vnd.jupyter.widget-view+json": {
       "model_id": "9c5c579393e54aef8775e3c79fb81d86",
       "version_major": 2,
       "version_minor": 0
      },
      "text/plain": [
       "Downloading:   0%|          | 0.00/607 [00:00<?, ?B/s]"
      ]
     },
     "metadata": {},
     "output_type": "display_data"
    },
    {
     "data": {
      "application/vnd.jupyter.widget-view+json": {
       "model_id": "c26a49358aff4222b49815333943678b",
       "version_major": 2,
       "version_minor": 0
      },
      "text/plain": [
       "Downloading:   0%|          | 0.00/792k [00:00<?, ?B/s]"
      ]
     },
     "metadata": {},
     "output_type": "display_data"
    },
    {
     "data": {
      "application/vnd.jupyter.widget-view+json": {
       "model_id": "deb1a828f2484c209ed1cfbb93fbba26",
       "version_major": 2,
       "version_minor": 0
      },
      "text/plain": [
       "Downloading:   0%|          | 0.00/1.79k [00:00<?, ?B/s]"
      ]
     },
     "metadata": {},
     "output_type": "display_data"
    }
   ],
   "source": [
    "from transformers import GPT2Tokenizer\n",
    "from transformers import (\n",
    "    AutoTokenizer,\n",
    "    T5ForConditionalGeneration,\n",
    "    AutoConfig,\n",
    ")\n",
    "from tokenizers import AddedToken\n",
    "\n",
    "tokenizer = GPT2Tokenizer('/home/husein/dev/malay-dataset/prepare-llm/32k-vocab.json',\n",
    "             '/home/husein/dev/malay-dataset/prepare-llm/32k-merges.txt')\n",
    "tokenizer_t5 = AutoTokenizer.from_pretrained('google/t5-v1_1-large')\n",
    "additional = []\n",
    "for t in tokenizer_t5.additional_special_tokens:\n",
    "    additional.append(AddedToken(t))\n",
    "tokenizer.add_special_tokens({\"additional_special_tokens\": additional})\n",
    "tokenizer.pad_token = '<s>'"
   ]
  },
  {
   "cell_type": "code",
   "execution_count": 2,
   "metadata": {},
   "outputs": [
    {
     "data": {
      "text/plain": [
       "('./out-large-1.1/tokenizer_config.json',\n",
       " './out-large-1.1/special_tokens_map.json',\n",
       " './out-large-1.1/vocab.json',\n",
       " './out-large-1.1/merges.txt',\n",
       " './out-large-1.1/added_tokens.json')"
      ]
     },
     "execution_count": 2,
     "metadata": {},
     "output_type": "execute_result"
    }
   ],
   "source": [
    "tokenizer.save_pretrained('./out-large-1.1')"
   ]
  },
  {
   "cell_type": "code",
   "execution_count": 3,
   "metadata": {},
   "outputs": [],
   "source": [
    "config = AutoConfig.from_pretrained(\n",
    "    'google/t5-v1_1-large'\n",
    ")\n",
    "config.dropout_rate = 0.0"
   ]
  },
  {
   "cell_type": "code",
   "execution_count": 4,
   "metadata": {},
   "outputs": [],
   "source": [
    "model = T5ForConditionalGeneration(\n",
    "    config,\n",
    ")"
   ]
  },
  {
   "cell_type": "code",
   "execution_count": 5,
   "metadata": {},
   "outputs": [],
   "source": [
    "model.save_pretrained('./out-large-1.1')"
   ]
  },
  {
   "cell_type": "code",
   "execution_count": 6,
   "metadata": {},
   "outputs": [
    {
     "name": "stdout",
     "output_type": "stream",
     "text": [
      "total 3.0G\r\n",
      "-rw-r--r-- 1 husein husein 2.6K Jul  22 15:24 added_tokens.json\r\n",
      "-rw-r--r-- 1 husein husein  765 Jul  22 15:24 config.json\r\n",
      "-rw-r--r-- 1 husein husein 297K Jul  22 15:24 merges.txt\r\n",
      "-rw-r--r-- 1 husein husein 3.0G Jul  22 15:24 pytorch_model.bin\r\n",
      "-rw-r--r-- 1 husein husein  15K Jul  22 15:24 special_tokens_map.json\r\n",
      "-rw-r--r-- 1 husein husein  714 Jul  22 15:24 tokenizer_config.json\r\n",
      "-rw-r--r-- 1 husein husein 631K Jul  22 15:24 vocab.json\r\n"
     ]
    }
   ],
   "source": [
    "!ls -lh out-large-1.1"
   ]
  }
 ],
 "metadata": {
  "kernelspec": {
   "display_name": "Python 3 (ipykernel)",
   "language": "python",
   "name": "python3"
  },
  "language_info": {
   "codemirror_mode": {
    "name": "ipython",
    "version": 3
   },
   "file_extension": ".py",
   "mimetype": "text/x-python",
   "name": "python",
   "nbconvert_exporter": "python",
   "pygments_lexer": "ipython3",
   "version": "3.8.10"
  }
 },
 "nbformat": 4,
 "nbformat_minor": 4
}
