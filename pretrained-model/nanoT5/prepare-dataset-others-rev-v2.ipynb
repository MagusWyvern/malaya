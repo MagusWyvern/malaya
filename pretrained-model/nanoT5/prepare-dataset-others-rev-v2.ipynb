{
 "cells": [
  {
   "cell_type": "code",
   "execution_count": 1,
   "metadata": {},
   "outputs": [],
   "source": [
    "import json\n",
    "from tqdm import tqdm"
   ]
  },
  {
   "cell_type": "code",
   "execution_count": 2,
   "metadata": {},
   "outputs": [],
   "source": [
    "f = open('combine-others-v2.jsonl', 'w')"
   ]
  },
  {
   "cell_type": "code",
   "execution_count": 3,
   "metadata": {
    "scrolled": true
   },
   "outputs": [
    {
     "data": {
      "text/plain": [
       "10"
      ]
     },
     "execution_count": 3,
     "metadata": {},
     "output_type": "execute_result"
    }
   ],
   "source": [
    "from glob import glob\n",
    "\n",
    "jawi = glob('/home/husein/ssd3/jawi/wiki-rumi-jawi-*.jsonl')\n",
    "len(jawi)"
   ]
  },
  {
   "cell_type": "code",
   "execution_count": 4,
   "metadata": {},
   "outputs": [],
   "source": [
    "for file in jawi:\n",
    "    with open(file) as fopen:\n",
    "        for l in fopen:\n",
    "            t = json.loads(l)['jawi']\n",
    "            f.write(f'{json.dumps(t)}\\n')"
   ]
  },
  {
   "cell_type": "code",
   "execution_count": 5,
   "metadata": {},
   "outputs": [],
   "source": [
    "files = [\n",
    "    '/home/husein/ssd3/llm/carigold.jsonl',\n",
    "    '/home/husein/ssd3/llm/fb-dedup.jsonl',\n",
    "    '/home/husein/ssd3/llm/SeriousKopitiam.json',\n",
    "    '/home/husein/ssd3/llm/hardwarezone-sg.jsonl',\n",
    "    '/home/husein/ssd3/llm/c-cari-com-my.jsonl',\n",
    "]"
   ]
  },
  {
   "cell_type": "code",
   "execution_count": null,
   "metadata": {
    "scrolled": true
   },
   "outputs": [
    {
     "name": "stdout",
     "output_type": "stream",
     "text": [
      "/home/husein/ssd3/llm/c-cari-com-my.jsonl\n",
      "/home/husein/ssd3/llm/hardwarezone-sg.jsonl\n",
      "/home/husein/ssd3/llm/SeriousKopitiam.json\n",
      "/home/husein/ssd3/llm/fb-dedup.jsonl\n",
      "/home/husein/ssd3/llm/carigold.jsonl\n"
     ]
    }
   ],
   "source": [
    "for file in files[::-1]:\n",
    "    print(file)\n",
    "    with open(file) as fopen:\n",
    "        if file.endswith('.jsonl'):\n",
    "            count = 0\n",
    "            for l in fopen:\n",
    "                data = json.loads(l)\n",
    "                if isinstance(data, dict):\n",
    "                    if 'original' in data:\n",
    "                        t = data['original']\n",
    "                    elif 'text' in data:\n",
    "                        if data['text'] == ' __NOEDITSECTION__':\n",
    "                            continue\n",
    "                        t = data['text']\n",
    "                else:\n",
    "                    t = data\n",
    "                f.write(f'{json.dumps(t)}\\n')\n",
    "                count += 1\n",
    "                if count > 5e6:\n",
    "                    break\n",
    "        else:\n",
    "            data = json.load(fopen)\n",
    "            for t in data:\n",
    "                f.write(f'{json.dumps(t)}\\n')"
   ]
  },
  {
   "cell_type": "code",
   "execution_count": null,
   "metadata": {},
   "outputs": [],
   "source": [
    "f.close()"
   ]
  },
  {
   "cell_type": "code",
   "execution_count": null,
   "metadata": {},
   "outputs": [],
   "source": [
    "!head -n 3 combine-others-v2.jsonl"
   ]
  },
  {
   "cell_type": "code",
   "execution_count": null,
   "metadata": {},
   "outputs": [],
   "source": [
    "!tail -n 3 combine-others-v2.jsonl"
   ]
  },
  {
   "cell_type": "code",
   "execution_count": null,
   "metadata": {},
   "outputs": [],
   "source": []
  }
 ],
 "metadata": {
  "kernelspec": {
   "display_name": "Python 3 (ipykernel)",
   "language": "python",
   "name": "python3"
  },
  "language_info": {
   "codemirror_mode": {
    "name": "ipython",
    "version": 3
   },
   "file_extension": ".py",
   "mimetype": "text/x-python",
   "name": "python",
   "nbconvert_exporter": "python",
   "pygments_lexer": "ipython3",
   "version": "3.8.10"
  }
 },
 "nbformat": 4,
 "nbformat_minor": 4
}
