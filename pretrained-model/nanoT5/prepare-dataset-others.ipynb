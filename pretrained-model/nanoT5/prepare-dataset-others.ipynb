{
 "cells": [
  {
   "cell_type": "code",
   "execution_count": 1,
   "metadata": {},
   "outputs": [],
   "source": [
    "import json\n",
    "from tqdm import tqdm"
   ]
  },
  {
   "cell_type": "code",
   "execution_count": 2,
   "metadata": {},
   "outputs": [],
   "source": [
    "f = open('combine-others.jsonl', 'a')"
   ]
  },
  {
   "cell_type": "code",
   "execution_count": 3,
   "metadata": {},
   "outputs": [],
   "source": [
    "files = [\n",
    "    '/home/husein/ssd3/llm/fb-dedup.jsonl',\n",
    "    '/home/husein/ssd3/llm/carigold.jsonl',\n",
    "    '/home/husein/ssd3/llm/c-cari-com-my.jsonl',\n",
    "    '/home/husein/ssd3/llm/hardwarezone-sg.jsonl',\n",
    "    '/home/husein/ssd3/llm/SeriousKopitiam.json',\n",
    "]"
   ]
  },
  {
   "cell_type": "code",
   "execution_count": 4,
   "metadata": {},
   "outputs": [
    {
     "name": "stdout",
     "output_type": "stream",
     "text": [
      "/home/husein/ssd3/llm/fb-dedup.jsonl\n",
      "/home/husein/ssd3/llm/carigold.jsonl\n",
      "/home/husein/ssd3/llm/c-cari-com-my.jsonl\n",
      "/home/husein/ssd3/llm/hardwarezone-sg.jsonl\n",
      "/home/husein/ssd3/llm/SeriousKopitiam.json\n"
     ]
    }
   ],
   "source": [
    "for file in files:\n",
    "    print(file)\n",
    "    with open(file) as fopen:\n",
    "        if file.endswith('.jsonl'):\n",
    "            count = 0\n",
    "            for l in fopen:\n",
    "                data = json.loads(l)\n",
    "                if isinstance(data, dict):\n",
    "                    if 'original' in data:\n",
    "                        t = data['original']\n",
    "                    elif 'text' in data:\n",
    "                        if data['text'] == ' __NOEDITSECTION__':\n",
    "                            continue\n",
    "                        t = data['text']\n",
    "                else:\n",
    "                    t = data\n",
    "                f.write(f'{json.dumps(t)}\\n')\n",
    "                count += 1\n",
    "                if count > 5e6:\n",
    "                    break\n",
    "        else:\n",
    "            data = json.load(fopen)\n",
    "            for t in data:\n",
    "                f.write(f'{json.dumps(t)}\\n')"
   ]
  },
  {
   "cell_type": "code",
   "execution_count": 5,
   "metadata": {},
   "outputs": [
    {
     "data": {
      "text/plain": [
       "10"
      ]
     },
     "execution_count": 5,
     "metadata": {},
     "output_type": "execute_result"
    }
   ],
   "source": [
    "from glob import glob\n",
    "\n",
    "jawi = glob('/home/husein/ssd3/jawi/wiki-rumi-jawi-*.jsonl')\n",
    "len(jawi)"
   ]
  },
  {
   "cell_type": "code",
   "execution_count": 6,
   "metadata": {},
   "outputs": [],
   "source": [
    "for file in jawi:\n",
    "    with open(file) as fopen:\n",
    "        for l in fopen:\n",
    "            t = json.loads(l)['jawi']\n",
    "            f.write(f'{json.dumps(t)}\\n')"
   ]
  },
  {
   "cell_type": "code",
   "execution_count": 7,
   "metadata": {},
   "outputs": [],
   "source": [
    "f.close()"
   ]
  },
  {
   "cell_type": "code",
   "execution_count": 10,
   "metadata": {},
   "outputs": [
    {
     "name": "stdout",
     "output_type": "stream",
     "text": [
      "\"Adeyyy pooodahhh puiii\"\r\n",
      "\"Bosan la ceramah dia.. dulu sonok gak\"\r\n",
      "\"Memalukan betul.. PM malaysia.\\nDunia sedang memerhatikan Malaysia dipimpin oleh orang yang tercemar dgn kes2 mahkamah... \\n\\nMalaysia PM Picks Graft-Tainted Leader as One of His Deputies https://\\nwww.bloomberg.co\\nm/news/\\narticles/\\n2022-12-02/\\nmalaysia-pm-pick\\ns-graft-tainted\\n-leader-as-one-\\nof-his-deputies\"\r\n"
     ]
    }
   ],
   "source": [
    "!head -n 3 combine-others.jsonl"
   ]
  },
  {
   "cell_type": "code",
   "execution_count": 11,
   "metadata": {},
   "outputs": [
    {
     "name": "stdout",
     "output_type": "stream",
     "text": [
      "\"\\u0628\\u0648\\u0647\\u064a\\u0645\\u064a\\u0627 \\u0633\\u0644\\u062a\\u0646 \\ufd3f\\u0628\\u0647\\u0627\\u0633 \\u0686\\u0632\\u064a\\u0686\\u0647 \\u062c\\u064a\\u0647\\u0648\\u0686\\u0633\\u0643\\u0627\\u064a \\u0643\\u0631\\u0627\\u062c \\ufd3e \\u0645\\u0631\\u0648\\u06a4\\u0627\\u0643\\u0646 \\u0633\\u0628\\u0648\\u0627\\u0647 \\u0648\\u0644\\u0627\\u064a\\u0647 \\u062f \\u0686\\u0632\\u064a\\u0686\\u0647 \\u064a\\u06a0 \\u0645\\u0645\\u064a\\u0644\\u064a\\u0642\\u064a \\u0643\\u0644\\u0648\\u0627\\u0633\\u0646 \\u0648\\u0644\\u0627\\u064a\\u0647 \\u0661\\u0660\\u060c\\u0660\\u0665\\u0666 \\u0642\\u0645\\u0662 \\u062f\\u0627\\u0646 \\u06a4\\u0646\\u062f\\u0648\\u062f\\u0648\\u0642 \\u0666\\u0662\\u0667\\u060c\\u0667\\u0666\\u0666 \\u0627\\u0648\\u0631\\u06a0 \\u06a4\\u062f \\u062a\\u0627\\u0647\\u0648\\u0646 \\ufd3f\\u0662\\u0660\\u0660\\u0666\\ufd3e. \\u0627\\u064a\\u0628\\u0648 \\u0643\\u0648\\u062a\\u0646\\u064a\\u0627 \\u0627\\u064a\\u0627\\u0644\\u0647 \\u0686\\u0633\\u0643\\u064a \\u0628\\u0648\\u062f\\u062c\\u0648\\u06cf\\u064a\\u0686. \\u0628\\u0646\\u062f\\u0627\\u0631\\u0627\\u064a\\u0627 \\u0628\\u0633\\u0631. \\u0648\\u0644\\u0627\\u064a\\u0647 \\u0627\\u064a\\u0646 \\u062a\\u0644\\u0647 \\u062a\\u0631\\u0628\\u0647\\u0627\\u06ac\\u064a \\u0643\\u06a4\\u062f \\u062f\\u0627\\u064a\\u0631\\u0647:\"\r\n",
      "\"\\u0686\\u0633\\u0643\\u064a \\u0628\\u0648\\u062f\\u062c\\u0648\\u06cf\\u064a\\u0686 \\ufd3f; \\u0628\\u0627\\u0633\\u0647\\u0646: \\u0628\\u0648\\u062f\\u062c\\u0686 ; \\u062c\\u0631\\u0645\\u0627\\u0646: \\u0628\\u0648\\u0647\\u0645\\u064a\\u0633\\u0686\\u0647 \\u0628\\u0648\\u062f\\u0648\\u064a\\u0627\\u0633 \\ufd3e \\u0627\\u064a\\u0627\\u0644\\u0647 \\u0633\\u0628\\u0648\\u0627\\u0647 \\u0628\\u0646\\u062f\\u0631 \\u064a\\u06a0 \\u062a\\u0631\\u0644\\u062a\\u0642 \\u062f \\u0633\\u0628\\u0644\\u0647 \\u0633\\u0644\\u062a\\u0646 \\u0686\\u0632\\u064a\\u0686\\u0647. \\u0627\\u064a \\u0645\\u0631\\u0648\\u06a4\\u0627\\u0643\\u0646 \\u0627\\u064a\\u0628\\u0648 \\u0646\\u06ac\\u0631\\u064a \\u062f\\u0627\\u0646 \\u0628\\u0646\\u062f\\u0631 \\u062a\\u0631\\u0628\\u0633\\u0631 \\u062f\\u0627\\u064a\\u0631\\u0647 \\u0628\\u0648\\u0647\\u064a\\u0645\\u064a\\u0627 \\u0633\\u0644\\u062a\\u0646. \\u06a4\\u0646\\u062f\\u0648\\u062f\\u0648\\u0642\\u06bd \\u0628\\u0631\\u062c\\u0648\\u0645\\u0644\\u0647 \\u0669\\u0665\\u060c\\u0660\\u0660\\u0660 \\u0627\\u0648\\u0631\\u06a0 \\u06a4\\u062f \\u062a\\u0627\\u0647\\u0648\\u0646 \\u0662\\u0660\\u0660\\u0668. \\u06ac\\u0627\\u0644\\u0631\\u064a \\u06ac\\u0645\\u0628\\u0631. \\u0644\\u062a;\\u0628\\u0631 \\u06ac\\u062a;\"\r\n",
      "\"\\u0648\\u0644\\u0627\\u064a\\u0647 \\u06a4\\u0644\\u0632\\u064a\\u0646 \\ufd3f\\u0628\\u0647\\u0627\\u0633 \\u0686\\u0632\\u064a\\u0686\\u0647 \\u06a4\\u0644\\u0632\\u064a\\u0646\\u0633\\u0643\\u0627\\u064a \\u0643\\u0631\\u0627\\u062c \\ufd3e \\u0645\\u0631\\u0648\\u06a4\\u0627\\u0643\\u0646 \\u0633\\u0628\\u0648\\u0627\\u0647 \\u062f\\u0627\\u064a\\u0631\\u0647 \\u062f \\u0686\\u0632\\u064a\\u0686\\u0647 \\u064a\\u06a0 \\u0645\\u0645\\u064a\\u0644\\u064a\\u0642\\u064a \\u0643\\u0644\\u0648\\u0627\\u0633\\u0646 \\u0648\\u0644\\u0627\\u064a\\u0647 \\u0667\\u060c\\u0665\\u0666\\u0661 \\u0642\\u0645\\u0662 \\u062f\\u0627\\u0646 \\u06a4\\u0648\\u06a4\\u0648\\u0644\\u0633\\u064a \\u0665\\u0665\\u0661\\u060c\\u0665\\u0662\\u0668 \\u0627\\u0648\\u0631\\u06a0 \\u06a4\\u062f \\ufd3f\\u0662\\u0660\\u0660\\u0666\\ufd3e. \\u0627\\u064a\\u0628\\u0648 \\u0643\\u0648\\u062a\\u0646\\u064a\\u0627 \\u0627\\u064a\\u0627\\u0644\\u0647 \\u06a4\\u0644\\u0632\\u064a\\u0646. \\u06a4\\u0645\\u0628\\u0647\\u0627\\u06ac\\u064a\\u0646 \\u06a4\\u064a\\u0646\\u062a\\u0627\\u062f\\u0628\\u064a\\u0631\\u0627\\u0646. \\u0643\\u0648\\u0645\\u0648\\u0646. \\u0633\\u062c\\u0642 \\u0661 \\u062c\\u0627\\u0646\\u0648\\u0627\\u0631\\u064a \\u0662\\u0660\\u0660\\u0663\\u060c \\u0648\\u0644\\u0627\\u064a\\u0647 \\u0627\\u064a\\u0646 \\u062a\\u0631\\u0628\\u0647\\u0627\\u06ac\\u064a \\u0643\\u06a4\\u062f \\u0661\\u0665 \\u0643\\u0627\\u0648\\u0633\\u0646 \\u06a4\\u0631\\u0628\\u0646\\u062f\\u0631\\u0646\"\r\n"
     ]
    }
   ],
   "source": [
    "!tail -n 3 combine-others.jsonl"
   ]
  },
  {
   "cell_type": "code",
   "execution_count": null,
   "metadata": {},
   "outputs": [],
   "source": []
  }
 ],
 "metadata": {
  "kernelspec": {
   "display_name": "Python 3 (ipykernel)",
   "language": "python",
   "name": "python3"
  },
  "language_info": {
   "codemirror_mode": {
    "name": "ipython",
    "version": 3
   },
   "file_extension": ".py",
   "mimetype": "text/x-python",
   "name": "python",
   "nbconvert_exporter": "python",
   "pygments_lexer": "ipython3",
   "version": "3.8.10"
  }
 },
 "nbformat": 4,
 "nbformat_minor": 4
}
