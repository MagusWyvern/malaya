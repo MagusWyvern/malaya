{
 "cells": [
  {
   "cell_type": "code",
   "execution_count": 1,
   "metadata": {},
   "outputs": [],
   "source": [
    "from transformers import GPT2Tokenizer\n",
    "from transformers import (\n",
    "    AutoTokenizer,\n",
    "    T5ForConditionalGeneration,\n",
    "    AutoConfig,\n",
    ")\n",
    "from tokenizers import AddedToken\n",
    "\n",
    "tokenizer = GPT2Tokenizer('/home/husein/dev/malay-dataset/prepare-llm/32k-vocab.json',\n",
    "             '/home/husein/dev/malay-dataset/prepare-llm/32k-merges.txt')\n",
    "tokenizer_t5 = AutoTokenizer.from_pretrained('google/t5-v1_1-base')\n",
    "additional = []\n",
    "for t in tokenizer_t5.additional_special_tokens:\n",
    "    additional.append(AddedToken(t))\n",
    "tokenizer.add_special_tokens({\"additional_special_tokens\": additional})\n",
    "tokenizer.pad_token = '<s>'"
   ]
  },
  {
   "cell_type": "code",
   "execution_count": 7,
   "metadata": {},
   "outputs": [
    {
     "data": {
      "text/plain": [
       "('./out-small-1.1/tokenizer_config.json',\n",
       " './out-small-1.1/special_tokens_map.json',\n",
       " './out-small-1.1/vocab.json',\n",
       " './out-small-1.1/merges.txt',\n",
       " './out-small-1.1/added_tokens.json')"
      ]
     },
     "execution_count": 7,
     "metadata": {},
     "output_type": "execute_result"
    }
   ],
   "source": [
    "tokenizer.save_pretrained('./out-small-1.1')"
   ]
  },
  {
   "cell_type": "code",
   "execution_count": 11,
   "metadata": {},
   "outputs": [],
   "source": [
    "config = AutoConfig.from_pretrained(\n",
    "    'google/t5-v1_1-base'\n",
    ")\n",
    "config.dropout_rate = 0.0"
   ]
  },
  {
   "cell_type": "code",
   "execution_count": 12,
   "metadata": {},
   "outputs": [],
   "source": [
    "config.num_heads = 8\n",
    "config.num_layers = 6\n",
    "config.d_model = 512\n",
    "config.num_decoder_layers = 6"
   ]
  },
  {
   "cell_type": "code",
   "execution_count": 13,
   "metadata": {},
   "outputs": [],
   "source": [
    "model = T5ForConditionalGeneration(\n",
    "    config,\n",
    ")"
   ]
  },
  {
   "cell_type": "code",
   "execution_count": 14,
   "metadata": {},
   "outputs": [],
   "source": [
    "model.save_pretrained('./out-small-1.1')"
   ]
  },
  {
   "cell_type": "code",
   "execution_count": 15,
   "metadata": {},
   "outputs": [
    {
     "name": "stdout",
     "output_type": "stream",
     "text": [
      "total 343M\r\n",
      "-rw-r--r-- 1 husein husein 2.6K Jul   4 12:48 added_tokens.json\r\n",
      "-rw-r--r-- 1 husein husein  760 Jul   4 12:49 config.json\r\n",
      "-rw-r--r-- 1 husein husein 297K Jul   4 12:48 merges.txt\r\n",
      "-rw-r--r-- 1 husein husein 342M Jul   4 12:49 pytorch_model.bin\r\n",
      "-rw-r--r-- 1 husein husein  15K Jul   4 12:48 special_tokens_map.json\r\n",
      "-rw-r--r-- 1 husein husein  714 Jul   4 12:48 tokenizer_config.json\r\n",
      "-rw-r--r-- 1 husein husein 631K Jul   4 12:48 vocab.json\r\n"
     ]
    }
   ],
   "source": [
    "!ls -lh out-small-1.1"
   ]
  },
  {
   "cell_type": "code",
   "execution_count": null,
   "metadata": {},
   "outputs": [],
   "source": []
  }
 ],
 "metadata": {
  "kernelspec": {
   "display_name": "Python 3 (ipykernel)",
   "language": "python",
   "name": "python3"
  },
  "language_info": {
   "codemirror_mode": {
    "name": "ipython",
    "version": 3
   },
   "file_extension": ".py",
   "mimetype": "text/x-python",
   "name": "python",
   "nbconvert_exporter": "python",
   "pygments_lexer": "ipython3",
   "version": "3.8.10"
  }
 },
 "nbformat": 4,
 "nbformat_minor": 4
}
